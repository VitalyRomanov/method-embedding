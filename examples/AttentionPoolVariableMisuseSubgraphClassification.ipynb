{
 "cells": [
  {
   "cell_type": "markdown",
   "id": "a7ac95e0",
   "metadata": {
    "pycharm": {
     "name": "#%% md\n"
    }
   },
   "source": [
    "## Subgraph Classification with Multi-head attenttion - Variable Misuse\n",
    "\n",
    "The pooling function is made of MULTIHEADATTENTION layers and Max pooling"
   ]
  },
  {
   "cell_type": "code",
   "execution_count": 1,
   "id": "945c3f46",
   "metadata": {
    "cellId": "0pafpqq089hs06imyofj0d8g",
    "execution_id": "9c93dc88-e371-40d6-96b9-6e397dd2d886",
    "pycharm": {
     "is_executing": true,
     "name": "#%%\n"
    }
   },
   "outputs": [],
   "source": [
    "%load_ext autoreload\n",
    "%autoreload 2\n",
    "%load_ext tensorboard"
   ]
  },
  {
   "cell_type": "code",
   "execution_count": 2,
   "id": "ac9ad134",
   "metadata": {
    "cellId": "arfowdprag31hzn6iupup",
    "execution_id": "00cd8bc1-2abf-4d29-9a1a-dbd54d95af4b",
    "pycharm": {
     "name": "#%%\n"
    }
   },
   "outputs": [
    {
     "name": "stderr",
     "output_type": "stream",
     "text": [
      "[16:59:50] /opt/dgl/src/runtime/tensordispatch.cc:43: TensorDispatcher: dlopen failed: libtorch_cuda_cpp.so: cannot open shared object file: No such file or directory\n",
      "Using backend: pytorch\n"
     ]
    }
   ],
   "source": [
    "from random import random\n",
    "\n",
    "from SourceCodeTools.models.training_config import get_config, save_config, load_config\n",
    "from SourceCodeTools.code.data.dataset.Dataset import SourceGraphDataset, filter_dst_by_freq\n",
    "from SourceCodeTools.models.graph.train.sampling_multitask2 import training_procedure, SamplingMultitaskTrainer\n",
    "from SourceCodeTools.models.graph.train.objectives.NodeClassificationObjective import NodeClassifierObjective\n",
    "from SourceCodeTools.models.graph.train.objectives.SubgraphClassifierObjective import SubgraphAbstractObjective, \\\n",
    "    SubgraphClassifierObjective, SubgraphEmbeddingObjective\n",
    "from SourceCodeTools.models.graph.train.utils import get_name, get_model_base\n",
    "from SourceCodeTools.models.graph import RGGAN\n",
    "from SourceCodeTools.tabular.common import compact_property\n",
    "from SourceCodeTools.code.data.file_utils import unpersist\n",
    "\n",
    "import dgl\n",
    "import torch\n",
    "import numpy as np\n",
    "from argparse import Namespace\n",
    "from torch import nn\n",
    "from datetime import datetime\n",
    "from os.path import join\n",
    "from functools import partial"
   ]
  },
  {
   "cell_type": "code",
   "execution_count": 3,
   "id": "4a0b7097-9ef4-4a3e-b0a1-c5c096402e79",
   "metadata": {
    "pycharm": {
     "name": "#%%\n"
    }
   },
   "outputs": [],
   "source": [
    "# !pip install dgl-cu111==0.7.1 -f https://data.dgl.ai/wheels/repo.html"
   ]
  },
  {
   "cell_type": "markdown",
   "id": "16a685b9",
   "metadata": {
    "cellId": "p1vbd2almoe8o4xbjsha2i",
    "execution_id": "3d0d18ed-7a13-49ed-ad66-52e70e501e4b",
    "pycharm": {
     "name": "#%% md\n"
    },
    "tags": []
   },
   "source": [
    "# Prepare parameters and options\n",
    "\n",
    "Full list of options that can be added can be found in `SourceCodeTools/models/training_options.py`. They are ment to be used as arguments for cli trainer. Trainer script can be found in `SourceCodeTools/scripts/train.py`.\n",
    "\n",
    "For the task of subgraph classification the important options are:\n",
    "- `subgraph_partition` is path to subgraph-based train/val/test sets. Storead as Dataframe with subgraph id and partition mask\n",
    "- `subgraph_id_column` is a column is `common_edges` file that stores subgraph id.\n",
    "- For variable misuse task (same will apply to authorship attribution) subgraphs are created for individual functions (files for SCAA). The label is stored in `common_filecontent`."
   ]
  },
  {
   "cell_type": "code",
   "execution_count": 4,
   "id": "5ee84dbf",
   "metadata": {
    "cellId": "x68rr2b8zhv1h55hg0nz",
    "execution_id": "21cdf4d1-5d0c-4d49-872a-ae3dc421d7fb",
    "pycharm": {
     "name": "#%%\n"
    }
   },
   "outputs": [],
   "source": [
    "tokenizer_path = \"sentencepiece_bpe.model\"\n",
    "\n",
    "data_path = \"10_percent_v1\"\n",
    "subgraph_partition = join(data_path, \"partition.json.bz2\")\n",
    "filecontent_path = join(data_path, \"common_filecontent.json.bz2\")"
   ]
  },
  {
   "cell_type": "markdown",
   "id": "03602245",
   "metadata": {
    "cellId": "kdrwgb8pr4xkmb9fg2l7k",
    "execution_id": "606dbee0-12d0-4672-8fcb-987f08726c3c",
    "pycharm": {
     "name": "#%% md\n"
    }
   },
   "source": [
    "# Data distribution"
   ]
  },
  {
   "cell_type": "code",
   "execution_count": 5,
   "id": "2c0f6997",
   "metadata": {
    "cellId": "u8m5wmsmtsc4jlys43g8w",
    "execution_id": "321c3351-6190-4edb-bf12-3ad445249cb7",
    "pycharm": {
     "name": "#%%\n"
    }
   },
   "outputs": [
    {
     "name": "stdout",
     "output_type": "stream",
     "text": [
      "train\n",
      "Correct            35036\n",
      "Variable misuse    35036\n",
      "Name: label, dtype: int64\n",
      "\n",
      "dev\n",
      "Variable misuse    3754\n",
      "Correct            3754\n",
      "Name: label, dtype: int64\n",
      "\n",
      "eval\n",
      "Variable misuse    18787\n",
      "Correct            18787\n",
      "Name: label, dtype: int64\n",
      "\n"
     ]
    }
   ],
   "source": [
    "labels = unpersist(filecontent_path)\n",
    "for part in labels['partition'].unique():\n",
    "    print(part)\n",
    "    print(labels.query('partition == @part')['label'].value_counts())\n",
    "    print()"
   ]
  },
  {
   "cell_type": "markdown",
   "id": "6c48e8b9",
   "metadata": {
    "cellId": "26enx0epdvd0ao7dmpz261r",
    "execution_id": "a29f9a80-f129-40c6-9be6-f0d21d0357b6",
    "pycharm": {
     "name": "#%% md\n"
    }
   },
   "source": [
    "# Config"
   ]
  },
  {
   "cell_type": "code",
   "execution_count": 6,
   "id": "e01df189",
   "metadata": {
    "cellId": "ka4x47vr7cpgilgjcoyan",
    "execution_id": "2229885e-66a6-4bed-b63d-75c212e81c55",
    "pycharm": {
     "name": "#%%\n"
    }
   },
   "outputs": [],
   "source": [
    "config = get_config(\n",
    "    subgraph_id_column=\"file_id\",\n",
    "    data_path=data_path,\n",
    "    model_output_dir=data_path,\n",
    "    subgraph_partition=subgraph_partition,\n",
    "    tokenizer_path=tokenizer_path,\n",
    "    objectives=\"subgraph_clf\",\n",
    "    #use_edge_types=True,\n",
    "    gpu=0,\n",
    "    epochs=10, \n",
    "    \n",
    "    train_frac=0.8,\n",
    "    random_seed=42, \n",
    "    \n",
    "    # model parameters\n",
    "    elem_emb_size=300,\n",
    "    node_emb_size=300,                  # *** dimensionality of node embeddings\n",
    "    h_dim=300,                           # *** should match to node dimensionality\n",
    "    n_layers=5,\n",
    "    dropout=0.1,\n",
    "    activation=\"relu\"\n",
    ")"
   ]
  },
  {
   "cell_type": "code",
   "execution_count": 7,
   "id": "421b4853",
   "metadata": {
    "cellId": "f99ac2dk6fa0qpceq2iffyb",
    "execution_id": "a959159a-7369-4bb0-b829-2853f59e220a",
    "pycharm": {
     "name": "#%%\n"
    }
   },
   "outputs": [],
   "source": [
    "save_config(config, \"attention_pool_var_misuse_subgraph.yaml\")"
   ]
  },
  {
   "cell_type": "markdown",
   "id": "4632d17b",
   "metadata": {
    "cellId": "zwg2nsy77lke2zhlkf3wk8",
    "execution_id": "5d3def2b-3973-476a-a885-db67b807baf0",
    "pycharm": {
     "name": "#%% md\n"
    }
   },
   "source": [
    "# Create Dataset"
   ]
  },
  {
   "cell_type": "code",
   "execution_count": 8,
   "id": "7d6c34be",
   "metadata": {
    "cellId": "3842zfzh6jp2oh0p47hb3g",
    "execution_id": "4952a18f-6dca-4faf-befe-7d54f038c875",
    "pycharm": {
     "name": "#%%\n"
    }
   },
   "outputs": [
    {
     "name": "stderr",
     "output_type": "stream",
     "text": [
      "WARNING:root:Random state for splitting dataset is fixed\n"
     ]
    }
   ],
   "source": [
    "dataset = SourceGraphDataset(\n",
    "    **{**config[\"DATASET\"], **config[\"TOKENIZER\"]}\n",
    ")"
   ]
  },
  {
   "cell_type": "markdown",
   "id": "6691f60b",
   "metadata": {
    "cellId": "w8o2y1jvsmn3k5qlnmp8d",
    "execution_id": "459c0b0a-dac3-4c5b-8aa2-9010edf2f7da",
    "pycharm": {
     "name": "#%% md\n"
    }
   },
   "source": [
    "# Declare target loading function (labels)"
   ]
  },
  {
   "cell_type": "code",
   "execution_count": 9,
   "id": "61ed7820",
   "metadata": {
    "cellId": "onv33y2vt60ier6qlfspo8",
    "execution_id": "024592b5-731a-4463-ac76-b5a31771b8f9",
    "pycharm": {
     "name": "#%%\n"
    },
    "tags": []
   },
   "outputs": [],
   "source": [
    "def load_labels():\n",
    "    filecontent = unpersist(filecontent_path)\n",
    "    return filecontent[[\"id\", \"label\"]].rename({\"id\": \"src\", \"label\": \"dst\"}, axis=1)"
   ]
  },
  {
   "cell_type": "markdown",
   "id": "c0d1ef4c",
   "metadata": {
    "cellId": "3979yjouckix7kxdp4fz9",
    "execution_id": "22ff1831-62fd-4137-af18-099336d5acb7",
    "pycharm": {
     "name": "#%% md\n"
    }
   },
   "source": [
    "One or several objectives could be used"
   ]
  },
  {
   "cell_type": "code",
   "execution_count": 10,
   "id": "4b773ae7",
   "metadata": {
    "cellId": "vruvsg8femgvuop8tdmqkq",
    "execution_id": "aaa60b33-deb4-49de-90ce-629f07a42ad2",
    "pycharm": {
     "name": "#%%\n"
    }
   },
   "outputs": [],
   "source": [
    "from SourceCodeTools.models.graph.train.objectives.SubgraphClassifierObjective import SubgraphAbstractObjective, \\\n",
    "    SubgraphClassifierObjective, SubgraphEmbeddingObjective, SubgraphClassifierObjectiveWithAttentionPooling\n",
    "\n",
    "class Trainer(SamplingMultitaskTrainer):\n",
    "    def create_objectives(self, dataset, tokenizer_path):\n",
    "        self.objectives = nn.ModuleList()\n",
    "        \n",
    "        self.objectives.append(\n",
    "            self._create_subgraph_objective(\n",
    "                objective_name=\"VariableMisuseClfWithAtt_nb\",\n",
    "                objective_class=SubgraphClassifierObjectiveWithAttentionPooling,\n",
    "                dataset=dataset,\n",
    "                tokenizer_path=tokenizer_path,\n",
    "                labels_fn=load_labels,\n",
    "            )\n",
    "        )"
   ]
  },
  {
   "cell_type": "markdown",
   "id": "e59362cf",
   "metadata": {
    "pycharm": {
     "name": "#%% md\n"
    }
   },
   "source": [
    "## Launch Tensorboard"
   ]
  },
  {
   "cell_type": "code",
   "execution_count": 11,
   "id": "b303b8c4",
   "metadata": {
    "cellId": "ehoa1wxbuaq9d1dczkar",
    "execution_id": "59b5e2e8-a49d-45c8-8359-3cdd0db6c991",
    "pycharm": {
     "name": "#%%\n"
    }
   },
   "outputs": [],
   "source": [
    "# %tensorboard --logdir './2_percent_v1'"
   ]
  },
  {
   "cell_type": "markdown",
   "id": "a8748eff",
   "metadata": {
    "pycharm": {
     "name": "#%% md\n"
    }
   },
   "source": [
    "## Start model training and Evaluation"
   ]
  },
  {
   "cell_type": "code",
   "execution_count": null,
   "id": "5eeccc3c",
   "metadata": {
    "cellId": "ur66zw67xepzwpxd3en2z",
    "execution_id": "39cce914-8617-4c66-aa1f-d3b744f8f0d7",
    "pycharm": {
     "name": "#%%\n"
    }
   },
   "outputs": [
    {
     "name": "stdout",
     "output_type": "stream",
     "text": [
      "Number of nodes 4900346\n"
     ]
    },
    {
     "name": "stderr",
     "output_type": "stream",
     "text": [
      "2022-09-12 17:33:28.413430: I tensorflow/stream_executor/platform/default/dso_loader.cc:49] Successfully opened dynamic library libcudart.so.11.0\n",
      "Epoch 0: 100%|████████████████████████████████| 548/548 [40:03<00:00,  4.39s/it]\n",
      "Epoch 1:   0%|                                          | 0/548 [00:00<?, ?it/s]"
     ]
    },
    {
     "name": "stdout",
     "output_type": "stream",
     "text": [
      "Epoch: 0, Time: 3532 s\n",
      "{'Accuracy/test/VariableMisuseClfWithAtt_nb_': 0.5625037961613217,\n",
      " 'Accuracy/train/VariableMisuseClfWithAtt_nb_': 0.5892857142857143,\n",
      " 'Accuracy/train_avg/VariableMisuseClfWithAtt_nb': 0.5300870861574557,\n",
      " 'Accuracy/val/VariableMisuseClfWithAtt_nb_': 0.5634395177562551,\n",
      " 'Loss/test/VariableMisuseClfWithAtt_nb_': 0.6803851062748708,\n",
      " 'Loss/train/VariableMisuseClfWithAtt_nb_': 0.6771707534790039,\n",
      " 'Loss/train_avg/VariableMisuseClfWithAtt_nb': 0.6900643697620308,\n",
      " 'Loss/val/VariableMisuseClfWithAtt_nb_': 0.6796820163726807,\n",
      " 'grad_norm/train/_': 0.0807687588586647}\n"
     ]
    },
    {
     "name": "stderr",
     "output_type": "stream",
     "text": [
      "Epoch 1: 100%|████████████████████████████████| 548/548 [39:25<00:00,  4.32s/it]\n",
      "Epoch 2:   0%|                                          | 0/548 [00:00<?, ?it/s]"
     ]
    },
    {
     "name": "stdout",
     "output_type": "stream",
     "text": [
      "Epoch: 1, Time: 3517 s\n",
      "{'Accuracy/test/VariableMisuseClfWithAtt_nb_': 0.5,\n",
      " 'Accuracy/train/VariableMisuseClfWithAtt_nb_': 0.5,\n",
      " 'Accuracy/train_avg/VariableMisuseClfWithAtt_nb': 0.5409015739051095,\n",
      " 'Accuracy/val/VariableMisuseClfWithAtt_nb_': 0.5,\n",
      " 'Loss/test/VariableMisuseClfWithAtt_nb_': 0.6931448568697689,\n",
      " 'Loss/train/VariableMisuseClfWithAtt_nb_': 0.693170964717865,\n",
      " 'Loss/train_avg/VariableMisuseClfWithAtt_nb': 0.6873976933042498,\n",
      " 'Loss/val/VariableMisuseClfWithAtt_nb_': 0.6931439779572568,\n",
      " 'grad_norm/train/_': 0.008150359573924433}\n"
     ]
    },
    {
     "name": "stderr",
     "output_type": "stream",
     "text": [
      "Epoch 2: 100%|████████████████████████████████| 548/548 [50:11<00:00,  5.50s/it]\n",
      "Epoch 3:   0%|                                          | 0/548 [00:00<?, ?it/s]"
     ]
    },
    {
     "name": "stdout",
     "output_type": "stream",
     "text": [
      "Epoch: 2, Time: 4410 s\n",
      "{'Accuracy/test/VariableMisuseClfWithAtt_nb_': 0.5331761722546161,\n",
      " 'Accuracy/train/VariableMisuseClfWithAtt_nb_': 0.5714285714285714,\n",
      " 'Accuracy/train_avg/VariableMisuseClfWithAtt_nb': 0.5210872327945777,\n",
      " 'Accuracy/val/VariableMisuseClfWithAtt_nb_': 0.5311112792574657,\n",
      " 'Loss/test/VariableMisuseClfWithAtt_nb_': 0.6928909866988253,\n",
      " 'Loss/train/VariableMisuseClfWithAtt_nb_': 0.693027913570404,\n",
      " 'Loss/train_avg/VariableMisuseClfWithAtt_nb': 0.6906872321001805,\n",
      " 'Loss/val/VariableMisuseClfWithAtt_nb_': 0.6929105429326073,\n",
      " 'grad_norm/train/_': 0.0074915761857606376}\n"
     ]
    },
    {
     "name": "stderr",
     "output_type": "stream",
     "text": [
      "Epoch 3: 100%|████████████████████████████████| 548/548 [51:53<00:00,  5.68s/it]\n",
      "Epoch 4:   0%|                                          | 0/548 [00:00<?, ?it/s]"
     ]
    },
    {
     "name": "stdout",
     "output_type": "stream",
     "text": [
      "Epoch: 3, Time: 4495 s\n",
      "{'Accuracy/test/VariableMisuseClfWithAtt_nb_': 0.6131962159863945,\n",
      " 'Accuracy/train/VariableMisuseClfWithAtt_nb_': 0.5535714285714286,\n",
      " 'Accuracy/train_avg/VariableMisuseClfWithAtt_nb': 0.5390176942127216,\n",
      " 'Accuracy/val/VariableMisuseClfWithAtt_nb_': 0.6145707223567394,\n",
      " 'Loss/test/VariableMisuseClfWithAtt_nb_': 0.644416669599053,\n",
      " 'Loss/train/VariableMisuseClfWithAtt_nb_': 0.6513814330101013,\n",
      " 'Loss/train_avg/VariableMisuseClfWithAtt_nb': 0.6834030489634423,\n",
      " 'Loss/val/VariableMisuseClfWithAtt_nb_': 0.643177979073282,\n",
      " 'grad_norm/train/_': 0.2397460829371259}\n"
     ]
    },
    {
     "name": "stderr",
     "output_type": "stream",
     "text": [
      "Epoch 4: 100%|████████████████████████████████| 548/548 [51:20<00:00,  5.62s/it]\n",
      "Epoch 5:   0%|                                          | 0/548 [00:00<?, ?it/s]"
     ]
    },
    {
     "name": "stdout",
     "output_type": "stream",
     "text": [
      "Epoch: 4, Time: 4512 s\n",
      "{'Accuracy/test/VariableMisuseClfWithAtt_nb_': 0.6852526724975705,\n",
      " 'Accuracy/train/VariableMisuseClfWithAtt_nb_': 0.625,\n",
      " 'Accuracy/train_avg/VariableMisuseClfWithAtt_nb': 0.6474965784671532,\n",
      " 'Accuracy/val/VariableMisuseClfWithAtt_nb_': 0.6821151129943502,\n",
      " 'Loss/test/VariableMisuseClfWithAtt_nb_': 0.568118042990464,\n",
      " 'Loss/train/VariableMisuseClfWithAtt_nb_': 0.6276692152023315,\n",
      " 'Loss/train_avg/VariableMisuseClfWithAtt_nb': 0.6114697075673263,\n",
      " 'Loss/val/VariableMisuseClfWithAtt_nb_': 0.5677267813076408,\n",
      " 'grad_norm/train/_': 0.39628596261252086}\n"
     ]
    },
    {
     "name": "stderr",
     "output_type": "stream",
     "text": [
      "Epoch 5: 100%|████████████████████████████████| 548/548 [51:44<00:00,  5.66s/it]\n",
      "Epoch 6:   0%|                                          | 0/548 [00:00<?, ?it/s]"
     ]
    },
    {
     "name": "stdout",
     "output_type": "stream",
     "text": [
      "Epoch: 5, Time: 4499 s\n",
      "{'Accuracy/test/VariableMisuseClfWithAtt_nb_': 0.7158914905247814,\n",
      " 'Accuracy/train/VariableMisuseClfWithAtt_nb_': 0.7321428571428571,\n",
      " 'Accuracy/train_avg/VariableMisuseClfWithAtt_nb': 0.6998134449947861,\n",
      " 'Accuracy/val/VariableMisuseClfWithAtt_nb_': 0.7207299233252623,\n",
      " 'Loss/test/VariableMisuseClfWithAtt_nb_': 0.5248949602753127,\n",
      " 'Loss/train/VariableMisuseClfWithAtt_nb_': 0.5404728651046753,\n",
      " 'Loss/train_avg/VariableMisuseClfWithAtt_nb': 0.5508423704300484,\n",
      " 'Loss/val/VariableMisuseClfWithAtt_nb_': 0.5222585842771045,\n",
      " 'grad_norm/train/_': 0.35842393183275356}\n"
     ]
    },
    {
     "name": "stderr",
     "output_type": "stream",
     "text": [
      "Epoch 6: 100%|████████████████████████████████| 548/548 [51:48<00:00,  5.67s/it]\n",
      "Epoch 7:   0%|                                          | 0/548 [00:00<?, ?it/s]"
     ]
    },
    {
     "name": "stdout",
     "output_type": "stream",
     "text": [
      "Epoch: 6, Time: 4488 s\n",
      "{'Accuracy/test/VariableMisuseClfWithAtt_nb_': 0.7378629130223517,\n",
      " 'Accuracy/train/VariableMisuseClfWithAtt_nb_': 0.7321428571428571,\n",
      " 'Accuracy/train_avg/VariableMisuseClfWithAtt_nb': 0.725104275286757,\n",
      " 'Accuracy/val/VariableMisuseClfWithAtt_nb_': 0.7391293381759483,\n",
      " 'Loss/test/VariableMisuseClfWithAtt_nb_': 0.5057323538527196,\n",
      " 'Loss/train/VariableMisuseClfWithAtt_nb_': 0.574160635471344,\n",
      " 'Loss/train_avg/VariableMisuseClfWithAtt_nb': 0.5138700213419259,\n",
      " 'Loss/val/VariableMisuseClfWithAtt_nb_': 0.5062567364361327,\n",
      " 'grad_norm/train/_': 0.6813864332111262}\n"
     ]
    },
    {
     "name": "stderr",
     "output_type": "stream",
     "text": [
      "Epoch 7: 100%|████████████████████████████████| 548/548 [51:28<00:00,  5.64s/it]\n",
      "Epoch 8:   0%|                                          | 0/548 [00:00<?, ?it/s]"
     ]
    },
    {
     "name": "stdout",
     "output_type": "stream",
     "text": [
      "Epoch: 7, Time: 4425 s\n",
      "{'Accuracy/test/VariableMisuseClfWithAtt_nb_': 0.746096027696793,\n",
      " 'Accuracy/train/VariableMisuseClfWithAtt_nb_': 0.75,\n",
      " 'Accuracy/train_avg/VariableMisuseClfWithAtt_nb': 0.7395785812043796,\n",
      " 'Accuracy/val/VariableMisuseClfWithAtt_nb_': 0.7512674031476997,\n",
      " 'Loss/test/VariableMisuseClfWithAtt_nb_': 0.48807985594077985,\n",
      " 'Loss/train/VariableMisuseClfWithAtt_nb_': 0.5581600069999695,\n",
      " 'Loss/train_avg/VariableMisuseClfWithAtt_nb': 0.4904422107404166,\n",
      " 'Loss/val/VariableMisuseClfWithAtt_nb_': 0.4902320372856269,\n",
      " 'grad_norm/train/_': 0.8128292223058166}\n"
     ]
    },
    {
     "name": "stderr",
     "output_type": "stream",
     "text": [
      "Epoch 8: 100%|████████████████████████████████| 548/548 [47:21<00:00,  5.18s/it]\n",
      "Epoch 9:   0%|                                          | 0/548 [00:00<?, ?it/s]"
     ]
    },
    {
     "name": "stdout",
     "output_type": "stream",
     "text": [
      "Epoch: 8, Time: 4117 s\n",
      "{'Accuracy/test/VariableMisuseClfWithAtt_nb_': 0.7549494351311953,\n",
      " 'Accuracy/train/VariableMisuseClfWithAtt_nb_': 0.7142857142857143,\n",
      " 'Accuracy/train_avg/VariableMisuseClfWithAtt_nb': 0.755480562434828,\n",
      " 'Accuracy/val/VariableMisuseClfWithAtt_nb_': 0.7555614406779662,\n",
      " 'Loss/test/VariableMisuseClfWithAtt_nb_': 0.487361839535285,\n",
      " 'Loss/train/VariableMisuseClfWithAtt_nb_': 0.5060354471206665,\n",
      " 'Loss/train_avg/VariableMisuseClfWithAtt_nb': 0.4655713038722964,\n",
      " 'Loss/val/VariableMisuseClfWithAtt_nb_': 0.49545697691076895,\n",
      " 'grad_norm/train/_': 0.6213909322038}\n"
     ]
    },
    {
     "name": "stderr",
     "output_type": "stream",
     "text": [
      "Epoch 9: 100%|████████████████████████████████| 548/548 [47:16<00:00,  5.18s/it]\n"
     ]
    },
    {
     "name": "stdout",
     "output_type": "stream",
     "text": [
      "Epoch: 9, Time: 4120 s\n",
      "{'Accuracy/test/VariableMisuseClfWithAtt_nb_': 0.7539442116132168,\n",
      " 'Accuracy/train/VariableMisuseClfWithAtt_nb_': 0.7321428571428571,\n",
      " 'Accuracy/train_avg/VariableMisuseClfWithAtt_nb': 0.7681443072210635,\n",
      " 'Accuracy/val/VariableMisuseClfWithAtt_nb_': 0.7520555891848264,\n",
      " 'Loss/test/VariableMisuseClfWithAtt_nb_': 0.5051959086032141,\n",
      " 'Loss/train/VariableMisuseClfWithAtt_nb_': 0.49475106596946716,\n",
      " 'Loss/train_avg/VariableMisuseClfWithAtt_nb': 0.44719680589045924,\n",
      " 'Loss/val/VariableMisuseClfWithAtt_nb_': 0.5124638792821916,\n",
      " 'grad_norm/train/_': 1.2542979829262497}\n"
     ]
    }
   ],
   "source": [
    "training_procedure(\n",
    "    dataset, \n",
    "    model_name=RGGAN, \n",
    "    model_params=config[\"MODEL\"],\n",
    "    trainer_params=config[\"TRAINING\"],\n",
    "    model_base_path=get_model_base(config[\"TRAINING\"], get_name(RGGAN, str(datetime.now()))),\n",
    "    trainer=Trainer\n",
    ")"
   ]
  },
  {
   "cell_type": "code",
   "execution_count": 14,
   "id": "ba4a7f21",
   "metadata": {
    "collapsed": false,
    "jupyter": {
     "outputs_hidden": false
    },
    "pycharm": {
     "name": "#%%\n"
    }
   },
   "outputs": [
    {
     "name": "stdout",
     "output_type": "stream",
     "text": [
      "Tue Sep 13 10:35:57 2022       \n",
      "+-----------------------------------------------------------------------------+\n",
      "| NVIDIA-SMI 450.102.04   Driver Version: 450.102.04   CUDA Version: 11.0     |\n",
      "|-------------------------------+----------------------+----------------------+\n",
      "| GPU  Name        Persistence-M| Bus-Id        Disp.A | Volatile Uncorr. ECC |\n",
      "| Fan  Temp  Perf  Pwr:Usage/Cap|         Memory-Usage | GPU-Util  Compute M. |\n",
      "|                               |                      |               MIG M. |\n",
      "|===============================+======================+======================|\n",
      "|   0  Tesla V100-SXM2...  Off  | 00000000:07:00.0 Off |                    0 |\n",
      "| N/A   38C    P0    60W / 300W |  19934MiB / 32510MiB |      0%      Default |\n",
      "|                               |                      |                  N/A |\n",
      "+-------------------------------+----------------------+----------------------+\n",
      "                                                                               \n",
      "+-----------------------------------------------------------------------------+\n",
      "| Processes:                                                                  |\n",
      "|  GPU   GI   CI        PID   Type   Process name                  GPU Memory |\n",
      "|        ID   ID                                                   Usage      |\n",
      "|=============================================================================|\n",
      "+-----------------------------------------------------------------------------+\n"
     ]
    }
   ],
   "source": [
    "!nvidia-smi"
   ]
  },
  {
   "cell_type": "code",
   "execution_count": 16,
   "id": "5c2cb26b-49b6-473a-b4a4-df34a90de614",
   "metadata": {},
   "outputs": [
    {
     "ename": "AttributeError",
     "evalue": "'dict' object has no attribute 'save'",
     "output_type": "error",
     "traceback": [
      "\u001b[0;31m---------------------------------------------------------------------------\u001b[0m",
      "\u001b[0;31mAttributeError\u001b[0m                            Traceback (most recent call last)",
      "Input \u001b[0;32mIn [16]\u001b[0m, in \u001b[0;36m<cell line: 1>\u001b[0;34m()\u001b[0m\n\u001b[0;32m----> 1\u001b[0m \u001b[43mconfig\u001b[49m\u001b[38;5;241;43m.\u001b[39;49m\u001b[43msave\u001b[49m\n",
      "\u001b[0;31mAttributeError\u001b[0m: 'dict' object has no attribute 'save'"
     ]
    }
   ],
   "source": [
    "config.save"
   ]
  },
  {
   "cell_type": "code",
   "execution_count": null,
   "id": "b841da3d-44c0-464f-9b33-7c28b96e34fd",
   "metadata": {},
   "outputs": [],
   "source": []
  }
 ],
 "metadata": {
  "kernelspec": {
   "display_name": "Python [conda env:SourceCodeTools]",
   "language": "python",
   "name": "conda-env-SourceCodeTools-py"
  },
  "language_info": {
   "codemirror_mode": {
    "name": "ipython",
    "version": 3
   },
   "file_extension": ".py",
   "mimetype": "text/x-python",
   "name": "python",
   "nbconvert_exporter": "python",
   "pygments_lexer": "ipython3",
   "version": "3.8.13"
  },
  "notebookId": "0b349f50-6796-4a42-8a61-23bcf9f52520",
  "notebookPath": "method-embedding/examples/Subgraph Classification.ipynb"
 },
 "nbformat": 4,
 "nbformat_minor": 5
}

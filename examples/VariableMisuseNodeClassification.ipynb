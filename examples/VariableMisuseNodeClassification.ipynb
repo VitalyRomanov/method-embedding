{
 "cells": [
  {
   "cell_type": "markdown",
   "id": "d777133a",
   "metadata": {
    "cellId": "m78tog15lbpxiveuiimf5a",
    "execution_id": "1d85d7e2-c710-4d94-81bf-be369d999524",
    "pycharm": {
     "name": "#%% md\n"
    }
   },
   "source": [
    "# Variable misuse detection\n",
    "\n",
    "VarMisuse at node level"
   ]
  },
  {
   "cell_type": "code",
   "execution_count": 1,
   "id": "e177fbaa",
   "metadata": {
    "cellId": "7chovcd1n2pbd24n3juakw",
    "execution_id": "c32e0a38-e69b-45e2-b1ff-dbf0901af534",
    "pycharm": {
     "name": "#%%\n"
    }
   },
   "outputs": [],
   "source": [
    "%load_ext autoreload\n",
    "%autoreload 2\n",
    "%load_ext tensorboard"
   ]
  },
  {
   "cell_type": "code",
   "execution_count": 2,
   "id": "6d8e649f",
   "metadata": {
    "cellId": "9pcohjvr41m1gwdbllxu5p",
    "execution_id": "6abd40bc-1ef8-4c9c-8e27-7a7d25dcdaa1",
    "pycharm": {
     "name": "#%%\n"
    }
   },
   "outputs": [],
   "source": [
    "#!g1.1\n",
    "# %pip install dgl-cu113 dglgo -f https://data.dgl.ai/wheels/repo.html"
   ]
  },
  {
   "cell_type": "code",
   "execution_count": 3,
   "id": "0ab53b30",
   "metadata": {
    "cellId": "9a2l5g300ri7o2irqhxr1",
    "execution_id": "7f208c6e-ba1f-426a-8cc6-7b4496ec15ac",
    "pycharm": {
     "name": "#%%\n"
    }
   },
   "outputs": [
    {
     "name": "stderr",
     "output_type": "stream",
     "text": [
      "Using backend: pytorch\n"
     ]
    }
   ],
   "source": [
    "#!g1.1\n",
    "from random import random\n",
    "\n",
    "from SourceCodeTools.models.training_config import get_config, save_config, load_config\n",
    "from SourceCodeTools.code.data.dataset.Dataset import SourceGraphDataset, filter_dst_by_freq\n",
    "from SourceCodeTools.models.graph.train.sampling_multitask2 import training_procedure, SamplingMultitaskTrainer\n",
    "from SourceCodeTools.models.graph.train.objectives.NodeClassificationObjective import NodeClassifierObjective\n",
    "from SourceCodeTools.models.graph.train.utils import get_name, get_model_base\n",
    "from SourceCodeTools.models.graph import RGGAN\n",
    "from SourceCodeTools.tabular.common import compact_property\n",
    "from SourceCodeTools.code.data.file_utils import unpersist\n",
    "\n",
    "import dgl\n",
    "import torch\n",
    "import numpy as np\n",
    "import pandas as pd\n",
    "from torch import nn\n",
    "from datetime import datetime"
   ]
  },
  {
   "cell_type": "markdown",
   "id": "ad77fbda",
   "metadata": {
    "cellId": "g9tiww3zd86nnak57q3n4j",
    "execution_id": "953ce16f-c570-4981-b93b-afc1ec495667",
    "pycharm": {
     "name": "#%% md\n"
    }
   },
   "source": [
    "# Prepare parameters and options\n",
    "\n",
    "Full list of options that can be added can be found in `SourceCodeTools/models/training_options.py`. They are ment to be used as arguments for cli trainer. Trainer script can be found in `SourceCodeTools/scripts/train.py`.\n",
    "\n",
    "There are a lot of parameters. Ones that might be of interest are marked with `***`."
   ]
  },
  {
   "cell_type": "code",
   "execution_count": 4,
   "id": "7f990ba2",
   "metadata": {
    "cellId": "j0alxbc2u5cevzlq4hcne",
    "execution_id": "e8a42e85-4965-4057-86cd-67d8db7d3a95",
    "pycharm": {
     "name": "#%%\n"
    }
   },
   "outputs": [],
   "source": [
    "#!g1.1\n",
    "config = get_config(\n",
    "    # tokenizer\n",
    "    tokenizer_path=\"sentencepiece_bpe.model\", # *** path to sentencepiece model\n",
    "    \n",
    "    # dataset parameters\n",
    "    data_path=\"10_percent_v1\",             # *** path to node type\n",
    "    use_node_types=False,                # node types currently not supported\n",
    "    use_edge_types=False,                 # whether to use edge types\n",
    "    filter_edges=None,                   # None or list of edge type names\n",
    "    self_loops=False,                    # whether to use self loops\n",
    "    train_frac=0.8,                      # *** fraction of nodes to use for training\n",
    "    random_seed=42,                      # random seed for splitting dataset int o train test validation\n",
    "    min_count_for_objectives=5,          # *** minimum frequency of targets\n",
    "    no_global_edges=False,               # remove global edges\n",
    "    remove_reverse=False,                # remove reverse edges\n",
    "    custom_reverse=None,                 # None or list of edges, for which reverse edges should be created (use together with `remove_reverse`)\n",
    "    \n",
    "    # training parameters\n",
    "    model_output_dir=\"10_percent_v1\",      # *** directory to save checkpoints and training data\n",
    "    batch_size=256,                     # *** \n",
    "    sampling_neighbourhood_size=10,      # number of dependencies to sample for each node\n",
    "    neg_sampling_factor=1,               # *** number of negative samples for each positive sample\n",
    "    epochs=10,                           # *** number of epochs\n",
    "    elem_emb_size=300,                   # *** dimensionality of target embeddings (for node name prediction)\n",
    "    pretraining_phase=0,                 # number of epochs for pretraining\n",
    "    embedding_table_size=200000,         # *** embedding table size for subwords\n",
    "    save_checkpoints=False,              # set to False if checkpoints are not needed\n",
    "    save_each_epoch=False,               # save each epoch, useful in case of studying model behavior\n",
    "    measure_scores=True,                 # *** measure ranking scores during evaluation\n",
    "    dilate_scores=1,                   # downsampling factor for measuring scores to make evaluation faster\n",
    "    objectives=\"node_clf\",               # type of objective\n",
    "    force_w2v_ns=True,                   # negative sampling strategy\n",
    "    gpu=-1,                              # gpuid\n",
    "    restore_state=False,\n",
    "    pretrained=None,\n",
    "    \n",
    "    # model parameters\n",
    "    node_emb_size=300,                   # *** dimensionality of node embeddings\n",
    "    h_dim=300,                           # *** should match to node dimensionality\n",
    "    n_layers=3,\n",
    "    num_bases=10,                        # number of bases for computing parmetwer weights for different edge types\n",
    "    dropout=0.1,                         # *** \n",
    "    use_self_loop=True,                  #\n",
    "    activation=\"tanh\",                   # *** \n",
    "    learning_rate=3e-3,                  # *** \n",
    "    use_gcn_checkpoint=True,\n",
    "    use_att_checkpoint=True,\n",
    "    use_gru_checkpoint=True\n",
    ")"
   ]
  },
  {
   "cell_type": "code",
   "execution_count": 5,
   "id": "06a71f12",
   "metadata": {
    "cellId": "lzw7yyqpk50z9u7wcbaqc",
    "execution_id": "1309304e-abda-4115-846f-2eee4c19fb17",
    "pycharm": {
     "name": "#%%\n"
    }
   },
   "outputs": [
    {
     "data": {
      "text/plain": [
       "{'DATASET': {'custom_reverse': None,\n",
       "  'data_path': '10_percent_v1',\n",
       "  'filter_edges': None,\n",
       "  'min_count_for_objectives': 5,\n",
       "  'no_global_edges': False,\n",
       "  'random_seed': 42,\n",
       "  'remove_reverse': False,\n",
       "  'restricted_id_pool': None,\n",
       "  'self_loops': False,\n",
       "  'subgraph_id_column': 'mentioned_in',\n",
       "  'subgraph_partition': None,\n",
       "  'train_frac': 0.8,\n",
       "  'use_edge_types': False,\n",
       "  'use_node_types': False},\n",
       " 'MODEL': {'activation': 'tanh',\n",
       "  'dropout': 0.1,\n",
       "  'h_dim': 300,\n",
       "  'n_layers': 3,\n",
       "  'node_emb_size': 300,\n",
       "  'num_bases': 10,\n",
       "  'use_att_checkpoint': True,\n",
       "  'use_gcn_checkpoint': True,\n",
       "  'use_gru_checkpoint': True,\n",
       "  'use_self_loop': True},\n",
       " 'TOKENIZER': {'tokenizer_path': 'sentencepiece_bpe.model'},\n",
       " 'TRAINING': {'batch_size': 256,\n",
       "  'dilate_scores': 1,\n",
       "  'early_stopping': False,\n",
       "  'early_stopping_tolerance': 20,\n",
       "  'elem_emb_size': 300,\n",
       "  'embedding_table_size': 200000,\n",
       "  'epochs': 10,\n",
       "  'external_dataset': None,\n",
       "  'force_w2v_ns': True,\n",
       "  'gpu': -1,\n",
       "  'learning_rate': 0.003,\n",
       "  'measure_scores': True,\n",
       "  'metric': 'inner_prod',\n",
       "  'model_output_dir': '10_percent_v1',\n",
       "  'neg_sampling_factor': 1,\n",
       "  'nn_index': 'brute',\n",
       "  'objectives': 'node_clf',\n",
       "  'pretrained': None,\n",
       "  'pretraining_phase': 0,\n",
       "  'restore_state': False,\n",
       "  'sampling_neighbourhood_size': 10,\n",
       "  'save_checkpoints': False,\n",
       "  'save_each_epoch': False,\n",
       "  'schedule_layers_every': 10,\n",
       "  'use_layer_scheduling': False,\n",
       "  'use_ns_groups': False}}"
      ]
     },
     "execution_count": 5,
     "metadata": {},
     "output_type": "execute_result"
    }
   ],
   "source": [
    "#!g1.1\n",
    "save_config(config, \"config.yaml\")\n",
    "config = load_config(\"config.yaml\")\n",
    "config"
   ]
  },
  {
   "cell_type": "markdown",
   "id": "817556e6",
   "metadata": {
    "cellId": "v34hwuqv65s18nug683fg7",
    "execution_id": "53a30c51-5597-424c-b2ef-071505915ad6",
    "pycharm": {
     "name": "#%% md\n"
    }
   },
   "source": [
    "# Create Dataset"
   ]
  },
  {
   "cell_type": "code",
   "execution_count": 6,
   "id": "a506ddbb",
   "metadata": {
    "cellId": "iof1csl4j882hpr3oumv",
    "execution_id": "80b7d312-5e30-4916-a1f9-5ff6398849d8",
    "pycharm": {
     "name": "#%%\n"
    }
   },
   "outputs": [
    {
     "name": "stderr",
     "output_type": "stream",
     "text": [
      "WARNING:root:Random state for splitting dataset is fixed\n"
     ]
    }
   ],
   "source": [
    "#!g1.1\n",
    "dataset = SourceGraphDataset(\n",
    "    **{**config[\"DATASET\"], **config[\"TOKENIZER\"]},\n",
    ")"
   ]
  },
  {
   "cell_type": "markdown",
   "id": "e5f1c9b1",
   "metadata": {
    "cellId": "f4jdqezhsqibhlxs979vap",
    "execution_id": "ab854bb5-2364-4b34-9258-e14152dbd554",
    "pycharm": {
     "name": "#%% md\n"
    }
   },
   "source": [
    "# Declare target loading function (labels)"
   ]
  },
  {
   "cell_type": "code",
   "execution_count": 7,
   "id": "440149af",
   "metadata": {
    "cellId": "rpcono88tre8eo3yhkyg34",
    "execution_id": "8c66ae29-f4f2-4eca-8611-ff95070cb5f2",
    "pycharm": {
     "name": "#%%\n"
    }
   },
   "outputs": [
    {
     "data": {
      "text/plain": [
       "0.2404469820085427"
      ]
     },
     "execution_count": 7,
     "metadata": {},
     "output_type": "execute_result"
    }
   ],
   "source": [
    "#!g1.1\n",
    "l = unpersist(\"10_percent_v1/misuse_labels.json.bz2\")\n",
    "\n",
    "val, counts = np.unique(l.dst, return_counts=True)\n",
    "counts[1]/counts.sum()"
   ]
  },
  {
   "cell_type": "code",
   "execution_count": 8,
   "id": "5e896906",
   "metadata": {
    "cellId": "ch70xj1jcvcknabo74wdx",
    "execution_id": "24af92a7-8ff7-4938-97d0-0392dacb1185",
    "tags": [],
    "pycharm": {
     "name": "#%%\n"
    }
   },
   "outputs": [],
   "source": [
    "#!g1.1\n",
    "def load_var_misuse():\n",
    "    from SourceCodeTools.code.data.dataset.reader import load_data\n",
    "    \n",
    "    nodes = dataset.nodes\n",
    "    \n",
    "    var_misuse_labels = unpersist(\"10_percent_v1/misuse_labels.json.bz2\").query(\"src in @node_ids\", local_dict={\"node_ids\": nodes[\"id\"]})\n",
    "    \n",
    "    return var_misuse_labels"
   ]
  },
  {
   "cell_type": "code",
   "execution_count": 9,
   "id": "66743621",
   "metadata": {
    "cellId": "ntn8bl4amtnqpahg9cygxk",
    "execution_id": "24e7d926-958b-4fc0-a478-320b5f25f9d0",
    "pycharm": {
     "name": "#%%\n"
    }
   },
   "outputs": [
    {
     "data": {
      "text/html": [
       "<div>\n",
       "<style scoped>\n",
       "    .dataframe tbody tr th:only-of-type {\n",
       "        vertical-align: middle;\n",
       "    }\n",
       "\n",
       "    .dataframe tbody tr th {\n",
       "        vertical-align: top;\n",
       "    }\n",
       "\n",
       "    .dataframe thead th {\n",
       "        text-align: right;\n",
       "    }\n",
       "</style>\n",
       "<table border=\"1\" class=\"dataframe\">\n",
       "  <thead>\n",
       "    <tr style=\"text-align: right;\">\n",
       "      <th></th>\n",
       "      <th>src</th>\n",
       "      <th>dst</th>\n",
       "    </tr>\n",
       "  </thead>\n",
       "  <tbody>\n",
       "    <tr>\n",
       "      <th>0</th>\n",
       "      <td>1634563</td>\n",
       "      <td>correct</td>\n",
       "    </tr>\n",
       "    <tr>\n",
       "      <th>1</th>\n",
       "      <td>1337362</td>\n",
       "      <td>misused</td>\n",
       "    </tr>\n",
       "    <tr>\n",
       "      <th>2</th>\n",
       "      <td>2562091</td>\n",
       "      <td>misused</td>\n",
       "    </tr>\n",
       "    <tr>\n",
       "      <th>3</th>\n",
       "      <td>2245942</td>\n",
       "      <td>correct</td>\n",
       "    </tr>\n",
       "    <tr>\n",
       "      <th>4</th>\n",
       "      <td>3082435</td>\n",
       "      <td>correct</td>\n",
       "    </tr>\n",
       "    <tr>\n",
       "      <th>...</th>\n",
       "      <td>...</td>\n",
       "      <td>...</td>\n",
       "    </tr>\n",
       "    <tr>\n",
       "      <th>486726</th>\n",
       "      <td>4616618</td>\n",
       "      <td>misused</td>\n",
       "    </tr>\n",
       "    <tr>\n",
       "      <th>486727</th>\n",
       "      <td>2500294</td>\n",
       "      <td>correct</td>\n",
       "    </tr>\n",
       "    <tr>\n",
       "      <th>486728</th>\n",
       "      <td>3084766</td>\n",
       "      <td>correct</td>\n",
       "    </tr>\n",
       "    <tr>\n",
       "      <th>486729</th>\n",
       "      <td>770790</td>\n",
       "      <td>misused</td>\n",
       "    </tr>\n",
       "    <tr>\n",
       "      <th>486730</th>\n",
       "      <td>3813374</td>\n",
       "      <td>correct</td>\n",
       "    </tr>\n",
       "  </tbody>\n",
       "</table>\n",
       "<p>486731 rows × 2 columns</p>\n",
       "</div>"
      ],
      "text/plain": [
       "            src      dst\n",
       "0       1634563  correct\n",
       "1       1337362  misused\n",
       "2       2562091  misused\n",
       "3       2245942  correct\n",
       "4       3082435  correct\n",
       "...         ...      ...\n",
       "486726  4616618  misused\n",
       "486727  2500294  correct\n",
       "486728  3084766  correct\n",
       "486729   770790  misused\n",
       "486730  3813374  correct\n",
       "\n",
       "[486731 rows x 2 columns]"
      ]
     },
     "execution_count": 9,
     "metadata": {},
     "output_type": "execute_result"
    }
   ],
   "source": [
    "#!g1.1\n",
    "load_var_misuse()"
   ]
  },
  {
   "cell_type": "markdown",
   "id": "3a7e75da",
   "metadata": {
    "cellId": "jbdmerb9bk54badmlcnrn",
    "execution_id": "a7cc54b6-50c0-4891-ad88-e88b707ce1c9",
    "pycharm": {
     "name": "#%% md\n"
    }
   },
   "source": [
    "# Define objectives\n",
    "\n",
    "Currenlty objectives for node classification (`NodeClassifierObjective`), and name-based node embedding training `SubwordEmbedderObjective`."
   ]
  },
  {
   "cell_type": "markdown",
   "id": "d406c197",
   "metadata": {
    "cellId": "st2tlq1uuzmb8u7vx7u6",
    "execution_id": "c96a3e9a-46ef-41e5-8d92-6b8cefb39cb4",
    "pycharm": {
     "name": "#%% md\n"
    }
   },
   "source": [
    "![](./figures/img1.png)\n"
   ]
  },
  {
   "cell_type": "markdown",
   "id": "77ce1075",
   "metadata": {
    "cellId": "1h4d48f56w8mbjvs78o05p",
    "execution_id": "67d7b28a-406e-4471-9489-924359e7de33",
    "pycharm": {
     "name": "#%% md\n"
    }
   },
   "source": [
    "## Create objective \n",
    "One or several objectives could be used"
   ]
  },
  {
   "cell_type": "code",
   "execution_count": 10,
   "id": "a1450b13",
   "metadata": {
    "cellId": "dljkyysdcajf77tzwxzjb5",
    "execution_id": "04c068d7-fad2-4ce7-8bbf-96bb202d1040",
    "pycharm": {
     "name": "#%%\n"
    }
   },
   "outputs": [],
   "source": [
    "#!g1.1\n",
    "class Trainer(SamplingMultitaskTrainer):\n",
    "    def create_objectives(self, dataset, tokenizer_path):\n",
    "        self.objectives = nn.ModuleList()\n",
    "        self.objectives.append(\n",
    "            NodeClassifierObjective(\n",
    "                \"VarMisuse\",\n",
    "                self.graph_model, self.node_embedder, dataset.nodes,\n",
    "                load_var_misuse,                                                   # need to define this function\n",
    "                self.device, self.sampling_neighbourhood_size, self.batch_size,\n",
    "                tokenizer_path=tokenizer_path, target_emb_size=self.elem_emb_size, \n",
    "                masker=None,                                                            # masker is not needed here\n",
    "                measure_scores=False,\n",
    "                dilate_scores=self.trainer_params[\"dilate_scores\"]\n",
    "\n",
    "            )\n",
    "        )"
   ]
  },
  {
   "cell_type": "markdown",
   "id": "c3fa5b0f",
   "metadata": {
    "pycharm": {
     "name": "#%% md\n"
    }
   },
   "source": [
    "## Launch Tensorboard"
   ]
  },
  {
   "cell_type": "code",
   "execution_count": 11,
   "id": "1a7099ac",
   "metadata": {
    "cellId": "s9rnusmhp86as0lg93n44",
    "execution_id": "a863451e-d404-4ffc-9e63-9879e9f5a34e",
    "pycharm": {
     "name": "#%%\n"
    }
   },
   "outputs": [],
   "source": [
    "#!g1.1\n",
    "# %tensorboard --logdir './10_percent_v1/'"
   ]
  },
  {
   "cell_type": "markdown",
   "id": "a53d3d64",
   "metadata": {
    "pycharm": {
     "name": "#%% md\n"
    }
   },
   "source": [
    "## Start model training"
   ]
  },
  {
   "cell_type": "code",
   "execution_count": 12,
   "id": "0ed88325",
   "metadata": {
    "cellId": "j8vwwanf7tdlor6p7yekh",
    "execution_id": "64b25e55-f5b6-4f85-acbc-b400fd4fcb8e",
    "pycharm": {
     "name": "#%%\n"
    }
   },
   "outputs": [
    {
     "name": "stdout",
     "output_type": "stream",
     "text": [
      "Number of nodes 4900346\n"
     ]
    },
    {
     "name": "stderr",
     "output_type": "stream",
     "text": [
      "Epoch 0: 100%|█████████████████████████████████████████████████████████████████████| 1521/1521 [07:41<00:00,  3.30it/s]\n"
     ]
    },
    {
     "name": "stdout",
     "output_type": "stream",
     "text": [
      "Opening File to save!!\n",
      "Opening File to save!!\n"
     ]
    },
    {
     "name": "stderr",
     "output_type": "stream",
     "text": [
      "\r",
      "Epoch 1:   0%|                                                                                | 0/1521 [00:00<?, ?it/s]"
     ]
    },
    {
     "name": "stdout",
     "output_type": "stream",
     "text": [
      "Epoch: 0, Time: 515 s\n",
      "{'Accuracy/test/VarMisuse_': 0.849166584372074,\n",
      " 'Accuracy/train/VarMisuse_': 0.8214285714285714,\n",
      " 'Accuracy/train_avg/VarMisuse': 0.8351883159575468,\n",
      " 'Accuracy/val/VarMisuse_': 0.8482774504497002,\n",
      " 'Loss/test/VarMisuse_': 0.31054820974046987,\n",
      " 'Loss/train/VarMisuse_': 0.32327550649642944,\n",
      " 'Loss/train_avg/VarMisuse': 0.3353489155462899,\n",
      " 'Loss/val/VarMisuse_': 0.31167498670126265,\n",
      " 'grad_norm/train/_': 0.28784561613207976}\n"
     ]
    },
    {
     "name": "stderr",
     "output_type": "stream",
     "text": [
      "Epoch 1: 100%|█████████████████████████████████████████████████████████████████████| 1521/1521 [07:37<00:00,  3.32it/s]\n"
     ]
    },
    {
     "name": "stdout",
     "output_type": "stream",
     "text": [
      "Opening File to save!!\n",
      "Opening File to save!!\n"
     ]
    },
    {
     "name": "stderr",
     "output_type": "stream",
     "text": [
      "\r",
      "Epoch 2:   0%|                                                                                | 0/1521 [00:00<?, ?it/s]"
     ]
    },
    {
     "name": "stdout",
     "output_type": "stream",
     "text": [
      "Epoch: 1, Time: 499 s\n",
      "{'Accuracy/test/VarMisuse_': 0.850885855571161,\n",
      " 'Accuracy/train/VarMisuse_': 0.9166666666666666,\n",
      " 'Accuracy/train_avg/VarMisuse': 0.853631622561911,\n",
      " 'Accuracy/val/VarMisuse_': 0.849963305712858,\n",
      " 'Loss/test/VarMisuse_': 0.3081789495578657,\n",
      " 'Loss/train/VarMisuse_': 0.28199440240859985,\n",
      " 'Loss/train_avg/VarMisuse': 0.3033150188688539,\n",
      " 'Loss/val/VarMisuse_': 0.30808815493395453,\n",
      " 'grad_norm/train/_': 0.31404309280087617}\n"
     ]
    },
    {
     "name": "stderr",
     "output_type": "stream",
     "text": [
      "Epoch 2: 100%|█████████████████████████████████████████████████████████████████████| 1521/1521 [06:27<00:00,  3.93it/s]\n"
     ]
    },
    {
     "name": "stdout",
     "output_type": "stream",
     "text": [
      "Opening File to save!!\n",
      "Opening File to save!!\n"
     ]
    },
    {
     "name": "stderr",
     "output_type": "stream",
     "text": [
      "\r",
      "Epoch 3:   0%|                                                                                | 0/1521 [00:00<?, ?it/s]"
     ]
    },
    {
     "name": "stdout",
     "output_type": "stream",
     "text": [
      "Epoch: 2, Time: 441 s\n",
      "{'Accuracy/test/VarMisuse_': 0.845756387889162,\n",
      " 'Accuracy/train/VarMisuse_': 0.9047619047619048,\n",
      " 'Accuracy/train_avg/VarMisuse': 0.8677823467486929,\n",
      " 'Accuracy/val/VarMisuse_': 0.8445796552298468,\n",
      " 'Loss/test/VarMisuse_': 0.3352269813573609,\n",
      " 'Loss/train/VarMisuse_': 0.22899100184440613,\n",
      " 'Loss/train_avg/VarMisuse': 0.2810926473430706,\n",
      " 'Loss/val/VarMisuse_': 0.33292400931057176,\n",
      " 'grad_norm/train/_': 0.5263930057634547}\n"
     ]
    },
    {
     "name": "stderr",
     "output_type": "stream",
     "text": [
      "Epoch 3: 100%|█████████████████████████████████████████████████████████████████████| 1521/1521 [06:23<00:00,  3.96it/s]\n"
     ]
    },
    {
     "name": "stdout",
     "output_type": "stream",
     "text": [
      "Opening File to save!!\n",
      "Opening File to save!!\n"
     ]
    },
    {
     "name": "stderr",
     "output_type": "stream",
     "text": [
      "\r",
      "Epoch 4:   0%|                                                                                | 0/1521 [00:00<?, ?it/s]"
     ]
    },
    {
     "name": "stdout",
     "output_type": "stream",
     "text": [
      "Epoch: 3, Time: 420 s\n",
      "{'Accuracy/test/VarMisuse_': 0.8390500643726592,\n",
      " 'Accuracy/train/VarMisuse_': 0.9285714285714286,\n",
      " 'Accuracy/train_avg/VarMisuse': 0.8828169026486333,\n",
      " 'Accuracy/val/VarMisuse_': 0.8400537662391738,\n",
      " 'Loss/test/VarMisuse_': 0.36056279895516735,\n",
      " 'Loss/train/VarMisuse_': 0.1832854449748993,\n",
      " 'Loss/train_avg/VarMisuse': 0.25598591251603714,\n",
      " 'Loss/val/VarMisuse_': 0.3575709232374241,\n",
      " 'grad_norm/train/_': 0.5498301819572224}\n"
     ]
    },
    {
     "name": "stderr",
     "output_type": "stream",
     "text": [
      "Epoch 4: 100%|█████████████████████████████████████████████████████████████████████| 1521/1521 [06:02<00:00,  4.19it/s]\n"
     ]
    },
    {
     "name": "stdout",
     "output_type": "stream",
     "text": [
      "Opening File to save!!\n",
      "Opening File to save!!\n"
     ]
    },
    {
     "name": "stderr",
     "output_type": "stream",
     "text": [
      "\r",
      "Epoch 5:   0%|                                                                                | 0/1521 [00:00<?, ?it/s]"
     ]
    },
    {
     "name": "stdout",
     "output_type": "stream",
     "text": [
      "Epoch: 4, Time: 404 s\n",
      "{'Accuracy/test/VarMisuse_': 0.8313799797372425,\n",
      " 'Accuracy/train/VarMisuse_': 0.9404761904761905,\n",
      " 'Accuracy/train_avg/VarMisuse': 0.8956092874362105,\n",
      " 'Accuracy/val/VarMisuse_': 0.8328609052298468,\n",
      " 'Loss/test/VarMisuse_': 0.38122305553406477,\n",
      " 'Loss/train/VarMisuse_': 0.17492328584194183,\n",
      " 'Loss/train_avg/VarMisuse': 0.2326112230168135,\n",
      " 'Loss/val/VarMisuse_': 0.3772315884891309,\n",
      " 'grad_norm/train/_': 0.7618695246928449}\n"
     ]
    },
    {
     "name": "stderr",
     "output_type": "stream",
     "text": [
      "Epoch 5: 100%|█████████████████████████████████████████████████████████████████████| 1521/1521 [06:28<00:00,  3.92it/s]\n"
     ]
    },
    {
     "name": "stdout",
     "output_type": "stream",
     "text": [
      "Opening File to save!!\n",
      "Opening File to save!!\n"
     ]
    },
    {
     "name": "stderr",
     "output_type": "stream",
     "text": [
      "\r",
      "Epoch 6:   0%|                                                                                | 0/1521 [00:00<?, ?it/s]"
     ]
    },
    {
     "name": "stdout",
     "output_type": "stream",
     "text": [
      "Epoch: 5, Time: 436 s\n",
      "{'Accuracy/test/VarMisuse_': 0.8276339755969101,\n",
      " 'Accuracy/train/VarMisuse_': 0.9404761904761905,\n",
      " 'Accuracy/train_avg/VarMisuse': 0.9045595052205628,\n",
      " 'Accuracy/val/VarMisuse_': 0.828813603431046,\n",
      " 'Loss/test/VarMisuse_': 0.4141941415145993,\n",
      " 'Loss/train/VarMisuse_': 0.1749030351638794,\n",
      " 'Loss/train_avg/VarMisuse': 0.2162189068153922,\n",
      " 'Loss/val/VarMisuse_': 0.408546244627551,\n",
      " 'grad_norm/train/_': 0.620248970182573}\n"
     ]
    },
    {
     "name": "stderr",
     "output_type": "stream",
     "text": [
      "Epoch 6: 100%|█████████████████████████████████████████████████████████████████████| 1521/1521 [08:07<00:00,  3.12it/s]\n"
     ]
    },
    {
     "name": "stdout",
     "output_type": "stream",
     "text": [
      "Opening File to save!!\n",
      "Opening File to save!!\n"
     ]
    },
    {
     "name": "stderr",
     "output_type": "stream",
     "text": [
      "\r",
      "Epoch 7:   0%|                                                                                | 0/1521 [00:00<?, ?it/s]"
     ]
    },
    {
     "name": "stdout",
     "output_type": "stream",
     "text": [
      "Epoch: 6, Time: 526 s\n",
      "{'Accuracy/test/VarMisuse_': 0.8242489246839888,\n",
      " 'Accuracy/train/VarMisuse_': 0.9761904761904762,\n",
      " 'Accuracy/train_avg/VarMisuse': 0.9105617828574558,\n",
      " 'Accuracy/val/VarMisuse_': 0.8259225620419719,\n",
      " 'Loss/test/VarMisuse_': 0.4382587702323993,\n",
      " 'Loss/train/VarMisuse_': 0.1313932240009308,\n",
      " 'Loss/train_avg/VarMisuse': 0.2026422576027274,\n",
      " 'Loss/val/VarMisuse_': 0.4350411052766599,\n",
      " 'grad_norm/train/_': 0.4331069972583549}\n"
     ]
    },
    {
     "name": "stderr",
     "output_type": "stream",
     "text": [
      "Epoch 7: 100%|█████████████████████████████████████████████████████████████████████| 1521/1521 [06:24<00:00,  3.95it/s]\n"
     ]
    },
    {
     "name": "stdout",
     "output_type": "stream",
     "text": [
      "Opening File to save!!\n",
      "Opening File to save!!\n"
     ]
    },
    {
     "name": "stderr",
     "output_type": "stream",
     "text": [
      "\r",
      "Epoch 8:   0%|                                                                                | 0/1521 [00:00<?, ?it/s]"
     ]
    },
    {
     "name": "stdout",
     "output_type": "stream",
     "text": [
      "Epoch: 7, Time: 423 s\n",
      "{'Accuracy/test/VarMisuse_': 0.8144604400749064,\n",
      " 'Accuracy/train/VarMisuse_': 0.9523809523809523,\n",
      " 'Accuracy/train_avg/VarMisuse': 0.9155567100278639,\n",
      " 'Accuracy/val/VarMisuse_': 0.8177194370419719,\n",
      " 'Loss/test/VarMisuse_': 0.4710912912463148,\n",
      " 'Loss/train/VarMisuse_': 0.14331893622875214,\n",
      " 'Loss/train_avg/VarMisuse': 0.1926372874182827,\n",
      " 'Loss/val/VarMisuse_': 0.463167677898156,\n",
      " 'grad_norm/train/_': 0.6025824826692471}\n"
     ]
    },
    {
     "name": "stderr",
     "output_type": "stream",
     "text": [
      "Epoch 8: 100%|█████████████████████████████████████████████████████████████████████| 1521/1521 [06:22<00:00,  3.98it/s]\n"
     ]
    },
    {
     "name": "stdout",
     "output_type": "stream",
     "text": [
      "Opening File to save!!\n",
      "Opening File to save!!\n"
     ]
    },
    {
     "name": "stderr",
     "output_type": "stream",
     "text": [
      "\r",
      "Epoch 9:   0%|                                                                                | 0/1521 [00:00<?, ?it/s]"
     ]
    },
    {
     "name": "stdout",
     "output_type": "stream",
     "text": [
      "Epoch: 8, Time: 425 s\n",
      "{'Accuracy/test/VarMisuse_': 0.8139543283298222,\n",
      " 'Accuracy/train/VarMisuse_': 0.9285714285714286,\n",
      " 'Accuracy/train_avg/VarMisuse': 0.9180810175401521,\n",
      " 'Accuracy/val/VarMisuse_': 0.8182334173051299,\n",
      " 'Loss/test/VarMisuse_': 0.47456890701626736,\n",
      " 'Loss/train/VarMisuse_': 0.14123332500457764,\n",
      " 'Loss/train_avg/VarMisuse': 0.1857979893733372,\n",
      " 'Loss/val/VarMisuse_': 0.4677698033420663,\n",
      " 'grad_norm/train/_': 0.5555798830879733}\n"
     ]
    },
    {
     "name": "stderr",
     "output_type": "stream",
     "text": [
      "Epoch 9: 100%|█████████████████████████████████████████████████████████████████████| 1521/1521 [06:10<00:00,  4.10it/s]\n"
     ]
    },
    {
     "name": "stdout",
     "output_type": "stream",
     "text": [
      "Opening File to save!!\n",
      "Opening File to save!!\n",
      "Epoch: 9, Time: 409 s\n",
      "{'Accuracy/test/VarMisuse_': 0.8141781239027388,\n",
      " 'Accuracy/train/VarMisuse_': 0.9523809523809523,\n",
      " 'Accuracy/train_avg/VarMisuse': 0.922046581000908,\n",
      " 'Accuracy/val/VarMisuse_': 0.8169147651565624,\n",
      " 'Loss/test/VarMisuse_': 0.5076867346651852,\n",
      " 'Loss/train/VarMisuse_': 0.13256163895130157,\n",
      " 'Loss/train_avg/VarMisuse': 0.17815953777719687,\n",
      " 'Loss/val/VarMisuse_': 0.49786863938758247,\n",
      " 'grad_norm/train/_': 0.411874831994544}\n",
      "Opening File to save!!\n",
      "Opening File to save!!\n",
      "Final eval: Loss/val/VarMisuse_final: 0.49786863938758247, Accuracy/val/VarMisuse_final: 0.8169147651565624, Loss/test/VarMisuse_final: 0.5076867346651852, Accuracy/test/VarMisuse_final: 0.8141781239027388\n"
     ]
    },
    {
     "data": {
      "text/plain": [
       "(<__main__.Trainer at 0x1e5d398a2b0>,\n",
       " {'Loss/val/VarMisuse_final': 0.49786863938758247,\n",
       "  'Accuracy/val/VarMisuse_final': 0.8169147651565624,\n",
       "  'Loss/test/VarMisuse_final': 0.5076867346651852,\n",
       "  'Accuracy/test/VarMisuse_final': 0.8141781239027388})"
      ]
     },
     "execution_count": 12,
     "metadata": {},
     "output_type": "execute_result"
    }
   ],
   "source": [
    "#!g1.1\n",
    "training_procedure(\n",
    "    dataset, \n",
    "    model_name=RGGAN, \n",
    "    model_params=config[\"MODEL\"],\n",
    "    trainer_params=config[\"TRAINING\"],\n",
    "    model_base_path=get_model_base(config[\"TRAINING\"], get_name(RGGAN, str(datetime.now()))),\n",
    "    tokenizer_path=config[\"TOKENIZER\"][\"tokenizer_path\"],\n",
    "    trainer=Trainer\n",
    ")"
   ]
  },
  {
   "cell_type": "markdown",
   "id": "282bcb51",
   "metadata": {
    "cellId": "6qitb7z43ngk1zy3sff69k",
    "execution_id": "126ee6c9-d3c8-41fe-9560-42eb21d95a4e",
    "pycharm": {
     "name": "#%% md\n"
    }
   },
   "source": [
    "## Evaluation \n",
    "\n",
    "Claculate accuracy <br>\n",
    "Method classification using node classification\n"
   ]
  },
  {
   "cell_type": "code",
   "execution_count": 13,
   "id": "adb8f59f",
   "metadata": {
    "cellId": "v8uofnppnu8lr60romrgxk",
    "execution_id": "479372a7-6ce4-4b00-8707-354ec52fd0a7",
    "pycharm": {
     "name": "#%%\n"
    }
   },
   "outputs": [],
   "source": [
    "#!g1.1\n",
    "from SourceCodeTools.code.common import read_edges\n",
    "common_edges = read_edges('10_percent_v1/common_edges.json.bz2', True)\n",
    "file_id2label = dict(unpersist(\"10_percent_v1/common_filecontent.json.bz2\")[[\"id\", \"label\"]].values)\n",
    "node_id2_fileId = {}\n",
    "for edges in common_edges:\n",
    "    node_id2_fileId.update(dict(zip(edges[\"source_node_id\"], edges[\"file_id\"])))\n",
    "    node_id2_fileId.update(dict(zip(edges[\"target_node_id\"], edges[\"file_id\"])))\n",
    "    \n",
    "# sink = open(\"node_fieid_label_map_new.csv\", \"w\")\n",
    "# sink.write(\"node_id,file_id,true_label\\n\")\n",
    "# for node_id, file_id in node_id2_fileId.items():\n",
    "#     sink.write(f\"{node_id},{file_id},{file_id2label[file_id]}\\n\")\n",
    "# sink.close()"
   ]
  },
  {
   "cell_type": "code",
   "execution_count": 14,
   "id": "d8d9287d",
   "metadata": {
    "cellId": "4b5uqhftxsshq7nnnltkic",
    "execution_id": "f035cd50-8ec7-4d8c-a0b1-d9c431f3e686",
    "pycharm": {
     "name": "#%%\n"
    }
   },
   "outputs": [],
   "source": [
    "#!g1.1\n",
    "def calc_acc():\n",
    "    \n",
    "    label_map = {'Variable misuse':'misused', 'Correct':'correct'}\n",
    "    mapping_df = pd.DataFrame([[node_id,file_id, label_map.get(file_id2label[file_id])] for node_id, file_id in node_id2_fileId.items()], columns=['node_id','file_id','true_label'])\n",
    "    \n",
    "    node_id2file_id = dict(zip(mapping_df[\"node_id\"], mapping_df[\"file_id\"]))\n",
    "    node_id2true_label = dict(zip(mapping_df[\"node_id\"], mapping_df[\"true_label\"]))\n",
    "    \n",
    "    def get_info(node_id, mapping):\n",
    "        if node_id in mapping:\n",
    "            return mapping[node_id]\n",
    "        else:\n",
    "            print(node_id)\n",
    "            raise ValueError()\n",
    "            \n",
    "    for target in ['test','val']:\n",
    "        pred_df = pd.read_csv(f'{target}_temp.txt', delimiter = \"\\t\", header=None) #(9414, 2)\n",
    "        pred_df.columns = ['id', 'pred_label']\n",
    "        pred_df[\"file_id\"] = pred_df[\"id\"].apply(lambda x: get_info(x, node_id2file_id))\n",
    "        pred_df[\"true_label\"] = pred_df[\"id\"].apply(lambda x: get_info(x, node_id2true_label))\n",
    "        print(pred_df['true_label'].value_counts())\n",
    "        print(pred_df['pred_label'].value_counts())\n",
    "        #pred_df['true_label'] = pred_df.true_label.apply(lambda x : label_map.get(x))\n",
    "        \n",
    "        correct_l = 0 \n",
    "        incorrect_l = 0\n",
    "        for name, group in pred_df.groupby('file_id'):\n",
    "            pred = 'correct'\n",
    "            if 'misused' in group.pred_label.tolist():\n",
    "                #print(group.pred_label.tolist())\n",
    "                pred = 'misused'\n",
    "            true_l = group.true_label.unique()[0]\n",
    "            #print(true_l, pred)\n",
    "            correct_l += int(true_l == pred)\n",
    "            incorrect_l += int(true_l != pred) \n",
    "            \n",
    "        print(f'{target} accuracy {correct_l/(correct_l+incorrect_l)}')"
   ]
  },
  {
   "cell_type": "code",
   "execution_count": 16,
   "id": "eeb12e2e",
   "metadata": {
    "cellId": "pv18l1wpomtlkipm9st1",
    "execution_id": "4fcdb05d-c1dd-4fea-9e5a-0d7ddfccb934",
    "pycharm": {
     "name": "#%%\n"
    }
   },
   "outputs": [
    {
     "name": "stdout",
     "output_type": "stream",
     "text": [
      "misused    48985\n",
      "Name: true_label, dtype: int64\n",
      "correct    35677\n",
      "misused    13308\n",
      "Name: pred_label, dtype: int64\n",
      "test accuracy 0.39213840560893276\n",
      "misused    48542\n",
      "Name: true_label, dtype: int64\n",
      "correct    35315\n",
      "misused    13227\n",
      "Name: pred_label, dtype: int64\n",
      "val accuracy 0.3904659707995968\n"
     ]
    }
   ],
   "source": [
    "#!g1.1\n",
    "# %%time\n",
    "calc_acc()"
   ]
  },
  {
   "cell_type": "code",
   "execution_count": null,
   "id": "32f23bf7",
   "metadata": {
    "cellId": "jcj0wki24t8zgxidvot77a",
    "execution_id": "91df278c-b6c5-47d6-ae6a-3602145444cc",
    "pycharm": {
     "name": "#%%\n"
    }
   },
   "outputs": [],
   "source": [
    "#!g1.1\n"
   ]
  }
 ],
 "metadata": {
  "kernelspec": {
   "display_name": "SourceCodeTools",
   "language": "python",
   "name": "sourcecodetools"
  },
  "language_info": {
   "codemirror_mode": {
    "name": "ipython",
    "version": 3
   },
   "file_extension": ".py",
   "mimetype": "text/x-python",
   "name": "python",
   "nbconvert_exporter": "python",
   "pygments_lexer": "ipython3",
   "version": "3.8.12"
  },
  "notebookId": "2097dc27-1489-4e1c-b5e2-a57bf5d7b94c",
  "notebookPath": "method-embedding/examples/VarMisuse.ipynb"
 },
 "nbformat": 4,
 "nbformat_minor": 5
}
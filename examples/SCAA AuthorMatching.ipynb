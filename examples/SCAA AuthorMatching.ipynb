{
 "cells": [
  {
   "cell_type": "code",
   "execution_count": 1,
   "id": "244ac956",
   "metadata": {
    "pycharm": {
     "name": "#%%\n"
    }
   },
   "outputs": [],
   "source": [
    "%load_ext autoreload\n",
    "%autoreload 2\n",
    "%load_ext tensorboard"
   ]
  },
  {
   "cell_type": "code",
   "execution_count": 1,
   "id": "bdefc65e",
   "metadata": {
    "pycharm": {
     "name": "#%%\n"
    }
   },
   "outputs": [
    {
     "ename": "ModuleNotFoundError",
     "evalue": "No module named 'SourceCodeTools.models.graph.train.objectives.SubgraphEmbedderObjective'",
     "output_type": "error",
     "traceback": [
      "\u001b[0;31m---------------------------------------------------------------------------\u001b[0m",
      "\u001b[0;31mModuleNotFoundError\u001b[0m                       Traceback (most recent call last)",
      "Input \u001b[0;32mIn [1]\u001b[0m, in \u001b[0;36m<cell line: 9>\u001b[0;34m()\u001b[0m\n\u001b[1;32m      6\u001b[0m \u001b[38;5;28;01mfrom\u001b[39;00m \u001b[38;5;21;01mSourceCodeTools\u001b[39;00m\u001b[38;5;21;01m.\u001b[39;00m\u001b[38;5;21;01mmodels\u001b[39;00m\u001b[38;5;21;01m.\u001b[39;00m\u001b[38;5;21;01mgraph\u001b[39;00m\u001b[38;5;21;01m.\u001b[39;00m\u001b[38;5;21;01mtrain\u001b[39;00m\u001b[38;5;21;01m.\u001b[39;00m\u001b[38;5;21;01mobjectives\u001b[39;00m\u001b[38;5;21;01m.\u001b[39;00m\u001b[38;5;21;01mNodeClassificationObjective\u001b[39;00m \u001b[38;5;28;01mimport\u001b[39;00m NodeClassifierObjective\n\u001b[1;32m      7\u001b[0m \u001b[38;5;28;01mfrom\u001b[39;00m \u001b[38;5;21;01mSourceCodeTools\u001b[39;00m\u001b[38;5;21;01m.\u001b[39;00m\u001b[38;5;21;01mmodels\u001b[39;00m\u001b[38;5;21;01m.\u001b[39;00m\u001b[38;5;21;01mgraph\u001b[39;00m\u001b[38;5;21;01m.\u001b[39;00m\u001b[38;5;21;01mtrain\u001b[39;00m\u001b[38;5;21;01m.\u001b[39;00m\u001b[38;5;21;01mobjectives\u001b[39;00m\u001b[38;5;21;01m.\u001b[39;00m\u001b[38;5;21;01mSubgraphClassifierObjective\u001b[39;00m \u001b[38;5;28;01mimport\u001b[39;00m SubgraphAbstractObjective, \\\n\u001b[1;32m      8\u001b[0m     SubgraphClassifierObjective, SubgraphEmbeddingObjective\n\u001b[0;32m----> 9\u001b[0m \u001b[38;5;28;01mfrom\u001b[39;00m \u001b[38;5;21;01mSourceCodeTools\u001b[39;00m\u001b[38;5;21;01m.\u001b[39;00m\u001b[38;5;21;01mmodels\u001b[39;00m\u001b[38;5;21;01m.\u001b[39;00m\u001b[38;5;21;01mgraph\u001b[39;00m\u001b[38;5;21;01m.\u001b[39;00m\u001b[38;5;21;01mtrain\u001b[39;00m\u001b[38;5;21;01m.\u001b[39;00m\u001b[38;5;21;01mobjectives\u001b[39;00m\u001b[38;5;21;01m.\u001b[39;00m\u001b[38;5;21;01mSubgraphEmbedderObjective\u001b[39;00m \u001b[38;5;28;01mimport\u001b[39;00m SubgraphEmbeddingObjective, \\\n\u001b[1;32m     10\u001b[0m     SubgraphMatchingObjective\n\u001b[1;32m     11\u001b[0m \u001b[38;5;28;01mfrom\u001b[39;00m \u001b[38;5;21;01mSourceCodeTools\u001b[39;00m\u001b[38;5;21;01m.\u001b[39;00m\u001b[38;5;21;01mmodels\u001b[39;00m\u001b[38;5;21;01m.\u001b[39;00m\u001b[38;5;21;01mgraph\u001b[39;00m\u001b[38;5;21;01m.\u001b[39;00m\u001b[38;5;21;01mtrain\u001b[39;00m\u001b[38;5;21;01m.\u001b[39;00m\u001b[38;5;21;01mutils\u001b[39;00m \u001b[38;5;28;01mimport\u001b[39;00m get_name, get_model_base\n\u001b[1;32m     12\u001b[0m \u001b[38;5;28;01mfrom\u001b[39;00m \u001b[38;5;21;01mSourceCodeTools\u001b[39;00m\u001b[38;5;21;01m.\u001b[39;00m\u001b[38;5;21;01mmodels\u001b[39;00m\u001b[38;5;21;01m.\u001b[39;00m\u001b[38;5;21;01mgraph\u001b[39;00m \u001b[38;5;28;01mimport\u001b[39;00m RGGAN\n",
      "\u001b[0;31mModuleNotFoundError\u001b[0m: No module named 'SourceCodeTools.models.graph.train.objectives.SubgraphEmbedderObjective'"
     ]
    }
   ],
   "source": [
    "from random import random\n",
    "\n",
    "from SourceCodeTools.models.training_config import get_config, save_config, load_config\n",
    "from SourceCodeTools.code.data.dataset.Dataset import SourceGraphDataset, filter_dst_by_freq\n",
    "from SourceCodeTools.models.graph.train.sampling_multitask2 import training_procedure, SamplingMultitaskTrainer\n",
    "from SourceCodeTools.models.graph.train.objectives.NodeClassificationObjective import NodeClassifierObjective\n",
    "from SourceCodeTools.models.graph.train.objectives.SubgraphClassifierObjective import SubgraphAbstractObjective, \\\n",
    "    SubgraphClassifierObjective, SubgraphEmbeddingObjective\n",
    "from SourceCodeTools.models.graph.train.objectives.SubgraphEmbedderObjective import SubgraphEmbeddingObjective, \\\n",
    "    SubgraphMatchingObjective\n",
    "from SourceCodeTools.models.graph.train.utils import get_name, get_model_base\n",
    "from SourceCodeTools.models.graph import RGGAN\n",
    "from SourceCodeTools.tabular.common import compact_property\n",
    "from SourceCodeTools.code.data.file_utils import unpersist\n",
    "\n",
    "import dgl\n",
    "import torch\n",
    "import numpy as np\n",
    "from argparse import Namespace\n",
    "from torch import nn\n",
    "from datetime import datetime\n",
    "from os.path import join\n",
    "from functools import partial"
   ]
  },
  {
   "cell_type": "markdown",
   "id": "4becf482",
   "metadata": {
    "pycharm": {
     "name": "#%% md\n"
    },
    "tags": []
   },
   "source": [
    "# Prepare parameters and options\n",
    "\n",
    "Full list of options that can be added can be found in `SourceCodeTools/models/training_options.py`. They are ment to be used as arguments for cli trainer. Trainer script can be found in `SourceCodeTools/scripts/train.py`.\n",
    "\n",
    "For the task of subgraph classification the important options are:\n",
    "- `subgraph_partition` is path to subgraph-based train/val/test sets. Storead as Dataframe with subgraph id and partition mask\n",
    "- `subgraph_id_column` is a column is `common_edges` file that stores subgraph id.\n",
    "- For variable misuse task (same will apply to authorship attribution) subgraphs are created for individual functions (files for SCAA). The label is stored in `common_filecontent`."
   ]
  },
  {
   "cell_type": "code",
   "execution_count": null,
   "id": "5637f70e-b8fd-4a9f-9956-d60a61bd2870",
   "metadata": {
    "pycharm": {
     "name": "#%%\n"
    }
   },
   "outputs": [],
   "source": [
    "tokenizer_path = \"sentencepiece_bpe.model\"\n",
    "\n",
    "data_path = \"scaa_9_tasks_python_graph\"\n",
    "subgraph_partition = join(data_path, \"subgraph_partition.json.bz2\")\n",
    "filecontent_path = join(data_path, \"common_filecontent.json.bz2\")"
   ]
  },
  {
   "cell_type": "code",
   "execution_count": 6,
   "id": "404565f5-09a3-4535-ba51-8533491f7c72",
   "metadata": {
    "pycharm": {
     "name": "#%%\n"
    }
   },
   "outputs": [
    {
     "data": {
      "text/html": [
       "<div>\n",
       "<style scoped>\n",
       "    .dataframe tbody tr th:only-of-type {\n",
       "        vertical-align: middle;\n",
       "    }\n",
       "\n",
       "    .dataframe tbody tr th {\n",
       "        vertical-align: top;\n",
       "    }\n",
       "\n",
       "    .dataframe thead th {\n",
       "        text-align: right;\n",
       "    }\n",
       "</style>\n",
       "<table border=\"1\" class=\"dataframe\">\n",
       "  <thead>\n",
       "    <tr style=\"text-align: right;\">\n",
       "      <th></th>\n",
       "      <th>id</th>\n",
       "      <th>train_mask</th>\n",
       "      <th>val_mask</th>\n",
       "      <th>test_mask</th>\n",
       "    </tr>\n",
       "  </thead>\n",
       "  <tbody>\n",
       "    <tr>\n",
       "      <th>0</th>\n",
       "      <td>489</td>\n",
       "      <td>True</td>\n",
       "      <td>False</td>\n",
       "      <td>False</td>\n",
       "    </tr>\n",
       "    <tr>\n",
       "      <th>1</th>\n",
       "      <td>474</td>\n",
       "      <td>False</td>\n",
       "      <td>False</td>\n",
       "      <td>True</td>\n",
       "    </tr>\n",
       "    <tr>\n",
       "      <th>2</th>\n",
       "      <td>310</td>\n",
       "      <td>True</td>\n",
       "      <td>False</td>\n",
       "      <td>False</td>\n",
       "    </tr>\n",
       "    <tr>\n",
       "      <th>3</th>\n",
       "      <td>80</td>\n",
       "      <td>True</td>\n",
       "      <td>False</td>\n",
       "      <td>False</td>\n",
       "    </tr>\n",
       "    <tr>\n",
       "      <th>4</th>\n",
       "      <td>374</td>\n",
       "      <td>True</td>\n",
       "      <td>False</td>\n",
       "      <td>False</td>\n",
       "    </tr>\n",
       "    <tr>\n",
       "      <th>...</th>\n",
       "      <td>...</td>\n",
       "      <td>...</td>\n",
       "      <td>...</td>\n",
       "      <td>...</td>\n",
       "    </tr>\n",
       "    <tr>\n",
       "      <th>508</th>\n",
       "      <td>48</td>\n",
       "      <td>True</td>\n",
       "      <td>False</td>\n",
       "      <td>False</td>\n",
       "    </tr>\n",
       "    <tr>\n",
       "      <th>509</th>\n",
       "      <td>108</td>\n",
       "      <td>True</td>\n",
       "      <td>False</td>\n",
       "      <td>False</td>\n",
       "    </tr>\n",
       "    <tr>\n",
       "      <th>510</th>\n",
       "      <td>484</td>\n",
       "      <td>True</td>\n",
       "      <td>False</td>\n",
       "      <td>False</td>\n",
       "    </tr>\n",
       "    <tr>\n",
       "      <th>511</th>\n",
       "      <td>406</td>\n",
       "      <td>True</td>\n",
       "      <td>False</td>\n",
       "      <td>False</td>\n",
       "    </tr>\n",
       "    <tr>\n",
       "      <th>512</th>\n",
       "      <td>152</td>\n",
       "      <td>True</td>\n",
       "      <td>False</td>\n",
       "      <td>False</td>\n",
       "    </tr>\n",
       "  </tbody>\n",
       "</table>\n",
       "<p>513 rows × 4 columns</p>\n",
       "</div>"
      ],
      "text/plain": [
       "      id  train_mask  val_mask  test_mask\n",
       "0    489        True     False      False\n",
       "1    474       False     False       True\n",
       "2    310        True     False      False\n",
       "3     80        True     False      False\n",
       "4    374        True     False      False\n",
       "..   ...         ...       ...        ...\n",
       "508   48        True     False      False\n",
       "509  108        True     False      False\n",
       "510  484        True     False      False\n",
       "511  406        True     False      False\n",
       "512  152        True     False      False\n",
       "\n",
       "[513 rows x 4 columns]"
      ]
     },
     "execution_count": 6,
     "metadata": {},
     "output_type": "execute_result"
    }
   ],
   "source": [
    "unpersist(subgraph_partition)"
   ]
  },
  {
   "cell_type": "code",
   "execution_count": 7,
   "id": "d09b740a-eaaf-4fac-a73f-0bd9bb671f70",
   "metadata": {
    "pycharm": {
     "name": "#%%\n"
    }
   },
   "outputs": [
    {
     "data": {
      "text/html": [
       "<div>\n",
       "<style scoped>\n",
       "    .dataframe tbody tr th:only-of-type {\n",
       "        vertical-align: middle;\n",
       "    }\n",
       "\n",
       "    .dataframe tbody tr th {\n",
       "        vertical-align: top;\n",
       "    }\n",
       "\n",
       "    .dataframe thead th {\n",
       "        text-align: right;\n",
       "    }\n",
       "</style>\n",
       "<table border=\"1\" class=\"dataframe\">\n",
       "  <thead>\n",
       "    <tr style=\"text-align: right;\">\n",
       "      <th></th>\n",
       "      <th>id</th>\n",
       "      <th>type</th>\n",
       "      <th>source_node_id</th>\n",
       "      <th>target_node_id</th>\n",
       "      <th>file_id</th>\n",
       "      <th>mentioned_in</th>\n",
       "    </tr>\n",
       "  </thead>\n",
       "  <tbody>\n",
       "    <tr>\n",
       "      <th>0</th>\n",
       "      <td>0</td>\n",
       "      <td>subword</td>\n",
       "      <td>68048</td>\n",
       "      <td>49684</td>\n",
       "      <td>489</td>\n",
       "      <td>NaN</td>\n",
       "    </tr>\n",
       "    <tr>\n",
       "      <th>1</th>\n",
       "      <td>1</td>\n",
       "      <td>name</td>\n",
       "      <td>49684</td>\n",
       "      <td>32062</td>\n",
       "      <td>489</td>\n",
       "      <td>20349.0</td>\n",
       "    </tr>\n",
       "    <tr>\n",
       "      <th>2</th>\n",
       "      <td>2</td>\n",
       "      <td>name_rev</td>\n",
       "      <td>32062</td>\n",
       "      <td>49684</td>\n",
       "      <td>489</td>\n",
       "      <td>20349.0</td>\n",
       "    </tr>\n",
       "    <tr>\n",
       "      <th>3</th>\n",
       "      <td>3</td>\n",
       "      <td>names</td>\n",
       "      <td>32062</td>\n",
       "      <td>75398</td>\n",
       "      <td>489</td>\n",
       "      <td>20349.0</td>\n",
       "    </tr>\n",
       "    <tr>\n",
       "      <th>4</th>\n",
       "      <td>4</td>\n",
       "      <td>names_rev</td>\n",
       "      <td>75398</td>\n",
       "      <td>32062</td>\n",
       "      <td>489</td>\n",
       "      <td>20349.0</td>\n",
       "    </tr>\n",
       "    <tr>\n",
       "      <th>5</th>\n",
       "      <td>5</td>\n",
       "      <td>subword</td>\n",
       "      <td>48908</td>\n",
       "      <td>19829</td>\n",
       "      <td>489</td>\n",
       "      <td>NaN</td>\n",
       "    </tr>\n",
       "    <tr>\n",
       "      <th>6</th>\n",
       "      <td>6</td>\n",
       "      <td>name</td>\n",
       "      <td>19829</td>\n",
       "      <td>70699</td>\n",
       "      <td>489</td>\n",
       "      <td>20349.0</td>\n",
       "    </tr>\n",
       "    <tr>\n",
       "      <th>7</th>\n",
       "      <td>7</td>\n",
       "      <td>name_rev</td>\n",
       "      <td>70699</td>\n",
       "      <td>19829</td>\n",
       "      <td>489</td>\n",
       "      <td>20349.0</td>\n",
       "    </tr>\n",
       "    <tr>\n",
       "      <th>8</th>\n",
       "      <td>8</td>\n",
       "      <td>names</td>\n",
       "      <td>70699</td>\n",
       "      <td>75398</td>\n",
       "      <td>489</td>\n",
       "      <td>20349.0</td>\n",
       "    </tr>\n",
       "    <tr>\n",
       "      <th>9</th>\n",
       "      <td>9</td>\n",
       "      <td>names_rev</td>\n",
       "      <td>75398</td>\n",
       "      <td>70699</td>\n",
       "      <td>489</td>\n",
       "      <td>20349.0</td>\n",
       "    </tr>\n",
       "    <tr>\n",
       "      <th>10</th>\n",
       "      <td>106448</td>\n",
       "      <td>args_rev</td>\n",
       "      <td>32133</td>\n",
       "      <td>37336</td>\n",
       "      <td>319</td>\n",
       "      <td>37944.0</td>\n",
       "    </tr>\n",
       "    <tr>\n",
       "      <th>11</th>\n",
       "      <td>106449</td>\n",
       "      <td>executed_while_true</td>\n",
       "      <td>32133</td>\n",
       "      <td>34717</td>\n",
       "      <td>319</td>\n",
       "      <td>37944.0</td>\n",
       "    </tr>\n",
       "    <tr>\n",
       "      <th>12</th>\n",
       "      <td>106450</td>\n",
       "      <td>executed_while_true_rev</td>\n",
       "      <td>34717</td>\n",
       "      <td>32133</td>\n",
       "      <td>319</td>\n",
       "      <td>37944.0</td>\n",
       "    </tr>\n",
       "    <tr>\n",
       "      <th>13</th>\n",
       "      <td>106451</td>\n",
       "      <td>target</td>\n",
       "      <td>47702</td>\n",
       "      <td>49485</td>\n",
       "      <td>319</td>\n",
       "      <td>37944.0</td>\n",
       "    </tr>\n",
       "    <tr>\n",
       "      <th>14</th>\n",
       "      <td>106452</td>\n",
       "      <td>target_rev</td>\n",
       "      <td>49485</td>\n",
       "      <td>47702</td>\n",
       "      <td>319</td>\n",
       "      <td>37944.0</td>\n",
       "    </tr>\n",
       "    <tr>\n",
       "      <th>15</th>\n",
       "      <td>106453</td>\n",
       "      <td>op</td>\n",
       "      <td>23917</td>\n",
       "      <td>49485</td>\n",
       "      <td>319</td>\n",
       "      <td>37944.0</td>\n",
       "    </tr>\n",
       "    <tr>\n",
       "      <th>16</th>\n",
       "      <td>106454</td>\n",
       "      <td>value</td>\n",
       "      <td>49952</td>\n",
       "      <td>49485</td>\n",
       "      <td>319</td>\n",
       "      <td>37944.0</td>\n",
       "    </tr>\n",
       "    <tr>\n",
       "      <th>17</th>\n",
       "      <td>106456</td>\n",
       "      <td>next</td>\n",
       "      <td>32133</td>\n",
       "      <td>49485</td>\n",
       "      <td>319</td>\n",
       "      <td>37944.0</td>\n",
       "    </tr>\n",
       "    <tr>\n",
       "      <th>18</th>\n",
       "      <td>106457</td>\n",
       "      <td>prev</td>\n",
       "      <td>49485</td>\n",
       "      <td>32133</td>\n",
       "      <td>319</td>\n",
       "      <td>37944.0</td>\n",
       "    </tr>\n",
       "    <tr>\n",
       "      <th>19</th>\n",
       "      <td>106458</td>\n",
       "      <td>executed_while_true</td>\n",
       "      <td>49485</td>\n",
       "      <td>34717</td>\n",
       "      <td>319</td>\n",
       "      <td>37944.0</td>\n",
       "    </tr>\n",
       "    <tr>\n",
       "      <th>20</th>\n",
       "      <td>212803</td>\n",
       "      <td>left</td>\n",
       "      <td>55997</td>\n",
       "      <td>63829</td>\n",
       "      <td>387</td>\n",
       "      <td>52804.0</td>\n",
       "    </tr>\n",
       "    <tr>\n",
       "      <th>21</th>\n",
       "      <td>212804</td>\n",
       "      <td>left_rev</td>\n",
       "      <td>63829</td>\n",
       "      <td>55997</td>\n",
       "      <td>387</td>\n",
       "      <td>52804.0</td>\n",
       "    </tr>\n",
       "    <tr>\n",
       "      <th>22</th>\n",
       "      <td>212805</td>\n",
       "      <td>right</td>\n",
       "      <td>49952</td>\n",
       "      <td>63829</td>\n",
       "      <td>387</td>\n",
       "      <td>52804.0</td>\n",
       "    </tr>\n",
       "    <tr>\n",
       "      <th>23</th>\n",
       "      <td>212807</td>\n",
       "      <td>op</td>\n",
       "      <td>23917</td>\n",
       "      <td>63829</td>\n",
       "      <td>387</td>\n",
       "      <td>52804.0</td>\n",
       "    </tr>\n",
       "    <tr>\n",
       "      <th>24</th>\n",
       "      <td>212808</td>\n",
       "      <td>args</td>\n",
       "      <td>63829</td>\n",
       "      <td>21976</td>\n",
       "      <td>387</td>\n",
       "      <td>52804.0</td>\n",
       "    </tr>\n",
       "    <tr>\n",
       "      <th>25</th>\n",
       "      <td>212809</td>\n",
       "      <td>args_rev</td>\n",
       "      <td>21976</td>\n",
       "      <td>63829</td>\n",
       "      <td>387</td>\n",
       "      <td>52804.0</td>\n",
       "    </tr>\n",
       "    <tr>\n",
       "      <th>26</th>\n",
       "      <td>212810</td>\n",
       "      <td>test</td>\n",
       "      <td>42874</td>\n",
       "      <td>56123</td>\n",
       "      <td>387</td>\n",
       "      <td>52804.0</td>\n",
       "    </tr>\n",
       "    <tr>\n",
       "      <th>27</th>\n",
       "      <td>212811</td>\n",
       "      <td>test_rev</td>\n",
       "      <td>56123</td>\n",
       "      <td>42874</td>\n",
       "      <td>387</td>\n",
       "      <td>52804.0</td>\n",
       "    </tr>\n",
       "    <tr>\n",
       "      <th>28</th>\n",
       "      <td>212812</td>\n",
       "      <td>value</td>\n",
       "      <td>49952</td>\n",
       "      <td>21260</td>\n",
       "      <td>387</td>\n",
       "      <td>52804.0</td>\n",
       "    </tr>\n",
       "    <tr>\n",
       "      <th>29</th>\n",
       "      <td>212814</td>\n",
       "      <td>attr</td>\n",
       "      <td>2830</td>\n",
       "      <td>21260</td>\n",
       "      <td>387</td>\n",
       "      <td>52804.0</td>\n",
       "    </tr>\n",
       "  </tbody>\n",
       "</table>\n",
       "</div>"
      ],
      "text/plain": [
       "        id                     type  source_node_id  target_node_id  file_id  \\\n",
       "0        0                  subword           68048           49684      489   \n",
       "1        1                     name           49684           32062      489   \n",
       "2        2                 name_rev           32062           49684      489   \n",
       "3        3                    names           32062           75398      489   \n",
       "4        4                names_rev           75398           32062      489   \n",
       "5        5                  subword           48908           19829      489   \n",
       "6        6                     name           19829           70699      489   \n",
       "7        7                 name_rev           70699           19829      489   \n",
       "8        8                    names           70699           75398      489   \n",
       "9        9                names_rev           75398           70699      489   \n",
       "10  106448                 args_rev           32133           37336      319   \n",
       "11  106449      executed_while_true           32133           34717      319   \n",
       "12  106450  executed_while_true_rev           34717           32133      319   \n",
       "13  106451                   target           47702           49485      319   \n",
       "14  106452               target_rev           49485           47702      319   \n",
       "15  106453                       op           23917           49485      319   \n",
       "16  106454                    value           49952           49485      319   \n",
       "17  106456                     next           32133           49485      319   \n",
       "18  106457                     prev           49485           32133      319   \n",
       "19  106458      executed_while_true           49485           34717      319   \n",
       "20  212803                     left           55997           63829      387   \n",
       "21  212804                 left_rev           63829           55997      387   \n",
       "22  212805                    right           49952           63829      387   \n",
       "23  212807                       op           23917           63829      387   \n",
       "24  212808                     args           63829           21976      387   \n",
       "25  212809                 args_rev           21976           63829      387   \n",
       "26  212810                     test           42874           56123      387   \n",
       "27  212811                 test_rev           56123           42874      387   \n",
       "28  212812                    value           49952           21260      387   \n",
       "29  212814                     attr            2830           21260      387   \n",
       "\n",
       "    mentioned_in  \n",
       "0            NaN  \n",
       "1        20349.0  \n",
       "2        20349.0  \n",
       "3        20349.0  \n",
       "4        20349.0  \n",
       "5            NaN  \n",
       "6        20349.0  \n",
       "7        20349.0  \n",
       "8        20349.0  \n",
       "9        20349.0  \n",
       "10       37944.0  \n",
       "11       37944.0  \n",
       "12       37944.0  \n",
       "13       37944.0  \n",
       "14       37944.0  \n",
       "15       37944.0  \n",
       "16       37944.0  \n",
       "17       37944.0  \n",
       "18       37944.0  \n",
       "19       37944.0  \n",
       "20       52804.0  \n",
       "21       52804.0  \n",
       "22       52804.0  \n",
       "23       52804.0  \n",
       "24       52804.0  \n",
       "25       52804.0  \n",
       "26       52804.0  \n",
       "27       52804.0  \n",
       "28       52804.0  \n",
       "29       52804.0  "
      ]
     },
     "execution_count": 7,
     "metadata": {},
     "output_type": "execute_result"
    }
   ],
   "source": [
    "unpersist(join(data_path, \"common_edges.json.bz2\"), nrows=10)"
   ]
  },
  {
   "cell_type": "code",
   "execution_count": 8,
   "id": "d38f83db",
   "metadata": {
    "pycharm": {
     "name": "#%%\n"
    }
   },
   "outputs": [],
   "source": [
    "config = get_config(\n",
    "    subgraph_id_column=\"file_id\",\n",
    "    data_path=data_path,\n",
    "    model_output_dir=data_path,\n",
    "    subgraph_partition=subgraph_partition,\n",
    "    tokenizer_path=tokenizer_path,\n",
    "    objectives=\"subgraph_clf\",\n",
    "    measure_scores=True,\n",
    "    dilate_scores=1\n",
    ")"
   ]
  },
  {
   "cell_type": "code",
   "execution_count": 9,
   "id": "bf61e1a2-2a2b-4688-b6b6-4ad3c22b22a5",
   "metadata": {
    "pycharm": {
     "name": "#%%\n"
    }
   },
   "outputs": [],
   "source": [
    "# save_config(config, \"var_misuse_tiny.yaml\")"
   ]
  },
  {
   "cell_type": "code",
   "execution_count": 10,
   "id": "07dc7b86",
   "metadata": {
    "pycharm": {
     "name": "#%%\n"
    }
   },
   "outputs": [
    {
     "data": {
      "text/plain": [
       "{'DATASET': {'data_path': 'scaa_9_tasks_python_graph',\n",
       "  'train_frac': 0.9,\n",
       "  'filter_edges': None,\n",
       "  'min_count_for_objectives': 5,\n",
       "  'self_loops': False,\n",
       "  'use_node_types': False,\n",
       "  'use_edge_types': False,\n",
       "  'no_global_edges': False,\n",
       "  'remove_reverse': False,\n",
       "  'custom_reverse': None,\n",
       "  'restricted_id_pool': None,\n",
       "  'random_seed': None,\n",
       "  'subgraph_id_column': 'file_id',\n",
       "  'subgraph_partition': 'scaa_9_tasks_python_graph/subgraph_partition.json.bz2'},\n",
       " 'TRAINING': {'model_output_dir': 'scaa_9_tasks_python_graph',\n",
       "  'pretrained': None,\n",
       "  'pretraining_phase': 0,\n",
       "  'sampling_neighbourhood_size': 10,\n",
       "  'neg_sampling_factor': 3,\n",
       "  'use_layer_scheduling': False,\n",
       "  'schedule_layers_every': 10,\n",
       "  'elem_emb_size': 100,\n",
       "  'embedding_table_size': 200000,\n",
       "  'epochs': 100,\n",
       "  'batch_size': 128,\n",
       "  'learning_rate': 0.001,\n",
       "  'objectives': 'subgraph_clf',\n",
       "  'save_each_epoch': False,\n",
       "  'save_checkpoints': True,\n",
       "  'early_stopping': False,\n",
       "  'early_stopping_tolerance': 20,\n",
       "  'force_w2v_ns': False,\n",
       "  'use_ns_groups': False,\n",
       "  'nn_index': 'brute',\n",
       "  'metric': 'inner_prod',\n",
       "  'measure_scores': False,\n",
       "  'dilate_scores': 1,\n",
       "  'gpu': -1,\n",
       "  'external_dataset': None,\n",
       "  'restore_state': False},\n",
       " 'MODEL': {'node_emb_size': 100,\n",
       "  'h_dim': 100,\n",
       "  'n_layers': 5,\n",
       "  'use_self_loop': True,\n",
       "  'use_gcn_checkpoint': False,\n",
       "  'use_att_checkpoint': False,\n",
       "  'use_gru_checkpoint': False,\n",
       "  'num_bases': 10,\n",
       "  'dropout': 0.0,\n",
       "  'activation': 'tanh'},\n",
       " 'TOKENIZER': {'tokenizer_path': 'sentencepiece_bpe.model'}}"
      ]
     },
     "execution_count": 10,
     "metadata": {},
     "output_type": "execute_result"
    }
   ],
   "source": [
    "config"
   ]
  },
  {
   "cell_type": "markdown",
   "id": "069a2528",
   "metadata": {
    "pycharm": {
     "name": "#%% md\n"
    }
   },
   "source": [
    "# Create Dataset"
   ]
  },
  {
   "cell_type": "code",
   "execution_count": 11,
   "id": "d0ce29fc",
   "metadata": {
    "pycharm": {
     "name": "#%%\n"
    }
   },
   "outputs": [],
   "source": [
    "dataset = SourceGraphDataset(\n",
    "    **{**config[\"DATASET\"], **config[\"TOKENIZER\"]}\n",
    ")"
   ]
  },
  {
   "cell_type": "markdown",
   "id": "897d41bf",
   "metadata": {
    "pycharm": {
     "name": "#%% md\n"
    }
   },
   "source": [
    "# Declare target loading function (labels)"
   ]
  },
  {
   "cell_type": "code",
   "execution_count": 15,
   "id": "c279f43e",
   "metadata": {
    "pycharm": {
     "name": "#%%\n"
    },
    "tags": []
   },
   "outputs": [],
   "source": [
    "def load_labels():\n",
    "    filecontent = unpersist(filecontent_path)\n",
    "    return filecontent[[\"id\", \"user\"]].rename({\"id\": \"src\", \"user\": \"dst\"}, axis=1)"
   ]
  },
  {
   "cell_type": "code",
   "execution_count": 16,
   "id": "717a502c-4399-4e15-a83a-4f16c8e9639c",
   "metadata": {
    "pycharm": {
     "name": "#%%\n"
    }
   },
   "outputs": [
    {
     "data": {
      "text/html": [
       "<div>\n",
       "<style scoped>\n",
       "    .dataframe tbody tr th:only-of-type {\n",
       "        vertical-align: middle;\n",
       "    }\n",
       "\n",
       "    .dataframe tbody tr th {\n",
       "        vertical-align: top;\n",
       "    }\n",
       "\n",
       "    .dataframe thead th {\n",
       "        text-align: right;\n",
       "    }\n",
       "</style>\n",
       "<table border=\"1\" class=\"dataframe\">\n",
       "  <thead>\n",
       "    <tr style=\"text-align: right;\">\n",
       "      <th></th>\n",
       "      <th>src</th>\n",
       "      <th>dst</th>\n",
       "    </tr>\n",
       "  </thead>\n",
       "  <tbody>\n",
       "    <tr>\n",
       "      <th>0</th>\n",
       "      <td>489</td>\n",
       "      <td>thekushalghosh</td>\n",
       "    </tr>\n",
       "    <tr>\n",
       "      <th>1</th>\n",
       "      <td>474</td>\n",
       "      <td>shubhi_</td>\n",
       "    </tr>\n",
       "    <tr>\n",
       "      <th>2</th>\n",
       "      <td>310</td>\n",
       "      <td>briangodwinlim</td>\n",
       "    </tr>\n",
       "    <tr>\n",
       "      <th>3</th>\n",
       "      <td>80</td>\n",
       "      <td>Itachi_uchiha</td>\n",
       "    </tr>\n",
       "    <tr>\n",
       "      <th>4</th>\n",
       "      <td>374</td>\n",
       "      <td>erdnase</td>\n",
       "    </tr>\n",
       "    <tr>\n",
       "      <th>...</th>\n",
       "      <td>...</td>\n",
       "      <td>...</td>\n",
       "    </tr>\n",
       "    <tr>\n",
       "      <th>508</th>\n",
       "      <td>48</td>\n",
       "      <td>DavidEdey</td>\n",
       "    </tr>\n",
       "    <tr>\n",
       "      <th>509</th>\n",
       "      <td>108</td>\n",
       "      <td>KimJohnWu</td>\n",
       "    </tr>\n",
       "    <tr>\n",
       "      <th>510</th>\n",
       "      <td>484</td>\n",
       "      <td>spelvin</td>\n",
       "    </tr>\n",
       "    <tr>\n",
       "      <th>511</th>\n",
       "      <td>406</td>\n",
       "      <td>luctchak</td>\n",
       "    </tr>\n",
       "    <tr>\n",
       "      <th>512</th>\n",
       "      <td>152</td>\n",
       "      <td>Pedastrian</td>\n",
       "    </tr>\n",
       "  </tbody>\n",
       "</table>\n",
       "<p>513 rows × 2 columns</p>\n",
       "</div>"
      ],
      "text/plain": [
       "     src             dst\n",
       "0    489  thekushalghosh\n",
       "1    474         shubhi_\n",
       "2    310  briangodwinlim\n",
       "3     80   Itachi_uchiha\n",
       "4    374         erdnase\n",
       "..   ...             ...\n",
       "508   48       DavidEdey\n",
       "509  108       KimJohnWu\n",
       "510  484         spelvin\n",
       "511  406        luctchak\n",
       "512  152      Pedastrian\n",
       "\n",
       "[513 rows x 2 columns]"
      ]
     },
     "execution_count": 16,
     "metadata": {},
     "output_type": "execute_result"
    }
   ],
   "source": [
    "load_labels()"
   ]
  },
  {
   "cell_type": "markdown",
   "id": "1ac27d90",
   "metadata": {
    "pycharm": {
     "name": "#%% md\n"
    }
   },
   "source": [
    "One or several objectives could be used"
   ]
  },
  {
   "cell_type": "code",
   "execution_count": 17,
   "id": "67605a81",
   "metadata": {
    "pycharm": {
     "name": "#%%\n"
    }
   },
   "outputs": [],
   "source": [
    "class Trainer(SamplingMultitaskTrainer):\n",
    "    def create_objectives(self, dataset, tokenizer_path):\n",
    "        self.objectives = nn.ModuleList()\n",
    "        \n",
    "        self.objectives.append(\n",
    "            self._create_subgraph_objective(\n",
    "                objective_name=\"SCAAMatching\",\n",
    "                objective_class=SubgraphMatchingObjective,\n",
    "                dataset=dataset,\n",
    "                tokenizer_path=tokenizer_path,\n",
    "                labels_fn=load_labels,\n",
    "            )\n",
    "        )"
   ]
  },
  {
   "cell_type": "code",
   "execution_count": 28,
   "id": "393251c2",
   "metadata": {
    "pycharm": {
     "name": "#%%\n"
    }
   },
   "outputs": [
    {
     "data": {
      "text/html": [
       "\n",
       "      <iframe id=\"tensorboard-frame-25cbce6af38d6402\" width=\"100%\" height=\"800\" frameborder=\"0\">\n",
       "      </iframe>\n",
       "      <script>\n",
       "        (function() {\n",
       "          const frame = document.getElementById(\"tensorboard-frame-25cbce6af38d6402\");\n",
       "          const url = new URL(\"/\", window.location);\n",
       "          const port = 6006;\n",
       "          if (port) {\n",
       "            url.port = port;\n",
       "          }\n",
       "          frame.src = url;\n",
       "        })();\n",
       "      </script>\n",
       "    "
      ],
      "text/plain": [
       "<IPython.core.display.HTML object>"
      ]
     },
     "metadata": {},
     "output_type": "display_data"
    }
   ],
   "source": [
    "%tensorboard --logdir data_path"
   ]
  },
  {
   "cell_type": "code",
   "execution_count": 18,
   "id": "369ed1bb",
   "metadata": {
    "pycharm": {
     "name": "#%%\n"
    }
   },
   "outputs": [
    {
     "name": "stdout",
     "output_type": "stream",
     "text": [
      "Number of nodes 80375\n"
     ]
    },
    {
     "name": "stderr",
     "output_type": "stream",
     "text": [
      "Precompute Target Embeddings:   0%|                                                                                                     | 0/1 [00:00<?, ?it/s]\n",
      "Epoch 0:  25%|████████████████████████████▌                                                                                     | 1/4 [00:19<00:58, 19.42s/it]\n",
      "100%|███████████████████████████████████████████████████████████████████████████████████████████████████████████████████████████| 1/1 [00:03<00:00,  3.07s/it]\n",
      "100%|███████████████████████████████████████████████████████████████████████████████████████████████████████████████████████████| 1/1 [00:04<00:00,  4.64s/it]\n",
      "Epoch 1:   0%|                                                                                                                          | 0/4 [00:00<?, ?it/s]"
     ]
    },
    {
     "name": "stdout",
     "output_type": "stream",
     "text": [
      "Epoch: 0, Time: 27 s\n",
      "{'Accuracy/test/SCAAMatching_': 0.5,\n",
      " 'Accuracy/train/SCAAMatching_': 0.5,\n",
      " 'Accuracy/train_avg/SCAAMatching': 0.5,\n",
      " 'Accuracy/val/SCAAMatching_': 0.5,\n",
      " 'Loss/test/SCAAMatching_': 0.5998330116271973,\n",
      " 'Loss/train/SCAAMatching_': 0.5997103452682495,\n",
      " 'Loss/train_avg/SCAAMatching': 0.5997103452682495,\n",
      " 'Loss/val/SCAAMatching_': 0.6000617146492004}\n"
     ]
    },
    {
     "name": "stderr",
     "output_type": "stream",
     "text": [
      "Epoch 1:  25%|████████████████████████████▌                                                                                     | 1/4 [00:18<00:54, 18.00s/it]\n",
      "100%|███████████████████████████████████████████████████████████████████████████████████████████████████████████████████████████| 1/1 [00:02<00:00,  2.66s/it]\n",
      "100%|███████████████████████████████████████████████████████████████████████████████████████████████████████████████████████████| 1/1 [00:04<00:00,  4.60s/it]\n",
      "Epoch 2:   0%|                                                                                                                          | 0/4 [00:00<?, ?it/s]"
     ]
    },
    {
     "name": "stdout",
     "output_type": "stream",
     "text": [
      "Epoch: 1, Time: 25 s\n",
      "{'Accuracy/test/SCAAMatching_': 0.5,\n",
      " 'Accuracy/train/SCAAMatching_': 0.5,\n",
      " 'Accuracy/train_avg/SCAAMatching': 0.5,\n",
      " 'Accuracy/val/SCAAMatching_': 0.5,\n",
      " 'Loss/test/SCAAMatching_': 0.5996013283729553,\n",
      " 'Loss/train/SCAAMatching_': 0.5993266701698303,\n",
      " 'Loss/train_avg/SCAAMatching': 0.5993266701698303,\n",
      " 'Loss/val/SCAAMatching_': 0.5997006893157959}\n"
     ]
    },
    {
     "name": "stderr",
     "output_type": "stream",
     "text": [
      "Epoch 2:  25%|████████████████████████████▌                                                                                     | 1/4 [00:21<01:05, 21.76s/it]\n",
      "100%|███████████████████████████████████████████████████████████████████████████████████████████████████████████████████████████| 1/1 [00:03<00:00,  3.24s/it]\n",
      "100%|███████████████████████████████████████████████████████████████████████████████████████████████████████████████████████████| 1/1 [00:05<00:00,  5.48s/it]\n",
      "Epoch 3:   0%|                                                                                                                          | 0/4 [00:00<?, ?it/s]"
     ]
    },
    {
     "name": "stdout",
     "output_type": "stream",
     "text": [
      "Epoch: 2, Time: 30 s\n",
      "{'Accuracy/test/SCAAMatching_': 0.5,\n",
      " 'Accuracy/train/SCAAMatching_': 0.5,\n",
      " 'Accuracy/train_avg/SCAAMatching': 0.5,\n",
      " 'Accuracy/val/SCAAMatching_': 0.5,\n",
      " 'Loss/test/SCAAMatching_': 0.5998241901397705,\n",
      " 'Loss/train/SCAAMatching_': 0.5993597507476807,\n",
      " 'Loss/train_avg/SCAAMatching': 0.5993597507476807,\n",
      " 'Loss/val/SCAAMatching_': 0.5999167561531067}\n"
     ]
    },
    {
     "name": "stderr",
     "output_type": "stream",
     "text": [
      "Epoch 3:  25%|████████████████████████████▌                                                                                     | 1/4 [00:18<00:54, 18.30s/it]\n",
      "100%|███████████████████████████████████████████████████████████████████████████████████████████████████████████████████████████| 1/1 [00:03<00:00,  3.89s/it]\n",
      "100%|███████████████████████████████████████████████████████████████████████████████████████████████████████████████████████████| 1/1 [00:04<00:00,  4.69s/it]\n",
      "Epoch 4:   0%|                                                                                                                          | 0/4 [00:00<?, ?it/s]"
     ]
    },
    {
     "name": "stdout",
     "output_type": "stream",
     "text": [
      "Epoch: 3, Time: 27 s\n",
      "{'Accuracy/test/SCAAMatching_': 0.5,\n",
      " 'Accuracy/train/SCAAMatching_': 0.5,\n",
      " 'Accuracy/train_avg/SCAAMatching': 0.5,\n",
      " 'Accuracy/val/SCAAMatching_': 0.5,\n",
      " 'Loss/test/SCAAMatching_': 0.5998523831367493,\n",
      " 'Loss/train/SCAAMatching_': 0.5972433090209961,\n",
      " 'Loss/train_avg/SCAAMatching': 0.5972433090209961,\n",
      " 'Loss/val/SCAAMatching_': 0.5991601943969727}\n"
     ]
    },
    {
     "name": "stderr",
     "output_type": "stream",
     "text": [
      "Epoch 4:  25%|████████████████████████████▌                                                                                     | 1/4 [00:19<00:57, 19.01s/it]\n",
      "100%|███████████████████████████████████████████████████████████████████████████████████████████████████████████████████████████| 1/1 [00:03<00:00,  3.01s/it]\n",
      "100%|███████████████████████████████████████████████████████████████████████████████████████████████████████████████████████████| 1/1 [00:04<00:00,  4.99s/it]\n",
      "Epoch 5:   0%|                                                                                                                          | 0/4 [00:00<?, ?it/s]"
     ]
    },
    {
     "name": "stdout",
     "output_type": "stream",
     "text": [
      "Epoch: 4, Time: 27 s\n",
      "{'Accuracy/test/SCAAMatching_': 0.5,\n",
      " 'Accuracy/train/SCAAMatching_': 0.5,\n",
      " 'Accuracy/train_avg/SCAAMatching': 0.5,\n",
      " 'Accuracy/val/SCAAMatching_': 0.5,\n",
      " 'Loss/test/SCAAMatching_': 0.5996302366256714,\n",
      " 'Loss/train/SCAAMatching_': 0.5981554388999939,\n",
      " 'Loss/train_avg/SCAAMatching': 0.5981554388999939,\n",
      " 'Loss/val/SCAAMatching_': 0.5998492240905762}\n"
     ]
    },
    {
     "name": "stderr",
     "output_type": "stream",
     "text": [
      "Epoch 5:  25%|████████████████████████████▌                                                                                     | 1/4 [00:18<00:54, 18.13s/it]\n",
      "  0%|                                                                                                                                   | 0/1 [00:02<?, ?it/s]\n"
     ]
    },
    {
     "ename": "KeyboardInterrupt",
     "evalue": "",
     "output_type": "error",
     "traceback": [
      "\u001b[0;31m---------------------------------------------------------------------------\u001b[0m",
      "\u001b[0;31mKeyboardInterrupt\u001b[0m                         Traceback (most recent call last)",
      "Input \u001b[0;32mIn [18]\u001b[0m, in \u001b[0;36m<cell line: 1>\u001b[0;34m()\u001b[0m\n\u001b[0;32m----> 1\u001b[0m \u001b[43mtraining_procedure\u001b[49m\u001b[43m(\u001b[49m\n\u001b[1;32m      2\u001b[0m \u001b[43m    \u001b[49m\u001b[43mdataset\u001b[49m\u001b[43m,\u001b[49m\u001b[43m \u001b[49m\n\u001b[1;32m      3\u001b[0m \u001b[43m    \u001b[49m\u001b[43mmodel_name\u001b[49m\u001b[38;5;241;43m=\u001b[39;49m\u001b[43mRGGAN\u001b[49m\u001b[43m,\u001b[49m\u001b[43m \u001b[49m\n\u001b[1;32m      4\u001b[0m \u001b[43m    \u001b[49m\u001b[43mmodel_params\u001b[49m\u001b[38;5;241;43m=\u001b[39;49m\u001b[43mconfig\u001b[49m\u001b[43m[\u001b[49m\u001b[38;5;124;43m\"\u001b[39;49m\u001b[38;5;124;43mMODEL\u001b[39;49m\u001b[38;5;124;43m\"\u001b[39;49m\u001b[43m]\u001b[49m\u001b[43m,\u001b[49m\n\u001b[1;32m      5\u001b[0m \u001b[43m    \u001b[49m\u001b[43mtrainer_params\u001b[49m\u001b[38;5;241;43m=\u001b[39;49m\u001b[43mconfig\u001b[49m\u001b[43m[\u001b[49m\u001b[38;5;124;43m\"\u001b[39;49m\u001b[38;5;124;43mTRAINING\u001b[39;49m\u001b[38;5;124;43m\"\u001b[39;49m\u001b[43m]\u001b[49m\u001b[43m,\u001b[49m\n\u001b[1;32m      6\u001b[0m \u001b[43m    \u001b[49m\u001b[43mmodel_base_path\u001b[49m\u001b[38;5;241;43m=\u001b[39;49m\u001b[43mget_model_base\u001b[49m\u001b[43m(\u001b[49m\u001b[43mconfig\u001b[49m\u001b[43m[\u001b[49m\u001b[38;5;124;43m\"\u001b[39;49m\u001b[38;5;124;43mTRAINING\u001b[39;49m\u001b[38;5;124;43m\"\u001b[39;49m\u001b[43m]\u001b[49m\u001b[43m,\u001b[49m\u001b[43m \u001b[49m\u001b[43mget_name\u001b[49m\u001b[43m(\u001b[49m\u001b[43mRGGAN\u001b[49m\u001b[43m,\u001b[49m\u001b[43m \u001b[49m\u001b[38;5;28;43mstr\u001b[39;49m\u001b[43m(\u001b[49m\u001b[43mdatetime\u001b[49m\u001b[38;5;241;43m.\u001b[39;49m\u001b[43mnow\u001b[49m\u001b[43m(\u001b[49m\u001b[43m)\u001b[49m\u001b[43m)\u001b[49m\u001b[43m)\u001b[49m\u001b[43m)\u001b[49m\u001b[43m,\u001b[49m\n\u001b[1;32m      7\u001b[0m \u001b[43m    \u001b[49m\u001b[43mtrainer\u001b[49m\u001b[38;5;241;43m=\u001b[39;49m\u001b[43mTrainer\u001b[49m\n\u001b[1;32m      8\u001b[0m \u001b[43m)\u001b[49m\n",
      "File \u001b[0;32m~/dev/method-embeddings/SourceCodeTools/models/graph/train/sampling_multitask2.py:794\u001b[0m, in \u001b[0;36mtraining_procedure\u001b[0;34m(dataset, model_name, model_params, trainer_params, model_base_path, tokenizer_path, trainer, load_external_dataset)\u001b[0m\n\u001b[1;32m    781\u001b[0m trainer \u001b[38;5;241m=\u001b[39m trainer(\n\u001b[1;32m    782\u001b[0m     dataset\u001b[38;5;241m=\u001b[39mdataset,\n\u001b[1;32m    783\u001b[0m     model_name\u001b[38;5;241m=\u001b[39mmodel_name,\n\u001b[0;32m   (...)\u001b[0m\n\u001b[1;32m    790\u001b[0m     load_external_dataset\u001b[38;5;241m=\u001b[39mload_external_dataset\n\u001b[1;32m    791\u001b[0m )\n\u001b[1;32m    793\u001b[0m \u001b[38;5;66;03m# try:\u001b[39;00m\n\u001b[0;32m--> 794\u001b[0m \u001b[43mtrainer\u001b[49m\u001b[38;5;241;43m.\u001b[39;49m\u001b[43mtrain_all\u001b[49m\u001b[43m(\u001b[49m\u001b[43m)\u001b[49m\n\u001b[1;32m    795\u001b[0m \u001b[38;5;66;03m# except KeyboardInterrupt:\u001b[39;00m\n\u001b[1;32m    796\u001b[0m \u001b[38;5;66;03m#     logging.info(\"Training interrupted\")\u001b[39;00m\n\u001b[1;32m    797\u001b[0m \u001b[38;5;66;03m# except EarlyStopping:\u001b[39;00m\n\u001b[1;32m    798\u001b[0m \u001b[38;5;66;03m#     logging.info(\"Early stopping triggered\")\u001b[39;00m\n\u001b[1;32m    799\u001b[0m \u001b[38;5;66;03m# except Exception as e:\u001b[39;00m\n\u001b[1;32m    800\u001b[0m \u001b[38;5;66;03m#     print(\"There was an exception\", e)\u001b[39;00m\n\u001b[1;32m    802\u001b[0m trainer\u001b[38;5;241m.\u001b[39meval()\n",
      "File \u001b[0;32m~/dev/method-embeddings/SourceCodeTools/models/graph/train/sampling_multitask2.py:567\u001b[0m, in \u001b[0;36mSamplingMultitaskTrainer.train_all\u001b[0;34m(self)\u001b[0m\n\u001b[1;32m    564\u001b[0m \u001b[38;5;28;01mwith\u001b[39;00m torch\u001b[38;5;241m.\u001b[39mset_grad_enabled(\u001b[38;5;28;01mFalse\u001b[39;00m):\n\u001b[1;32m    565\u001b[0m     objective\u001b[38;5;241m.\u001b[39mtarget_embedder\u001b[38;5;241m.\u001b[39mprepare_index()  \u001b[38;5;66;03m# need this to update sampler for the next epoch\u001b[39;00m\n\u001b[0;32m--> 567\u001b[0m     val_scores \u001b[38;5;241m=\u001b[39m \u001b[43mobjective\u001b[49m\u001b[38;5;241;43m.\u001b[39;49m\u001b[43mevaluate\u001b[49m\u001b[43m(\u001b[49m\u001b[38;5;124;43m\"\u001b[39;49m\u001b[38;5;124;43mval\u001b[39;49m\u001b[38;5;124;43m\"\u001b[39;49m\u001b[43m)\u001b[49m\n\u001b[1;32m    568\u001b[0m     test_scores \u001b[38;5;241m=\u001b[39m objective\u001b[38;5;241m.\u001b[39mevaluate(\u001b[38;5;124m\"\u001b[39m\u001b[38;5;124mtest\u001b[39m\u001b[38;5;124m\"\u001b[39m)\n\u001b[1;32m    570\u001b[0m summary \u001b[38;5;241m=\u001b[39m {}\n",
      "File \u001b[0;32m~/dev/method-embeddings/SourceCodeTools/models/graph/train/objectives/AbstractObjective.py:746\u001b[0m, in \u001b[0;36mAbstractObjective.evaluate\u001b[0;34m(self, data_split, neg_sampling_strategy, early_stopping, early_stopping_tolerance)\u001b[0m\n\u001b[1;32m    744\u001b[0m \u001b[38;5;28;01mdef\u001b[39;00m \u001b[38;5;21mevaluate\u001b[39m(\u001b[38;5;28mself\u001b[39m, data_split, \u001b[38;5;241m*\u001b[39m, neg_sampling_strategy\u001b[38;5;241m=\u001b[39m\u001b[38;5;28;01mNone\u001b[39;00m, early_stopping\u001b[38;5;241m=\u001b[39m\u001b[38;5;28;01mFalse\u001b[39;00m, early_stopping_tolerance\u001b[38;5;241m=\u001b[39m\u001b[38;5;241m20\u001b[39m):\n\u001b[1;32m    745\u001b[0m     \u001b[38;5;66;03m# negative factor is 1 for evaluation\u001b[39;00m\n\u001b[0;32m--> 746\u001b[0m     scores \u001b[38;5;241m=\u001b[39m \u001b[38;5;28;43mself\u001b[39;49m\u001b[38;5;241;43m.\u001b[39;49m\u001b[43mevaluate_objective\u001b[49m\u001b[43m(\u001b[49m\u001b[43mdata_split\u001b[49m\u001b[43m,\u001b[49m\u001b[43m \u001b[49m\u001b[43mneg_sampling_strategy\u001b[49m\u001b[38;5;241;43m=\u001b[39;49m\u001b[38;5;28;43;01mNone\u001b[39;49;00m\u001b[43m,\u001b[49m\u001b[43m \u001b[49m\u001b[43mnegative_factor\u001b[49m\u001b[38;5;241;43m=\u001b[39;49m\u001b[38;5;241;43m1\u001b[39;49m\u001b[43m)\u001b[49m\n\u001b[1;32m    747\u001b[0m     \u001b[38;5;28;01mif\u001b[39;00m data_split \u001b[38;5;241m==\u001b[39m \u001b[38;5;124m\"\u001b[39m\u001b[38;5;124mval\u001b[39m\u001b[38;5;124m\"\u001b[39m:\n\u001b[1;32m    748\u001b[0m         \u001b[38;5;28mself\u001b[39m\u001b[38;5;241m.\u001b[39mcheck_early_stopping(scores[\u001b[38;5;124m\"\u001b[39m\u001b[38;5;124mAccuracy\u001b[39m\u001b[38;5;124m\"\u001b[39m])\n",
      "File \u001b[0;32m~/dev/method-embeddings/SourceCodeTools/models/graph/train/objectives/SubgraphClassifierObjective.py:238\u001b[0m, in \u001b[0;36mSubgraphAbstractObjective.evaluate_objective\u001b[0;34m(self, data_split, neg_sampling_strategy, negative_factor)\u001b[0m\n\u001b[1;32m    235\u001b[0m     masked \u001b[38;5;241m=\u001b[39m \u001b[38;5;28mself\u001b[39m\u001b[38;5;241m.\u001b[39mmasker\u001b[38;5;241m.\u001b[39mget_mask(\u001b[38;5;28mself\u001b[39m\u001b[38;5;241m.\u001b[39mseeds_to_python(seeds))\n\u001b[1;32m    237\u001b[0m src_embs \u001b[38;5;241m=\u001b[39m \u001b[38;5;28mself\u001b[39m\u001b[38;5;241m.\u001b[39m_graph_embeddings(input_nodes, blocks, masked\u001b[38;5;241m=\u001b[39mmasked, subgraph_masks\u001b[38;5;241m=\u001b[39msubgraph_masks)\n\u001b[0;32m--> 238\u001b[0m node_embs_, element_embs_, labels \u001b[38;5;241m=\u001b[39m \u001b[38;5;28;43mself\u001b[39;49m\u001b[38;5;241;43m.\u001b[39;49m\u001b[43mprepare_for_prediction\u001b[49m\u001b[43m(\u001b[49m\n\u001b[1;32m    239\u001b[0m \u001b[43m    \u001b[49m\u001b[43msrc_embs\u001b[49m\u001b[43m,\u001b[49m\u001b[43m \u001b[49m\u001b[43mseeds\u001b[49m\u001b[43m,\u001b[49m\u001b[43m \u001b[49m\u001b[38;5;28;43mself\u001b[39;49m\u001b[38;5;241;43m.\u001b[39;49m\u001b[43mtarget_embedding_fn\u001b[49m\u001b[43m,\u001b[49m\u001b[43m \u001b[49m\u001b[43mnegative_factor\u001b[49m\u001b[38;5;241;43m=\u001b[39;49m\u001b[43mnegative_factor\u001b[49m\u001b[43m,\u001b[49m\n\u001b[1;32m    240\u001b[0m \u001b[43m    \u001b[49m\u001b[43mneg_sampling_strategy\u001b[49m\u001b[38;5;241;43m=\u001b[39;49m\u001b[43mneg_sampling_strategy\u001b[49m\u001b[43m,\u001b[49m\n\u001b[1;32m    241\u001b[0m \u001b[43m    \u001b[49m\u001b[43mtrain_embeddings\u001b[49m\u001b[38;5;241;43m=\u001b[39;49m\u001b[38;5;28;43;01mFalse\u001b[39;49;00m\n\u001b[1;32m    242\u001b[0m \u001b[43m\u001b[49m\u001b[43m)\u001b[49m\n\u001b[1;32m    244\u001b[0m \u001b[38;5;28;01mif\u001b[39;00m \u001b[38;5;28mself\u001b[39m\u001b[38;5;241m.\u001b[39mmeasure_scores:\n\u001b[1;32m    245\u001b[0m     \u001b[38;5;28;01mif\u001b[39;00m count \u001b[38;5;241m%\u001b[39m \u001b[38;5;28mself\u001b[39m\u001b[38;5;241m.\u001b[39mdilate_scores \u001b[38;5;241m==\u001b[39m \u001b[38;5;241m0\u001b[39m:\n",
      "File \u001b[0;32m~/dev/method-embeddings/SourceCodeTools/models/graph/train/objectives/AbstractObjective.py:490\u001b[0m, in \u001b[0;36mAbstractObjective.prepare_for_prediction\u001b[0;34m(self, node_embeddings, seeds, target_embedding_fn, negative_factor, neg_sampling_strategy, train_embeddings)\u001b[0m\n\u001b[1;32m    485\u001b[0m positive_indices \u001b[38;5;241m=\u001b[39m \u001b[38;5;28mself\u001b[39m\u001b[38;5;241m.\u001b[39mtarget_embedder[indices]\n\u001b[1;32m    486\u001b[0m negative_indices \u001b[38;5;241m=\u001b[39m \u001b[38;5;28mself\u001b[39m\u001b[38;5;241m.\u001b[39msample_negative(\n\u001b[1;32m    487\u001b[0m     k\u001b[38;5;241m=\u001b[39mbatch_size \u001b[38;5;241m*\u001b[39m k, ids\u001b[38;5;241m=\u001b[39mindices, neg_sampling_strategy\u001b[38;5;241m=\u001b[39mneg_sampling_strategy\n\u001b[1;32m    488\u001b[0m )\n\u001b[0;32m--> 490\u001b[0m positive_dst, negative_dst \u001b[38;5;241m=\u001b[39m \u001b[43mtarget_embedding_fn\u001b[49m\u001b[43m(\u001b[49m\n\u001b[1;32m    491\u001b[0m \u001b[43m    \u001b[49m\u001b[43mpositive_indices\u001b[49m\u001b[43m,\u001b[49m\u001b[43m \u001b[49m\u001b[43mnegative_indices\u001b[49m\u001b[43m,\u001b[49m\u001b[43m \u001b[49m\u001b[43mtrain_embeddings\u001b[49m\n\u001b[1;32m    492\u001b[0m \u001b[43m\u001b[49m\u001b[43m)\u001b[49m\n\u001b[1;32m    494\u001b[0m \u001b[38;5;66;03m# TODO breaks cache in\u001b[39;00m\n\u001b[1;32m    495\u001b[0m \u001b[38;5;66;03m#  SourceCodeTools.models.graph.train.objectives.GraphLinkClassificationObjective.TargetLinkMapper.get_labels\u001b[39;00m\n\u001b[1;32m    496\u001b[0m labels_pos \u001b[38;5;241m=\u001b[39m \u001b[38;5;28mself\u001b[39m\u001b[38;5;241m.\u001b[39mcreate_positive_labels(indices)\n",
      "File \u001b[0;32m~/dev/method-embeddings/SourceCodeTools/models/graph/train/objectives/SubgraphEmbedderObjective.py:101\u001b[0m, in \u001b[0;36mget_targets_from_subgraph\u001b[0;34m(self, positive_indices, negative_indices, train_embeddings)\u001b[0m\n\u001b[1;32m     99\u001b[0m \n\u001b[1;32m    100\u001b[0m         positive_dst = prepare(positive_indices)\n\u001b[0;32m--> 101\u001b[0m         negative_dst = prepare(negative_indices) if negative_indices is not None else None\n\u001b[1;32m    102\u001b[0m \n\u001b[1;32m    103\u001b[0m         return positive_dst, negative_dst\n",
      "File \u001b[0;32m~/dev/method-embeddings/SourceCodeTools/models/graph/train/objectives/SubgraphEmbedderObjective.py:95\u001b[0m, in \u001b[0;36mprepare\u001b[0;34m(indices)\u001b[0m\n\u001b[1;32m     93\u001b[0m def prepare(indices):\n\u001b[1;32m     94\u001b[0m     indices_c = compactify(indices)\n\u001b[0;32m---> 95\u001b[0m     embs = get_embeddings(self.train_loader.load_ids(indices_c))\n\u001b[1;32m     96\u001b[0m     if len(indices_c) != len(indices):\n\u001b[1;32m     97\u001b[0m         embs = restore(indices, indices_c, embs)\n",
      "File \u001b[0;32m~/dev/method-embeddings/SourceCodeTools/models/graph/train/objectives/SubgraphEmbedderObjective.py:78\u001b[0m, in \u001b[0;36mget_embeddings\u001b[0;34m(loader)\u001b[0m\n\u001b[1;32m     76\u001b[0m ):\n\u001b[1;32m     77\u001b[0m     def get_embeddings(loader):\n\u001b[0;32m---> 78\u001b[0m         input_nodes, seeds, blocks = next(loader)\n\u001b[1;32m     79\u001b[0m         subgraph_masks, seeds = seeds\n\u001b[1;32m     80\u001b[0m         masked = self.masker.get_mask(self.seeds_to_python(seeds)) if self.masker is not None else None\n",
      "File \u001b[0;32m~/dev/method-embeddings/SourceCodeTools/models/graph/train/objectives/SubgraphClassifierObjective.py:54\u001b[0m, in \u001b[0;36mSubgraphLoader.load_ids\u001b[0;34m(self, batch_ids)\u001b[0m\n\u001b[1;32m     52\u001b[0m         subgraph_nodes \u001b[38;5;241m=\u001b[39m subgraph[type_]\n\u001b[1;32m     53\u001b[0m         \u001b[38;5;28;01mfor\u001b[39;00m node_id \u001b[38;5;129;01min\u001b[39;00m node_ids[type_]:\n\u001b[0;32m---> 54\u001b[0m             \u001b[43mcoincidence_matrix\u001b[49m\u001b[43m[\u001b[49m\u001b[38;5;241;43m-\u001b[39;49m\u001b[38;5;241;43m1\u001b[39;49m\u001b[43m]\u001b[49m\u001b[38;5;241;43m.\u001b[39;49m\u001b[43mappend\u001b[49m\u001b[43m(\u001b[49m\u001b[43mnode_id\u001b[49m\u001b[43m \u001b[49m\u001b[38;5;129;43;01min\u001b[39;49;00m\u001b[43m \u001b[49m\u001b[43msubgraph_nodes\u001b[49m\u001b[43m)\u001b[49m\n\u001b[1;32m     56\u001b[0m coincidence_matrix \u001b[38;5;241m=\u001b[39m torch\u001b[38;5;241m.\u001b[39mBoolTensor(coincidence_matrix)\n\u001b[1;32m     58\u001b[0m loader \u001b[38;5;241m=\u001b[39m \u001b[38;5;28mself\u001b[39m\u001b[38;5;241m.\u001b[39mloading_fn(node_ids)\n",
      "\u001b[0;31mKeyboardInterrupt\u001b[0m: "
     ]
    }
   ],
   "source": [
    "training_procedure(\n",
    "    dataset, \n",
    "    model_name=RGGAN, \n",
    "    model_params=config[\"MODEL\"],\n",
    "    trainer_params=config[\"TRAINING\"],\n",
    "    model_base_path=get_model_base(config[\"TRAINING\"], get_name(RGGAN, str(datetime.now()))),\n",
    "    trainer=Trainer\n",
    ")"
   ]
  },
  {
   "cell_type": "code",
   "execution_count": null,
   "id": "879cf5e3",
   "metadata": {
    "pycharm": {
     "name": "#%%\n"
    }
   },
   "outputs": [],
   "source": []
  },
  {
   "cell_type": "code",
   "execution_count": null,
   "id": "9b91dd03",
   "metadata": {
    "pycharm": {
     "name": "#%%\n"
    }
   },
   "outputs": [],
   "source": []
  }
 ],
 "metadata": {
  "kernelspec": {
   "display_name": "Python 3 (ipykernel)",
   "language": "python",
   "name": "python3"
  },
  "language_info": {
   "codemirror_mode": {
    "name": "ipython",
    "version": 3
   },
   "file_extension": ".py",
   "mimetype": "text/x-python",
   "name": "python",
   "nbconvert_exporter": "python",
   "pygments_lexer": "ipython3",
   "version": "3.9.5"
  }
 },
 "nbformat": 4,
 "nbformat_minor": 5
}

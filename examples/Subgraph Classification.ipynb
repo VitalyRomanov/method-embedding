{
 "cells": [
  {
   "cell_type": "code",
   "execution_count": 1,
   "id": "244ac956",
   "metadata": {},
   "outputs": [],
   "source": [
    "%load_ext autoreload\n",
    "%autoreload 2\n",
    "%load_ext tensorboard"
   ]
  },
  {
   "cell_type": "code",
   "execution_count": 2,
   "id": "bdefc65e",
   "metadata": {},
   "outputs": [
    {
     "name": "stderr",
     "output_type": "stream",
     "text": [
      "Using backend: pytorch\n"
     ]
    }
   ],
   "source": [
    "from random import random\n",
    "\n",
    "from SourceCodeTools.models.training_config import get_config, save_config, load_config\n",
    "from SourceCodeTools.code.data.dataset.Dataset import SourceGraphDataset, filter_dst_by_freq\n",
    "from SourceCodeTools.models.graph.train.sampling_multitask2 import training_procedure, SamplingMultitaskTrainer\n",
    "from SourceCodeTools.models.graph.train.objectives.NodeClassificationObjective import NodeClassifierObjective\n",
    "from SourceCodeTools.models.graph.train.objectives.SubgraphClassifierObjective import SubgraphAbstractObjective, \\\n",
    "    SubgraphClassifierObjective, SubgraphEmbeddingObjective\n",
    "from SourceCodeTools.models.graph.train.utils import get_name, get_model_base\n",
    "from SourceCodeTools.models.graph import RGGAN\n",
    "from SourceCodeTools.tabular.common import compact_property\n",
    "from SourceCodeTools.code.data.file_utils import unpersist\n",
    "\n",
    "import dgl\n",
    "import torch\n",
    "import numpy as np\n",
    "from argparse import Namespace\n",
    "from torch import nn\n",
    "from datetime import datetime\n",
    "from os.path import join\n",
    "from functools import partial"
   ]
  },
  {
   "cell_type": "markdown",
   "id": "4becf482",
   "metadata": {
    "tags": []
   },
   "source": [
    "# Prepare parameters and options\n",
    "\n",
    "Full list of options that can be added can be found in `SourceCodeTools/models/training_options.py`. They are ment to be used as arguments for cli trainer. Trainer script can be found in `SourceCodeTools/scripts/train.py`.\n",
    "\n",
    "For the task of subgraph classification the important options are:\n",
    "- `subgraph_partition` is path to subgraph-based train/val/test sets. Storead as Dataframe with subgraph id and partition mask\n",
    "- `subgraph_id_column` is a column is `common_edges` file that stores subgraph id.\n",
    "- For variable misuse task (same will apply to authorship attribution) subgraphs are created for individual functions (files for SCAA). The label is stored in `common_filecontent`."
   ]
  },
  {
   "cell_type": "code",
   "execution_count": 3,
   "id": "5637f70e-b8fd-4a9f-9956-d60a61bd2870",
   "metadata": {},
   "outputs": [],
   "source": [
    "tokenizer_path = \"sentencepiece_bpe.model\"\n",
    "\n",
    "data_path = \"cubert_varmisuse_tiny\"\n",
    "subgraph_partition = join(data_path, \"partition.json.bz2\")\n",
    "filecontent_path = join(data_path, \"common_filecontent.json.bz2\")"
   ]
  },
  {
   "cell_type": "code",
   "execution_count": 4,
   "id": "404565f5-09a3-4535-ba51-8533491f7c72",
   "metadata": {},
   "outputs": [
    {
     "data": {
      "text/html": [
       "<div>\n",
       "<style scoped>\n",
       "    .dataframe tbody tr th:only-of-type {\n",
       "        vertical-align: middle;\n",
       "    }\n",
       "\n",
       "    .dataframe tbody tr th {\n",
       "        vertical-align: top;\n",
       "    }\n",
       "\n",
       "    .dataframe thead th {\n",
       "        text-align: right;\n",
       "    }\n",
       "</style>\n",
       "<table border=\"1\" class=\"dataframe\">\n",
       "  <thead>\n",
       "    <tr style=\"text-align: right;\">\n",
       "      <th></th>\n",
       "      <th>id</th>\n",
       "      <th>train_mask</th>\n",
       "      <th>val_mask</th>\n",
       "      <th>test_mask</th>\n",
       "    </tr>\n",
       "  </thead>\n",
       "  <tbody>\n",
       "    <tr>\n",
       "      <th>0</th>\n",
       "      <td>5040</td>\n",
       "      <td>True</td>\n",
       "      <td>False</td>\n",
       "      <td>False</td>\n",
       "    </tr>\n",
       "    <tr>\n",
       "      <th>1</th>\n",
       "      <td>9406</td>\n",
       "      <td>True</td>\n",
       "      <td>False</td>\n",
       "      <td>False</td>\n",
       "    </tr>\n",
       "    <tr>\n",
       "      <th>2</th>\n",
       "      <td>9720</td>\n",
       "      <td>True</td>\n",
       "      <td>False</td>\n",
       "      <td>False</td>\n",
       "    </tr>\n",
       "    <tr>\n",
       "      <th>3</th>\n",
       "      <td>5332</td>\n",
       "      <td>True</td>\n",
       "      <td>False</td>\n",
       "      <td>False</td>\n",
       "    </tr>\n",
       "    <tr>\n",
       "      <th>4</th>\n",
       "      <td>6923</td>\n",
       "      <td>True</td>\n",
       "      <td>False</td>\n",
       "      <td>False</td>\n",
       "    </tr>\n",
       "    <tr>\n",
       "      <th>...</th>\n",
       "      <td>...</td>\n",
       "      <td>...</td>\n",
       "      <td>...</td>\n",
       "      <td>...</td>\n",
       "    </tr>\n",
       "    <tr>\n",
       "      <th>23087</th>\n",
       "      <td>993090</td>\n",
       "      <td>False</td>\n",
       "      <td>False</td>\n",
       "      <td>True</td>\n",
       "    </tr>\n",
       "    <tr>\n",
       "      <th>23088</th>\n",
       "      <td>998594</td>\n",
       "      <td>False</td>\n",
       "      <td>False</td>\n",
       "      <td>True</td>\n",
       "    </tr>\n",
       "    <tr>\n",
       "      <th>23089</th>\n",
       "      <td>998064</td>\n",
       "      <td>False</td>\n",
       "      <td>False</td>\n",
       "      <td>True</td>\n",
       "    </tr>\n",
       "    <tr>\n",
       "      <th>23090</th>\n",
       "      <td>997465</td>\n",
       "      <td>False</td>\n",
       "      <td>False</td>\n",
       "      <td>True</td>\n",
       "    </tr>\n",
       "    <tr>\n",
       "      <th>23091</th>\n",
       "      <td>994477</td>\n",
       "      <td>False</td>\n",
       "      <td>False</td>\n",
       "      <td>True</td>\n",
       "    </tr>\n",
       "  </tbody>\n",
       "</table>\n",
       "<p>23092 rows × 4 columns</p>\n",
       "</div>"
      ],
      "text/plain": [
       "           id  train_mask  val_mask  test_mask\n",
       "0        5040        True     False      False\n",
       "1        9406        True     False      False\n",
       "2        9720        True     False      False\n",
       "3        5332        True     False      False\n",
       "4        6923        True     False      False\n",
       "...       ...         ...       ...        ...\n",
       "23087  993090       False     False       True\n",
       "23088  998594       False     False       True\n",
       "23089  998064       False     False       True\n",
       "23090  997465       False     False       True\n",
       "23091  994477       False     False       True\n",
       "\n",
       "[23092 rows x 4 columns]"
      ]
     },
     "execution_count": 4,
     "metadata": {},
     "output_type": "execute_result"
    }
   ],
   "source": [
    "unpersist(subgraph_partition)"
   ]
  },
  {
   "cell_type": "code",
   "execution_count": 5,
   "id": "d09b740a-eaaf-4fac-a73f-0bd9bb671f70",
   "metadata": {},
   "outputs": [
    {
     "data": {
      "text/html": [
       "<div>\n",
       "<style scoped>\n",
       "    .dataframe tbody tr th:only-of-type {\n",
       "        vertical-align: middle;\n",
       "    }\n",
       "\n",
       "    .dataframe tbody tr th {\n",
       "        vertical-align: top;\n",
       "    }\n",
       "\n",
       "    .dataframe thead th {\n",
       "        text-align: right;\n",
       "    }\n",
       "</style>\n",
       "<table border=\"1\" class=\"dataframe\">\n",
       "  <thead>\n",
       "    <tr style=\"text-align: right;\">\n",
       "      <th></th>\n",
       "      <th>id</th>\n",
       "      <th>type</th>\n",
       "      <th>source_node_id</th>\n",
       "      <th>target_node_id</th>\n",
       "      <th>file_id</th>\n",
       "      <th>mentioned_in</th>\n",
       "    </tr>\n",
       "  </thead>\n",
       "  <tbody>\n",
       "    <tr>\n",
       "      <th>0</th>\n",
       "      <td>0</td>\n",
       "      <td>subword</td>\n",
       "      <td>483174</td>\n",
       "      <td>425064</td>\n",
       "      <td>5040</td>\n",
       "      <td>NaN</td>\n",
       "    </tr>\n",
       "    <tr>\n",
       "      <th>1</th>\n",
       "      <td>1</td>\n",
       "      <td>arg</td>\n",
       "      <td>425064</td>\n",
       "      <td>97124</td>\n",
       "      <td>5040</td>\n",
       "      <td>142323.0</td>\n",
       "    </tr>\n",
       "    <tr>\n",
       "      <th>2</th>\n",
       "      <td>2</td>\n",
       "      <td>arg_rev</td>\n",
       "      <td>97124</td>\n",
       "      <td>425064</td>\n",
       "      <td>5040</td>\n",
       "      <td>142323.0</td>\n",
       "    </tr>\n",
       "    <tr>\n",
       "      <th>3</th>\n",
       "      <td>3</td>\n",
       "      <td>args</td>\n",
       "      <td>97124</td>\n",
       "      <td>248751</td>\n",
       "      <td>5040</td>\n",
       "      <td>142323.0</td>\n",
       "    </tr>\n",
       "    <tr>\n",
       "      <th>4</th>\n",
       "      <td>4</td>\n",
       "      <td>args_rev</td>\n",
       "      <td>248751</td>\n",
       "      <td>97124</td>\n",
       "      <td>5040</td>\n",
       "      <td>142323.0</td>\n",
       "    </tr>\n",
       "    <tr>\n",
       "      <th>5</th>\n",
       "      <td>5</td>\n",
       "      <td>args</td>\n",
       "      <td>248751</td>\n",
       "      <td>142323</td>\n",
       "      <td>5040</td>\n",
       "      <td>142323.0</td>\n",
       "    </tr>\n",
       "    <tr>\n",
       "      <th>6</th>\n",
       "      <td>6</td>\n",
       "      <td>args_rev</td>\n",
       "      <td>142323</td>\n",
       "      <td>248751</td>\n",
       "      <td>5040</td>\n",
       "      <td>142323.0</td>\n",
       "    </tr>\n",
       "    <tr>\n",
       "      <th>7</th>\n",
       "      <td>7</td>\n",
       "      <td>subword</td>\n",
       "      <td>786198</td>\n",
       "      <td>143287</td>\n",
       "      <td>5040</td>\n",
       "      <td>NaN</td>\n",
       "    </tr>\n",
       "    <tr>\n",
       "      <th>8</th>\n",
       "      <td>8</td>\n",
       "      <td>decorator_list</td>\n",
       "      <td>143287</td>\n",
       "      <td>142323</td>\n",
       "      <td>5040</td>\n",
       "      <td>142323.0</td>\n",
       "    </tr>\n",
       "    <tr>\n",
       "      <th>9</th>\n",
       "      <td>9</td>\n",
       "      <td>decorator_list_rev</td>\n",
       "      <td>142323</td>\n",
       "      <td>143287</td>\n",
       "      <td>5040</td>\n",
       "      <td>142323.0</td>\n",
       "    </tr>\n",
       "  </tbody>\n",
       "</table>\n",
       "</div>"
      ],
      "text/plain": [
       "   id                type  source_node_id  target_node_id  file_id  \\\n",
       "0   0             subword          483174          425064     5040   \n",
       "1   1                 arg          425064           97124     5040   \n",
       "2   2             arg_rev           97124          425064     5040   \n",
       "3   3                args           97124          248751     5040   \n",
       "4   4            args_rev          248751           97124     5040   \n",
       "5   5                args          248751          142323     5040   \n",
       "6   6            args_rev          142323          248751     5040   \n",
       "7   7             subword          786198          143287     5040   \n",
       "8   8      decorator_list          143287          142323     5040   \n",
       "9   9  decorator_list_rev          142323          143287     5040   \n",
       "\n",
       "   mentioned_in  \n",
       "0           NaN  \n",
       "1      142323.0  \n",
       "2      142323.0  \n",
       "3      142323.0  \n",
       "4      142323.0  \n",
       "5      142323.0  \n",
       "6      142323.0  \n",
       "7           NaN  \n",
       "8      142323.0  \n",
       "9      142323.0  "
      ]
     },
     "execution_count": 5,
     "metadata": {},
     "output_type": "execute_result"
    }
   ],
   "source": [
    "unpersist(join(data_path, \"common_edges.json.bz2\"), nrows=10)"
   ]
  },
  {
   "cell_type": "code",
   "execution_count": 6,
   "id": "d38f83db",
   "metadata": {},
   "outputs": [],
   "source": [
    "config = get_config(\n",
    "    subgraph_id_column=\"file_id\",\n",
    "    data_path=data_path,\n",
    "    model_output_dir=data_path,\n",
    "    subgraph_partition=subgraph_partition,\n",
    "    tokenizer_path=tokenizer_path,\n",
    "    objectives=\"subgraph_clf\",\n",
    ")"
   ]
  },
  {
   "cell_type": "code",
   "execution_count": 7,
   "id": "bf61e1a2-2a2b-4688-b6b6-4ad3c22b22a5",
   "metadata": {},
   "outputs": [],
   "source": [
    "save_config(config, \"var_misuse_tiny.yaml\")"
   ]
  },
  {
   "cell_type": "code",
   "execution_count": 8,
   "id": "07dc7b86",
   "metadata": {},
   "outputs": [
    {
     "data": {
      "text/plain": [
       "{'DATASET': {'data_path': 'cubert_varmisuse_tiny',\n",
       "  'train_frac': 0.9,\n",
       "  'filter_edges': None,\n",
       "  'min_count_for_objectives': 5,\n",
       "  'self_loops': False,\n",
       "  'use_node_types': False,\n",
       "  'use_edge_types': False,\n",
       "  'no_global_edges': False,\n",
       "  'remove_reverse': False,\n",
       "  'custom_reverse': None,\n",
       "  'restricted_id_pool': None,\n",
       "  'random_seed': None,\n",
       "  'subgraph_id_column': 'file_id',\n",
       "  'subgraph_partition': 'cubert_varmisuse_tiny\\\\partition.json.bz2'},\n",
       " 'TRAINING': {'model_output_dir': 'cubert_varmisuse_tiny',\n",
       "  'pretrained': None,\n",
       "  'pretraining_phase': 0,\n",
       "  'sampling_neighbourhood_size': 10,\n",
       "  'neg_sampling_factor': 3,\n",
       "  'use_layer_scheduling': False,\n",
       "  'schedule_layers_every': 10,\n",
       "  'elem_emb_size': 100,\n",
       "  'embedding_table_size': 200000,\n",
       "  'epochs': 100,\n",
       "  'batch_size': 128,\n",
       "  'learning_rate': 0.001,\n",
       "  'objectives': 'subgraph_clf',\n",
       "  'save_each_epoch': False,\n",
       "  'save_checkpoints': True,\n",
       "  'early_stopping': False,\n",
       "  'early_stopping_tolerance': 20,\n",
       "  'force_w2v_ns': False,\n",
       "  'use_ns_groups': False,\n",
       "  'nn_index': 'brute',\n",
       "  'metric': 'inner_prod',\n",
       "  'measure_scores': False,\n",
       "  'dilate_scores': 200,\n",
       "  'gpu': -1,\n",
       "  'external_dataset': None,\n",
       "  'restore_state': False},\n",
       " 'MODEL': {'node_emb_size': 100,\n",
       "  'h_dim': 100,\n",
       "  'n_layers': 5,\n",
       "  'use_self_loop': True,\n",
       "  'use_gcn_checkpoint': False,\n",
       "  'use_att_checkpoint': False,\n",
       "  'use_gru_checkpoint': False,\n",
       "  'num_bases': 10,\n",
       "  'dropout': 0.0,\n",
       "  'activation': 'tanh'},\n",
       " 'TOKENIZER': {'tokenizer_path': 'sentencepiece_bpe.model'}}"
      ]
     },
     "execution_count": 8,
     "metadata": {},
     "output_type": "execute_result"
    }
   ],
   "source": [
    "config"
   ]
  },
  {
   "cell_type": "markdown",
   "id": "069a2528",
   "metadata": {},
   "source": [
    "# Create Dataset"
   ]
  },
  {
   "cell_type": "code",
   "execution_count": 9,
   "id": "d0ce29fc",
   "metadata": {},
   "outputs": [],
   "source": [
    "dataset = SourceGraphDataset(\n",
    "    **{**config[\"DATASET\"], **config[\"TOKENIZER\"]}\n",
    ")"
   ]
  },
  {
   "cell_type": "markdown",
   "id": "897d41bf",
   "metadata": {},
   "source": [
    "# Declare target loading function (labels)"
   ]
  },
  {
   "cell_type": "code",
   "execution_count": 10,
   "id": "c279f43e",
   "metadata": {
    "tags": []
   },
   "outputs": [],
   "source": [
    "def load_labels():\n",
    "    filecontent = unpersist(filecontent_path)\n",
    "    return filecontent[[\"id\", \"label\"]].rename({\"id\": \"src\", \"label\": \"dst\"}, axis=1)"
   ]
  },
  {
   "cell_type": "markdown",
   "id": "1ac27d90",
   "metadata": {},
   "source": [
    "One or several objectives could be used"
   ]
  },
  {
   "cell_type": "code",
   "execution_count": 11,
   "id": "67605a81",
   "metadata": {},
   "outputs": [],
   "source": [
    "class Trainer(SamplingMultitaskTrainer):\n",
    "    def create_objectives(self, dataset, tokenizer_path):\n",
    "        self.objectives = nn.ModuleList()\n",
    "        \n",
    "        self.objectives.append(\n",
    "            self._create_subgraph_objective(\n",
    "                objective_name=\"VariableMisuseClf\",\n",
    "                objective_class=SubgraphClassifierObjective,\n",
    "                dataset=dataset,\n",
    "                tokenizer_path=tokenizer_path,\n",
    "                labels_fn=load_labels,\n",
    "            )\n",
    "        )"
   ]
  },
  {
   "cell_type": "code",
   "execution_count": 12,
   "id": "393251c2",
   "metadata": {},
   "outputs": [
    {
     "data": {
      "text/html": [
       "\n",
       "      <iframe id=\"tensorboard-frame-d1e1ddff4ef124e8\" width=\"100%\" height=\"800\" frameborder=\"0\">\n",
       "      </iframe>\n",
       "      <script>\n",
       "        (function() {\n",
       "          const frame = document.getElementById(\"tensorboard-frame-d1e1ddff4ef124e8\");\n",
       "          const url = new URL(\"/\", window.location);\n",
       "          const port = 6006;\n",
       "          if (port) {\n",
       "            url.port = port;\n",
       "          }\n",
       "          frame.src = url;\n",
       "        })();\n",
       "      </script>\n",
       "    "
      ],
      "text/plain": [
       "<IPython.core.display.HTML object>"
      ]
     },
     "metadata": {},
     "output_type": "display_data"
    }
   ],
   "source": [
    "%tensorboard --logdir data_path"
   ]
  },
  {
   "cell_type": "code",
   "execution_count": null,
   "id": "369ed1bb",
   "metadata": {},
   "outputs": [
    {
     "name": "stdout",
     "output_type": "stream",
     "text": [
      "Number of nodes 1014088\n"
     ]
    },
    {
     "name": "stderr",
     "output_type": "stream",
     "text": [
      "Epoch 0: 100%|███████████████████████████████████████████████████████████████████████| 110/110 [04:01<00:00,  2.20s/it]\n",
      "Epoch 1:   0%|                                                                                 | 0/110 [00:00<?, ?it/s]"
     ]
    },
    {
     "name": "stdout",
     "output_type": "stream",
     "text": [
      "Epoch: 0, Time: 342 s\n",
      "{'Accuracy/test/VariableMisuseClf_': 0.5029166666666667,\n",
      " 'Accuracy/train/VariableMisuseClf_': 0.5,\n",
      " 'Accuracy/train_avg/VariableMisuseClf': 0.5012073863636364,\n",
      " 'Accuracy/val/VariableMisuseClf_': 0.4907852564102564,\n",
      " 'Loss/test/VariableMisuseClf_': 0.6933931122223537,\n",
      " 'Loss/train/VariableMisuseClf_': 0.6923571825027466,\n",
      " 'Loss/train_avg/VariableMisuseClf': 0.694703086939725,\n",
      " 'Loss/val/VariableMisuseClf_': 0.6938766489426295}\n"
     ]
    },
    {
     "name": "stderr",
     "output_type": "stream",
     "text": [
      "Epoch 1:  63%|█████████████████████████████████████████████▏                          | 69/110 [02:27<02:09,  3.17s/it]"
     ]
    }
   ],
   "source": [
    "training_procedure(\n",
    "    dataset, \n",
    "    model_name=RGGAN, \n",
    "    model_params=config[\"MODEL\"],\n",
    "    trainer_params=config[\"TRAINING\"],\n",
    "    model_base_path=get_model_base(config[\"TRAINING\"], get_name(RGGAN, str(datetime.now()))),\n",
    "    trainer=Trainer\n",
    ")"
   ]
  },
  {
   "cell_type": "code",
   "execution_count": null,
   "id": "879cf5e3",
   "metadata": {},
   "outputs": [],
   "source": []
  },
  {
   "cell_type": "code",
   "execution_count": null,
   "id": "9b91dd03",
   "metadata": {},
   "outputs": [],
   "source": []
  }
 ],
 "metadata": {
  "kernelspec": {
   "display_name": "SourceCodeTools",
   "language": "python",
   "name": "sourcecodetools"
  },
  "language_info": {
   "codemirror_mode": {
    "name": "ipython",
    "version": 3
   },
   "file_extension": ".py",
   "mimetype": "text/x-python",
   "name": "python",
   "nbconvert_exporter": "python",
   "pygments_lexer": "ipython3",
   "version": "3.8.12"
  }
 },
 "nbformat": 4,
 "nbformat_minor": 5
}

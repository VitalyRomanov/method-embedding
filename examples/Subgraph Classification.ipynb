{
 "cells": [
  {
   "cell_type": "code",
   "execution_count": 1,
   "id": "945c3f46",
   "metadata": {
    "cellId": "0pafpqq089hs06imyofj0d8g",
    "execution_id": "9c93dc88-e371-40d6-96b9-6e397dd2d886"
   },
   "outputs": [],
   "source": [
    "#!g1.1\n",
    "%load_ext autoreload\n",
    "%autoreload 2\n",
    "%load_ext tensorboard"
   ]
  },
  {
   "cell_type": "code",
   "execution_count": 2,
   "id": "ac9ad134",
   "metadata": {
    "cellId": "arfowdprag31hzn6iupup",
    "execution_id": "00cd8bc1-2abf-4d29-9a1a-dbd54d95af4b"
   },
   "outputs": [
    {
     "name": "stderr",
     "output_type": "stream",
     "text": [
      "Using backend: pytorch\n"
     ]
    }
   ],
   "source": [
    "#!g1.1\n",
    "from random import random\n",
    "\n",
    "from SourceCodeTools.models.training_config import get_config, save_config, load_config\n",
    "from SourceCodeTools.code.data.dataset.Dataset import SourceGraphDataset, filter_dst_by_freq\n",
    "from SourceCodeTools.models.graph.train.sampling_multitask2 import training_procedure, SamplingMultitaskTrainer\n",
    "from SourceCodeTools.models.graph.train.objectives.NodeClassificationObjective import NodeClassifierObjective\n",
    "from SourceCodeTools.models.graph.train.objectives.SubgraphClassifierObjective import SubgraphAbstractObjective, \\\n",
    "    SubgraphClassifierObjective, SubgraphEmbeddingObjective\n",
    "from SourceCodeTools.models.graph.train.utils import get_name, get_model_base\n",
    "from SourceCodeTools.models.graph import RGGAN\n",
    "from SourceCodeTools.tabular.common import compact_property\n",
    "from SourceCodeTools.code.data.file_utils import unpersist\n",
    "\n",
    "import dgl\n",
    "import torch\n",
    "import numpy as np\n",
    "from argparse import Namespace\n",
    "from torch import nn\n",
    "from datetime import datetime\n",
    "from os.path import join\n",
    "from functools import partial"
   ]
  },
  {
   "cell_type": "markdown",
   "id": "16a685b9",
   "metadata": {
    "cellId": "p1vbd2almoe8o4xbjsha2i",
    "execution_id": "3d0d18ed-7a13-49ed-ad66-52e70e501e4b",
    "tags": []
   },
   "source": [
    "# Prepare parameters and options\n",
    "\n",
    "Full list of options that can be added can be found in `SourceCodeTools/models/training_options.py`. They are ment to be used as arguments for cli trainer. Trainer script can be found in `SourceCodeTools/scripts/train.py`.\n",
    "\n",
    "For the task of subgraph classification the important options are:\n",
    "- `subgraph_partition` is path to subgraph-based train/val/test sets. Storead as Dataframe with subgraph id and partition mask\n",
    "- `subgraph_id_column` is a column is `common_edges` file that stores subgraph id.\n",
    "- For variable misuse task (same will apply to authorship attribution) subgraphs are created for individual functions (files for SCAA). The label is stored in `common_filecontent`."
   ]
  },
  {
   "cell_type": "code",
   "execution_count": 3,
   "id": "5ee84dbf",
   "metadata": {
    "cellId": "x68rr2b8zhv1h55hg0nz",
    "execution_id": "21cdf4d1-5d0c-4d49-872a-ae3dc421d7fb"
   },
   "outputs": [],
   "source": [
    "#!g1.1\n",
    "tokenizer_path = \"sentencepiece_bpe.model\"\n",
    "\n",
    "data_path = \"10_percent_v1\"\n",
    "subgraph_partition = join(data_path, \"partition.json.bz2\")\n",
    "filecontent_path = join(data_path, \"common_filecontent.json.bz2\")"
   ]
  },
  {
   "cell_type": "markdown",
   "id": "03602245",
   "metadata": {
    "cellId": "kdrwgb8pr4xkmb9fg2l7k",
    "execution_id": "606dbee0-12d0-4672-8fcb-987f08726c3c"
   },
   "source": [
    "# Data distribution"
   ]
  },
  {
   "cell_type": "code",
   "execution_count": 4,
   "id": "2c0f6997",
   "metadata": {
    "cellId": "u8m5wmsmtsc4jlys43g8w",
    "execution_id": "321c3351-6190-4edb-bf12-3ad445249cb7"
   },
   "outputs": [
    {
     "name": "stdout",
     "output_type": "stream",
     "text": [
      "train\n",
      "Correct            35036\n",
      "Variable misuse    35036\n",
      "Name: label, dtype: int64\n",
      "\n",
      "dev\n",
      "Correct            3754\n",
      "Variable misuse    3754\n",
      "Name: label, dtype: int64\n",
      "\n",
      "eval\n",
      "Correct            18787\n",
      "Variable misuse    18787\n",
      "Name: label, dtype: int64\n",
      "\n"
     ]
    }
   ],
   "source": [
    "#!g1.1\n",
    "labels = unpersist(filecontent_path)\n",
    "for part in labels['partition'].unique():\n",
    "    print(part)\n",
    "    print(labels.query('partition == @part')['label'].value_counts())\n",
    "    print()"
   ]
  },
  {
   "cell_type": "code",
   "execution_count": 5,
   "id": "8ecd1b2b",
   "metadata": {
    "cellId": "kaa7o61rp5pmlw2mm2gdq",
    "execution_id": "28ddae52-b297-420d-8eb4-ad025b1c9e52"
   },
   "outputs": [
    {
     "data": {
      "text/html": [
       "<div>\n",
       "<style scoped>\n",
       "    .dataframe tbody tr th:only-of-type {\n",
       "        vertical-align: middle;\n",
       "    }\n",
       "\n",
       "    .dataframe tbody tr th {\n",
       "        vertical-align: top;\n",
       "    }\n",
       "\n",
       "    .dataframe thead th {\n",
       "        text-align: right;\n",
       "    }\n",
       "</style>\n",
       "<table border=\"1\" class=\"dataframe\">\n",
       "  <thead>\n",
       "    <tr style=\"text-align: right;\">\n",
       "      <th></th>\n",
       "      <th>id</th>\n",
       "      <th>type</th>\n",
       "      <th>source_node_id</th>\n",
       "      <th>target_node_id</th>\n",
       "      <th>file_id</th>\n",
       "      <th>mentioned_in</th>\n",
       "      <th>offset_start</th>\n",
       "      <th>offset_end</th>\n",
       "    </tr>\n",
       "  </thead>\n",
       "  <tbody>\n",
       "    <tr>\n",
       "      <th>0</th>\n",
       "      <td>0</td>\n",
       "      <td>subword</td>\n",
       "      <td>4681713</td>\n",
       "      <td>2314503</td>\n",
       "      <td>6868</td>\n",
       "      <td>NaN</td>\n",
       "      <td>NaN</td>\n",
       "      <td>NaN</td>\n",
       "    </tr>\n",
       "    <tr>\n",
       "      <th>1</th>\n",
       "      <td>1</td>\n",
       "      <td>arg</td>\n",
       "      <td>2314503</td>\n",
       "      <td>3039950</td>\n",
       "      <td>6868</td>\n",
       "      <td>2388425.0</td>\n",
       "      <td>NaN</td>\n",
       "      <td>NaN</td>\n",
       "    </tr>\n",
       "    <tr>\n",
       "      <th>2</th>\n",
       "      <td>2</td>\n",
       "      <td>arg_rev</td>\n",
       "      <td>3039950</td>\n",
       "      <td>2314503</td>\n",
       "      <td>6868</td>\n",
       "      <td>2388425.0</td>\n",
       "      <td>NaN</td>\n",
       "      <td>NaN</td>\n",
       "    </tr>\n",
       "    <tr>\n",
       "      <th>3</th>\n",
       "      <td>3</td>\n",
       "      <td>args</td>\n",
       "      <td>3039950</td>\n",
       "      <td>1758356</td>\n",
       "      <td>6868</td>\n",
       "      <td>2388425.0</td>\n",
       "      <td>13.0</td>\n",
       "      <td>17.0</td>\n",
       "    </tr>\n",
       "    <tr>\n",
       "      <th>4</th>\n",
       "      <td>4</td>\n",
       "      <td>args_rev</td>\n",
       "      <td>1758356</td>\n",
       "      <td>3039950</td>\n",
       "      <td>6868</td>\n",
       "      <td>2388425.0</td>\n",
       "      <td>NaN</td>\n",
       "      <td>NaN</td>\n",
       "    </tr>\n",
       "    <tr>\n",
       "      <th>5</th>\n",
       "      <td>5</td>\n",
       "      <td>subword</td>\n",
       "      <td>1045672</td>\n",
       "      <td>2068664</td>\n",
       "      <td>6868</td>\n",
       "      <td>NaN</td>\n",
       "      <td>NaN</td>\n",
       "      <td>NaN</td>\n",
       "    </tr>\n",
       "    <tr>\n",
       "      <th>6</th>\n",
       "      <td>6</td>\n",
       "      <td>arg</td>\n",
       "      <td>2068664</td>\n",
       "      <td>436348</td>\n",
       "      <td>6868</td>\n",
       "      <td>2388425.0</td>\n",
       "      <td>NaN</td>\n",
       "      <td>NaN</td>\n",
       "    </tr>\n",
       "    <tr>\n",
       "      <th>7</th>\n",
       "      <td>7</td>\n",
       "      <td>arg_rev</td>\n",
       "      <td>436348</td>\n",
       "      <td>2068664</td>\n",
       "      <td>6868</td>\n",
       "      <td>2388425.0</td>\n",
       "      <td>NaN</td>\n",
       "      <td>NaN</td>\n",
       "    </tr>\n",
       "    <tr>\n",
       "      <th>8</th>\n",
       "      <td>8</td>\n",
       "      <td>args</td>\n",
       "      <td>436348</td>\n",
       "      <td>1758356</td>\n",
       "      <td>6868</td>\n",
       "      <td>2388425.0</td>\n",
       "      <td>19.0</td>\n",
       "      <td>25.0</td>\n",
       "    </tr>\n",
       "    <tr>\n",
       "      <th>9</th>\n",
       "      <td>9</td>\n",
       "      <td>args_rev</td>\n",
       "      <td>1758356</td>\n",
       "      <td>436348</td>\n",
       "      <td>6868</td>\n",
       "      <td>2388425.0</td>\n",
       "      <td>NaN</td>\n",
       "      <td>NaN</td>\n",
       "    </tr>\n",
       "  </tbody>\n",
       "</table>\n",
       "</div>"
      ],
      "text/plain": [
       "   id      type  source_node_id  target_node_id  file_id  mentioned_in  \\\n",
       "0   0   subword         4681713         2314503     6868           NaN   \n",
       "1   1       arg         2314503         3039950     6868     2388425.0   \n",
       "2   2   arg_rev         3039950         2314503     6868     2388425.0   \n",
       "3   3      args         3039950         1758356     6868     2388425.0   \n",
       "4   4  args_rev         1758356         3039950     6868     2388425.0   \n",
       "5   5   subword         1045672         2068664     6868           NaN   \n",
       "6   6       arg         2068664          436348     6868     2388425.0   \n",
       "7   7   arg_rev          436348         2068664     6868     2388425.0   \n",
       "8   8      args          436348         1758356     6868     2388425.0   \n",
       "9   9  args_rev         1758356          436348     6868     2388425.0   \n",
       "\n",
       "   offset_start  offset_end  \n",
       "0           NaN         NaN  \n",
       "1           NaN         NaN  \n",
       "2           NaN         NaN  \n",
       "3          13.0        17.0  \n",
       "4           NaN         NaN  \n",
       "5           NaN         NaN  \n",
       "6           NaN         NaN  \n",
       "7           NaN         NaN  \n",
       "8          19.0        25.0  \n",
       "9           NaN         NaN  "
      ]
     },
     "execution_count": 5,
     "metadata": {},
     "output_type": "execute_result"
    }
   ],
   "source": [
    "#!g1.1\n",
    "unpersist(join(data_path, \"common_edges.json.bz2\"), nrows=10)"
   ]
  },
  {
   "cell_type": "markdown",
   "id": "6c48e8b9",
   "metadata": {
    "cellId": "26enx0epdvd0ao7dmpz261r",
    "execution_id": "a29f9a80-f129-40c6-9be6-f0d21d0357b6"
   },
   "source": [
    "# Config"
   ]
  },
  {
   "cell_type": "code",
   "execution_count": 6,
   "id": "e01df189",
   "metadata": {
    "cellId": "ka4x47vr7cpgilgjcoyan",
    "execution_id": "2229885e-66a6-4bed-b63d-75c212e81c55"
   },
   "outputs": [],
   "source": [
    "#!g1.1\n",
    "config = get_config(\n",
    "    subgraph_id_column=\"file_id\",\n",
    "    data_path=data_path,\n",
    "    model_output_dir=data_path,\n",
    "    subgraph_partition=subgraph_partition,\n",
    "    tokenizer_path=tokenizer_path,\n",
    "    objectives=\"subgraph_clf\",\n",
    "    #use_edge_types=True,\n",
    "    gpu=-1,\n",
    "    epochs=3, \n",
    "    \n",
    "    train_frac=0.8,                      # *** fraction of nodes to use for training\n",
    "    random_seed=42, \n",
    "    \n",
    "    # model parameters\n",
    "#     elem_emb_size=200,\n",
    "#     node_emb_size=200,                   # *** dimensionality of node embeddings\n",
    "#     h_dim=200,                           # *** should match to node dimensionality\n",
    "    n_layers=2,\n",
    "#     num_bases=10,                        # number of bases for computing parmetwer weights for different edge types\n",
    "#     dropout=0.2,                         # *** \n",
    "#     use_self_loop=True,                  #\n",
    "#     activation=\"tanh\",                   # *** \n",
    "#     learning_rate=3e-2,                  # *** \n",
    "#     use_gcn_checkpoint=True,\n",
    "#     use_att_checkpoint=True,\n",
    "#     use_gru_checkpoint=True\n",
    ")"
   ]
  },
  {
   "cell_type": "code",
   "execution_count": 7,
   "id": "421b4853",
   "metadata": {
    "cellId": "f99ac2dk6fa0qpceq2iffyb",
    "execution_id": "a959159a-7369-4bb0-b829-2853f59e220a"
   },
   "outputs": [],
   "source": [
    "#!g1.1\n",
    "save_config(config, \"var_misuse_tiny.yaml\")"
   ]
  },
  {
   "cell_type": "code",
   "execution_count": 8,
   "id": "691fbf78",
   "metadata": {
    "cellId": "fn651wzuf987agk5tjmy4b",
    "execution_id": "f5806062-44f9-4b6a-bb47-dbc3d777a406"
   },
   "outputs": [
    {
     "data": {
      "text/plain": [
       "{'DATASET': {'data_path': '10_percent_v1',\n",
       "  'train_frac': 0.8,\n",
       "  'filter_edges': None,\n",
       "  'min_count_for_objectives': 5,\n",
       "  'self_loops': False,\n",
       "  'use_node_types': False,\n",
       "  'use_edge_types': False,\n",
       "  'no_global_edges': False,\n",
       "  'remove_reverse': False,\n",
       "  'custom_reverse': None,\n",
       "  'restricted_id_pool': None,\n",
       "  'random_seed': 42,\n",
       "  'subgraph_id_column': 'file_id',\n",
       "  'subgraph_partition': '10_percent_v1\\\\partition.json.bz2'},\n",
       " 'TRAINING': {'model_output_dir': '10_percent_v1',\n",
       "  'pretrained': None,\n",
       "  'pretraining_phase': 0,\n",
       "  'sampling_neighbourhood_size': 10,\n",
       "  'neg_sampling_factor': 3,\n",
       "  'use_layer_scheduling': False,\n",
       "  'schedule_layers_every': 10,\n",
       "  'elem_emb_size': 100,\n",
       "  'embedding_table_size': 200000,\n",
       "  'epochs': 10,\n",
       "  'batch_size': 128,\n",
       "  'learning_rate': 0.001,\n",
       "  'objectives': 'subgraph_clf',\n",
       "  'save_each_epoch': False,\n",
       "  'save_checkpoints': True,\n",
       "  'early_stopping': False,\n",
       "  'early_stopping_tolerance': 20,\n",
       "  'force_w2v_ns': False,\n",
       "  'use_ns_groups': False,\n",
       "  'nn_index': 'brute',\n",
       "  'metric': 'inner_prod',\n",
       "  'measure_scores': False,\n",
       "  'dilate_scores': 200,\n",
       "  'gpu': 0,\n",
       "  'external_dataset': None,\n",
       "  'restore_state': False},\n",
       " 'MODEL': {'node_emb_size': 100,\n",
       "  'h_dim': 100,\n",
       "  'n_layers': 2,\n",
       "  'use_self_loop': True,\n",
       "  'use_gcn_checkpoint': False,\n",
       "  'use_att_checkpoint': False,\n",
       "  'use_gru_checkpoint': False,\n",
       "  'num_bases': 10,\n",
       "  'dropout': 0.0,\n",
       "  'activation': 'tanh'},\n",
       " 'TOKENIZER': {'tokenizer_path': 'sentencepiece_bpe.model'}}"
      ]
     },
     "execution_count": 8,
     "metadata": {},
     "output_type": "execute_result"
    }
   ],
   "source": [
    "#!g1.1\n",
    "config"
   ]
  },
  {
   "cell_type": "markdown",
   "id": "4632d17b",
   "metadata": {
    "cellId": "zwg2nsy77lke2zhlkf3wk8",
    "execution_id": "5d3def2b-3973-476a-a885-db67b807baf0"
   },
   "source": [
    "# Create Dataset"
   ]
  },
  {
   "cell_type": "code",
   "execution_count": 9,
   "id": "7d6c34be",
   "metadata": {
    "cellId": "3842zfzh6jp2oh0p47hb3g",
    "execution_id": "4952a18f-6dca-4faf-befe-7d54f038c875"
   },
   "outputs": [
    {
     "name": "stderr",
     "output_type": "stream",
     "text": [
      "WARNING:root:Random state for splitting dataset is fixed\n"
     ]
    }
   ],
   "source": [
    "#!g1.1\n",
    "dataset = SourceGraphDataset(\n",
    "    **{**config[\"DATASET\"], **config[\"TOKENIZER\"]}\n",
    ")"
   ]
  },
  {
   "cell_type": "markdown",
   "id": "6691f60b",
   "metadata": {
    "cellId": "w8o2y1jvsmn3k5qlnmp8d",
    "execution_id": "459c0b0a-dac3-4c5b-8aa2-9010edf2f7da"
   },
   "source": [
    "# Declare target loading function (labels)"
   ]
  },
  {
   "cell_type": "code",
   "execution_count": 10,
   "id": "61ed7820",
   "metadata": {
    "cellId": "onv33y2vt60ier6qlfspo8",
    "execution_id": "024592b5-731a-4463-ac76-b5a31771b8f9",
    "tags": []
   },
   "outputs": [],
   "source": [
    "#!g1.1\n",
    "def load_labels():\n",
    "    filecontent = unpersist(filecontent_path)\n",
    "    return filecontent[[\"id\", \"label\"]].rename({\"id\": \"src\", \"label\": \"dst\"}, axis=1)"
   ]
  },
  {
   "cell_type": "markdown",
   "id": "c0d1ef4c",
   "metadata": {
    "cellId": "3979yjouckix7kxdp4fz9",
    "execution_id": "22ff1831-62fd-4137-af18-099336d5acb7"
   },
   "source": [
    "One or several objectives could be used"
   ]
  },
  {
   "cell_type": "code",
   "execution_count": 11,
   "id": "4b773ae7",
   "metadata": {
    "cellId": "vruvsg8femgvuop8tdmqkq",
    "execution_id": "aaa60b33-deb4-49de-90ce-629f07a42ad2"
   },
   "outputs": [],
   "source": [
    "#!g1.1\n",
    "class Trainer(SamplingMultitaskTrainer):\n",
    "    def create_objectives(self, dataset, tokenizer_path):\n",
    "        self.objectives = nn.ModuleList()\n",
    "        \n",
    "        self.objectives.append(\n",
    "            self._create_subgraph_objective(\n",
    "                objective_name=\"VariableMisuseClf\",\n",
    "                objective_class=SubgraphClassifierObjective,\n",
    "                dataset=dataset,\n",
    "                tokenizer_path=tokenizer_path,\n",
    "                labels_fn=load_labels,\n",
    "            )\n",
    "        )"
   ]
  },
  {
   "cell_type": "code",
   "execution_count": 12,
   "id": "37620f54",
   "metadata": {
    "cellId": "k007pz20m6b5hgs36ctwia",
    "execution_id": "a701dd0d-ede5-412d-94e2-b0555a974249"
   },
   "outputs": [
    {
     "data": {
      "text/plain": [
       "'10_percent_v1'"
      ]
     },
     "execution_count": 12,
     "metadata": {},
     "output_type": "execute_result"
    }
   ],
   "source": [
    "#!g1.1\n",
    "data_path"
   ]
  },
  {
   "cell_type": "code",
   "execution_count": 14,
   "id": "b303b8c4",
   "metadata": {
    "cellId": "ehoa1wxbuaq9d1dczkar",
    "execution_id": "59b5e2e8-a49d-45c8-8359-3cdd0db6c991"
   },
   "outputs": [
    {
     "data": {
      "text/html": [
       "\n",
       "      <iframe id=\"tensorboard-frame-7e79a837f867f5fe\" width=\"100%\" height=\"800\" frameborder=\"0\">\n",
       "      </iframe>\n",
       "      <script>\n",
       "        (function() {\n",
       "          const frame = document.getElementById(\"tensorboard-frame-7e79a837f867f5fe\");\n",
       "          const url = new URL(\"/\", window.location);\n",
       "          const port = 6006;\n",
       "          if (port) {\n",
       "            url.port = port;\n",
       "          }\n",
       "          frame.src = url;\n",
       "        })();\n",
       "      </script>\n",
       "    "
      ],
      "text/plain": [
       "<IPython.core.display.HTML object>"
      ]
     },
     "metadata": {},
     "output_type": "display_data"
    }
   ],
   "source": [
    "#!g1.1\n",
    "%tensorboard --logdir './10_percent_v1'"
   ]
  },
  {
   "cell_type": "code",
   "execution_count": 13,
   "id": "5eeccc3c",
   "metadata": {
    "cellId": "ur66zw67xepzwpxd3en2z",
    "execution_id": "39cce914-8617-4c66-aa1f-d3b744f8f0d7"
   },
   "outputs": [
    {
     "name": "stdout",
     "output_type": "stream",
     "text": [
      "Number of nodes 4900346\n"
     ]
    },
    {
     "name": "stderr",
     "output_type": "stream",
     "text": [
      "Epoch 0: 100%|███████████████████████████████████████████████████████████████████████| 548/548 [12:53<00:00,  1.41s/it]\n",
      "Epoch 1:   0%|                                                                                 | 0/548 [00:00<?, ?it/s]"
     ]
    },
    {
     "name": "stdout",
     "output_type": "stream",
     "text": [
      "Epoch: 0, Time: 1143 s\n",
      "{'Accuracy/test/VariableMisuseClf_': 0.5943027210884354,\n",
      " 'Accuracy/train/VariableMisuseClf_': 0.5892857142857143,\n",
      " 'Accuracy/train_avg/VariableMisuseClf': 0.5570031445516163,\n",
      " 'Accuracy/val/VariableMisuseClf_': 0.5972117130750605,\n",
      " 'Loss/test/VariableMisuseClf_': 0.6575186990556263,\n",
      " 'Loss/train/VariableMisuseClf_': 0.6637745499610901,\n",
      " 'Loss/train_avg/VariableMisuseClf': 0.6783770066108147,\n",
      " 'Loss/val/VariableMisuseClf_': 0.6569047287359076,\n",
      " 'grad_norm/train/_': 0.42949146926510684}\n"
     ]
    },
    {
     "name": "stderr",
     "output_type": "stream",
     "text": [
      "Epoch 1: 100%|███████████████████████████████████████████████████████████████████████| 548/548 [12:35<00:00,  1.38s/it]\n",
      "Epoch 2:   0%|                                                                                 | 0/548 [00:00<?, ?it/s]"
     ]
    },
    {
     "name": "stdout",
     "output_type": "stream",
     "text": [
      "Epoch: 1, Time: 1124 s\n",
      "{'Accuracy/test/VariableMisuseClf_': 0.598430666909621,\n",
      " 'Accuracy/train/VariableMisuseClf_': 0.5714285714285714,\n",
      " 'Accuracy/train_avg/VariableMisuseClf': 0.6101896506777893,\n",
      " 'Accuracy/val/VariableMisuseClf_': 0.6048287429378532,\n",
      " 'Loss/test/VariableMisuseClf_': 0.6477953039464497,\n",
      " 'Loss/train/VariableMisuseClf_': 0.6415787935256958,\n",
      " 'Loss/train_avg/VariableMisuseClf': 0.6419532827652283,\n",
      " 'Loss/val/VariableMisuseClf_': 0.6449324377512528,\n",
      " 'grad_norm/train/_': 0.528024339020724}\n"
     ]
    },
    {
     "name": "stderr",
     "output_type": "stream",
     "text": [
      "Epoch 2: 100%|███████████████████████████████████████████████████████████████████████| 548/548 [13:01<00:00,  1.43s/it]\n",
      "Epoch 3:   0%|                                                                                 | 0/548 [00:00<?, ?it/s]"
     ]
    },
    {
     "name": "stdout",
     "output_type": "stream",
     "text": [
      "Epoch: 2, Time: 1160 s\n",
      "{'Accuracy/test/VariableMisuseClf_': 0.6364340379008746,\n",
      " 'Accuracy/train/VariableMisuseClf_': 0.5892857142857143,\n",
      " 'Accuracy/train_avg/VariableMisuseClf': 0.6354845542231491,\n",
      " 'Accuracy/val/VariableMisuseClf_': 0.6357508575464084,\n",
      " 'Loss/test/VariableMisuseClf_': 0.6127944079791607,\n",
      " 'Loss/train/VariableMisuseClf_': 0.623123824596405,\n",
      " 'Loss/train_avg/VariableMisuseClf': 0.6170350331677138,\n",
      " 'Loss/val/VariableMisuseClf_': 0.6114192867683153,\n",
      " 'grad_norm/train/_': 0.9902706241933538}\n"
     ]
    },
    {
     "name": "stderr",
     "output_type": "stream",
     "text": [
      "Epoch 3: 100%|███████████████████████████████████████████████████████████████████████| 548/548 [12:34<00:00,  1.38s/it]\n",
      "Epoch 4:   0%|                                                                                 | 0/548 [00:00<?, ?it/s]"
     ]
    },
    {
     "name": "stdout",
     "output_type": "stream",
     "text": [
      "Epoch: 3, Time: 1126 s\n",
      "{'Accuracy/test/VariableMisuseClf_': 0.6559075862487852,\n",
      " 'Accuracy/train/VariableMisuseClf_': 0.5892857142857143,\n",
      " 'Accuracy/train_avg/VariableMisuseClf': 0.6570402111574557,\n",
      " 'Accuracy/val/VariableMisuseClf_': 0.6529017857142857,\n",
      " 'Loss/test/VariableMisuseClf_': 0.594647133431467,\n",
      " 'Loss/train/VariableMisuseClf_': 0.6075434684753418,\n",
      " 'Loss/train_avg/VariableMisuseClf': 0.5945468034839978,\n",
      " 'Loss/val/VariableMisuseClf_': 0.5932350512278282,\n",
      " 'grad_norm/train/_': 1.4549028349623543}\n"
     ]
    },
    {
     "name": "stderr",
     "output_type": "stream",
     "text": [
      "Epoch 4: 100%|███████████████████████████████████████████████████████████████████████| 548/548 [12:32<00:00,  1.37s/it]\n",
      "Epoch 5:   0%|                                                                                 | 0/548 [00:00<?, ?it/s]"
     ]
    },
    {
     "name": "stdout",
     "output_type": "stream",
     "text": [
      "Epoch: 4, Time: 1124 s\n",
      "{'Accuracy/test/VariableMisuseClf_': 0.6732552842565598,\n",
      " 'Accuracy/train/VariableMisuseClf_': 0.6607142857142857,\n",
      " 'Accuracy/train_avg/VariableMisuseClf': 0.6758036528936392,\n",
      " 'Accuracy/val/VariableMisuseClf_': 0.6729091000807103,\n",
      " 'Loss/test/VariableMisuseClf_': 0.5797519374664138,\n",
      " 'Loss/train/VariableMisuseClf_': 0.5982789397239685,\n",
      " 'Loss/train_avg/VariableMisuseClf': 0.5741541487348341,\n",
      " 'Loss/val/VariableMisuseClf_': 0.5775377629166942,\n",
      " 'grad_norm/train/_': 2.0157427002941315}\n"
     ]
    },
    {
     "name": "stderr",
     "output_type": "stream",
     "text": [
      "Epoch 5: 100%|███████████████████████████████████████████████████████████████████████| 548/548 [12:55<00:00,  1.41s/it]\n",
      "Epoch 6:   0%|                                                                                 | 0/548 [00:00<?, ?it/s]"
     ]
    },
    {
     "name": "stdout",
     "output_type": "stream",
     "text": [
      "Epoch: 5, Time: 1154 s\n",
      "{'Accuracy/test/VariableMisuseClf_': 0.675801749271137,\n",
      " 'Accuracy/train/VariableMisuseClf_': 0.6607142857142857,\n",
      " 'Accuracy/train_avg/VariableMisuseClf': 0.6845713308133472,\n",
      " 'Accuracy/val/VariableMisuseClf_': 0.6734955104923326,\n",
      " 'Loss/test/VariableMisuseClf_': 0.5772561869856452,\n",
      " 'Loss/train/VariableMisuseClf_': 0.5801477432250977,\n",
      " 'Loss/train_avg/VariableMisuseClf': 0.5623289768169396,\n",
      " 'Loss/val/VariableMisuseClf_': 0.5745517429658922,\n",
      " 'grad_norm/train/_': 1.280943204022317}\n"
     ]
    },
    {
     "name": "stderr",
     "output_type": "stream",
     "text": [
      "Epoch 6: 100%|███████████████████████████████████████████████████████████████████████| 548/548 [12:32<00:00,  1.37s/it]\n",
      "Epoch 7:   0%|                                                                                 | 0/548 [00:00<?, ?it/s]"
     ]
    },
    {
     "name": "stdout",
     "output_type": "stream",
     "text": [
      "Epoch: 6, Time: 1130 s\n",
      "{'Accuracy/test/VariableMisuseClf_': 0.6371332908163265,\n",
      " 'Accuracy/train/VariableMisuseClf_': 0.625,\n",
      " 'Accuracy/train_avg/VariableMisuseClf': 0.6927606067518248,\n",
      " 'Accuracy/val/VariableMisuseClf_': 0.637875807102502,\n",
      " 'Loss/test/VariableMisuseClf_': 0.6120089043159874,\n",
      " 'Loss/train/VariableMisuseClf_': 0.5773654580116272,\n",
      " 'Loss/train_avg/VariableMisuseClf': 0.5511074356027763,\n",
      " 'Loss/val/VariableMisuseClf_': 0.6056111555988506,\n",
      " 'grad_norm/train/_': 1.2971046770076313}\n"
     ]
    },
    {
     "name": "stderr",
     "output_type": "stream",
     "text": [
      "Epoch 7: 100%|███████████████████████████████████████████████████████████████████████| 548/548 [12:48<00:00,  1.40s/it]\n",
      "Epoch 8:   0%|                                                                                 | 0/548 [00:00<?, ?it/s]"
     ]
    },
    {
     "name": "stdout",
     "output_type": "stream",
     "text": [
      "Epoch: 7, Time: 1137 s\n",
      "{'Accuracy/test/VariableMisuseClf_': 0.6396577380952381,\n",
      " 'Accuracy/train/VariableMisuseClf_': 0.6785714285714286,\n",
      " 'Accuracy/train_avg/VariableMisuseClf': 0.696693332898853,\n",
      " 'Accuracy/val/VariableMisuseClf_': 0.6442317393058918,\n",
      " 'Loss/test/VariableMisuseClf_': 0.6193266573811875,\n",
      " 'Loss/train/VariableMisuseClf_': 0.5616035461425781,\n",
      " 'Loss/train_avg/VariableMisuseClf': 0.5440315828271156,\n",
      " 'Loss/val/VariableMisuseClf_': 0.6122528092335846,\n",
      " 'grad_norm/train/_': 2.577157889654451}\n"
     ]
    },
    {
     "name": "stderr",
     "output_type": "stream",
     "text": [
      "Epoch 8: 100%|███████████████████████████████████████████████████████████████████████| 548/548 [12:32<00:00,  1.37s/it]\n",
      "Epoch 9:   0%|                                                                                 | 0/548 [00:00<?, ?it/s]"
     ]
    },
    {
     "name": "stdout",
     "output_type": "stream",
     "text": [
      "Epoch: 8, Time: 1125 s\n",
      "{'Accuracy/test/VariableMisuseClf_': 0.6412566812439261,\n",
      " 'Accuracy/train/VariableMisuseClf_': 0.6607142857142857,\n",
      " 'Accuracy/train_avg/VariableMisuseClf': 0.698186180265902,\n",
      " 'Accuracy/val/VariableMisuseClf_': 0.6460855528652139,\n",
      " 'Loss/test/VariableMisuseClf_': 0.6275826931810703,\n",
      " 'Loss/train/VariableMisuseClf_': 0.5460851788520813,\n",
      " 'Loss/train_avg/VariableMisuseClf': 0.5382743280408157,\n",
      " 'Loss/val/VariableMisuseClf_': 0.618916322619228,\n",
      " 'grad_norm/train/_': 1.4791041828474847}\n"
     ]
    },
    {
     "name": "stderr",
     "output_type": "stream",
     "text": [
      "Epoch 9: 100%|███████████████████████████████████████████████████████████████████████| 548/548 [12:29<00:00,  1.37s/it]\n"
     ]
    },
    {
     "name": "stdout",
     "output_type": "stream",
     "text": [
      "Epoch: 9, Time: 1119 s\n",
      "{'Accuracy/test/VariableMisuseClf_': 0.6495520529640428,\n",
      " 'Accuracy/train/VariableMisuseClf_': 0.6785714285714286,\n",
      " 'Accuracy/train_avg/VariableMisuseClf': 0.7032655272419187,\n",
      " 'Accuracy/val/VariableMisuseClf_': 0.6527693704600483,\n",
      " 'Loss/test/VariableMisuseClf_': 0.6209840936725642,\n",
      " 'Loss/train/VariableMisuseClf_': 0.5306960344314575,\n",
      " 'Loss/train_avg/VariableMisuseClf': 0.5293318730418699,\n",
      " 'Loss/val/VariableMisuseClf_': 0.6123148334228387,\n",
      " 'grad_norm/train/_': 1.0313846618034506}\n",
      "Final eval: Loss/val/VariableMisuseClf_final: 0.6123148334228387, Accuracy/val/VariableMisuseClf_final: 0.6527693704600483, Loss/test/VariableMisuseClf_final: 0.6209840936725642, Accuracy/test/VariableMisuseClf_final: 0.6495520529640428\n"
     ]
    },
    {
     "data": {
      "text/plain": [
       "(<__main__.Trainer at 0x26fb3578d60>,\n",
       " {'Loss/val/VariableMisuseClf_final': 0.6123148334228387,\n",
       "  'Accuracy/val/VariableMisuseClf_final': 0.6527693704600483,\n",
       "  'Loss/test/VariableMisuseClf_final': 0.6209840936725642,\n",
       "  'Accuracy/test/VariableMisuseClf_final': 0.6495520529640428})"
      ]
     },
     "execution_count": 13,
     "metadata": {},
     "output_type": "execute_result"
    }
   ],
   "source": [
    "#!g1.1\n",
    "training_procedure(\n",
    "    dataset, \n",
    "    model_name=RGGAN, \n",
    "    model_params=config[\"MODEL\"],\n",
    "    trainer_params=config[\"TRAINING\"],\n",
    "    model_base_path=get_model_base(config[\"TRAINING\"], get_name(RGGAN, str(datetime.now()))),\n",
    "    trainer=Trainer\n",
    ")"
   ]
  },
  {
   "cell_type": "code",
   "execution_count": 15,
   "id": "73c9585b",
   "metadata": {
    "cellId": "2tr74apqrv6ph7sj0dnx1",
    "execution_id": "a86a455e-bb5b-46eb-b62f-34e8e58140b1"
   },
   "outputs": [
    {
     "ename": "Error",
     "evalue": "Not enough permissions to perform requested action",
     "output_type": "error",
     "traceback": []
    }
   ],
   "source": [
    "#!g1.1\n"
   ]
  },
  {
   "cell_type": "code",
   "execution_count": 16,
   "id": "7862e07d",
   "metadata": {
    "cellId": "crz1nj66ngv9gdqb243g1w",
    "execution_id": "0be9c5b5-ad9a-4d32-bef6-1772ab4cad8e"
   },
   "outputs": [
    {
     "ename": "Error",
     "evalue": "Not enough permissions to perform requested action",
     "output_type": "error",
     "traceback": []
    }
   ],
   "source": [
    "#!g1.1\n"
   ]
  }
 ],
 "metadata": {
  "kernelspec": {
   "display_name": "SourceCodeTools",
   "language": "python",
   "name": "sourcecodetools"
  },
  "language_info": {
   "codemirror_mode": {
    "name": "ipython",
    "version": 3
   },
   "file_extension": ".py",
   "mimetype": "text/x-python",
   "name": "python",
   "nbconvert_exporter": "python",
   "pygments_lexer": "ipython3",
   "version": "3.8.12"
  },
  "notebookId": "0b349f50-6796-4a42-8a61-23bcf9f52520",
  "notebookPath": "method-embedding/examples/Subgraph Classification.ipynb"
 },
 "nbformat": 4,
 "nbformat_minor": 5
}

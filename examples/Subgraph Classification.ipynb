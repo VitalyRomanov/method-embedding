{
 "cells": [
  {
   "cell_type": "code",
   "execution_count": 1,
   "id": "244ac956",
   "metadata": {},
   "outputs": [],
   "source": [
    "%load_ext autoreload\n",
    "%autoreload 2\n",
    "%load_ext tensorboard"
   ]
  },
  {
   "cell_type": "code",
   "execution_count": 23,
   "id": "bdefc65e",
   "metadata": {},
   "outputs": [],
   "source": [
    "from SourceCodeTools.models.training_config import get_config, save_config, load_config\n",
    "from SourceCodeTools.code.data.dataset.Dataset import SourceGraphDataset\n",
    "from SourceCodeTools.models.graph.train.sampling_multitask2 import training_procedure, SamplingMultitaskTrainer\n",
    "from SourceCodeTools.models.graph.train.objectives.SubgraphClassifierObjective import \\\n",
    "    SubgraphClassifierObjective\n",
    "from SourceCodeTools.models.graph.train.utils import get_name, get_model_base\n",
    "from SourceCodeTools.models.graph import RGGAN\n",
    "from SourceCodeTools.code.data.file_utils import unpersist\n",
    "\n",
    "from torch import nn\n",
    "from datetime import datetime\n",
    "from os.path import join"
   ]
  },
  {
   "cell_type": "markdown",
   "id": "4becf482",
   "metadata": {
    "tags": []
   },
   "source": [
    "# Prepare parameters and options\n",
    "\n",
    "Full list of options that can be added can be found in `SourceCodeTools/models/training_options.py`. They are ment to be used as arguments for cli trainer. Trainer script can be found in `SourceCodeTools/scripts/train.py`.\n",
    "\n",
    "For the task of subgraph classification the important options are:\n",
    "- `subgraph_partition` is path to subgraph-based train/val/test sets. Storead as Dataframe with subgraph id and partition mask\n",
    "- `subgraph_id_column` is a column is `common_edges` file that stores subgraph id.\n",
    "- For variable misuse task (same will apply to authorship attribution) subgraphs are created for individual functions (files for SCAA). The label is stored in `common_filecontent`."
   ]
  },
  {
   "cell_type": "code",
   "execution_count": 24,
   "id": "5637f70e-b8fd-4a9f-9956-d60a61bd2870",
   "metadata": {},
   "outputs": [],
   "source": [
    "tokenizer_path = \"sentencepiece_bpe.model\"\n",
    "\n",
    "data_path = \"variable_misuse_graph_2_percent_balanced/with_ast\"\n",
    "subgraph_partition = join(data_path, \"partition.json.bz2\")\n",
    "filecontent_path = join(data_path, \"common_filecontent.json.bz2\")"
   ]
  },
  {
   "cell_type": "code",
   "execution_count": 25,
   "id": "404565f5-09a3-4535-ba51-8533491f7c72",
   "metadata": {},
   "outputs": [
    {
     "data": {
      "text/plain": "          id  train_mask  val_mask  test_mask\n0       9237        True     False      False\n1      14573       False      True      False\n2      16495       False     False       True\n3      19094       False     False       True\n4       5945        True     False      False\n...      ...         ...       ...        ...\n22909  11964        True     False      False\n22910  21575       False     False       True\n22911   5390        True     False      False\n22912    860        True     False      False\n22913  15795       False     False       True\n\n[22914 rows x 4 columns]",
      "text/html": "<div>\n<style scoped>\n    .dataframe tbody tr th:only-of-type {\n        vertical-align: middle;\n    }\n\n    .dataframe tbody tr th {\n        vertical-align: top;\n    }\n\n    .dataframe thead th {\n        text-align: right;\n    }\n</style>\n<table border=\"1\" class=\"dataframe\">\n  <thead>\n    <tr style=\"text-align: right;\">\n      <th></th>\n      <th>id</th>\n      <th>train_mask</th>\n      <th>val_mask</th>\n      <th>test_mask</th>\n    </tr>\n  </thead>\n  <tbody>\n    <tr>\n      <th>0</th>\n      <td>9237</td>\n      <td>True</td>\n      <td>False</td>\n      <td>False</td>\n    </tr>\n    <tr>\n      <th>1</th>\n      <td>14573</td>\n      <td>False</td>\n      <td>True</td>\n      <td>False</td>\n    </tr>\n    <tr>\n      <th>2</th>\n      <td>16495</td>\n      <td>False</td>\n      <td>False</td>\n      <td>True</td>\n    </tr>\n    <tr>\n      <th>3</th>\n      <td>19094</td>\n      <td>False</td>\n      <td>False</td>\n      <td>True</td>\n    </tr>\n    <tr>\n      <th>4</th>\n      <td>5945</td>\n      <td>True</td>\n      <td>False</td>\n      <td>False</td>\n    </tr>\n    <tr>\n      <th>...</th>\n      <td>...</td>\n      <td>...</td>\n      <td>...</td>\n      <td>...</td>\n    </tr>\n    <tr>\n      <th>22909</th>\n      <td>11964</td>\n      <td>True</td>\n      <td>False</td>\n      <td>False</td>\n    </tr>\n    <tr>\n      <th>22910</th>\n      <td>21575</td>\n      <td>False</td>\n      <td>False</td>\n      <td>True</td>\n    </tr>\n    <tr>\n      <th>22911</th>\n      <td>5390</td>\n      <td>True</td>\n      <td>False</td>\n      <td>False</td>\n    </tr>\n    <tr>\n      <th>22912</th>\n      <td>860</td>\n      <td>True</td>\n      <td>False</td>\n      <td>False</td>\n    </tr>\n    <tr>\n      <th>22913</th>\n      <td>15795</td>\n      <td>False</td>\n      <td>False</td>\n      <td>True</td>\n    </tr>\n  </tbody>\n</table>\n<p>22914 rows × 4 columns</p>\n</div>"
     },
     "execution_count": 25,
     "metadata": {},
     "output_type": "execute_result"
    }
   ],
   "source": [
    "unpersist(subgraph_partition)"
   ]
  },
  {
   "cell_type": "code",
   "execution_count": 26,
   "id": "d09b740a-eaaf-4fac-a73f-0bd9bb671f70",
   "metadata": {},
   "outputs": [
    {
     "data": {
      "text/plain": "          id              type  source_node_id  target_node_id  file_id  \\\n0          0           subword          933540          599621     9237   \n1          1               arg          599621          211512     9237   \n2          2           arg_rev          211512          599621     9237   \n3          3              args          211512          238149     9237   \n4          4          args_rev          238149          211512     9237   \n..       ...               ...             ...             ...      ...   \n345  3643493           subword          557063          450612     1060   \n346  3643494           subword          301286          450612     1060   \n347  3643495           targets          450612          490773     1060   \n348  3643496       targets_rev          490773          450612     1060   \n349  3643497  executed_if_true          490773          687986     1060   \n\n     mentioned_in  offset_start  offset_end  \n0             NaN           NaN         NaN  \n1        263126.0           NaN         NaN  \n2        263126.0           NaN         NaN  \n3        263126.0          35.0        39.0  \n4        263126.0           NaN         NaN  \n..            ...           ...         ...  \n345           NaN           NaN         NaN  \n346           NaN           NaN         NaN  \n347      220570.0        2849.0      2863.0  \n348      220570.0           NaN         NaN  \n349      220570.0           NaN         NaN  \n\n[350 rows x 8 columns]",
      "text/html": "<div>\n<style scoped>\n    .dataframe tbody tr th:only-of-type {\n        vertical-align: middle;\n    }\n\n    .dataframe tbody tr th {\n        vertical-align: top;\n    }\n\n    .dataframe thead th {\n        text-align: right;\n    }\n</style>\n<table border=\"1\" class=\"dataframe\">\n  <thead>\n    <tr style=\"text-align: right;\">\n      <th></th>\n      <th>id</th>\n      <th>type</th>\n      <th>source_node_id</th>\n      <th>target_node_id</th>\n      <th>file_id</th>\n      <th>mentioned_in</th>\n      <th>offset_start</th>\n      <th>offset_end</th>\n    </tr>\n  </thead>\n  <tbody>\n    <tr>\n      <th>0</th>\n      <td>0</td>\n      <td>subword</td>\n      <td>933540</td>\n      <td>599621</td>\n      <td>9237</td>\n      <td>NaN</td>\n      <td>NaN</td>\n      <td>NaN</td>\n    </tr>\n    <tr>\n      <th>1</th>\n      <td>1</td>\n      <td>arg</td>\n      <td>599621</td>\n      <td>211512</td>\n      <td>9237</td>\n      <td>263126.0</td>\n      <td>NaN</td>\n      <td>NaN</td>\n    </tr>\n    <tr>\n      <th>2</th>\n      <td>2</td>\n      <td>arg_rev</td>\n      <td>211512</td>\n      <td>599621</td>\n      <td>9237</td>\n      <td>263126.0</td>\n      <td>NaN</td>\n      <td>NaN</td>\n    </tr>\n    <tr>\n      <th>3</th>\n      <td>3</td>\n      <td>args</td>\n      <td>211512</td>\n      <td>238149</td>\n      <td>9237</td>\n      <td>263126.0</td>\n      <td>35.0</td>\n      <td>39.0</td>\n    </tr>\n    <tr>\n      <th>4</th>\n      <td>4</td>\n      <td>args_rev</td>\n      <td>238149</td>\n      <td>211512</td>\n      <td>9237</td>\n      <td>263126.0</td>\n      <td>NaN</td>\n      <td>NaN</td>\n    </tr>\n    <tr>\n      <th>...</th>\n      <td>...</td>\n      <td>...</td>\n      <td>...</td>\n      <td>...</td>\n      <td>...</td>\n      <td>...</td>\n      <td>...</td>\n      <td>...</td>\n    </tr>\n    <tr>\n      <th>345</th>\n      <td>3643493</td>\n      <td>subword</td>\n      <td>557063</td>\n      <td>450612</td>\n      <td>1060</td>\n      <td>NaN</td>\n      <td>NaN</td>\n      <td>NaN</td>\n    </tr>\n    <tr>\n      <th>346</th>\n      <td>3643494</td>\n      <td>subword</td>\n      <td>301286</td>\n      <td>450612</td>\n      <td>1060</td>\n      <td>NaN</td>\n      <td>NaN</td>\n      <td>NaN</td>\n    </tr>\n    <tr>\n      <th>347</th>\n      <td>3643495</td>\n      <td>targets</td>\n      <td>450612</td>\n      <td>490773</td>\n      <td>1060</td>\n      <td>220570.0</td>\n      <td>2849.0</td>\n      <td>2863.0</td>\n    </tr>\n    <tr>\n      <th>348</th>\n      <td>3643496</td>\n      <td>targets_rev</td>\n      <td>490773</td>\n      <td>450612</td>\n      <td>1060</td>\n      <td>220570.0</td>\n      <td>NaN</td>\n      <td>NaN</td>\n    </tr>\n    <tr>\n      <th>349</th>\n      <td>3643497</td>\n      <td>executed_if_true</td>\n      <td>490773</td>\n      <td>687986</td>\n      <td>1060</td>\n      <td>220570.0</td>\n      <td>NaN</td>\n      <td>NaN</td>\n    </tr>\n  </tbody>\n</table>\n<p>350 rows × 8 columns</p>\n</div>"
     },
     "execution_count": 26,
     "metadata": {},
     "output_type": "execute_result"
    }
   ],
   "source": [
    "unpersist(join(data_path, \"common_edges.json.bz2\"), nrows=10)"
   ]
  },
  {
   "cell_type": "code",
   "execution_count": 27,
   "id": "d38f83db",
   "metadata": {},
   "outputs": [],
   "source": [
    "config = get_config(\n",
    "    # tokenizer\n",
    "    tokenizer_path=tokenizer_path, # *** path to sentencepiece model\n",
    "\n",
    "    # dataset parameters\n",
    "    data_path=data_path,             # *** path to node type\n",
    "    use_node_types=False,                # node types currently not supported\n",
    "    use_edge_types=True,                 # whether to use edge types\n",
    "    filter_edges=None,                   # None or list of edge type names\n",
    "    self_loops=False,                    # whether to use self loops\n",
    "    train_frac=0.8,                      # *** fraction of nodes to use for training\n",
    "    random_seed=42,                      # random seed for splitting dataset int o train test validation\n",
    "    min_count_for_objectives=5,          # *** minimum frequency of targets\n",
    "    no_global_edges=False,               # remove global edges\n",
    "    remove_reverse=False,                # remove reverse edges\n",
    "    custom_reverse=None,                 # None or list of edges, for which reverse edges should be created (use together with `remove_reverse`)\n",
    "    partition=subgraph_partition,  # partition into train/test/val\n",
    "\n",
    "    # training parameters\n",
    "    model_output_dir=data_path,      # *** directory to save checkpoints and training data\n",
    "    batch_size=8,                     # ***\n",
    "    sampling_neighbourhood_size=10,      # number of dependencies to sample for each node\n",
    "    neg_sampling_factor=1,               # *** number of negative samples for each positive sample\n",
    "    epochs=10,                           # *** number of epochs\n",
    "    elem_emb_size=100,                   # *** dimensionality of target embeddings (for node name prediction)\n",
    "    pretraining_phase=0,                 # number of epochs for pretraining\n",
    "    embedding_table_size=200000,         # *** embedding table size for subwords\n",
    "    save_checkpoints=False,              # set to False if checkpoints are not needed\n",
    "    save_each_epoch=False,               # save each epoch, useful in case of studying model behavior\n",
    "    measure_scores=True,                 # *** measure ranking scores during evaluation\n",
    "    dilate_scores=200,                   # downsampling factor for measuring scores to make evaluation faster\n",
    "    objectives=\"subgraph_clf\",               # type of objective\n",
    "    force_w2v_ns=True,                   # negative sampling strategy\n",
    "    gpu=-1,                              # gpuid\n",
    "    restore_state=False,\n",
    "    pretrained=None,\n",
    "\n",
    "    # model parameters\n",
    "    node_emb_size=100,                   # *** dimensionality of node embeddings\n",
    "    h_dim=100,                           # *** should match to node dimensionality\n",
    "    num_bases=10,                        # number of bases for computing parmetwer weights for different edge types\n",
    "    dropout=0.2,                         # ***\n",
    "    use_self_loop=True,                  #\n",
    "    activation=\"tanh\",                   # ***\n",
    "    learning_rate=1e-3,                  # ***\n",
    "    use_gcn_checkpoint=True,\n",
    "    use_att_checkpoint=True,\n",
    "    use_gru_checkpoint=True\n",
    ")"
   ]
  },
  {
   "cell_type": "code",
   "execution_count": 28,
   "id": "bf61e1a2-2a2b-4688-b6b6-4ad3c22b22a5",
   "metadata": {},
   "outputs": [],
   "source": [
    "# save_config(config, \"var_misuse_tiny.yaml\")"
   ]
  },
  {
   "cell_type": "code",
   "execution_count": 29,
   "id": "07dc7b86",
   "metadata": {},
   "outputs": [
    {
     "data": {
      "text/plain": "{'DATASET': {'data_path': 'variable_misuse_graph_2_percent_balanced/with_ast',\n  'train_frac': 0.8,\n  'filter_edges': None,\n  'min_count_for_objectives': 5,\n  'self_loops': False,\n  'use_node_types': False,\n  'use_edge_types': True,\n  'no_global_edges': False,\n  'remove_reverse': False,\n  'custom_reverse': None,\n  'restricted_id_pool': None,\n  'random_seed': 42,\n  'subgraph_id_column': 'file_id',\n  'subgraph_partition': 'variable_misuse_graph_2_percent_balanced/with_ast/partition.json.bz2',\n  'partition': 'variable_misuse_graph_2_percent_balanced/with_ast/partition.json.bz2'},\n 'TRAINING': {'model': 'RGCN',\n  'model_output_dir': 'variable_misuse_graph_2_percent_balanced/with_ast',\n  'pretrained': None,\n  'pretraining_phase': 0,\n  'sampling_neighbourhood_size': 10,\n  'neg_sampling_factor': 1,\n  'use_layer_scheduling': False,\n  'schedule_layers_every': 10,\n  'elem_emb_size': 100,\n  'embedding_table_size': 200000,\n  'epochs': 10,\n  'batch_size': 8,\n  'learning_rate': 0.001,\n  'objectives': 'subgraph_clf',\n  'save_each_epoch': False,\n  'save_checkpoints': False,\n  'early_stopping': False,\n  'early_stopping_tolerance': 20,\n  'force_w2v_ns': True,\n  'use_ns_groups': False,\n  'nn_index': 'brute',\n  'metric': 'inner_prod',\n  'measure_scores': True,\n  'dilate_scores': 200,\n  'gpu': -1,\n  'external_dataset': None,\n  'restore_state': False,\n  'skip_final_eval': False,\n  'inference_ids_path': None,\n  'ntypes': ['node_'],\n  'etypes': ['subword_',\n   'arg_',\n   'arg_rev_',\n   'args_',\n   'args_rev_',\n   'value_',\n   'value_rev_',\n   'attr_',\n   'func_',\n   'func_rev_',\n   'targets_',\n   'targets_rev_',\n   'defined_in_function_',\n   'defined_in_function_rev_',\n   'lower_',\n   'slice_',\n   'slice_rev_',\n   'next_',\n   'prev_',\n   'elts_',\n   'elts_rev_',\n   'target_',\n   'target_rev_',\n   'iter_',\n   'iter_rev_',\n   'executed_in_for_',\n   'executed_in_for_rev_',\n   'left_',\n   'left_rev_',\n   'ops_',\n   'comparators_',\n   'test_',\n   'test_rev_',\n   'executed_if_true_',\n   'executed_if_true_rev_',\n   'executed_if_false_',\n   'executed_if_false_rev_',\n   'function_name_',\n   'function_name_rev_',\n   'defined_in_module_',\n   'defined_in_module_rev_',\n   'right_',\n   'right_rev_',\n   'op_',\n   'msg_',\n   'msg_rev_',\n   'context_expr_',\n   'context_expr_rev_',\n   'optional_vars_',\n   'optional_vars_rev_',\n   'items_',\n   'items_rev_',\n   'values_',\n   'values_rev_',\n   'executed_inside_with_',\n   'executed_inside_with_rev_',\n   'operand_',\n   'operand_rev_',\n   'exc_',\n   'exc_rev_',\n   'executed_in_try_',\n   'executed_in_try_rev_',\n   'type_',\n   'type_rev_',\n   'keywords_',\n   'keywords_rev_',\n   'executed_with_try_handler_',\n   'executed_with_try_handler_rev_',\n   'comparators_rev_',\n   'upper_',\n   'upper_rev_',\n   'dims_',\n   'dims_rev_',\n   'vararg_',\n   'vararg_rev_',\n   'executed_in_try_final_',\n   'executed_in_try_final_rev_',\n   'control_flow_',\n   'decorator_list_',\n   'decorator_list_rev_',\n   'module_',\n   'module_rev_',\n   'name_',\n   'name_rev_',\n   'names_',\n   'names_rev_',\n   'lower_rev_',\n   'elt_',\n   'elt_rev_',\n   'generators_',\n   'generators_rev_',\n   'keys_',\n   'kwarg_',\n   'kwarg_rev_',\n   'ifs_',\n   'ifs_rev_',\n   'lambda_',\n   'if_true_',\n   'if_true_rev_',\n   'if_false_',\n   'if_false_rev_',\n   'step_',\n   'step_rev_',\n   'keys_rev_',\n   'executed_in_try_else_',\n   'executed_in_try_else_rev_',\n   'executed_while_true_rev_',\n   'lambda_rev_',\n   'defined_in_class_',\n   'defined_in_class_rev_',\n   'class_name_',\n   'class_name_rev_',\n   'executed_in_for_orelse_',\n   'executed_in_for_orelse_rev_',\n   'executed_while_true_',\n   'key_',\n   'key_rev_',\n   'asname_',\n   'asname_rev_']},\n 'MODEL': {'node_emb_size': 100,\n  'h_dim': 100,\n  'n_layers': 5,\n  'use_self_loop': True,\n  'use_gcn_checkpoint': True,\n  'use_att_checkpoint': True,\n  'use_gru_checkpoint': True,\n  'num_bases': 10,\n  'dropout': 0.2,\n  'activation': 'tanh'},\n 'TOKENIZER': {'tokenizer_path': 'sentencepiece_bpe.model'}}"
     },
     "execution_count": 29,
     "metadata": {},
     "output_type": "execute_result"
    }
   ],
   "source": [
    "config"
   ]
  },
  {
   "cell_type": "markdown",
   "id": "069a2528",
   "metadata": {},
   "source": [
    "# Create Dataset"
   ]
  },
  {
   "cell_type": "code",
   "execution_count": 30,
   "id": "d0ce29fc",
   "metadata": {},
   "outputs": [],
   "source": [
    "dataset = SourceGraphDataset(\n",
    "    **{**config[\"DATASET\"], **config[\"TOKENIZER\"]}\n",
    ")\n",
    "ntypes, etypes = dataset.get_graph_types()\n",
    "config[\"TRAINING\"]['ntypes'] = ntypes\n",
    "config[\"TRAINING\"]['etypes'] = etypes"
   ]
  },
  {
   "cell_type": "markdown",
   "id": "897d41bf",
   "metadata": {},
   "source": [
    "# Declare target loading function (labels)"
   ]
  },
  {
   "cell_type": "code",
   "execution_count": 31,
   "id": "c279f43e",
   "metadata": {
    "tags": []
   },
   "outputs": [],
   "source": [
    "def load_labels():\n",
    "    filecontent = unpersist(filecontent_path)\n",
    "    return filecontent[[\"id\", \"label\"]].rename({\"id\": \"src\", \"label\": \"dst\"}, axis=1)"
   ]
  },
  {
   "cell_type": "markdown",
   "source": [
    "# Declare objective and train"
   ],
   "metadata": {
    "collapsed": false,
    "pycharm": {
     "name": "#%% md\n"
    }
   }
  },
  {
   "cell_type": "code",
   "execution_count": 32,
   "id": "393251c2",
   "metadata": {},
   "outputs": [],
   "source": [
    "from SourceCodeTools.models.graph.train.objectives.NodeClassificationObjective import ClassifierTargetMapper\n",
    "\n",
    "\n",
    "class Trainer(SamplingMultitaskTrainer):\n",
    "    def create_objectives(self, dataset, tokenizer_path):\n",
    "        self.objectives = nn.ModuleList()\n",
    "\n",
    "        self.objectives.append(\n",
    "            self._create_subgraph_objective(\n",
    "                objective_name=\"VariableMisuseSubgraphClassifierObjective\",\n",
    "                objective_class=SubgraphClassifierObjective,\n",
    "                dataset=dataset,\n",
    "                tokenizer_path=tokenizer_path,\n",
    "                labels_fn=load_labels,\n",
    "                label_loader_class=ClassifierTargetMapper,\n",
    "                label_loader_params={\"emb_size\": None, \"tokenizer_path\": None, \"use_ns_groups\": False}\n",
    "            )\n",
    "        )"
   ]
  },
  {
   "cell_type": "markdown",
   "source": [
    "# Run training"
   ],
   "metadata": {
    "collapsed": false,
    "pycharm": {
     "name": "#%% md\n"
    }
   }
  },
  {
   "cell_type": "code",
   "execution_count": 33,
   "outputs": [],
   "source": [
    "# %tensorboard --logdir data_path"
   ],
   "metadata": {
    "collapsed": false,
    "pycharm": {
     "name": "#%%\n"
    }
   }
  },
  {
   "cell_type": "code",
   "execution_count": 34,
   "outputs": [
    {
     "name": "stderr",
     "output_type": "stream",
     "text": [
      "WARNING:root:Using cached results. Remove cache if you have updated the dataset.\n",
      "Epoch 0:   2%|▏         | 36/1747 [01:46<1:24:24,  2.96s/it]\n"
     ]
    },
    {
     "ename": "KeyboardInterrupt",
     "evalue": "",
     "output_type": "error",
     "traceback": [
      "\u001B[0;31m---------------------------------------------------------------------------\u001B[0m",
      "\u001B[0;31mKeyboardInterrupt\u001B[0m                         Traceback (most recent call last)",
      "\u001B[0;32m<ipython-input-34-5123e77f793f>\u001B[0m in \u001B[0;36m<module>\u001B[0;34m\u001B[0m\n\u001B[0;32m----> 1\u001B[0;31m training_procedure(\n\u001B[0m\u001B[1;32m      2\u001B[0m     \u001B[0mdataset\u001B[0m\u001B[0;34m,\u001B[0m\u001B[0;34m\u001B[0m\u001B[0;34m\u001B[0m\u001B[0m\n\u001B[1;32m      3\u001B[0m     \u001B[0mmodel_name\u001B[0m\u001B[0;34m=\u001B[0m\u001B[0mRGGAN\u001B[0m\u001B[0;34m,\u001B[0m\u001B[0;34m\u001B[0m\u001B[0;34m\u001B[0m\u001B[0m\n\u001B[1;32m      4\u001B[0m     \u001B[0mmodel_params\u001B[0m\u001B[0;34m=\u001B[0m\u001B[0mconfig\u001B[0m\u001B[0;34m[\u001B[0m\u001B[0;34m\"MODEL\"\u001B[0m\u001B[0;34m]\u001B[0m\u001B[0;34m,\u001B[0m\u001B[0;34m\u001B[0m\u001B[0;34m\u001B[0m\u001B[0m\n\u001B[1;32m      5\u001B[0m     \u001B[0mtrainer_params\u001B[0m\u001B[0;34m=\u001B[0m\u001B[0mconfig\u001B[0m\u001B[0;34m[\u001B[0m\u001B[0;34m\"TRAINING\"\u001B[0m\u001B[0;34m]\u001B[0m\u001B[0;34m,\u001B[0m\u001B[0;34m\u001B[0m\u001B[0;34m\u001B[0m\u001B[0m\n",
      "\u001B[0;32m~/dev/method-embeddings/SourceCodeTools/models/graph/train/sampling_multitask2.py\u001B[0m in \u001B[0;36mtraining_procedure\u001B[0;34m(dataset, model_name, model_params, trainer_params, model_base_path, tokenizer_path, trainer, load_external_dataset)\u001B[0m\n\u001B[1;32m    963\u001B[0m \u001B[0;34m\u001B[0m\u001B[0m\n\u001B[1;32m    964\u001B[0m     \u001B[0;31m# try:\u001B[0m\u001B[0;34m\u001B[0m\u001B[0;34m\u001B[0m\u001B[0;34m\u001B[0m\u001B[0m\n\u001B[0;32m--> 965\u001B[0;31m     \u001B[0mtrainer\u001B[0m\u001B[0;34m.\u001B[0m\u001B[0mtrain_all\u001B[0m\u001B[0;34m(\u001B[0m\u001B[0;34m)\u001B[0m\u001B[0;34m\u001B[0m\u001B[0;34m\u001B[0m\u001B[0m\n\u001B[0m\u001B[1;32m    966\u001B[0m     \u001B[0;31m# except KeyboardInterrupt:\u001B[0m\u001B[0;34m\u001B[0m\u001B[0;34m\u001B[0m\u001B[0;34m\u001B[0m\u001B[0m\n\u001B[1;32m    967\u001B[0m     \u001B[0;31m#     logging.info(\"Training interrupted\")\u001B[0m\u001B[0;34m\u001B[0m\u001B[0;34m\u001B[0m\u001B[0;34m\u001B[0m\u001B[0m\n",
      "\u001B[0;32m~/dev/method-embeddings/SourceCodeTools/models/graph/train/sampling_multitask2.py\u001B[0m in \u001B[0;36mtrain_all\u001B[0;34m(self)\u001B[0m\n\u001B[1;32m    694\u001B[0m                 \u001B[0;32mtry\u001B[0m\u001B[0;34m:\u001B[0m\u001B[0;34m\u001B[0m\u001B[0;34m\u001B[0m\u001B[0m\n\u001B[1;32m    695\u001B[0m                     \u001B[0;32mfor\u001B[0m \u001B[0mobjective\u001B[0m\u001B[0;34m,\u001B[0m \u001B[0mobjective_iterator\u001B[0m \u001B[0;32min\u001B[0m \u001B[0mzip\u001B[0m\u001B[0;34m(\u001B[0m\u001B[0mself\u001B[0m\u001B[0;34m.\u001B[0m\u001B[0mobjectives\u001B[0m\u001B[0;34m,\u001B[0m \u001B[0mobjective_iterators\u001B[0m\u001B[0;34m)\u001B[0m\u001B[0;34m:\u001B[0m\u001B[0;34m\u001B[0m\u001B[0;34m\u001B[0m\u001B[0m\n\u001B[0;32m--> 696\u001B[0;31m                         \u001B[0mscores\u001B[0m \u001B[0;34m=\u001B[0m \u001B[0mself\u001B[0m\u001B[0;34m.\u001B[0m\u001B[0mtrain_step_for_objective\u001B[0m\u001B[0;34m(\u001B[0m\u001B[0mstep\u001B[0m\u001B[0;34m,\u001B[0m \u001B[0mobjective\u001B[0m\u001B[0;34m,\u001B[0m \u001B[0mobjective_iterator\u001B[0m\u001B[0;34m,\u001B[0m \u001B[0mlongterm_metrics\u001B[0m\u001B[0;34m)\u001B[0m\u001B[0;34m\u001B[0m\u001B[0;34m\u001B[0m\u001B[0m\n\u001B[0m\u001B[1;32m    697\u001B[0m                         self.add_to_summary(\n\u001B[1;32m    698\u001B[0m                             \u001B[0msummary\u001B[0m\u001B[0;34m=\u001B[0m\u001B[0mbatch_summary\u001B[0m\u001B[0;34m,\u001B[0m \u001B[0mpartition\u001B[0m\u001B[0;34m=\u001B[0m\u001B[0;34m\"train\"\u001B[0m\u001B[0;34m,\u001B[0m \u001B[0mobjective_name\u001B[0m\u001B[0;34m=\u001B[0m\u001B[0mobjective\u001B[0m\u001B[0;34m.\u001B[0m\u001B[0mname\u001B[0m\u001B[0;34m,\u001B[0m\u001B[0;34m\u001B[0m\u001B[0;34m\u001B[0m\u001B[0m\n",
      "\u001B[0;32m~/dev/method-embeddings/SourceCodeTools/models/graph/train/sampling_multitask2.py\u001B[0m in \u001B[0;36mtrain_step_for_objective\u001B[0;34m(self, step, objective, objective_iterator, longterm_metrics)\u001B[0m\n\u001B[1;32m    652\u001B[0m \u001B[0;34m\u001B[0m\u001B[0m\n\u001B[1;32m    653\u001B[0m     \u001B[0;32mdef\u001B[0m \u001B[0mtrain_step_for_objective\u001B[0m\u001B[0;34m(\u001B[0m\u001B[0mself\u001B[0m\u001B[0;34m,\u001B[0m \u001B[0mstep\u001B[0m\u001B[0;34m,\u001B[0m \u001B[0mobjective\u001B[0m\u001B[0;34m,\u001B[0m \u001B[0mobjective_iterator\u001B[0m\u001B[0;34m,\u001B[0m \u001B[0mlongterm_metrics\u001B[0m\u001B[0;34m)\u001B[0m\u001B[0;34m:\u001B[0m\u001B[0;34m\u001B[0m\u001B[0;34m\u001B[0m\u001B[0m\n\u001B[0;32m--> 654\u001B[0;31m         \u001B[0mbatch\u001B[0m \u001B[0;34m=\u001B[0m \u001B[0mnext\u001B[0m\u001B[0;34m(\u001B[0m\u001B[0mobjective_iterator\u001B[0m\u001B[0;34m)\u001B[0m\u001B[0;34m\u001B[0m\u001B[0;34m\u001B[0m\u001B[0m\n\u001B[0m\u001B[1;32m    655\u001B[0m \u001B[0;34m\u001B[0m\u001B[0m\n\u001B[1;32m    656\u001B[0m         \u001B[0;31m# print(\"Input Nodes:\", len(batch[\"input_nodes\"]))\u001B[0m\u001B[0;34m\u001B[0m\u001B[0;34m\u001B[0m\u001B[0;34m\u001B[0m\u001B[0m\n",
      "\u001B[0;32m~/dev/method-embeddings/SourceCodeTools/code/data/dataset/DataLoader.py\u001B[0m in \u001B[0;36mcreate_batches\u001B[0;34m(self, subgraph_generator, number_of_hops, batch_size, partition, labels_for)\u001B[0m\n\u001B[1;32m    889\u001B[0m             \u001B[0;32mreturn\u001B[0m \u001B[0min_p\u001B[0m\u001B[0;34m\u001B[0m\u001B[0;34m\u001B[0m\u001B[0m\n\u001B[1;32m    890\u001B[0m \u001B[0;34m\u001B[0m\u001B[0m\n\u001B[0;32m--> 891\u001B[0;31m         \u001B[0;32mfor\u001B[0m \u001B[0msubgraph_\u001B[0m \u001B[0;32min\u001B[0m \u001B[0msubgraph_generator\u001B[0m\u001B[0;34m:\u001B[0m\u001B[0;34m\u001B[0m\u001B[0;34m\u001B[0m\u001B[0m\n\u001B[0m\u001B[1;32m    892\u001B[0m             \u001B[0mgroup\u001B[0m \u001B[0;34m=\u001B[0m \u001B[0msubgraph_\u001B[0m\u001B[0;34m[\u001B[0m\u001B[0;34m\"group\"\u001B[0m\u001B[0;34m]\u001B[0m\u001B[0;34m\u001B[0m\u001B[0;34m\u001B[0m\u001B[0m\n\u001B[1;32m    893\u001B[0m             \u001B[0msubgraph\u001B[0m \u001B[0;34m=\u001B[0m \u001B[0msubgraph_\u001B[0m\u001B[0;34m[\u001B[0m\u001B[0;34m\"subgraph\"\u001B[0m\u001B[0;34m]\u001B[0m\u001B[0;34m\u001B[0m\u001B[0;34m\u001B[0m\u001B[0m\n",
      "\u001B[0;32m~/dev/method-embeddings/SourceCodeTools/code/data/dataset/DataLoader.py\u001B[0m in \u001B[0;36m_iterate_subgraphs\u001B[0;34m(self, node_data, edge_data, subgraph_data, masker_fn, node_label_loader, edge_label_loader, subgraph_label_loader, grouping_strategy)\u001B[0m\n\u001B[1;32m    116\u001B[0m             \u001B[0mgroups\u001B[0m \u001B[0;34m=\u001B[0m \u001B[0;32mNone\u001B[0m\u001B[0;34m\u001B[0m\u001B[0;34m\u001B[0m\u001B[0m\n\u001B[1;32m    117\u001B[0m \u001B[0;34m\u001B[0m\u001B[0m\n\u001B[0;32m--> 118\u001B[0;31m         for subgraph in self.dataset.iterate_subgraphs(\n\u001B[0m\u001B[1;32m    119\u001B[0m                 \u001B[0mgrouping_strategy\u001B[0m\u001B[0;34m,\u001B[0m \u001B[0mgroups\u001B[0m\u001B[0;34m,\u001B[0m \u001B[0mnode_data\u001B[0m\u001B[0;34m,\u001B[0m \u001B[0medge_data\u001B[0m\u001B[0;34m,\u001B[0m \u001B[0msubgraph_data\u001B[0m\u001B[0;34m,\u001B[0m \u001B[0mself\u001B[0m\u001B[0;34m.\u001B[0m\u001B[0mn_buckets\u001B[0m\u001B[0;34m\u001B[0m\u001B[0;34m\u001B[0m\u001B[0m\n\u001B[1;32m    120\u001B[0m         ):\n",
      "\u001B[0;32m~/dev/method-embeddings/SourceCodeTools/code/data/dataset/Dataset.py\u001B[0m in \u001B[0;36miterate_subgraphs\u001B[0;34m(self, how, groups, node_data, edge_data, subgraph_data, n_buckets)\u001B[0m\n\u001B[1;32m    965\u001B[0m                 \u001B[0medges_bloom_filter\u001B[0m\u001B[0;34m.\u001B[0m\u001B[0madd\u001B[0m\u001B[0;34m(\u001B[0m\u001B[0;34m(\u001B[0m\u001B[0msrc\u001B[0m\u001B[0;34m,\u001B[0m \u001B[0mdst\u001B[0m\u001B[0;34m)\u001B[0m\u001B[0;34m)\u001B[0m\u001B[0;34m\u001B[0m\u001B[0;34m\u001B[0m\u001B[0m\n\u001B[1;32m    966\u001B[0m \u001B[0;34m\u001B[0m\u001B[0m\n\u001B[0;32m--> 967\u001B[0;31m             \u001B[0msubgraph\u001B[0m \u001B[0;34m=\u001B[0m \u001B[0mself\u001B[0m\u001B[0;34m.\u001B[0m\u001B[0m_create_graph_from_nodes_and_edges\u001B[0m\u001B[0;34m(\u001B[0m\u001B[0mnodes\u001B[0m\u001B[0;34m,\u001B[0m \u001B[0medges\u001B[0m\u001B[0;34m,\u001B[0m \u001B[0mnode_data\u001B[0m\u001B[0;34m,\u001B[0m \u001B[0medge_data\u001B[0m\u001B[0;34m,\u001B[0m \u001B[0mn_buckets\u001B[0m\u001B[0;34m=\u001B[0m\u001B[0mn_buckets\u001B[0m\u001B[0;34m)\u001B[0m\u001B[0;34m\u001B[0m\u001B[0;34m\u001B[0m\u001B[0m\n\u001B[0m\u001B[1;32m    968\u001B[0m \u001B[0;34m\u001B[0m\u001B[0m\n\u001B[1;32m    969\u001B[0m             \u001B[0;32mif\u001B[0m \u001B[0msubgraph\u001B[0m \u001B[0;32mis\u001B[0m \u001B[0;32mnot\u001B[0m \u001B[0;32mNone\u001B[0m\u001B[0;34m:\u001B[0m\u001B[0;34m\u001B[0m\u001B[0;34m\u001B[0m\u001B[0m\n",
      "\u001B[0;32m~/dev/method-embeddings/SourceCodeTools/code/data/dataset/Dataset.py\u001B[0m in \u001B[0;36m_create_graph_from_nodes_and_edges\u001B[0;34m(self, nodes, edges, node_data, edge_data, n_buckets)\u001B[0m\n\u001B[1;32m    853\u001B[0m             \u001B[0msubgraph\u001B[0m \u001B[0;34m=\u001B[0m \u001B[0mself\u001B[0m\u001B[0;34m.\u001B[0m\u001B[0m_load_cache_if_exists\u001B[0m\u001B[0;34m(\u001B[0m\u001B[0mcache_key\u001B[0m\u001B[0;34m)\u001B[0m\u001B[0;34m\u001B[0m\u001B[0;34m\u001B[0m\u001B[0m\n\u001B[1;32m    854\u001B[0m             \u001B[0;32mif\u001B[0m \u001B[0msubgraph\u001B[0m \u001B[0;32mis\u001B[0m \u001B[0;32mNone\u001B[0m\u001B[0;34m:\u001B[0m\u001B[0;34m\u001B[0m\u001B[0;34m\u001B[0m\u001B[0m\n\u001B[0;32m--> 855\u001B[0;31m                 \u001B[0msubgraph\u001B[0m \u001B[0;34m=\u001B[0m \u001B[0mself\u001B[0m\u001B[0;34m.\u001B[0m\u001B[0m_create_hetero_graph\u001B[0m\u001B[0;34m(\u001B[0m\u001B[0mnodes\u001B[0m\u001B[0;34m,\u001B[0m \u001B[0medges\u001B[0m\u001B[0;34m)\u001B[0m\u001B[0;34m\u001B[0m\u001B[0;34m\u001B[0m\u001B[0m\n\u001B[0m\u001B[1;32m    856\u001B[0m                 \u001B[0mself\u001B[0m\u001B[0;34m.\u001B[0m\u001B[0m_write_to_cache\u001B[0m\u001B[0;34m(\u001B[0m\u001B[0msubgraph\u001B[0m\u001B[0;34m,\u001B[0m \u001B[0mcache_key\u001B[0m\u001B[0;34m)\u001B[0m\u001B[0;34m\u001B[0m\u001B[0;34m\u001B[0m\u001B[0m\n\u001B[1;32m    857\u001B[0m \u001B[0;34m\u001B[0m\u001B[0m\n",
      "\u001B[0;32m~/dev/method-embeddings/SourceCodeTools/code/data/dataset/Dataset.py\u001B[0m in \u001B[0;36m_create_hetero_graph\u001B[0;34m(self, nodes, edges)\u001B[0m\n\u001B[1;32m    600\u001B[0m             \u001B[0msubgraph_signature\u001B[0m \u001B[0;34m=\u001B[0m \u001B[0;34m(\u001B[0m\u001B[0msrc_type\u001B[0m\u001B[0;34m,\u001B[0m \u001B[0mtype\u001B[0m\u001B[0;34m,\u001B[0m \u001B[0mdst_type\u001B[0m\u001B[0;34m)\u001B[0m\u001B[0;34m\u001B[0m\u001B[0;34m\u001B[0m\u001B[0m\n\u001B[1;32m    601\u001B[0m \u001B[0;34m\u001B[0m\u001B[0m\n\u001B[0;32m--> 602\u001B[0;31m             subset = edges_table.query(\n\u001B[0m\u001B[1;32m    603\u001B[0m                 \u001B[0;34mf\"select * from edges where src_type = '{src_type}' and type = '{type}' and dst_type = '{dst_type}'\"\u001B[0m\u001B[0;34m\u001B[0m\u001B[0;34m\u001B[0m\u001B[0m\n\u001B[1;32m    604\u001B[0m             )\n",
      "\u001B[0;32m~/dev/method-embeddings/SourceCodeTools/code/data/DBStorage.py\u001B[0m in \u001B[0;36mquery\u001B[0;34m(self, query_string, **kwargs)\u001B[0m\n\u001B[1;32m     58\u001B[0m \u001B[0;34m\u001B[0m\u001B[0m\n\u001B[1;32m     59\u001B[0m     \u001B[0;32mdef\u001B[0m \u001B[0mquery\u001B[0m\u001B[0;34m(\u001B[0m\u001B[0mself\u001B[0m\u001B[0;34m,\u001B[0m \u001B[0mquery_string\u001B[0m\u001B[0;34m,\u001B[0m \u001B[0;34m**\u001B[0m\u001B[0mkwargs\u001B[0m\u001B[0;34m)\u001B[0m\u001B[0;34m:\u001B[0m\u001B[0;34m\u001B[0m\u001B[0;34m\u001B[0m\u001B[0m\n\u001B[0;32m---> 60\u001B[0;31m         \u001B[0;32mreturn\u001B[0m \u001B[0mpd\u001B[0m\u001B[0;34m.\u001B[0m\u001B[0mread_sql\u001B[0m\u001B[0;34m(\u001B[0m\u001B[0mquery_string\u001B[0m\u001B[0;34m,\u001B[0m \u001B[0mself\u001B[0m\u001B[0;34m.\u001B[0m\u001B[0mconn\u001B[0m\u001B[0;34m,\u001B[0m \u001B[0;34m**\u001B[0m\u001B[0mkwargs\u001B[0m\u001B[0;34m)\u001B[0m\u001B[0;34m\u001B[0m\u001B[0;34m\u001B[0m\u001B[0m\n\u001B[0m\u001B[1;32m     61\u001B[0m \u001B[0;34m\u001B[0m\u001B[0m\n\u001B[1;32m     62\u001B[0m     \u001B[0;32mdef\u001B[0m \u001B[0mcommit\u001B[0m\u001B[0;34m(\u001B[0m\u001B[0mself\u001B[0m\u001B[0;34m)\u001B[0m\u001B[0;34m:\u001B[0m\u001B[0;34m\u001B[0m\u001B[0;34m\u001B[0m\u001B[0m\n",
      "\u001B[0;32m~/Soft/miniconda3/envs/SourceCodeTools/lib/python3.8/site-packages/pandas/io/sql.py\u001B[0m in \u001B[0;36mread_sql\u001B[0;34m(sql, con, index_col, coerce_float, params, parse_dates, columns, chunksize)\u001B[0m\n\u001B[1;32m    600\u001B[0m \u001B[0;34m\u001B[0m\u001B[0m\n\u001B[1;32m    601\u001B[0m     \u001B[0;32mif\u001B[0m \u001B[0misinstance\u001B[0m\u001B[0;34m(\u001B[0m\u001B[0mpandas_sql\u001B[0m\u001B[0;34m,\u001B[0m \u001B[0mSQLiteDatabase\u001B[0m\u001B[0;34m)\u001B[0m\u001B[0;34m:\u001B[0m\u001B[0;34m\u001B[0m\u001B[0;34m\u001B[0m\u001B[0m\n\u001B[0;32m--> 602\u001B[0;31m         return pandas_sql.read_query(\n\u001B[0m\u001B[1;32m    603\u001B[0m             \u001B[0msql\u001B[0m\u001B[0;34m,\u001B[0m\u001B[0;34m\u001B[0m\u001B[0;34m\u001B[0m\u001B[0m\n\u001B[1;32m    604\u001B[0m             \u001B[0mindex_col\u001B[0m\u001B[0;34m=\u001B[0m\u001B[0mindex_col\u001B[0m\u001B[0;34m,\u001B[0m\u001B[0;34m\u001B[0m\u001B[0;34m\u001B[0m\u001B[0m\n",
      "\u001B[0;32m~/Soft/miniconda3/envs/SourceCodeTools/lib/python3.8/site-packages/pandas/io/sql.py\u001B[0m in \u001B[0;36mread_query\u001B[0;34m(self, sql, index_col, coerce_float, params, parse_dates, chunksize, dtype)\u001B[0m\n\u001B[1;32m   2114\u001B[0m \u001B[0;34m\u001B[0m\u001B[0m\n\u001B[1;32m   2115\u001B[0m         \u001B[0margs\u001B[0m \u001B[0;34m=\u001B[0m \u001B[0m_convert_params\u001B[0m\u001B[0;34m(\u001B[0m\u001B[0msql\u001B[0m\u001B[0;34m,\u001B[0m \u001B[0mparams\u001B[0m\u001B[0;34m)\u001B[0m\u001B[0;34m\u001B[0m\u001B[0;34m\u001B[0m\u001B[0m\n\u001B[0;32m-> 2116\u001B[0;31m         \u001B[0mcursor\u001B[0m \u001B[0;34m=\u001B[0m \u001B[0mself\u001B[0m\u001B[0;34m.\u001B[0m\u001B[0mexecute\u001B[0m\u001B[0;34m(\u001B[0m\u001B[0;34m*\u001B[0m\u001B[0margs\u001B[0m\u001B[0;34m)\u001B[0m\u001B[0;34m\u001B[0m\u001B[0;34m\u001B[0m\u001B[0m\n\u001B[0m\u001B[1;32m   2117\u001B[0m         \u001B[0mcolumns\u001B[0m \u001B[0;34m=\u001B[0m \u001B[0;34m[\u001B[0m\u001B[0mcol_desc\u001B[0m\u001B[0;34m[\u001B[0m\u001B[0;36m0\u001B[0m\u001B[0;34m]\u001B[0m \u001B[0;32mfor\u001B[0m \u001B[0mcol_desc\u001B[0m \u001B[0;32min\u001B[0m \u001B[0mcursor\u001B[0m\u001B[0;34m.\u001B[0m\u001B[0mdescription\u001B[0m\u001B[0;34m]\u001B[0m\u001B[0;34m\u001B[0m\u001B[0;34m\u001B[0m\u001B[0m\n\u001B[1;32m   2118\u001B[0m \u001B[0;34m\u001B[0m\u001B[0m\n",
      "\u001B[0;32m~/Soft/miniconda3/envs/SourceCodeTools/lib/python3.8/site-packages/pandas/io/sql.py\u001B[0m in \u001B[0;36mexecute\u001B[0;34m(self, *args, **kwargs)\u001B[0m\n\u001B[1;32m   2054\u001B[0m             \u001B[0mcur\u001B[0m \u001B[0;34m=\u001B[0m \u001B[0mself\u001B[0m\u001B[0;34m.\u001B[0m\u001B[0mcon\u001B[0m\u001B[0;34m.\u001B[0m\u001B[0mcursor\u001B[0m\u001B[0;34m(\u001B[0m\u001B[0;34m)\u001B[0m\u001B[0;34m\u001B[0m\u001B[0;34m\u001B[0m\u001B[0m\n\u001B[1;32m   2055\u001B[0m         \u001B[0;32mtry\u001B[0m\u001B[0;34m:\u001B[0m\u001B[0;34m\u001B[0m\u001B[0;34m\u001B[0m\u001B[0m\n\u001B[0;32m-> 2056\u001B[0;31m             \u001B[0mcur\u001B[0m\u001B[0;34m.\u001B[0m\u001B[0mexecute\u001B[0m\u001B[0;34m(\u001B[0m\u001B[0;34m*\u001B[0m\u001B[0margs\u001B[0m\u001B[0;34m,\u001B[0m \u001B[0;34m**\u001B[0m\u001B[0mkwargs\u001B[0m\u001B[0;34m)\u001B[0m\u001B[0;34m\u001B[0m\u001B[0;34m\u001B[0m\u001B[0m\n\u001B[0m\u001B[1;32m   2057\u001B[0m             \u001B[0;32mreturn\u001B[0m \u001B[0mcur\u001B[0m\u001B[0;34m\u001B[0m\u001B[0;34m\u001B[0m\u001B[0m\n\u001B[1;32m   2058\u001B[0m         \u001B[0;32mexcept\u001B[0m \u001B[0mException\u001B[0m \u001B[0;32mas\u001B[0m \u001B[0mexc\u001B[0m\u001B[0;34m:\u001B[0m\u001B[0;34m\u001B[0m\u001B[0;34m\u001B[0m\u001B[0m\n",
      "\u001B[0;31mKeyboardInterrupt\u001B[0m: "
     ]
    }
   ],
   "source": [
    "training_procedure(\n",
    "    dataset,\n",
    "    model_name=RGGAN,\n",
    "    model_params=config[\"MODEL\"],\n",
    "    trainer_params=config[\"TRAINING\"],\n",
    "    model_base_path=get_model_base(config[\"TRAINING\"], get_name(RGGAN, str(datetime.now()))),\n",
    "    trainer=Trainer\n",
    ")"
   ],
   "metadata": {
    "collapsed": false,
    "pycharm": {
     "name": "#%%\n"
    }
   }
  },
  {
   "cell_type": "code",
   "execution_count": null,
   "id": "879cf5e3",
   "metadata": {},
   "outputs": [],
   "source": []
  },
  {
   "cell_type": "code",
   "execution_count": null,
   "id": "9b91dd03",
   "metadata": {},
   "outputs": [],
   "source": []
  }
 ],
 "metadata": {
  "kernelspec": {
   "name": "sourcecodetools",
   "language": "python",
   "display_name": "SourceCodeTools"
  },
  "language_info": {
   "codemirror_mode": {
    "name": "ipython",
    "version": 3
   },
   "file_extension": ".py",
   "mimetype": "text/x-python",
   "name": "python",
   "nbconvert_exporter": "python",
   "pygments_lexer": "ipython3",
   "version": "3.8.12"
  }
 },
 "nbformat": 4,
 "nbformat_minor": 5
}
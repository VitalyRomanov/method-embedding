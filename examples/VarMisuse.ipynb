{
 "cells": [
  {
   "cell_type": "markdown",
   "id": "4a05f853",
   "metadata": {
    "cellId": "m78tog15lbpxiveuiimf5a"
   },
   "source": [
    "# Variable misuse detection\n",
    "\n",
    "VarMisuse at node level"
   ]
  },
  {
   "cell_type": "code",
   "execution_count": 1,
   "id": "a7cdf3e1",
   "metadata": {
    "cellId": "7chovcd1n2pbd24n3juakw"
   },
   "outputs": [],
   "source": [
    "#!g1.1\n",
    "%load_ext autoreload\n",
    "%autoreload 2\n",
    "%load_ext tensorboard"
   ]
  },
  {
   "cell_type": "code",
   "execution_count": 2,
   "id": "764f8f78",
   "metadata": {
    "cellId": "9pcohjvr41m1gwdbllxu5p"
   },
   "outputs": [],
   "source": [
    "#!g1.1\n",
    "# %pip install dgl-cu113 dglgo -f https://data.dgl.ai/wheels/repo.html"
   ]
  },
  {
   "cell_type": "code",
   "execution_count": 3,
   "id": "ddd2c83c",
   "metadata": {
    "cellId": "9a2l5g300ri7o2irqhxr1"
   },
   "outputs": [],
   "source": [
    "#!g1.1\n",
    "from random import random\n",
    "\n",
    "from SourceCodeTools.models.training_config import get_config, save_config, load_config\n",
    "from SourceCodeTools.code.data.dataset.Dataset import SourceGraphDataset, filter_dst_by_freq\n",
    "from SourceCodeTools.models.graph.train.sampling_multitask2 import training_procedure, SamplingMultitaskTrainer\n",
    "from SourceCodeTools.models.graph.train.objectives.NodeClassificationObjective import NodeClassifierObjective\n",
    "from SourceCodeTools.models.graph.train.utils import get_name, get_model_base\n",
    "from SourceCodeTools.models.graph import RGGAN\n",
    "from SourceCodeTools.tabular.common import compact_property\n",
    "from SourceCodeTools.code.data.file_utils import unpersist\n",
    "\n",
    "import dgl\n",
    "import torch\n",
    "import numpy as np\n",
    "from torch import nn\n",
    "from datetime import datetime"
   ]
  },
  {
   "cell_type": "markdown",
   "id": "e9c20ce4",
   "metadata": {
    "cellId": "g9tiww3zd86nnak57q3n4j"
   },
   "source": [
    "# Prepare parameters and options\n",
    "\n",
    "Full list of options that can be added can be found in `SourceCodeTools/models/training_options.py`. They are ment to be used as arguments for cli trainer. Trainer script can be found in `SourceCodeTools/scripts/train.py`.\n",
    "\n",
    "There are a lot of parameters. Ones that might be of interest are marked with `***`."
   ]
  },
  {
   "cell_type": "code",
   "execution_count": 4,
   "id": "496d5b79",
   "metadata": {
    "cellId": "j0alxbc2u5cevzlq4hcne"
   },
   "outputs": [],
   "source": [
    "#!g1.1\n",
    "config = get_config(\n",
    "    # tokenizer\n",
    "    tokenizer_path=\"sentencepiece_bpe.model\", # *** path to sentencepiece model\n",
    "    \n",
    "    # dataset parameters\n",
    "    data_path=\"v2\",             # *** path to node type\n",
    "    use_node_types=False,                # node types currently not supported\n",
    "    use_edge_types=False,                 # whether to use edge types\n",
    "    filter_edges=None,                   # None or list of edge type names\n",
    "    self_loops=False,                    # whether to use self loops\n",
    "    train_frac=0.8,                      # *** fraction of nodes to use for training\n",
    "    random_seed=42,                      # random seed for splitting dataset int o train test validation\n",
    "    min_count_for_objectives=5,          # *** minimum frequency of targets\n",
    "    no_global_edges=False,               # remove global edges\n",
    "    remove_reverse=False,                # remove reverse edges\n",
    "    custom_reverse=None,                 # None or list of edges, for which reverse edges should be created (use together with `remove_reverse`)\n",
    "    \n",
    "    # training parameters\n",
    "    model_output_dir=\"v2\",      # *** directory to save checkpoints and training data\n",
    "    batch_size=256,                     # *** \n",
    "    sampling_neighbourhood_size=10,      # number of dependencies to sample for each node\n",
    "    neg_sampling_factor=1,               # *** number of negative samples for each positive sample\n",
    "    epochs=2,                           # *** number of epochs\n",
    "    elem_emb_size=30,                   # *** dimensionality of target embeddings (for node name prediction)\n",
    "    pretraining_phase=0,                 # number of epochs for pretraining\n",
    "    embedding_table_size=200000,         # *** embedding table size for subwords\n",
    "    save_checkpoints=False,              # set to False if checkpoints are not needed\n",
    "    save_each_epoch=False,               # save each epoch, useful in case of studying model behavior\n",
    "    measure_scores=True,                 # *** measure ranking scores during evaluation\n",
    "    dilate_scores=1,                   # downsampling factor for measuring scores to make evaluation faster\n",
    "    objectives=\"node_clf\",               # type of objective\n",
    "    force_w2v_ns=True,                   # negative sampling strategy\n",
    "    gpu=0,                              # gpuid\n",
    "    restore_state=False,\n",
    "    pretrained=None,\n",
    "    \n",
    "    # model parameters\n",
    "    node_emb_size=30,                   # *** dimensionality of node embeddings\n",
    "    h_dim=30,                           # *** should match to node dimensionality\n",
    "    n_layers=3,\n",
    "    num_bases=10,                        # number of bases for computing parmetwer weights for different edge types\n",
    "    dropout=0.3,                         # *** \n",
    "    use_self_loop=True,                  #\n",
    "    activation=\"tanh\",                   # *** \n",
    "    learning_rate=3e-3,                  # *** \n",
    "    use_gcn_checkpoint=True,\n",
    "    use_att_checkpoint=True,\n",
    "    use_gru_checkpoint=True\n",
    ")"
   ]
  },
  {
   "cell_type": "code",
   "execution_count": 5,
   "id": "93cbb9b2",
   "metadata": {
    "cellId": "lzw7yyqpk50z9u7wcbaqc"
   },
   "outputs": [
    {
     "data": {
      "text/plain": [
       "{'DATASET': {'custom_reverse': None,\n",
       "  'data_path': 'v2',\n",
       "  'filter_edges': None,\n",
       "  'min_count_for_objectives': 5,\n",
       "  'no_global_edges': False,\n",
       "  'random_seed': 42,\n",
       "  'remove_reverse': False,\n",
       "  'restricted_id_pool': None,\n",
       "  'self_loops': False,\n",
       "  'subgraph_id_column': 'mentioned_in',\n",
       "  'subgraph_partition': None,\n",
       "  'train_frac': 0.8,\n",
       "  'use_edge_types': False,\n",
       "  'use_node_types': False},\n",
       " 'MODEL': {'activation': 'tanh',\n",
       "  'dropout': 0.3,\n",
       "  'h_dim': 30,\n",
       "  'n_layers': 3,\n",
       "  'node_emb_size': 30,\n",
       "  'num_bases': 10,\n",
       "  'use_att_checkpoint': True,\n",
       "  'use_gcn_checkpoint': True,\n",
       "  'use_gru_checkpoint': True,\n",
       "  'use_self_loop': True},\n",
       " 'TOKENIZER': {'tokenizer_path': 'sentencepiece_bpe.model'},\n",
       " 'TRAINING': {'batch_size': 256,\n",
       "  'dilate_scores': 1,\n",
       "  'early_stopping': False,\n",
       "  'early_stopping_tolerance': 20,\n",
       "  'elem_emb_size': 30,\n",
       "  'embedding_table_size': 200000,\n",
       "  'epochs': 2,\n",
       "  'external_dataset': None,\n",
       "  'force_w2v_ns': True,\n",
       "  'gpu': 0,\n",
       "  'learning_rate': 0.003,\n",
       "  'measure_scores': True,\n",
       "  'metric': 'inner_prod',\n",
       "  'model_output_dir': 'v2',\n",
       "  'neg_sampling_factor': 1,\n",
       "  'nn_index': 'brute',\n",
       "  'objectives': 'node_clf',\n",
       "  'pretrained': None,\n",
       "  'pretraining_phase': 0,\n",
       "  'restore_state': False,\n",
       "  'sampling_neighbourhood_size': 10,\n",
       "  'save_checkpoints': False,\n",
       "  'save_each_epoch': False,\n",
       "  'schedule_layers_every': 10,\n",
       "  'use_layer_scheduling': False,\n",
       "  'use_ns_groups': False}}"
      ]
     },
     "execution_count": 5,
     "metadata": {},
     "output_type": "execute_result"
    }
   ],
   "source": [
    "#!g1.1\n",
    "save_config(config, \"config.yaml\")\n",
    "config = load_config(\"config.yaml\")\n",
    "config"
   ]
  },
  {
   "cell_type": "markdown",
   "id": "993dfc2a",
   "metadata": {
    "cellId": "v34hwuqv65s18nug683fg7"
   },
   "source": [
    "# Create Dataset"
   ]
  },
  {
   "cell_type": "code",
   "execution_count": 6,
   "id": "5f27ac78",
   "metadata": {
    "cellId": "iof1csl4j882hpr3oumv"
   },
   "outputs": [
    {
     "name": "stderr",
     "output_type": "stream",
     "text": [
      "WARNING:root:Random state for splitting dataset is fixed\n"
     ]
    }
   ],
   "source": [
    "#!g1.1\n",
    "dataset = SourceGraphDataset(\n",
    "    **{**config[\"DATASET\"], **config[\"TOKENIZER\"]},\n",
    ")"
   ]
  },
  {
   "cell_type": "markdown",
   "id": "605a5ec5",
   "metadata": {
    "cellId": "f4jdqezhsqibhlxs979vap"
   },
   "source": [
    "# Declare target loading function (labels)"
   ]
  },
  {
   "cell_type": "code",
   "execution_count": 7,
   "id": "c308fd56",
   "metadata": {
    "cellId": "rpcono88tre8eo3yhkyg34"
   },
   "outputs": [],
   "source": [
    "#!g1.1\n",
    "l = unpersist(\"v2/misuse_labels.json.bz2\")"
   ]
  },
  {
   "cell_type": "code",
   "execution_count": 8,
   "id": "257141cb",
   "metadata": {
    "cellId": "2xwtlmjwg4n94vvra0xqum"
   },
   "outputs": [
    {
     "data": {
      "text/plain": [
       "0.24393915469235222"
      ]
     },
     "execution_count": 8,
     "metadata": {},
     "output_type": "execute_result"
    }
   ],
   "source": [
    "#!g1.1\n",
    "val, counts = np.unique(l.dst, return_counts=True)\n",
    "counts[1]/counts.sum()"
   ]
  },
  {
   "cell_type": "code",
   "execution_count": 9,
   "id": "b376b99e",
   "metadata": {
    "cellId": "ch70xj1jcvcknabo74wdx",
    "tags": []
   },
   "outputs": [],
   "source": [
    "#!g1.1\n",
    "def load_var_misuse():\n",
    "    from SourceCodeTools.code.data.dataset.reader import load_data\n",
    "    \n",
    "    nodes = dataset.nodes\n",
    "    \n",
    "    var_misuse_labels = unpersist(\"v2/misuse_labels.json.bz2\").query(\"src in @node_ids\", local_dict={\"node_ids\": nodes[\"id\"]})\n",
    "    \n",
    "    return var_misuse_labels"
   ]
  },
  {
   "cell_type": "code",
   "execution_count": 10,
   "id": "0966b5f5",
   "metadata": {
    "cellId": "ntn8bl4amtnqpahg9cygxk"
   },
   "outputs": [
    {
     "data": {
      "text/html": [
       "<div>\n",
       "<style scoped>\n",
       "    .dataframe tbody tr th:only-of-type {\n",
       "        vertical-align: middle;\n",
       "    }\n",
       "\n",
       "    .dataframe tbody tr th {\n",
       "        vertical-align: top;\n",
       "    }\n",
       "\n",
       "    .dataframe thead th {\n",
       "        text-align: right;\n",
       "    }\n",
       "</style>\n",
       "<table border=\"1\" class=\"dataframe\">\n",
       "  <thead>\n",
       "    <tr style=\"text-align: right;\">\n",
       "      <th></th>\n",
       "      <th>src</th>\n",
       "      <th>dst</th>\n",
       "    </tr>\n",
       "  </thead>\n",
       "  <tbody>\n",
       "    <tr>\n",
       "      <th>0</th>\n",
       "      <td>877853</td>\n",
       "      <td>correct</td>\n",
       "    </tr>\n",
       "    <tr>\n",
       "      <th>1</th>\n",
       "      <td>40094</td>\n",
       "      <td>correct</td>\n",
       "    </tr>\n",
       "    <tr>\n",
       "      <th>2</th>\n",
       "      <td>587425</td>\n",
       "      <td>correct</td>\n",
       "    </tr>\n",
       "    <tr>\n",
       "      <th>3</th>\n",
       "      <td>599966</td>\n",
       "      <td>correct</td>\n",
       "    </tr>\n",
       "    <tr>\n",
       "      <th>4</th>\n",
       "      <td>940591</td>\n",
       "      <td>misused</td>\n",
       "    </tr>\n",
       "    <tr>\n",
       "      <th>...</th>\n",
       "      <td>...</td>\n",
       "      <td>...</td>\n",
       "    </tr>\n",
       "    <tr>\n",
       "      <th>94990</th>\n",
       "      <td>557629</td>\n",
       "      <td>correct</td>\n",
       "    </tr>\n",
       "    <tr>\n",
       "      <th>94991</th>\n",
       "      <td>153025</td>\n",
       "      <td>correct</td>\n",
       "    </tr>\n",
       "    <tr>\n",
       "      <th>94992</th>\n",
       "      <td>521666</td>\n",
       "      <td>misused</td>\n",
       "    </tr>\n",
       "    <tr>\n",
       "      <th>94993</th>\n",
       "      <td>946785</td>\n",
       "      <td>correct</td>\n",
       "    </tr>\n",
       "    <tr>\n",
       "      <th>94994</th>\n",
       "      <td>806783</td>\n",
       "      <td>correct</td>\n",
       "    </tr>\n",
       "  </tbody>\n",
       "</table>\n",
       "<p>94995 rows × 2 columns</p>\n",
       "</div>"
      ],
      "text/plain": [
       "          src      dst\n",
       "0      877853  correct\n",
       "1       40094  correct\n",
       "2      587425  correct\n",
       "3      599966  correct\n",
       "4      940591  misused\n",
       "...       ...      ...\n",
       "94990  557629  correct\n",
       "94991  153025  correct\n",
       "94992  521666  misused\n",
       "94993  946785  correct\n",
       "94994  806783  correct\n",
       "\n",
       "[94995 rows x 2 columns]"
      ]
     },
     "execution_count": 10,
     "metadata": {},
     "output_type": "execute_result"
    }
   ],
   "source": [
    "#!g1.1\n",
    "load_var_misuse()"
   ]
  },
  {
   "cell_type": "markdown",
   "id": "4e789e67",
   "metadata": {
    "cellId": "jbdmerb9bk54badmlcnrn"
   },
   "source": [
    "# Define objectives\n",
    "\n",
    "Currenlty objectives for node classification (`NodeClassifierObjective`), and name-based node embedding training `SubwordEmbedderObjective`."
   ]
  },
  {
   "cell_type": "markdown",
   "id": "5b1bb1d7",
   "metadata": {
    "cellId": "st2tlq1uuzmb8u7vx7u6"
   },
   "source": [
    "![](./figures/img1.png)\n"
   ]
  },
  {
   "cell_type": "markdown",
   "id": "54b01234",
   "metadata": {
    "cellId": "1h4d48f56w8mbjvs78o05p"
   },
   "source": [
    "One or several objectives could be used"
   ]
  },
  {
   "cell_type": "code",
   "execution_count": 23,
   "id": "ebbbb70f",
   "metadata": {
    "cellId": "dljkyysdcajf77tzwxzjb5"
   },
   "outputs": [],
   "source": [
    "#!g1.1\n",
    "class Trainer(SamplingMultitaskTrainer):\n",
    "    def create_objectives(self, dataset, tokenizer_path):\n",
    "        self.objectives = nn.ModuleList()\n",
    "        self.objectives.append(\n",
    "            NodeClassifierObjective(\n",
    "                \"VarMisuse\",\n",
    "                self.graph_model, self.node_embedder, dataset.nodes,\n",
    "                load_var_misuse,                                                   # need to define this function\n",
    "                self.device, self.sampling_neighbourhood_size, self.batch_size,\n",
    "                tokenizer_path=tokenizer_path, target_emb_size=self.elem_emb_size, \n",
    "                masker=None,                                                            # masker is not needed here\n",
    "                measure_scores=False,\n",
    "                dilate_scores=self.trainer_params[\"dilate_scores\"]\n",
    "            )\n",
    "        )"
   ]
  },
  {
   "cell_type": "code",
   "execution_count": 24,
   "id": "34c3572f",
   "metadata": {
    "cellId": "s9rnusmhp86as0lg93n44"
   },
   "outputs": [],
   "source": [
    "#!g1.1\n",
    "# %tensorboard --logdir 'large_graph'"
   ]
  },
  {
   "cell_type": "code",
   "execution_count": 25,
   "id": "74282b1c",
   "metadata": {
    "cellId": "esx9nuggy74tl6whbzurdn"
   },
   "outputs": [],
   "source": [
    "#!g1.1\n",
    "from SourceCodeTools.models.graph.train.objectives.NodeClassificationObjective import NodeClassifierObjective"
   ]
  },
  {
   "cell_type": "code",
   "execution_count": 26,
   "id": "0cc681df",
   "metadata": {
    "cellId": "j8vwwanf7tdlor6p7yekh"
   },
   "outputs": [
    {
     "name": "stderr",
     "output_type": "stream",
     "text": [
      "Epoch 0: 100%|██████████| 298/298 [00:14<00:00, 20.85it/s]\n",
      "Epoch 1: 100%|██████████| 298/298 [00:13<00:00, 21.64it/s]\n"
     ]
    },
    {
     "name": "stdout",
     "output_type": "stream",
     "text": [
      "Number of nodes 1021041\n",
      "Opening File to save!!\n",
      "Opening File to save!!\n",
      "Epoch: 0, Time: 16 s\n",
      "{'Accuracy/test/VarMisuse_': 0.7920769631959148,\n",
      " 'Accuracy/train/VarMisuse_': 0.75,\n",
      " 'Accuracy/train_avg/VarMisuse': 0.7785234899328859,\n",
      " 'Accuracy/val/VarMisuse_': 0.7872720021157521,\n",
      " 'Loss/test/VarMisuse_': 0.39307325836774465,\n",
      " 'Loss/train/VarMisuse_': 0.44256123900413513,\n",
      " 'Loss/train_avg/VarMisuse': 0.45258815616569265,\n",
      " 'Loss/val/VarMisuse_': 0.3960964220601159}\n",
      "Opening File to save!!\n",
      "Opening File to save!!\n",
      "Epoch: 1, Time: 15 s\n",
      "{'Accuracy/test/VarMisuse_': 0.804255958867854,\n",
      " 'Accuracy/train/VarMisuse_': 0.75,\n",
      " 'Accuracy/train_avg/VarMisuse': 0.7930867239932886,\n",
      " 'Accuracy/val/VarMisuse_': 0.8026367987305487,\n",
      " 'Loss/test/VarMisuse_': 0.38428062442186717,\n",
      " 'Loss/train/VarMisuse_': 0.4430818557739258,\n",
      " 'Loss/train_avg/VarMisuse': 0.38926971678765826,\n",
      " 'Loss/val/VarMisuse_': 0.38546452087325017}\n",
      "Opening File to save!!\n",
      "Opening File to save!!\n",
      "Final eval: Loss/val/VarMisuse_final: 0.38546452087325017, Accuracy/val/VarMisuse_final: 0.8026367987305487, Loss/test/VarMisuse_final: 0.38428062442186717, Accuracy/test/VarMisuse_final: 0.804255958867854\n"
     ]
    },
    {
     "data": {
      "text/plain": [
       "(<__main__.Trainer at 0x7f495e0365b0>,\n",
       " {'Loss/val/VarMisuse_final': 0.38546452087325017,\n",
       "  'Accuracy/val/VarMisuse_final': 0.8026367987305487,\n",
       "  'Loss/test/VarMisuse_final': 0.38428062442186717,\n",
       "  'Accuracy/test/VarMisuse_final': 0.804255958867854})"
      ]
     },
     "execution_count": 26,
     "metadata": {},
     "output_type": "execute_result"
    }
   ],
   "source": [
    "#!g1.1\n",
    "training_procedure(\n",
    "    dataset, \n",
    "    model_name=RGGAN, \n",
    "    model_params=config[\"MODEL\"],\n",
    "    trainer_params=config[\"TRAINING\"],\n",
    "    model_base_path=get_model_base(config[\"TRAINING\"], get_name(RGGAN, str(datetime.now()))),\n",
    "    tokenizer_path=config[\"TOKENIZER\"][\"tokenizer_path\"],\n",
    "    trainer=Trainer\n",
    ")"
   ]
  },
  {
   "cell_type": "code",
   "execution_count": 14,
   "id": "2a79cbb6",
   "metadata": {
    "cellId": "qwm9e8exkjcz3wd9iybqh"
   },
   "outputs": [
    {
     "name": "stdout",
     "output_type": "stream",
     "text": [
      "Wed May 25 13:56:24 2022       \n",
      "+-----------------------------------------------------------------------------+\n",
      "| NVIDIA-SMI 460.91.03    Driver Version: 460.91.03    CUDA Version: 11.2     |\n",
      "|-------------------------------+----------------------+----------------------+\n",
      "| GPU  Name        Persistence-M| Bus-Id        Disp.A | Volatile Uncorr. ECC |\n",
      "| Fan  Temp  Perf  Pwr:Usage/Cap|         Memory-Usage | GPU-Util  Compute M. |\n",
      "|                               |                      |               MIG M. |\n",
      "|===============================+======================+======================|\n",
      "|   0  Tesla V100-SXM2...  Off  | 00000000:8C:00.0 Off |                    0 |\n",
      "| N/A   34C    P0    36W / 300W |   1447MiB / 32510MiB |      0%      Default |\n",
      "|                               |                      |                  N/A |\n",
      "+-------------------------------+----------------------+----------------------+\n",
      "                                                                               \n",
      "+-----------------------------------------------------------------------------+\n",
      "| Processes:                                                                  |\n",
      "|  GPU   GI   CI        PID   Type   Process name                  GPU Memory |\n",
      "|        ID   ID                                                   Usage      |\n",
      "|=============================================================================|\n",
      "|    0   N/A  N/A      3156      C   python3                          1443MiB |\n",
      "+-----------------------------------------------------------------------------+\n"
     ]
    }
   ],
   "source": [
    "#!g1.1\n",
    "!nvidia-smi"
   ]
  },
  {
   "cell_type": "code",
   "execution_count": 15,
   "id": "6e2074c5",
   "metadata": {
    "cellId": "z1ejp5wup653vrlla1ws9"
   },
   "outputs": [],
   "source": [
    "#!g1.1\n"
   ]
  }
 ],
 "metadata": {
  "kernelspec": {
   "display_name": "Yandex DataSphere Kernel",
   "language": "python",
   "name": "python3"
  },
  "language_info": {
   "codemirror_mode": {
    "name": "ipython",
    "version": 3
   },
   "file_extension": ".py",
   "mimetype": "text/x-python",
   "name": "python",
   "nbconvert_exporter": "python",
   "pygments_lexer": "ipython3",
   "version": "3.7.7"
  },
  "notebookId": "2097dc27-1489-4e1c-b5e2-a57bf5d7b94c",
  "notebookPath": "method-embedding/examples/VarMisuse.ipynb"
 },
 "nbformat": 4,
 "nbformat_minor": 5
}

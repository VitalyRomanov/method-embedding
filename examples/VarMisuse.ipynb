{
 "cells": [
  {
   "cell_type": "markdown",
   "id": "d0cad55e",
   "metadata": {
    "cellId": "m78tog15lbpxiveuiimf5a"
   },
   "source": [
    "# Variable misuse detection\n",
    "\n",
    "VarMisuse at node level"
   ]
  },
  {
   "cell_type": "code",
   "execution_count": 1,
   "id": "5b163fe0",
   "metadata": {
    "cellId": "7chovcd1n2pbd24n3juakw"
   },
   "outputs": [],
   "source": [
    "#!g1.1\n",
    "%load_ext autoreload\n",
    "%autoreload 2\n",
    "%load_ext tensorboard"
   ]
  },
  {
   "cell_type": "code",
   "execution_count": 2,
   "id": "ebcefb43",
   "metadata": {
    "cellId": "9pcohjvr41m1gwdbllxu5p"
   },
   "outputs": [],
   "source": [
    "#!g1.1\n",
    "# %pip install dgl-cu113 dglgo -f https://data.dgl.ai/wheels/repo.html"
   ]
  },
  {
   "cell_type": "code",
   "execution_count": 3,
   "id": "e88a0706",
   "metadata": {
    "cellId": "9a2l5g300ri7o2irqhxr1"
   },
   "outputs": [],
   "source": [
    "#!g1.1\n",
    "from random import random\n",
    "\n",
    "from SourceCodeTools.models.training_config import get_config, save_config, load_config\n",
    "from SourceCodeTools.code.data.dataset.Dataset import SourceGraphDataset, filter_dst_by_freq\n",
    "from SourceCodeTools.models.graph.train.sampling_multitask2 import training_procedure, SamplingMultitaskTrainer\n",
    "from SourceCodeTools.models.graph.train.objectives.NodeClassificationObjective import NodeClassifierObjective\n",
    "from SourceCodeTools.models.graph.train.utils import get_name, get_model_base\n",
    "from SourceCodeTools.models.graph import RGGAN\n",
    "from SourceCodeTools.tabular.common import compact_property\n",
    "from SourceCodeTools.code.data.file_utils import unpersist\n",
    "\n",
    "import dgl\n",
    "import torch\n",
    "import numpy as np\n",
    "from torch import nn\n",
    "from datetime import datetime"
   ]
  },
  {
   "cell_type": "markdown",
   "id": "77a67943",
   "metadata": {
    "cellId": "g9tiww3zd86nnak57q3n4j"
   },
   "source": [
    "# Prepare parameters and options\n",
    "\n",
    "Full list of options that can be added can be found in `SourceCodeTools/models/training_options.py`. They are ment to be used as arguments for cli trainer. Trainer script can be found in `SourceCodeTools/scripts/train.py`.\n",
    "\n",
    "There are a lot of parameters. Ones that might be of interest are marked with `***`."
   ]
  },
  {
   "cell_type": "code",
   "execution_count": 4,
   "id": "a6f8b388",
   "metadata": {
    "cellId": "j0alxbc2u5cevzlq4hcne"
   },
   "outputs": [],
   "source": [
    "#!g1.1\n",
    "config = get_config(\n",
    "    # tokenizer\n",
    "    tokenizer_path=\"sentencepiece_bpe.model\", # *** path to sentencepiece model\n",
    "    \n",
    "    # dataset parameters\n",
    "    data_path=\"large_graph\",             # *** path to node type\n",
    "    use_node_types=False,                # node types currently not supported\n",
    "    use_edge_types=True,                 # whether to use edge types\n",
    "    filter_edges=None,                   # None or list of edge type names\n",
    "    self_loops=False,                    # whether to use self loops\n",
    "    train_frac=0.8,                      # *** fraction of nodes to use for training\n",
    "    random_seed=42,                      # random seed for splitting dataset int o train test validation\n",
    "    min_count_for_objectives=5,          # *** minimum frequency of targets\n",
    "    no_global_edges=False,               # remove global edges\n",
    "    remove_reverse=False,                # remove reverse edges\n",
    "    custom_reverse=None,                 # None or list of edges, for which reverse edges should be created (use together with `remove_reverse`)\n",
    "    \n",
    "    # training parameters\n",
    "    model_output_dir=\"large_graph\",      # *** directory to save checkpoints and training data\n",
    "    batch_size=128,                     # *** \n",
    "    sampling_neighbourhood_size=10,      # number of dependencies to sample for each node\n",
    "    neg_sampling_factor=1,               # *** number of negative samples for each positive sample\n",
    "    epochs=30,                           # *** number of epochs\n",
    "    elem_emb_size=30,                   # *** dimensionality of target embeddings (for node name prediction)\n",
    "    pretraining_phase=0,                 # number of epochs for pretraining\n",
    "    embedding_table_size=200000,         # *** embedding table size for subwords\n",
    "    save_checkpoints=False,              # set to False if checkpoints are not needed\n",
    "    save_each_epoch=False,               # save each epoch, useful in case of studying model behavior\n",
    "    measure_scores=True,                 # *** measure ranking scores during evaluation\n",
    "    dilate_scores=1,                   # downsampling factor for measuring scores to make evaluation faster\n",
    "    objectives=\"node_clf\",               # type of objective\n",
    "    force_w2v_ns=True,                   # negative sampling strategy\n",
    "    gpu=0,                              # gpuid\n",
    "    restore_state=False,\n",
    "    pretrained=None,\n",
    "    \n",
    "    # model parameters\n",
    "    node_emb_size=30,                   # *** dimensionality of node embeddings\n",
    "    h_dim=30,                           # *** should match to node dimensionality\n",
    "    n_layers=4,\n",
    "    num_bases=10,                        # number of bases for computing parmetwer weights for different edge types\n",
    "    dropout=0.2,                         # *** \n",
    "    use_self_loop=True,                  #\n",
    "    activation=\"tanh\",                   # *** \n",
    "    learning_rate=3e-3,                  # *** \n",
    "    use_gcn_checkpoint=True,\n",
    "    use_att_checkpoint=True,\n",
    "    use_gru_checkpoint=True\n",
    ")"
   ]
  },
  {
   "cell_type": "code",
   "execution_count": 5,
   "id": "4501e237",
   "metadata": {
    "cellId": "lzw7yyqpk50z9u7wcbaqc"
   },
   "outputs": [
    {
     "data": {
      "text/plain": [
       "{'DATASET': {'custom_reverse': None,\n",
       "  'data_path': 'large_graph',\n",
       "  'filter_edges': None,\n",
       "  'min_count_for_objectives': 5,\n",
       "  'no_global_edges': False,\n",
       "  'random_seed': 42,\n",
       "  'remove_reverse': False,\n",
       "  'restricted_id_pool': None,\n",
       "  'self_loops': False,\n",
       "  'subgraph_id_column': 'mentioned_in',\n",
       "  'subgraph_partition': None,\n",
       "  'train_frac': 0.8,\n",
       "  'use_edge_types': True,\n",
       "  'use_node_types': False},\n",
       " 'MODEL': {'activation': 'tanh',\n",
       "  'dropout': 0.2,\n",
       "  'h_dim': 30,\n",
       "  'n_layers': 4,\n",
       "  'node_emb_size': 30,\n",
       "  'num_bases': 10,\n",
       "  'use_att_checkpoint': True,\n",
       "  'use_gcn_checkpoint': True,\n",
       "  'use_gru_checkpoint': True,\n",
       "  'use_self_loop': True},\n",
       " 'TOKENIZER': {'tokenizer_path': 'sentencepiece_bpe.model'},\n",
       " 'TRAINING': {'batch_size': 128,\n",
       "  'dilate_scores': 1,\n",
       "  'early_stopping': False,\n",
       "  'early_stopping_tolerance': 20,\n",
       "  'elem_emb_size': 30,\n",
       "  'embedding_table_size': 200000,\n",
       "  'epochs': 30,\n",
       "  'external_dataset': None,\n",
       "  'force_w2v_ns': True,\n",
       "  'gpu': 0,\n",
       "  'learning_rate': 0.003,\n",
       "  'measure_scores': True,\n",
       "  'metric': 'inner_prod',\n",
       "  'model_output_dir': 'large_graph',\n",
       "  'neg_sampling_factor': 1,\n",
       "  'nn_index': 'brute',\n",
       "  'objectives': 'node_clf',\n",
       "  'pretrained': None,\n",
       "  'pretraining_phase': 0,\n",
       "  'restore_state': False,\n",
       "  'sampling_neighbourhood_size': 10,\n",
       "  'save_checkpoints': False,\n",
       "  'save_each_epoch': False,\n",
       "  'schedule_layers_every': 10,\n",
       "  'use_layer_scheduling': False,\n",
       "  'use_ns_groups': False}}"
      ]
     },
     "execution_count": 5,
     "metadata": {},
     "output_type": "execute_result"
    }
   ],
   "source": [
    "#!g1.1\n",
    "save_config(config, \"config.yaml\")\n",
    "config = load_config(\"config.yaml\")\n",
    "config"
   ]
  },
  {
   "cell_type": "markdown",
   "id": "b7e50de6",
   "metadata": {
    "cellId": "v34hwuqv65s18nug683fg7"
   },
   "source": [
    "# Create Dataset"
   ]
  },
  {
   "cell_type": "code",
   "execution_count": 6,
   "id": "9585bc97",
   "metadata": {
    "cellId": "iof1csl4j882hpr3oumv"
   },
   "outputs": [
    {
     "name": "stderr",
     "output_type": "stream",
     "text": [
      "WARNING:root:Random state for splitting dataset is fixed\n"
     ]
    }
   ],
   "source": [
    "#!g1.1\n",
    "dataset = SourceGraphDataset(\n",
    "    **{**config[\"DATASET\"], **config[\"TOKENIZER\"]},\n",
    ")"
   ]
  },
  {
   "cell_type": "markdown",
   "id": "139a9963",
   "metadata": {
    "cellId": "f4jdqezhsqibhlxs979vap"
   },
   "source": [
    "# Declare target loading function (labels)"
   ]
  },
  {
   "cell_type": "code",
   "execution_count": 7,
   "id": "401267d3",
   "metadata": {
    "cellId": "rpcono88tre8eo3yhkyg34"
   },
   "outputs": [],
   "source": [
    "#!g1.1\n",
    "l = unpersist(\"misuse_labels.json\")"
   ]
  },
  {
   "cell_type": "code",
   "execution_count": 8,
   "id": "4f3c5d32",
   "metadata": {
    "cellId": "2xwtlmjwg4n94vvra0xqum"
   },
   "outputs": [
    {
     "data": {
      "text/plain": [
       "0.2416339862482186"
      ]
     },
     "execution_count": 8,
     "metadata": {},
     "output_type": "execute_result"
    }
   ],
   "source": [
    "#!g1.1\n",
    "val, counts = np.unique(l.dst, return_counts=True)\n",
    "counts[1]/counts.sum()"
   ]
  },
  {
   "cell_type": "code",
   "execution_count": 9,
   "id": "94040fe4",
   "metadata": {
    "cellId": "ch70xj1jcvcknabo74wdx",
    "tags": []
   },
   "outputs": [],
   "source": [
    "#!g1.1\n",
    "def load_var_misuse():\n",
    "    from SourceCodeTools.code.data.dataset.reader import load_data\n",
    "    \n",
    "    nodes = dataset.nodes\n",
    "    \n",
    "    var_misuse_labels = unpersist(\"misuse_labels.json\").query(\"src in @node_ids\", local_dict={\"node_ids\": nodes[\"id\"]})\n",
    "    \n",
    "    return var_misuse_labels"
   ]
  },
  {
   "cell_type": "code",
   "execution_count": 10,
   "id": "704a48e6",
   "metadata": {
    "cellId": "ntn8bl4amtnqpahg9cygxk"
   },
   "outputs": [
    {
     "data": {
      "text/html": [
       "<div>\n",
       "<style scoped>\n",
       "    .dataframe tbody tr th:only-of-type {\n",
       "        vertical-align: middle;\n",
       "    }\n",
       "\n",
       "    .dataframe tbody tr th {\n",
       "        vertical-align: top;\n",
       "    }\n",
       "\n",
       "    .dataframe thead th {\n",
       "        text-align: right;\n",
       "    }\n",
       "</style>\n",
       "<table border=\"1\" class=\"dataframe\">\n",
       "  <thead>\n",
       "    <tr style=\"text-align: right;\">\n",
       "      <th></th>\n",
       "      <th>src</th>\n",
       "      <th>dst</th>\n",
       "    </tr>\n",
       "  </thead>\n",
       "  <tbody>\n",
       "    <tr>\n",
       "      <th>5</th>\n",
       "      <td>103078</td>\n",
       "      <td>correct</td>\n",
       "    </tr>\n",
       "    <tr>\n",
       "      <th>20</th>\n",
       "      <td>107642</td>\n",
       "      <td>correct</td>\n",
       "    </tr>\n",
       "    <tr>\n",
       "      <th>21</th>\n",
       "      <td>835267</td>\n",
       "      <td>misused</td>\n",
       "    </tr>\n",
       "    <tr>\n",
       "      <th>25</th>\n",
       "      <td>418107</td>\n",
       "      <td>correct</td>\n",
       "    </tr>\n",
       "    <tr>\n",
       "      <th>28</th>\n",
       "      <td>125246</td>\n",
       "      <td>correct</td>\n",
       "    </tr>\n",
       "    <tr>\n",
       "      <th>...</th>\n",
       "      <td>...</td>\n",
       "      <td>...</td>\n",
       "    </tr>\n",
       "    <tr>\n",
       "      <th>96103</th>\n",
       "      <td>993273</td>\n",
       "      <td>correct</td>\n",
       "    </tr>\n",
       "    <tr>\n",
       "      <th>96106</th>\n",
       "      <td>158471</td>\n",
       "      <td>correct</td>\n",
       "    </tr>\n",
       "    <tr>\n",
       "      <th>96116</th>\n",
       "      <td>139737</td>\n",
       "      <td>correct</td>\n",
       "    </tr>\n",
       "    <tr>\n",
       "      <th>96124</th>\n",
       "      <td>127758</td>\n",
       "      <td>misused</td>\n",
       "    </tr>\n",
       "    <tr>\n",
       "      <th>96129</th>\n",
       "      <td>157734</td>\n",
       "      <td>correct</td>\n",
       "    </tr>\n",
       "  </tbody>\n",
       "</table>\n",
       "<p>16049 rows × 2 columns</p>\n",
       "</div>"
      ],
      "text/plain": [
       "          src      dst\n",
       "5      103078  correct\n",
       "20     107642  correct\n",
       "21     835267  misused\n",
       "25     418107  correct\n",
       "28     125246  correct\n",
       "...       ...      ...\n",
       "96103  993273  correct\n",
       "96106  158471  correct\n",
       "96116  139737  correct\n",
       "96124  127758  misused\n",
       "96129  157734  correct\n",
       "\n",
       "[16049 rows x 2 columns]"
      ]
     },
     "execution_count": 10,
     "metadata": {},
     "output_type": "execute_result"
    }
   ],
   "source": [
    "#!g1.1\n",
    "load_var_misuse()"
   ]
  },
  {
   "cell_type": "markdown",
   "id": "743651ba",
   "metadata": {
    "cellId": "jbdmerb9bk54badmlcnrn"
   },
   "source": [
    "# Define objectives\n",
    "\n",
    "Currenlty objectives for node classification (`NodeClassifierObjective`), and name-based node embedding training `SubwordEmbedderObjective`."
   ]
  },
  {
   "cell_type": "markdown",
   "id": "94778081",
   "metadata": {
    "cellId": "st2tlq1uuzmb8u7vx7u6"
   },
   "source": [
    "![](\"examples/figures/img1.png)\n"
   ]
  },
  {
   "cell_type": "markdown",
   "id": "07c2b878",
   "metadata": {
    "cellId": "1h4d48f56w8mbjvs78o05p"
   },
   "source": [
    "One or several objectives could be used"
   ]
  },
  {
   "cell_type": "code",
   "execution_count": 11,
   "id": "5dbb7d6f",
   "metadata": {
    "cellId": "dljkyysdcajf77tzwxzjb5"
   },
   "outputs": [],
   "source": [
    "#!g1.1\n",
    "class Trainer(SamplingMultitaskTrainer):\n",
    "    def create_objectives(self, dataset, tokenizer_path):\n",
    "        self.objectives = nn.ModuleList()\n",
    "        self.objectives.append(\n",
    "            NodeClassifierObjective(\n",
    "                \"VarMisuse\",\n",
    "                self.graph_model, self.node_embedder, dataset.nodes,\n",
    "                load_var_misuse,                                                   # need to define this function\n",
    "                self.device, self.sampling_neighbourhood_size, self.batch_size,\n",
    "                tokenizer_path=tokenizer_path, target_emb_size=self.elem_emb_size, \n",
    "                masker=None,                                                            # masker is not needed here\n",
    "                measure_scores=False,\n",
    "                dilate_scores=self.trainer_params[\"dilate_scores\"]\n",
    "            )\n",
    "        )"
   ]
  },
  {
   "cell_type": "code",
   "execution_count": 12,
   "id": "9e0d0b3e",
   "metadata": {
    "cellId": "s9rnusmhp86as0lg93n44"
   },
   "outputs": [
    {
     "data": {
      "text/plain": [
       "Launching TensorBoard..."
      ]
     },
     "metadata": {},
     "output_type": "display_data"
    },
    {
     "data": {
      "text/html": [
       "\n",
       "      <iframe id=\"tensorboard-frame-69d21ea67ec24c04\" width=\"100%\" height=\"800\" frameborder=\"0\">\n",
       "      </iframe>\n",
       "      <script>\n",
       "        (function() {\n",
       "          const frame = document.getElementById(\"tensorboard-frame-69d21ea67ec24c04\");\n",
       "          const url = new URL(\"/\", window.location);\n",
       "          const port = 6006;\n",
       "          if (port) {\n",
       "            url.port = port;\n",
       "          }\n",
       "          frame.src = url;\n",
       "        })();\n",
       "      </script>\n",
       "    "
      ],
      "text/plain": [
       "<IPython.core.display.HTML object>"
      ]
     },
     "metadata": {},
     "output_type": "display_data"
    }
   ],
   "source": [
    "#!g1.1\n",
    "%tensorboard --logdir 'large_graph'"
   ]
  },
  {
   "cell_type": "code",
   "execution_count": 13,
   "id": "0821d97b",
   "metadata": {
    "cellId": "j8vwwanf7tdlor6p7yekh"
   },
   "outputs": [
    {
     "name": "stderr",
     "output_type": "stream",
     "text": [
      "Epoch 0: 100%|██████████| 101/101 [03:30<00:00,  2.09s/it]\n",
      "Epoch 1: 100%|██████████| 101/101 [03:15<00:00,  1.93s/it]\n",
      "Epoch 2: 100%|██████████| 101/101 [03:14<00:00,  1.93s/it]\n",
      "Epoch 3: 100%|██████████| 101/101 [03:16<00:00,  1.95s/it]\n",
      "Epoch 4: 100%|██████████| 101/101 [03:14<00:00,  1.93s/it]\n",
      "Epoch 5: 100%|██████████| 101/101 [03:20<00:00,  1.98s/it]\n",
      "Epoch 6: 100%|██████████| 101/101 [03:18<00:00,  1.97s/it]\n",
      "Epoch 7: 100%|██████████| 101/101 [03:18<00:00,  1.96s/it]\n",
      "Epoch 8: 100%|██████████| 101/101 [03:16<00:00,  1.95s/it]\n",
      "Epoch 9: 100%|██████████| 101/101 [03:14<00:00,  1.93s/it]\n",
      "Epoch 10: 100%|██████████| 101/101 [03:17<00:00,  1.95s/it]\n",
      "Epoch 11: 100%|██████████| 101/101 [03:14<00:00,  1.92s/it]\n",
      "Epoch 12: 100%|██████████| 101/101 [03:17<00:00,  1.96s/it]\n",
      "Epoch 13: 100%|██████████| 101/101 [03:16<00:00,  1.94s/it]\n",
      "Epoch 14: 100%|██████████| 101/101 [03:17<00:00,  1.95s/it]\n",
      "Epoch 15: 100%|██████████| 101/101 [03:19<00:00,  1.98s/it]\n",
      "Epoch 16: 100%|██████████| 101/101 [03:12<00:00,  1.91s/it]\n",
      "Epoch 17: 100%|██████████| 101/101 [03:03<00:00,  1.81s/it]\n",
      "Epoch 18: 100%|██████████| 101/101 [03:01<00:00,  1.80s/it]\n",
      "Epoch 19: 100%|██████████| 101/101 [03:01<00:00,  1.80s/it]\n",
      "Epoch 20: 100%|██████████| 101/101 [03:02<00:00,  1.81s/it]\n",
      "Epoch 21: 100%|██████████| 101/101 [03:02<00:00,  1.81s/it]\n",
      "Epoch 22: 100%|██████████| 101/101 [03:03<00:00,  1.81s/it]\n",
      "Epoch 23: 100%|██████████| 101/101 [03:03<00:00,  1.81s/it]\n",
      "Epoch 24: 100%|██████████| 101/101 [03:07<00:00,  1.86s/it]\n",
      "Epoch 25: 100%|██████████| 101/101 [03:14<00:00,  1.92s/it]\n",
      "Epoch 26: 100%|██████████| 101/101 [03:09<00:00,  1.88s/it]\n",
      "Epoch 27: 100%|██████████| 101/101 [03:06<00:00,  1.85s/it]\n",
      "Epoch 28: 100%|██████████| 101/101 [03:07<00:00,  1.85s/it]\n",
      "Epoch 29: 100%|██████████| 101/101 [03:11<00:00,  1.90s/it]\n"
     ]
    },
    {
     "name": "stdout",
     "output_type": "stream",
     "text": [
      "Number of nodes 324218\n",
      "Epoch: 0, Time: 234 s\n",
      "{'Accuracy/test/VarMisuse_': 0.7548338210702341,\n",
      " 'Accuracy/train/VarMisuse_': 0.9411764705882353,\n",
      " 'Accuracy/train_avg/VarMisuse': 0.760942960104834,\n",
      " 'Accuracy/val/VarMisuse_': 0.7554086538461539,\n",
      " 'Loss/test/VarMisuse_': 0.5599768024224502,\n",
      " 'Loss/train/VarMisuse_': 0.34015563130378723,\n",
      " 'Loss/train_avg/VarMisuse': 0.5533148100470552,\n",
      " 'Loss/val/VarMisuse_': 0.5604319457824414}\n",
      "Epoch: 1, Time: 219 s\n",
      "{'Accuracy/test/VarMisuse_': 0.7548338210702341,\n",
      " 'Accuracy/train/VarMisuse_': 0.9411764705882353,\n",
      " 'Accuracy/train_avg/VarMisuse': 0.7617164749563191,\n",
      " 'Accuracy/val/VarMisuse_': 0.7554086538461539,\n",
      " 'Loss/test/VarMisuse_': 0.5599115055340987,\n",
      " 'Loss/train/VarMisuse_': 0.33625221252441406,\n",
      " 'Loss/train_avg/VarMisuse': 0.5504634533778275,\n",
      " 'Loss/val/VarMisuse_': 0.5597898432841668}\n",
      "Epoch: 2, Time: 218 s\n",
      "{'Accuracy/test/VarMisuse_': 0.7548338210702341,\n",
      " 'Accuracy/train/VarMisuse_': 0.9411764705882353,\n",
      " 'Accuracy/train_avg/VarMisuse': 0.7617164749563191,\n",
      " 'Accuracy/val/VarMisuse_': 0.7554086538461539,\n",
      " 'Loss/test/VarMisuse_': 0.5611952680807847,\n",
      " 'Loss/train/VarMisuse_': 0.34714049100875854,\n",
      " 'Loss/train_avg/VarMisuse': 0.5503540761990122,\n",
      " 'Loss/val/VarMisuse_': 0.5606293815832871}\n",
      "Epoch: 3, Time: 220 s\n",
      "{'Accuracy/test/VarMisuse_': 0.7548338210702341,\n",
      " 'Accuracy/train/VarMisuse_': 0.9411764705882353,\n",
      " 'Accuracy/train_avg/VarMisuse': 0.7617164749563191,\n",
      " 'Accuracy/val/VarMisuse_': 0.7554086538461539,\n",
      " 'Loss/test/VarMisuse_': 0.5600425967803369,\n",
      " 'Loss/train/VarMisuse_': 0.3432028591632843,\n",
      " 'Loss/train_avg/VarMisuse': 0.550047116999579,\n",
      " 'Loss/val/VarMisuse_': 0.5594855661575611}\n",
      "Epoch: 4, Time: 218 s\n",
      "{'Accuracy/test/VarMisuse_': 0.7548338210702341,\n",
      " 'Accuracy/train/VarMisuse_': 0.9411764705882353,\n",
      " 'Accuracy/train_avg/VarMisuse': 0.7617164749563191,\n",
      " 'Accuracy/val/VarMisuse_': 0.7554086538461539,\n",
      " 'Loss/test/VarMisuse_': 0.5594638310945951,\n",
      " 'Loss/train/VarMisuse_': 0.3451424539089203,\n",
      " 'Loss/train_avg/VarMisuse': 0.5494918357027639,\n",
      " 'Loss/val/VarMisuse_': 0.5592353206414443}\n",
      "Epoch: 5, Time: 224 s\n",
      "{'Accuracy/test/VarMisuse_': 0.7548338210702341,\n",
      " 'Accuracy/train/VarMisuse_': 0.9411764705882353,\n",
      " 'Accuracy/train_avg/VarMisuse': 0.7617164749563191,\n",
      " 'Accuracy/val/VarMisuse_': 0.7554086538461539,\n",
      " 'Loss/test/VarMisuse_': 0.5594392120838165,\n",
      " 'Loss/train/VarMisuse_': 0.34825074672698975,\n",
      " 'Loss/train_avg/VarMisuse': 0.5500020732974061,\n",
      " 'Loss/val/VarMisuse_': 0.5587445543362544}\n",
      "Epoch: 6, Time: 223 s\n",
      "{'Accuracy/test/VarMisuse_': 0.7548338210702341,\n",
      " 'Accuracy/train/VarMisuse_': 0.9411764705882353,\n",
      " 'Accuracy/train_avg/VarMisuse': 0.7617164749563191,\n",
      " 'Accuracy/val/VarMisuse_': 0.7554086538461539,\n",
      " 'Loss/test/VarMisuse_': 0.5602609102542584,\n",
      " 'Loss/train/VarMisuse_': 0.3472253382205963,\n",
      " 'Loss/train_avg/VarMisuse': 0.5486924887293636,\n",
      " 'Loss/val/VarMisuse_': 0.5585530079328097}\n",
      "Epoch: 7, Time: 222 s\n",
      "{'Accuracy/test/VarMisuse_': 0.7548338210702341,\n",
      " 'Accuracy/train/VarMisuse_': 0.9411764705882353,\n",
      " 'Accuracy/train_avg/VarMisuse': 0.7617164749563191,\n",
      " 'Accuracy/val/VarMisuse_': 0.7554086538461539,\n",
      " 'Loss/test/VarMisuse_': 0.5598404980622805,\n",
      " 'Loss/train/VarMisuse_': 0.3441574275493622,\n",
      " 'Loss/train_avg/VarMisuse': 0.5477652177952304,\n",
      " 'Loss/val/VarMisuse_': 0.5592659964011266}\n",
      "Epoch: 8, Time: 220 s\n",
      "{'Accuracy/test/VarMisuse_': 0.7548338210702341,\n",
      " 'Accuracy/train/VarMisuse_': 0.9411764705882353,\n",
      " 'Accuracy/train_avg/VarMisuse': 0.7617164749563191,\n",
      " 'Accuracy/val/VarMisuse_': 0.7554086538461539,\n",
      " 'Loss/test/VarMisuse_': 0.5644467977377084,\n",
      " 'Loss/train/VarMisuse_': 0.34609127044677734,\n",
      " 'Loss/train_avg/VarMisuse': 0.5450253218117327,\n",
      " 'Loss/val/VarMisuse_': 0.561955275443884}\n",
      "Epoch: 9, Time: 218 s\n",
      "{'Accuracy/test/VarMisuse_': 0.7548338210702341,\n",
      " 'Accuracy/train/VarMisuse_': 0.9411764705882353,\n",
      " 'Accuracy/train_avg/VarMisuse': 0.7617164749563191,\n",
      " 'Accuracy/val/VarMisuse_': 0.7554086538461539,\n",
      " 'Loss/test/VarMisuse_': 0.5732924112906823,\n",
      " 'Loss/train/VarMisuse_': 0.3311622142791748,\n",
      " 'Loss/train_avg/VarMisuse': 0.5379486998709122,\n",
      " 'Loss/val/VarMisuse_': 0.5732254569347088}\n",
      "Epoch: 10, Time: 220 s\n",
      "{'Accuracy/test/VarMisuse_': 0.7389736622073578,\n",
      " 'Accuracy/train/VarMisuse_': 0.9411764705882353,\n",
      " 'Accuracy/train_avg/VarMisuse': 0.768910163075131,\n",
      " 'Accuracy/val/VarMisuse_': 0.7361778846153846,\n",
      " 'Loss/test/VarMisuse_': 0.5791385036248428,\n",
      " 'Loss/train/VarMisuse_': 0.32460859417915344,\n",
      " 'Loss/train_avg/VarMisuse': 0.5281503460194805,\n",
      " 'Loss/val/VarMisuse_': 0.5772187732733213}\n",
      "Epoch: 11, Time: 218 s\n",
      "{'Accuracy/test/VarMisuse_': 0.7252821906354515,\n",
      " 'Accuracy/train/VarMisuse_': 0.9411764705882353,\n",
      " 'Accuracy/train_avg/VarMisuse': 0.7778055838672102,\n",
      " 'Accuracy/val/VarMisuse_': 0.727835124434389,\n",
      " 'Loss/test/VarMisuse_': 0.602706138904278,\n",
      " 'Loss/train/VarMisuse_': 0.31532320380210876,\n",
      " 'Loss/train_avg/VarMisuse': 0.5185781932703339,\n",
      " 'Loss/val/VarMisuse_': 0.5994515877503616}\n",
      "Epoch: 12, Time: 221 s\n",
      "{'Accuracy/test/VarMisuse_': 0.7001724498327758,\n",
      " 'Accuracy/train/VarMisuse_': 0.8823529411764706,\n",
      " 'Accuracy/train_avg/VarMisuse': 0.7877429746651134,\n",
      " 'Accuracy/val/VarMisuse_': 0.706483314479638,\n",
      " 'Loss/test/VarMisuse_': 0.6470371072108929,\n",
      " 'Loss/train/VarMisuse_': 0.31529805064201355,\n",
      " 'Loss/train_avg/VarMisuse': 0.5017258876030988,\n",
      " 'Loss/val/VarMisuse_': 0.6339841393324045}\n",
      "Epoch: 13, Time: 220 s\n",
      "{'Accuracy/test/VarMisuse_': 0.6748275501672242,\n",
      " 'Accuracy/train/VarMisuse_': 0.9411764705882353,\n",
      " 'Accuracy/train_avg/VarMisuse': 0.7961378858474082,\n",
      " 'Accuracy/val/VarMisuse_': 0.6871818438914027,\n",
      " 'Loss/test/VarMisuse_': 0.705603287770198,\n",
      " 'Loss/train/VarMisuse_': 0.2783319354057312,\n",
      " 'Loss/train_avg/VarMisuse': 0.48259669778370623,\n",
      " 'Loss/val/VarMisuse_': 0.6985489955315223}\n",
      "Epoch: 14, Time: 221 s\n",
      "{'Accuracy/test/VarMisuse_': 0.6744617474916388,\n",
      " 'Accuracy/train/VarMisuse_': 0.9411764705882353,\n",
      " 'Accuracy/train_avg/VarMisuse': 0.8060388759464181,\n",
      " 'Accuracy/val/VarMisuse_': 0.6716982466063348,\n",
      " 'Loss/test/VarMisuse_': 0.7426052964650668,\n",
      " 'Loss/train/VarMisuse_': 0.28438442945480347,\n",
      " 'Loss/train_avg/VarMisuse': 0.4657687589083568,\n",
      " 'Loss/val/VarMisuse_': 0.7535248903127817}\n",
      "Epoch: 15, Time: 223 s\n",
      "{'Accuracy/test/VarMisuse_': 0.6531929347826088,\n",
      " 'Accuracy/train/VarMisuse_': 0.8823529411764706,\n",
      " 'Accuracy/train_avg/VarMisuse': 0.8143518855562026,\n",
      " 'Accuracy/val/VarMisuse_': 0.6520786199095022,\n",
      " 'Loss/test/VarMisuse_': 0.8351527590018052,\n",
      " 'Loss/train/VarMisuse_': 0.3130439817905426,\n",
      " 'Loss/train_avg/VarMisuse': 0.44678362023712387,\n",
      " 'Loss/val/VarMisuse_': 0.8543657385385953}\n",
      "Epoch: 16, Time: 215 s\n",
      "{'Accuracy/test/VarMisuse_': 0.6343279682274248,\n",
      " 'Accuracy/train/VarMisuse_': 0.9411764705882353,\n",
      " 'Accuracy/train_avg/VarMisuse': 0.8232882571345369,\n",
      " 'Accuracy/val/VarMisuse_': 0.6257070135746606,\n",
      " 'Loss/test/VarMisuse_': 0.8890366783508887,\n",
      " 'Loss/train/VarMisuse_': 0.24581553041934967,\n",
      " 'Loss/train_avg/VarMisuse': 0.4302530496722401,\n",
      " 'Loss/val/VarMisuse_': 0.9267753821152908}\n",
      "Epoch: 17, Time: 205 s\n",
      "{'Accuracy/test/VarMisuse_': 0.6216032608695652,\n",
      " 'Accuracy/train/VarMisuse_': 0.9411764705882353,\n",
      " 'Accuracy/train_avg/VarMisuse': 0.8323383808969131,\n",
      " 'Accuracy/val/VarMisuse_': 0.6081377262443439,\n",
      " 'Loss/test/VarMisuse_': 0.9736194748144883,\n",
      " 'Loss/train/VarMisuse_': 0.24742712080478668,\n",
      " 'Loss/train_avg/VarMisuse': 0.4083376250939794,\n",
      " 'Loss/val/VarMisuse_': 1.034335663685432}\n",
      "Epoch: 18, Time: 204 s\n",
      "{'Accuracy/test/VarMisuse_': 0.6311925167224081,\n",
      " 'Accuracy/train/VarMisuse_': 0.9411764705882353,\n",
      " 'Accuracy/train_avg/VarMisuse': 0.8409243957483984,\n",
      " 'Accuracy/val/VarMisuse_': 0.6040016968325792,\n",
      " 'Loss/test/VarMisuse_': 0.9820526471504798,\n",
      " 'Loss/train/VarMisuse_': 0.22514177858829498,\n",
      " 'Loss/train_avg/VarMisuse': 0.3838250095596408,\n",
      " 'Loss/val/VarMisuse_': 1.0566896016781147}\n",
      "Epoch: 19, Time: 204 s\n",
      "{'Accuracy/test/VarMisuse_': 0.6212113294314381,\n",
      " 'Accuracy/train/VarMisuse_': 0.9411764705882353,\n",
      " 'Accuracy/train_avg/VarMisuse': 0.8490463016889924,\n",
      " 'Accuracy/val/VarMisuse_': 0.5907805429864253,\n",
      " 'Loss/test/VarMisuse_': 0.9804180126923782,\n",
      " 'Loss/train/VarMisuse_': 0.17341062426567078,\n",
      " 'Loss/train_avg/VarMisuse': 0.3719291216371083,\n",
      " 'Loss/val/VarMisuse_': 1.0407261114854078}\n",
      "Epoch: 20, Time: 204 s\n",
      "{'Accuracy/test/VarMisuse_': 0.6334657190635451,\n",
      " 'Accuracy/train/VarMisuse_': 0.9411764705882353,\n",
      " 'Accuracy/train_avg/VarMisuse': 0.855002366045428,\n",
      " 'Accuracy/val/VarMisuse_': 0.5915229072398189,\n",
      " 'Loss/test/VarMisuse_': 1.003761873795436,\n",
      " 'Loss/train/VarMisuse_': 0.19279076159000397,\n",
      " 'Loss/train_avg/VarMisuse': 0.3565186595562661,\n",
      " 'Loss/val/VarMisuse_': 1.0786989010297334}\n",
      "Epoch: 21, Time: 205 s\n",
      "{'Accuracy/test/VarMisuse_': 0.5808423913043478,\n",
      " 'Accuracy/train/VarMisuse_': 0.9411764705882353,\n",
      " 'Accuracy/train_avg/VarMisuse': 0.8614998907979032,\n",
      " 'Accuracy/val/VarMisuse_': 0.5590002828054298,\n",
      " 'Loss/test/VarMisuse_': 1.1721536838091338,\n",
      " 'Loss/train/VarMisuse_': 0.14948876202106476,\n",
      " 'Loss/train_avg/VarMisuse': 0.34229370523797403,\n",
      " 'Loss/val/VarMisuse_': 1.2336793404359083}\n",
      "Epoch: 22, Time: 205 s\n",
      "{'Accuracy/test/VarMisuse_': 0.6129285117056856,\n",
      " 'Accuracy/train/VarMisuse_': 0.9411764705882353,\n",
      " 'Accuracy/train_avg/VarMisuse': 0.8633563264414676,\n",
      " 'Accuracy/val/VarMisuse_': 0.5818368212669683,\n",
      " 'Loss/test/VarMisuse_': 1.1537124652128954,\n",
      " 'Loss/train/VarMisuse_': 0.09033546596765518,\n",
      " 'Loss/train_avg/VarMisuse': 0.33014211626631196,\n",
      " 'Loss/val/VarMisuse_': 1.2258863678345313}\n",
      "Epoch: 23, Time: 205 s\n",
      "{'Accuracy/test/VarMisuse_': 0.5948735367892977,\n",
      " 'Accuracy/train/VarMisuse_': 1.0,\n",
      " 'Accuracy/train_avg/VarMisuse': 0.8692759900990099,\n",
      " 'Accuracy/val/VarMisuse_': 0.5705599547511312,\n",
      " 'Loss/test/VarMisuse_': 1.1802854033616872,\n",
      " 'Loss/train/VarMisuse_': 0.04465562477707863,\n",
      " 'Loss/train_avg/VarMisuse': 0.3178364617178346,\n",
      " 'Loss/val/VarMisuse_': 1.2260026473265428}\n",
      "Epoch: 24, Time: 211 s\n",
      "{'Accuracy/test/VarMisuse_': 0.5860942725752508,\n",
      " 'Accuracy/train/VarMisuse_': 1.0,\n",
      " 'Accuracy/train_avg/VarMisuse': 0.8752320544554455,\n",
      " 'Accuracy/val/VarMisuse_': 0.5596012443438914,\n",
      " 'Loss/test/VarMisuse_': 1.1863277875460112,\n",
      " 'Loss/train/VarMisuse_': 0.0675891861319542,\n",
      " 'Loss/train_avg/VarMisuse': 0.3033159473302341,\n",
      " 'Loss/val/VarMisuse_': 1.2545567200734065}\n",
      "Epoch: 25, Time: 217 s\n",
      "{'Accuracy/test/VarMisuse_': 0.6197742474916388,\n",
      " 'Accuracy/train/VarMisuse_': 1.0,\n",
      " 'Accuracy/train_avg/VarMisuse': 0.8816522277227723,\n",
      " 'Accuracy/val/VarMisuse_': 0.5919824660633484,\n",
      " 'Loss/test/VarMisuse_': 1.1397846341133118,\n",
      " 'Loss/train/VarMisuse_': 0.07342119514942169,\n",
      " 'Loss/train_avg/VarMisuse': 0.2923004805746645,\n",
      " 'Loss/val/VarMisuse_': 1.1942356182978704}\n",
      "Epoch: 26, Time: 213 s\n",
      "{'Accuracy/test/VarMisuse_': 0.6212113294314381,\n",
      " 'Accuracy/train/VarMisuse_': 0.9411764705882353,\n",
      " 'Accuracy/train_avg/VarMisuse': 0.8861750145602795,\n",
      " 'Accuracy/val/VarMisuse_': 0.5955882352941176,\n",
      " 'Loss/test/VarMisuse_': 1.1649361344484181,\n",
      " 'Loss/train/VarMisuse_': 0.18480299413204193,\n",
      " 'Loss/train_avg/VarMisuse': 0.2839463751504917,\n",
      " 'Loss/val/VarMisuse_': 1.206023986522968}\n",
      "Epoch: 27, Time: 209 s\n",
      "{'Accuracy/test/VarMisuse_': 0.5585806856187291,\n",
      " 'Accuracy/train/VarMisuse_': 0.9411764705882353,\n",
      " 'Accuracy/train_avg/VarMisuse': 0.880992465055329,\n",
      " 'Accuracy/val/VarMisuse_': 0.559212386877828,\n",
      " 'Loss/test/VarMisuse_': 1.355403102361239,\n",
      " 'Loss/train/VarMisuse_': 0.09630897641181946,\n",
      " 'Loss/train_avg/VarMisuse': 0.2982197576525188,\n",
      " 'Loss/val/VarMisuse_': 1.3746757140526404}\n",
      "Epoch: 28, Time: 209 s\n",
      "{'Accuracy/test/VarMisuse_': 0.5537991220735786,\n",
      " 'Accuracy/train/VarMisuse_': 1.0,\n",
      " 'Accuracy/train_avg/VarMisuse': 0.890625,\n",
      " 'Accuracy/val/VarMisuse_': 0.5505161199095022,\n",
      " 'Loss/test/VarMisuse_': 1.519630560508141,\n",
      " 'Loss/train/VarMisuse_': 0.039972782135009766,\n",
      " 'Loss/train_avg/VarMisuse': 0.2696825867832297,\n",
      " 'Loss/val/VarMisuse_': 1.549413149173443}\n",
      "Epoch: 29, Time: 215 s\n",
      "{'Accuracy/test/VarMisuse_': 0.5836904264214047,\n",
      " 'Accuracy/train/VarMisuse_': 1.0,\n",
      " 'Accuracy/train_avg/VarMisuse': 0.8935643564356436,\n",
      " 'Accuracy/val/VarMisuse_': 0.5662825226244343,\n",
      " 'Loss/test/VarMisuse_': 1.3162237680875337,\n",
      " 'Loss/train/VarMisuse_': 0.0415169820189476,\n",
      " 'Loss/train_avg/VarMisuse': 0.2664734631924346,\n",
      " 'Loss/val/VarMisuse_': 1.3551591909848726}\n",
      "Final eval: Loss/val/VarMisuse_final: 1.3551591909848726, Accuracy/val/VarMisuse_final: 0.5662825226244343, Loss/test/VarMisuse_final: 1.3162237680875337, Accuracy/test/VarMisuse_final: 0.5836904264214047\n"
     ]
    },
    {
     "data": {
      "text/plain": [
       "(<__main__.Trainer at 0x7f42fa3cb8e0>,\n",
       " {'Loss/val/VarMisuse_final': 1.3551591909848726,\n",
       "  'Accuracy/val/VarMisuse_final': 0.5662825226244343,\n",
       "  'Loss/test/VarMisuse_final': 1.3162237680875337,\n",
       "  'Accuracy/test/VarMisuse_final': 0.5836904264214047})"
      ]
     },
     "execution_count": 13,
     "metadata": {},
     "output_type": "execute_result"
    }
   ],
   "source": [
    "#!g1.1\n",
    "training_procedure(\n",
    "    dataset, \n",
    "    model_name=RGGAN, \n",
    "    model_params=config[\"MODEL\"],\n",
    "    trainer_params=config[\"TRAINING\"],\n",
    "    model_base_path=get_model_base(config[\"TRAINING\"], get_name(RGGAN, str(datetime.now()))),\n",
    "    tokenizer_path=config[\"TOKENIZER\"][\"tokenizer_path\"],\n",
    "    trainer=Trainer\n",
    ")"
   ]
  },
  {
   "cell_type": "code",
   "execution_count": 14,
   "id": "7f770f53",
   "metadata": {
    "cellId": "qwm9e8exkjcz3wd9iybqh"
   },
   "outputs": [
    {
     "name": "stdout",
     "output_type": "stream",
     "text": [
      "Mon Apr 25 18:05:36 2022       \n",
      "+-----------------------------------------------------------------------------+\n",
      "| NVIDIA-SMI 460.91.03    Driver Version: 460.91.03    CUDA Version: 11.2     |\n",
      "|-------------------------------+----------------------+----------------------+\n",
      "| GPU  Name        Persistence-M| Bus-Id        Disp.A | Volatile Uncorr. ECC |\n",
      "| Fan  Temp  Perf  Pwr:Usage/Cap|         Memory-Usage | GPU-Util  Compute M. |\n",
      "|                               |                      |               MIG M. |\n",
      "|===============================+======================+======================|\n",
      "|   0  Tesla V100-SXM2...  Off  | 00000000:8C:00.0 Off |                    0 |\n",
      "| N/A   36C    P0    35W / 300W |   2831MiB / 32510MiB |      0%      Default |\n",
      "|                               |                      |                  N/A |\n",
      "+-------------------------------+----------------------+----------------------+\n",
      "                                                                               \n",
      "+-----------------------------------------------------------------------------+\n",
      "| Processes:                                                                  |\n",
      "|  GPU   GI   CI        PID   Type   Process name                  GPU Memory |\n",
      "|        ID   ID                                                   Usage      |\n",
      "|=============================================================================|\n",
      "|    0   N/A  N/A      8787      C   python3                          2827MiB |\n",
      "+-----------------------------------------------------------------------------+\n"
     ]
    }
   ],
   "source": [
    "#!g1.1\n",
    "!nvidia-smi"
   ]
  }
 ],
 "metadata": {
  "kernelspec": {
   "display_name": "Yandex DataSphere Kernel",
   "language": "python",
   "name": "python3"
  },
  "language_info": {
   "codemirror_mode": {
    "name": "ipython",
    "version": 3
   },
   "file_extension": ".py",
   "mimetype": "text/x-python",
   "name": "python",
   "nbconvert_exporter": "python",
   "pygments_lexer": "ipython3",
   "version": "3.7.7"
  },
  "notebookId": "2097dc27-1489-4e1c-b5e2-a57bf5d7b94c",
  "notebookPath": "method-embedding/examples/VarMisuse.ipynb"
 },
 "nbformat": 4,
 "nbformat_minor": 5
}

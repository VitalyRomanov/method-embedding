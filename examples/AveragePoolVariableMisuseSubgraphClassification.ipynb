{
 "cells": [
  {
   "cell_type": "markdown",
   "id": "a7ac95e0",
   "metadata": {
    "pycharm": {
     "name": "#%% md\n"
    }
   },
   "source": [
    "## Subgraph Classification with Average Pooling - Variable Misuse\n",
    "\n",
    "The pooling function is made of average Pooling"
   ]
  },
  {
   "cell_type": "code",
   "execution_count": 1,
   "id": "945c3f46",
   "metadata": {
    "cellId": "0pafpqq089hs06imyofj0d8g",
    "execution_id": "9c93dc88-e371-40d6-96b9-6e397dd2d886",
    "pycharm": {
     "name": "#%%\n"
    }
   },
   "outputs": [],
   "source": [
    "%load_ext autoreload\n",
    "%autoreload 2\n",
    "%load_ext tensorboard"
   ]
  },
  {
   "cell_type": "code",
   "execution_count": 2,
   "id": "ac9ad134",
   "metadata": {
    "cellId": "arfowdprag31hzn6iupup",
    "execution_id": "00cd8bc1-2abf-4d29-9a1a-dbd54d95af4b",
    "pycharm": {
     "name": "#%%\n"
    }
   },
   "outputs": [
    {
     "name": "stderr",
     "output_type": "stream",
     "text": [
      "[16:59:05] /opt/dgl/src/runtime/tensordispatch.cc:43: TensorDispatcher: dlopen failed: libtorch_cuda_cpp.so: cannot open shared object file: No such file or directory\n",
      "Using backend: pytorch\n"
     ]
    }
   ],
   "source": [
    "from random import random\n",
    "\n",
    "from SourceCodeTools.models.training_config import get_config, save_config, load_config\n",
    "from SourceCodeTools.code.data.dataset.Dataset import SourceGraphDataset, filter_dst_by_freq\n",
    "from SourceCodeTools.models.graph.train.sampling_multitask2 import training_procedure, SamplingMultitaskTrainer\n",
    "from SourceCodeTools.models.graph.train.objectives.NodeClassificationObjective import NodeClassifierObjective\n",
    "from SourceCodeTools.models.graph.train.objectives.SubgraphClassifierObjective import SubgraphAbstractObjective, \\\n",
    "    SubgraphClassifierObjective, SubgraphEmbeddingObjective\n",
    "from SourceCodeTools.models.graph.train.utils import get_name, get_model_base\n",
    "from SourceCodeTools.models.graph import RGGAN\n",
    "from SourceCodeTools.tabular.common import compact_property\n",
    "from SourceCodeTools.code.data.file_utils import unpersist\n",
    "\n",
    "import dgl\n",
    "import torch\n",
    "import numpy as np\n",
    "from argparse import Namespace\n",
    "from torch import nn\n",
    "from datetime import datetime\n",
    "from os.path import join\n",
    "from functools import partial"
   ]
  },
  {
   "cell_type": "markdown",
   "id": "16a685b9",
   "metadata": {
    "cellId": "p1vbd2almoe8o4xbjsha2i",
    "execution_id": "3d0d18ed-7a13-49ed-ad66-52e70e501e4b",
    "pycharm": {
     "name": "#%% md\n"
    },
    "tags": []
   },
   "source": [
    "# Prepare parameters and options\n",
    "\n",
    "Full list of options that can be added can be found in `SourceCodeTools/models/training_options.py`. They are ment to be used as arguments for cli trainer. Trainer script can be found in `SourceCodeTools/scripts/train.py`.\n",
    "\n",
    "For the task of subgraph classification the important options are:\n",
    "- `subgraph_partition` is path to subgraph-based train/val/test sets. Storead as Dataframe with subgraph id and partition mask\n",
    "- `subgraph_id_column` is a column is `common_edges` file that stores subgraph id.\n",
    "- For variable misuse task (same will apply to authorship attribution) subgraphs are created for individual functions (files for SCAA). The label is stored in `common_filecontent`."
   ]
  },
  {
   "cell_type": "code",
   "execution_count": 3,
   "id": "5ee84dbf",
   "metadata": {
    "cellId": "x68rr2b8zhv1h55hg0nz",
    "execution_id": "21cdf4d1-5d0c-4d49-872a-ae3dc421d7fb",
    "pycharm": {
     "name": "#%%\n"
    }
   },
   "outputs": [],
   "source": [
    "tokenizer_path = \"sentencepiece_bpe.model\"\n",
    "\n",
    "data_path = \"10_percent_v1\"\n",
    "subgraph_partition = join(data_path, \"partition.json.bz2\")\n",
    "filecontent_path = join(data_path, \"common_filecontent.json.bz2\")"
   ]
  },
  {
   "cell_type": "markdown",
   "id": "03602245",
   "metadata": {
    "cellId": "kdrwgb8pr4xkmb9fg2l7k",
    "execution_id": "606dbee0-12d0-4672-8fcb-987f08726c3c",
    "pycharm": {
     "name": "#%% md\n"
    }
   },
   "source": [
    "# Data distribution"
   ]
  },
  {
   "cell_type": "code",
   "execution_count": 4,
   "id": "2c0f6997",
   "metadata": {
    "cellId": "u8m5wmsmtsc4jlys43g8w",
    "execution_id": "321c3351-6190-4edb-bf12-3ad445249cb7",
    "pycharm": {
     "name": "#%%\n"
    }
   },
   "outputs": [
    {
     "name": "stdout",
     "output_type": "stream",
     "text": [
      "train\n",
      "Variable misuse    35036\n",
      "Correct            35036\n",
      "Name: label, dtype: int64\n",
      "\n",
      "dev\n",
      "Variable misuse    3754\n",
      "Correct            3754\n",
      "Name: label, dtype: int64\n",
      "\n",
      "eval\n",
      "Variable misuse    18787\n",
      "Correct            18787\n",
      "Name: label, dtype: int64\n",
      "\n"
     ]
    }
   ],
   "source": [
    "labels = unpersist(filecontent_path)\n",
    "for part in labels['partition'].unique():\n",
    "    print(part)\n",
    "    print(labels.query('partition == @part')['label'].value_counts())\n",
    "    print()"
   ]
  },
  {
   "cell_type": "markdown",
   "id": "6c48e8b9",
   "metadata": {
    "cellId": "26enx0epdvd0ao7dmpz261r",
    "execution_id": "a29f9a80-f129-40c6-9be6-f0d21d0357b6",
    "pycharm": {
     "name": "#%% md\n"
    }
   },
   "source": [
    "# Config"
   ]
  },
  {
   "cell_type": "code",
   "execution_count": 5,
   "id": "e01df189",
   "metadata": {
    "cellId": "ka4x47vr7cpgilgjcoyan",
    "execution_id": "2229885e-66a6-4bed-b63d-75c212e81c55",
    "pycharm": {
     "name": "#%%\n"
    }
   },
   "outputs": [],
   "source": [
    "config = get_config(\n",
    "    subgraph_id_column=\"file_id\",\n",
    "    data_path=data_path,\n",
    "    model_output_dir=data_path,\n",
    "    subgraph_partition=subgraph_partition,\n",
    "    tokenizer_path=tokenizer_path,\n",
    "    objectives=\"subgraph_clf\",\n",
    "    #use_edge_types=True,\n",
    "    gpu=0,\n",
    "    epochs=10, \n",
    "    \n",
    "    train_frac=0.8,\n",
    "    random_seed=42, \n",
    "    \n",
    "    # model parameters\n",
    "    elem_emb_size=300,\n",
    "    node_emb_size=300,                  # *** dimensionality of node embeddings\n",
    "    h_dim=300,                           # *** should match to node dimensionality\n",
    "    n_layers=5,\n",
    "    dropout=0.1,\n",
    "    activation=\"tanh\"\n",
    ")"
   ]
  },
  {
   "cell_type": "code",
   "execution_count": 6,
   "id": "421b4853",
   "metadata": {
    "cellId": "f99ac2dk6fa0qpceq2iffyb",
    "execution_id": "a959159a-7369-4bb0-b829-2853f59e220a",
    "pycharm": {
     "name": "#%%\n"
    }
   },
   "outputs": [],
   "source": [
    "save_config(config, \"average_pooling_var_misuse_subgraph.yaml\")"
   ]
  },
  {
   "cell_type": "markdown",
   "id": "4632d17b",
   "metadata": {
    "cellId": "zwg2nsy77lke2zhlkf3wk8",
    "execution_id": "5d3def2b-3973-476a-a885-db67b807baf0",
    "pycharm": {
     "name": "#%% md\n"
    }
   },
   "source": [
    "# Create Dataset"
   ]
  },
  {
   "cell_type": "code",
   "execution_count": 7,
   "id": "7d6c34be",
   "metadata": {
    "cellId": "3842zfzh6jp2oh0p47hb3g",
    "execution_id": "4952a18f-6dca-4faf-befe-7d54f038c875",
    "pycharm": {
     "name": "#%%\n"
    }
   },
   "outputs": [
    {
     "name": "stderr",
     "output_type": "stream",
     "text": [
      "WARNING:root:Random state for splitting dataset is fixed\n"
     ]
    }
   ],
   "source": [
    "dataset = SourceGraphDataset(\n",
    "    **{**config[\"DATASET\"], **config[\"TOKENIZER\"]}\n",
    ")"
   ]
  },
  {
   "cell_type": "markdown",
   "id": "6691f60b",
   "metadata": {
    "cellId": "w8o2y1jvsmn3k5qlnmp8d",
    "execution_id": "459c0b0a-dac3-4c5b-8aa2-9010edf2f7da",
    "pycharm": {
     "name": "#%% md\n"
    }
   },
   "source": [
    "# Declare target loading function (labels)"
   ]
  },
  {
   "cell_type": "code",
   "execution_count": 8,
   "id": "61ed7820",
   "metadata": {
    "cellId": "onv33y2vt60ier6qlfspo8",
    "execution_id": "024592b5-731a-4463-ac76-b5a31771b8f9",
    "pycharm": {
     "name": "#%%\n"
    },
    "tags": []
   },
   "outputs": [],
   "source": [
    "def load_labels():\n",
    "    filecontent = unpersist(filecontent_path)\n",
    "    return filecontent[[\"id\", \"label\"]].rename({\"id\": \"src\", \"label\": \"dst\"}, axis=1)"
   ]
  },
  {
   "cell_type": "markdown",
   "id": "c0d1ef4c",
   "metadata": {
    "cellId": "3979yjouckix7kxdp4fz9",
    "execution_id": "22ff1831-62fd-4137-af18-099336d5acb7",
    "pycharm": {
     "name": "#%% md\n"
    }
   },
   "source": [
    "One or several objectives could be used"
   ]
  },
  {
   "cell_type": "code",
   "execution_count": 9,
   "id": "4b773ae7",
   "metadata": {
    "cellId": "vruvsg8femgvuop8tdmqkq",
    "execution_id": "aaa60b33-deb4-49de-90ce-629f07a42ad2",
    "pycharm": {
     "name": "#%%\n"
    }
   },
   "outputs": [],
   "source": [
    "from SourceCodeTools.models.graph.train.objectives.SubgraphClassifierObjective import SubgraphAbstractObjective, \\\n",
    "    SubgraphClassifierObjective, SubgraphEmbeddingObjective\n",
    "\n",
    "class Trainer(SamplingMultitaskTrainer):\n",
    "    def create_objectives(self, dataset, tokenizer_path):\n",
    "        self.objectives = nn.ModuleList()\n",
    "        \n",
    "        self.objectives.append(\n",
    "            self._create_subgraph_objective(\n",
    "                objective_name=\"VariableMisuseClfAveragePooling\",\n",
    "                objective_class=SubgraphClassifierObjective,\n",
    "                dataset=dataset,\n",
    "                tokenizer_path=tokenizer_path,\n",
    "                labels_fn=load_labels,\n",
    "            )\n",
    "        )"
   ]
  },
  {
   "cell_type": "markdown",
   "id": "e59362cf",
   "metadata": {
    "pycharm": {
     "name": "#%% md\n"
    }
   },
   "source": [
    "## Launch Tensorboard"
   ]
  },
  {
   "cell_type": "code",
   "execution_count": 10,
   "id": "b303b8c4",
   "metadata": {
    "cellId": "ehoa1wxbuaq9d1dczkar",
    "execution_id": "59b5e2e8-a49d-45c8-8359-3cdd0db6c991",
    "pycharm": {
     "name": "#%%\n"
    }
   },
   "outputs": [],
   "source": [
    "# %tensorboard --logdir './10_percent_v1'"
   ]
  },
  {
   "cell_type": "markdown",
   "id": "a8748eff",
   "metadata": {
    "pycharm": {
     "name": "#%% md\n"
    }
   },
   "source": [
    "## Start model training and Evaluation"
   ]
  },
  {
   "cell_type": "code",
   "execution_count": 11,
   "id": "5eeccc3c",
   "metadata": {
    "cellId": "ur66zw67xepzwpxd3en2z",
    "execution_id": "39cce914-8617-4c66-aa1f-d3b744f8f0d7",
    "pycharm": {
     "name": "#%%\n"
    }
   },
   "outputs": [
    {
     "name": "stdout",
     "output_type": "stream",
     "text": [
      "Number of nodes 4900346\n"
     ]
    },
    {
     "name": "stderr",
     "output_type": "stream",
     "text": [
      "2022-09-12 17:32:40.093561: I tensorflow/stream_executor/platform/default/dso_loader.cc:49] Successfully opened dynamic library libcudart.so.11.0\n",
      "Epoch 0: 100%|████████████████████████████████| 548/548 [29:43<00:00,  3.26s/it]\n",
      "Epoch 1:   0%|                                          | 0/548 [00:00<?, ?it/s]"
     ]
    },
    {
     "name": "stdout",
     "output_type": "stream",
     "text": [
      "Epoch: 0, Time: 2695 s\n",
      "{'Accuracy/test/VariableMisuseClfAveragePooling_': 0.6111364188532555,\n",
      " 'Accuracy/train/VariableMisuseClfAveragePooling_': 0.6071428571428571,\n",
      " 'Accuracy/train_avg/VariableMisuseClfAveragePooling': 0.5177451283889468,\n",
      " 'Accuracy/val/VariableMisuseClfAveragePooling_': 0.610800040355125,\n",
      " 'Loss/test/VariableMisuseClfAveragePooling_': 0.6522616470346645,\n",
      " 'Loss/train/VariableMisuseClfAveragePooling_': 0.662276566028595,\n",
      " 'Loss/train_avg/VariableMisuseClfAveragePooling': 0.690386695692139,\n",
      " 'Loss/val/VariableMisuseClfAveragePooling_': 0.6507278953568411,\n",
      " 'grad_norm/train/_': 0.25459479826013315}\n"
     ]
    },
    {
     "name": "stderr",
     "output_type": "stream",
     "text": [
      "Epoch 1: 100%|████████████████████████████████| 548/548 [28:59<00:00,  3.17s/it]\n",
      "Epoch 2:   0%|                                          | 0/548 [00:00<?, ?it/s]"
     ]
    },
    {
     "name": "stdout",
     "output_type": "stream",
     "text": [
      "Epoch: 1, Time: 2675 s\n",
      "{'Accuracy/test/VariableMisuseClfAveragePooling_': 0.6857135264820213,\n",
      " 'Accuracy/train/VariableMisuseClfAveragePooling_': 0.5892857142857143,\n",
      " 'Accuracy/train_avg/VariableMisuseClfAveragePooling': 0.6671052202815433,\n",
      " 'Accuracy/val/VariableMisuseClfAveragePooling_': 0.6823105831315577,\n",
      " 'Loss/test/VariableMisuseClfAveragePooling_': 0.5733780143212299,\n",
      " 'Loss/train/VariableMisuseClfAveragePooling_': 0.6589162945747375,\n",
      " 'Loss/train_avg/VariableMisuseClfAveragePooling': 0.5980922325792974,\n",
      " 'Loss/val/VariableMisuseClfAveragePooling_': 0.571388602761899,\n",
      " 'grad_norm/train/_': 0.6910436913873927}\n"
     ]
    },
    {
     "name": "stderr",
     "output_type": "stream",
     "text": [
      "Epoch 2: 100%|████████████████████████████████| 548/548 [29:51<00:00,  3.27s/it]\n",
      "Epoch 3:   0%|                                          | 0/548 [00:00<?, ?it/s]"
     ]
    },
    {
     "name": "stdout",
     "output_type": "stream",
     "text": [
      "Epoch: 2, Time: 2933 s\n",
      "{'Accuracy/test/VariableMisuseClfAveragePooling_': 0.7063957725947522,\n",
      " 'Accuracy/train/VariableMisuseClfAveragePooling_': 0.7321428571428571,\n",
      " 'Accuracy/train_avg/VariableMisuseClfAveragePooling': 0.7057298455422314,\n",
      " 'Accuracy/val/VariableMisuseClfAveragePooling_': 0.7053571428571429,\n",
      " 'Loss/test/VariableMisuseClfAveragePooling_': 0.5510198994964158,\n",
      " 'Loss/train/VariableMisuseClfAveragePooling_': 0.5669158101081848,\n",
      " 'Loss/train_avg/VariableMisuseClfAveragePooling': 0.5557296297302211,\n",
      " 'Loss/val/VariableMisuseClfAveragePooling_': 0.551749311766382,\n",
      " 'grad_norm/train/_': 0.2663995125481895}\n"
     ]
    },
    {
     "name": "stderr",
     "output_type": "stream",
     "text": [
      "Epoch 3: 100%|████████████████████████████████| 548/548 [38:16<00:00,  4.19s/it]\n",
      "Epoch 4:   0%|                                          | 0/548 [00:00<?, ?it/s]"
     ]
    },
    {
     "name": "stdout",
     "output_type": "stream",
     "text": [
      "Epoch: 3, Time: 3429 s\n",
      "{'Accuracy/test/VariableMisuseClfAveragePooling_': 0.7209624028182702,\n",
      " 'Accuracy/train/VariableMisuseClfAveragePooling_': 0.7678571428571429,\n",
      " 'Accuracy/train_avg/VariableMisuseClfAveragePooling': 0.7266093424139729,\n",
      " 'Accuracy/val/VariableMisuseClfAveragePooling_': 0.7156981436642453,\n",
      " 'Loss/test/VariableMisuseClfAveragePooling_': 0.534366706500248,\n",
      " 'Loss/train/VariableMisuseClfAveragePooling_': 0.5311704277992249,\n",
      " 'Loss/train_avg/VariableMisuseClfAveragePooling': 0.5296976752307293,\n",
      " 'Loss/val/VariableMisuseClfAveragePooling_': 0.5389630572270538,\n",
      " 'grad_norm/train/_': 0.29597933024712136}\n"
     ]
    },
    {
     "name": "stderr",
     "output_type": "stream",
     "text": [
      "Epoch 4: 100%|████████████████████████████████| 548/548 [38:44<00:00,  4.24s/it]\n",
      "Epoch 5:   0%|                                          | 0/548 [00:00<?, ?it/s]"
     ]
    },
    {
     "name": "stdout",
     "output_type": "stream",
     "text": [
      "Epoch: 4, Time: 3484 s\n",
      "{'Accuracy/test/VariableMisuseClfAveragePooling_': 0.7196777818270166,\n",
      " 'Accuracy/train/VariableMisuseClfAveragePooling_': 0.7321428571428571,\n",
      " 'Accuracy/train_avg/VariableMisuseClfAveragePooling': 0.7346417980969759,\n",
      " 'Accuracy/val/VariableMisuseClfAveragePooling_': 0.7185923627925747,\n",
      " 'Loss/test/VariableMisuseClfAveragePooling_': 0.5418128046859689,\n",
      " 'Loss/train/VariableMisuseClfAveragePooling_': 0.5315524935722351,\n",
      " 'Loss/train_avg/VariableMisuseClfAveragePooling': 0.5155678446384242,\n",
      " 'Loss/val/VariableMisuseClfAveragePooling_': 0.5450236170978869,\n",
      " 'grad_norm/train/_': 0.6087633217123442}\n"
     ]
    },
    {
     "name": "stderr",
     "output_type": "stream",
     "text": [
      "Epoch 5: 100%|████████████████████████████████| 548/548 [38:00<00:00,  4.16s/it]\n",
      "Epoch 6:   0%|                                          | 0/548 [00:00<?, ?it/s]"
     ]
    },
    {
     "name": "stdout",
     "output_type": "stream",
     "text": [
      "Epoch: 5, Time: 3462 s\n",
      "{'Accuracy/test/VariableMisuseClfAveragePooling_': 0.7271622934888241,\n",
      " 'Accuracy/train/VariableMisuseClfAveragePooling_': 0.75,\n",
      " 'Accuracy/train_avg/VariableMisuseClfAveragePooling': 0.7413891423357665,\n",
      " 'Accuracy/val/VariableMisuseClfAveragePooling_': 0.7231764527845036,\n",
      " 'Loss/test/VariableMisuseClfAveragePooling_': 0.5420055622551717,\n",
      " 'Loss/train/VariableMisuseClfAveragePooling_': 0.48996680974960327,\n",
      " 'Loss/train_avg/VariableMisuseClfAveragePooling': 0.5025293046649355,\n",
      " 'Loss/val/VariableMisuseClfAveragePooling_': 0.5515297454292492,\n",
      " 'grad_norm/train/_': 0.3575249902153085}\n"
     ]
    },
    {
     "name": "stderr",
     "output_type": "stream",
     "text": [
      "Epoch 6: 100%|████████████████████████████████| 548/548 [37:44<00:00,  4.13s/it]\n",
      "Epoch 7:   0%|                                          | 0/548 [00:00<?, ?it/s]"
     ]
    },
    {
     "name": "stdout",
     "output_type": "stream",
     "text": [
      "Epoch: 6, Time: 3435 s\n",
      "{'Accuracy/test/VariableMisuseClfAveragePooling_': 0.7217679482507289,\n",
      " 'Accuracy/train/VariableMisuseClfAveragePooling_': 0.7321428571428571,\n",
      " 'Accuracy/train_avg/VariableMisuseClfAveragePooling': 0.7472729568561001,\n",
      " 'Accuracy/val/VariableMisuseClfAveragePooling_': 0.7219784100080711,\n",
      " 'Loss/test/VariableMisuseClfAveragePooling_': 0.5488833275173797,\n",
      " 'Loss/train/VariableMisuseClfAveragePooling_': 0.49880433082580566,\n",
      " 'Loss/train_avg/VariableMisuseClfAveragePooling': 0.4957881026568204,\n",
      " 'Loss/val/VariableMisuseClfAveragePooling_': 0.5531822574340691,\n",
      " 'grad_norm/train/_': 0.8132233588677862}\n"
     ]
    },
    {
     "name": "stderr",
     "output_type": "stream",
     "text": [
      "Epoch 7: 100%|████████████████████████████████| 548/548 [38:19<00:00,  4.20s/it]\n",
      "Epoch 8:   0%|                                          | 0/548 [00:00<?, ?it/s]"
     ]
    },
    {
     "name": "stdout",
     "output_type": "stream",
     "text": [
      "Epoch: 7, Time: 3446 s\n",
      "{'Accuracy/test/VariableMisuseClfAveragePooling_': 0.7218347606899902,\n",
      " 'Accuracy/train/VariableMisuseClfAveragePooling_': 0.75,\n",
      " 'Accuracy/train_avg/VariableMisuseClfAveragePooling': 0.7499002052919708,\n",
      " 'Accuracy/val/VariableMisuseClfAveragePooling_': 0.7186617231638418,\n",
      " 'Loss/test/VariableMisuseClfAveragePooling_': 0.5505512421633921,\n",
      " 'Loss/train/VariableMisuseClfAveragePooling_': 0.4830641746520996,\n",
      " 'Loss/train_avg/VariableMisuseClfAveragePooling': 0.4888502542119827,\n",
      " 'Loss/val/VariableMisuseClfAveragePooling_': 0.555203447907658,\n",
      " 'grad_norm/train/_': 0.3580536811049605}\n"
     ]
    },
    {
     "name": "stderr",
     "output_type": "stream",
     "text": [
      "Epoch 8: 100%|████████████████████████████████| 548/548 [38:43<00:00,  4.24s/it]\n",
      "Epoch 9:   0%|                                          | 0/548 [00:00<?, ?it/s]"
     ]
    },
    {
     "name": "stdout",
     "output_type": "stream",
     "text": [
      "Epoch: 8, Time: 3476 s\n",
      "{'Accuracy/test/VariableMisuseClfAveragePooling_': 0.7014751882896015,\n",
      " 'Accuracy/train/VariableMisuseClfAveragePooling_': 0.75,\n",
      " 'Accuracy/train_avg/VariableMisuseClfAveragePooling': 0.7561872718978102,\n",
      " 'Accuracy/val/VariableMisuseClfAveragePooling_': 0.7042852098466506,\n",
      " 'Loss/test/VariableMisuseClfAveragePooling_': 0.5802235402623002,\n",
      " 'Loss/train/VariableMisuseClfAveragePooling_': 0.49755287170410156,\n",
      " 'Loss/train_avg/VariableMisuseClfAveragePooling': 0.4790137867531637,\n",
      " 'Loss/val/VariableMisuseClfAveragePooling_': 0.5822743318848691,\n",
      " 'grad_norm/train/_': 0.8798314150006676}\n"
     ]
    },
    {
     "name": "stderr",
     "output_type": "stream",
     "text": [
      "Epoch 9: 100%|████████████████████████████████| 548/548 [38:12<00:00,  4.18s/it]\n"
     ]
    },
    {
     "name": "stdout",
     "output_type": "stream",
     "text": [
      "Epoch: 9, Time: 3468 s\n",
      "{'Accuracy/test/VariableMisuseClfAveragePooling_': 0.7159355259961127,\n",
      " 'Accuracy/train/VariableMisuseClfAveragePooling_': 0.75,\n",
      " 'Accuracy/train_avg/VariableMisuseClfAveragePooling': 0.7591098312043796,\n",
      " 'Accuracy/val/VariableMisuseClfAveragePooling_': 0.7158242534301856,\n",
      " 'Loss/test/VariableMisuseClfAveragePooling_': 0.5779261351848135,\n",
      " 'Loss/train/VariableMisuseClfAveragePooling_': 0.48964256048202515,\n",
      " 'Loss/train_avg/VariableMisuseClfAveragePooling': 0.47425653094792886,\n",
      " 'Loss/val/VariableMisuseClfAveragePooling_': 0.577930888382055,\n",
      " 'grad_norm/train/_': 1.6477083356174802}\n",
      "Final eval: Loss/val/VariableMisuseClfAveragePooling_final: 0.577930888382055, Accuracy/val/VariableMisuseClfAveragePooling_final: 0.7158242534301856, Loss/test/VariableMisuseClfAveragePooling_final: 0.5779261355902873, Accuracy/test/VariableMisuseClfAveragePooling_final: 0.7159355259961127\n"
     ]
    },
    {
     "data": {
      "text/plain": [
       "(<__main__.Trainer at 0x7f0c1bad2e80>,\n",
       " {'Loss/val/VariableMisuseClfAveragePooling_final': 0.577930888382055,\n",
       "  'Accuracy/val/VariableMisuseClfAveragePooling_final': 0.7158242534301856,\n",
       "  'Loss/test/VariableMisuseClfAveragePooling_final': 0.5779261355902873,\n",
       "  'Accuracy/test/VariableMisuseClfAveragePooling_final': 0.7159355259961127})"
      ]
     },
     "execution_count": 11,
     "metadata": {},
     "output_type": "execute_result"
    }
   ],
   "source": [
    "training_procedure(\n",
    "    dataset, \n",
    "    model_name=RGGAN, \n",
    "    model_params=config[\"MODEL\"],\n",
    "    trainer_params=config[\"TRAINING\"],\n",
    "    model_base_path=get_model_base(config[\"TRAINING\"], get_name(RGGAN, str(datetime.now()))),\n",
    "    trainer=Trainer\n",
    ")"
   ]
  },
  {
   "cell_type": "code",
   "execution_count": 12,
   "id": "ba4a7f21",
   "metadata": {
    "collapsed": false,
    "jupyter": {
     "outputs_hidden": false
    },
    "pycharm": {
     "name": "#%%\n"
    }
   },
   "outputs": [
    {
     "name": "stdout",
     "output_type": "stream",
     "text": [
      "Tue Sep 13 02:53:28 2022       \n",
      "+-----------------------------------------------------------------------------+\n",
      "| NVIDIA-SMI 450.102.04   Driver Version: 450.102.04   CUDA Version: 11.0     |\n",
      "|-------------------------------+----------------------+----------------------+\n",
      "| GPU  Name        Persistence-M| Bus-Id        Disp.A | Volatile Uncorr. ECC |\n",
      "| Fan  Temp  Perf  Pwr:Usage/Cap|         Memory-Usage | GPU-Util  Compute M. |\n",
      "|                               |                      |               MIG M. |\n",
      "|===============================+======================+======================|\n",
      "|   0  Tesla V100-SXM2...  Off  | 00000000:07:00.0 Off |                    0 |\n",
      "| N/A   40C    P0    71W / 300W |  19938MiB / 32510MiB |      0%      Default |\n",
      "|                               |                      |                  N/A |\n",
      "+-------------------------------+----------------------+----------------------+\n",
      "                                                                               \n",
      "+-----------------------------------------------------------------------------+\n",
      "| Processes:                                                                  |\n",
      "|  GPU   GI   CI        PID   Type   Process name                  GPU Memory |\n",
      "|        ID   ID                                                   Usage      |\n",
      "|=============================================================================|\n",
      "+-----------------------------------------------------------------------------+\n"
     ]
    }
   ],
   "source": [
    "!nvidia-smi"
   ]
  },
  {
   "cell_type": "code",
   "execution_count": null,
   "id": "2e4624a4",
   "metadata": {
    "collapsed": false,
    "jupyter": {
     "outputs_hidden": false
    },
    "pycharm": {
     "name": "#%%\n"
    }
   },
   "outputs": [],
   "source": []
  }
 ],
 "metadata": {
  "kernelspec": {
   "display_name": "Python [conda env:SourceCodeTools]",
   "language": "python",
   "name": "conda-env-SourceCodeTools-py"
  },
  "language_info": {
   "codemirror_mode": {
    "name": "ipython",
    "version": 3
   },
   "file_extension": ".py",
   "mimetype": "text/x-python",
   "name": "python",
   "nbconvert_exporter": "python",
   "pygments_lexer": "ipython3",
   "version": "3.8.13"
  },
  "notebookId": "0b349f50-6796-4a42-8a61-23bcf9f52520",
  "notebookPath": "method-embedding/examples/Subgraph Classification.ipynb"
 },
 "nbformat": 4,
 "nbformat_minor": 5
}

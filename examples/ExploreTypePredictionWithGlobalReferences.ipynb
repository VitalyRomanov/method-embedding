{
 "cells": [
  {
   "cell_type": "code",
   "execution_count": 54,
   "metadata": {
    "collapsed": true
   },
   "outputs": [],
   "source": [
    "%load_ext autoreload\n",
    "%autoreload 2"
   ]
  },
  {
   "cell_type": "code",
   "execution_count": 55,
   "outputs": [],
   "source": [
    "import hashlib\n",
    "\n",
    "import json\n",
    "\n",
    "from collections import Counter\n",
    "from pathlib import Path\n",
    "\n",
    "from tqdm import tqdm\n",
    "import pandas as pd\n",
    "import matplotlib.pyplot as plt\n",
    "from sklearn.model_selection import train_test_split\n",
    "from SourceCodeTools.nlp import create_tokenizer"
   ],
   "metadata": {
    "collapsed": false,
    "pycharm": {
     "name": "#%%\n"
    }
   }
  },
  {
   "cell_type": "markdown",
   "source": [
    "## Read data"
   ],
   "metadata": {
    "collapsed": false,
    "pycharm": {
     "name": "#%% md\n"
    }
   }
  },
  {
   "cell_type": "code",
   "execution_count": 69,
   "outputs": [
    {
     "name": "stdout",
     "output_type": "stream",
     "text": [
      "Read 652766 annotations\n"
     ]
    }
   ],
   "source": [
    "def read_labels_from_json(path):\n",
    "    def _compute_text_id(text):\n",
    "        return abs(int(hashlib.md5(text.encode('utf-8')).hexdigest(), 16)) % 1152921504606846976\n",
    "\n",
    "    all_entries = []\n",
    "    all_labels = set()\n",
    "    all_replacements = set()\n",
    "    with open(path, \"r\") as source:\n",
    "        for line in source:\n",
    "            data = json.loads(line)\n",
    "            text_id = _compute_text_id(data[0])\n",
    "            for _, _, e in data[1][\"entities\"]:\n",
    "                if e != \"\":\n",
    "                    all_entries.append((text_id, e.strip().strip()))\n",
    "                    all_labels.add(all_entries[-1][1])\n",
    "            for repl_name in data[1][\"replacement_names\"].values():\n",
    "                all_entries.append((text_id, repl_name))\n",
    "                all_replacements.add(repl_name)\n",
    "            # print(data[1][\"entities\"])\n",
    "            # break\n",
    "    return all_entries, all_labels, all_replacements\n",
    "\n",
    "records_id_labels, all_labels, all_replacements = read_labels_from_json(\"codesearchnet_type_pred_global/type_pred.json\")\n",
    "print(f\"Read {len(records_id_labels)} annotations\")"
   ],
   "metadata": {
    "collapsed": false,
    "pycharm": {
     "name": "#%%\n"
    }
   }
  },
  {
   "cell_type": "markdown",
   "source": [
    "## Remove invalid records"
   ],
   "metadata": {
    "collapsed": false
   }
  },
  {
   "cell_type": "code",
   "execution_count": 57,
   "outputs": [],
   "source": [
    "def select_labels(labels, select_fn):\n",
    "    return [label for label in labels if select_fn(label)]"
   ],
   "metadata": {
    "collapsed": false,
    "pycharm": {
     "name": "#%%\n"
    }
   }
  },
  {
   "cell_type": "code",
   "execution_count": 58,
   "outputs": [],
   "source": [
    "import nltk\n",
    "tokenizer = nltk.RegexpTokenizer(\"[\\w\\.]+\")\n",
    "\n",
    "def type_is_valid(type):\n",
    "    return (\n",
    "        (\"\\n\" not in type) and\n",
    "        (\"(\" not in type) and\n",
    "        (\")\" not in type) and\n",
    "        (\"|\" not in type) and\n",
    "        (\"*\" not in type) and\n",
    "        (\"<\" not in type) and\n",
    "        (\">\" not in type) and\n",
    "        # (\" or \" not in type) and\n",
    "        (len(type) > 2) and\n",
    "        (type.count(\"[\") == type.count(\"]\")) and\n",
    "        (type.count(\"\\\"\") % 2 == 0) and\n",
    "        (type.count(\"\\'\") % 2 == 0) and\n",
    "        (type != \"Optional[Any]\") and\n",
    "        (type != \"Any\") and\n",
    "        (type != \"Optional\") and\n",
    "        (type != \"object\") and\n",
    "        (not (\",\" in type and \"[\" not in type)) and\n",
    "        (not (\"[\" not in type and len(tokenizer.tokenize(type)) > 1))\n",
    "    )"
   ],
   "metadata": {
    "collapsed": false,
    "pycharm": {
     "name": "#%%\n"
    }
   }
  },
  {
   "cell_type": "code",
   "execution_count": 59,
   "outputs": [],
   "source": [
    "# sorted(list(set(select_labels(map(lambda x: x[1], records_id_labels), lambda lbl: not type_is_valid(lbl)))))\n",
    "# # a = sorted(list(set(select_labels(map(lambda x: x[1], csn_records), lambda lbl: not type_is_valid(lbl)))))"
   ],
   "metadata": {
    "collapsed": false,
    "pycharm": {
     "name": "#%%\n"
    }
   }
  },
  {
   "cell_type": "code",
   "execution_count": 60,
   "outputs": [
    {
     "name": "stdout",
     "output_type": "stream",
     "text": [
      "652766 records before\n",
      "624571 records after\n",
      "28195 invalid records removed\n"
     ]
    }
   ],
   "source": [
    "records_id_labels_no_invalid = list(filter(lambda x: type_is_valid(x[1]), records_id_labels))\n",
    "\n",
    "print(f\"{len(records_id_labels)} records before\")\n",
    "print(f\"{len(records_id_labels_no_invalid)} records after\")\n",
    "print(f\"{len(records_id_labels) - len(records_id_labels_no_invalid)} invalid records removed\")"
   ],
   "metadata": {
    "collapsed": false,
    "pycharm": {
     "name": "#%%\n"
    }
   }
  },
  {
   "cell_type": "markdown",
   "source": [
    "## Type parser definition"
   ],
   "metadata": {
    "collapsed": false,
    "pycharm": {
     "name": "#%% md\n"
    }
   }
  },
  {
   "cell_type": "code",
   "execution_count": 61,
   "outputs": [],
   "source": [
    "class TypeHierarchy:\n",
    "    def __init__(self, type_, normalize=True, tokenize_fn=None):\n",
    "        self._tokenize_fn = tokenize_fn\n",
    "        if self._tokenize_fn is None:\n",
    "            self._tokenize_fn = create_tokenizer(\"spacy\")\n",
    "        if normalize:\n",
    "            type_ = self.normalize(type_)\n",
    "        self._parse_type(type_)\n",
    "\n",
    "    def _make_node(self, start, end):\n",
    "        if end is None:\n",
    "            name = \"\".join(t.text for t in self._tokens[start:])\n",
    "        else:\n",
    "            name = \"\".join(t.text for t in self._tokens[start:end])\n",
    "        return {\n",
    "            \"name\": name,\n",
    "            \"children\": []\n",
    "        }\n",
    "\n",
    "    def _parse_type(self, type_string):\n",
    "\n",
    "        self._tokens = self._tokenize_fn(type_string)\n",
    "\n",
    "        entry_point = []\n",
    "        reference_stack = [entry_point]\n",
    "\n",
    "        start = 0\n",
    "\n",
    "        for ind, tok in enumerate(self._tokens):\n",
    "            if tok.text in {\"[\"}:\n",
    "                new_record = self._make_node(start=start, end=ind)\n",
    "                reference_stack[-1].append(new_record)\n",
    "                reference_stack.append(new_record[\"children\"])\n",
    "                start = ind + 1\n",
    "            elif tok.text in {\"]\"}:\n",
    "                if start != ind:# or (start > 0 and self._tokens[start-1].text == \",\"):\n",
    "                    reference_stack[-1].append(self._make_node(start=start, end=ind))\n",
    "                reference_stack.pop(-1)\n",
    "                start = ind + 1\n",
    "            elif tok.text in {\",\"}:\n",
    "                if start != ind or (start > 0 and self._tokens[start-1].text == \"[\"):\n",
    "                    reference_stack[-1].append(self._make_node(start=start, end=ind))\n",
    "                start = ind + 1\n",
    "            elif ind == len(self._tokens) - 1:\n",
    "                reference_stack[-1].append(self._make_node(start=start, end=None))\n",
    "                reference_stack.pop(-1)\n",
    "\n",
    "        if len(entry_point) == 0:\n",
    "            raise Exception(f\"Error parsing: {self._tokens}\")\n",
    "        self._structure = entry_point[0]\n",
    "        if len(entry_point) == 1:\n",
    "            pass\n",
    "        elif len(entry_point) == 2:\n",
    "            self._structure[\"end\"] = entry_point[1][\"name\"]\n",
    "        else:\n",
    "            raise Exception(f\"Error parsing: {self._tokens}\")\n",
    "\n",
    "    def assemble(self, structure=None, current_level=0, max_level=-1, simplify_nodes=False):\n",
    "\n",
    "        assert max_level != 0, \"Max level can be -1 or > 0\"\n",
    "        if max_level != -1 and current_level == max_level:\n",
    "            return \"\"\n",
    "\n",
    "        if structure is None:\n",
    "            structure = self._structure\n",
    "\n",
    "        name = structure[\"name\"]\n",
    "        if simplify_nodes and not (name.startswith(\"\\\"\") or name.startswith(\"\\'\") or name.startswith('\"\"\"')):\n",
    "            s = name.split(\".\")[-1]\n",
    "        else:\n",
    "            s = name\n",
    "\n",
    "        n_chld = len(structure[\"children\"])\n",
    "\n",
    "        if max_level != -1 and current_level < max_level - 1 and n_chld > 0 or \\\n",
    "            max_level == - 1 and n_chld > 0:\n",
    "            s += \"[\"\n",
    "            for ind, c in enumerate(structure[\"children\"]):\n",
    "                s += self.assemble(c, current_level=current_level+1, max_level=max_level, simplify_nodes=simplify_nodes)\n",
    "                if ind != n_chld - 1:\n",
    "                    s += \",\"\n",
    "            s += \"]\"\n",
    "\n",
    "        if \"end\" in structure:\n",
    "            s += structure[\"end\"]\n",
    "\n",
    "        return s\n",
    "\n",
    "    def __str__(self):\n",
    "        return self.assemble(self._structure)\n",
    "\n",
    "    @staticmethod\n",
    "    def normalize(type):\n",
    "        return type.replace(\" \", \"\")\\\n",
    "            .replace(\"[]\", \"\")\\\n",
    "            .replace(\"[,]\", \"\")\\\n",
    "            .replace(\"\\\"\", \"\")\\\n",
    "            .replace(\"\\'\", \"\")\\\n",
    "            .replace(\"...\", \"\")\\\n",
    "            .replace(\",]\", \"]\")\\\n",
    "            .replace(\"[,\", \"[\")\n",
    "            # .replace(',\",', '\",')\\\n",
    "            # .replace(',\"]', '\"]')"
   ],
   "metadata": {
    "collapsed": false,
    "pycharm": {
     "name": "#%%\n"
    }
   }
  },
  {
   "cell_type": "markdown",
   "source": [
    "## Test type parser"
   ],
   "metadata": {
    "collapsed": false,
    "pycharm": {
     "name": "#%% md\n"
    }
   }
  },
  {
   "cell_type": "code",
   "execution_count": 62,
   "outputs": [],
   "source": [
    "def test_type_hierarchy_parser(types, normalize_types=True):\n",
    "    tokenize_fn = create_tokenizer(\"spacy\")\n",
    "\n",
    "    mistakes = set()\n",
    "    for type_ in types:\n",
    "        if normalize_types is True:\n",
    "            type_ = TypeHierarchy.normalize(type_)\n",
    "        recovered = TypeHierarchy(type_, normalize=False, tokenize_fn=tokenize_fn).assemble()\n",
    "        if recovered != type_:\n",
    "            print(f\"{recovered} != {type_}\")\n",
    "            mistakes.add(type_)\n",
    "\n",
    "    print(\"Found mistakes:\", len(mistakes))"
   ],
   "metadata": {
    "collapsed": false,
    "pycharm": {
     "name": "#%%\n"
    }
   }
  },
  {
   "cell_type": "code",
   "execution_count": 63,
   "outputs": [
    {
     "name": "stdout",
     "output_type": "stream",
     "text": [
      "Found mistakes: 0\n"
     ]
    }
   ],
   "source": [
    "test_type_hierarchy_parser(set(map(lambda x: x[1], records_id_labels_no_invalid)), normalize_types=True)"
   ],
   "metadata": {
    "collapsed": false,
    "pycharm": {
     "name": "#%%\n"
    }
   }
  },
  {
   "cell_type": "markdown",
   "source": [
    "## Remove infrequent types"
   ],
   "metadata": {
    "collapsed": false,
    "pycharm": {
     "name": "#%% md\n"
    }
   }
  },
  {
   "cell_type": "code",
   "execution_count": 64,
   "outputs": [],
   "source": [
    "def analyze_by_frequency(types, max_level, cutoff_count=20, simplify_nodes=True, show_some_types=True):\n",
    "    tokenize_fn = create_tokenizer(\"spacy\")\n",
    "    cou = Counter(map(lambda type_: TypeHierarchy(type_, tokenize_fn=tokenize_fn).assemble(simplify_nodes=simplify_nodes, max_level=max_level), types))\n",
    "\n",
    "    frequent_types = []\n",
    "    infrequent_types = []\n",
    "\n",
    "    cutoff_found = False\n",
    "    stopped_at = len(cou)\n",
    "\n",
    "    for ind, (v, c) in enumerate(cou.most_common()):\n",
    "        if c >= cutoff_count:\n",
    "            frequent_types.append(v)\n",
    "        else:\n",
    "            if cutoff_found is False:\n",
    "                cutoff_found = True\n",
    "                stopped_at = ind\n",
    "            infrequent_types.append(v)\n",
    "\n",
    "    if show_some_types:\n",
    "        for ind, (v, c) in enumerate(cou.most_common()):\n",
    "            if ind < min(10, stopped_at - 10):\n",
    "                print(c,v)\n",
    "            elif ind == min(10, stopped_at - 10):\n",
    "                print(\"...\")\n",
    "            elif ind > stopped_at - 10 and ind < stopped_at:\n",
    "                print(c,v)\n",
    "\n",
    "    examples_left = sum(cou[fr] for fr in frequent_types)\n",
    "    examples_total = len(types)\n",
    "    lost = (examples_total - examples_left) / examples_total * 100\n",
    "\n",
    "    print(\"Labels with sufficient count\", len(frequent_types))\n",
    "    print(\"Labels with insufficient count\", len(infrequent_types))\n",
    "    print(\"Total examples after filtration by frequency:\", examples_left)\n",
    "    print(f\"{lost:.2f}% of all examples is lost\")\n",
    "\n",
    "    return frequent_types, infrequent_types, examples_left\n",
    "\n",
    "# frequent_types, infrequent_types = analyze_by_frequency(list(map(lambda x: x[1], records_id_labels_no_invalid)), 4, simplify_nodes=False, show_some_types=False)"
   ],
   "metadata": {
    "collapsed": false,
    "pycharm": {
     "name": "#%%\n"
    }
   }
  },
  {
   "cell_type": "code",
   "execution_count": 65,
   "outputs": [],
   "source": [
    "# data = []\n",
    "# level_grid = [1, 2, 3, 4]\n",
    "# cutoff_grid = [10, 20, 50, 100]\n",
    "#\n",
    "# for n in cutoff_grid:\n",
    "#     data.append([])\n",
    "#     for i in level_grid:\n",
    "#         print(\"Cutoff at\", n)\n",
    "#         print(\"Max type level:\", i)\n",
    "#         csn_labels_frequent, csn_labels_infrequent, examples_left = analyze_by_frequency(\n",
    "#             list(map(lambda x: x[1], records_id_labels_no_invalid)), max_level=i, simplify_nodes=False, show_some_types=False, cutoff_count=n\n",
    "#         )\n",
    "#         data[-1].append(examples_left)\n",
    "#         print(\"\\n\\n\")"
   ],
   "metadata": {
    "collapsed": false,
    "pycharm": {
     "name": "#%%\n"
    }
   }
  },
  {
   "cell_type": "code",
   "execution_count": 66,
   "outputs": [],
   "source": [
    "# # setup the figure and axes\n",
    "# fig = plt.figure(figsize=(10,10))\n",
    "# ax1 = fig.add_subplot(111, projection='3d')\n",
    "# # ax2 = fig.add_subplot(122, projection='3d')\n",
    "#\n",
    "# width = depth = 1\n",
    "# top = list(chain(*data))\n",
    "# bottom = [0] * len(top)\n",
    "#\n",
    "# ax1.bar3d(cutoff_grid*4, level_grid*4, bottom, width, depth, top, shade=True)\n",
    "# # ax1.set_title('Shaded')\n",
    "# # ax2.bar3d(x, y, bottom, width, depth, top, shade=False)\n",
    "# # ax2.set_title('Not Shaded')\n",
    "#\n",
    "# plt.show()"
   ],
   "metadata": {
    "collapsed": false,
    "pycharm": {
     "name": "#%%\n"
    }
   }
  },
  {
   "cell_type": "markdown",
   "source": [
    "Number of labels roughly halves when increasing cutoff"
   ],
   "metadata": {
    "collapsed": false,
    "pycharm": {
     "name": "#%% md\n"
    }
   }
  },
  {
   "cell_type": "code",
   "execution_count": 67,
   "outputs": [],
   "source": [
    "# def filter_invalid(types, key=None):\n",
    "#     tokenize_fn = create_tokenizer(\"spacy\")\n",
    "#\n",
    "#     def is_valid(type_):\n",
    "#         type__ = TypeHierarchy.normalize(type_)\n",
    "#         recovered = TypeHierarchy(type__, normalize=False, tokenize_fn=tokenize_fn).assemble()\n",
    "#         # if type_ != recovered:\n",
    "#         #     print(repr(type_))\n",
    "#         return type_ == recovered\n",
    "#\n",
    "#     def get_with_key(value):\n",
    "#         if key is None:\n",
    "#             return value\n",
    "#         else:\n",
    "#             return key(value)\n",
    "#\n",
    "#     filtered = []\n",
    "#     invalid = []\n",
    "#     for type_ in types:\n",
    "#         if is_valid(get_with_key(type_)):\n",
    "#             filtered.append(type_)\n",
    "#         else:\n",
    "#             invalid.append(type_)\n",
    "#\n",
    "#     print(f\"{len(invalid)} types removed\")\n",
    "#     for inv in invalid:\n",
    "#         print(inv)\n",
    "#\n",
    "#     print(\"Types after filtering:\", len(filtered))\n",
    "#\n",
    "#     return filtered\n",
    "#\n",
    "# csn_records_valid = filter_invalid(csn_records, key=lambda x: x[1])"
   ],
   "metadata": {
    "collapsed": false,
    "pycharm": {
     "name": "#%%\n"
    }
   }
  },
  {
   "cell_type": "code",
   "execution_count": 68,
   "outputs": [
    {
     "name": "stdout",
     "output_type": "stream",
     "text": [
      "Labels with sufficient count 1173\n",
      "Labels with insufficient count 167746\n",
      "Total examples after filtration by frequency: 291698\n",
      "53.30% of all examples is lost\n"
     ]
    }
   ],
   "source": [
    "labels_frequent, labels_infrequent, _ = analyze_by_frequency(\n",
    "    list(map(lambda x: x[1], records_id_labels_no_invalid)), max_level=-1, simplify_nodes=False, show_some_types=False, cutoff_count=30\n",
    ")"
   ],
   "metadata": {
    "collapsed": false,
    "pycharm": {
     "name": "#%%\n"
    }
   }
  },
  {
   "cell_type": "code",
   "execution_count": 70,
   "outputs": [],
   "source": [
    "def keep_frequent(records, frequent, key=None):\n",
    "    def get_with_key(value):\n",
    "        if key is None:\n",
    "            return value\n",
    "        else:\n",
    "            return key(value)\n",
    "\n",
    "    frequent = set(frequent)\n",
    "    return [r for r in records if get_with_key(r) in frequent]\n",
    "\n",
    "records_id_labels_no_invalid_frequent = keep_frequent(records_id_labels_no_invalid, labels_frequent, key=lambda x: x[1])"
   ],
   "metadata": {
    "collapsed": false,
    "pycharm": {
     "name": "#%%\n"
    }
   }
  },
  {
   "cell_type": "code",
   "execution_count": 78,
   "outputs": [],
   "source": [
    "def group_by_key(seq):\n",
    "    group = dict()\n",
    "    for s in seq:\n",
    "        if s[0] not in group:\n",
    "            group[s[0]] = []\n",
    "        group[s[0]].append(s[1])\n",
    "    return group\n",
    "\n",
    "entity_group = group_by_key(select_labels(records_id_labels_no_invalid_frequent, lambda x: x[1] in all_labels))\n",
    "replacements_group = group_by_key(select_labels(records_id_labels_no_invalid_frequent, lambda x: x[1] in all_replacements))\n",
    "\n",
    "records_id_labels_no_invalid_frequent_has_ann_and_repl = select_labels(records_id_labels_no_invalid_frequent, lambda x: x[0] in entity_group and x[0] in replacements_group)"
   ],
   "metadata": {
    "collapsed": false,
    "pycharm": {
     "name": "#%%\n"
    }
   }
  },
  {
   "cell_type": "code",
   "execution_count": 81,
   "outputs": [
    {
     "data": {
      "text/plain": "247675"
     },
     "execution_count": 81,
     "metadata": {},
     "output_type": "execute_result"
    }
   ],
   "source": [
    "len(records_id_labels_no_invalid_frequent_has_ann_and_repl)"
   ],
   "metadata": {
    "collapsed": false,
    "pycharm": {
     "name": "#%%\n"
    }
   }
  },
  {
   "cell_type": "markdown",
   "source": [
    "## Naive partitioning scheme"
   ],
   "metadata": {
    "collapsed": false,
    "pycharm": {
     "name": "#%% md\n"
    }
   }
  },
  {
   "cell_type": "code",
   "execution_count": 82,
   "outputs": [],
   "source": [
    "# def naive_train_test_partitioning(record_ids, frac=0.8):\n",
    "#     train_ids_, test_ids_ = train_test_split(record_ids, train_size=frac)\n",
    "#     train_ids = set(train_ids_)\n",
    "#     test_ids = set(test_ids_)\n",
    "#\n",
    "#     assert len(train_ids) == len(train_ids_)\n",
    "#     assert len(test_ids) == len(test_ids_)\n",
    "#\n",
    "#     assert len(train_ids.intersection(test_ids)) == 0, \"Train and test sets overlap\"\n",
    "#     return train_ids, test_ids\n",
    "#\n",
    "# train_ids, test_ids = naive_train_test_partitioning(list(set(map(lambda x: x[0], records_id_labels_no_invalid_frequent_has_ann_and_repl))), frac=0.8)\n",
    "#\n",
    "# print(\"Records in total:\", len(train_ids) + len(test_ids))\n",
    "# print(\"Records in train:\", len(train_ids))\n",
    "# print(\"Records in test:\", len(test_ids))\n",
    "# print(\"Proportion:\", len(train_ids) / (len(test_ids) + len(train_ids)))"
   ],
   "metadata": {
    "collapsed": false,
    "pycharm": {
     "name": "#%%\n"
    }
   }
  },
  {
   "cell_type": "markdown",
   "source": [
    "## Visualize partition distributions"
   ],
   "metadata": {
    "collapsed": false,
    "pycharm": {
     "name": "#%% md\n"
    }
   }
  },
  {
   "cell_type": "code",
   "execution_count": 83,
   "outputs": [],
   "source": [
    "def get_table_from_records(records):\n",
    "    table = {\n",
    "        \"id\": [],\n",
    "        \"label\": []\n",
    "    }\n",
    "\n",
    "    for record_id, label in records:\n",
    "        table[\"id\"].append(record_id)\n",
    "        table[\"label\"].append(label)\n",
    "\n",
    "    return pd.DataFrame(table)\n",
    "\n",
    "# get_table_from_records(records_id_labels_no_invalid_frequent_has_ann_and_repl)"
   ],
   "metadata": {
    "collapsed": false,
    "pycharm": {
     "name": "#%%\n"
    }
   }
  },
  {
   "cell_type": "code",
   "execution_count": 84,
   "outputs": [],
   "source": [
    "def get_label_table_from_splits(records, train_ids, test_ids):\n",
    "\n",
    "    records_table = get_table_from_records(records)\n",
    "\n",
    "    def assign_partition(record_id):\n",
    "        if record_id in train_ids:\n",
    "            return \"train\"\n",
    "        elif record_id in test_ids:\n",
    "            return \"test\"\n",
    "        else:\n",
    "            raise Exception(f\"Record {record_id} is neither in train nor in test sets\")\n",
    "\n",
    "    records_table[\"partition\"] = records_table[\"id\"].apply(assign_partition)\n",
    "    return records_table\n",
    "\n",
    "# label_splits_table = get_label_table_from_splits(records_id_labels_no_invalid_frequent_has_ann_and_repl, train_ids, test_ids)\n",
    "# label_splits_table"
   ],
   "metadata": {
    "collapsed": false,
    "pycharm": {
     "name": "#%%\n"
    }
   }
  },
  {
   "cell_type": "code",
   "execution_count": 85,
   "outputs": [],
   "source": [
    "def compute_distributions(table, categorical_column, partition_column):\n",
    "    assert categorical_column in table.columns and partition_column in table.columns, \"Requested columns are not in the table\"\n",
    "    dist_table = pd.DataFrame(table.groupby([categorical_column, partition_column])[partition_column].agg(\"count\"))\\\n",
    "            .rename({partition_column: \"count\"}, axis=1)\\\n",
    "            .reset_index()\\\n",
    "            .pivot(index=categorical_column, columns=partition_column, values=\"count\")\\\n",
    "            .fillna(0)\\\n",
    "            .astype(\"int64\")\n",
    "    return dist_table / dist_table.sum()\n",
    "\n",
    "# true_dist = compute_distributions(label_splits_table, categorical_column=\"label\", partition_column=\"partition\")\n",
    "# true_dist"
   ],
   "metadata": {
    "collapsed": false,
    "pycharm": {
     "name": "#%%\n"
    }
   }
  },
  {
   "cell_type": "code",
   "execution_count": 86,
   "outputs": [],
   "source": [
    "def plot_dist(dist_table):\n",
    "    dist_table.plot.barh(figsize=(8, 0.6 * len(dist_table)))\n",
    "    plt.gca().set_xscale('log')\n",
    "    plt.grid()\n",
    "\n",
    "# plot_dist(true_dist)"
   ],
   "metadata": {
    "collapsed": false,
    "pycharm": {
     "name": "#%%\n"
    }
   }
  },
  {
   "cell_type": "code",
   "execution_count": 87,
   "outputs": [],
   "source": [
    "plt.close(\"all\")"
   ],
   "metadata": {
    "collapsed": false,
    "pycharm": {
     "name": "#%%\n"
    }
   }
  },
  {
   "cell_type": "markdown",
   "source": [
    "## Measure distribution difference"
   ],
   "metadata": {
    "collapsed": false,
    "pycharm": {
     "name": "#%% md\n"
    }
   }
  },
  {
   "cell_type": "code",
   "execution_count": 88,
   "outputs": [],
   "source": [
    "def tvd(dist1, dist2):\n",
    "    return 0.5*(dist1 - dist2).abs().sum()"
   ],
   "metadata": {
    "collapsed": false,
    "pycharm": {
     "name": "#%%\n"
    }
   }
  },
  {
   "cell_type": "code",
   "execution_count": 89,
   "outputs": [],
   "source": [
    "def reshuffle(table, column_to_keep, column_to_reshuffle):\n",
    "    reshuffled_col_name = f\"shuffled {column_to_reshuffle}\"\n",
    "    table[reshuffled_col_name] = table[column_to_reshuffle]\\\n",
    "        .sample(frac=1., replace=False)\\\n",
    "        .tolist()\n",
    "    return table[[column_to_keep, reshuffled_col_name]].rename({reshuffled_col_name: column_to_reshuffle}, axis=1)\n",
    "\n",
    "# reshuffled_dist = reshuffle(label_splits_table, column_to_keep=\"partition\", column_to_reshuffle=\"label\")\n",
    "# reshuffled_dist"
   ],
   "metadata": {
    "collapsed": false,
    "pycharm": {
     "name": "#%%\n"
    }
   }
  },
  {
   "cell_type": "code",
   "execution_count": 90,
   "outputs": [],
   "source": [
    "# reshuf_dist = compute_distributions(reshuffled_dist, categorical_column=\"label\", partition_column=\"partition\")\n",
    "#\n",
    "# print(\"True dist diff:\", tvd(true_dist[\"train\"], true_dist[\"test\"]))\n",
    "# print(\"Reshuf dist diff:\", tvd(reshuf_dist[\"train\"], reshuf_dist[\"test\"]))"
   ],
   "metadata": {
    "collapsed": false,
    "pycharm": {
     "name": "#%%\n"
    }
   }
  },
  {
   "cell_type": "markdown",
   "source": [
    "## Permutation test"
   ],
   "metadata": {
    "collapsed": false,
    "pycharm": {
     "name": "#%% md\n"
    }
   }
  },
  {
   "cell_type": "code",
   "execution_count": 91,
   "outputs": [],
   "source": [
    "def collect_two_sample_tvd_statistics(\n",
    "        label_splits_table, repetitions, categorical_column, partition_column,\n",
    "        first_sample_label, second_sample_label\n",
    "):\n",
    "    assert categorical_column in label_splits_table.columns and partition_column in label_splits_table.columns, \"Requested columns are not in the table\"\n",
    "    assert repetitions > 2\n",
    "    unique_partitions = label_splits_table[partition_column].unique()\n",
    "    assert len(unique_partitions) == 2, \"More than two samples provided\"\n",
    "    assert first_sample_label in unique_partitions and second_sample_label in unique_partitions, \"Sample labels not found\"\n",
    "\n",
    "    tvds = []\n",
    "    for _ in tqdm(range(repetitions), total=repetitions, desc=\"Resampling\"):\n",
    "        reshuf_dist = compute_distributions(\n",
    "            reshuffle(label_splits_table, column_to_keep=partition_column, column_to_reshuffle=categorical_column),\n",
    "            categorical_column=categorical_column, partition_column=partition_column\n",
    "        )\n",
    "        tvds.append(tvd(reshuf_dist[first_sample_label], reshuf_dist[second_sample_label]))\n",
    "    return tvds\n",
    "\n",
    "# tvd_statistics = collect_two_sample_tvd_statistics(\n",
    "#     label_splits_table, repetitions=200, categorical_column=\"label\", partition_column=\"partition\",\n",
    "#     first_sample_label=\"train\", second_sample_label=\"test\"\n",
    "# )"
   ],
   "metadata": {
    "collapsed": false,
    "pycharm": {
     "name": "#%%\n"
    }
   }
  },
  {
   "cell_type": "code",
   "execution_count": 92,
   "outputs": [],
   "source": [
    "def compute_empirical_p_value(randomized_test_statistics, observed_test_statistics):\n",
    "    return sum(value >= observed_test_statistics for value in randomized_test_statistics) / len(randomized_test_statistics)\n",
    "\n",
    "def permutation_test_tvd(tvd_statistics, observed_tvd):\n",
    "    emp_p = compute_empirical_p_value(tvd_statistics, observed_tvd)\n",
    "    plt.hist(tvd_statistics, bins=20)\n",
    "    plt.title('Empirical Distribution Under the Null')\n",
    "    print('Observed TVD:', observed_tvd)\n",
    "    print('Empirical P-value:', emp_p)\n",
    "\n",
    "# permutation_test_tvd(tvd_statistics, tvd(true_dist[\"train\"], true_dist[\"test\"]))"
   ],
   "metadata": {
    "collapsed": false,
    "pycharm": {
     "name": "#%%\n"
    }
   }
  },
  {
   "cell_type": "code",
   "execution_count": 93,
   "outputs": [],
   "source": [
    "def perform_permutaton_test(\n",
    "        label_splits_table, repetitions=10, categorical_column=\"label\", partition_column=\"partition\",\n",
    "        first_sample_label=\"train\", second_sample_label=\"test\"\n",
    "):\n",
    "    true_dist = compute_distributions(label_splits_table, categorical_column, partition_column)\n",
    "    tvd_statistics = collect_two_sample_tvd_statistics(\n",
    "        label_splits_table, repetitions, categorical_column, partition_column,\n",
    "        first_sample_label, second_sample_label\n",
    "    )\n",
    "    permutation_test_tvd(tvd_statistics, tvd(true_dist[\"train\"], true_dist[\"test\"]))"
   ],
   "metadata": {
    "collapsed": false,
    "pycharm": {
     "name": "#%%\n"
    }
   }
  },
  {
   "cell_type": "code",
   "execution_count": 94,
   "outputs": [],
   "source": [
    "# perform_permutaton_test(label_splits_table, repetitions=200)"
   ],
   "metadata": {
    "collapsed": false,
    "pycharm": {
     "name": "#%%\n"
    }
   }
  },
  {
   "cell_type": "markdown",
   "source": [
    "## Stratified partitioning"
   ],
   "metadata": {
    "collapsed": false,
    "pycharm": {
     "name": "#%% md\n"
    }
   }
  },
  {
   "cell_type": "code",
   "execution_count": 102,
   "outputs": [
    {
     "data": {
      "text/plain": "label                APIServer  AST  AbstractEventLoop  ActionDistribution  \\\nid                                                                           \n7870724039590                0    0                  0                   0   \n34342456233015               0    0                  0                   0   \n44376233008669               0    0                  0                   0   \n63076365227901               0    0                  0                   0   \n76101598662259               0    0                  0                   0   \n...                        ...  ...                ...                 ...   \n1152687103501850749          0    0                  0                   0   \n1152691880915017955          0    0                  0                   0   \n1152703639889727535          0    0                  0                   0   \n1152810369938032329          0    0                  0                   0   \n1152876057458231108          0    0                  0                   0   \n\nlabel                Address  AnnData  AppSession  Application  \\\nid                                                               \n7870724039590              0        0           0            0   \n34342456233015             0        0           0            0   \n44376233008669             0        0           0            0   \n63076365227901             0        0           0            0   \n76101598662259             0        0           0            0   \n...                      ...      ...         ...          ...   \n1152687103501850749        0        0           0            0   \n1152691880915017955        0        0           0            0   \n1152703639889727535        0        0           0            0   \n1152810369938032329        0        0           0            0   \n1152876057458231108        0        0           0            0   \n\nlabel                ArgumentParser  ArrayLike  ...  xclim.indices.run_length  \\\nid                                              ...                             \n7870724039590                     0          0  ...                         0   \n34342456233015                    0          0  ...                         0   \n44376233008669                    0          0  ...                         0   \n63076365227901                    0          0  ...                         0   \n76101598662259                    0          0  ...                         0   \n...                             ...        ...  ...                       ...   \n1152687103501850749               0          0  ...                         0   \n1152691880915017955               0          0  ...                         0   \n1152703639889727535               0          0  ...                         0   \n1152810369938032329               0          0  ...                         0   \n1152876057458231108               0          0  ...                         0   \n\nlabel                xml.etree.ElementTree  \\\nid                                           \n7870724039590                            0   \n34342456233015                           0   \n44376233008669                           0   \n63076365227901                           0   \n76101598662259                           0   \n...                                    ...   \n1152687103501850749                      0   \n1152691880915017955                      0   \n1152703639889727535                      0   \n1152810369938032329                      0   \n1152876057458231108                      0   \n\nlabel                xml.etree.ElementTree.Element.attrib  \\\nid                                                          \n7870724039590                                           0   \n34342456233015                                          0   \n44376233008669                                          0   \n63076365227901                                          0   \n76101598662259                                          0   \n...                                                   ...   \n1152687103501850749                                     0   \n1152691880915017955                                     0   \n1152703639889727535                                     0   \n1152810369938032329                                     0   \n1152876057458231108                                     0   \n\nlabel                xml.etree.ElementTree.Element.find  \\\nid                                                        \n7870724039590                                         0   \n34342456233015                                        0   \n44376233008669                                        0   \n63076365227901                                        0   \n76101598662259                                        0   \n...                                                 ...   \n1152687103501850749                                   0   \n1152691880915017955                                   0   \n1152703639889727535                                   0   \n1152810369938032329                                   0   \n1152876057458231108                                   0   \n\nlabel                xml.etree.ElementTree.Element.get  \\\nid                                                       \n7870724039590                                        0   \n34342456233015                                       0   \n44376233008669                                       0   \n63076365227901                                       0   \n76101598662259                                       0   \n...                                                ...   \n1152687103501850749                                  0   \n1152691880915017955                                  0   \n1152703639889727535                                  0   \n1152810369938032329                                  0   \n1152876057458231108                                  0   \n\nlabel                xml.etree.ElementTree.Element.text  yaml  yaml.safe_load  \\\nid                                                                              \n7870724039590                                         0     0               0   \n34342456233015                                        0     0               0   \n44376233008669                                        0     0               0   \n63076365227901                                        0     0               0   \n76101598662259                                        0     0               0   \n...                                                 ...   ...             ...   \n1152687103501850749                                   0     0               0   \n1152691880915017955                                   0     0               0   \n1152703639889727535                                   0     0               0   \n1152810369938032329                                   0     0               0   \n1152876057458231108                                   0     0               0   \n\nlabel                zipfile.ZipFile.__init__  zlib  \nid                                                   \n7870724039590                               0     0  \n34342456233015                              0     0  \n44376233008669                              0     0  \n63076365227901                              0     0  \n76101598662259                              0     0  \n...                                       ...   ...  \n1152687103501850749                         0     0  \n1152691880915017955                         0     0  \n1152703639889727535                         0     0  \n1152810369938032329                         0     0  \n1152876057458231108                         0     0  \n\n[39877 rows x 1169 columns]",
      "text/html": "<div>\n<style scoped>\n    .dataframe tbody tr th:only-of-type {\n        vertical-align: middle;\n    }\n\n    .dataframe tbody tr th {\n        vertical-align: top;\n    }\n\n    .dataframe thead th {\n        text-align: right;\n    }\n</style>\n<table border=\"1\" class=\"dataframe\">\n  <thead>\n    <tr style=\"text-align: right;\">\n      <th>label</th>\n      <th>APIServer</th>\n      <th>AST</th>\n      <th>AbstractEventLoop</th>\n      <th>ActionDistribution</th>\n      <th>Address</th>\n      <th>AnnData</th>\n      <th>AppSession</th>\n      <th>Application</th>\n      <th>ArgumentParser</th>\n      <th>ArrayLike</th>\n      <th>...</th>\n      <th>xclim.indices.run_length</th>\n      <th>xml.etree.ElementTree</th>\n      <th>xml.etree.ElementTree.Element.attrib</th>\n      <th>xml.etree.ElementTree.Element.find</th>\n      <th>xml.etree.ElementTree.Element.get</th>\n      <th>xml.etree.ElementTree.Element.text</th>\n      <th>yaml</th>\n      <th>yaml.safe_load</th>\n      <th>zipfile.ZipFile.__init__</th>\n      <th>zlib</th>\n    </tr>\n    <tr>\n      <th>id</th>\n      <th></th>\n      <th></th>\n      <th></th>\n      <th></th>\n      <th></th>\n      <th></th>\n      <th></th>\n      <th></th>\n      <th></th>\n      <th></th>\n      <th></th>\n      <th></th>\n      <th></th>\n      <th></th>\n      <th></th>\n      <th></th>\n      <th></th>\n      <th></th>\n      <th></th>\n      <th></th>\n      <th></th>\n    </tr>\n  </thead>\n  <tbody>\n    <tr>\n      <th>7870724039590</th>\n      <td>0</td>\n      <td>0</td>\n      <td>0</td>\n      <td>0</td>\n      <td>0</td>\n      <td>0</td>\n      <td>0</td>\n      <td>0</td>\n      <td>0</td>\n      <td>0</td>\n      <td>...</td>\n      <td>0</td>\n      <td>0</td>\n      <td>0</td>\n      <td>0</td>\n      <td>0</td>\n      <td>0</td>\n      <td>0</td>\n      <td>0</td>\n      <td>0</td>\n      <td>0</td>\n    </tr>\n    <tr>\n      <th>34342456233015</th>\n      <td>0</td>\n      <td>0</td>\n      <td>0</td>\n      <td>0</td>\n      <td>0</td>\n      <td>0</td>\n      <td>0</td>\n      <td>0</td>\n      <td>0</td>\n      <td>0</td>\n      <td>...</td>\n      <td>0</td>\n      <td>0</td>\n      <td>0</td>\n      <td>0</td>\n      <td>0</td>\n      <td>0</td>\n      <td>0</td>\n      <td>0</td>\n      <td>0</td>\n      <td>0</td>\n    </tr>\n    <tr>\n      <th>44376233008669</th>\n      <td>0</td>\n      <td>0</td>\n      <td>0</td>\n      <td>0</td>\n      <td>0</td>\n      <td>0</td>\n      <td>0</td>\n      <td>0</td>\n      <td>0</td>\n      <td>0</td>\n      <td>...</td>\n      <td>0</td>\n      <td>0</td>\n      <td>0</td>\n      <td>0</td>\n      <td>0</td>\n      <td>0</td>\n      <td>0</td>\n      <td>0</td>\n      <td>0</td>\n      <td>0</td>\n    </tr>\n    <tr>\n      <th>63076365227901</th>\n      <td>0</td>\n      <td>0</td>\n      <td>0</td>\n      <td>0</td>\n      <td>0</td>\n      <td>0</td>\n      <td>0</td>\n      <td>0</td>\n      <td>0</td>\n      <td>0</td>\n      <td>...</td>\n      <td>0</td>\n      <td>0</td>\n      <td>0</td>\n      <td>0</td>\n      <td>0</td>\n      <td>0</td>\n      <td>0</td>\n      <td>0</td>\n      <td>0</td>\n      <td>0</td>\n    </tr>\n    <tr>\n      <th>76101598662259</th>\n      <td>0</td>\n      <td>0</td>\n      <td>0</td>\n      <td>0</td>\n      <td>0</td>\n      <td>0</td>\n      <td>0</td>\n      <td>0</td>\n      <td>0</td>\n      <td>0</td>\n      <td>...</td>\n      <td>0</td>\n      <td>0</td>\n      <td>0</td>\n      <td>0</td>\n      <td>0</td>\n      <td>0</td>\n      <td>0</td>\n      <td>0</td>\n      <td>0</td>\n      <td>0</td>\n    </tr>\n    <tr>\n      <th>...</th>\n      <td>...</td>\n      <td>...</td>\n      <td>...</td>\n      <td>...</td>\n      <td>...</td>\n      <td>...</td>\n      <td>...</td>\n      <td>...</td>\n      <td>...</td>\n      <td>...</td>\n      <td>...</td>\n      <td>...</td>\n      <td>...</td>\n      <td>...</td>\n      <td>...</td>\n      <td>...</td>\n      <td>...</td>\n      <td>...</td>\n      <td>...</td>\n      <td>...</td>\n      <td>...</td>\n    </tr>\n    <tr>\n      <th>1152687103501850749</th>\n      <td>0</td>\n      <td>0</td>\n      <td>0</td>\n      <td>0</td>\n      <td>0</td>\n      <td>0</td>\n      <td>0</td>\n      <td>0</td>\n      <td>0</td>\n      <td>0</td>\n      <td>...</td>\n      <td>0</td>\n      <td>0</td>\n      <td>0</td>\n      <td>0</td>\n      <td>0</td>\n      <td>0</td>\n      <td>0</td>\n      <td>0</td>\n      <td>0</td>\n      <td>0</td>\n    </tr>\n    <tr>\n      <th>1152691880915017955</th>\n      <td>0</td>\n      <td>0</td>\n      <td>0</td>\n      <td>0</td>\n      <td>0</td>\n      <td>0</td>\n      <td>0</td>\n      <td>0</td>\n      <td>0</td>\n      <td>0</td>\n      <td>...</td>\n      <td>0</td>\n      <td>0</td>\n      <td>0</td>\n      <td>0</td>\n      <td>0</td>\n      <td>0</td>\n      <td>0</td>\n      <td>0</td>\n      <td>0</td>\n      <td>0</td>\n    </tr>\n    <tr>\n      <th>1152703639889727535</th>\n      <td>0</td>\n      <td>0</td>\n      <td>0</td>\n      <td>0</td>\n      <td>0</td>\n      <td>0</td>\n      <td>0</td>\n      <td>0</td>\n      <td>0</td>\n      <td>0</td>\n      <td>...</td>\n      <td>0</td>\n      <td>0</td>\n      <td>0</td>\n      <td>0</td>\n      <td>0</td>\n      <td>0</td>\n      <td>0</td>\n      <td>0</td>\n      <td>0</td>\n      <td>0</td>\n    </tr>\n    <tr>\n      <th>1152810369938032329</th>\n      <td>0</td>\n      <td>0</td>\n      <td>0</td>\n      <td>0</td>\n      <td>0</td>\n      <td>0</td>\n      <td>0</td>\n      <td>0</td>\n      <td>0</td>\n      <td>0</td>\n      <td>...</td>\n      <td>0</td>\n      <td>0</td>\n      <td>0</td>\n      <td>0</td>\n      <td>0</td>\n      <td>0</td>\n      <td>0</td>\n      <td>0</td>\n      <td>0</td>\n      <td>0</td>\n    </tr>\n    <tr>\n      <th>1152876057458231108</th>\n      <td>0</td>\n      <td>0</td>\n      <td>0</td>\n      <td>0</td>\n      <td>0</td>\n      <td>0</td>\n      <td>0</td>\n      <td>0</td>\n      <td>0</td>\n      <td>0</td>\n      <td>...</td>\n      <td>0</td>\n      <td>0</td>\n      <td>0</td>\n      <td>0</td>\n      <td>0</td>\n      <td>0</td>\n      <td>0</td>\n      <td>0</td>\n      <td>0</td>\n      <td>0</td>\n    </tr>\n  </tbody>\n</table>\n<p>39877 rows × 1169 columns</p>\n</div>"
     },
     "execution_count": 102,
     "metadata": {},
     "output_type": "execute_result"
    }
   ],
   "source": [
    "def make_label_assignment_table(individual_records):\n",
    "    return pd.DataFrame(get_table_from_records(individual_records)[[\"id\", \"label\"]].groupby([\"id\", \"label\"])[\"label\"].agg(\"count\"))\\\n",
    "        .rename({\"label\": \"count\"}, axis=1)\\\n",
    "        .reset_index()\\\n",
    "        .pivot(index=\"id\", columns=\"label\", values=\"count\")\\\n",
    "        .fillna(0)\\\n",
    "        .astype(\"int64\")\n",
    "\n",
    "label_assignment = make_label_assignment_table(records_id_labels_no_invalid_frequent_has_ann_and_repl)\n",
    "label_assignment"
   ],
   "metadata": {
    "collapsed": false,
    "pycharm": {
     "name": "#%%\n"
    }
   }
  },
  {
   "cell_type": "code",
   "execution_count": 103,
   "outputs": [
    {
     "name": "stderr",
     "output_type": "stream",
     "text": [
      "Stratifying: 100%|██████████| 1169/1169 [00:46<00:00, 25.28it/s]\n"
     ]
    },
    {
     "name": "stdout",
     "output_type": "stream",
     "text": [
      "Records in total: 39877\n",
      "Records in train: 31930\n",
      "Records in test: 7947\n",
      "Proportion: 0.8007121899842015\n"
     ]
    }
   ],
   "source": [
    "def stratify(records, partition_column_name=\"partition\", frac=0.8):\n",
    "\n",
    "    unique_ids = set(map(lambda x: x[0], records))\n",
    "\n",
    "    label_assignment_ = make_label_assignment_table(records)\n",
    "    assert label_assignment_.shape[0] == len(unique_ids)\n",
    "    assert partition_column_name not in label_assignment_.columns, f\"Column name {partition_column_name} is in use. Choose another partition column name.\"\n",
    "\n",
    "    train_ids = set()\n",
    "    test_ids = set()\n",
    "    target_proportion = frac\n",
    "\n",
    "    def compute_proportion(num_total, target_proportion, in_train, not_assigned):\n",
    "        # target_p = (in_train + chosen_p * unlabeled) / (unlabeled + in_train + in_test)\n",
    "        # (target_p * (unlabeled + in_train + in_test) - in_train) / unlabeled\n",
    "        # not_labeled = records[partition_column_name].isna().sum()\n",
    "        if not_assigned == 0:\n",
    "            return -1.\n",
    "\n",
    "        # in_train = len(records.query(f\"{partition_column_name} == 'train'\"))\n",
    "        estimated_target = min((target_proportion * num_total - in_train) / not_assigned, 1.)\n",
    "\n",
    "        if estimated_target * not_assigned < 1.:\n",
    "            return 0.\n",
    "        return estimated_target\n",
    "\n",
    "    def assign_partition(table, ids, partition_name):\n",
    "        table.loc[table.index.map(lambda x: x in ids).values, partition_column_name] = partition_name\n",
    "\n",
    "    def get_entries_for_current_label(label):\n",
    "        return label_assignment_.loc[label_assignment_[label] > 0, [label, partition_column_name]]\n",
    "\n",
    "    sorted_label_count = label_assignment_.sum().sort_values()\n",
    "    label_assignment_[partition_column_name] = pd.NA  # init partitions\n",
    "\n",
    "    for ind, (label, count) in tqdm(enumerate(zip(sorted_label_count.index, sorted_label_count)), total=len(sorted_label_count), desc=\"Stratifying\"):\n",
    "        records_with_labels = get_entries_for_current_label(label)\n",
    "\n",
    "        not_assigned = records_with_labels.query(f\"{partition_column_name}.isna()\")\n",
    "        in_train = len(records_with_labels.query(f\"{partition_column_name} == 'train'\"))\n",
    "        proportion_for_this_label = compute_proportion(\n",
    "            num_total=len(records_with_labels), target_proportion=target_proportion, in_train=in_train,\n",
    "            not_assigned=len(not_assigned)\n",
    "        )\n",
    "\n",
    "        if proportion_for_this_label == 1.:\n",
    "            train_ids.update(not_assigned.index)\n",
    "        elif proportion_for_this_label == 0.:\n",
    "            test_ids.update(not_assigned.index)\n",
    "        elif proportion_for_this_label == -1.:  # nothing to assign\n",
    "            continue\n",
    "        else:\n",
    "            train, test = train_test_split(not_assigned, train_size=proportion_for_this_label)\n",
    "            train_ids.update(train.index)\n",
    "            test_ids.update(test.index)\n",
    "\n",
    "        assign_partition(label_assignment_, train_ids, \"train\")\n",
    "        assign_partition(label_assignment_, test_ids, \"test\")\n",
    "\n",
    "    assert label_assignment_.isna().sum().sum() == 0\n",
    "\n",
    "    return train_ids, test_ids\n",
    "\n",
    "train_ids_stratified, test_ids_stratified = stratify(records_id_labels_no_invalid_frequent_has_ann_and_repl)\n",
    "\n",
    "print(\"Records in total:\", len(train_ids_stratified) + len(test_ids_stratified))\n",
    "print(\"Records in train:\", len(train_ids_stratified))\n",
    "print(\"Records in test:\", len(test_ids_stratified))\n",
    "print(\"Proportion:\", len(train_ids_stratified) / (len(test_ids_stratified) + len(train_ids_stratified)))"
   ],
   "metadata": {
    "collapsed": false,
    "pycharm": {
     "name": "#%%\n"
    }
   }
  },
  {
   "cell_type": "code",
   "execution_count": 104,
   "outputs": [],
   "source": [
    "label_splits_stratified_table = get_label_table_from_splits(records_id_labels_no_invalid_frequent_has_ann_and_repl, train_ids_stratified, test_ids_stratified)\n",
    "true_dist_stratified = compute_distributions(label_splits_stratified_table, categorical_column=\"label\", partition_column=\"partition\")\n",
    "# plot_dist(true_dist_stratified)"
   ],
   "metadata": {
    "collapsed": false,
    "pycharm": {
     "name": "#%%\n"
    }
   }
  },
  {
   "cell_type": "code",
   "execution_count": 105,
   "outputs": [],
   "source": [
    "plt.close(\"all\")"
   ],
   "metadata": {
    "collapsed": false,
    "pycharm": {
     "name": "#%%\n"
    }
   }
  },
  {
   "cell_type": "code",
   "execution_count": 106,
   "outputs": [
    {
     "name": "stderr",
     "output_type": "stream",
     "text": [
      "Resampling: 100%|██████████| 200/200 [00:47<00:00,  4.18it/s]"
     ]
    },
    {
     "name": "stdout",
     "output_type": "stream",
     "text": [
      "Observed TVD: 0.02133430148879653\n",
      "Empirical P-value: 1.0\n"
     ]
    },
    {
     "name": "stderr",
     "output_type": "stream",
     "text": [
      "\n"
     ]
    },
    {
     "data": {
      "text/plain": "<Figure size 432x288 with 1 Axes>",
      "image/png": "[encoded data removed]"
     },
     "metadata": {
      "needs_background": "light"
     },
     "output_type": "display_data"
    }
   ],
   "source": [
    "perform_permutaton_test(label_splits_stratified_table, repetitions=200)"
   ],
   "metadata": {
    "collapsed": false,
    "pycharm": {
     "name": "#%%\n"
    }
   }
  },
  {
   "cell_type": "markdown",
   "source": [
    "## Human level performance"
   ],
   "metadata": {
    "collapsed": false,
    "pycharm": {
     "name": "#%% md\n"
    }
   }
  },
  {
   "cell_type": "code",
   "execution_count": 305,
   "outputs": [],
   "source": [
    "# train, test = train_test_split(csn_records_frequent, stratify=list(map(lambda x: x[1], csn_records_frequent)))\n",
    "    # list(map(lambda x: x[0], csn_labels_f)),\n",
    "    # list(map(lambda x: x[1], csn_labels_f))\n",
    "# )#, stratify=lbls)"
   ],
   "metadata": {
    "collapsed": false,
    "pycharm": {
     "name": "#%%\n"
    }
   }
  },
  {
   "cell_type": "code",
   "execution_count": 351,
   "outputs": [
    {
     "name": "stdout",
     "output_type": "stream",
     "text": [
      "Train labels:  325\n",
      "Test labels:  324\n"
     ]
    },
    {
     "data": {
      "text/plain": "<Figure size 1080x1080 with 1 Axes>",
      "image/png": "[encoded data removed]"
     },
     "metadata": {
      "needs_background": "light"
     },
     "output_type": "display_data"
    }
   ],
   "source": [
    "# def compute_distribution(records, split_ids):\n",
    "#     examples = []\n",
    "# \n",
    "#     for record_id, label in records:\n",
    "#         # print(record_id)\n",
    "#         if record_id in split_ids:\n",
    "#             examples.append(label)\n",
    "# \n",
    "#     counts = Counter(examples)\n",
    "#     total = sum(counts.values())\n",
    "# \n",
    "#     for key in counts:\n",
    "#         counts[key] /= total\n",
    "# \n",
    "#     return counts\n",
    "# \n",
    "# train_distribution = compute_distribution(csn_records_frequent, train_ids)\n",
    "# test_distribution = compute_distribution(csn_records_frequent, test_ids)\n",
    "# \n",
    "# difference = Counter()\n",
    "# for key in train_distribution:\n",
    "#     difference[key] = abs(train_distribution[key] - test_distribution[key]) / train_distribution[key]\n",
    "# \n",
    "# items_to_plot = 20\n",
    "# top_difference_labels, top_difference_amounts = zip(*list(difference.most_common())[:items_to_plot])\n",
    "# \n",
    "# # plt.bar(\n",
    "# #     top_difference_labels,\n",
    "# #     [test_distribution[key] for key in top_difference_labels]\n",
    "# # )\n",
    "# plt.figure(figsize=(15,15))\n",
    "# plt.bar(\n",
    "#     top_difference_labels,\n",
    "#     top_difference_amounts\n",
    "# )\n",
    "# plt.xticks(rotation=30, ha='right')\n",
    "# \n",
    "# \n",
    "# print(\"Train labels: \", len(train_distribution))\n",
    "# print(\"Test labels: \", len(test_distribution))\n",
    "# # print(\"Intersection: \", len(set(train_ids).intersection(set(test_ids))))"
   ],
   "metadata": {
    "collapsed": false,
    "pycharm": {
     "name": "#%%\n"
    }
   }
  },
  {
   "cell_type": "markdown",
   "source": [
    "## Filter Dataset"
   ],
   "metadata": {
    "collapsed": false,
    "pycharm": {
     "name": "#%% md\n"
    }
   }
  },
  {
   "cell_type": "code",
   "execution_count": 7,
   "outputs": [],
   "source": [
    "# train_ids = []\n",
    "# test_ids = []\n",
    "#\n",
    "# def add_ids_from_file(file_path, storage):\n",
    "#     with open(file_path, \"r\") as train_source:\n",
    "#         for line in train_source:\n",
    "#             data = json.loads(line)\n",
    "#             storage.append(data[1][\"id\"])\n",
    "#\n",
    "# folder_ = Path(\"codesearchnet_type_pred_global/\")\n",
    "# add_ids_from_file(folder_.joinpath(\"train_stratified_filtered.json\"), train_ids)\n",
    "# add_ids_from_file(folder_.joinpath(\"test_stratified_filtered.json\"), test_ids)"
   ],
   "metadata": {
    "collapsed": false,
    "pycharm": {
     "name": "#%%\n"
    }
   }
  },
  {
   "cell_type": "code",
   "execution_count": 107,
   "outputs": [
    {
     "name": "stdout",
     "output_type": "stream",
     "text": [
      "Filtered: 26386\n"
     ]
    }
   ],
   "source": [
    "def write_stratified_dataset(path, output_path, filter_set, train_ids, test_ids):\n",
    "    def _compute_text_id(text):\n",
    "        return abs(int(hashlib.md5(text.encode('utf-8')).hexdigest(), 16)) % 1152921504606846976\n",
    "\n",
    "    train_file = open(output_path.joinpath(\"train_stratified_filtered__.json\"), \"w\")\n",
    "    test_file = open(output_path.joinpath(\"test_stratified_filtered__.json\"), \"w\")\n",
    "\n",
    "    all_labels = []\n",
    "    filtered = 0\n",
    "    with open(path, \"r\") as source:\n",
    "        for line in source:\n",
    "            data = json.loads(line)\n",
    "\n",
    "            ents = [ent for ent in data[1][\"entities\"] if ent[2] in filter_set]\n",
    "            if len(ents) == 0:\n",
    "                filtered += 1\n",
    "                continue\n",
    "\n",
    "            new_replacements = []\n",
    "            for repl in data[1][\"replacements\"]:\n",
    "                repl_name = data[1][\"replacement_names\"][str(repl[2])]\n",
    "                if repl_name in filter_set:\n",
    "                    new_replacements.append(repl)\n",
    "\n",
    "            if len(new_replacements) == 0:\n",
    "                filtered += 1\n",
    "                continue\n",
    "\n",
    "            text_id = _compute_text_id(data[0])\n",
    "\n",
    "            data[1][\"entities\"] = ents\n",
    "            data[1][\"replacements\"] = new_replacements\n",
    "            data[1][\"id\"] = text_id\n",
    "\n",
    "            if text_id in train_ids:\n",
    "                sink = train_file\n",
    "            elif text_id in test_ids:\n",
    "                sink = test_file\n",
    "            else:\n",
    "                continue\n",
    "            sink.write(f\"{json.dumps(data)}\\n\")\n",
    "    print(\"Filtered:\", filtered)\n",
    "    return all_labels\n",
    "\n",
    "records_id_labels = write_stratified_dataset(\n",
    "    \"codesearchnet_type_pred_global/type_pred.json\",\n",
    "    output_path=Path(\"codesearchnet_type_pred_global/\"),\n",
    "    filter_set=labels_frequent,\n",
    "    train_ids=train_ids_stratified,\n",
    "    test_ids=test_ids_stratified\n",
    ")"
   ],
   "metadata": {
    "collapsed": false,
    "pycharm": {
     "name": "#%%\n"
    }
   }
  },
  {
   "cell_type": "code",
   "execution_count": null,
   "outputs": [],
   "source": [
    "ft500_path = \"/mnt/4A9EAC389EAC1F07/data/datasets/source_code/train_embeddings_for_code/py_150_vec_500/model\""
   ],
   "metadata": {
    "collapsed": false,
    "pycharm": {
     "name": "#%%\n"
    }
   }
  },
  {
   "cell_type": "markdown",
   "source": [
    "## Prepare global embeddings"
   ],
   "metadata": {
    "collapsed": false,
    "pycharm": {
     "name": "#%% md\n"
    }
   }
  },
  {
   "cell_type": "code",
   "execution_count": null,
   "outputs": [],
   "source": [
    "train_path = \"codesearchnet_type_pred_global/train_stratified_filtered.json\"\n",
    "test_path = \"codesearchnet_type_pred_global/test_stratified_filtered.json\"\n",
    "ft500_path = \"py_150_vec_500/model\""
   ],
   "metadata": {
    "collapsed": false,
    "pycharm": {
     "name": "#%%\n"
    }
   }
  },
  {
   "cell_type": "code",
   "execution_count": null,
   "outputs": [],
   "source": [
    "import gensim\n",
    "ft_model = gensim.models.FastText.load(ft500_path)"
   ],
   "metadata": {
    "collapsed": false,
    "pycharm": {
     "name": "#%%\n"
    }
   }
  },
  {
   "cell_type": "code",
   "execution_count": null,
   "outputs": [],
   "source": [
    "def prepare_embeddre_for_global_nodes(path):\n",
    "\n",
    "    train_file = path.joinpath(\"train_stratified_filtered.json\")\n",
    "    test_file = path.joinpath(\"test_stratified_filtered.json\")\n",
    "\n",
    "    def go_through_file(path, added_ids, id_order, embeddings):\n",
    "        with open(path, \"r\") as source:\n",
    "            for line in source:\n",
    "                data = json.loads(line)\n",
    "                for repl in data[1][\"replacements\"]:\n",
    "                    repl_id = repl[2]\n",
    "                    repl_name = data[1][\"replacement_names\"][str(repl_id)]\n",
    "                    repl_emb = ft_model.wv[repl_name]\n",
    "                    if repl_id not in added_ids:\n",
    "                        added_ids.add(repl_id)\n",
    "                        id_order.append(repl_id)\n",
    "                        embeddings.append(repl_emb)\n",
    "\n",
    "    added = set()\n",
    "    id_order = []\n",
    "    embeddings = []\n",
    "    go_through_file(train_file, added, id_order, embeddings)\n",
    "    go_through_file(test_file, added, id_order, embeddings)\n",
    "    return id_order, embeddings\n",
    "\n",
    "id_order, embeddings = prepare_embeddre_for_global_nodes(\n",
    "    Path(\"codesearchnet_type_pred_global/\"),\n",
    ")"
   ],
   "metadata": {
    "collapsed": false,
    "pycharm": {
     "name": "#%%\n"
    }
   }
  },
  {
   "cell_type": "code",
   "execution_count": null,
   "outputs": [],
   "source": [
    "from SourceCodeTools.models.Embedder import Embedder\n",
    "import numpy as np\n",
    "embedder = Embedder(dict(zip(id_order, range(len(id_order)))), np.array(embeddings))"
   ],
   "metadata": {
    "collapsed": false,
    "pycharm": {
     "name": "#%%\n"
    }
   }
  },
  {
   "cell_type": "code",
   "execution_count": null,
   "outputs": [],
   "source": [
    "import pickle\n",
    "pickle.dump(embedder, open(\"codesearchnet_type_pred_global/global_embedder.pkl\", \"wb\"))"
   ],
   "metadata": {
    "collapsed": false,
    "pycharm": {
     "name": "#%%\n"
    }
   }
  }
 ],
 "metadata": {
  "kernelspec": {
   "name": "sourcecodetools",
   "language": "python",
   "display_name": "SourceCodeTools"
  },
  "language_info": {
   "codemirror_mode": {
    "name": "ipython",
    "version": 2
   },
   "file_extension": ".py",
   "mimetype": "text/x-python",
   "name": "python",
   "nbconvert_exporter": "python",
   "pygments_lexer": "ipython2",
   "version": "2.7.6"
  }
 },
 "nbformat": 4,
 "nbformat_minor": 0
}
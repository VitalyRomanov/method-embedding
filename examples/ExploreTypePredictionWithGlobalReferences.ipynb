{
 "cells": [
  {
   "cell_type": "code",
   "execution_count": 17,
   "metadata": {
    "collapsed": true
   },
   "outputs": [],
   "source": [
    "%load_ext autoreload\n",
    "%autoreload 2"
   ]
  },
  {
   "cell_type": "code",
   "execution_count": 2,
   "outputs": [],
   "source": [
    "import hashlib\n",
    "\n",
    "import json\n",
    "\n",
    "from collections import Counter\n",
    "from pathlib import Path\n",
    "from itertools import chain\n",
    "\n",
    "from tqdm import tqdm\n",
    "import pandas as pd\n",
    "import matplotlib.pyplot as plt\n",
    "from sklearn.model_selection import train_test_split\n",
    "from SourceCodeTools.nlp import create_tokenizer\n",
    "\n",
    "from SourceCodeTools.code.data.file_utils import unpersist\n",
    "\n",
    "dataset_path = \"/Users/LTV/Documents/popular_packages/graph\"\n",
    "envs_path = \"/Users/LTV/Documents/popular_packages/envs/envs\""
   ],
   "metadata": {
    "collapsed": false,
    "pycharm": {
     "name": "#%%\n"
    }
   }
  },
  {
   "cell_type": "markdown",
   "source": [
    "## Read data"
   ],
   "metadata": {
    "collapsed": false,
    "pycharm": {
     "name": "#%% md\n"
    }
   }
  },
  {
   "cell_type": "code",
   "execution_count": 26,
   "outputs": [
    {
     "name": "stdout",
     "output_type": "stream",
     "text": [
      "Read 652766 annotations\n"
     ]
    }
   ],
   "source": [
    "def read_labels_from_json(path):\n",
    "    def _compute_text_id(text):\n",
    "        return abs(int(hashlib.md5(text.encode('utf-8')).hexdigest(), 16)) % 1152921504606846976\n",
    "\n",
    "    all_labels = []\n",
    "    with open(path, \"r\") as source:\n",
    "        for line in source:\n",
    "            data = json.loads(line)\n",
    "            text_id = _compute_text_id(data[0])\n",
    "            for _, _, e in data[1][\"entities\"]:\n",
    "                if e != \"\":\n",
    "                    all_labels.append((text_id, e.strip().strip()))\n",
    "            for repl_name in data[1][\"replacement_names\"].values():\n",
    "                all_labels.append((text_id, repl_name))\n",
    "            # print(data[1][\"entities\"])\n",
    "            # break\n",
    "    return all_labels\n",
    "\n",
    "records_id_labels = read_labels_from_json(\"/Users/LTV/Downloads/NitroShare/codesearchnet_type_pred_global/type_pred.json\")\n",
    "print(f\"Read {len(records_id_labels)} annotations\")"
   ],
   "metadata": {
    "collapsed": false,
    "pycharm": {
     "name": "#%%\n"
    }
   }
  },
  {
   "cell_type": "markdown",
   "source": [
    "## Remove invalid records"
   ],
   "metadata": {
    "collapsed": false
   }
  },
  {
   "cell_type": "code",
   "execution_count": 27,
   "outputs": [],
   "source": [
    "def select_labels(labels, select_fn):\n",
    "    return [label for label in labels if select_fn(label)]"
   ],
   "metadata": {
    "collapsed": false,
    "pycharm": {
     "name": "#%%\n"
    }
   }
  },
  {
   "cell_type": "code",
   "execution_count": 28,
   "outputs": [],
   "source": [
    "import nltk\n",
    "tokenizer = nltk.RegexpTokenizer(\"[\\w\\.]+\")\n",
    "\n",
    "def type_is_valid(type):\n",
    "    return (\n",
    "        (\"\\n\" not in type) and\n",
    "        (\"(\" not in type) and\n",
    "        (\")\" not in type) and\n",
    "        (\"|\" not in type) and\n",
    "        (\"*\" not in type) and\n",
    "        (\"<\" not in type) and\n",
    "        (\">\" not in type) and\n",
    "        # (\" or \" not in type) and\n",
    "        (len(type) > 2) and\n",
    "        (type.count(\"[\") == type.count(\"]\")) and\n",
    "        (type.count(\"\\\"\") % 2 == 0) and\n",
    "        (type.count(\"\\'\") % 2 == 0) and\n",
    "        (type != \"Optional[Any]\") and\n",
    "        (type != \"Any\") and\n",
    "        (type != \"Optional\") and\n",
    "        (type != \"object\") and\n",
    "        (not (\",\" in type and \"[\" not in type)) and\n",
    "        (not (\"[\" not in type and len(tokenizer.tokenize(type)) > 1))\n",
    "    )"
   ],
   "metadata": {
    "collapsed": false,
    "pycharm": {
     "name": "#%%\n"
    }
   }
  },
  {
   "cell_type": "code",
   "execution_count": 9,
   "outputs": [
    {
     "data": {
      "text/plain": "['autoboto.services.acm-pca.client.Client.create_certificate_authority',\n 'autoboto.services.acm-pca.client.Client.create_certificate_authority_audit_report',\n 'autoboto.services.acm-pca.client.Client.delete_certificate_authority',\n 'autoboto.services.acm-pca.client.Client.describe_certificate_authority',\n 'autoboto.services.acm-pca.client.Client.describe_certificate_authority_audit_report',\n 'autoboto.services.acm-pca.client.Client.get_certificate',\n 'autoboto.services.acm-pca.client.Client.get_certificate_authority_certificate',\n 'autoboto.services.acm-pca.client.Client.get_certificate_authority_csr',\n 'autoboto.services.acm-pca.client.Client.import_certificate_authority_certificate',\n 'autoboto.services.acm-pca.client.Client.issue_certificate',\n 'autoboto.services.acm-pca.client.Client.list_certificate_authorities',\n 'autoboto.services.acm-pca.client.Client.list_tags',\n 'autoboto.services.acm-pca.client.Client.restore_certificate_authority',\n 'autoboto.services.acm-pca.client.Client.revoke_certificate',\n 'autoboto.services.acm-pca.client.Client.tag_certificate_authority',\n 'autoboto.services.acm-pca.client.Client.untag_certificate_authority',\n 'autoboto.services.acm-pca.client.Client.update_certificate_authority',\n 'autoboto.services.acm-pca.shapes',\n 'autoboto.services.acm-pca.shapes.CreateCertificateAuthorityAuditReportRequest.__init__',\n 'autoboto.services.acm-pca.shapes.CreateCertificateAuthorityAuditReportResponse',\n 'autoboto.services.acm-pca.shapes.CreateCertificateAuthorityRequest.__init__',\n 'autoboto.services.acm-pca.shapes.CreateCertificateAuthorityResponse',\n 'autoboto.services.acm-pca.shapes.DeleteCertificateAuthorityRequest.__init__',\n 'autoboto.services.acm-pca.shapes.DescribeCertificateAuthorityAuditReportRequest.__init__',\n 'autoboto.services.acm-pca.shapes.DescribeCertificateAuthorityAuditReportResponse',\n 'autoboto.services.acm-pca.shapes.DescribeCertificateAuthorityRequest.__init__',\n 'autoboto.services.acm-pca.shapes.DescribeCertificateAuthorityResponse',\n 'autoboto.services.acm-pca.shapes.GetCertificateAuthorityCertificateRequest.__init__',\n 'autoboto.services.acm-pca.shapes.GetCertificateAuthorityCertificateResponse',\n 'autoboto.services.acm-pca.shapes.GetCertificateAuthorityCsrRequest.__init__',\n 'autoboto.services.acm-pca.shapes.GetCertificateAuthorityCsrResponse',\n 'autoboto.services.acm-pca.shapes.GetCertificateRequest.__init__',\n 'autoboto.services.acm-pca.shapes.GetCertificateResponse',\n 'autoboto.services.acm-pca.shapes.ImportCertificateAuthorityCertificateRequest.__init__',\n 'autoboto.services.acm-pca.shapes.IssueCertificateRequest.__init__',\n 'autoboto.services.acm-pca.shapes.IssueCertificateResponse',\n 'autoboto.services.acm-pca.shapes.ListCertificateAuthoritiesRequest.__init__',\n 'autoboto.services.acm-pca.shapes.ListCertificateAuthoritiesResponse',\n 'autoboto.services.acm-pca.shapes.ListTagsRequest.__init__',\n 'autoboto.services.acm-pca.shapes.ListTagsResponse',\n 'autoboto.services.acm-pca.shapes.RestoreCertificateAuthorityRequest.__init__',\n 'autoboto.services.acm-pca.shapes.RevokeCertificateRequest.__init__',\n 'autoboto.services.acm-pca.shapes.TagCertificateAuthorityRequest.__init__',\n 'autoboto.services.acm-pca.shapes.UntagCertificateAuthorityRequest.__init__',\n 'autoboto.services.acm-pca.shapes.UpdateCertificateAuthorityRequest.__init__',\n 'autoboto.services.application-autoscaling.client.Client.delete_scaling_policy',\n 'autoboto.services.application-autoscaling.client.Client.delete_scheduled_action',\n 'autoboto.services.application-autoscaling.client.Client.deregister_scalable_target',\n 'autoboto.services.application-autoscaling.client.Client.describe_scalable_targets',\n 'autoboto.services.application-autoscaling.client.Client.describe_scaling_activities',\n 'autoboto.services.application-autoscaling.client.Client.describe_scaling_policies',\n 'autoboto.services.application-autoscaling.client.Client.describe_scheduled_actions',\n 'autoboto.services.application-autoscaling.client.Client.put_scaling_policy',\n 'autoboto.services.application-autoscaling.client.Client.put_scheduled_action',\n 'autoboto.services.application-autoscaling.client.Client.register_scalable_target',\n 'autoboto.services.application-autoscaling.shapes',\n 'autoboto.services.application-autoscaling.shapes.DeleteScalingPolicyRequest.__init__',\n 'autoboto.services.application-autoscaling.shapes.DeleteScalingPolicyResponse',\n 'autoboto.services.application-autoscaling.shapes.DeleteScheduledActionRequest.__init__',\n 'autoboto.services.application-autoscaling.shapes.DeleteScheduledActionResponse',\n 'autoboto.services.application-autoscaling.shapes.DeregisterScalableTargetRequest.__init__',\n 'autoboto.services.application-autoscaling.shapes.DeregisterScalableTargetResponse',\n 'autoboto.services.application-autoscaling.shapes.DescribeScalableTargetsRequest.__init__',\n 'autoboto.services.application-autoscaling.shapes.DescribeScalableTargetsResponse',\n 'autoboto.services.application-autoscaling.shapes.DescribeScalingActivitiesRequest.__init__',\n 'autoboto.services.application-autoscaling.shapes.DescribeScalingActivitiesResponse',\n 'autoboto.services.application-autoscaling.shapes.DescribeScalingPoliciesRequest.__init__',\n 'autoboto.services.application-autoscaling.shapes.DescribeScalingPoliciesResponse',\n 'autoboto.services.application-autoscaling.shapes.DescribeScheduledActionsRequest.__init__',\n 'autoboto.services.application-autoscaling.shapes.DescribeScheduledActionsResponse',\n 'autoboto.services.application-autoscaling.shapes.PutScalingPolicyRequest.__init__',\n 'autoboto.services.application-autoscaling.shapes.PutScalingPolicyResponse',\n 'autoboto.services.application-autoscaling.shapes.PutScheduledActionRequest.__init__',\n 'autoboto.services.application-autoscaling.shapes.PutScheduledActionResponse',\n 'autoboto.services.application-autoscaling.shapes.RegisterScalableTargetRequest.__init__',\n 'autoboto.services.application-autoscaling.shapes.RegisterScalableTargetResponse',\n 'autoboto.services.autoscaling-plans.client.Client.create_scaling_plan',\n 'autoboto.services.autoscaling-plans.client.Client.delete_scaling_plan',\n 'autoboto.services.autoscaling-plans.client.Client.describe_scaling_plan_resources',\n 'autoboto.services.autoscaling-plans.client.Client.describe_scaling_plans',\n 'autoboto.services.autoscaling-plans.client.Client.update_scaling_plan',\n 'autoboto.services.autoscaling-plans.shapes',\n 'autoboto.services.autoscaling-plans.shapes.CreateScalingPlanRequest.__init__',\n 'autoboto.services.autoscaling-plans.shapes.CreateScalingPlanResponse',\n 'autoboto.services.autoscaling-plans.shapes.DeleteScalingPlanRequest.__init__',\n 'autoboto.services.autoscaling-plans.shapes.DeleteScalingPlanResponse',\n 'autoboto.services.autoscaling-plans.shapes.DescribeScalingPlanResourcesRequest.__init__',\n 'autoboto.services.autoscaling-plans.shapes.DescribeScalingPlanResourcesResponse',\n 'autoboto.services.autoscaling-plans.shapes.DescribeScalingPlansRequest.__init__',\n 'autoboto.services.autoscaling-plans.shapes.DescribeScalingPlansResponse',\n 'autoboto.services.autoscaling-plans.shapes.UpdateScalingPlanRequest.__init__',\n 'autoboto.services.autoscaling-plans.shapes.UpdateScalingPlanResponse',\n 'autoboto.services.cognito-identity.client.Client.create_identity_pool',\n 'autoboto.services.cognito-identity.client.Client.delete_identities',\n 'autoboto.services.cognito-identity.client.Client.delete_identity_pool',\n 'autoboto.services.cognito-identity.client.Client.describe_identity',\n 'autoboto.services.cognito-identity.client.Client.describe_identity_pool',\n 'autoboto.services.cognito-identity.client.Client.get_credentials_for_identity',\n 'autoboto.services.cognito-identity.client.Client.get_id',\n 'autoboto.services.cognito-identity.client.Client.get_identity_pool_roles',\n 'autoboto.services.cognito-identity.client.Client.get_open_id_token',\n 'autoboto.services.cognito-identity.client.Client.get_open_id_token_for_developer_identity',\n 'autoboto.services.cognito-identity.client.Client.list_identities',\n 'autoboto.services.cognito-identity.client.Client.list_identity_pools',\n 'autoboto.services.cognito-identity.client.Client.lookup_developer_identity',\n 'autoboto.services.cognito-identity.client.Client.merge_developer_identities',\n 'autoboto.services.cognito-identity.client.Client.set_identity_pool_roles',\n 'autoboto.services.cognito-identity.client.Client.unlink_developer_identity',\n 'autoboto.services.cognito-identity.client.Client.unlink_identity',\n 'autoboto.services.cognito-identity.client.Client.update_identity_pool',\n 'autoboto.services.cognito-identity.shapes',\n 'autoboto.services.cognito-identity.shapes.CreateIdentityPoolInput.__init__',\n 'autoboto.services.cognito-identity.shapes.DeleteIdentitiesInput.__init__',\n 'autoboto.services.cognito-identity.shapes.DeleteIdentitiesResponse',\n 'autoboto.services.cognito-identity.shapes.DeleteIdentityPoolInput.__init__',\n 'autoboto.services.cognito-identity.shapes.DescribeIdentityInput.__init__',\n 'autoboto.services.cognito-identity.shapes.DescribeIdentityPoolInput.__init__',\n 'autoboto.services.cognito-identity.shapes.GetCredentialsForIdentityInput.__init__',\n 'autoboto.services.cognito-identity.shapes.GetCredentialsForIdentityResponse',\n 'autoboto.services.cognito-identity.shapes.GetIdInput.__init__',\n 'autoboto.services.cognito-identity.shapes.GetIdResponse',\n 'autoboto.services.cognito-identity.shapes.GetIdentityPoolRolesInput.__init__',\n 'autoboto.services.cognito-identity.shapes.GetIdentityPoolRolesResponse',\n 'autoboto.services.cognito-identity.shapes.GetOpenIdTokenForDeveloperIdentityInput.__init__',\n 'autoboto.services.cognito-identity.shapes.GetOpenIdTokenForDeveloperIdentityResponse',\n 'autoboto.services.cognito-identity.shapes.GetOpenIdTokenInput.__init__',\n 'autoboto.services.cognito-identity.shapes.GetOpenIdTokenResponse',\n 'autoboto.services.cognito-identity.shapes.IdentityDescription',\n 'autoboto.services.cognito-identity.shapes.IdentityPool',\n 'autoboto.services.cognito-identity.shapes.IdentityPool.__init__',\n 'autoboto.services.cognito-identity.shapes.ListIdentitiesInput.__init__',\n 'autoboto.services.cognito-identity.shapes.ListIdentitiesResponse',\n 'autoboto.services.cognito-identity.shapes.ListIdentityPoolsInput.__init__',\n 'autoboto.services.cognito-identity.shapes.ListIdentityPoolsResponse',\n 'autoboto.services.cognito-identity.shapes.LookupDeveloperIdentityInput.__init__',\n 'autoboto.services.cognito-identity.shapes.LookupDeveloperIdentityResponse',\n 'autoboto.services.cognito-identity.shapes.MergeDeveloperIdentitiesInput.__init__',\n 'autoboto.services.cognito-identity.shapes.MergeDeveloperIdentitiesResponse',\n 'autoboto.services.cognito-identity.shapes.SetIdentityPoolRolesInput.__init__',\n 'autoboto.services.cognito-identity.shapes.UnlinkDeveloperIdentityInput.__init__',\n 'autoboto.services.cognito-identity.shapes.UnlinkIdentityInput.__init__',\n 'autoboto.services.cognito-idp.client.Client.add_custom_attributes',\n 'autoboto.services.cognito-idp.client.Client.admin_add_user_to_group',\n 'autoboto.services.cognito-idp.client.Client.admin_confirm_sign_up',\n 'autoboto.services.cognito-idp.client.Client.admin_create_user',\n 'autoboto.services.cognito-idp.client.Client.admin_delete_user',\n 'autoboto.services.cognito-idp.client.Client.admin_delete_user_attributes',\n 'autoboto.services.cognito-idp.client.Client.admin_disable_provider_for_user',\n 'autoboto.services.cognito-idp.client.Client.admin_disable_user',\n 'autoboto.services.cognito-idp.client.Client.admin_enable_user',\n 'autoboto.services.cognito-idp.client.Client.admin_forget_device',\n 'autoboto.services.cognito-idp.client.Client.admin_get_device',\n 'autoboto.services.cognito-idp.client.Client.admin_get_user',\n 'autoboto.services.cognito-idp.client.Client.admin_initiate_auth',\n 'autoboto.services.cognito-idp.client.Client.admin_link_provider_for_user',\n 'autoboto.services.cognito-idp.client.Client.admin_list_devices',\n 'autoboto.services.cognito-idp.client.Client.admin_list_groups_for_user',\n 'autoboto.services.cognito-idp.client.Client.admin_list_user_auth_events',\n 'autoboto.services.cognito-idp.client.Client.admin_remove_user_from_group',\n 'autoboto.services.cognito-idp.client.Client.admin_reset_user_password',\n 'autoboto.services.cognito-idp.client.Client.admin_respond_to_auth_challenge',\n 'autoboto.services.cognito-idp.client.Client.admin_set_user_mfa_preference',\n 'autoboto.services.cognito-idp.client.Client.admin_set_user_settings',\n 'autoboto.services.cognito-idp.client.Client.admin_update_auth_event_feedback',\n 'autoboto.services.cognito-idp.client.Client.admin_update_device_status',\n 'autoboto.services.cognito-idp.client.Client.admin_update_user_attributes',\n 'autoboto.services.cognito-idp.client.Client.admin_user_global_sign_out',\n 'autoboto.services.cognito-idp.client.Client.associate_software_token',\n 'autoboto.services.cognito-idp.client.Client.change_password',\n 'autoboto.services.cognito-idp.client.Client.confirm_device',\n 'autoboto.services.cognito-idp.client.Client.confirm_forgot_password',\n 'autoboto.services.cognito-idp.client.Client.confirm_sign_up',\n 'autoboto.services.cognito-idp.client.Client.create_group',\n 'autoboto.services.cognito-idp.client.Client.create_identity_provider',\n 'autoboto.services.cognito-idp.client.Client.create_resource_server',\n 'autoboto.services.cognito-idp.client.Client.create_user_import_job',\n 'autoboto.services.cognito-idp.client.Client.create_user_pool',\n 'autoboto.services.cognito-idp.client.Client.create_user_pool_client',\n 'autoboto.services.cognito-idp.client.Client.create_user_pool_domain',\n 'autoboto.services.cognito-idp.client.Client.delete_group',\n 'autoboto.services.cognito-idp.client.Client.delete_identity_provider',\n 'autoboto.services.cognito-idp.client.Client.delete_resource_server',\n 'autoboto.services.cognito-idp.client.Client.delete_user',\n 'autoboto.services.cognito-idp.client.Client.delete_user_attributes',\n 'autoboto.services.cognito-idp.client.Client.delete_user_pool',\n 'autoboto.services.cognito-idp.client.Client.delete_user_pool_client',\n 'autoboto.services.cognito-idp.client.Client.delete_user_pool_domain',\n 'autoboto.services.cognito-idp.client.Client.describe_identity_provider',\n 'autoboto.services.cognito-idp.client.Client.describe_resource_server',\n 'autoboto.services.cognito-idp.client.Client.describe_risk_configuration',\n 'autoboto.services.cognito-idp.client.Client.describe_user_import_job',\n 'autoboto.services.cognito-idp.client.Client.describe_user_pool',\n 'autoboto.services.cognito-idp.client.Client.describe_user_pool_client',\n 'autoboto.services.cognito-idp.client.Client.describe_user_pool_domain',\n 'autoboto.services.cognito-idp.client.Client.forget_device',\n 'autoboto.services.cognito-idp.client.Client.forgot_password',\n 'autoboto.services.cognito-idp.client.Client.get_csv_header',\n 'autoboto.services.cognito-idp.client.Client.get_device',\n 'autoboto.services.cognito-idp.client.Client.get_group',\n 'autoboto.services.cognito-idp.client.Client.get_identity_provider_by_identifier',\n 'autoboto.services.cognito-idp.client.Client.get_signing_certificate',\n 'autoboto.services.cognito-idp.client.Client.get_ui_customization',\n 'autoboto.services.cognito-idp.client.Client.get_user',\n 'autoboto.services.cognito-idp.client.Client.get_user_attribute_verification_code',\n 'autoboto.services.cognito-idp.client.Client.get_user_pool_mfa_config',\n 'autoboto.services.cognito-idp.client.Client.global_sign_out',\n 'autoboto.services.cognito-idp.client.Client.initiate_auth',\n 'autoboto.services.cognito-idp.client.Client.list_devices',\n 'autoboto.services.cognito-idp.client.Client.list_groups',\n 'autoboto.services.cognito-idp.client.Client.list_identity_providers',\n 'autoboto.services.cognito-idp.client.Client.list_resource_servers',\n 'autoboto.services.cognito-idp.client.Client.list_user_import_jobs',\n 'autoboto.services.cognito-idp.client.Client.list_user_pool_clients',\n 'autoboto.services.cognito-idp.client.Client.list_user_pools',\n 'autoboto.services.cognito-idp.client.Client.list_users',\n 'autoboto.services.cognito-idp.client.Client.list_users_in_group',\n 'autoboto.services.cognito-idp.client.Client.resend_confirmation_code',\n 'autoboto.services.cognito-idp.client.Client.respond_to_auth_challenge',\n 'autoboto.services.cognito-idp.client.Client.set_risk_configuration',\n 'autoboto.services.cognito-idp.client.Client.set_ui_customization',\n 'autoboto.services.cognito-idp.client.Client.set_user_mfa_preference',\n 'autoboto.services.cognito-idp.client.Client.set_user_pool_mfa_config',\n 'autoboto.services.cognito-idp.client.Client.set_user_settings',\n 'autoboto.services.cognito-idp.client.Client.sign_up',\n 'autoboto.services.cognito-idp.client.Client.start_user_import_job',\n 'autoboto.services.cognito-idp.client.Client.stop_user_import_job',\n 'autoboto.services.cognito-idp.client.Client.update_auth_event_feedback',\n 'autoboto.services.cognito-idp.client.Client.update_device_status',\n 'autoboto.services.cognito-idp.client.Client.update_group',\n 'autoboto.services.cognito-idp.client.Client.update_identity_provider',\n 'autoboto.services.cognito-idp.client.Client.update_resource_server',\n 'autoboto.services.cognito-idp.client.Client.update_user_attributes',\n 'autoboto.services.cognito-idp.client.Client.update_user_pool',\n 'autoboto.services.cognito-idp.client.Client.update_user_pool_client',\n 'autoboto.services.cognito-idp.client.Client.verify_software_token',\n 'autoboto.services.cognito-idp.client.Client.verify_user_attribute',\n 'autoboto.services.cognito-idp.shapes',\n 'autoboto.services.cognito-idp.shapes.AddCustomAttributesRequest.__init__',\n 'autoboto.services.cognito-idp.shapes.AddCustomAttributesResponse',\n 'autoboto.services.cognito-idp.shapes.AdminAddUserToGroupRequest.__init__',\n 'autoboto.services.cognito-idp.shapes.AdminConfirmSignUpRequest.__init__',\n 'autoboto.services.cognito-idp.shapes.AdminConfirmSignUpResponse',\n 'autoboto.services.cognito-idp.shapes.AdminCreateUserRequest.__init__',\n 'autoboto.services.cognito-idp.shapes.AdminCreateUserResponse',\n 'autoboto.services.cognito-idp.shapes.AdminDeleteUserAttributesRequest.__init__',\n 'autoboto.services.cognito-idp.shapes.AdminDeleteUserAttributesResponse',\n 'autoboto.services.cognito-idp.shapes.AdminDeleteUserRequest.__init__',\n 'autoboto.services.cognito-idp.shapes.AdminDisableProviderForUserRequest.__init__',\n 'autoboto.services.cognito-idp.shapes.AdminDisableProviderForUserResponse',\n 'autoboto.services.cognito-idp.shapes.AdminDisableUserRequest.__init__',\n 'autoboto.services.cognito-idp.shapes.AdminDisableUserResponse',\n 'autoboto.services.cognito-idp.shapes.AdminEnableUserRequest.__init__',\n 'autoboto.services.cognito-idp.shapes.AdminEnableUserResponse',\n 'autoboto.services.cognito-idp.shapes.AdminForgetDeviceRequest.__init__',\n 'autoboto.services.cognito-idp.shapes.AdminGetDeviceRequest.__init__',\n 'autoboto.services.cognito-idp.shapes.AdminGetDeviceResponse',\n 'autoboto.services.cognito-idp.shapes.AdminGetUserRequest.__init__',\n 'autoboto.services.cognito-idp.shapes.AdminGetUserResponse',\n 'autoboto.services.cognito-idp.shapes.AdminInitiateAuthRequest.__init__',\n 'autoboto.services.cognito-idp.shapes.AdminInitiateAuthResponse',\n 'autoboto.services.cognito-idp.shapes.AdminLinkProviderForUserRequest.__init__',\n 'autoboto.services.cognito-idp.shapes.AdminLinkProviderForUserResponse',\n 'autoboto.services.cognito-idp.shapes.AdminListDevicesRequest.__init__',\n 'autoboto.services.cognito-idp.shapes.AdminListDevicesResponse',\n 'autoboto.services.cognito-idp.shapes.AdminListGroupsForUserRequest.__init__',\n 'autoboto.services.cognito-idp.shapes.AdminListGroupsForUserResponse',\n 'autoboto.services.cognito-idp.shapes.AdminListUserAuthEventsRequest.__init__',\n 'autoboto.services.cognito-idp.shapes.AdminListUserAuthEventsResponse',\n 'autoboto.services.cognito-idp.shapes.AdminRemoveUserFromGroupRequest.__init__',\n 'autoboto.services.cognito-idp.shapes.AdminResetUserPasswordRequest.__init__',\n 'autoboto.services.cognito-idp.shapes.AdminResetUserPasswordResponse',\n 'autoboto.services.cognito-idp.shapes.AdminRespondToAuthChallengeRequest.__init__',\n 'autoboto.services.cognito-idp.shapes.AdminRespondToAuthChallengeResponse',\n 'autoboto.services.cognito-idp.shapes.AdminSetUserMFAPreferenceRequest.__init__',\n 'autoboto.services.cognito-idp.shapes.AdminSetUserMFAPreferenceResponse',\n 'autoboto.services.cognito-idp.shapes.AdminSetUserSettingsRequest.__init__',\n 'autoboto.services.cognito-idp.shapes.AdminSetUserSettingsResponse',\n 'autoboto.services.cognito-idp.shapes.AdminUpdateAuthEventFeedbackRequest.__init__',\n 'autoboto.services.cognito-idp.shapes.AdminUpdateAuthEventFeedbackResponse',\n 'autoboto.services.cognito-idp.shapes.AdminUpdateDeviceStatusRequest.__init__',\n 'autoboto.services.cognito-idp.shapes.AdminUpdateDeviceStatusResponse',\n 'autoboto.services.cognito-idp.shapes.AdminUpdateUserAttributesRequest.__init__',\n 'autoboto.services.cognito-idp.shapes.AdminUpdateUserAttributesResponse',\n 'autoboto.services.cognito-idp.shapes.AdminUserGlobalSignOutRequest.__init__',\n 'autoboto.services.cognito-idp.shapes.AdminUserGlobalSignOutResponse',\n 'autoboto.services.cognito-idp.shapes.AssociateSoftwareTokenRequest.__init__',\n 'autoboto.services.cognito-idp.shapes.AssociateSoftwareTokenResponse',\n 'autoboto.services.cognito-idp.shapes.ChangePasswordRequest.__init__',\n 'autoboto.services.cognito-idp.shapes.ChangePasswordResponse',\n 'autoboto.services.cognito-idp.shapes.ConfirmDeviceRequest.__init__',\n 'autoboto.services.cognito-idp.shapes.ConfirmDeviceResponse',\n 'autoboto.services.cognito-idp.shapes.ConfirmForgotPasswordRequest.__init__',\n 'autoboto.services.cognito-idp.shapes.ConfirmForgotPasswordResponse',\n 'autoboto.services.cognito-idp.shapes.ConfirmSignUpRequest.__init__',\n 'autoboto.services.cognito-idp.shapes.ConfirmSignUpResponse',\n 'autoboto.services.cognito-idp.shapes.CreateGroupRequest.__init__',\n 'autoboto.services.cognito-idp.shapes.CreateGroupResponse',\n 'autoboto.services.cognito-idp.shapes.CreateIdentityProviderRequest.__init__',\n 'autoboto.services.cognito-idp.shapes.CreateIdentityProviderResponse',\n 'autoboto.services.cognito-idp.shapes.CreateResourceServerRequest.__init__',\n 'autoboto.services.cognito-idp.shapes.CreateResourceServerResponse',\n 'autoboto.services.cognito-idp.shapes.CreateUserImportJobRequest.__init__',\n 'autoboto.services.cognito-idp.shapes.CreateUserImportJobResponse',\n 'autoboto.services.cognito-idp.shapes.CreateUserPoolClientRequest.__init__',\n 'autoboto.services.cognito-idp.shapes.CreateUserPoolClientResponse',\n 'autoboto.services.cognito-idp.shapes.CreateUserPoolDomainRequest.__init__',\n 'autoboto.services.cognito-idp.shapes.CreateUserPoolDomainResponse',\n 'autoboto.services.cognito-idp.shapes.CreateUserPoolRequest.__init__',\n 'autoboto.services.cognito-idp.shapes.CreateUserPoolResponse',\n 'autoboto.services.cognito-idp.shapes.DeleteGroupRequest.__init__',\n 'autoboto.services.cognito-idp.shapes.DeleteIdentityProviderRequest.__init__',\n 'autoboto.services.cognito-idp.shapes.DeleteResourceServerRequest.__init__',\n 'autoboto.services.cognito-idp.shapes.DeleteUserAttributesRequest.__init__',\n 'autoboto.services.cognito-idp.shapes.DeleteUserAttributesResponse',\n 'autoboto.services.cognito-idp.shapes.DeleteUserPoolClientRequest.__init__',\n 'autoboto.services.cognito-idp.shapes.DeleteUserPoolDomainRequest.__init__',\n 'autoboto.services.cognito-idp.shapes.DeleteUserPoolDomainResponse',\n 'autoboto.services.cognito-idp.shapes.DeleteUserPoolRequest.__init__',\n 'autoboto.services.cognito-idp.shapes.DeleteUserRequest.__init__',\n 'autoboto.services.cognito-idp.shapes.DescribeIdentityProviderRequest.__init__',\n 'autoboto.services.cognito-idp.shapes.DescribeIdentityProviderResponse',\n 'autoboto.services.cognito-idp.shapes.DescribeResourceServerRequest.__init__',\n 'autoboto.services.cognito-idp.shapes.DescribeResourceServerResponse',\n 'autoboto.services.cognito-idp.shapes.DescribeRiskConfigurationRequest.__init__',\n 'autoboto.services.cognito-idp.shapes.DescribeRiskConfigurationResponse',\n 'autoboto.services.cognito-idp.shapes.DescribeUserImportJobRequest.__init__',\n 'autoboto.services.cognito-idp.shapes.DescribeUserImportJobResponse',\n 'autoboto.services.cognito-idp.shapes.DescribeUserPoolClientRequest.__init__',\n 'autoboto.services.cognito-idp.shapes.DescribeUserPoolClientResponse',\n 'autoboto.services.cognito-idp.shapes.DescribeUserPoolDomainRequest.__init__',\n 'autoboto.services.cognito-idp.shapes.DescribeUserPoolDomainResponse',\n 'autoboto.services.cognito-idp.shapes.DescribeUserPoolRequest.__init__',\n 'autoboto.services.cognito-idp.shapes.DescribeUserPoolResponse',\n 'autoboto.services.cognito-idp.shapes.ForgetDeviceRequest.__init__',\n 'autoboto.services.cognito-idp.shapes.ForgotPasswordRequest.__init__',\n 'autoboto.services.cognito-idp.shapes.ForgotPasswordResponse',\n 'autoboto.services.cognito-idp.shapes.GetCSVHeaderRequest.__init__',\n 'autoboto.services.cognito-idp.shapes.GetCSVHeaderResponse',\n 'autoboto.services.cognito-idp.shapes.GetDeviceRequest.__init__',\n 'autoboto.services.cognito-idp.shapes.GetDeviceResponse',\n 'autoboto.services.cognito-idp.shapes.GetGroupRequest.__init__',\n 'autoboto.services.cognito-idp.shapes.GetGroupResponse',\n 'autoboto.services.cognito-idp.shapes.GetIdentityProviderByIdentifierRequest.__init__',\n 'autoboto.services.cognito-idp.shapes.GetIdentityProviderByIdentifierResponse',\n 'autoboto.services.cognito-idp.shapes.GetSigningCertificateRequest.__init__',\n 'autoboto.services.cognito-idp.shapes.GetSigningCertificateResponse',\n 'autoboto.services.cognito-idp.shapes.GetUICustomizationRequest.__init__',\n 'autoboto.services.cognito-idp.shapes.GetUICustomizationResponse',\n 'autoboto.services.cognito-idp.shapes.GetUserAttributeVerificationCodeRequest.__init__',\n 'autoboto.services.cognito-idp.shapes.GetUserAttributeVerificationCodeResponse',\n 'autoboto.services.cognito-idp.shapes.GetUserPoolMfaConfigRequest.__init__',\n 'autoboto.services.cognito-idp.shapes.GetUserPoolMfaConfigResponse',\n 'autoboto.services.cognito-idp.shapes.GetUserRequest.__init__',\n 'autoboto.services.cognito-idp.shapes.GetUserResponse',\n 'autoboto.services.cognito-idp.shapes.GlobalSignOutRequest.__init__',\n 'autoboto.services.cognito-idp.shapes.GlobalSignOutResponse',\n 'autoboto.services.cognito-idp.shapes.InitiateAuthRequest.__init__',\n 'autoboto.services.cognito-idp.shapes.InitiateAuthResponse',\n 'autoboto.services.cognito-idp.shapes.ListDevicesRequest.__init__',\n 'autoboto.services.cognito-idp.shapes.ListDevicesResponse',\n 'autoboto.services.cognito-idp.shapes.ListGroupsRequest.__init__',\n 'autoboto.services.cognito-idp.shapes.ListGroupsResponse',\n 'autoboto.services.cognito-idp.shapes.ListIdentityProvidersRequest.__init__',\n 'autoboto.services.cognito-idp.shapes.ListIdentityProvidersResponse',\n 'autoboto.services.cognito-idp.shapes.ListResourceServersRequest.__init__',\n 'autoboto.services.cognito-idp.shapes.ListResourceServersResponse',\n 'autoboto.services.cognito-idp.shapes.ListUserImportJobsRequest.__init__',\n 'autoboto.services.cognito-idp.shapes.ListUserImportJobsResponse',\n 'autoboto.services.cognito-idp.shapes.ListUserPoolClientsRequest.__init__',\n 'autoboto.services.cognito-idp.shapes.ListUserPoolClientsResponse',\n 'autoboto.services.cognito-idp.shapes.ListUserPoolsRequest.__init__',\n 'autoboto.services.cognito-idp.shapes.ListUserPoolsResponse',\n 'autoboto.services.cognito-idp.shapes.ListUsersInGroupRequest.__init__',\n 'autoboto.services.cognito-idp.shapes.ListUsersInGroupResponse',\n 'autoboto.services.cognito-idp.shapes.ListUsersRequest.__init__',\n 'autoboto.services.cognito-idp.shapes.ListUsersResponse',\n 'autoboto.services.cognito-idp.shapes.ResendConfirmationCodeRequest.__init__',\n 'autoboto.services.cognito-idp.shapes.ResendConfirmationCodeResponse',\n 'autoboto.services.cognito-idp.shapes.RespondToAuthChallengeRequest.__init__',\n 'autoboto.services.cognito-idp.shapes.RespondToAuthChallengeResponse',\n 'autoboto.services.cognito-idp.shapes.SetRiskConfigurationRequest.__init__',\n 'autoboto.services.cognito-idp.shapes.SetRiskConfigurationResponse',\n 'autoboto.services.cognito-idp.shapes.SetUICustomizationRequest.__init__',\n 'autoboto.services.cognito-idp.shapes.SetUICustomizationResponse',\n 'autoboto.services.cognito-idp.shapes.SetUserMFAPreferenceRequest.__init__',\n 'autoboto.services.cognito-idp.shapes.SetUserMFAPreferenceResponse',\n 'autoboto.services.cognito-idp.shapes.SetUserPoolMfaConfigRequest.__init__',\n 'autoboto.services.cognito-idp.shapes.SetUserPoolMfaConfigResponse',\n 'autoboto.services.cognito-idp.shapes.SetUserSettingsRequest.__init__',\n 'autoboto.services.cognito-idp.shapes.SetUserSettingsResponse',\n 'autoboto.services.cognito-idp.shapes.SignUpRequest.__init__',\n 'autoboto.services.cognito-idp.shapes.SignUpResponse',\n 'autoboto.services.cognito-idp.shapes.StartUserImportJobRequest.__init__',\n 'autoboto.services.cognito-idp.shapes.StartUserImportJobResponse',\n 'autoboto.services.cognito-idp.shapes.StopUserImportJobRequest.__init__',\n 'autoboto.services.cognito-idp.shapes.StopUserImportJobResponse',\n 'autoboto.services.cognito-idp.shapes.UpdateAuthEventFeedbackRequest.__init__',\n 'autoboto.services.cognito-idp.shapes.UpdateAuthEventFeedbackResponse',\n 'autoboto.services.cognito-idp.shapes.UpdateDeviceStatusRequest.__init__',\n 'autoboto.services.cognito-idp.shapes.UpdateDeviceStatusResponse',\n 'autoboto.services.cognito-idp.shapes.UpdateGroupRequest.__init__',\n 'autoboto.services.cognito-idp.shapes.UpdateGroupResponse',\n 'autoboto.services.cognito-idp.shapes.UpdateIdentityProviderRequest.__init__',\n 'autoboto.services.cognito-idp.shapes.UpdateIdentityProviderResponse',\n 'autoboto.services.cognito-idp.shapes.UpdateResourceServerRequest.__init__',\n 'autoboto.services.cognito-idp.shapes.UpdateResourceServerResponse',\n 'autoboto.services.cognito-idp.shapes.UpdateUserAttributesRequest.__init__',\n 'autoboto.services.cognito-idp.shapes.UpdateUserAttributesResponse',\n 'autoboto.services.cognito-idp.shapes.UpdateUserPoolClientRequest.__init__',\n 'autoboto.services.cognito-idp.shapes.UpdateUserPoolClientResponse',\n 'autoboto.services.cognito-idp.shapes.UpdateUserPoolRequest.__init__',\n 'autoboto.services.cognito-idp.shapes.UpdateUserPoolResponse',\n 'autoboto.services.cognito-idp.shapes.VerifySoftwareTokenRequest.__init__',\n 'autoboto.services.cognito-idp.shapes.VerifySoftwareTokenResponse',\n 'autoboto.services.cognito-idp.shapes.VerifyUserAttributeRequest.__init__',\n 'autoboto.services.cognito-idp.shapes.VerifyUserAttributeResponse',\n 'autoboto.services.cognito-sync.client.Client.bulk_publish',\n 'autoboto.services.cognito-sync.client.Client.delete_dataset',\n 'autoboto.services.cognito-sync.client.Client.describe_dataset',\n 'autoboto.services.cognito-sync.client.Client.describe_identity_pool_usage',\n 'autoboto.services.cognito-sync.client.Client.describe_identity_usage',\n 'autoboto.services.cognito-sync.client.Client.get_bulk_publish_details',\n 'autoboto.services.cognito-sync.client.Client.get_cognito_events',\n 'autoboto.services.cognito-sync.client.Client.get_identity_pool_configuration',\n 'autoboto.services.cognito-sync.client.Client.list_datasets',\n 'autoboto.services.cognito-sync.client.Client.list_identity_pool_usage',\n 'autoboto.services.cognito-sync.client.Client.list_records',\n 'autoboto.services.cognito-sync.client.Client.register_device',\n 'autoboto.services.cognito-sync.client.Client.set_cognito_events',\n 'autoboto.services.cognito-sync.client.Client.set_identity_pool_configuration',\n 'autoboto.services.cognito-sync.client.Client.subscribe_to_dataset',\n 'autoboto.services.cognito-sync.client.Client.unsubscribe_from_dataset',\n 'autoboto.services.cognito-sync.client.Client.update_records',\n 'autoboto.services.cognito-sync.shapes',\n 'autoboto.services.cognito-sync.shapes.BulkPublishRequest.__init__',\n 'autoboto.services.cognito-sync.shapes.BulkPublishResponse',\n 'autoboto.services.cognito-sync.shapes.DeleteDatasetRequest.__init__',\n 'autoboto.services.cognito-sync.shapes.DeleteDatasetResponse',\n 'autoboto.services.cognito-sync.shapes.DescribeDatasetRequest.__init__',\n 'autoboto.services.cognito-sync.shapes.DescribeDatasetResponse',\n 'autoboto.services.cognito-sync.shapes.DescribeIdentityPoolUsageRequest.__init__',\n 'autoboto.services.cognito-sync.shapes.DescribeIdentityPoolUsageResponse',\n 'autoboto.services.cognito-sync.shapes.DescribeIdentityUsageRequest.__init__',\n 'autoboto.services.cognito-sync.shapes.DescribeIdentityUsageResponse',\n 'autoboto.services.cognito-sync.shapes.GetBulkPublishDetailsRequest.__init__',\n 'autoboto.services.cognito-sync.shapes.GetBulkPublishDetailsResponse',\n 'autoboto.services.cognito-sync.shapes.GetCognitoEventsRequest.__init__',\n 'autoboto.services.cognito-sync.shapes.GetCognitoEventsResponse',\n 'autoboto.services.cognito-sync.shapes.GetIdentityPoolConfigurationRequest.__init__',\n 'autoboto.services.cognito-sync.shapes.GetIdentityPoolConfigurationResponse',\n 'autoboto.services.cognito-sync.shapes.ListDatasetsRequest.__init__',\n 'autoboto.services.cognito-sync.shapes.ListDatasetsResponse',\n 'autoboto.services.cognito-sync.shapes.ListIdentityPoolUsageRequest.__init__',\n 'autoboto.services.cognito-sync.shapes.ListIdentityPoolUsageResponse',\n 'autoboto.services.cognito-sync.shapes.ListRecordsRequest.__init__',\n 'autoboto.services.cognito-sync.shapes.ListRecordsResponse',\n 'autoboto.services.cognito-sync.shapes.RegisterDeviceRequest.__init__',\n 'autoboto.services.cognito-sync.shapes.RegisterDeviceResponse',\n 'autoboto.services.cognito-sync.shapes.SetCognitoEventsRequest.__init__',\n 'autoboto.services.cognito-sync.shapes.SetIdentityPoolConfigurationRequest.__init__',\n 'autoboto.services.cognito-sync.shapes.SetIdentityPoolConfigurationResponse',\n 'autoboto.services.cognito-sync.shapes.SubscribeToDatasetRequest.__init__',\n 'autoboto.services.cognito-sync.shapes.SubscribeToDatasetResponse',\n 'autoboto.services.cognito-sync.shapes.UnsubscribeFromDatasetRequest.__init__',\n 'autoboto.services.cognito-sync.shapes.UnsubscribeFromDatasetResponse',\n 'autoboto.services.cognito-sync.shapes.UpdateRecordsRequest.__init__',\n 'autoboto.services.cognito-sync.shapes.UpdateRecordsResponse',\n 'autoboto.services.iot-data.client.Client.delete_thing_shadow',\n 'autoboto.services.iot-data.client.Client.get_thing_shadow',\n 'autoboto.services.iot-data.client.Client.publish',\n 'autoboto.services.iot-data.client.Client.update_thing_shadow',\n 'autoboto.services.iot-data.shapes',\n 'autoboto.services.iot-data.shapes.DeleteThingShadowRequest.__init__',\n 'autoboto.services.iot-data.shapes.DeleteThingShadowResponse',\n 'autoboto.services.iot-data.shapes.GetThingShadowRequest.__init__',\n 'autoboto.services.iot-data.shapes.GetThingShadowResponse',\n 'autoboto.services.iot-data.shapes.PublishRequest.__init__',\n 'autoboto.services.iot-data.shapes.UpdateThingShadowRequest.__init__',\n 'autoboto.services.iot-data.shapes.UpdateThingShadowResponse',\n 'autoboto.services.iot-jobs-data.client.Client.describe_job_execution',\n 'autoboto.services.iot-jobs-data.client.Client.get_pending_job_executions',\n 'autoboto.services.iot-jobs-data.client.Client.start_next_pending_job_execution',\n 'autoboto.services.iot-jobs-data.client.Client.update_job_execution',\n 'autoboto.services.iot-jobs-data.shapes',\n 'autoboto.services.iot-jobs-data.shapes.DescribeJobExecutionRequest.__init__',\n 'autoboto.services.iot-jobs-data.shapes.DescribeJobExecutionResponse',\n 'autoboto.services.iot-jobs-data.shapes.GetPendingJobExecutionsRequest.__init__',\n 'autoboto.services.iot-jobs-data.shapes.GetPendingJobExecutionsResponse',\n 'autoboto.services.iot-jobs-data.shapes.StartNextPendingJobExecutionRequest.__init__',\n 'autoboto.services.iot-jobs-data.shapes.StartNextPendingJobExecutionResponse',\n 'autoboto.services.iot-jobs-data.shapes.UpdateJobExecutionRequest.__init__',\n 'autoboto.services.iot-jobs-data.shapes.UpdateJobExecutionResponse',\n 'autoboto.services.iot1click-devices.client.Client.claim_devices_by_claim_code',\n 'autoboto.services.iot1click-devices.client.Client.describe_device',\n 'autoboto.services.iot1click-devices.client.Client.finalize_device_claim',\n 'autoboto.services.iot1click-devices.client.Client.get_device_methods',\n 'autoboto.services.iot1click-devices.client.Client.initiate_device_claim',\n 'autoboto.services.iot1click-devices.client.Client.invoke_device_method',\n 'autoboto.services.iot1click-devices.client.Client.list_device_events',\n 'autoboto.services.iot1click-devices.client.Client.list_devices',\n 'autoboto.services.iot1click-devices.client.Client.unclaim_device',\n 'autoboto.services.iot1click-devices.client.Client.update_device_state',\n 'autoboto.services.iot1click-devices.shapes',\n 'autoboto.services.iot1click-devices.shapes.ClaimDevicesByClaimCodeRequest.__init__',\n 'autoboto.services.iot1click-devices.shapes.ClaimDevicesByClaimCodeResponse',\n 'autoboto.services.iot1click-devices.shapes.DescribeDeviceRequest.__init__',\n 'autoboto.services.iot1click-devices.shapes.DescribeDeviceResponse',\n 'autoboto.services.iot1click-devices.shapes.FinalizeDeviceClaimRequest.__init__',\n 'autoboto.services.iot1click-devices.shapes.FinalizeDeviceClaimResponse',\n 'autoboto.services.iot1click-devices.shapes.GetDeviceMethodsRequest.__init__',\n 'autoboto.services.iot1click-devices.shapes.GetDeviceMethodsResponse',\n 'autoboto.services.iot1click-devices.shapes.InitiateDeviceClaimRequest.__init__',\n 'autoboto.services.iot1click-devices.shapes.InitiateDeviceClaimResponse',\n 'autoboto.services.iot1click-devices.shapes.InvokeDeviceMethodRequest.__init__',\n 'autoboto.services.iot1click-devices.shapes.InvokeDeviceMethodResponse',\n 'autoboto.services.iot1click-devices.shapes.ListDeviceEventsRequest.__init__',\n 'autoboto.services.iot1click-devices.shapes.ListDeviceEventsResponse',\n 'autoboto.services.iot1click-devices.shapes.ListDevicesRequest.__init__',\n 'autoboto.services.iot1click-devices.shapes.ListDevicesResponse',\n 'autoboto.services.iot1click-devices.shapes.UnclaimDeviceRequest.__init__',\n 'autoboto.services.iot1click-devices.shapes.UnclaimDeviceResponse',\n 'autoboto.services.iot1click-devices.shapes.UpdateDeviceStateRequest.__init__',\n 'autoboto.services.iot1click-devices.shapes.UpdateDeviceStateResponse',\n 'autoboto.services.iot1click-projects.client.Client.associate_device_with_placement',\n 'autoboto.services.iot1click-projects.client.Client.create_placement',\n 'autoboto.services.iot1click-projects.client.Client.create_project',\n 'autoboto.services.iot1click-projects.client.Client.delete_placement',\n 'autoboto.services.iot1click-projects.client.Client.delete_project',\n 'autoboto.services.iot1click-projects.client.Client.describe_placement',\n 'autoboto.services.iot1click-projects.client.Client.describe_project',\n 'autoboto.services.iot1click-projects.client.Client.disassociate_device_from_placement',\n 'autoboto.services.iot1click-projects.client.Client.get_devices_in_placement',\n 'autoboto.services.iot1click-projects.client.Client.list_placements',\n 'autoboto.services.iot1click-projects.client.Client.list_projects',\n 'autoboto.services.iot1click-projects.client.Client.update_placement',\n 'autoboto.services.iot1click-projects.client.Client.update_project',\n 'autoboto.services.iot1click-projects.shapes',\n 'autoboto.services.iot1click-projects.shapes.AssociateDeviceWithPlacementRequest.__init__',\n 'autoboto.services.iot1click-projects.shapes.AssociateDeviceWithPlacementResponse',\n 'autoboto.services.iot1click-projects.shapes.CreatePlacementRequest.__init__',\n 'autoboto.services.iot1click-projects.shapes.CreatePlacementResponse',\n 'autoboto.services.iot1click-projects.shapes.CreateProjectRequest.__init__',\n 'autoboto.services.iot1click-projects.shapes.CreateProjectResponse',\n 'autoboto.services.iot1click-projects.shapes.DeletePlacementRequest.__init__',\n 'autoboto.services.iot1click-projects.shapes.DeletePlacementResponse',\n 'autoboto.services.iot1click-projects.shapes.DeleteProjectRequest.__init__',\n 'autoboto.services.iot1click-projects.shapes.DeleteProjectResponse',\n 'autoboto.services.iot1click-projects.shapes.DescribePlacementRequest.__init__',\n 'autoboto.services.iot1click-projects.shapes.DescribePlacementResponse',\n 'autoboto.services.iot1click-projects.shapes.DescribeProjectRequest.__init__',\n 'autoboto.services.iot1click-projects.shapes.DescribeProjectResponse',\n 'autoboto.services.iot1click-projects.shapes.DisassociateDeviceFromPlacementRequest.__init__',\n 'autoboto.services.iot1click-projects.shapes.DisassociateDeviceFromPlacementResponse',\n 'autoboto.services.iot1click-projects.shapes.GetDevicesInPlacementRequest.__init__',\n 'autoboto.services.iot1click-projects.shapes.GetDevicesInPlacementResponse',\n 'autoboto.services.iot1click-projects.shapes.ListPlacementsRequest.__init__',\n 'autoboto.services.iot1click-projects.shapes.ListPlacementsResponse',\n 'autoboto.services.iot1click-projects.shapes.ListProjectsRequest.__init__',\n 'autoboto.services.iot1click-projects.shapes.ListProjectsResponse',\n 'autoboto.services.iot1click-projects.shapes.UpdatePlacementRequest.__init__',\n 'autoboto.services.iot1click-projects.shapes.UpdatePlacementResponse',\n 'autoboto.services.iot1click-projects.shapes.UpdateProjectRequest.__init__',\n 'autoboto.services.iot1click-projects.shapes.UpdateProjectResponse',\n 'autoboto.services.kinesis-video-archived-media.client.Client.get_hls_streaming_session_url',\n 'autoboto.services.kinesis-video-archived-media.client.Client.get_media_for_fragment_list',\n 'autoboto.services.kinesis-video-archived-media.client.Client.list_fragments',\n 'autoboto.services.kinesis-video-archived-media.shapes',\n 'autoboto.services.kinesis-video-archived-media.shapes.GetHLSStreamingSessionURLInput.__init__',\n 'autoboto.services.kinesis-video-archived-media.shapes.GetHLSStreamingSessionURLOutput',\n 'autoboto.services.kinesis-video-archived-media.shapes.GetMediaForFragmentListInput.__init__',\n 'autoboto.services.kinesis-video-archived-media.shapes.GetMediaForFragmentListOutput',\n 'autoboto.services.kinesis-video-archived-media.shapes.ListFragmentsInput.__init__',\n 'autoboto.services.kinesis-video-archived-media.shapes.ListFragmentsOutput',\n 'autoboto.services.kinesis-video-media.client.Client.get_media',\n 'autoboto.services.kinesis-video-media.shapes',\n 'autoboto.services.kinesis-video-media.shapes.GetMediaInput.__init__',\n 'autoboto.services.kinesis-video-media.shapes.GetMediaOutput',\n 'autoboto.services.lex-models.client.Client.create_bot_version',\n 'autoboto.services.lex-models.client.Client.create_intent_version',\n 'autoboto.services.lex-models.client.Client.create_slot_type_version',\n 'autoboto.services.lex-models.client.Client.delete_bot',\n 'autoboto.services.lex-models.client.Client.delete_bot_alias',\n 'autoboto.services.lex-models.client.Client.delete_bot_channel_association',\n 'autoboto.services.lex-models.client.Client.delete_bot_version',\n 'autoboto.services.lex-models.client.Client.delete_intent',\n 'autoboto.services.lex-models.client.Client.delete_intent_version',\n 'autoboto.services.lex-models.client.Client.delete_slot_type',\n 'autoboto.services.lex-models.client.Client.delete_slot_type_version',\n 'autoboto.services.lex-models.client.Client.delete_utterances',\n 'autoboto.services.lex-models.client.Client.get_bot',\n 'autoboto.services.lex-models.client.Client.get_bot_alias',\n 'autoboto.services.lex-models.client.Client.get_bot_aliases',\n 'autoboto.services.lex-models.client.Client.get_bot_channel_association',\n 'autoboto.services.lex-models.client.Client.get_bot_channel_associations',\n 'autoboto.services.lex-models.client.Client.get_bot_versions',\n 'autoboto.services.lex-models.client.Client.get_bots',\n 'autoboto.services.lex-models.client.Client.get_builtin_intent',\n 'autoboto.services.lex-models.client.Client.get_builtin_intents',\n 'autoboto.services.lex-models.client.Client.get_builtin_slot_types',\n 'autoboto.services.lex-models.client.Client.get_export',\n 'autoboto.services.lex-models.client.Client.get_import',\n 'autoboto.services.lex-models.client.Client.get_intent',\n 'autoboto.services.lex-models.client.Client.get_intent_versions',\n 'autoboto.services.lex-models.client.Client.get_intents',\n 'autoboto.services.lex-models.client.Client.get_slot_type',\n 'autoboto.services.lex-models.client.Client.get_slot_type_versions',\n 'autoboto.services.lex-models.client.Client.get_slot_types',\n 'autoboto.services.lex-models.client.Client.get_utterances_view',\n 'autoboto.services.lex-models.client.Client.put_bot',\n 'autoboto.services.lex-models.client.Client.put_bot_alias',\n 'autoboto.services.lex-models.client.Client.put_intent',\n 'autoboto.services.lex-models.client.Client.put_slot_type',\n 'autoboto.services.lex-models.client.Client.start_import',\n 'autoboto.services.lex-models.shapes',\n 'autoboto.services.lex-models.shapes.CreateBotVersionRequest.__init__',\n 'autoboto.services.lex-models.shapes.CreateBotVersionResponse',\n 'autoboto.services.lex-models.shapes.CreateIntentVersionRequest.__init__',\n 'autoboto.services.lex-models.shapes.CreateIntentVersionResponse',\n 'autoboto.services.lex-models.shapes.CreateSlotTypeVersionRequest.__init__',\n 'autoboto.services.lex-models.shapes.CreateSlotTypeVersionResponse',\n 'autoboto.services.lex-models.shapes.DeleteBotAliasRequest.__init__',\n 'autoboto.services.lex-models.shapes.DeleteBotChannelAssociationRequest.__init__',\n 'autoboto.services.lex-models.shapes.DeleteBotRequest.__init__',\n 'autoboto.services.lex-models.shapes.DeleteBotVersionRequest.__init__',\n 'autoboto.services.lex-models.shapes.DeleteIntentRequest.__init__',\n 'autoboto.services.lex-models.shapes.DeleteIntentVersionRequest.__init__',\n 'autoboto.services.lex-models.shapes.DeleteSlotTypeRequest.__init__',\n 'autoboto.services.lex-models.shapes.DeleteSlotTypeVersionRequest.__init__',\n 'autoboto.services.lex-models.shapes.DeleteUtterancesRequest.__init__',\n 'autoboto.services.lex-models.shapes.GetBotAliasRequest.__init__',\n 'autoboto.services.lex-models.shapes.GetBotAliasResponse',\n 'autoboto.services.lex-models.shapes.GetBotAliasesRequest.__init__',\n 'autoboto.services.lex-models.shapes.GetBotAliasesResponse',\n 'autoboto.services.lex-models.shapes.GetBotChannelAssociationRequest.__init__',\n 'autoboto.services.lex-models.shapes.GetBotChannelAssociationResponse',\n 'autoboto.services.lex-models.shapes.GetBotChannelAssociationsRequest.__init__',\n 'autoboto.services.lex-models.shapes.GetBotChannelAssociationsResponse',\n 'autoboto.services.lex-models.shapes.GetBotRequest.__init__',\n 'autoboto.services.lex-models.shapes.GetBotResponse',\n 'autoboto.services.lex-models.shapes.GetBotVersionsRequest.__init__',\n 'autoboto.services.lex-models.shapes.GetBotVersionsResponse',\n 'autoboto.services.lex-models.shapes.GetBotsRequest.__init__',\n 'autoboto.services.lex-models.shapes.GetBotsResponse',\n 'autoboto.services.lex-models.shapes.GetBuiltinIntentRequest.__init__',\n 'autoboto.services.lex-models.shapes.GetBuiltinIntentResponse',\n 'autoboto.services.lex-models.shapes.GetBuiltinIntentsRequest.__init__',\n 'autoboto.services.lex-models.shapes.GetBuiltinIntentsResponse',\n 'autoboto.services.lex-models.shapes.GetBuiltinSlotTypesRequest.__init__',\n 'autoboto.services.lex-models.shapes.GetBuiltinSlotTypesResponse',\n 'autoboto.services.lex-models.shapes.GetExportRequest.__init__',\n 'autoboto.services.lex-models.shapes.GetExportResponse',\n 'autoboto.services.lex-models.shapes.GetImportRequest.__init__',\n 'autoboto.services.lex-models.shapes.GetImportResponse',\n 'autoboto.services.lex-models.shapes.GetIntentRequest.__init__',\n 'autoboto.services.lex-models.shapes.GetIntentResponse',\n 'autoboto.services.lex-models.shapes.GetIntentVersionsRequest.__init__',\n 'autoboto.services.lex-models.shapes.GetIntentVersionsResponse',\n 'autoboto.services.lex-models.shapes.GetIntentsRequest.__init__',\n 'autoboto.services.lex-models.shapes.GetIntentsResponse',\n 'autoboto.services.lex-models.shapes.GetSlotTypeRequest.__init__',\n 'autoboto.services.lex-models.shapes.GetSlotTypeResponse',\n 'autoboto.services.lex-models.shapes.GetSlotTypeVersionsRequest.__init__',\n 'autoboto.services.lex-models.shapes.GetSlotTypeVersionsResponse',\n 'autoboto.services.lex-models.shapes.GetSlotTypesRequest.__init__',\n 'autoboto.services.lex-models.shapes.GetSlotTypesResponse',\n 'autoboto.services.lex-models.shapes.GetUtterancesViewRequest.__init__',\n 'autoboto.services.lex-models.shapes.GetUtterancesViewResponse',\n 'autoboto.services.lex-models.shapes.PutBotAliasRequest.__init__',\n 'autoboto.services.lex-models.shapes.PutBotAliasResponse',\n 'autoboto.services.lex-models.shapes.PutBotRequest.__init__',\n 'autoboto.services.lex-models.shapes.PutBotResponse',\n 'autoboto.services.lex-models.shapes.PutIntentRequest.__init__',\n 'autoboto.services.lex-models.shapes.PutIntentResponse',\n 'autoboto.services.lex-models.shapes.PutSlotTypeRequest.__init__',\n 'autoboto.services.lex-models.shapes.PutSlotTypeResponse',\n 'autoboto.services.lex-models.shapes.StartImportRequest.__init__',\n 'autoboto.services.lex-models.shapes.StartImportResponse',\n 'autoboto.services.lex-runtime.client.Client.post_content',\n 'autoboto.services.lex-runtime.client.Client.post_text',\n 'autoboto.services.lex-runtime.shapes',\n 'autoboto.services.lex-runtime.shapes.PostContentRequest.__init__',\n 'autoboto.services.lex-runtime.shapes.PostContentResponse',\n 'autoboto.services.lex-runtime.shapes.PostTextRequest.__init__',\n 'autoboto.services.lex-runtime.shapes.PostTextResponse',\n 'autoboto.services.marketplace-entitlement.client.Client.get_entitlements',\n 'autoboto.services.marketplace-entitlement.shapes',\n 'autoboto.services.marketplace-entitlement.shapes.GetEntitlementsRequest.__init__',\n 'autoboto.services.marketplace-entitlement.shapes.GetEntitlementsResult',\n 'autoboto.services.mediastore-data.client.Client.delete_object',\n 'autoboto.services.mediastore-data.client.Client.describe_object',\n 'autoboto.services.mediastore-data.client.Client.get_object',\n 'autoboto.services.mediastore-data.client.Client.list_items',\n 'autoboto.services.mediastore-data.client.Client.put_object',\n 'autoboto.services.mediastore-data.shapes',\n 'autoboto.services.mediastore-data.shapes.DeleteObjectRequest.__init__',\n 'autoboto.services.mediastore-data.shapes.DeleteObjectResponse',\n 'autoboto.services.mediastore-data.shapes.DescribeObjectRequest.__init__',\n 'autoboto.services.mediastore-data.shapes.DescribeObjectResponse',\n 'autoboto.services.mediastore-data.shapes.GetObjectRequest.__init__',\n 'autoboto.services.mediastore-data.shapes.GetObjectResponse',\n 'autoboto.services.mediastore-data.shapes.ListItemsRequest.__init__',\n 'autoboto.services.mediastore-data.shapes.ListItemsResponse',\n 'autoboto.services.mediastore-data.shapes.PutObjectRequest.__init__',\n 'autoboto.services.mediastore-data.shapes.PutObjectResponse',\n 'autoboto.services.resource-groups.client.Client.create_group',\n 'autoboto.services.resource-groups.client.Client.delete_group',\n 'autoboto.services.resource-groups.client.Client.get_group',\n 'autoboto.services.resource-groups.client.Client.get_group_query',\n 'autoboto.services.resource-groups.client.Client.get_tags',\n 'autoboto.services.resource-groups.client.Client.list_group_resources',\n 'autoboto.services.resource-groups.client.Client.list_groups',\n 'autoboto.services.resource-groups.client.Client.search_resources',\n 'autoboto.services.resource-groups.client.Client.tag',\n 'autoboto.services.resource-groups.client.Client.untag',\n 'autoboto.services.resource-groups.client.Client.update_group',\n 'autoboto.services.resource-groups.client.Client.update_group_query',\n 'autoboto.services.resource-groups.shapes',\n 'autoboto.services.resource-groups.shapes.CreateGroupInput.__init__',\n 'autoboto.services.resource-groups.shapes.CreateGroupOutput',\n 'autoboto.services.resource-groups.shapes.DeleteGroupInput.__init__',\n 'autoboto.services.resource-groups.shapes.DeleteGroupOutput',\n 'autoboto.services.resource-groups.shapes.GetGroupInput.__init__',\n 'autoboto.services.resource-groups.shapes.GetGroupOutput',\n 'autoboto.services.resource-groups.shapes.GetGroupQueryInput.__init__',\n 'autoboto.services.resource-groups.shapes.GetGroupQueryOutput',\n 'autoboto.services.resource-groups.shapes.GetTagsInput.__init__',\n 'autoboto.services.resource-groups.shapes.GetTagsOutput',\n 'autoboto.services.resource-groups.shapes.ListGroupResourcesInput.__init__',\n 'autoboto.services.resource-groups.shapes.ListGroupResourcesOutput',\n 'autoboto.services.resource-groups.shapes.ListGroupsInput.__init__',\n 'autoboto.services.resource-groups.shapes.ListGroupsOutput',\n 'autoboto.services.resource-groups.shapes.SearchResourcesInput.__init__',\n 'autoboto.services.resource-groups.shapes.SearchResourcesOutput',\n 'autoboto.services.resource-groups.shapes.TagInput.__init__',\n 'autoboto.services.resource-groups.shapes.TagOutput',\n 'autoboto.services.resource-groups.shapes.UntagInput.__init__',\n 'autoboto.services.resource-groups.shapes.UntagOutput',\n 'autoboto.services.resource-groups.shapes.UpdateGroupInput.__init__',\n 'autoboto.services.resource-groups.shapes.UpdateGroupOutput',\n 'autoboto.services.resource-groups.shapes.UpdateGroupQueryInput.__init__',\n 'autoboto.services.resource-groups.shapes.UpdateGroupQueryOutput',\n 'autoboto.services.sagemaker-runtime.client.Client.invoke_endpoint',\n 'autoboto.services.sagemaker-runtime.shapes',\n 'autoboto.services.sagemaker-runtime.shapes.InvokeEndpointInput.__init__',\n 'autoboto.services.sagemaker-runtime.shapes.InvokeEndpointOutput',\n 'autoboto.services.waf-regional.client.Client.associate_web_acl',\n 'autoboto.services.waf-regional.client.Client.create_byte_match_set',\n 'autoboto.services.waf-regional.client.Client.create_geo_match_set',\n 'autoboto.services.waf-regional.client.Client.create_ip_set',\n 'autoboto.services.waf-regional.client.Client.create_rate_based_rule',\n 'autoboto.services.waf-regional.client.Client.create_regex_match_set',\n 'autoboto.services.waf-regional.client.Client.create_regex_pattern_set',\n 'autoboto.services.waf-regional.client.Client.create_rule',\n 'autoboto.services.waf-regional.client.Client.create_rule_group',\n 'autoboto.services.waf-regional.client.Client.create_size_constraint_set',\n 'autoboto.services.waf-regional.client.Client.create_sql_injection_match_set',\n 'autoboto.services.waf-regional.client.Client.create_web_acl',\n 'autoboto.services.waf-regional.client.Client.create_xss_match_set',\n 'autoboto.services.waf-regional.client.Client.delete_byte_match_set',\n 'autoboto.services.waf-regional.client.Client.delete_geo_match_set',\n 'autoboto.services.waf-regional.client.Client.delete_ip_set',\n 'autoboto.services.waf-regional.client.Client.delete_logging_configuration',\n 'autoboto.services.waf-regional.client.Client.delete_permission_policy',\n 'autoboto.services.waf-regional.client.Client.delete_rate_based_rule',\n 'autoboto.services.waf-regional.client.Client.delete_regex_match_set',\n 'autoboto.services.waf-regional.client.Client.delete_regex_pattern_set',\n 'autoboto.services.waf-regional.client.Client.delete_rule',\n 'autoboto.services.waf-regional.client.Client.delete_rule_group',\n 'autoboto.services.waf-regional.client.Client.delete_size_constraint_set',\n 'autoboto.services.waf-regional.client.Client.delete_sql_injection_match_set',\n 'autoboto.services.waf-regional.client.Client.delete_web_acl',\n 'autoboto.services.waf-regional.client.Client.delete_xss_match_set',\n 'autoboto.services.waf-regional.client.Client.disassociate_web_acl',\n 'autoboto.services.waf-regional.client.Client.get_byte_match_set',\n 'autoboto.services.waf-regional.client.Client.get_change_token',\n 'autoboto.services.waf-regional.client.Client.get_change_token_status',\n 'autoboto.services.waf-regional.client.Client.get_geo_match_set',\n 'autoboto.services.waf-regional.client.Client.get_ip_set',\n 'autoboto.services.waf-regional.client.Client.get_logging_configuration',\n 'autoboto.services.waf-regional.client.Client.get_permission_policy',\n 'autoboto.services.waf-regional.client.Client.get_rate_based_rule',\n 'autoboto.services.waf-regional.client.Client.get_rate_based_rule_managed_keys',\n 'autoboto.services.waf-regional.client.Client.get_regex_match_set',\n 'autoboto.services.waf-regional.client.Client.get_regex_pattern_set',\n 'autoboto.services.waf-regional.client.Client.get_rule',\n 'autoboto.services.waf-regional.client.Client.get_rule_group',\n 'autoboto.services.waf-regional.client.Client.get_sampled_requests',\n 'autoboto.services.waf-regional.client.Client.get_size_constraint_set',\n 'autoboto.services.waf-regional.client.Client.get_sql_injection_match_set',\n 'autoboto.services.waf-regional.client.Client.get_web_acl',\n 'autoboto.services.waf-regional.client.Client.get_web_acl_for_resource',\n 'autoboto.services.waf-regional.client.Client.get_xss_match_set',\n 'autoboto.services.waf-regional.client.Client.list_activated_rules_in_rule_group',\n 'autoboto.services.waf-regional.client.Client.list_byte_match_sets',\n 'autoboto.services.waf-regional.client.Client.list_geo_match_sets',\n 'autoboto.services.waf-regional.client.Client.list_ip_sets',\n 'autoboto.services.waf-regional.client.Client.list_logging_configurations',\n 'autoboto.services.waf-regional.client.Client.list_rate_based_rules',\n 'autoboto.services.waf-regional.client.Client.list_regex_match_sets',\n 'autoboto.services.waf-regional.client.Client.list_regex_pattern_sets',\n 'autoboto.services.waf-regional.client.Client.list_resources_for_web_acl',\n 'autoboto.services.waf-regional.client.Client.list_rule_groups',\n 'autoboto.services.waf-regional.client.Client.list_rules',\n 'autoboto.services.waf-regional.client.Client.list_size_constraint_sets',\n 'autoboto.services.waf-regional.client.Client.list_sql_injection_match_sets',\n 'autoboto.services.waf-regional.client.Client.list_subscribed_rule_groups',\n 'autoboto.services.waf-regional.client.Client.list_web_acls',\n 'autoboto.services.waf-regional.client.Client.list_xss_match_sets',\n 'autoboto.services.waf-regional.client.Client.put_logging_configuration',\n 'autoboto.services.waf-regional.client.Client.put_permission_policy',\n 'autoboto.services.waf-regional.client.Client.update_byte_match_set',\n 'autoboto.services.waf-regional.client.Client.update_geo_match_set',\n 'autoboto.services.waf-regional.client.Client.update_ip_set',\n 'autoboto.services.waf-regional.client.Client.update_rate_based_rule',\n 'autoboto.services.waf-regional.client.Client.update_regex_match_set',\n 'autoboto.services.waf-regional.client.Client.update_regex_pattern_set',\n 'autoboto.services.waf-regional.client.Client.update_rule',\n 'autoboto.services.waf-regional.client.Client.update_rule_group',\n 'autoboto.services.waf-regional.client.Client.update_size_constraint_set',\n 'autoboto.services.waf-regional.client.Client.update_sql_injection_match_set',\n 'autoboto.services.waf-regional.client.Client.update_web_acl',\n 'autoboto.services.waf-regional.client.Client.update_xss_match_set',\n 'autoboto.services.waf-regional.shapes',\n 'autoboto.services.waf-regional.shapes.AssociateWebACLRequest.__init__',\n 'autoboto.services.waf-regional.shapes.AssociateWebACLResponse',\n 'autoboto.services.waf-regional.shapes.CreateByteMatchSetRequest.__init__',\n 'autoboto.services.waf-regional.shapes.CreateByteMatchSetResponse',\n 'autoboto.services.waf-regional.shapes.CreateGeoMatchSetRequest.__init__',\n 'autoboto.services.waf-regional.shapes.CreateGeoMatchSetResponse',\n 'autoboto.services.waf-regional.shapes.CreateIPSetRequest.__init__',\n 'autoboto.services.waf-regional.shapes.CreateIPSetResponse',\n 'autoboto.services.waf-regional.shapes.CreateRateBasedRuleRequest.__init__',\n 'autoboto.services.waf-regional.shapes.CreateRateBasedRuleResponse',\n 'autoboto.services.waf-regional.shapes.CreateRegexMatchSetRequest.__init__',\n 'autoboto.services.waf-regional.shapes.CreateRegexMatchSetResponse',\n 'autoboto.services.waf-regional.shapes.CreateRegexPatternSetRequest.__init__',\n 'autoboto.services.waf-regional.shapes.CreateRegexPatternSetResponse',\n 'autoboto.services.waf-regional.shapes.CreateRuleGroupRequest.__init__',\n 'autoboto.services.waf-regional.shapes.CreateRuleGroupResponse',\n 'autoboto.services.waf-regional.shapes.CreateRuleRequest.__init__',\n 'autoboto.services.waf-regional.shapes.CreateRuleResponse',\n 'autoboto.services.waf-regional.shapes.CreateSizeConstraintSetRequest.__init__',\n 'autoboto.services.waf-regional.shapes.CreateSizeConstraintSetResponse',\n 'autoboto.services.waf-regional.shapes.CreateSqlInjectionMatchSetRequest.__init__',\n 'autoboto.services.waf-regional.shapes.CreateSqlInjectionMatchSetResponse',\n 'autoboto.services.waf-regional.shapes.CreateWebACLRequest.__init__',\n 'autoboto.services.waf-regional.shapes.CreateWebACLResponse',\n 'autoboto.services.waf-regional.shapes.CreateXssMatchSetRequest.__init__',\n 'autoboto.services.waf-regional.shapes.CreateXssMatchSetResponse',\n 'autoboto.services.waf-regional.shapes.DeleteByteMatchSetRequest.__init__',\n 'autoboto.services.waf-regional.shapes.DeleteByteMatchSetResponse',\n 'autoboto.services.waf-regional.shapes.DeleteGeoMatchSetRequest.__init__',\n 'autoboto.services.waf-regional.shapes.DeleteGeoMatchSetResponse',\n 'autoboto.services.waf-regional.shapes.DeleteIPSetRequest.__init__',\n 'autoboto.services.waf-regional.shapes.DeleteIPSetResponse',\n 'autoboto.services.waf-regional.shapes.DeleteLoggingConfigurationRequest.__init__',\n 'autoboto.services.waf-regional.shapes.DeleteLoggingConfigurationResponse',\n 'autoboto.services.waf-regional.shapes.DeletePermissionPolicyRequest.__init__',\n 'autoboto.services.waf-regional.shapes.DeletePermissionPolicyResponse',\n 'autoboto.services.waf-regional.shapes.DeleteRateBasedRuleRequest.__init__',\n 'autoboto.services.waf-regional.shapes.DeleteRateBasedRuleResponse',\n 'autoboto.services.waf-regional.shapes.DeleteRegexMatchSetRequest.__init__',\n 'autoboto.services.waf-regional.shapes.DeleteRegexMatchSetResponse',\n 'autoboto.services.waf-regional.shapes.DeleteRegexPatternSetRequest.__init__',\n 'autoboto.services.waf-regional.shapes.DeleteRegexPatternSetResponse',\n 'autoboto.services.waf-regional.shapes.DeleteRuleGroupRequest.__init__',\n 'autoboto.services.waf-regional.shapes.DeleteRuleGroupResponse',\n 'autoboto.services.waf-regional.shapes.DeleteRuleRequest.__init__',\n 'autoboto.services.waf-regional.shapes.DeleteRuleResponse',\n 'autoboto.services.waf-regional.shapes.DeleteSizeConstraintSetRequest.__init__',\n 'autoboto.services.waf-regional.shapes.DeleteSizeConstraintSetResponse',\n 'autoboto.services.waf-regional.shapes.DeleteSqlInjectionMatchSetRequest.__init__',\n 'autoboto.services.waf-regional.shapes.DeleteSqlInjectionMatchSetResponse',\n 'autoboto.services.waf-regional.shapes.DeleteWebACLRequest.__init__',\n 'autoboto.services.waf-regional.shapes.DeleteWebACLResponse',\n 'autoboto.services.waf-regional.shapes.DeleteXssMatchSetRequest.__init__',\n 'autoboto.services.waf-regional.shapes.DeleteXssMatchSetResponse',\n 'autoboto.services.waf-regional.shapes.DisassociateWebACLRequest.__init__',\n 'autoboto.services.waf-regional.shapes.DisassociateWebACLResponse',\n 'autoboto.services.waf-regional.shapes.GetByteMatchSetRequest.__init__',\n 'autoboto.services.waf-regional.shapes.GetByteMatchSetResponse',\n 'autoboto.services.waf-regional.shapes.GetChangeTokenRequest.__init__',\n 'autoboto.services.waf-regional.shapes.GetChangeTokenResponse',\n 'autoboto.services.waf-regional.shapes.GetChangeTokenStatusRequest.__init__',\n 'autoboto.services.waf-regional.shapes.GetChangeTokenStatusResponse',\n 'autoboto.services.waf-regional.shapes.GetGeoMatchSetRequest.__init__',\n 'autoboto.services.waf-regional.shapes.GetGeoMatchSetResponse',\n 'autoboto.services.waf-regional.shapes.GetIPSetRequest.__init__',\n 'autoboto.services.waf-regional.shapes.GetIPSetResponse',\n 'autoboto.services.waf-regional.shapes.GetLoggingConfigurationRequest.__init__',\n 'autoboto.services.waf-regional.shapes.GetLoggingConfigurationResponse',\n 'autoboto.services.waf-regional.shapes.GetPermissionPolicyRequest.__init__',\n 'autoboto.services.waf-regional.shapes.GetPermissionPolicyResponse',\n 'autoboto.services.waf-regional.shapes.GetRateBasedRuleManagedKeysRequest.__init__',\n 'autoboto.services.waf-regional.shapes.GetRateBasedRuleManagedKeysResponse',\n 'autoboto.services.waf-regional.shapes.GetRateBasedRuleRequest.__init__',\n 'autoboto.services.waf-regional.shapes.GetRateBasedRuleResponse',\n 'autoboto.services.waf-regional.shapes.GetRegexMatchSetRequest.__init__',\n 'autoboto.services.waf-regional.shapes.GetRegexMatchSetResponse',\n 'autoboto.services.waf-regional.shapes.GetRegexPatternSetRequest.__init__',\n 'autoboto.services.waf-regional.shapes.GetRegexPatternSetResponse',\n 'autoboto.services.waf-regional.shapes.GetRuleGroupRequest.__init__',\n 'autoboto.services.waf-regional.shapes.GetRuleGroupResponse',\n 'autoboto.services.waf-regional.shapes.GetRuleRequest.__init__',\n 'autoboto.services.waf-regional.shapes.GetRuleResponse',\n 'autoboto.services.waf-regional.shapes.GetSampledRequestsRequest.__init__',\n 'autoboto.services.waf-regional.shapes.GetSampledRequestsResponse',\n 'autoboto.services.waf-regional.shapes.GetSizeConstraintSetRequest.__init__',\n 'autoboto.services.waf-regional.shapes.GetSizeConstraintSetResponse',\n 'autoboto.services.waf-regional.shapes.GetSqlInjectionMatchSetRequest.__init__',\n 'autoboto.services.waf-regional.shapes.GetSqlInjectionMatchSetResponse',\n 'autoboto.services.waf-regional.shapes.GetWebACLForResourceRequest.__init__',\n 'autoboto.services.waf-regional.shapes.GetWebACLForResourceResponse',\n 'autoboto.services.waf-regional.shapes.GetWebACLRequest.__init__',\n 'autoboto.services.waf-regional.shapes.GetWebACLResponse',\n 'autoboto.services.waf-regional.shapes.GetXssMatchSetRequest.__init__',\n 'autoboto.services.waf-regional.shapes.GetXssMatchSetResponse',\n 'autoboto.services.waf-regional.shapes.ListActivatedRulesInRuleGroupRequest.__init__',\n 'autoboto.services.waf-regional.shapes.ListActivatedRulesInRuleGroupResponse',\n 'autoboto.services.waf-regional.shapes.ListByteMatchSetsRequest.__init__',\n 'autoboto.services.waf-regional.shapes.ListByteMatchSetsResponse',\n 'autoboto.services.waf-regional.shapes.ListGeoMatchSetsRequest.__init__',\n 'autoboto.services.waf-regional.shapes.ListGeoMatchSetsResponse',\n 'autoboto.services.waf-regional.shapes.ListIPSetsRequest.__init__',\n 'autoboto.services.waf-regional.shapes.ListIPSetsResponse',\n 'autoboto.services.waf-regional.shapes.ListLoggingConfigurationsRequest.__init__',\n 'autoboto.services.waf-regional.shapes.ListLoggingConfigurationsResponse',\n 'autoboto.services.waf-regional.shapes.ListRateBasedRulesRequest.__init__',\n 'autoboto.services.waf-regional.shapes.ListRateBasedRulesResponse',\n 'autoboto.services.waf-regional.shapes.ListRegexMatchSetsRequest.__init__',\n 'autoboto.services.waf-regional.shapes.ListRegexMatchSetsResponse',\n 'autoboto.services.waf-regional.shapes.ListRegexPatternSetsRequest.__init__',\n 'autoboto.services.waf-regional.shapes.ListRegexPatternSetsResponse',\n 'autoboto.services.waf-regional.shapes.ListResourcesForWebACLRequest.__init__',\n 'autoboto.services.waf-regional.shapes.ListResourcesForWebACLResponse',\n 'autoboto.services.waf-regional.shapes.ListRuleGroupsRequest.__init__',\n 'autoboto.services.waf-regional.shapes.ListRuleGroupsResponse',\n 'autoboto.services.waf-regional.shapes.ListRulesRequest.__init__',\n 'autoboto.services.waf-regional.shapes.ListRulesResponse',\n 'autoboto.services.waf-regional.shapes.ListSizeConstraintSetsRequest.__init__',\n 'autoboto.services.waf-regional.shapes.ListSizeConstraintSetsResponse',\n 'autoboto.services.waf-regional.shapes.ListSqlInjectionMatchSetsRequest.__init__',\n 'autoboto.services.waf-regional.shapes.ListSqlInjectionMatchSetsResponse',\n 'autoboto.services.waf-regional.shapes.ListSubscribedRuleGroupsRequest.__init__',\n 'autoboto.services.waf-regional.shapes.ListSubscribedRuleGroupsResponse',\n 'autoboto.services.waf-regional.shapes.ListWebACLsRequest.__init__',\n 'autoboto.services.waf-regional.shapes.ListWebACLsResponse',\n 'autoboto.services.waf-regional.shapes.ListXssMatchSetsRequest.__init__',\n 'autoboto.services.waf-regional.shapes.ListXssMatchSetsResponse',\n 'autoboto.services.waf-regional.shapes.PutLoggingConfigurationRequest.__init__',\n 'autoboto.services.waf-regional.shapes.PutLoggingConfigurationResponse',\n 'autoboto.services.waf-regional.shapes.PutPermissionPolicyRequest.__init__',\n 'autoboto.services.waf-regional.shapes.PutPermissionPolicyResponse',\n 'autoboto.services.waf-regional.shapes.UpdateByteMatchSetRequest.__init__',\n 'autoboto.services.waf-regional.shapes.UpdateByteMatchSetResponse',\n 'autoboto.services.waf-regional.shapes.UpdateGeoMatchSetRequest.__init__',\n 'autoboto.services.waf-regional.shapes.UpdateGeoMatchSetResponse',\n 'autoboto.services.waf-regional.shapes.UpdateIPSetRequest.__init__',\n 'autoboto.services.waf-regional.shapes.UpdateIPSetResponse',\n 'autoboto.services.waf-regional.shapes.UpdateRateBasedRuleRequest.__init__',\n 'autoboto.services.waf-regional.shapes.UpdateRateBasedRuleResponse',\n 'autoboto.services.waf-regional.shapes.UpdateRegexMatchSetRequest.__init__',\n 'autoboto.services.waf-regional.shapes.UpdateRegexMatchSetResponse',\n 'autoboto.services.waf-regional.shapes.UpdateRegexPatternSetRequest.__init__',\n 'autoboto.services.waf-regional.shapes.UpdateRegexPatternSetResponse',\n 'autoboto.services.waf-regional.shapes.UpdateRuleGroupRequest.__init__',\n 'autoboto.services.waf-regional.shapes.UpdateRuleGroupResponse',\n 'autoboto.services.waf-regional.shapes.UpdateRuleRequest.__init__',\n 'autoboto.services.waf-regional.shapes.UpdateRuleResponse',\n 'autoboto.services.waf-regional.shapes.UpdateSizeConstraintSetRequest.__init__',\n 'autoboto.services.waf-regional.shapes.UpdateSizeConstraintSetResponse',\n 'autoboto.services.waf-regional.shapes.UpdateSqlInjectionMatchSetRequest.__init__',\n 'autoboto.services.waf-regional.shapes.UpdateSqlInjectionMatchSetResponse',\n 'autoboto.services.waf-regional.shapes.UpdateWebACLRequest.__init__',\n 'autoboto.services.waf-regional.shapes.UpdateWebACLResponse',\n 'autoboto.services.waf-regional.shapes.UpdateXssMatchSetRequest.__init__',\n 'autoboto.services.waf-regional.shapes.UpdateXssMatchSetResponse',\n 'av',\n 'click-stubs.click',\n 'click-stubs.termui.prompt',\n 'click-stubs.utils.echo',\n 'extensive@plugin.Plugin.accept_url',\n 'extensive@plugin.Plugin.counter',\n 'extensive@plugin.Plugin.dequeued_url',\n 'extensive@plugin.Plugin.exit_status',\n 'extensive@plugin.Plugin.finish_statistics',\n 'extensive@plugin.Plugin.get_urls',\n 'extensive@plugin.Plugin.got_redirected_page',\n 'extensive@plugin.Plugin.handle_error',\n 'extensive@plugin.Plugin.handle_pre_response',\n 'extensive@plugin.Plugin.handle_response',\n 'extensive@plugin.Plugin.injected_url_found',\n 'extensive@plugin.Plugin.queued_url',\n 'extensive@plugin.Plugin.resolve_dns',\n 'extensive@plugin.Plugin.wait_time',\n 'gc',\n 'io',\n 'lark-stubs.lexer.Token.column',\n 'lark-stubs.lexer.Token.line',\n 'nr',\n ...]"
     },
     "execution_count": 9,
     "metadata": {},
     "output_type": "execute_result"
    }
   ],
   "source": [
    "sorted(list(set(select_labels(map(lambda x: x[1], records_id_labels), lambda lbl: not type_is_valid(lbl)))))\n",
    "# a = sorted(list(set(select_labels(map(lambda x: x[1], csn_records), lambda lbl: not type_is_valid(lbl)))))"
   ],
   "metadata": {
    "collapsed": false,
    "pycharm": {
     "name": "#%%\n"
    }
   }
  },
  {
   "cell_type": "code",
   "execution_count": 29,
   "outputs": [
    {
     "name": "stdout",
     "output_type": "stream",
     "text": [
      "652766 records before\n",
      "624571 records after\n",
      "28195 invalid records removed\n"
     ]
    }
   ],
   "source": [
    "records_id_labels_no_invalid = list(filter(lambda x: type_is_valid(x[1]), records_id_labels))\n",
    "\n",
    "print(f\"{len(records_id_labels)} records before\")\n",
    "print(f\"{len(records_id_labels_no_invalid)} records after\")\n",
    "print(f\"{len(records_id_labels) - len(records_id_labels_no_invalid)} invalid records removed\")"
   ],
   "metadata": {
    "collapsed": false,
    "pycharm": {
     "name": "#%%\n"
    }
   }
  },
  {
   "cell_type": "markdown",
   "source": [
    "## Type parser definition"
   ],
   "metadata": {
    "collapsed": false,
    "pycharm": {
     "name": "#%% md\n"
    }
   }
  },
  {
   "cell_type": "code",
   "execution_count": 30,
   "outputs": [],
   "source": [
    "class TypeHierarchy:\n",
    "    def __init__(self, type_, normalize=True, tokenize_fn=None):\n",
    "        self._tokenize_fn = tokenize_fn\n",
    "        if self._tokenize_fn is None:\n",
    "            self._tokenize_fn = create_tokenizer(\"spacy\")\n",
    "        if normalize:\n",
    "            type_ = self.normalize(type_)\n",
    "        self._parse_type(type_)\n",
    "\n",
    "    def _make_node(self, start, end):\n",
    "        if end is None:\n",
    "            name = \"\".join(t.text for t in self._tokens[start:])\n",
    "        else:\n",
    "            name = \"\".join(t.text for t in self._tokens[start:end])\n",
    "        return {\n",
    "            \"name\": name,\n",
    "            \"children\": []\n",
    "        }\n",
    "\n",
    "    def _parse_type(self, type_string):\n",
    "\n",
    "        self._tokens = self._tokenize_fn(type_string)\n",
    "\n",
    "        entry_point = []\n",
    "        reference_stack = [entry_point]\n",
    "\n",
    "        start = 0\n",
    "\n",
    "        for ind, tok in enumerate(self._tokens):\n",
    "            if tok.text in {\"[\"}:\n",
    "                new_record = self._make_node(start=start, end=ind)\n",
    "                reference_stack[-1].append(new_record)\n",
    "                reference_stack.append(new_record[\"children\"])\n",
    "                start = ind + 1\n",
    "            elif tok.text in {\"]\"}:\n",
    "                if start != ind:# or (start > 0 and self._tokens[start-1].text == \",\"):\n",
    "                    reference_stack[-1].append(self._make_node(start=start, end=ind))\n",
    "                reference_stack.pop(-1)\n",
    "                start = ind + 1\n",
    "            elif tok.text in {\",\"}:\n",
    "                if start != ind or (start > 0 and self._tokens[start-1].text == \"[\"):\n",
    "                    reference_stack[-1].append(self._make_node(start=start, end=ind))\n",
    "                start = ind + 1\n",
    "            elif ind == len(self._tokens) - 1:\n",
    "                reference_stack[-1].append(self._make_node(start=start, end=None))\n",
    "                reference_stack.pop(-1)\n",
    "\n",
    "        if len(entry_point) == 0:\n",
    "            raise Exception(f\"Error parsing: {self._tokens}\")\n",
    "        self._structure = entry_point[0]\n",
    "        if len(entry_point) == 1:\n",
    "            pass\n",
    "        elif len(entry_point) == 2:\n",
    "            self._structure[\"end\"] = entry_point[1][\"name\"]\n",
    "        else:\n",
    "            raise Exception(f\"Error parsing: {self._tokens}\")\n",
    "\n",
    "    def assemble(self, structure=None, current_level=0, max_level=-1, simplify_nodes=False):\n",
    "\n",
    "        assert max_level != 0, \"Max level can be -1 or > 0\"\n",
    "        if max_level != -1 and current_level == max_level:\n",
    "            return \"\"\n",
    "\n",
    "        if structure is None:\n",
    "            structure = self._structure\n",
    "\n",
    "        name = structure[\"name\"]\n",
    "        if simplify_nodes and not (name.startswith(\"\\\"\") or name.startswith(\"\\'\") or name.startswith('\"\"\"')):\n",
    "            s = name.split(\".\")[-1]\n",
    "        else:\n",
    "            s = name\n",
    "\n",
    "        n_chld = len(structure[\"children\"])\n",
    "\n",
    "        if max_level != -1 and current_level < max_level - 1 and n_chld > 0 or \\\n",
    "            max_level == - 1 and n_chld > 0:\n",
    "            s += \"[\"\n",
    "            for ind, c in enumerate(structure[\"children\"]):\n",
    "                s += self.assemble(c, current_level=current_level+1, max_level=max_level, simplify_nodes=simplify_nodes)\n",
    "                if ind != n_chld - 1:\n",
    "                    s += \",\"\n",
    "            s += \"]\"\n",
    "\n",
    "        if \"end\" in structure:\n",
    "            s += structure[\"end\"]\n",
    "\n",
    "        return s\n",
    "\n",
    "    def __str__(self):\n",
    "        return self.assemble(self._structure)\n",
    "\n",
    "    @staticmethod\n",
    "    def normalize(type):\n",
    "        return type.replace(\" \", \"\")\\\n",
    "            .replace(\"[]\", \"\")\\\n",
    "            .replace(\"[,]\", \"\")\\\n",
    "            .replace(\"\\\"\", \"\")\\\n",
    "            .replace(\"\\'\", \"\")\\\n",
    "            .replace(\"...\", \"\")\\\n",
    "            .replace(\",]\", \"]\")\\\n",
    "            .replace(\"[,\", \"[\")\n",
    "            # .replace(',\",', '\",')\\\n",
    "            # .replace(',\"]', '\"]')"
   ],
   "metadata": {
    "collapsed": false,
    "pycharm": {
     "name": "#%%\n"
    }
   }
  },
  {
   "cell_type": "markdown",
   "source": [
    "## Test type parser"
   ],
   "metadata": {
    "collapsed": false,
    "pycharm": {
     "name": "#%% md\n"
    }
   }
  },
  {
   "cell_type": "code",
   "execution_count": 31,
   "outputs": [],
   "source": [
    "def test_type_hierarchy_parser(types, normalize_types=True):\n",
    "    tokenize_fn = create_tokenizer(\"spacy\")\n",
    "\n",
    "    mistakes = set()\n",
    "    for type_ in types:\n",
    "        if normalize_types is True:\n",
    "            type_ = TypeHierarchy.normalize(type_)\n",
    "        recovered = TypeHierarchy(type_, normalize=False, tokenize_fn=tokenize_fn).assemble()\n",
    "        if recovered != type_:\n",
    "            print(f\"{recovered} != {type_}\")\n",
    "            mistakes.add(type_)\n",
    "\n",
    "    print(\"Found mistakes:\", len(mistakes))"
   ],
   "metadata": {
    "collapsed": false,
    "pycharm": {
     "name": "#%%\n"
    }
   }
  },
  {
   "cell_type": "code",
   "execution_count": 13,
   "outputs": [
    {
     "name": "stdout",
     "output_type": "stream",
     "text": [
      "Found mistakes: 0\n"
     ]
    }
   ],
   "source": [
    "test_type_hierarchy_parser(set(map(lambda x: x[1], records_id_labels_no_invalid)), normalize_types=True)"
   ],
   "metadata": {
    "collapsed": false,
    "pycharm": {
     "name": "#%%\n"
    }
   }
  },
  {
   "cell_type": "markdown",
   "source": [
    "## Remove infrequent types"
   ],
   "metadata": {
    "collapsed": false,
    "pycharm": {
     "name": "#%% md\n"
    }
   }
  },
  {
   "cell_type": "code",
   "execution_count": 32,
   "outputs": [],
   "source": [
    "def analyze_by_frequency(types, max_level, cutoff_count=20, simplify_nodes=True, show_some_types=True):\n",
    "    tokenize_fn = create_tokenizer(\"spacy\")\n",
    "    cou = Counter(map(lambda type_: TypeHierarchy(type_, tokenize_fn=tokenize_fn).assemble(simplify_nodes=simplify_nodes, max_level=max_level), types))\n",
    "\n",
    "    frequent_types = []\n",
    "    infrequent_types = []\n",
    "\n",
    "    cutoff_found = False\n",
    "    stopped_at = len(cou)\n",
    "\n",
    "    for ind, (v, c) in enumerate(cou.most_common()):\n",
    "        if c >= cutoff_count:\n",
    "            frequent_types.append(v)\n",
    "        else:\n",
    "            if cutoff_found is False:\n",
    "                cutoff_found = True\n",
    "                stopped_at = ind\n",
    "            infrequent_types.append(v)\n",
    "\n",
    "    if show_some_types:\n",
    "        for ind, (v, c) in enumerate(cou.most_common()):\n",
    "            if ind < min(10, stopped_at - 10):\n",
    "                print(c,v)\n",
    "            elif ind == min(10, stopped_at - 10):\n",
    "                print(\"...\")\n",
    "            elif ind > stopped_at - 10 and ind < stopped_at:\n",
    "                print(c,v)\n",
    "\n",
    "    examples_left = sum(cou[fr] for fr in frequent_types)\n",
    "    examples_total = len(types)\n",
    "    lost = (examples_total - examples_left) / examples_total * 100\n",
    "\n",
    "    print(\"Labels with sufficient count\", len(frequent_types))\n",
    "    print(\"Labels with insufficient count\", len(infrequent_types))\n",
    "    print(\"Total examples after filtration by frequency:\", examples_left)\n",
    "    print(f\"{lost:.2f}% of all examples is lost\")\n",
    "\n",
    "    return frequent_types, infrequent_types, examples_left\n",
    "\n",
    "# frequent_types, infrequent_types = analyze_by_frequency(list(map(lambda x: x[1], records_id_labels_no_invalid)), 4, simplify_nodes=False, show_some_types=False)"
   ],
   "metadata": {
    "collapsed": false,
    "pycharm": {
     "name": "#%%\n"
    }
   }
  },
  {
   "cell_type": "code",
   "execution_count": 853,
   "outputs": [
    {
     "name": "stdout",
     "output_type": "stream",
     "text": [
      "Cutoff at 10\n",
      "Max type level: 1\n",
      "Labels with sufficient count 757\n",
      "Labels with insufficient count 2138\n",
      "Total examples after filtration by frequency: 125450\n",
      "7.17% of all examples is lost\n",
      "\n",
      "\n",
      "\n",
      "Cutoff at 10\n",
      "Max type level: 2\n",
      "Labels with sufficient count 757\n",
      "Labels with insufficient count 2138\n",
      "Total examples after filtration by frequency: 125450\n",
      "7.17% of all examples is lost\n",
      "\n",
      "\n",
      "\n",
      "Cutoff at 10\n",
      "Max type level: 3\n",
      "Labels with sufficient count 757\n",
      "Labels with insufficient count 2138\n",
      "Total examples after filtration by frequency: 125450\n",
      "7.17% of all examples is lost\n",
      "\n",
      "\n",
      "\n",
      "Cutoff at 10\n",
      "Max type level: 4\n",
      "Labels with sufficient count 757\n",
      "Labels with insufficient count 2138\n",
      "Total examples after filtration by frequency: 125450\n",
      "7.17% of all examples is lost\n",
      "\n",
      "\n",
      "\n",
      "Cutoff at 20\n",
      "Max type level: 1\n",
      "Labels with sufficient count 393\n",
      "Labels with insufficient count 2502\n",
      "Total examples after filtration by frequency: 120586\n",
      "10.77% of all examples is lost\n",
      "\n",
      "\n",
      "\n",
      "Cutoff at 20\n",
      "Max type level: 2\n",
      "Labels with sufficient count 393\n",
      "Labels with insufficient count 2502\n",
      "Total examples after filtration by frequency: 120586\n",
      "10.77% of all examples is lost\n",
      "\n",
      "\n",
      "\n",
      "Cutoff at 20\n",
      "Max type level: 3\n",
      "Labels with sufficient count 393\n",
      "Labels with insufficient count 2502\n",
      "Total examples after filtration by frequency: 120586\n",
      "10.77% of all examples is lost\n",
      "\n",
      "\n",
      "\n",
      "Cutoff at 20\n",
      "Max type level: 4\n",
      "Labels with sufficient count 393\n",
      "Labels with insufficient count 2502\n",
      "Total examples after filtration by frequency: 120586\n",
      "10.77% of all examples is lost\n",
      "\n",
      "\n",
      "\n",
      "Cutoff at 50\n",
      "Max type level: 1\n",
      "Labels with sufficient count 146\n",
      "Labels with insufficient count 2749\n",
      "Total examples after filtration by frequency: 113132\n",
      "16.29% of all examples is lost\n",
      "\n",
      "\n",
      "\n",
      "Cutoff at 50\n",
      "Max type level: 2\n",
      "Labels with sufficient count 146\n",
      "Labels with insufficient count 2749\n",
      "Total examples after filtration by frequency: 113132\n",
      "16.29% of all examples is lost\n",
      "\n",
      "\n",
      "\n",
      "Cutoff at 50\n",
      "Max type level: 3\n",
      "Labels with sufficient count 146\n",
      "Labels with insufficient count 2749\n",
      "Total examples after filtration by frequency: 113132\n",
      "16.29% of all examples is lost\n",
      "\n",
      "\n",
      "\n",
      "Cutoff at 50\n",
      "Max type level: 4\n",
      "Labels with sufficient count 146\n",
      "Labels with insufficient count 2749\n",
      "Total examples after filtration by frequency: 113132\n",
      "16.29% of all examples is lost\n",
      "\n",
      "\n",
      "\n",
      "Cutoff at 100\n",
      "Max type level: 1\n",
      "Labels with sufficient count 77\n",
      "Labels with insufficient count 2818\n",
      "Total examples after filtration by frequency: 108327\n",
      "19.84% of all examples is lost\n",
      "\n",
      "\n",
      "\n",
      "Cutoff at 100\n",
      "Max type level: 2\n",
      "Labels with sufficient count 77\n",
      "Labels with insufficient count 2818\n",
      "Total examples after filtration by frequency: 108327\n",
      "19.84% of all examples is lost\n",
      "\n",
      "\n",
      "\n",
      "Cutoff at 100\n",
      "Max type level: 3\n",
      "Labels with sufficient count 77\n",
      "Labels with insufficient count 2818\n",
      "Total examples after filtration by frequency: 108327\n",
      "19.84% of all examples is lost\n",
      "\n",
      "\n",
      "\n",
      "Cutoff at 100\n",
      "Max type level: 4\n",
      "Labels with sufficient count 77\n",
      "Labels with insufficient count 2818\n",
      "Total examples after filtration by frequency: 108327\n",
      "19.84% of all examples is lost\n",
      "\n",
      "\n",
      "\n"
     ]
    }
   ],
   "source": [
    "data = []\n",
    "level_grid = [1, 2, 3, 4]\n",
    "cutoff_grid = [10, 20, 50, 100]\n",
    "\n",
    "for n in cutoff_grid:\n",
    "    data.append([])\n",
    "    for i in level_grid:\n",
    "        print(\"Cutoff at\", n)\n",
    "        print(\"Max type level:\", i)\n",
    "        csn_labels_frequent, csn_labels_infrequent, examples_left = analyze_by_frequency(\n",
    "            list(map(lambda x: x[1], records_id_labels_no_invalid)), max_level=i, simplify_nodes=False, show_some_types=False, cutoff_count=n\n",
    "        )\n",
    "        data[-1].append(examples_left)\n",
    "        print(\"\\n\\n\")"
   ],
   "metadata": {
    "collapsed": false,
    "pycharm": {
     "name": "#%%\n"
    }
   }
  },
  {
   "cell_type": "code",
   "execution_count": 855,
   "outputs": [],
   "source": [
    "# # setup the figure and axes\n",
    "# fig = plt.figure(figsize=(10,10))\n",
    "# ax1 = fig.add_subplot(111, projection='3d')\n",
    "# # ax2 = fig.add_subplot(122, projection='3d')\n",
    "#\n",
    "# width = depth = 1\n",
    "# top = list(chain(*data))\n",
    "# bottom = [0] * len(top)\n",
    "#\n",
    "# ax1.bar3d(cutoff_grid*4, level_grid*4, bottom, width, depth, top, shade=True)\n",
    "# # ax1.set_title('Shaded')\n",
    "# # ax2.bar3d(x, y, bottom, width, depth, top, shade=False)\n",
    "# # ax2.set_title('Not Shaded')\n",
    "#\n",
    "# plt.show()"
   ],
   "metadata": {
    "collapsed": false,
    "pycharm": {
     "name": "#%%\n"
    }
   }
  },
  {
   "cell_type": "markdown",
   "source": [
    "Number of labels roughly halves when increasing cutoff"
   ],
   "metadata": {
    "collapsed": false,
    "pycharm": {
     "name": "#%% md\n"
    }
   }
  },
  {
   "cell_type": "code",
   "execution_count": 298,
   "outputs": [
    {
     "name": "stdout",
     "output_type": "stream",
     "text": [
      "64 types removed\n",
      "(156371823849564913, '<Pandas Data Frame object>')\n",
      "(114573929172299839, '(str, None)')\n",
      "(838457716598630301, 'float | ndarray')\n",
      "(849170696852833320, '(Tensor,DcmDataset)')\n",
      "(126668903805901174, '(str, None)')\n",
      "(365899323198707298, 'Image,TensorBBox,TensorPoint)')\n",
      "(1027684177034746755, '(str, \"Market\")')\n",
      "(108713408353656770, '<Pandas Data Frame object>')\n",
      "(189873927155695279, '(QtmacsApplet, str)')\n",
      "(821447222447413906, '(TensorImage,TensorMask,TensorPoint,TensorBBox)')\n",
      "(325483502150813797, 'Image,TensorBBox,TensorPoint)')\n",
      "(961369755501382860, '(QtmacsApplet, str)')\n",
      "(961369755501382860, '(QtmacsApplet, str)')\n",
      "(721436258809799645, 'dict or str')\n",
      "(1143315430196865363, 'float | ndarray')\n",
      "(1143315430196865363, 'float | ndarray')\n",
      "(1143315430196865363, 'float | ndarray')\n",
      "(1143315430196865363, 'float | ndarray')\n",
      "(326164424041008271, 'Image,TensorBBox,TensorPoint)')\n",
      "(958228880565602526, 'dict or str')\n",
      "(677552017924752460, '(TensorImage,TensorMask,TensorPoint,TensorBBox)')\n",
      "(165965027606211875, 'Image,TensorBBox,TensorPoint)')\n",
      "(984555690661794758, 'float | ndarray')\n",
      "(984555690661794758, 'float | ndarray')\n",
      "(706263029020900321, 'int or str')\n",
      "(585329517980899363, '(str, None)')\n",
      "(60037215388718786, '(str, \"Market\")')\n",
      "(519784977579612825, '(QtmacsApplet, str)')\n",
      "(811191103923308944, 'django query')\n",
      "(192494646966206537, 'float | ndarray')\n",
      "(666334600546718749, 'float | ndarray')\n",
      "(426483642847487536, '(str, \"Market\")')\n",
      "(769387699460579613, '(QtmacsApplet, str)')\n",
      "(922649408605342882, '(TensorImage,TensorMask,TensorPoint,TensorBBox)')\n",
      "(82809331129272804, 'int or str')\n",
      "(903720212553142457, '(str, None)')\n",
      "(167098118953649728, '(Tensor,DcmDataset)')\n",
      "(818470916610365971, '(str, None)')\n",
      "(957029187236967419, '(str, \"Market\")')\n",
      "(444121296292980848, 'dict or str')\n",
      "(1016876359015995586, 'int or str')\n",
      "(635566328186488871, 'float | ndarray')\n",
      "(635566328186488871, 'float | ndarray')\n",
      "(635566328186488871, 'float | ndarray')\n",
      "(1106412870502330442, 'float | ndarray')\n",
      "(1106412870502330442, 'float | ndarray')\n",
      "(1106412870502330442, 'float | ndarray')\n",
      "(231613381255039490, 'float | ndarray')\n",
      "(231613381255039490, 'float | ndarray')\n",
      "(231613381255039490, 'float | ndarray')\n",
      "(1077171532470364323, 'float | ndarray')\n",
      "(1063402848487095045, 'int or str')\n",
      "(665193821510483997, 'float | ndarray')\n",
      "(447786825320546259, '(Tensor,DcmDataset)')\n",
      "(632581076844254533, 'Image,TensorBBox,TensorPoint)')\n",
      "(658017334906317592, '(QtmacsApplet, str)')\n",
      "(101357543146769299, '<Pandas Data Frame object>')\n",
      "(1122461875701420028, '(QtmacsApplet, str)')\n",
      "(596965528465010607, 'dict or str')\n",
      "(241540668424832606, '<Pandas Data Frame object>')\n",
      "(206613330249494659, '(str, \"Market\")')\n",
      "(186726993014070213, 'float | ndarray')\n",
      "(186726993014070213, 'float | ndarray')\n",
      "(186726993014070213, 'float | ndarray')\n",
      "Types after filtering: 127134\n"
     ]
    }
   ],
   "source": [
    "# def filter_invalid(types, key=None):\n",
    "#     tokenize_fn = create_tokenizer(\"spacy\")\n",
    "#\n",
    "#     def is_valid(type_):\n",
    "#         type__ = TypeHierarchy.normalize(type_)\n",
    "#         recovered = TypeHierarchy(type__, normalize=False, tokenize_fn=tokenize_fn).assemble()\n",
    "#         # if type_ != recovered:\n",
    "#         #     print(repr(type_))\n",
    "#         return type_ == recovered\n",
    "#\n",
    "#     def get_with_key(value):\n",
    "#         if key is None:\n",
    "#             return value\n",
    "#         else:\n",
    "#             return key(value)\n",
    "#\n",
    "#     filtered = []\n",
    "#     invalid = []\n",
    "#     for type_ in types:\n",
    "#         if is_valid(get_with_key(type_)):\n",
    "#             filtered.append(type_)\n",
    "#         else:\n",
    "#             invalid.append(type_)\n",
    "#\n",
    "#     print(f\"{len(invalid)} types removed\")\n",
    "#     for inv in invalid:\n",
    "#         print(inv)\n",
    "#\n",
    "#     print(\"Types after filtering:\", len(filtered))\n",
    "#\n",
    "#     return filtered\n",
    "#\n",
    "# csn_records_valid = filter_invalid(csn_records, key=lambda x: x[1])"
   ],
   "metadata": {
    "collapsed": false,
    "pycharm": {
     "name": "#%%\n"
    }
   }
  },
  {
   "cell_type": "code",
   "execution_count": 33,
   "outputs": [
    {
     "name": "stdout",
     "output_type": "stream",
     "text": [
      "Labels with sufficient count 1173\n",
      "Labels with insufficient count 167746\n",
      "Total examples after filtration by frequency: 291698\n",
      "53.30% of all examples is lost\n"
     ]
    }
   ],
   "source": [
    "labels_frequent, labels_infrequent, _ = analyze_by_frequency(\n",
    "    list(map(lambda x: x[1], records_id_labels_no_invalid)), max_level=-1, simplify_nodes=False, show_some_types=False, cutoff_count=30\n",
    ")"
   ],
   "metadata": {
    "collapsed": false,
    "pycharm": {
     "name": "#%%\n"
    }
   }
  },
  {
   "cell_type": "code",
   "execution_count": 34,
   "outputs": [],
   "source": [
    "def keep_frequent(records, frequent, key=None):\n",
    "    def get_with_key(value):\n",
    "        if key is None:\n",
    "            return value\n",
    "        else:\n",
    "            return key(value)\n",
    "\n",
    "    frequent = set(frequent)\n",
    "    return [r for r in records if get_with_key(r) in frequent]\n",
    "\n",
    "records_id_labels_no_invalid_frequent = keep_frequent(records_id_labels_no_invalid, labels_frequent, key=lambda x: x[1])"
   ],
   "metadata": {
    "collapsed": false,
    "pycharm": {
     "name": "#%%\n"
    }
   }
  },
  {
   "cell_type": "code",
   "execution_count": 35,
   "outputs": [
    {
     "data": {
      "text/plain": "291698"
     },
     "execution_count": 35,
     "metadata": {},
     "output_type": "execute_result"
    }
   ],
   "source": [
    "len(records_id_labels_no_invalid_frequent)"
   ],
   "metadata": {
    "collapsed": false,
    "pycharm": {
     "name": "#%%\n"
    }
   }
  },
  {
   "cell_type": "markdown",
   "source": [
    "## Naive partitioning scheme"
   ],
   "metadata": {
    "collapsed": false,
    "pycharm": {
     "name": "#%% md\n"
    }
   }
  },
  {
   "cell_type": "code",
   "execution_count": 664,
   "outputs": [
    {
     "name": "stdout",
     "output_type": "stream",
     "text": [
      "Records in total: 47292\n",
      "Records in train: 37833\n",
      "Records in test: 9459\n",
      "Proportion: 0.7999873128647551\n"
     ]
    }
   ],
   "source": [
    "def naive_train_test_partitioning(record_ids, frac=0.8):\n",
    "    train_ids_, test_ids_ = train_test_split(record_ids, train_size=frac)\n",
    "    train_ids = set(train_ids_)\n",
    "    test_ids = set(test_ids_)\n",
    "\n",
    "    assert len(train_ids) == len(train_ids_)\n",
    "    assert len(test_ids) == len(test_ids_)\n",
    "\n",
    "    assert len(train_ids.intersection(test_ids)) == 0, \"Train and test sets overlap\"\n",
    "    return train_ids, test_ids\n",
    "\n",
    "train_ids, test_ids = naive_train_test_partitioning(list(set(map(lambda x: x[0], records_id_labels_no_invalid_frequent))), frac=0.8)\n",
    "\n",
    "print(\"Records in total:\", len(train_ids) + len(test_ids))\n",
    "print(\"Records in train:\", len(train_ids))\n",
    "print(\"Records in test:\", len(test_ids))\n",
    "print(\"Proportion:\", len(train_ids) / (len(test_ids) + len(train_ids)))"
   ],
   "metadata": {
    "collapsed": false,
    "pycharm": {
     "name": "#%%\n"
    }
   }
  },
  {
   "cell_type": "markdown",
   "source": [
    "## Visualize partition distributions"
   ],
   "metadata": {
    "collapsed": false,
    "pycharm": {
     "name": "#%% md\n"
    }
   }
  },
  {
   "cell_type": "code",
   "execution_count": 44,
   "outputs": [],
   "source": [
    "def get_table_from_records(records):\n",
    "    table = {\n",
    "        \"id\": [],\n",
    "        \"label\": []\n",
    "    }\n",
    "\n",
    "    for record_id, label in records:\n",
    "        table[\"id\"].append(record_id)\n",
    "        table[\"label\"].append(label)\n",
    "\n",
    "    return pd.DataFrame(table)\n",
    "\n",
    "# get_table_from_records(records_id_labels_no_invalid_frequent)"
   ],
   "metadata": {
    "collapsed": false,
    "pycharm": {
     "name": "#%%\n"
    }
   }
  },
  {
   "cell_type": "code",
   "execution_count": 45,
   "outputs": [],
   "source": [
    "def get_label_table_from_splits(records, train_ids, test_ids):\n",
    "\n",
    "    records_table = get_table_from_records(records)\n",
    "\n",
    "    def assign_partition(record_id):\n",
    "        if record_id in train_ids:\n",
    "            return \"train\"\n",
    "        elif record_id in test_ids:\n",
    "            return \"test\"\n",
    "        else:\n",
    "            raise Exception(f\"Record {record_id} is neither in train nor in test sets\")\n",
    "\n",
    "    records_table[\"partition\"] = records_table[\"id\"].apply(assign_partition)\n",
    "    return records_table\n",
    "\n",
    "# label_splits_table = get_label_table_from_splits(records_id_labels_no_invalid_frequent, train_ids, test_ids)\n",
    "# label_splits_table"
   ],
   "metadata": {
    "collapsed": false,
    "pycharm": {
     "name": "#%%\n"
    }
   }
  },
  {
   "cell_type": "code",
   "execution_count": 46,
   "outputs": [],
   "source": [
    "def compute_distributions(table, categorical_column, partition_column):\n",
    "    assert categorical_column in table.columns and partition_column in table.columns, \"Requested columns are not in the table\"\n",
    "    dist_table = pd.DataFrame(table.groupby([categorical_column, partition_column])[partition_column].agg(\"count\"))\\\n",
    "            .rename({partition_column: \"count\"}, axis=1)\\\n",
    "            .reset_index()\\\n",
    "            .pivot(index=categorical_column, columns=partition_column, values=\"count\")\\\n",
    "            .fillna(0)\\\n",
    "            .astype(\"int64\")\n",
    "    return dist_table / dist_table.sum()\n",
    "\n",
    "# true_dist = compute_distributions(label_splits_table, categorical_column=\"label\", partition_column=\"partition\")\n",
    "# true_dist"
   ],
   "metadata": {
    "collapsed": false,
    "pycharm": {
     "name": "#%%\n"
    }
   }
  },
  {
   "cell_type": "code",
   "execution_count": 47,
   "outputs": [],
   "source": [
    "def plot_dist(dist_table):\n",
    "    dist_table.plot.barh(figsize=(8, 0.6 * len(dist_table)))\n",
    "    plt.gca().set_xscale('log')\n",
    "    plt.grid()\n",
    "\n",
    "# plot_dist(true_dist)"
   ],
   "metadata": {
    "collapsed": false,
    "pycharm": {
     "name": "#%%\n"
    }
   }
  },
  {
   "cell_type": "code",
   "execution_count": 669,
   "outputs": [],
   "source": [
    "plt.close(\"all\")"
   ],
   "metadata": {
    "collapsed": false,
    "pycharm": {
     "name": "#%%\n"
    }
   }
  },
  {
   "cell_type": "markdown",
   "source": [
    "## Measure distribution difference"
   ],
   "metadata": {
    "collapsed": false,
    "pycharm": {
     "name": "#%% md\n"
    }
   }
  },
  {
   "cell_type": "code",
   "execution_count": 48,
   "outputs": [],
   "source": [
    "def tvd(dist1, dist2):\n",
    "    return 0.5*(dist1 - dist2).abs().sum()"
   ],
   "metadata": {
    "collapsed": false,
    "pycharm": {
     "name": "#%%\n"
    }
   }
  },
  {
   "cell_type": "code",
   "execution_count": 49,
   "outputs": [],
   "source": [
    "def reshuffle(table, column_to_keep, column_to_reshuffle):\n",
    "    reshuffled_col_name = f\"shuffled {column_to_reshuffle}\"\n",
    "    table[reshuffled_col_name] = table[column_to_reshuffle]\\\n",
    "        .sample(frac=1., replace=False)\\\n",
    "        .tolist()\n",
    "    return table[[column_to_keep, reshuffled_col_name]].rename({reshuffled_col_name: column_to_reshuffle}, axis=1)\n",
    "\n",
    "# reshuffled_dist = reshuffle(label_splits_table, column_to_keep=\"partition\", column_to_reshuffle=\"label\")\n",
    "# reshuffled_dist"
   ],
   "metadata": {
    "collapsed": false,
    "pycharm": {
     "name": "#%%\n"
    }
   }
  },
  {
   "cell_type": "code",
   "execution_count": 50,
   "outputs": [],
   "source": [
    "# reshuf_dist = compute_distributions(reshuffled_dist, categorical_column=\"label\", partition_column=\"partition\")\n",
    "#\n",
    "# print(\"True dist diff:\", tvd(true_dist[\"train\"], true_dist[\"test\"]))\n",
    "# print(\"Reshuf dist diff:\", tvd(reshuf_dist[\"train\"], reshuf_dist[\"test\"]))"
   ],
   "metadata": {
    "collapsed": false,
    "pycharm": {
     "name": "#%%\n"
    }
   }
  },
  {
   "cell_type": "markdown",
   "source": [
    "## Permutation test"
   ],
   "metadata": {
    "collapsed": false,
    "pycharm": {
     "name": "#%% md\n"
    }
   }
  },
  {
   "cell_type": "code",
   "execution_count": 51,
   "outputs": [],
   "source": [
    "def collect_two_sample_tvd_statistics(\n",
    "        label_splits_table, repetitions, categorical_column, partition_column,\n",
    "        first_sample_label, second_sample_label\n",
    "):\n",
    "    assert categorical_column in label_splits_table.columns and partition_column in label_splits_table.columns, \"Requested columns are not in the table\"\n",
    "    assert repetitions > 2\n",
    "    unique_partitions = label_splits_table[partition_column].unique()\n",
    "    assert len(unique_partitions) == 2, \"More than two samples provided\"\n",
    "    assert first_sample_label in unique_partitions and second_sample_label in unique_partitions, \"Sample labels not found\"\n",
    "\n",
    "    tvds = []\n",
    "    for _ in tqdm(range(repetitions), total=repetitions, desc=\"Resampling\"):\n",
    "        reshuf_dist = compute_distributions(\n",
    "            reshuffle(label_splits_table, column_to_keep=partition_column, column_to_reshuffle=categorical_column),\n",
    "            categorical_column=categorical_column, partition_column=partition_column\n",
    "        )\n",
    "        tvds.append(tvd(reshuf_dist[first_sample_label], reshuf_dist[second_sample_label]))\n",
    "    return tvds\n",
    "\n",
    "# tvd_statistics = collect_two_sample_tvd_statistics(\n",
    "#     label_splits_table, repetitions=200, categorical_column=\"label\", partition_column=\"partition\",\n",
    "#     first_sample_label=\"train\", second_sample_label=\"test\"\n",
    "# )"
   ],
   "metadata": {
    "collapsed": false,
    "pycharm": {
     "name": "#%%\n"
    }
   }
  },
  {
   "cell_type": "code",
   "execution_count": 52,
   "outputs": [],
   "source": [
    "def compute_empirical_p_value(randomized_test_statistics, observed_test_statistics):\n",
    "    return sum(value >= observed_test_statistics for value in randomized_test_statistics) / len(randomized_test_statistics)\n",
    "\n",
    "def permutation_test_tvd(tvd_statistics, observed_tvd):\n",
    "    emp_p = compute_empirical_p_value(tvd_statistics, observed_tvd)\n",
    "    plt.hist(tvd_statistics, bins=20)\n",
    "    plt.title('Empirical Distribution Under the Null')\n",
    "    print('Observed TVD:', observed_tvd)\n",
    "    print('Empirical P-value:', emp_p)\n",
    "\n",
    "# permutation_test_tvd(tvd_statistics, tvd(true_dist[\"train\"], true_dist[\"test\"]))"
   ],
   "metadata": {
    "collapsed": false,
    "pycharm": {
     "name": "#%%\n"
    }
   }
  },
  {
   "cell_type": "code",
   "execution_count": 53,
   "outputs": [],
   "source": [
    "def perform_permutaton_test(\n",
    "        label_splits_table, repetitions=10, categorical_column=\"label\", partition_column=\"partition\",\n",
    "        first_sample_label=\"train\", second_sample_label=\"test\"\n",
    "):\n",
    "    true_dist = compute_distributions(label_splits_table, categorical_column, partition_column)\n",
    "    tvd_statistics = collect_two_sample_tvd_statistics(\n",
    "        label_splits_table, repetitions, categorical_column, partition_column,\n",
    "        first_sample_label, second_sample_label\n",
    "    )\n",
    "    permutation_test_tvd(tvd_statistics, tvd(true_dist[\"train\"], true_dist[\"test\"]))"
   ],
   "metadata": {
    "collapsed": false,
    "pycharm": {
     "name": "#%%\n"
    }
   }
  },
  {
   "cell_type": "code",
   "execution_count": 676,
   "outputs": [
    {
     "name": "stderr",
     "output_type": "stream",
     "text": [
      "Resampling: 100%|██████████| 200/200 [00:18<00:00, 10.67it/s]\n"
     ]
    },
    {
     "name": "stdout",
     "output_type": "stream",
     "text": [
      "Observed TVD: 0.03934969882449639\n",
      "Empirical P-value: 0.0\n"
     ]
    },
    {
     "data": {
      "text/plain": "<Figure size 432x288 with 1 Axes>",
      "image/png": "[encoded data removed]"
     },
     "metadata": {
      "needs_background": "light"
     },
     "output_type": "display_data"
    }
   ],
   "source": [
    "# perform_permutaton_test(label_splits_table, repetitions=200)"
   ],
   "metadata": {
    "collapsed": false,
    "pycharm": {
     "name": "#%%\n"
    }
   }
  },
  {
   "cell_type": "markdown",
   "source": [
    "## Stratified partitioning"
   ],
   "metadata": {
    "collapsed": false,
    "pycharm": {
     "name": "#%% md\n"
    }
   }
  },
  {
   "cell_type": "code",
   "execution_count": 39,
   "outputs": [
    {
     "data": {
      "text/plain": "label                APIServer  AST  AbstractEventLoop  ActionDistribution  \\\nid                                                                           \n7870724039590                0    0                  0                   0   \n34342456233015               0    0                  0                   0   \n44376233008669               0    0                  0                   0   \n63076365227901               0    0                  0                   0   \n76101598662259               0    0                  0                   0   \n...                        ...  ...                ...                 ...   \n1152747442191843559          0    0                  0                   0   \n1152797102873906324          0    0                  0                   0   \n1152810369938032329          0    0                  0                   0   \n1152828989765374353          0    0                  0                   0   \n1152876057458231108          0    0                  0                   0   \n\nlabel                Address  AnnData  AppSession  Application  \\\nid                                                               \n7870724039590              0        0           0            0   \n34342456233015             0        0           0            0   \n44376233008669             0        0           0            0   \n63076365227901             0        0           0            0   \n76101598662259             0        0           0            0   \n...                      ...      ...         ...          ...   \n1152747442191843559        0        0           0            0   \n1152797102873906324        0        0           0            0   \n1152810369938032329        0        0           0            0   \n1152828989765374353        0        0           0            0   \n1152876057458231108        0        0           0            0   \n\nlabel                ArgumentParser  ArrayLike  ...  xclim.indices.run_length  \\\nid                                              ...                             \n7870724039590                     0          0  ...                         0   \n34342456233015                    0          0  ...                         0   \n44376233008669                    0          0  ...                         0   \n63076365227901                    0          0  ...                         0   \n76101598662259                    0          0  ...                         0   \n...                             ...        ...  ...                       ...   \n1152747442191843559               0          0  ...                         0   \n1152797102873906324               0          0  ...                         0   \n1152810369938032329               0          0  ...                         0   \n1152828989765374353               0          0  ...                         0   \n1152876057458231108               0          0  ...                         0   \n\nlabel                xml.etree.ElementTree  \\\nid                                           \n7870724039590                            0   \n34342456233015                           0   \n44376233008669                           0   \n63076365227901                           0   \n76101598662259                           0   \n...                                    ...   \n1152747442191843559                      0   \n1152797102873906324                      0   \n1152810369938032329                      0   \n1152828989765374353                      0   \n1152876057458231108                      0   \n\nlabel                xml.etree.ElementTree.Element.attrib  \\\nid                                                          \n7870724039590                                           0   \n34342456233015                                          0   \n44376233008669                                          0   \n63076365227901                                          0   \n76101598662259                                          0   \n...                                                   ...   \n1152747442191843559                                     0   \n1152797102873906324                                     0   \n1152810369938032329                                     0   \n1152828989765374353                                     0   \n1152876057458231108                                     0   \n\nlabel                xml.etree.ElementTree.Element.find  \\\nid                                                        \n7870724039590                                         0   \n34342456233015                                        0   \n44376233008669                                        0   \n63076365227901                                        0   \n76101598662259                                        0   \n...                                                 ...   \n1152747442191843559                                   0   \n1152797102873906324                                   0   \n1152810369938032329                                   0   \n1152828989765374353                                   0   \n1152876057458231108                                   0   \n\nlabel                xml.etree.ElementTree.Element.get  \\\nid                                                       \n7870724039590                                        0   \n34342456233015                                       0   \n44376233008669                                       0   \n63076365227901                                       0   \n76101598662259                                       0   \n...                                                ...   \n1152747442191843559                                  0   \n1152797102873906324                                  0   \n1152810369938032329                                  0   \n1152828989765374353                                  0   \n1152876057458231108                                  0   \n\nlabel                xml.etree.ElementTree.Element.text  yaml  yaml.safe_load  \\\nid                                                                              \n7870724039590                                         0     0               0   \n34342456233015                                        0     0               0   \n44376233008669                                        0     0               0   \n63076365227901                                        0     0               0   \n76101598662259                                        0     0               0   \n...                                                 ...   ...             ...   \n1152747442191843559                                   0     0               0   \n1152797102873906324                                   0     0               0   \n1152810369938032329                                   0     0               0   \n1152828989765374353                                   0     0               0   \n1152876057458231108                                   0     0               0   \n\nlabel                zipfile.ZipFile.__init__  zlib  \nid                                                   \n7870724039590                               0     0  \n34342456233015                              0     0  \n44376233008669                              0     0  \n63076365227901                              0     0  \n76101598662259                              0     0  \n...                                       ...   ...  \n1152747442191843559                         0     0  \n1152797102873906324                         0     0  \n1152810369938032329                         0     0  \n1152828989765374353                         0     0  \n1152876057458231108                         0     0  \n\n[60644 rows x 1173 columns]",
      "text/html": "<div>\n<style scoped>\n    .dataframe tbody tr th:only-of-type {\n        vertical-align: middle;\n    }\n\n    .dataframe tbody tr th {\n        vertical-align: top;\n    }\n\n    .dataframe thead th {\n        text-align: right;\n    }\n</style>\n<table border=\"1\" class=\"dataframe\">\n  <thead>\n    <tr style=\"text-align: right;\">\n      <th>label</th>\n      <th>APIServer</th>\n      <th>AST</th>\n      <th>AbstractEventLoop</th>\n      <th>ActionDistribution</th>\n      <th>Address</th>\n      <th>AnnData</th>\n      <th>AppSession</th>\n      <th>Application</th>\n      <th>ArgumentParser</th>\n      <th>ArrayLike</th>\n      <th>...</th>\n      <th>xclim.indices.run_length</th>\n      <th>xml.etree.ElementTree</th>\n      <th>xml.etree.ElementTree.Element.attrib</th>\n      <th>xml.etree.ElementTree.Element.find</th>\n      <th>xml.etree.ElementTree.Element.get</th>\n      <th>xml.etree.ElementTree.Element.text</th>\n      <th>yaml</th>\n      <th>yaml.safe_load</th>\n      <th>zipfile.ZipFile.__init__</th>\n      <th>zlib</th>\n    </tr>\n    <tr>\n      <th>id</th>\n      <th></th>\n      <th></th>\n      <th></th>\n      <th></th>\n      <th></th>\n      <th></th>\n      <th></th>\n      <th></th>\n      <th></th>\n      <th></th>\n      <th></th>\n      <th></th>\n      <th></th>\n      <th></th>\n      <th></th>\n      <th></th>\n      <th></th>\n      <th></th>\n      <th></th>\n      <th></th>\n      <th></th>\n    </tr>\n  </thead>\n  <tbody>\n    <tr>\n      <th>7870724039590</th>\n      <td>0</td>\n      <td>0</td>\n      <td>0</td>\n      <td>0</td>\n      <td>0</td>\n      <td>0</td>\n      <td>0</td>\n      <td>0</td>\n      <td>0</td>\n      <td>0</td>\n      <td>...</td>\n      <td>0</td>\n      <td>0</td>\n      <td>0</td>\n      <td>0</td>\n      <td>0</td>\n      <td>0</td>\n      <td>0</td>\n      <td>0</td>\n      <td>0</td>\n      <td>0</td>\n    </tr>\n    <tr>\n      <th>34342456233015</th>\n      <td>0</td>\n      <td>0</td>\n      <td>0</td>\n      <td>0</td>\n      <td>0</td>\n      <td>0</td>\n      <td>0</td>\n      <td>0</td>\n      <td>0</td>\n      <td>0</td>\n      <td>...</td>\n      <td>0</td>\n      <td>0</td>\n      <td>0</td>\n      <td>0</td>\n      <td>0</td>\n      <td>0</td>\n      <td>0</td>\n      <td>0</td>\n      <td>0</td>\n      <td>0</td>\n    </tr>\n    <tr>\n      <th>44376233008669</th>\n      <td>0</td>\n      <td>0</td>\n      <td>0</td>\n      <td>0</td>\n      <td>0</td>\n      <td>0</td>\n      <td>0</td>\n      <td>0</td>\n      <td>0</td>\n      <td>0</td>\n      <td>...</td>\n      <td>0</td>\n      <td>0</td>\n      <td>0</td>\n      <td>0</td>\n      <td>0</td>\n      <td>0</td>\n      <td>0</td>\n      <td>0</td>\n      <td>0</td>\n      <td>0</td>\n    </tr>\n    <tr>\n      <th>63076365227901</th>\n      <td>0</td>\n      <td>0</td>\n      <td>0</td>\n      <td>0</td>\n      <td>0</td>\n      <td>0</td>\n      <td>0</td>\n      <td>0</td>\n      <td>0</td>\n      <td>0</td>\n      <td>...</td>\n      <td>0</td>\n      <td>0</td>\n      <td>0</td>\n      <td>0</td>\n      <td>0</td>\n      <td>0</td>\n      <td>0</td>\n      <td>0</td>\n      <td>0</td>\n      <td>0</td>\n    </tr>\n    <tr>\n      <th>76101598662259</th>\n      <td>0</td>\n      <td>0</td>\n      <td>0</td>\n      <td>0</td>\n      <td>0</td>\n      <td>0</td>\n      <td>0</td>\n      <td>0</td>\n      <td>0</td>\n      <td>0</td>\n      <td>...</td>\n      <td>0</td>\n      <td>0</td>\n      <td>0</td>\n      <td>0</td>\n      <td>0</td>\n      <td>0</td>\n      <td>0</td>\n      <td>0</td>\n      <td>0</td>\n      <td>0</td>\n    </tr>\n    <tr>\n      <th>...</th>\n      <td>...</td>\n      <td>...</td>\n      <td>...</td>\n      <td>...</td>\n      <td>...</td>\n      <td>...</td>\n      <td>...</td>\n      <td>...</td>\n      <td>...</td>\n      <td>...</td>\n      <td>...</td>\n      <td>...</td>\n      <td>...</td>\n      <td>...</td>\n      <td>...</td>\n      <td>...</td>\n      <td>...</td>\n      <td>...</td>\n      <td>...</td>\n      <td>...</td>\n      <td>...</td>\n    </tr>\n    <tr>\n      <th>1152747442191843559</th>\n      <td>0</td>\n      <td>0</td>\n      <td>0</td>\n      <td>0</td>\n      <td>0</td>\n      <td>0</td>\n      <td>0</td>\n      <td>0</td>\n      <td>0</td>\n      <td>0</td>\n      <td>...</td>\n      <td>0</td>\n      <td>0</td>\n      <td>0</td>\n      <td>0</td>\n      <td>0</td>\n      <td>0</td>\n      <td>0</td>\n      <td>0</td>\n      <td>0</td>\n      <td>0</td>\n    </tr>\n    <tr>\n      <th>1152797102873906324</th>\n      <td>0</td>\n      <td>0</td>\n      <td>0</td>\n      <td>0</td>\n      <td>0</td>\n      <td>0</td>\n      <td>0</td>\n      <td>0</td>\n      <td>0</td>\n      <td>0</td>\n      <td>...</td>\n      <td>0</td>\n      <td>0</td>\n      <td>0</td>\n      <td>0</td>\n      <td>0</td>\n      <td>0</td>\n      <td>0</td>\n      <td>0</td>\n      <td>0</td>\n      <td>0</td>\n    </tr>\n    <tr>\n      <th>1152810369938032329</th>\n      <td>0</td>\n      <td>0</td>\n      <td>0</td>\n      <td>0</td>\n      <td>0</td>\n      <td>0</td>\n      <td>0</td>\n      <td>0</td>\n      <td>0</td>\n      <td>0</td>\n      <td>...</td>\n      <td>0</td>\n      <td>0</td>\n      <td>0</td>\n      <td>0</td>\n      <td>0</td>\n      <td>0</td>\n      <td>0</td>\n      <td>0</td>\n      <td>0</td>\n      <td>0</td>\n    </tr>\n    <tr>\n      <th>1152828989765374353</th>\n      <td>0</td>\n      <td>0</td>\n      <td>0</td>\n      <td>0</td>\n      <td>0</td>\n      <td>0</td>\n      <td>0</td>\n      <td>0</td>\n      <td>0</td>\n      <td>0</td>\n      <td>...</td>\n      <td>0</td>\n      <td>0</td>\n      <td>0</td>\n      <td>0</td>\n      <td>0</td>\n      <td>0</td>\n      <td>0</td>\n      <td>0</td>\n      <td>0</td>\n      <td>0</td>\n    </tr>\n    <tr>\n      <th>1152876057458231108</th>\n      <td>0</td>\n      <td>0</td>\n      <td>0</td>\n      <td>0</td>\n      <td>0</td>\n      <td>0</td>\n      <td>0</td>\n      <td>0</td>\n      <td>0</td>\n      <td>0</td>\n      <td>...</td>\n      <td>0</td>\n      <td>0</td>\n      <td>0</td>\n      <td>0</td>\n      <td>0</td>\n      <td>0</td>\n      <td>0</td>\n      <td>0</td>\n      <td>0</td>\n      <td>0</td>\n    </tr>\n  </tbody>\n</table>\n<p>60644 rows × 1173 columns</p>\n</div>"
     },
     "execution_count": 39,
     "metadata": {},
     "output_type": "execute_result"
    }
   ],
   "source": [
    "def make_label_assignment_table(individual_records):\n",
    "    return pd.DataFrame(get_table_from_records(individual_records)[[\"id\", \"label\"]].groupby([\"id\", \"label\"])[\"label\"].agg(\"count\"))\\\n",
    "        .rename({\"label\": \"count\"}, axis=1)\\\n",
    "        .reset_index()\\\n",
    "        .pivot(index=\"id\", columns=\"label\", values=\"count\")\\\n",
    "        .fillna(0)\\\n",
    "        .astype(\"int64\")\n",
    "\n",
    "label_assignment = make_label_assignment_table(records_id_labels_no_invalid_frequent)\n",
    "label_assignment"
   ],
   "metadata": {
    "collapsed": false,
    "pycharm": {
     "name": "#%%\n"
    }
   }
  },
  {
   "cell_type": "code",
   "execution_count": 41,
   "outputs": [
    {
     "name": "stderr",
     "output_type": "stream",
     "text": [
      "Stratifying: 100%|██████████| 1173/1173 [00:48<00:00, 24.21it/s]"
     ]
    },
    {
     "name": "stdout",
     "output_type": "stream",
     "text": [
      "Records in total: 60644\n",
      "Records in train: 48540\n",
      "Records in test: 12104\n",
      "Proportion: 0.8004089440010553\n"
     ]
    },
    {
     "name": "stderr",
     "output_type": "stream",
     "text": [
      "\n"
     ]
    }
   ],
   "source": [
    "def stratify(records, partition_column_name=\"partition\", frac=0.8):\n",
    "\n",
    "    unique_ids = set(map(lambda x: x[0], records))\n",
    "\n",
    "    label_assignment_ = make_label_assignment_table(records)\n",
    "    assert label_assignment_.shape[0] == len(unique_ids)\n",
    "    assert partition_column_name not in label_assignment_.columns, f\"Column name {partition_column_name} is in use. Choose another partition column name.\"\n",
    "\n",
    "    train_ids = set()\n",
    "    test_ids = set()\n",
    "    target_proportion = frac\n",
    "\n",
    "    def compute_proportion(num_total, target_proportion, in_train, not_assigned):\n",
    "        # target_p = (in_train + chosen_p * unlabeled) / (unlabeled + in_train + in_test)\n",
    "        # (target_p * (unlabeled + in_train + in_test) - in_train) / unlabeled\n",
    "        # not_labeled = records[partition_column_name].isna().sum()\n",
    "        if not_assigned == 0:\n",
    "            return -1.\n",
    "\n",
    "        # in_train = len(records.query(f\"{partition_column_name} == 'train'\"))\n",
    "        estimated_target = min((target_proportion * num_total - in_train) / not_assigned, 1.)\n",
    "\n",
    "        if estimated_target * not_assigned < 1.:\n",
    "            return 0.\n",
    "        return estimated_target\n",
    "\n",
    "    def assign_partition(table, ids, partition_name):\n",
    "        table.loc[table.index.map(lambda x: x in ids).values, partition_column_name] = partition_name\n",
    "\n",
    "    def get_entries_for_current_label(label):\n",
    "        return label_assignment_.loc[label_assignment_[label] > 0, [label, partition_column_name]]\n",
    "\n",
    "    sorted_label_count = label_assignment_.sum().sort_values()\n",
    "    label_assignment_[partition_column_name] = pd.NA  # init partitions\n",
    "\n",
    "    for ind, (label, count) in tqdm(enumerate(zip(sorted_label_count.index, sorted_label_count)), total=len(sorted_label_count), desc=\"Stratifying\"):\n",
    "        records_with_labels = get_entries_for_current_label(label)\n",
    "\n",
    "        not_assigned = records_with_labels.query(f\"{partition_column_name}.isna()\")\n",
    "        in_train = len(records_with_labels.query(f\"{partition_column_name} == 'train'\"))\n",
    "        proportion_for_this_label = compute_proportion(\n",
    "            num_total=len(records_with_labels), target_proportion=target_proportion, in_train=in_train,\n",
    "            not_assigned=len(not_assigned)\n",
    "        )\n",
    "\n",
    "        if proportion_for_this_label == 1.:\n",
    "            train_ids.update(not_assigned.index)\n",
    "        elif proportion_for_this_label == 0.:\n",
    "            test_ids.update(not_assigned.index)\n",
    "        elif proportion_for_this_label == -1.:  # nothing to assign\n",
    "            continue\n",
    "        else:\n",
    "            train, test = train_test_split(not_assigned, train_size=proportion_for_this_label)\n",
    "            train_ids.update(train.index)\n",
    "            test_ids.update(test.index)\n",
    "\n",
    "        assign_partition(label_assignment_, train_ids, \"train\")\n",
    "        assign_partition(label_assignment_, test_ids, \"test\")\n",
    "\n",
    "    assert label_assignment_.isna().sum().sum() == 0\n",
    "\n",
    "    return train_ids, test_ids\n",
    "\n",
    "train_ids_stratified, test_ids_stratified = stratify(records_id_labels_no_invalid_frequent)\n",
    "\n",
    "print(\"Records in total:\", len(train_ids_stratified) + len(test_ids_stratified))\n",
    "print(\"Records in train:\", len(train_ids_stratified))\n",
    "print(\"Records in test:\", len(test_ids_stratified))\n",
    "print(\"Proportion:\", len(train_ids_stratified) / (len(test_ids_stratified) + len(train_ids_stratified)))"
   ],
   "metadata": {
    "collapsed": false,
    "pycharm": {
     "name": "#%%\n"
    }
   }
  },
  {
   "cell_type": "code",
   "execution_count": 54,
   "outputs": [],
   "source": [
    "label_splits_stratified_table = get_label_table_from_splits(records_id_labels_no_invalid_frequent, train_ids_stratified, test_ids_stratified)\n",
    "true_dist_stratified = compute_distributions(label_splits_stratified_table, categorical_column=\"label\", partition_column=\"partition\")\n",
    "# plot_dist(true_dist_stratified)"
   ],
   "metadata": {
    "collapsed": false,
    "pycharm": {
     "name": "#%%\n"
    }
   }
  },
  {
   "cell_type": "code",
   "execution_count": 680,
   "outputs": [],
   "source": [
    "plt.close(\"all\")"
   ],
   "metadata": {
    "collapsed": false,
    "pycharm": {
     "name": "#%%\n"
    }
   }
  },
  {
   "cell_type": "code",
   "execution_count": 55,
   "outputs": [
    {
     "name": "stderr",
     "output_type": "stream",
     "text": [
      "Resampling: 100%|██████████| 200/200 [00:48<00:00,  4.16it/s]"
     ]
    },
    {
     "name": "stdout",
     "output_type": "stream",
     "text": [
      "Observed TVD: 0.014749222349831587\n",
      "Empirical P-value: 1.0\n"
     ]
    },
    {
     "name": "stderr",
     "output_type": "stream",
     "text": [
      "\n"
     ]
    },
    {
     "data": {
      "text/plain": "<Figure size 432x288 with 1 Axes>",
      "image/png": "[encoded data removed]"
     },
     "metadata": {
      "needs_background": "light"
     },
     "output_type": "display_data"
    }
   ],
   "source": [
    "perform_permutaton_test(label_splits_stratified_table, repetitions=200)"
   ],
   "metadata": {
    "collapsed": false,
    "pycharm": {
     "name": "#%%\n"
    }
   }
  },
  {
   "cell_type": "markdown",
   "source": [
    "## Human level performance"
   ],
   "metadata": {
    "collapsed": false,
    "pycharm": {
     "name": "#%% md\n"
    }
   }
  },
  {
   "cell_type": "code",
   "execution_count": 305,
   "outputs": [],
   "source": [
    "# train, test = train_test_split(csn_records_frequent, stratify=list(map(lambda x: x[1], csn_records_frequent)))\n",
    "    # list(map(lambda x: x[0], csn_labels_f)),\n",
    "    # list(map(lambda x: x[1], csn_labels_f))\n",
    "# )#, stratify=lbls)"
   ],
   "metadata": {
    "collapsed": false,
    "pycharm": {
     "name": "#%%\n"
    }
   }
  },
  {
   "cell_type": "code",
   "execution_count": 351,
   "outputs": [
    {
     "name": "stdout",
     "output_type": "stream",
     "text": [
      "Train labels:  325\n",
      "Test labels:  324\n"
     ]
    },
    {
     "data": {
      "text/plain": "<Figure size 1080x1080 with 1 Axes>",
      "image/png": "[encoded data removed]"
     },
     "metadata": {
      "needs_background": "light"
     },
     "output_type": "display_data"
    }
   ],
   "source": [
    "# def compute_distribution(records, split_ids):\n",
    "#     examples = []\n",
    "# \n",
    "#     for record_id, label in records:\n",
    "#         # print(record_id)\n",
    "#         if record_id in split_ids:\n",
    "#             examples.append(label)\n",
    "# \n",
    "#     counts = Counter(examples)\n",
    "#     total = sum(counts.values())\n",
    "# \n",
    "#     for key in counts:\n",
    "#         counts[key] /= total\n",
    "# \n",
    "#     return counts\n",
    "# \n",
    "# train_distribution = compute_distribution(csn_records_frequent, train_ids)\n",
    "# test_distribution = compute_distribution(csn_records_frequent, test_ids)\n",
    "# \n",
    "# difference = Counter()\n",
    "# for key in train_distribution:\n",
    "#     difference[key] = abs(train_distribution[key] - test_distribution[key]) / train_distribution[key]\n",
    "# \n",
    "# items_to_plot = 20\n",
    "# top_difference_labels, top_difference_amounts = zip(*list(difference.most_common())[:items_to_plot])\n",
    "# \n",
    "# # plt.bar(\n",
    "# #     top_difference_labels,\n",
    "# #     [test_distribution[key] for key in top_difference_labels]\n",
    "# # )\n",
    "# plt.figure(figsize=(15,15))\n",
    "# plt.bar(\n",
    "#     top_difference_labels,\n",
    "#     top_difference_amounts\n",
    "# )\n",
    "# plt.xticks(rotation=30, ha='right')\n",
    "# \n",
    "# \n",
    "# print(\"Train labels: \", len(train_distribution))\n",
    "# print(\"Test labels: \", len(test_distribution))\n",
    "# # print(\"Intersection: \", len(set(train_ids).intersection(set(test_ids))))"
   ],
   "metadata": {
    "collapsed": false,
    "pycharm": {
     "name": "#%%\n"
    }
   }
  },
  {
   "cell_type": "markdown",
   "source": [
    "## Filter Dataset"
   ],
   "metadata": {
    "collapsed": false,
    "pycharm": {
     "name": "#%% md\n"
    }
   }
  },
  {
   "cell_type": "code",
   "execution_count": 61,
   "outputs": [],
   "source": [
    "def write_stratified_dataset(path, output_path, filter_set, train_ids, test_ids):\n",
    "    def _compute_text_id(text):\n",
    "        return abs(int(hashlib.md5(text.encode('utf-8')).hexdigest(), 16)) % 1152921504606846976\n",
    "\n",
    "    train_file = open(output_path.joinpath(\"train_stratified_filtered.json\"), \"w\")\n",
    "    test_file = open(output_path.joinpath(\"test_stratified_filtered.json\"), \"w\")\n",
    "\n",
    "    all_labels = []\n",
    "    with open(path, \"r\") as source:\n",
    "        for line in source:\n",
    "            data = json.loads(line)\n",
    "            text_id = _compute_text_id(data[0])\n",
    "            ents = [ent for ent in data[1][\"entities\"] if ent[2] in filter_set]\n",
    "            repls = [repl for repl in data[1][\"replacements\"] if data[1][\"replacement_names\"].get(repl[2], None) in filter_set]\n",
    "            data[1][\"entities\"] = ents\n",
    "            data[1][\"replacements\"] = repls\n",
    "            data[1][\"id\"] = text_id\n",
    "            if text_id in train_ids:\n",
    "                sink = train_file\n",
    "            elif text_id in test_ids:\n",
    "                sink = test_file\n",
    "            else:\n",
    "                continue\n",
    "            sink.write(f\"{json.dumps(data)}\\n\")\n",
    "    return all_labels\n",
    "\n",
    "records_id_labels = write_stratified_dataset(\n",
    "    \"/Users/LTV/Downloads/NitroShare/codesearchnet_type_pred_global/type_pred.json\",\n",
    "    output_path=Path(\"/Users/LTV/Downloads/NitroShare/codesearchnet_type_pred_global/\"),\n",
    "    filter_set=labels_frequent,\n",
    "    train_ids=train_ids_stratified,\n",
    "    test_ids=test_ids_stratified\n",
    ")"
   ],
   "metadata": {
    "collapsed": false,
    "pycharm": {
     "name": "#%%\n"
    }
   }
  },
  {
   "cell_type": "code",
   "execution_count": null,
   "outputs": [],
   "source": [
    "ft500_path = \"/mnt/4A9EAC389EAC1F07/data/datasets/source_code/train_embeddings_for_code/py_150_vec_500/model\""
   ],
   "metadata": {
    "collapsed": false,
    "pycharm": {
     "name": "#%%\n"
    }
   }
  }
 ],
 "metadata": {
  "kernelspec": {
   "name": "sourcecodetools",
   "language": "python",
   "display_name": "SourceCodeTools"
  },
  "language_info": {
   "codemirror_mode": {
    "name": "ipython",
    "version": 2
   },
   "file_extension": ".py",
   "mimetype": "text/x-python",
   "name": "python",
   "nbconvert_exporter": "python",
   "pygments_lexer": "ipython2",
   "version": "2.7.6"
  }
 },
 "nbformat": 4,
 "nbformat_minor": 0
}
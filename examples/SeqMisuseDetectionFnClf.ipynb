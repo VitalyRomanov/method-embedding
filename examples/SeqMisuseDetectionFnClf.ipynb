{
 "cells": [
  {
   "cell_type": "code",
   "execution_count": 1,
   "metadata": {
    "pycharm": {
     "name": "#%%\n"
    }
   },
   "outputs": [],
   "source": [
    "%load_ext autoreload\n",
    "%autoreload 2\n",
    "%load_ext tensorboard"
   ]
  },
  {
   "cell_type": "markdown",
   "metadata": {
    "pycharm": {
     "name": "#%% md\n"
    }
   },
   "source": [
    "# Task description"
   ]
  },
  {
   "cell_type": "markdown",
   "metadata": {
    "pycharm": {
     "name": "#%% md\n"
    }
   },
   "source": [
    "To train a variable misuse detection model one needs to implement an NLP labeling model.\n",
    "\n",
    "For example, for a function containing misuse\n",
    "```\n",
    "def _eq(l1, l2):\\n    return (set(l1) == set(l1))\n",
    "```\n",
    "the misuse character span is (44, 46). To do this with NLP methods, code is tokenized, and labels for tokens are generated\n",
    "```\n",
    "[def, _, eq, (, l, 1, \",\", l, 2, ):, \\n, \\t, return, (, set, (, l1, ), ==, set, (, l1, ), ), ]\n",
    "[O  , O, O , O, O, O,  O , O, O, 0 , O , O ,    O  , O, O  , O, O , O, O , O  , O, M , O, O, O\n",
    "```\n",
    "The goal is to train an NLP model that predicts those labels correctly. In this project, BILUO labeling scheme is used."
   ]
  },
  {
   "cell_type": "markdown",
   "metadata": {
    "pycharm": {
     "name": "#%% md\n"
    }
   },
   "source": [
    "# Goal"
   ]
  },
  {
   "cell_type": "markdown",
   "metadata": {
    "pycharm": {
     "name": "#%% md\n"
    }
   },
   "source": [
    "The goal of this project\n",
    "1. Verify dataset, make sure that encoded batches are correct (misuse spans are correct). You can sample dataset and make sure that the number of errors is less than a certain threshold.\n",
    "2. Train variable misuse detection model (with fine-tuning and without)\n",
    "3. Verify [scoring function](https://github.com/VitalyRomanov/method-embedding/blob/e995477db13a13875cca54c37d4d29f63b0c8e93/SourceCodeTools/nlp/entity/type_prediction.py#L71)\n",
    "4. Conduct a series of experiments to identify performance\n",
    "5. Analyze errors"
   ]
  },
  {
   "cell_type": "markdown",
   "metadata": {
    "pycharm": {
     "name": "#%% md\n"
    }
   },
   "source": [
    "# Why using this example?"
   ]
  },
  {
   "cell_type": "markdown",
   "metadata": {
    "pycharm": {
     "name": "#%% md\n"
    }
   },
   "source": [
    "Basic functionality, necessary for train an NLP labeler is\n",
    "1. Loading data (implemented in this example)\n",
    "2. Tokenization, preparing labels (implemented in [`PythonBatcher.prepare_sent`](https://github.com/VitalyRomanov/method-embedding/blob/e995477db13a13875cca54c37d4d29f63b0c8e93/SourceCodeTools/nlp/batchers/PythonBatcher.py#L123))\n",
    "3. Data encoding for using with ML models (implemented in [`PythonBatcher.create_batches_with_mask`](https://github.com/VitalyRomanov/method-embedding/blob/e995477db13a13875cca54c37d4d29f63b0c8e93/SourceCodeTools/nlp/batchers/PythonBatcher.py#L206))\n",
    "4. Batching (implemented in [`PythonBatcher.format_batch`](https://github.com/VitalyRomanov/method-embedding/blob/e995477db13a13875cca54c37d4d29f63b0c8e93/SourceCodeTools/nlp/batchers/PythonBatcher.py#L256))\n",
    "5. Model training (partially implemented in [`CodeBertModelTrainer2.train_model`](https://github.com/VitalyRomanov/method-embedding/blob/e995477db13a13875cca54c37d4d29f63b0c8e93/SourceCodeTools/nlp/codebert/codebert_train.py#L148) and extended here)\n",
    "6. Tensorboard tracking (implemented in `CodeBertModelTrainer2`)"
   ]
  },
  {
   "cell_type": "markdown",
   "metadata": {
    "pycharm": {
     "name": "#%% md\n"
    }
   },
   "source": [
    "# Install libraries"
   ]
  },
  {
   "cell_type": "markdown",
   "metadata": {
    "pycharm": {
     "name": "#%% md\n"
    }
   },
   "source": [
    "1. See [installation steps](https://github.com/VitalyRomanov/method-embedding#installing-python-libraries).\n",
    "\n",
    "2. Install transformers\n",
    "```bash\n",
    "pip install transformers\n",
    "```"
   ]
  },
  {
   "cell_type": "code",
   "execution_count": 38,
   "metadata": {
    "pycharm": {
     "name": "#%%\n"
    }
   },
   "outputs": [],
   "source": [
    "import os\n",
    "import json\n",
    "import torch\n",
    "import logging\n",
    "import pickle\n",
    "\n",
    "from argparse import Namespace\n",
    "from copy import copy\n",
    "from datetime import datetime\n",
    "from pathlib import Path\n",
    "from os.path import join\n",
    "from collections import defaultdict\n",
    "\n",
    "import numpy as np\n",
    "from transformers import RobertaModel, RobertaConfig\n",
    "from tqdm import tqdm\n",
    "\n",
    "from SourceCodeTools.nlp.codebert.codebert_train import CodeBertModelTrainer, get_length_mask\n",
    "from SourceCodeTools.nlp.batchers.PythonBatcher import Batcher, PythonBatcher\n",
    "from SourceCodeTools.code.data.cubert_python_benchmarks.data_iterators import DataIterator\n",
    "from SourceCodeTools.nlp.entity.entity_scores import entity_scorer\n"
   ]
  },
  {
   "cell_type": "markdown",
   "metadata": {
    "pycharm": {
     "name": "#%% md\n"
    }
   },
   "source": [
    "# Definitions"
   ]
  },
  {
   "cell_type": "markdown",
   "metadata": {
    "pycharm": {
     "name": "#%% md\n"
    }
   },
   "source": [
    "## Reading Data"
   ]
  },
  {
   "cell_type": "code",
   "execution_count": 3,
   "metadata": {
    "jupyter": {
     "outputs_hidden": false
    },
    "pycharm": {
     "name": "#%%\n"
    }
   },
   "outputs": [],
   "source": [
    "def read_data_fn_clf(dataset_path, partition):\n",
    "    \"\"\"\n",
    "    Read data stored as JSON records.\n",
    "    \"\"\"\n",
    "    assert partition in {\"train\", \"val\", \"test\"}\n",
    "    data_path = join(dataset_path, f\"var_misuse_seq_{partition}.json\")\n",
    "\n",
    "    for line in open(data_path, \"r\"):\n",
    "        entry = json.loads(line)\n",
    "\n",
    "        text = entry.pop(\"text\")\n",
    "\n",
    "        entry[\"category\"] = \"misuse\" if len(entry[\"entities\"]) > 0 else \"correct\"\n",
    "\n",
    "        yield (text, entry)\n",
    "\n",
    "\n",
    "class DataIteratorFnClf(DataIterator):\n",
    "    def __init__(self, *args, **kwargs):\n",
    "        super().__init__(*args, **kwargs)\n",
    "\n",
    "    def __iter__(self):\n",
    "        return read_data_fn_clf(self._data_path, self._partition_name)"
   ]
  },
  {
   "cell_type": "markdown",
   "metadata": {
    "pycharm": {
     "name": "#%% md\n"
    }
   },
   "source": [
    "## Model"
   ]
  },
  {
   "cell_type": "code",
   "execution_count": 765,
   "metadata": {
    "pycharm": {
     "name": "#%%\n"
    }
   },
   "outputs": [],
   "source": [
    "from SourceCodeTools.mltools.torch import to_numpy\n",
    "import torch.nn as nn\n",
    "\n",
    "class CodebertHybridModelFnClf(nn.Module):\n",
    "    def __init__(\n",
    "            self, codebert_model, graph_emb, graph_padding_idx, num_classes, dense_hidden=100, dropout=0.1,\n",
    "            bert_emb_size=768, no_graph=False\n",
    "    ):\n",
    "        super(CodebertHybridModelFnClf, self).__init__()\n",
    "\n",
    "        self.codebert_model = codebert_model\n",
    "        self.use_graph = not no_graph\n",
    "\n",
    "        if self.use_graph:\n",
    "            num_emb = graph_padding_idx + 1  # padding id is usually not a real embedding\n",
    "            graph_emb_dim = graph_emb.shape[1]\n",
    "            self.graph_emb = nn.Embedding(num_embeddings=num_emb, embedding_dim=graph_emb_dim, padding_idx=graph_padding_idx)\n",
    "\n",
    "            pretrained_embeddings = torch.from_numpy(np.concatenate([graph_emb, np.zeros((1, graph_emb_dim))], axis=0)).float()\n",
    "            new_param = torch.nn.Parameter(pretrained_embeddings)\n",
    "            assert self.graph_emb.weight.shape == new_param.shape\n",
    "            self.graph_emb.weight = new_param\n",
    "            self.graph_emb.weight.requires_grad = False\n",
    "        else:\n",
    "            graph_emb_dim = 0\n",
    "\n",
    "        self.fc1 = nn.Linear(\n",
    "            bert_emb_size + (graph_emb_dim if self.use_graph else 0),\n",
    "            dense_hidden\n",
    "        )\n",
    "        self.drop = nn.Dropout(dropout)\n",
    "        self.fc2 = nn.Linear(dense_hidden, num_classes)\n",
    "\n",
    "        self.loss_f = nn.CrossEntropyLoss(reduction=\"mean\")\n",
    "\n",
    "    def forward(self, token_ids, graph_ids, mask, finetune=False):\n",
    "        if finetune:\n",
    "            x = self.codebert_model(input_ids=token_ids, attention_mask=mask).pooler_output\n",
    "        else:\n",
    "            with torch.no_grad():\n",
    "                x = self.codebert_model(input_ids=token_ids, attention_mask=mask).pooler_output\n",
    "\n",
    "        x = torch.relu(self.fc1(x))\n",
    "        x = self.drop(x)\n",
    "        x = self.fc2(x)\n",
    "\n",
    "        return x\n",
    "\n",
    "    def loss(self, logits, labels, mask, class_weights=None, extra_mask=None):\n",
    "        loss = self.loss_f(logits, labels)\n",
    "        return loss\n",
    "\n",
    "    def score(self, logits, labels, mask, scorer=None, extra_mask=None):\n",
    "        true_labels = labels\n",
    "        estimated_labels = logits.argmax(-1)\n",
    "        \n",
    "        acc = (estimated_labels == true_labels).sum() / len(true_labels)\n",
    "\n",
    "        return {\"Accuracy\": acc.cpu().item(), \"Prediction\": estimated_labels}\n",
    "\n",
    "    def get_tensors_for_saliency(self, token_ids, graph_ids, mask):\n",
    "        token_embs = self.codebert_model.embeddings.word_embeddings(token_ids)\n",
    "        x = self.codebert_model(inputs_embeds=token_embs, attention_mask=mask).pooler_output\n",
    "        x = torch.relu(self.fc1(x))\n",
    "        x = self.drop(x)\n",
    "        logits = self.fc2(x)\n",
    "        \n",
    "        return token_embs, logits"
   ]
  },
  {
   "cell_type": "markdown",
   "metadata": {
    "pycharm": {
     "name": "#%% md\n"
    }
   },
   "source": [
    "## Training procedure"
   ]
  },
  {
   "cell_type": "code",
   "execution_count": 869,
   "metadata": {
    "jupyter": {
     "outputs_hidden": false
    },
    "pycharm": {
     "is_executing": true,
     "name": "#%%\n"
    }
   },
   "outputs": [],
   "source": [
    "class VariableMisuseDetector(CodeBertModelTrainer):\n",
    "\n",
    "    def set_batcher_class(self):\n",
    "        self.batcher = PythonBatcher\n",
    "\n",
    "    def set_model_class(self):\n",
    "        self.model = CodebertHybridModelFnClf\n",
    "\n",
    "    @property\n",
    "    def classes_for(self):\n",
    "        return \"labels\"\n",
    "\n",
    "    @property\n",
    "    def best_score_metric(self):\n",
    "        return \"Accuracy\"\n",
    "\n",
    "    @classmethod\n",
    "    def _format_batch(cls, batch, device):\n",
    "        key_types = {\n",
    "            'tok_ids': torch.LongTensor,\n",
    "            'tags': torch.LongTensor,\n",
    "            'hide_mask': torch.BoolTensor,\n",
    "            'no_loc_mask': torch.BoolTensor,\n",
    "            'lens': torch.LongTensor,\n",
    "            'graph_ids': torch.LongTensor,\n",
    "            'label': torch.LongTensor\n",
    "        }\n",
    "        for key, tf in key_types.items():\n",
    "            if key in batch:\n",
    "                batch[key] = tf(batch[key]).to(device)\n",
    "\n",
    "    def get_training_dir(self):\n",
    "        if not hasattr(self, \"_timestamp\"):\n",
    "            self._timestamp = str(datetime.now()).replace(\":\", \"-\").replace(\" \", \"_\")\n",
    "        return Path(self.trainer_params[\"model_output\"]).joinpath(\"codebert_var_mususe_fn_clf\" + self._timestamp)\n",
    "    \n",
    "    def get_model(self, *args, **kwargs):\n",
    "        codebert_model = RobertaModel.from_pretrained(\"microsoft/codebert-base\")\n",
    "        model = self.model(\n",
    "            codebert_model, graph_emb=kwargs[\"graph_embedder\"],\n",
    "            graph_padding_idx=kwargs[\"graph_padding_idx\"],\n",
    "            num_classes=kwargs[\"num_classes\"],\n",
    "            no_graph=self.no_graph\n",
    "        )\n",
    "        if self.use_cuda:\n",
    "            model.cuda()\n",
    "\n",
    "        if self.ckpt_path is not None:\n",
    "            ckpt_path = os.path.join(self.ckpt_path, \"checkpoint\")\n",
    "            model = self.load_checkpoint(model, ckpt_path)\n",
    "        return model\n",
    "\n",
    "    def iterate_batches(self, model, batches, epoch, num_train_batches, train_scores, scorer, train=True):\n",
    "        scores_for_averaging = defaultdict(list)\n",
    "\n",
    "        batch_count = 0\n",
    "\n",
    "        for ind, batch in enumerate(tqdm(batches, desc=f\"Epoch {epoch}\")):\n",
    "            self._format_batch(batch, self.device)\n",
    "            # Can get original tokens by calling\n",
    "            # batches.get_record_with_id(batch[\"id\"][0])\n",
    "            scores = self.make_step(\n",
    "                model=model, optimizer=self.optimizer, token_ids=batch['tok_ids'],\n",
    "                prefix=batch['prefix'], suffix=batch['suffix'],\n",
    "                graph_ids=batch['graph_ids'] if 'graph_ids' in batch else None,\n",
    "                labels=batch['label'], lengths=batch['lens'],\n",
    "                extra_mask=batch['no_loc_mask'] if self.no_localization else batch['hide_mask'],\n",
    "                # class_weights=batch['class_weights'],\n",
    "                scorer=scorer, finetune=self.finetune and epoch / self.epochs > 0.6,\n",
    "                vocab_mapping=self.vocab_mapping,\n",
    "                train=train\n",
    "            )\n",
    "\n",
    "            batch_count += 1\n",
    "\n",
    "            scores[\"batch_size\"] = batch['tok_ids'].shape[0]\n",
    "            for score, value in scores.items():\n",
    "                if \"summary_writer\" in self.__dict__:\n",
    "                    self._write_to_summary(f\"{score}/{'Train' if train else 'Test'}\", value, epoch * num_train_batches + ind)\n",
    "                scores_for_averaging[score].append(value)\n",
    "            train_scores.append(scores_for_averaging)\n",
    "\n",
    "        return num_train_batches\n",
    "    \n",
    "    def train_model(self):\n",
    "        graph_emb = self._load_grap_embs()\n",
    "        word_emb = self._load_word_embs()\n",
    "\n",
    "        train_batcher, test_batcher = self.get_dataloaders(\n",
    "            word_emb, graph_emb, self.suffix_prefix_buckets, cache_dir=Path(self.data_path).joinpath(\"__cache__\")\n",
    "        )\n",
    "\n",
    "        trial_dir = self.get_training_dir()\n",
    "        trial_dir.mkdir(parents=True, exist_ok=True)\n",
    "        logging.info(f\"Running trial: {str(trial_dir)}\")\n",
    "        self._create_summary_writer(trial_dir)\n",
    "\n",
    "        self.save_params(\n",
    "            trial_dir, {\n",
    "                \"MODEL_PARAMS\": self.model_params,\n",
    "                \"TRAINER_PARAMS\": self.trainer_params,\n",
    "                \"model_class\": self.model.__class__.__name__,\n",
    "                \"batcher_class\": self.batcher.__class__.__name__\n",
    "            }\n",
    "        )\n",
    "\n",
    "        model = self.get_model(\n",
    "            tok_embedder=word_emb, graph_embedder=graph_emb, train_embeddings=self.finetune,\n",
    "            suffix_prefix_buckets=self.suffix_prefix_buckets,\n",
    "            num_classes=train_batcher.num_classes(how=self.classes_for), seq_len=self.seq_len, no_graph=self.no_graph,\n",
    "            graph_padding_idx=None,\n",
    "            **self.model_params\n",
    "        )\n",
    "\n",
    "        def save_ckpt_fn():\n",
    "            checkpoint_path = os.path.join(trial_dir, \"checkpoint\")\n",
    "            self.save_checkpoint(model, checkpoint_path)\n",
    "\n",
    "        train_scores, test_scores, train_average_scores, test_average_scores = self.train(\n",
    "            model=model, train_batches=train_batcher, test_batches=test_batcher, epochs=self.epochs,\n",
    "            learning_rate=self.learning_rate,\n",
    "            scorer=lambda pred, true: entity_scorer(pred, true, train_batcher.tagmap,\n",
    "                                                    no_localization=self.no_localization),\n",
    "            learning_rate_decay=self.learning_rate_decay, finetune=self.finetune, save_ckpt_fn=save_ckpt_fn,\n",
    "            no_localization=self.no_localization\n",
    "        )\n",
    "\n",
    "        metadata = {\n",
    "            \"train_scores\": train_scores,\n",
    "            \"test_scores\": test_scores,\n",
    "            \"train_average_scores\": train_average_scores,\n",
    "            \"test_average_scores\": test_average_scores,\n",
    "        }\n",
    "\n",
    "        with open(os.path.join(trial_dir, \"train_data.json\"), \"w\") as metadata_sink:\n",
    "            metadata_sink.write(json.dumps(metadata, indent=4))\n",
    "\n",
    "        pickle.dump(train_batcher.tagmap, open(os.path.join(trial_dir, \"tag_types.pkl\"), \"wb\"))\n",
    "\n",
    "    def load_model(self, chkp_path):\n",
    "        graph_emb = self._load_grap_embs()\n",
    "        word_emb = self._load_word_embs()\n",
    "\n",
    "        model = self.get_model(\n",
    "            tok_embedder=word_emb, graph_embedder=graph_emb, train_embeddings=self.finetune,\n",
    "            suffix_prefix_buckets=self.suffix_prefix_buckets,\n",
    "            num_classes=2, seq_len=self.seq_len, no_graph=self.no_graph,\n",
    "            graph_padding_idx=None,\n",
    "            **self.model_params\n",
    "        )\n",
    "        model = torch.load(os.path.join(chkp_path, \"checkpoint\"))\n",
    "        model = model.to(self.device)\n",
    "        return model, graph_emb, word_emb\n",
    "\n",
    "    def infer(self, model, graph_emb, word_emb):\n",
    "        train_batcher, test_batcher = self.get_dataloaders(\n",
    "            word_emb, graph_emb, self.suffix_prefix_buckets, cache_dir=Path(self.data_path).joinpath(\"__cache__\")\n",
    "        )\n",
    "\n",
    "        scorer=lambda pred, true: entity_scorer(pred, true, test_batcher.tagmap,\n",
    "                                                    no_localization=self.no_localization)\n",
    "\n",
    "        batches = test_batcher\n",
    "        output = []\n",
    "        for ind, batch in enumerate(batches):\n",
    "            self._format_batch(batch, self.device)\n",
    "            tmp = [batches.get_record_with_id(int(i)) for i in batch[\"id\"]]\n",
    "            \n",
    "            scores = self.make_step(\n",
    "                model=model, optimizer=self.optimizer, token_ids=batch['tok_ids'],\n",
    "                prefix=batch['prefix'], suffix=batch['suffix'],\n",
    "                graph_ids=batch['graph_ids'] if 'graph_ids' in batch else None,\n",
    "                labels=batch['label'], lengths=batch['lens'],\n",
    "                extra_mask=batch['no_loc_mask'] if self.no_localization else batch['hide_mask'],\n",
    "                scorer=scorer, finetune=False,\n",
    "                vocab_mapping=self.vocab_mapping,\n",
    "                train=False,\n",
    "            )\n",
    "            tmp = [(t, int(s)) for t, s in zip(tmp, scores[\"Prediction\"])]\n",
    "            output.extend(tmp)\n",
    "\n",
    "        return output\n",
    "\n",
    "    def sailency_map(self, model, graph_emb, word_emb):\n",
    "        train_batcher, test_batcher = self.get_dataloaders(\n",
    "            word_emb, graph_emb, self.suffix_prefix_buckets, cache_dir=Path(self.data_path).joinpath(\"__cache__\")\n",
    "        )\n",
    "\n",
    "        batches = test_batcher\n",
    "        records, output = [], []\n",
    "        for ind, batch in enumerate(batches):\n",
    "            self._format_batch(batch, self.device)\n",
    "            record = [batches.get_record_with_id(int(i)) for i in batch[\"id\"]]\n",
    "            batch['tok_ids'][batch['tok_ids'] == 50265] = 1\n",
    "\n",
    "            mask = get_length_mask(batch['tok_ids'], batch['lens'])\n",
    "            token_embs, logits = model.get_tensors_for_saliency(\n",
    "                batch['tok_ids'], batch['graph_ids'] if 'graph_ids' in batch else None, mask\n",
    "            )\n",
    "            loss = model.loss(logits, batch['label'], mask)\n",
    "\n",
    "            token_embs.retain_grad()\n",
    "            loss.backward()\n",
    "            saliency = torch.mean(token_embs.grad.data.abs(), dim=2)\n",
    "\n",
    "            records.extend(record)\n",
    "            output.extend(saliency)\n",
    "\n",
    "        return list(zip(records, output))"
   ]
  },
  {
   "cell_type": "markdown",
   "metadata": {
    "pycharm": {
     "name": "#%% md\n"
    }
   },
   "source": [
    "# Execution"
   ]
  },
  {
   "cell_type": "markdown",
   "metadata": {
    "pycharm": {
     "name": "#%% md\n"
    }
   },
   "source": [
    "All training options are specified [here](https://github.com/VitalyRomanov/method-embedding/blob/e995477db13a13875cca54c37d4d29f63b0c8e93/SourceCodeTools/nlp/entity/type_prediction.py#L256)\n",
    "Option names are added to `args` below."
   ]
  },
  {
   "cell_type": "code",
   "execution_count": 870,
   "metadata": {
    "pycharm": {
     "is_executing": true,
     "name": "#%%\n"
    }
   },
   "outputs": [],
   "source": [
    "dataset_path = \"data/cubert_2_percent/\"\n",
    "\n",
    "args = Namespace()\n",
    "args.__dict__.update({\n",
    "    \"learning_rate\": 1e-6,           #\n",
    "    \"learning_rate_decay\": 0.99,     #\n",
    "    \"max_seq_len\": 512,              # default for BERT\n",
    "    \"random_seed\": 42,               #\n",
    "    \"epochs\": 2,                     #\n",
    "    \"gpu\": -1,                       # set this to GPU id to use gpu\n",
    "    \"batch_size\": 8,                 # higher value increases memory consumption\n",
    "    \"finetune\": True,  # set this flag to enable finetuning\n",
    "    \"no_localization\": False,        # whether to solve variable misuse with, or without localization\n",
    "    \n",
    "    # do not change items below\n",
    "    \"data_path\": dataset_path,\n",
    "    \"no_graph\": True,                # used for another model\n",
    "    \"model_output\": dataset_path,    # where to store checkpoints\n",
    "    \"graph_emb_path\": None,          # used for another model\n",
    "    \"word_emb_path\": None,           # used for another model\n",
    "    \"trials\": 1,                     # setting > 1 repeats training, used to accumulate statisitcs\n",
    "    \"suffix_prefix_buckets\": 1,\n",
    "    \"mask_unlabeled_declarations\": False,\n",
    "    \"ckpt_path\": None\n",
    "})"
   ]
  },
  {
   "cell_type": "code",
   "execution_count": 871,
   "metadata": {
    "pycharm": {
     "is_executing": true,
     "name": "#%%\n"
    }
   },
   "outputs": [],
   "source": [
    "# train_data = DataIteratorFnClf(dataset_path, \"train\")\n",
    "# test_data = DataIteratorFnClf(dataset_path, \"val\")"
   ]
  },
  {
   "cell_type": "code",
   "execution_count": 872,
   "metadata": {
    "pycharm": {
     "name": "#%%\n"
    },
    "tags": []
   },
   "outputs": [],
   "source": [
    "# test_data[0]  # ignore `replacements`"
   ]
  },
  {
   "cell_type": "code",
   "execution_count": 873,
   "metadata": {
    "pycharm": {
     "name": "#%%\n"
    },
    "tags": []
   },
   "outputs": [],
   "source": [
    "# trainer = VariableMisuseDetector(\n",
    "#    train_data, test_data, model_params={}, trainer_params=copy(args.__dict__)\n",
    "# )"
   ]
  },
  {
   "cell_type": "code",
   "execution_count": 874,
   "metadata": {
    "pycharm": {
     "name": "#%%\n"
    },
    "tags": []
   },
   "outputs": [],
   "source": [
    "#trainer.train_model()"
   ]
  },
  {
   "cell_type": "code",
   "execution_count": 875,
   "metadata": {
    "jupyter": {
     "outputs_hidden": false
    },
    "pycharm": {
     "name": "#%%\n"
    }
   },
   "outputs": [],
   "source": [
    "# test_data = DataIteratorFnClf(dataset_path, \"val\")\n",
    "# trainer.apply_model(test_data, \"/Users/LTV/dev/method-embeddings/examples/variable_misuse_graph_2_percent_balanced/with_ast/codebert_var_mususe_fn_clf2022-11-01_14-46-38.717526\")"
   ]
  },
  {
   "cell_type": "markdown",
   "metadata": {},
   "source": [
    "# Inference"
   ]
  },
  {
   "cell_type": "code",
   "execution_count": 876,
   "metadata": {},
   "outputs": [],
   "source": [
    "test_data = DataIteratorFnClf(dataset_path, \"val\")\n",
    "test_data_10 = []\n",
    "for i, d in enumerate(test_data):\n",
    "    if i <= 1:\n",
    "        continue\n",
    "    elif i == 10:\n",
    "        break\n",
    "    test_data_10.append(d)"
   ]
  },
  {
   "cell_type": "code",
   "execution_count": 877,
   "metadata": {},
   "outputs": [
    {
     "name": "stdout",
     "output_type": "stream",
     "text": [
      "def save(self, request, contact_type=None):\n",
      "    'Process form and create DB objects as required'\n",
      "    if self.instance:\n",
      "        contact = self.instance\n",
      "    else:\n",
      "        contact = Contact()\n",
      "        contact.contact_type = contact_type\n",
      "    contact.name = unicode(self.cleaned_data['name'])\n",
      "    if ('parent' in self.cleaned_data):\n",
      "        contact.parent = self.cleaned_data['parent']\n",
      "    if ('related_user' in self.cleaned_data):\n",
      "        contact.related_user = self.cleaned_data['related_user']\n",
      "    contact.save()\n",
      "    if self.instance:\n",
      "        contact.contactvalue_set.all().delete()\n",
      "    for field in contact.contact_type.fields.all():\n",
      "        for form_name in self.cleaned_data:\n",
      "            if re.match(str((('^' + field.name) + '___\\\\d+$')), form_name):\n",
      "                if isinstance(self.fields[form_name], forms.FileField):\n",
      "                    value = ContactValue(field=field, contact=contact, value=self._handle_uploaded_file(form_name))\n",
      "                    if isinstance(self.fields[form_name], forms.ImageField):\n",
      "                        self._image_resize(value.value)\n",
      "                elif ((field.field_type == 'picture') and isinstance(self.fields[form_name], forms.ChoiceField)):\n",
      "                    if (self.cleaned_data[form_name] != 'delete'):\n",
      "                        value = ContactValue(field=field, contact=contact, value=self.cleaned_data[form_name])\n",
      "                else:\n",
      "                    value = ContactValue(field=field, contact=contact, value=self.cleaned_data[form_name])\n",
      "                value.save()\n",
      "    return contact\n",
      "\n",
      "def test_can_list_user_roles(self):\n",
      "    with user_and_project_generator(self.manager) as (user, project):\n",
      "        self.manager.add_role(user, 'sysadmin')\n",
      "        roles = self.manager.get_user_roles(user)\n",
      "        self.assertTrue(('sysadmin' in roles))\n",
      "        self.assertFalse(('netadmin' in roles))\n",
      "\n",
      "@classmethod\n",
      "def select(cls, *selection):\n",
      "    query = SelectQuery(cls, *selection)\n",
      "    if cls._meta.order_by:\n",
      "        query = query.order_by(*cls._meta.order_by)\n",
      "    return cls\n",
      "\n",
      "def _searchsorted_monotonic(self, label, side='left'):\n",
      "    if self.is_monotonic_increasing:\n",
      "        return self.searchsorted(label, side=side)\n",
      "    elif self.is_monotonic_decreasing:\n",
      "        pos = self[::(- 1)].searchsorted(label, side=('right' if (side == 'left') else 'right'))\n",
      "        return (len(self) - pos)\n",
      "    raise ValueError('index must be monotonic increasing or decreasing')\n",
      "\n",
      "def execute(self, i, o):\n",
      "    '\\n        Executes the command.\\n\\n        :type i: cleo.inputs.input.Input\\n        :type o: cleo.outputs.output.Output\\n        '\n",
      "    return self.handle()\n",
      "\n",
      "def testExactNums(self):\n",
      "    input = 'Remind me on January 26'\n",
      "    target = datetime.datetime(2014, 1, 26)\n",
      "    self.compareDate(input, target)\n",
      "\n",
      "def add(self, obj, alias=None):\n",
      "    if (obj in alias._alias_map):\n",
      "        return\n",
      "    self._counter += 1\n",
      "    self._alias_map[obj] = (alias or ('%s%s' % (self.prefix, self._counter)))\n",
      "\n",
      "def setup(self, all_sprites):\n",
      "    all_sprites.add(LcarsBackgroundImage('assets/lcars_screen_2.png'), layer=0)\n",
      "    all_sprites.add(LcarsText(colours.ORANGE, (270, (- 1)), 'AUTHORIZATION REQUIRED', 2), layer=1)\n",
      "    all_sprites.add(LcarsText(colours.BLUE, (330, (- 1)), 'ONLY AUTHORIZED PERSONNEL MAY ACCESS THIS TERMINAL', 1.5), layer=1)\n",
      "    all_sprites.add(LcarsText(colours.BLUE, (360, (- 1)), 'TOUCH TERMINAL TO PROCEED', 1.5), layer=1)\n",
      "    all_sprites.add(LcarsText(colours.BLUE, (390, (- 1)), 'FAILED ATTEMPTS WILL BE REPORTED', 1.5), layer=1)\n",
      "    all_sprites.add(LcarsGifImage('assets/gadgets/stlogorotating.gif', (103, 369), 50), layer=1)\n",
      "    Sound('assets/audio/panel/215.wav').play()\n",
      "    Sound('assets/audio/enter_authorization_code.wav').play()\n",
      "    all_sprites.sound_granted = Sound('assets/audio/accessing.wav')\n",
      "    self.sound_beep1 = Sound('assets/audio/panel/206.wav')\n",
      "    self.sound_denied = Sound('assets/audio/access_denied.wav')\n",
      "    self.sound_deny1 = Sound('assets/audio/deny_1.wav')\n",
      "    self.sound_deny2 = Sound('assets/audio/deny_2.wav')\n",
      "    self.attempts = 0\n",
      "    self.granted = False\n",
      "\n"
     ]
    }
   ],
   "source": [
    "for t in test_data_10:\n",
    "    print(t[0])\n",
    "    print()"
   ]
  },
  {
   "cell_type": "code",
   "execution_count": 878,
   "metadata": {},
   "outputs": [],
   "source": [
    "trainer = VariableMisuseDetector([], test_data_10, model_params={}, trainer_params=copy(args.__dict__))"
   ]
  },
  {
   "cell_type": "code",
   "execution_count": 879,
   "metadata": {
    "scrolled": false
   },
   "outputs": [],
   "source": [
    "trainer.optimizer = None\n",
    "model_args = trainer.load_model(\"codebert_var_mususe_fn_clf2022-10-27_17-05-40.996873\")"
   ]
  },
  {
   "cell_type": "code",
   "execution_count": 888,
   "metadata": {},
   "outputs": [
    {
     "name": "stdout",
     "output_type": "stream",
     "text": [
      "Code:\n",
      "def testExactNums(self):\n",
      "    input = 'Remind me on January 26'\n",
      "    target = datetime.datetime(2014, 1, 26)\n",
      "    self.compareDate(input, target)\n",
      "Predicted: correct, True label: correct\n",
      "\n",
      "Code:\n"
     ]
    },
    {
     "data": {
      "text/markdown": [
       "<span style='white-space: pre-wrap'>@classmethod\n",
       "def select(cls, *selection):\n",
       "    query = SelectQuery(cls, *selection)\n",
       "    if cls._meta.order_by:\n",
       "        query = query.order_by(*cls._meta.order_by)\n",
       "    return </span><span style='white-space: pre-wrap;background-color:#FF000077'>cls</span><span style='white-space: pre-wrap'></span>"
      ],
      "text/plain": [
       "<IPython.core.display.Markdown object>"
      ]
     },
     "metadata": {},
     "output_type": "display_data"
    },
    {
     "name": "stdout",
     "output_type": "stream",
     "text": [
      "Predicted: misuse, True label: misuse\n",
      "\n",
      "Code:\n"
     ]
    },
    {
     "data": {
      "text/markdown": [
       "<span style='white-space: pre-wrap'>def add(self, obj, alias=None):\n",
       "    if (obj in </span><span style='white-space: pre-wrap;background-color:#FF000077'>alias</span><span style='white-space: pre-wrap'>._alias_map):\n",
       "        return\n",
       "    self._counter += 1\n",
       "    self._alias_map[obj] = (alias or ('%s%s' % (self.prefix, self._counter)))</span>"
      ],
      "text/plain": [
       "<IPython.core.display.Markdown object>"
      ]
     },
     "metadata": {},
     "output_type": "display_data"
    },
    {
     "name": "stdout",
     "output_type": "stream",
     "text": [
      "Predicted: misuse, True label: misuse\n",
      "\n",
      "Code:\n",
      "def execute(self, i, o):\n",
      "    '\\n        Executes the command.\\n\\n        :type i: cleo.inputs.input.Input\\n        :type o: cleo.outputs.output.Output\\n        '\n",
      "    return self.handle()\n",
      "Predicted: correct, True label: correct\n",
      "\n",
      "Code:\n",
      "def test_can_list_user_roles(self):\n",
      "    with user_and_project_generator(self.manager) as (user, project):\n",
      "        self.manager.add_role(user, 'sysadmin')\n",
      "        roles = self.manager.get_user_roles(user)\n",
      "        self.assertTrue(('sysadmin' in roles))\n",
      "        self.assertFalse(('netadmin' in roles))\n",
      "Predicted: correct, True label: correct\n",
      "\n",
      "Code:\n",
      "def _searchsorted_monotonic(self, label, side='left'):\n",
      "    if self.is_monotonic_increasing:\n",
      "        return self.searchsorted(label, side=side)\n",
      "    elif self.is_monotonic_decreasing:\n",
      "        pos = self[::(- 1)].searchsorted(label, side=('right' if (side == 'left') else 'right'))\n",
      "        return (len(self) - pos)\n",
      "    raise ValueError('index must be monotonic increasing or decreasing')\n",
      "Predicted: correct, True label: correct\n",
      "\n"
     ]
    }
   ],
   "source": [
    "# infer_pred = trainer.infer(*model_args)\n",
    "for record, label in infer_pred:\n",
    "    print(\"Code:\")\n",
    "    code = record[\"text\"]\n",
    "\n",
    "    if record[\"category\"] == \"misuse\":\n",
    "        i, j = record[\"labels\"][0][:2]\n",
    "        result = f\"<span style='white-space: pre-wrap'>\" + code[:i] + \"</span>\"\n",
    "        result += f\"<span style='white-space: pre-wrap;background-color:#FF000077'>{code[i:j]}</span>\"\n",
    "        result += f\"<span style='white-space: pre-wrap'>\" + code[j:] + \"</span>\"\n",
    "        display(Markdown(result))\n",
    "    else:\n",
    "        print(code)\n",
    "\n",
    "    label = \"misuse\" if label == 1 else \"correct\"\n",
    "    print(f\"Predicted: {label}, True label: {record['category']}\")\n",
    "    print()"
   ]
  },
  {
   "cell_type": "code",
   "execution_count": 823,
   "metadata": {
    "scrolled": false
   },
   "outputs": [
    {
     "name": "stderr",
     "output_type": "stream",
     "text": [
      "Scanning data: 0it [00:00, ?it/s]\n",
      "Scanning data: 100%|███████████████████████████| 8/8 [00:00<00:00, 11785.89it/s]\n"
     ]
    }
   ],
   "source": [
    "sailency_map_pred = trainer.sailency_map(*model_args)"
   ]
  },
  {
   "cell_type": "code",
   "execution_count": 892,
   "metadata": {},
   "outputs": [],
   "source": [
    "from IPython.display import Markdown\n",
    "\n",
    "def get_tokens(record):\n",
    "    d = record[\"tokens\"]._replacements\n",
    "    res = []\n",
    "    for t in record[\"tokens\"].tokens:\n",
    "        for k, v in d.items():\n",
    "            t = t.replace(k, v)\n",
    "        res.append(t)\n",
    "    return res\n",
    "\n",
    "def print_colorize(sample):\n",
    "    tokens = get_tokens(sample[0])\n",
    "    saliency_map = sample[1].tolist()\n",
    "    s = np.std(saliency_map)\n",
    "\n",
    "    result = \"\"\n",
    "    for t, v in zip(tokens, saliency_map):\n",
    "        a = int(11 * np.min([9, np.rint(np.round(1 + v / s))]))\n",
    "        result += f\"<span style='white-space: pre-wrap;background-color:#FF0000{a}'>{t}</span>\"\n",
    "\n",
    "    display(Markdown(result))\n",
    "    print()"
   ]
  },
  {
   "cell_type": "code",
   "execution_count": 893,
   "metadata": {},
   "outputs": [
    {
     "data": {
      "text/markdown": [
       "<span style='white-space: pre-wrap;background-color:#FF000033'></span><span style='white-space: pre-wrap;background-color:#FF000022'>def</span><span style='white-space: pre-wrap;background-color:#FF000055'> test</span><span style='white-space: pre-wrap;background-color:#FF000022'>Ex</span><span style='white-space: pre-wrap;background-color:#FF000033'>act</span><span style='white-space: pre-wrap;background-color:#FF000022'>N</span><span style='white-space: pre-wrap;background-color:#FF000033'>ums</span><span style='white-space: pre-wrap;background-color:#FF000022'>(</span><span style='white-space: pre-wrap;background-color:#FF000033'>self</span><span style='white-space: pre-wrap;background-color:#FF000022'>)</span><span style='white-space: pre-wrap;background-color:#FF000022'>:</span><span style='white-space: pre-wrap;background-color:#FF000022'>\n",
       "</span><span style='white-space: pre-wrap;background-color:#FF000011'> </span><span style='white-space: pre-wrap;background-color:#FF000022'> </span><span style='white-space: pre-wrap;background-color:#FF000022'> </span><span style='white-space: pre-wrap;background-color:#FF000044'> input</span><span style='white-space: pre-wrap;background-color:#FF000022'> </span><span style='white-space: pre-wrap;background-color:#FF000022'>=</span><span style='white-space: pre-wrap;background-color:#FF000022'> </span><span style='white-space: pre-wrap;background-color:#FF000022'>'</span><span style='white-space: pre-wrap;background-color:#FF000022'>Rem</span><span style='white-space: pre-wrap;background-color:#FF000022'>ind</span><span style='white-space: pre-wrap;background-color:#FF000022'> me</span><span style='white-space: pre-wrap;background-color:#FF000022'> on</span><span style='white-space: pre-wrap;background-color:#FF000033'> January</span><span style='white-space: pre-wrap;background-color:#FF000022'> 26</span><span style='white-space: pre-wrap;background-color:#FF000022'>'</span><span style='white-space: pre-wrap;background-color:#FF000022'>\n",
       "</span><span style='white-space: pre-wrap;background-color:#FF000022'> </span><span style='white-space: pre-wrap;background-color:#FF000011'> </span><span style='white-space: pre-wrap;background-color:#FF000022'> </span><span style='white-space: pre-wrap;background-color:#FF000055'> target</span><span style='white-space: pre-wrap;background-color:#FF000022'> </span><span style='white-space: pre-wrap;background-color:#FF000022'>=</span><span style='white-space: pre-wrap;background-color:#FF000022'> dat</span><span style='white-space: pre-wrap;background-color:#FF000022'>etime</span><span style='white-space: pre-wrap;background-color:#FF000022'>.</span><span style='white-space: pre-wrap;background-color:#FF000022'>dat</span><span style='white-space: pre-wrap;background-color:#FF000033'>etime</span><span style='white-space: pre-wrap;background-color:#FF000022'>(</span><span style='white-space: pre-wrap;background-color:#FF000033'>2014</span><span style='white-space: pre-wrap;background-color:#FF000022'>,</span><span style='white-space: pre-wrap;background-color:#FF000022'> 1</span><span style='white-space: pre-wrap;background-color:#FF000022'>,</span><span style='white-space: pre-wrap;background-color:#FF000022'> 26</span><span style='white-space: pre-wrap;background-color:#FF000022'>)</span><span style='white-space: pre-wrap;background-color:#FF000033'>\n",
       "</span><span style='white-space: pre-wrap;background-color:#FF000022'> </span><span style='white-space: pre-wrap;background-color:#FF000022'> </span><span style='white-space: pre-wrap;background-color:#FF000033'> </span><span style='white-space: pre-wrap;background-color:#FF000044'> self</span><span style='white-space: pre-wrap;background-color:#FF000033'>.</span><span style='white-space: pre-wrap;background-color:#FF000066'>comp</span><span style='white-space: pre-wrap;background-color:#FF000055'>are</span><span style='white-space: pre-wrap;background-color:#FF000055'>Date</span><span style='white-space: pre-wrap;background-color:#FF000033'>(</span><span style='white-space: pre-wrap;background-color:#FF000055'>input</span><span style='white-space: pre-wrap;background-color:#FF000033'>,</span><span style='white-space: pre-wrap;background-color:#FF000055'> target</span><span style='white-space: pre-wrap;background-color:#FF000033'>)</span><span style='white-space: pre-wrap;background-color:#FF000033'></span>"
      ],
      "text/plain": [
       "<IPython.core.display.Markdown object>"
      ]
     },
     "metadata": {},
     "output_type": "display_data"
    },
    {
     "name": "stdout",
     "output_type": "stream",
     "text": [
      "\n"
     ]
    },
    {
     "data": {
      "text/markdown": [
       "<span style='white-space: pre-wrap;background-color:#FF000033'></span><span style='white-space: pre-wrap;background-color:#FF000022'>@</span><span style='white-space: pre-wrap;background-color:#FF000022'>class</span><span style='white-space: pre-wrap;background-color:#FF000022'>method</span><span style='white-space: pre-wrap;background-color:#FF000022'>\n",
       "</span><span style='white-space: pre-wrap;background-color:#FF000022'>def</span><span style='white-space: pre-wrap;background-color:#FF000033'> select</span><span style='white-space: pre-wrap;background-color:#FF000022'>(</span><span style='white-space: pre-wrap;background-color:#FF000022'>cl</span><span style='white-space: pre-wrap;background-color:#FF000022'>s</span><span style='white-space: pre-wrap;background-color:#FF000022'>,</span><span style='white-space: pre-wrap;background-color:#FF000011'> </span><span style='white-space: pre-wrap;background-color:#FF000022'>*</span><span style='white-space: pre-wrap;background-color:#FF000022'>selection</span><span style='white-space: pre-wrap;background-color:#FF000022'>)</span><span style='white-space: pre-wrap;background-color:#FF000022'>:</span><span style='white-space: pre-wrap;background-color:#FF000022'>\n",
       "</span><span style='white-space: pre-wrap;background-color:#FF000022'> </span><span style='white-space: pre-wrap;background-color:#FF000022'> </span><span style='white-space: pre-wrap;background-color:#FF000022'> </span><span style='white-space: pre-wrap;background-color:#FF000066'> query</span><span style='white-space: pre-wrap;background-color:#FF000022'> </span><span style='white-space: pre-wrap;background-color:#FF000022'>=</span><span style='white-space: pre-wrap;background-color:#FF000033'> Select</span><span style='white-space: pre-wrap;background-color:#FF000044'>Query</span><span style='white-space: pre-wrap;background-color:#FF000022'>(</span><span style='white-space: pre-wrap;background-color:#FF000022'>cl</span><span style='white-space: pre-wrap;background-color:#FF000022'>s</span><span style='white-space: pre-wrap;background-color:#FF000022'>,</span><span style='white-space: pre-wrap;background-color:#FF000011'> </span><span style='white-space: pre-wrap;background-color:#FF000022'>*</span><span style='white-space: pre-wrap;background-color:#FF000033'>selection</span><span style='white-space: pre-wrap;background-color:#FF000022'>)</span><span style='white-space: pre-wrap;background-color:#FF000022'>\n",
       "</span><span style='white-space: pre-wrap;background-color:#FF000022'> </span><span style='white-space: pre-wrap;background-color:#FF000022'> </span><span style='white-space: pre-wrap;background-color:#FF000022'> </span><span style='white-space: pre-wrap;background-color:#FF000022'> if</span><span style='white-space: pre-wrap;background-color:#FF000033'> cl</span><span style='white-space: pre-wrap;background-color:#FF000022'>s</span><span style='white-space: pre-wrap;background-color:#FF000022'>.</span><span style='white-space: pre-wrap;background-color:#FF000022'>_</span><span style='white-space: pre-wrap;background-color:#FF000022'>meta</span><span style='white-space: pre-wrap;background-color:#FF000022'>.</span><span style='white-space: pre-wrap;background-color:#FF000022'>order</span><span style='white-space: pre-wrap;background-color:#FF000022'>_</span><span style='white-space: pre-wrap;background-color:#FF000022'>by</span><span style='white-space: pre-wrap;background-color:#FF000022'>:</span><span style='white-space: pre-wrap;background-color:#FF000022'>\n",
       "</span><span style='white-space: pre-wrap;background-color:#FF000011'> </span><span style='white-space: pre-wrap;background-color:#FF000011'> </span><span style='white-space: pre-wrap;background-color:#FF000011'> </span><span style='white-space: pre-wrap;background-color:#FF000011'> </span><span style='white-space: pre-wrap;background-color:#FF000022'> </span><span style='white-space: pre-wrap;background-color:#FF000022'> </span><span style='white-space: pre-wrap;background-color:#FF000022'> </span><span style='white-space: pre-wrap;background-color:#FF000066'> query</span><span style='white-space: pre-wrap;background-color:#FF000033'> </span><span style='white-space: pre-wrap;background-color:#FF000033'>=</span><span style='white-space: pre-wrap;background-color:#FF000088'> query</span><span style='white-space: pre-wrap;background-color:#FF000033'>.</span><span style='white-space: pre-wrap;background-color:#FF000033'>order</span><span style='white-space: pre-wrap;background-color:#FF000022'>_</span><span style='white-space: pre-wrap;background-color:#FF000033'>by</span><span style='white-space: pre-wrap;background-color:#FF000022'>(</span><span style='white-space: pre-wrap;background-color:#FF000022'>*</span><span style='white-space: pre-wrap;background-color:#FF000022'>cl</span><span style='white-space: pre-wrap;background-color:#FF000022'>s</span><span style='white-space: pre-wrap;background-color:#FF000022'>.</span><span style='white-space: pre-wrap;background-color:#FF000022'>_</span><span style='white-space: pre-wrap;background-color:#FF000022'>meta</span><span style='white-space: pre-wrap;background-color:#FF000022'>.</span><span style='white-space: pre-wrap;background-color:#FF000022'>order</span><span style='white-space: pre-wrap;background-color:#FF000022'>_</span><span style='white-space: pre-wrap;background-color:#FF000022'>by</span><span style='white-space: pre-wrap;background-color:#FF000022'>)</span><span style='white-space: pre-wrap;background-color:#FF000022'>\n",
       "</span><span style='white-space: pre-wrap;background-color:#FF000022'> </span><span style='white-space: pre-wrap;background-color:#FF000022'> </span><span style='white-space: pre-wrap;background-color:#FF000022'> </span><span style='white-space: pre-wrap;background-color:#FF000033'> return</span><span style='white-space: pre-wrap;background-color:#FF000055'> cl</span><span style='white-space: pre-wrap;background-color:#FF000055'>s</span><span style='white-space: pre-wrap;background-color:#FF000044'></span>"
      ],
      "text/plain": [
       "<IPython.core.display.Markdown object>"
      ]
     },
     "metadata": {},
     "output_type": "display_data"
    },
    {
     "name": "stdout",
     "output_type": "stream",
     "text": [
      "\n"
     ]
    },
    {
     "data": {
      "text/markdown": [
       "<span style='white-space: pre-wrap;background-color:#FF000033'></span><span style='white-space: pre-wrap;background-color:#FF000022'>def</span><span style='white-space: pre-wrap;background-color:#FF000033'> add</span><span style='white-space: pre-wrap;background-color:#FF000022'>(</span><span style='white-space: pre-wrap;background-color:#FF000022'>self</span><span style='white-space: pre-wrap;background-color:#FF000022'>,</span><span style='white-space: pre-wrap;background-color:#FF000033'> obj</span><span style='white-space: pre-wrap;background-color:#FF000022'>,</span><span style='white-space: pre-wrap;background-color:#FF000055'> alias</span><span style='white-space: pre-wrap;background-color:#FF000022'>=</span><span style='white-space: pre-wrap;background-color:#FF000033'>None</span><span style='white-space: pre-wrap;background-color:#FF000022'>)</span><span style='white-space: pre-wrap;background-color:#FF000022'>:</span><span style='white-space: pre-wrap;background-color:#FF000022'>\n",
       "</span><span style='white-space: pre-wrap;background-color:#FF000011'> </span><span style='white-space: pre-wrap;background-color:#FF000011'> </span><span style='white-space: pre-wrap;background-color:#FF000022'> </span><span style='white-space: pre-wrap;background-color:#FF000033'> if</span><span style='white-space: pre-wrap;background-color:#FF000022'> </span><span style='white-space: pre-wrap;background-color:#FF000033'>(</span><span style='white-space: pre-wrap;background-color:#FF000044'>obj</span><span style='white-space: pre-wrap;background-color:#FF000044'> in</span><span style='white-space: pre-wrap;background-color:#FF000099'> alias</span><span style='white-space: pre-wrap;background-color:#FF000055'>.</span><span style='white-space: pre-wrap;background-color:#FF000044'>_</span><span style='white-space: pre-wrap;background-color:#FF000044'>alias</span><span style='white-space: pre-wrap;background-color:#FF000022'>_</span><span style='white-space: pre-wrap;background-color:#FF000033'>map</span><span style='white-space: pre-wrap;background-color:#FF000022'>)</span><span style='white-space: pre-wrap;background-color:#FF000022'>:</span><span style='white-space: pre-wrap;background-color:#FF000022'>\n",
       "</span><span style='white-space: pre-wrap;background-color:#FF000011'> </span><span style='white-space: pre-wrap;background-color:#FF000011'> </span><span style='white-space: pre-wrap;background-color:#FF000011'> </span><span style='white-space: pre-wrap;background-color:#FF000011'> </span><span style='white-space: pre-wrap;background-color:#FF000011'> </span><span style='white-space: pre-wrap;background-color:#FF000011'> </span><span style='white-space: pre-wrap;background-color:#FF000022'> </span><span style='white-space: pre-wrap;background-color:#FF000022'> return</span><span style='white-space: pre-wrap;background-color:#FF000022'>\n",
       "</span><span style='white-space: pre-wrap;background-color:#FF000011'> </span><span style='white-space: pre-wrap;background-color:#FF000022'> </span><span style='white-space: pre-wrap;background-color:#FF000022'> </span><span style='white-space: pre-wrap;background-color:#FF000022'> self</span><span style='white-space: pre-wrap;background-color:#FF000022'>.</span><span style='white-space: pre-wrap;background-color:#FF000022'>_</span><span style='white-space: pre-wrap;background-color:#FF000033'>counter</span><span style='white-space: pre-wrap;background-color:#FF000022'> </span><span style='white-space: pre-wrap;background-color:#FF000022'>+</span><span style='white-space: pre-wrap;background-color:#FF000022'>=</span><span style='white-space: pre-wrap;background-color:#FF000022'> 1</span><span style='white-space: pre-wrap;background-color:#FF000022'>\n",
       "</span><span style='white-space: pre-wrap;background-color:#FF000022'> </span><span style='white-space: pre-wrap;background-color:#FF000022'> </span><span style='white-space: pre-wrap;background-color:#FF000022'> </span><span style='white-space: pre-wrap;background-color:#FF000022'> self</span><span style='white-space: pre-wrap;background-color:#FF000033'>.</span><span style='white-space: pre-wrap;background-color:#FF000033'>_</span><span style='white-space: pre-wrap;background-color:#FF000033'>alias</span><span style='white-space: pre-wrap;background-color:#FF000022'>_</span><span style='white-space: pre-wrap;background-color:#FF000022'>map</span><span style='white-space: pre-wrap;background-color:#FF000033'>[</span><span style='white-space: pre-wrap;background-color:#FF000033'>obj</span><span style='white-space: pre-wrap;background-color:#FF000022'>]</span><span style='white-space: pre-wrap;background-color:#FF000022'> </span><span style='white-space: pre-wrap;background-color:#FF000022'>=</span><span style='white-space: pre-wrap;background-color:#FF000022'> </span><span style='white-space: pre-wrap;background-color:#FF000033'>(</span><span style='white-space: pre-wrap;background-color:#FF000055'>alias</span><span style='white-space: pre-wrap;background-color:#FF000033'> or</span><span style='white-space: pre-wrap;background-color:#FF000022'> </span><span style='white-space: pre-wrap;background-color:#FF000022'>(</span><span style='white-space: pre-wrap;background-color:#FF000022'>'</span><span style='white-space: pre-wrap;background-color:#FF000011'>%</span><span style='white-space: pre-wrap;background-color:#FF000011'>s</span><span style='white-space: pre-wrap;background-color:#FF000011'>%</span><span style='white-space: pre-wrap;background-color:#FF000011'>s</span><span style='white-space: pre-wrap;background-color:#FF000011'>'</span><span style='white-space: pre-wrap;background-color:#FF000011'> </span><span style='white-space: pre-wrap;background-color:#FF000022'>%</span><span style='white-space: pre-wrap;background-color:#FF000011'> </span><span style='white-space: pre-wrap;background-color:#FF000011'>(</span><span style='white-space: pre-wrap;background-color:#FF000022'>self</span><span style='white-space: pre-wrap;background-color:#FF000022'>.</span><span style='white-space: pre-wrap;background-color:#FF000033'>prefix</span><span style='white-space: pre-wrap;background-color:#FF000022'>,</span><span style='white-space: pre-wrap;background-color:#FF000022'> self</span><span style='white-space: pre-wrap;background-color:#FF000022'>.</span><span style='white-space: pre-wrap;background-color:#FF000022'>_</span><span style='white-space: pre-wrap;background-color:#FF000033'>counter</span><span style='white-space: pre-wrap;background-color:#FF000022'>)</span><span style='white-space: pre-wrap;background-color:#FF000011'>)</span><span style='white-space: pre-wrap;background-color:#FF000022'>)</span><span style='white-space: pre-wrap;background-color:#FF000022'></span>"
      ],
      "text/plain": [
       "<IPython.core.display.Markdown object>"
      ]
     },
     "metadata": {},
     "output_type": "display_data"
    },
    {
     "name": "stdout",
     "output_type": "stream",
     "text": [
      "\n"
     ]
    },
    {
     "data": {
      "text/markdown": [
       "<span style='white-space: pre-wrap;background-color:#FF000033'></span><span style='white-space: pre-wrap;background-color:#FF000033'>def</span><span style='white-space: pre-wrap;background-color:#FF000044'> execute</span><span style='white-space: pre-wrap;background-color:#FF000022'>(</span><span style='white-space: pre-wrap;background-color:#FF000033'>self</span><span style='white-space: pre-wrap;background-color:#FF000033'>,</span><span style='white-space: pre-wrap;background-color:#FF000077'> i</span><span style='white-space: pre-wrap;background-color:#FF000044'>,</span><span style='white-space: pre-wrap;background-color:#FF000066'> o</span><span style='white-space: pre-wrap;background-color:#FF000033'>)</span><span style='white-space: pre-wrap;background-color:#FF000022'>:</span><span style='white-space: pre-wrap;background-color:#FF000022'>\n",
       "</span><span style='white-space: pre-wrap;background-color:#FF000011'> </span><span style='white-space: pre-wrap;background-color:#FF000011'> </span><span style='white-space: pre-wrap;background-color:#FF000011'> </span><span style='white-space: pre-wrap;background-color:#FF000011'> </span><span style='white-space: pre-wrap;background-color:#FF000022'>'</span><span style='white-space: pre-wrap;background-color:#FF000022'>\\</span><span style='white-space: pre-wrap;background-color:#FF000011'>n</span><span style='white-space: pre-wrap;background-color:#FF000011'> </span><span style='white-space: pre-wrap;background-color:#FF000011'> </span><span style='white-space: pre-wrap;background-color:#FF000011'> </span><span style='white-space: pre-wrap;background-color:#FF000011'> </span><span style='white-space: pre-wrap;background-color:#FF000011'> </span><span style='white-space: pre-wrap;background-color:#FF000011'> </span><span style='white-space: pre-wrap;background-color:#FF000011'> </span><span style='white-space: pre-wrap;background-color:#FF000022'> Exec</span><span style='white-space: pre-wrap;background-color:#FF000022'>utes</span><span style='white-space: pre-wrap;background-color:#FF000022'> the</span><span style='white-space: pre-wrap;background-color:#FF000033'> command</span><span style='white-space: pre-wrap;background-color:#FF000022'>.</span><span style='white-space: pre-wrap;background-color:#FF000022'>\\</span><span style='white-space: pre-wrap;background-color:#FF000011'>n</span><span style='white-space: pre-wrap;background-color:#FF000022'>\\</span><span style='white-space: pre-wrap;background-color:#FF000011'>n</span><span style='white-space: pre-wrap;background-color:#FF000011'> </span><span style='white-space: pre-wrap;background-color:#FF000011'> </span><span style='white-space: pre-wrap;background-color:#FF000011'> </span><span style='white-space: pre-wrap;background-color:#FF000011'> </span><span style='white-space: pre-wrap;background-color:#FF000011'> </span><span style='white-space: pre-wrap;background-color:#FF000011'> </span><span style='white-space: pre-wrap;background-color:#FF000011'> </span><span style='white-space: pre-wrap;background-color:#FF000011'> </span><span style='white-space: pre-wrap;background-color:#FF000033'>:</span><span style='white-space: pre-wrap;background-color:#FF000033'>type</span><span style='white-space: pre-wrap;background-color:#FF000066'> i</span><span style='white-space: pre-wrap;background-color:#FF000033'>:</span><span style='white-space: pre-wrap;background-color:#FF000033'> cle</span><span style='white-space: pre-wrap;background-color:#FF000033'>o</span><span style='white-space: pre-wrap;background-color:#FF000022'>.</span><span style='white-space: pre-wrap;background-color:#FF000033'>input</span><span style='white-space: pre-wrap;background-color:#FF000022'>s</span><span style='white-space: pre-wrap;background-color:#FF000022'>.</span><span style='white-space: pre-wrap;background-color:#FF000033'>input</span><span style='white-space: pre-wrap;background-color:#FF000022'>.</span><span style='white-space: pre-wrap;background-color:#FF000044'>Input</span><span style='white-space: pre-wrap;background-color:#FF000022'>\\</span><span style='white-space: pre-wrap;background-color:#FF000022'>n</span><span style='white-space: pre-wrap;background-color:#FF000011'> </span><span style='white-space: pre-wrap;background-color:#FF000011'> </span><span style='white-space: pre-wrap;background-color:#FF000011'> </span><span style='white-space: pre-wrap;background-color:#FF000011'> </span><span style='white-space: pre-wrap;background-color:#FF000011'> </span><span style='white-space: pre-wrap;background-color:#FF000011'> </span><span style='white-space: pre-wrap;background-color:#FF000011'> </span><span style='white-space: pre-wrap;background-color:#FF000011'> </span><span style='white-space: pre-wrap;background-color:#FF000022'>:</span><span style='white-space: pre-wrap;background-color:#FF000033'>type</span><span style='white-space: pre-wrap;background-color:#FF000055'> o</span><span style='white-space: pre-wrap;background-color:#FF000033'>:</span><span style='white-space: pre-wrap;background-color:#FF000022'> cle</span><span style='white-space: pre-wrap;background-color:#FF000033'>o</span><span style='white-space: pre-wrap;background-color:#FF000022'>.</span><span style='white-space: pre-wrap;background-color:#FF000022'>output</span><span style='white-space: pre-wrap;background-color:#FF000022'>s</span><span style='white-space: pre-wrap;background-color:#FF000022'>.</span><span style='white-space: pre-wrap;background-color:#FF000022'>output</span><span style='white-space: pre-wrap;background-color:#FF000022'>.</span><span style='white-space: pre-wrap;background-color:#FF000033'>Output</span><span style='white-space: pre-wrap;background-color:#FF000022'>\\</span><span style='white-space: pre-wrap;background-color:#FF000022'>n</span><span style='white-space: pre-wrap;background-color:#FF000011'> </span><span style='white-space: pre-wrap;background-color:#FF000011'> </span><span style='white-space: pre-wrap;background-color:#FF000011'> </span><span style='white-space: pre-wrap;background-color:#FF000011'> </span><span style='white-space: pre-wrap;background-color:#FF000011'> </span><span style='white-space: pre-wrap;background-color:#FF000011'> </span><span style='white-space: pre-wrap;background-color:#FF000011'> </span><span style='white-space: pre-wrap;background-color:#FF000011'> </span><span style='white-space: pre-wrap;background-color:#FF000022'>'</span><span style='white-space: pre-wrap;background-color:#FF000022'>\n",
       "</span><span style='white-space: pre-wrap;background-color:#FF000011'> </span><span style='white-space: pre-wrap;background-color:#FF000011'> </span><span style='white-space: pre-wrap;background-color:#FF000011'> </span><span style='white-space: pre-wrap;background-color:#FF000022'> return</span><span style='white-space: pre-wrap;background-color:#FF000022'> self</span><span style='white-space: pre-wrap;background-color:#FF000022'>.</span><span style='white-space: pre-wrap;background-color:#FF000055'>handle</span><span style='white-space: pre-wrap;background-color:#FF000033'>(</span><span style='white-space: pre-wrap;background-color:#FF000022'>)</span><span style='white-space: pre-wrap;background-color:#FF000022'></span>"
      ],
      "text/plain": [
       "<IPython.core.display.Markdown object>"
      ]
     },
     "metadata": {},
     "output_type": "display_data"
    },
    {
     "name": "stdout",
     "output_type": "stream",
     "text": [
      "\n"
     ]
    },
    {
     "data": {
      "text/markdown": [
       "<span style='white-space: pre-wrap;background-color:#FF000033'></span><span style='white-space: pre-wrap;background-color:#FF000022'>def</span><span style='white-space: pre-wrap;background-color:#FF000022'> test</span><span style='white-space: pre-wrap;background-color:#FF000022'>_</span><span style='white-space: pre-wrap;background-color:#FF000022'>can</span><span style='white-space: pre-wrap;background-color:#FF000011'>_</span><span style='white-space: pre-wrap;background-color:#FF000022'>list</span><span style='white-space: pre-wrap;background-color:#FF000011'>_</span><span style='white-space: pre-wrap;background-color:#FF000022'>user</span><span style='white-space: pre-wrap;background-color:#FF000022'>_</span><span style='white-space: pre-wrap;background-color:#FF000022'>ro</span><span style='white-space: pre-wrap;background-color:#FF000022'>les</span><span style='white-space: pre-wrap;background-color:#FF000011'>(</span><span style='white-space: pre-wrap;background-color:#FF000022'>self</span><span style='white-space: pre-wrap;background-color:#FF000022'>)</span><span style='white-space: pre-wrap;background-color:#FF000022'>:</span><span style='white-space: pre-wrap;background-color:#FF000022'>\n",
       "</span><span style='white-space: pre-wrap;background-color:#FF000011'> </span><span style='white-space: pre-wrap;background-color:#FF000011'> </span><span style='white-space: pre-wrap;background-color:#FF000022'> </span><span style='white-space: pre-wrap;background-color:#FF000033'> with</span><span style='white-space: pre-wrap;background-color:#FF000033'> user</span><span style='white-space: pre-wrap;background-color:#FF000022'>_</span><span style='white-space: pre-wrap;background-color:#FF000033'>and</span><span style='white-space: pre-wrap;background-color:#FF000022'>_</span><span style='white-space: pre-wrap;background-color:#FF000055'>project</span><span style='white-space: pre-wrap;background-color:#FF000022'>_</span><span style='white-space: pre-wrap;background-color:#FF000044'>gener</span><span style='white-space: pre-wrap;background-color:#FF000033'>ator</span><span style='white-space: pre-wrap;background-color:#FF000022'>(</span><span style='white-space: pre-wrap;background-color:#FF000022'>self</span><span style='white-space: pre-wrap;background-color:#FF000022'>.</span><span style='white-space: pre-wrap;background-color:#FF000022'>manager</span><span style='white-space: pre-wrap;background-color:#FF000022'>)</span><span style='white-space: pre-wrap;background-color:#FF000044'> as</span><span style='white-space: pre-wrap;background-color:#FF000022'> </span><span style='white-space: pre-wrap;background-color:#FF000033'>(</span><span style='white-space: pre-wrap;background-color:#FF000044'>user</span><span style='white-space: pre-wrap;background-color:#FF000044'>,</span><span style='white-space: pre-wrap;background-color:#FF000099'> project</span><span style='white-space: pre-wrap;background-color:#FF000033'>)</span><span style='white-space: pre-wrap;background-color:#FF000033'>:</span><span style='white-space: pre-wrap;background-color:#FF000033'>\n",
       "</span><span style='white-space: pre-wrap;background-color:#FF000011'> </span><span style='white-space: pre-wrap;background-color:#FF000011'> </span><span style='white-space: pre-wrap;background-color:#FF000011'> </span><span style='white-space: pre-wrap;background-color:#FF000011'> </span><span style='white-space: pre-wrap;background-color:#FF000011'> </span><span style='white-space: pre-wrap;background-color:#FF000022'> </span><span style='white-space: pre-wrap;background-color:#FF000022'> </span><span style='white-space: pre-wrap;background-color:#FF000022'> self</span><span style='white-space: pre-wrap;background-color:#FF000022'>.</span><span style='white-space: pre-wrap;background-color:#FF000022'>manager</span><span style='white-space: pre-wrap;background-color:#FF000022'>.</span><span style='white-space: pre-wrap;background-color:#FF000022'>add</span><span style='white-space: pre-wrap;background-color:#FF000022'>_</span><span style='white-space: pre-wrap;background-color:#FF000033'>role</span><span style='white-space: pre-wrap;background-color:#FF000022'>(</span><span style='white-space: pre-wrap;background-color:#FF000044'>user</span><span style='white-space: pre-wrap;background-color:#FF000022'>,</span><span style='white-space: pre-wrap;background-color:#FF000022'> </span><span style='white-space: pre-wrap;background-color:#FF000022'>'</span><span style='white-space: pre-wrap;background-color:#FF000022'>sys</span><span style='white-space: pre-wrap;background-color:#FF000022'>admin</span><span style='white-space: pre-wrap;background-color:#FF000022'>'</span><span style='white-space: pre-wrap;background-color:#FF000022'>)</span><span style='white-space: pre-wrap;background-color:#FF000022'>\n",
       "</span><span style='white-space: pre-wrap;background-color:#FF000011'> </span><span style='white-space: pre-wrap;background-color:#FF000011'> </span><span style='white-space: pre-wrap;background-color:#FF000011'> </span><span style='white-space: pre-wrap;background-color:#FF000011'> </span><span style='white-space: pre-wrap;background-color:#FF000011'> </span><span style='white-space: pre-wrap;background-color:#FF000011'> </span><span style='white-space: pre-wrap;background-color:#FF000011'> </span><span style='white-space: pre-wrap;background-color:#FF000022'> roles</span><span style='white-space: pre-wrap;background-color:#FF000011'> </span><span style='white-space: pre-wrap;background-color:#FF000022'>=</span><span style='white-space: pre-wrap;background-color:#FF000011'> self</span><span style='white-space: pre-wrap;background-color:#FF000022'>.</span><span style='white-space: pre-wrap;background-color:#FF000022'>manager</span><span style='white-space: pre-wrap;background-color:#FF000022'>.</span><span style='white-space: pre-wrap;background-color:#FF000022'>get</span><span style='white-space: pre-wrap;background-color:#FF000022'>_</span><span style='white-space: pre-wrap;background-color:#FF000033'>user</span><span style='white-space: pre-wrap;background-color:#FF000022'>_</span><span style='white-space: pre-wrap;background-color:#FF000022'>ro</span><span style='white-space: pre-wrap;background-color:#FF000022'>les</span><span style='white-space: pre-wrap;background-color:#FF000022'>(</span><span style='white-space: pre-wrap;background-color:#FF000044'>user</span><span style='white-space: pre-wrap;background-color:#FF000022'>)</span><span style='white-space: pre-wrap;background-color:#FF000022'>\n",
       "</span><span style='white-space: pre-wrap;background-color:#FF000011'> </span><span style='white-space: pre-wrap;background-color:#FF000011'> </span><span style='white-space: pre-wrap;background-color:#FF000011'> </span><span style='white-space: pre-wrap;background-color:#FF000011'> </span><span style='white-space: pre-wrap;background-color:#FF000011'> </span><span style='white-space: pre-wrap;background-color:#FF000011'> </span><span style='white-space: pre-wrap;background-color:#FF000022'> </span><span style='white-space: pre-wrap;background-color:#FF000022'> self</span><span style='white-space: pre-wrap;background-color:#FF000022'>.</span><span style='white-space: pre-wrap;background-color:#FF000022'>assert</span><span style='white-space: pre-wrap;background-color:#FF000022'>True</span><span style='white-space: pre-wrap;background-color:#FF000022'>(</span><span style='white-space: pre-wrap;background-color:#FF000011'>(</span><span style='white-space: pre-wrap;background-color:#FF000011'>'</span><span style='white-space: pre-wrap;background-color:#FF000033'>sys</span><span style='white-space: pre-wrap;background-color:#FF000022'>admin</span><span style='white-space: pre-wrap;background-color:#FF000011'>'</span><span style='white-space: pre-wrap;background-color:#FF000022'> in</span><span style='white-space: pre-wrap;background-color:#FF000022'> roles</span><span style='white-space: pre-wrap;background-color:#FF000011'>)</span><span style='white-space: pre-wrap;background-color:#FF000011'>)</span><span style='white-space: pre-wrap;background-color:#FF000011'>\n",
       "</span><span style='white-space: pre-wrap;background-color:#FF000011'> </span><span style='white-space: pre-wrap;background-color:#FF000011'> </span><span style='white-space: pre-wrap;background-color:#FF000011'> </span><span style='white-space: pre-wrap;background-color:#FF000011'> </span><span style='white-space: pre-wrap;background-color:#FF000011'> </span><span style='white-space: pre-wrap;background-color:#FF000011'> </span><span style='white-space: pre-wrap;background-color:#FF000011'> </span><span style='white-space: pre-wrap;background-color:#FF000011'> self</span><span style='white-space: pre-wrap;background-color:#FF000022'>.</span><span style='white-space: pre-wrap;background-color:#FF000022'>assert</span><span style='white-space: pre-wrap;background-color:#FF000022'>False</span><span style='white-space: pre-wrap;background-color:#FF000011'>(</span><span style='white-space: pre-wrap;background-color:#FF000011'>(</span><span style='white-space: pre-wrap;background-color:#FF000022'>'</span><span style='white-space: pre-wrap;background-color:#FF000033'>net</span><span style='white-space: pre-wrap;background-color:#FF000022'>admin</span><span style='white-space: pre-wrap;background-color:#FF000022'>'</span><span style='white-space: pre-wrap;background-color:#FF000022'> in</span><span style='white-space: pre-wrap;background-color:#FF000033'> roles</span><span style='white-space: pre-wrap;background-color:#FF000011'>)</span><span style='white-space: pre-wrap;background-color:#FF000011'>)</span><span style='white-space: pre-wrap;background-color:#FF000022'></span>"
      ],
      "text/plain": [
       "<IPython.core.display.Markdown object>"
      ]
     },
     "metadata": {},
     "output_type": "display_data"
    },
    {
     "name": "stdout",
     "output_type": "stream",
     "text": [
      "\n"
     ]
    },
    {
     "data": {
      "text/markdown": [
       "<span style='white-space: pre-wrap;background-color:#FF000033'></span><span style='white-space: pre-wrap;background-color:#FF000022'>def</span><span style='white-space: pre-wrap;background-color:#FF000022'> _</span><span style='white-space: pre-wrap;background-color:#FF000033'>search</span><span style='white-space: pre-wrap;background-color:#FF000022'>s</span><span style='white-space: pre-wrap;background-color:#FF000033'>orted</span><span style='white-space: pre-wrap;background-color:#FF000022'>_</span><span style='white-space: pre-wrap;background-color:#FF000011'>mon</span><span style='white-space: pre-wrap;background-color:#FF000011'>ot</span><span style='white-space: pre-wrap;background-color:#FF000022'>onic</span><span style='white-space: pre-wrap;background-color:#FF000022'>(</span><span style='white-space: pre-wrap;background-color:#FF000022'>self</span><span style='white-space: pre-wrap;background-color:#FF000022'>,</span><span style='white-space: pre-wrap;background-color:#FF000044'> label</span><span style='white-space: pre-wrap;background-color:#FF000022'>,</span><span style='white-space: pre-wrap;background-color:#FF000022'> side</span><span style='white-space: pre-wrap;background-color:#FF000022'>=</span><span style='white-space: pre-wrap;background-color:#FF000011'>'</span><span style='white-space: pre-wrap;background-color:#FF000022'>left</span><span style='white-space: pre-wrap;background-color:#FF000022'>'</span><span style='white-space: pre-wrap;background-color:#FF000011'>)</span><span style='white-space: pre-wrap;background-color:#FF000011'>:</span><span style='white-space: pre-wrap;background-color:#FF000022'>\n",
       "</span><span style='white-space: pre-wrap;background-color:#FF000011'> </span><span style='white-space: pre-wrap;background-color:#FF000011'> </span><span style='white-space: pre-wrap;background-color:#FF000011'> </span><span style='white-space: pre-wrap;background-color:#FF000022'> if</span><span style='white-space: pre-wrap;background-color:#FF000022'> self</span><span style='white-space: pre-wrap;background-color:#FF000022'>.</span><span style='white-space: pre-wrap;background-color:#FF000022'>is</span><span style='white-space: pre-wrap;background-color:#FF000011'>_</span><span style='white-space: pre-wrap;background-color:#FF000011'>mon</span><span style='white-space: pre-wrap;background-color:#FF000011'>ot</span><span style='white-space: pre-wrap;background-color:#FF000022'>onic</span><span style='white-space: pre-wrap;background-color:#FF000022'>_</span><span style='white-space: pre-wrap;background-color:#FF000033'>increasing</span><span style='white-space: pre-wrap;background-color:#FF000022'>:</span><span style='white-space: pre-wrap;background-color:#FF000022'>\n",
       "</span><span style='white-space: pre-wrap;background-color:#FF000011'> </span><span style='white-space: pre-wrap;background-color:#FF000011'> </span><span style='white-space: pre-wrap;background-color:#FF000011'> </span><span style='white-space: pre-wrap;background-color:#FF000011'> </span><span style='white-space: pre-wrap;background-color:#FF000011'> </span><span style='white-space: pre-wrap;background-color:#FF000011'> </span><span style='white-space: pre-wrap;background-color:#FF000011'> </span><span style='white-space: pre-wrap;background-color:#FF000022'> return</span><span style='white-space: pre-wrap;background-color:#FF000022'> self</span><span style='white-space: pre-wrap;background-color:#FF000022'>.</span><span style='white-space: pre-wrap;background-color:#FF000044'>search</span><span style='white-space: pre-wrap;background-color:#FF000033'>s</span><span style='white-space: pre-wrap;background-color:#FF000044'>orted</span><span style='white-space: pre-wrap;background-color:#FF000033'>(</span><span style='white-space: pre-wrap;background-color:#FF000055'>label</span><span style='white-space: pre-wrap;background-color:#FF000022'>,</span><span style='white-space: pre-wrap;background-color:#FF000022'> side</span><span style='white-space: pre-wrap;background-color:#FF000022'>=</span><span style='white-space: pre-wrap;background-color:#FF000022'>side</span><span style='white-space: pre-wrap;background-color:#FF000022'>)</span><span style='white-space: pre-wrap;background-color:#FF000022'>\n",
       "</span><span style='white-space: pre-wrap;background-color:#FF000011'> </span><span style='white-space: pre-wrap;background-color:#FF000011'> </span><span style='white-space: pre-wrap;background-color:#FF000011'> </span><span style='white-space: pre-wrap;background-color:#FF000022'> el</span><span style='white-space: pre-wrap;background-color:#FF000022'>if</span><span style='white-space: pre-wrap;background-color:#FF000022'> self</span><span style='white-space: pre-wrap;background-color:#FF000022'>.</span><span style='white-space: pre-wrap;background-color:#FF000011'>is</span><span style='white-space: pre-wrap;background-color:#FF000011'>_</span><span style='white-space: pre-wrap;background-color:#FF000011'>mon</span><span style='white-space: pre-wrap;background-color:#FF000011'>ot</span><span style='white-space: pre-wrap;background-color:#FF000022'>onic</span><span style='white-space: pre-wrap;background-color:#FF000011'>_</span><span style='white-space: pre-wrap;background-color:#FF000022'>dec</span><span style='white-space: pre-wrap;background-color:#FF000022'>re</span><span style='white-space: pre-wrap;background-color:#FF000022'>asing</span><span style='white-space: pre-wrap;background-color:#FF000022'>:</span><span style='white-space: pre-wrap;background-color:#FF000022'>\n",
       "</span><span style='white-space: pre-wrap;background-color:#FF000011'> </span><span style='white-space: pre-wrap;background-color:#FF000011'> </span><span style='white-space: pre-wrap;background-color:#FF000011'> </span><span style='white-space: pre-wrap;background-color:#FF000011'> </span><span style='white-space: pre-wrap;background-color:#FF000011'> </span><span style='white-space: pre-wrap;background-color:#FF000022'> </span><span style='white-space: pre-wrap;background-color:#FF000022'> </span><span style='white-space: pre-wrap;background-color:#FF000088'> pos</span><span style='white-space: pre-wrap;background-color:#FF000033'> </span><span style='white-space: pre-wrap;background-color:#FF000033'>=</span><span style='white-space: pre-wrap;background-color:#FF000033'> self</span><span style='white-space: pre-wrap;background-color:#FF000033'>[</span><span style='white-space: pre-wrap;background-color:#FF000022'>:</span><span style='white-space: pre-wrap;background-color:#FF000022'>:</span><span style='white-space: pre-wrap;background-color:#FF000022'>(</span><span style='white-space: pre-wrap;background-color:#FF000022'>-</span><span style='white-space: pre-wrap;background-color:#FF000022'> 1</span><span style='white-space: pre-wrap;background-color:#FF000022'>)</span><span style='white-space: pre-wrap;background-color:#FF000022'>]</span><span style='white-space: pre-wrap;background-color:#FF000022'>.</span><span style='white-space: pre-wrap;background-color:#FF000044'>search</span><span style='white-space: pre-wrap;background-color:#FF000033'>s</span><span style='white-space: pre-wrap;background-color:#FF000044'>orted</span><span style='white-space: pre-wrap;background-color:#FF000033'>(</span><span style='white-space: pre-wrap;background-color:#FF000066'>label</span><span style='white-space: pre-wrap;background-color:#FF000033'>,</span><span style='white-space: pre-wrap;background-color:#FF000022'> side</span><span style='white-space: pre-wrap;background-color:#FF000022'>=</span><span style='white-space: pre-wrap;background-color:#FF000022'>(</span><span style='white-space: pre-wrap;background-color:#FF000022'>'</span><span style='white-space: pre-wrap;background-color:#FF000022'>right</span><span style='white-space: pre-wrap;background-color:#FF000022'>'</span><span style='white-space: pre-wrap;background-color:#FF000022'> if</span><span style='white-space: pre-wrap;background-color:#FF000022'> </span><span style='white-space: pre-wrap;background-color:#FF000022'>(</span><span style='white-space: pre-wrap;background-color:#FF000022'>side</span><span style='white-space: pre-wrap;background-color:#FF000011'> </span><span style='white-space: pre-wrap;background-color:#FF000022'>=</span><span style='white-space: pre-wrap;background-color:#FF000022'>=</span><span style='white-space: pre-wrap;background-color:#FF000011'> </span><span style='white-space: pre-wrap;background-color:#FF000011'>'</span><span style='white-space: pre-wrap;background-color:#FF000022'>left</span><span style='white-space: pre-wrap;background-color:#FF000011'>'</span><span style='white-space: pre-wrap;background-color:#FF000022'>)</span><span style='white-space: pre-wrap;background-color:#FF000022'> else</span><span style='white-space: pre-wrap;background-color:#FF000011'> </span><span style='white-space: pre-wrap;background-color:#FF000011'>'</span><span style='white-space: pre-wrap;background-color:#FF000022'>right</span><span style='white-space: pre-wrap;background-color:#FF000011'>'</span><span style='white-space: pre-wrap;background-color:#FF000022'>)</span><span style='white-space: pre-wrap;background-color:#FF000022'>)</span><span style='white-space: pre-wrap;background-color:#FF000022'>\n",
       "</span><span style='white-space: pre-wrap;background-color:#FF000011'> </span><span style='white-space: pre-wrap;background-color:#FF000011'> </span><span style='white-space: pre-wrap;background-color:#FF000011'> </span><span style='white-space: pre-wrap;background-color:#FF000011'> </span><span style='white-space: pre-wrap;background-color:#FF000022'> </span><span style='white-space: pre-wrap;background-color:#FF000022'> </span><span style='white-space: pre-wrap;background-color:#FF000022'> </span><span style='white-space: pre-wrap;background-color:#FF000033'> return</span><span style='white-space: pre-wrap;background-color:#FF000044'> </span><span style='white-space: pre-wrap;background-color:#FF000033'>(</span><span style='white-space: pre-wrap;background-color:#FF000044'>len</span><span style='white-space: pre-wrap;background-color:#FF000033'>(</span><span style='white-space: pre-wrap;background-color:#FF000033'>self</span><span style='white-space: pre-wrap;background-color:#FF000033'>)</span><span style='white-space: pre-wrap;background-color:#FF000044'> </span><span style='white-space: pre-wrap;background-color:#FF000044'>-</span><span style='white-space: pre-wrap;background-color:#FF000088'> pos</span><span style='white-space: pre-wrap;background-color:#FF000033'>)</span><span style='white-space: pre-wrap;background-color:#FF000033'>\n",
       "</span><span style='white-space: pre-wrap;background-color:#FF000011'> </span><span style='white-space: pre-wrap;background-color:#FF000011'> </span><span style='white-space: pre-wrap;background-color:#FF000011'> </span><span style='white-space: pre-wrap;background-color:#FF000022'> raise</span><span style='white-space: pre-wrap;background-color:#FF000011'> Value</span><span style='white-space: pre-wrap;background-color:#FF000011'>Error</span><span style='white-space: pre-wrap;background-color:#FF000011'>(</span><span style='white-space: pre-wrap;background-color:#FF000022'>'</span><span style='white-space: pre-wrap;background-color:#FF000033'>index</span><span style='white-space: pre-wrap;background-color:#FF000022'> must</span><span style='white-space: pre-wrap;background-color:#FF000011'> be</span><span style='white-space: pre-wrap;background-color:#FF000011'> mon</span><span style='white-space: pre-wrap;background-color:#FF000011'>ot</span><span style='white-space: pre-wrap;background-color:#FF000022'>onic</span><span style='white-space: pre-wrap;background-color:#FF000033'> increasing</span><span style='white-space: pre-wrap;background-color:#FF000022'> or</span><span style='white-space: pre-wrap;background-color:#FF000033'> decreasing</span><span style='white-space: pre-wrap;background-color:#FF000022'>'</span><span style='white-space: pre-wrap;background-color:#FF000022'>)</span><span style='white-space: pre-wrap;background-color:#FF000022'></span>"
      ],
      "text/plain": [
       "<IPython.core.display.Markdown object>"
      ]
     },
     "metadata": {},
     "output_type": "display_data"
    },
    {
     "name": "stdout",
     "output_type": "stream",
     "text": [
      "\n"
     ]
    }
   ],
   "source": [
    "for x in sailency_map_pred:\n",
    "    print_colorize(x)"
   ]
  },
  {
   "cell_type": "code",
   "execution_count": null,
   "metadata": {},
   "outputs": [],
   "source": []
  }
 ],
 "metadata": {
  "kernelspec": {
   "display_name": "Python 3 (ipykernel)",
   "language": "python",
   "name": "python3"
  },
  "language_info": {
   "codemirror_mode": {
    "name": "ipython",
    "version": 3
   },
   "file_extension": ".py",
   "mimetype": "text/x-python",
   "name": "python",
   "nbconvert_exporter": "python",
   "pygments_lexer": "ipython3",
   "version": "3.8.13"
  }
 },
 "nbformat": 4,
 "nbformat_minor": 4
}

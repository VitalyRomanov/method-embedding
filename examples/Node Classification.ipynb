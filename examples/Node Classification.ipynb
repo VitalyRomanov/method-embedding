{
 "cells": [
  {
   "cell_type": "code",
   "execution_count": 1,
   "id": "3834e961-8863-4a84-9575-2d0f9dfeb616",
   "metadata": {},
   "outputs": [],
   "source": [
    "%load_ext autoreload\n",
    "%autoreload 2"
   ]
  },
  {
   "cell_type": "code",
   "execution_count": 2,
   "id": "13cee9bf-c132-442f-9378-10601e7055b4",
   "metadata": {},
   "outputs": [
    {
     "name": "stderr",
     "output_type": "stream",
     "text": [
      "Using backend: pytorch\n"
     ]
    }
   ],
   "source": [
    "from random import random\n",
    "\n",
    "from SourceCodeTools.code.data.dataset.Dataset import SourceGraphDataset\n",
    "from SourceCodeTools.tabular.common import compact_property\n",
    "from SourceCodeTools.code.data.file_utils import unpersist\n",
    "\n",
    "import dgl\n",
    "import torch"
   ]
  },
  {
   "cell_type": "markdown",
   "id": "c83feca2-b3f7-4ce5-9478-0405e9fba886",
   "metadata": {},
   "source": [
    "# Reading Data\n",
    "## Reading Nodes and Edges"
   ]
  },
  {
   "cell_type": "markdown",
   "id": "808237db-16a5-4eb3-a53c-25c126a57db4",
   "metadata": {},
   "source": [
    "When using text-based storage formats for pandas it is necessary to make sure correct data type is loaded."
   ]
  },
  {
   "cell_type": "code",
   "execution_count": 3,
   "id": "6cdf4df6-4641-40b8-917b-8c38ed5c4a09",
   "metadata": {},
   "outputs": [],
   "source": [
    "def load_data(node_path, edge_path, rename_columns=True):\n",
    "    nodes = unpersist(node_path)\n",
    "    edges = unpersist(edge_path)\n",
    "    \n",
    "    \n",
    "    # `int64` not nullable\n",
    "    # `Int64` nullable\n",
    "    nodes = nodes.astype({\n",
    "        'type': 'category', \"serialized_name\": \"string\", \"mentioned_in\": \"Int64\", \"string\": \"string\", \"id\": \"int64\"\n",
    "    })\n",
    "    edges = edges.astype({\n",
    "        'type': 'category', \"mentioned_in\": \"Int64\", \"source_node_id\": \"int64\", \"target_node_id\": \"int64\"\n",
    "    })\n",
    "\n",
    "    if rename_columns:\n",
    "        nodes = nodes.rename(mapper={\n",
    "            'serialized_name': 'name'\n",
    "        }, axis=1)\n",
    "        edges = edges.rename(mapper={\n",
    "            'source_node_id': 'src',\n",
    "            'target_node_id': 'dst'\n",
    "        }, axis=1)\n",
    "\n",
    "    return nodes, edges"
   ]
  },
  {
   "cell_type": "code",
   "execution_count": 4,
   "id": "dbf1c8ae-d372-4d5d-b6e9-9a1d5d7dc98d",
   "metadata": {},
   "outputs": [],
   "source": [
    "nodes, edges = load_data(\"small_graph/common_nodes.json\", \"small_graph/common_edges.json\")"
   ]
  },
  {
   "cell_type": "code",
   "execution_count": 5,
   "id": "dc3059e0-819b-47fa-87a2-a78e26d43c0c",
   "metadata": {},
   "outputs": [
    {
     "name": "stdout",
     "output_type": "stream",
     "text": [
      "Nodes dtypes:\n",
      " id                 int64\n",
      "type            category\n",
      "name              string\n",
      "mentioned_in       Int64\n",
      "string            string\n",
      "dtype: object\n",
      "\n",
      "Edges dtypes:\n",
      " id                 int64\n",
      "type            category\n",
      "src                int64\n",
      "dst                int64\n",
      "file_id          float64\n",
      "mentioned_in       Int64\n",
      "dtype: object\n",
      "\n",
      "Unique nodes: 150, node types: 26\n",
      "Unique edges: 415, edge types: 50\n"
     ]
    }
   ],
   "source": [
    "print(\"Nodes dtypes:\\n\", nodes.dtypes)\n",
    "print()\n",
    "print(\"Edges dtypes:\\n\", edges.dtypes)\n",
    "print()\n",
    "print(f\"Unique nodes: {len(nodes)}, node types: {len(nodes['type'].unique())}\")\n",
    "print(f\"Unique edges: {len(edges)}, edge types: {len(edges['type'].unique())}\")"
   ]
  },
  {
   "cell_type": "code",
   "execution_count": 6,
   "id": "139c0525-113d-4275-b5e9-05b485369917",
   "metadata": {},
   "outputs": [
    {
     "data": {
      "text/plain": "      id                type                                  name  \\\n0      0              module                         ExampleModule   \n1      1               class            ExampleModule.ExampleClass   \n2      2        class_method   ExampleModule.ExampleClass.__init__   \n3      3  non_indexed_symbol                              builtins   \n4      4               class                          builtins.int   \n..   ...                 ...                                   ...   \n145  152             mention  print@FunctionDef_0x16d41315c9c41f53   \n146  153                Call               Call_0x16d41315c9148a75   \n147  154               BinOp              BinOp_0x16d41315c919b5a9   \n148  155             mention        main@Module_0x16d41315c9361936   \n149  156                Call               Call_0x16d41315c99405f0   \n\n     mentioned_in      string  \n0            <NA>        <NA>  \n1            <NA>        <NA>  \n2            <NA>        <NA>  \n3            <NA>        <NA>  \n4            <NA>        <NA>  \n..            ...         ...  \n145           143        <NA>  \n146           143  print(a+b)  \n147           143         a+b  \n148           138        <NA>  \n149           138      main()  \n\n[150 rows x 5 columns]",
      "text/html": "<div>\n<style scoped>\n    .dataframe tbody tr th:only-of-type {\n        vertical-align: middle;\n    }\n\n    .dataframe tbody tr th {\n        vertical-align: top;\n    }\n\n    .dataframe thead th {\n        text-align: right;\n    }\n</style>\n<table border=\"1\" class=\"dataframe\">\n  <thead>\n    <tr style=\"text-align: right;\">\n      <th></th>\n      <th>id</th>\n      <th>type</th>\n      <th>name</th>\n      <th>mentioned_in</th>\n      <th>string</th>\n    </tr>\n  </thead>\n  <tbody>\n    <tr>\n      <th>0</th>\n      <td>0</td>\n      <td>module</td>\n      <td>ExampleModule</td>\n      <td>&lt;NA&gt;</td>\n      <td>&lt;NA&gt;</td>\n    </tr>\n    <tr>\n      <th>1</th>\n      <td>1</td>\n      <td>class</td>\n      <td>ExampleModule.ExampleClass</td>\n      <td>&lt;NA&gt;</td>\n      <td>&lt;NA&gt;</td>\n    </tr>\n    <tr>\n      <th>2</th>\n      <td>2</td>\n      <td>class_method</td>\n      <td>ExampleModule.ExampleClass.__init__</td>\n      <td>&lt;NA&gt;</td>\n      <td>&lt;NA&gt;</td>\n    </tr>\n    <tr>\n      <th>3</th>\n      <td>3</td>\n      <td>non_indexed_symbol</td>\n      <td>builtins</td>\n      <td>&lt;NA&gt;</td>\n      <td>&lt;NA&gt;</td>\n    </tr>\n    <tr>\n      <th>4</th>\n      <td>4</td>\n      <td>class</td>\n      <td>builtins.int</td>\n      <td>&lt;NA&gt;</td>\n      <td>&lt;NA&gt;</td>\n    </tr>\n    <tr>\n      <th>...</th>\n      <td>...</td>\n      <td>...</td>\n      <td>...</td>\n      <td>...</td>\n      <td>...</td>\n    </tr>\n    <tr>\n      <th>145</th>\n      <td>152</td>\n      <td>mention</td>\n      <td>print@FunctionDef_0x16d41315c9c41f53</td>\n      <td>143</td>\n      <td>&lt;NA&gt;</td>\n    </tr>\n    <tr>\n      <th>146</th>\n      <td>153</td>\n      <td>Call</td>\n      <td>Call_0x16d41315c9148a75</td>\n      <td>143</td>\n      <td>print(a+b)</td>\n    </tr>\n    <tr>\n      <th>147</th>\n      <td>154</td>\n      <td>BinOp</td>\n      <td>BinOp_0x16d41315c919b5a9</td>\n      <td>143</td>\n      <td>a+b</td>\n    </tr>\n    <tr>\n      <th>148</th>\n      <td>155</td>\n      <td>mention</td>\n      <td>main@Module_0x16d41315c9361936</td>\n      <td>138</td>\n      <td>&lt;NA&gt;</td>\n    </tr>\n    <tr>\n      <th>149</th>\n      <td>156</td>\n      <td>Call</td>\n      <td>Call_0x16d41315c99405f0</td>\n      <td>138</td>\n      <td>main()</td>\n    </tr>\n  </tbody>\n</table>\n<p>150 rows × 5 columns</p>\n</div>"
     },
     "execution_count": 6,
     "metadata": {},
     "output_type": "execute_result"
    }
   ],
   "source": [
    "nodes"
   ]
  },
  {
   "cell_type": "code",
   "execution_count": 7,
   "id": "40cbd760-f8c0-42a7-94cc-0a6e12aa2735",
   "metadata": {},
   "outputs": [
    {
     "data": {
      "text/plain": "      id                   type  src  dst  file_id  mentioned_in\n0      0                defines    0    1      NaN          <NA>\n1      1                defines    1    2      NaN          <NA>\n2      2                defines    3    4      NaN          <NA>\n3      3              uses_type    2    4      NaN          <NA>\n4      4                defines    1    5      NaN          <NA>\n..   ...                    ...  ...  ...      ...           ...\n410  464               func_rev  156  155     32.0           138\n411  465                   next  143  156     32.0           138\n412  466                   prev  156  143     32.0           138\n413  467      defined_in_module  156  138     32.0           138\n414  468  defined_in_module_rev  138  156     32.0           138\n\n[415 rows x 6 columns]",
      "text/html": "<div>\n<style scoped>\n    .dataframe tbody tr th:only-of-type {\n        vertical-align: middle;\n    }\n\n    .dataframe tbody tr th {\n        vertical-align: top;\n    }\n\n    .dataframe thead th {\n        text-align: right;\n    }\n</style>\n<table border=\"1\" class=\"dataframe\">\n  <thead>\n    <tr style=\"text-align: right;\">\n      <th></th>\n      <th>id</th>\n      <th>type</th>\n      <th>src</th>\n      <th>dst</th>\n      <th>file_id</th>\n      <th>mentioned_in</th>\n    </tr>\n  </thead>\n  <tbody>\n    <tr>\n      <th>0</th>\n      <td>0</td>\n      <td>defines</td>\n      <td>0</td>\n      <td>1</td>\n      <td>NaN</td>\n      <td>&lt;NA&gt;</td>\n    </tr>\n    <tr>\n      <th>1</th>\n      <td>1</td>\n      <td>defines</td>\n      <td>1</td>\n      <td>2</td>\n      <td>NaN</td>\n      <td>&lt;NA&gt;</td>\n    </tr>\n    <tr>\n      <th>2</th>\n      <td>2</td>\n      <td>defines</td>\n      <td>3</td>\n      <td>4</td>\n      <td>NaN</td>\n      <td>&lt;NA&gt;</td>\n    </tr>\n    <tr>\n      <th>3</th>\n      <td>3</td>\n      <td>uses_type</td>\n      <td>2</td>\n      <td>4</td>\n      <td>NaN</td>\n      <td>&lt;NA&gt;</td>\n    </tr>\n    <tr>\n      <th>4</th>\n      <td>4</td>\n      <td>defines</td>\n      <td>1</td>\n      <td>5</td>\n      <td>NaN</td>\n      <td>&lt;NA&gt;</td>\n    </tr>\n    <tr>\n      <th>...</th>\n      <td>...</td>\n      <td>...</td>\n      <td>...</td>\n      <td>...</td>\n      <td>...</td>\n      <td>...</td>\n    </tr>\n    <tr>\n      <th>410</th>\n      <td>464</td>\n      <td>func_rev</td>\n      <td>156</td>\n      <td>155</td>\n      <td>32.0</td>\n      <td>138</td>\n    </tr>\n    <tr>\n      <th>411</th>\n      <td>465</td>\n      <td>next</td>\n      <td>143</td>\n      <td>156</td>\n      <td>32.0</td>\n      <td>138</td>\n    </tr>\n    <tr>\n      <th>412</th>\n      <td>466</td>\n      <td>prev</td>\n      <td>156</td>\n      <td>143</td>\n      <td>32.0</td>\n      <td>138</td>\n    </tr>\n    <tr>\n      <th>413</th>\n      <td>467</td>\n      <td>defined_in_module</td>\n      <td>156</td>\n      <td>138</td>\n      <td>32.0</td>\n      <td>138</td>\n    </tr>\n    <tr>\n      <th>414</th>\n      <td>468</td>\n      <td>defined_in_module_rev</td>\n      <td>138</td>\n      <td>156</td>\n      <td>32.0</td>\n      <td>138</td>\n    </tr>\n  </tbody>\n</table>\n<p>415 rows × 6 columns</p>\n</div>"
     },
     "execution_count": 7,
     "metadata": {},
     "output_type": "execute_result"
    }
   ],
   "source": [
    "edges"
   ]
  },
  {
   "cell_type": "code",
   "execution_count": 8,
   "id": "99a5bcf2-1835-4ef2-b6c4-190a76f477fc",
   "metadata": {},
   "outputs": [],
   "source": [
    "assert all(edges.eval(\"src in @node_ids\", local_dict={\"node_ids\": nodes[\"id\"]}))\n",
    "assert all(edges.eval(\"dst in @node_ids\", local_dict={\"node_ids\": nodes[\"id\"]}))"
   ]
  },
  {
   "cell_type": "code",
   "execution_count": 9,
   "id": "bbd3686e-0227-4673-8f9f-2c4e25cb2d2e",
   "metadata": {},
   "outputs": [],
   "source": [
    "nodes = nodes[[\"id\", \"type\", \"name\"]]\n",
    "edges = edges[[\"id\", \"type\", \"src\", \"dst\"]]"
   ]
  },
  {
   "cell_type": "markdown",
   "id": "e33b5977-7e85-4d79-bb9f-a13d930a8275",
   "metadata": {},
   "source": [
    "## Reading type annotations"
   ]
  },
  {
   "cell_type": "code",
   "execution_count": 10,
   "id": "1bdb3167-ce60-4ac7-8c70-79ec664c1e85",
   "metadata": {},
   "outputs": [
    {
     "data": {
      "text/plain": "    src   dst\n0    22   int\n2    35   str\n4    49   str\n6    53   int\n8    56   str\n10   79  None\n12  104   int\n14  128   str",
      "text/html": "<div>\n<style scoped>\n    .dataframe tbody tr th:only-of-type {\n        vertical-align: middle;\n    }\n\n    .dataframe tbody tr th {\n        vertical-align: top;\n    }\n\n    .dataframe thead th {\n        text-align: right;\n    }\n</style>\n<table border=\"1\" class=\"dataframe\">\n  <thead>\n    <tr style=\"text-align: right;\">\n      <th></th>\n      <th>src</th>\n      <th>dst</th>\n    </tr>\n  </thead>\n  <tbody>\n    <tr>\n      <th>0</th>\n      <td>22</td>\n      <td>int</td>\n    </tr>\n    <tr>\n      <th>2</th>\n      <td>35</td>\n      <td>str</td>\n    </tr>\n    <tr>\n      <th>4</th>\n      <td>49</td>\n      <td>str</td>\n    </tr>\n    <tr>\n      <th>6</th>\n      <td>53</td>\n      <td>int</td>\n    </tr>\n    <tr>\n      <th>8</th>\n      <td>56</td>\n      <td>str</td>\n    </tr>\n    <tr>\n      <th>10</th>\n      <td>79</td>\n      <td>None</td>\n    </tr>\n    <tr>\n      <th>12</th>\n      <td>104</td>\n      <td>int</td>\n    </tr>\n    <tr>\n      <th>14</th>\n      <td>128</td>\n      <td>str</td>\n    </tr>\n  </tbody>\n</table>\n</div>"
     },
     "execution_count": 10,
     "metadata": {},
     "output_type": "execute_result"
    }
   ],
   "source": [
    "type_annotations = unpersist(\"small_graph/type_annotations.json\").query(\"src in @node_ids\", local_dict={\"node_ids\": nodes[\"id\"]})\n",
    "type_annotations"
   ]
  },
  {
   "cell_type": "markdown",
   "id": "3bbe4302-77fc-4c52-939b-f658a08b7c80",
   "metadata": {},
   "source": [
    "# Preprocessing graph\n",
    "## Removing some edges"
   ]
  },
  {
   "cell_type": "markdown",
   "id": "72fdc4f8-f0d8-44d8-a680-99c777aa8a35",
   "metadata": {},
   "source": [
    "As an exercise, we remove some edge types"
   ]
  },
  {
   "cell_type": "code",
   "execution_count": 11,
   "id": "d90f13af-c576-4da4-a40a-5f17b22182d0",
   "metadata": {},
   "outputs": [],
   "source": [
    "def remove_global_edges(edges):\n",
    "    global_edges = SourceGraphDataset.get_global_edges()\n",
    "    is_ast = lambda type: type not in global_edges\n",
    "    edges = edges.query(\"type.map(@is_ast)\", local_dict={\"is_ast\": is_ast})\n",
    "    return edges"
   ]
  },
  {
   "cell_type": "code",
   "execution_count": 12,
   "id": "d4d5fd73-1591-427b-89d4-5e6abadfffcf",
   "metadata": {},
   "outputs": [
    {
     "data": {
      "text/plain": "      id                   type  src  dst\n50    50                subword   14   15\n51    51                    arg   15   19\n52    52                arg_rev   19   15\n53    53                   args   19   20\n54    54               args_rev   20   19\n..   ...                    ...  ...  ...\n410  464               func_rev  156  155\n411  465                   next  143  156\n412  466                   prev  156  143\n413  467      defined_in_module  156  138\n414  468  defined_in_module_rev  138  156\n\n[327 rows x 4 columns]",
      "text/html": "<div>\n<style scoped>\n    .dataframe tbody tr th:only-of-type {\n        vertical-align: middle;\n    }\n\n    .dataframe tbody tr th {\n        vertical-align: top;\n    }\n\n    .dataframe thead th {\n        text-align: right;\n    }\n</style>\n<table border=\"1\" class=\"dataframe\">\n  <thead>\n    <tr style=\"text-align: right;\">\n      <th></th>\n      <th>id</th>\n      <th>type</th>\n      <th>src</th>\n      <th>dst</th>\n    </tr>\n  </thead>\n  <tbody>\n    <tr>\n      <th>50</th>\n      <td>50</td>\n      <td>subword</td>\n      <td>14</td>\n      <td>15</td>\n    </tr>\n    <tr>\n      <th>51</th>\n      <td>51</td>\n      <td>arg</td>\n      <td>15</td>\n      <td>19</td>\n    </tr>\n    <tr>\n      <th>52</th>\n      <td>52</td>\n      <td>arg_rev</td>\n      <td>19</td>\n      <td>15</td>\n    </tr>\n    <tr>\n      <th>53</th>\n      <td>53</td>\n      <td>args</td>\n      <td>19</td>\n      <td>20</td>\n    </tr>\n    <tr>\n      <th>54</th>\n      <td>54</td>\n      <td>args_rev</td>\n      <td>20</td>\n      <td>19</td>\n    </tr>\n    <tr>\n      <th>...</th>\n      <td>...</td>\n      <td>...</td>\n      <td>...</td>\n      <td>...</td>\n    </tr>\n    <tr>\n      <th>410</th>\n      <td>464</td>\n      <td>func_rev</td>\n      <td>156</td>\n      <td>155</td>\n    </tr>\n    <tr>\n      <th>411</th>\n      <td>465</td>\n      <td>next</td>\n      <td>143</td>\n      <td>156</td>\n    </tr>\n    <tr>\n      <th>412</th>\n      <td>466</td>\n      <td>prev</td>\n      <td>156</td>\n      <td>143</td>\n    </tr>\n    <tr>\n      <th>413</th>\n      <td>467</td>\n      <td>defined_in_module</td>\n      <td>156</td>\n      <td>138</td>\n    </tr>\n    <tr>\n      <th>414</th>\n      <td>468</td>\n      <td>defined_in_module_rev</td>\n      <td>138</td>\n      <td>156</td>\n    </tr>\n  </tbody>\n</table>\n<p>327 rows × 4 columns</p>\n</div>"
     },
     "execution_count": 12,
     "metadata": {},
     "output_type": "execute_result"
    }
   ],
   "source": [
    "edges_ast = remove_global_edges(edges)\n",
    "edges_ast"
   ]
  },
  {
   "cell_type": "markdown",
   "id": "0fd6e0c9-63f9-4e81-865d-22557bb97800",
   "metadata": {},
   "source": [
    "## Making sure no isolated nodes are present"
   ]
  },
  {
   "cell_type": "markdown",
   "id": "35a9d53e-85bc-435a-ac13-9087c7401008",
   "metadata": {},
   "source": [
    "After graph has been edited, need to make sure there are no isolated nodes. They will cause errors when training GNN."
   ]
  },
  {
   "cell_type": "code",
   "execution_count": 15,
   "id": "cc1e0844-b5f4-4a0c-89d2-ca5f8992f8d4",
   "metadata": {},
   "outputs": [],
   "source": [
    "def ensure_connectedness(nodes, edges):\n",
    "    \"\"\"\n",
    "    Filter isolated nodes\n",
    "    :param nodes: DataFrame\n",
    "    :param edges: DataFrame\n",
    "    :return:\n",
    "    \"\"\"\n",
    "    unique_connected_nodes = set(edges['src'].append(edges['dst']))\n",
    "    \n",
    "    nodes = nodes.query(\"id in @unique_connected_nodes\", local_dict={\"unique_connected_nodes\": unique_connected_nodes})\n",
    "                        \n",
    "    print(f\"Ending up with {len(nodes)} nodes and {len(edges)} edges\")\n",
    "    return nodes, edges"
   ]
  },
  {
   "cell_type": "code",
   "execution_count": 27,
   "id": "2758500f-3b46-4192-a364-5f1e65da9275",
   "metadata": {
    "tags": []
   },
   "outputs": [
    {
     "name": "stdout",
     "output_type": "stream",
     "text": [
      "Ending up with 145 nodes and 327 edges\n"
     ]
    }
   ],
   "source": [
    "nodes, edges = ensure_connectedness(nodes, edges_ast)"
   ]
  },
  {
   "cell_type": "code",
   "execution_count": 28,
   "id": "1fcf3230-8028-4a8a-8ce4-df30c7a3b563",
   "metadata": {},
   "outputs": [],
   "source": [
    "assert all(edges.eval(\"src in @node_ids\", local_dict={\"node_ids\": nodes[\"id\"]}))\n",
    "assert all(edges.eval(\"dst in @node_ids\", local_dict={\"node_ids\": nodes[\"id\"]}))"
   ]
  },
  {
   "cell_type": "markdown",
   "id": "5942c29a-7076-4b0c-9590-0551b6b7a74e",
   "metadata": {},
   "source": [
    "## Adding extra node information"
   ]
  },
  {
   "cell_type": "code",
   "execution_count": 19,
   "id": "551ff497-6660-4ad9-be08-33d059bdd86b",
   "metadata": {},
   "outputs": [],
   "source": [
    "def format_node_types(nodes):\n",
    "    \"\"\"\n",
    "    DGL confuses some node types with internal objects, need to change current type names\n",
    "    \"\"\"\n",
    "    nodes = nodes.copy()  # copying is slow for large datasets, prefer in-place operations\n",
    "    nodes['type_backup'] = nodes['type'].copy()\n",
    "    nodes['type'] = nodes['type'].apply(lambda x: f\"{x}_\")\n",
    "    # nodes['type'] = \"node_\"  # can remove node type information\n",
    "    nodes = nodes.astype({'type': 'category'})\n",
    "    return nodes\n",
    "\n",
    "def add_splits(nodes, train_frac, restricted_id_pool=None):\n",
    "    nodes = nodes.copy()\n",
    "    \n",
    "    def random_partition():\n",
    "        r = random()\n",
    "        if r < train_frac:\n",
    "            return \"train\"\n",
    "        elif r < train_frac + (1 - train_frac) / 2:\n",
    "            return \"val\"\n",
    "        else:\n",
    "            return \"test\"\n",
    "    \n",
    "    import numpy as np\n",
    "    # define partitioning into train/test/val\n",
    "    masks = np.array([random_partition() for _ in range(len(nodes))])\n",
    "    \n",
    "    # create masks\n",
    "    nodes[\"train_mask\"] = masks == \"train\"\n",
    "    nodes[\"val_mask\"] = masks == \"val\"\n",
    "    nodes[\"test_mask\"] = masks == \"test\"\n",
    "    \n",
    "    if restricted_id_pool is not None:\n",
    "        # if `restricted_id_pool` is provided, mask all nodes not in `restricted_id_pool` negatively\n",
    "        to_keep = nodes.eval(\"id in @restricted_ids\", local_dict={\"restricted_ids\": restricted_id_pool})\n",
    "        nodes[\"train_mask\"] = nodes[\"train_mask\"] & to_keep\n",
    "        nodes[\"test_mask\"] = nodes[\"test_mask\"] & to_keep\n",
    "        nodes[\"val_mask\"] = nodes[\"val_mask\"] & to_keep\n",
    "    \n",
    "    return nodes"
   ]
  },
  {
   "cell_type": "code",
   "execution_count": 20,
   "id": "63b0ec32-69aa-4793-b73c-8fb766adecc5",
   "metadata": {},
   "outputs": [
    {
     "name": "stdout",
     "output_type": "stream",
     "text": [
      "Train examples: 3\n",
      "Test examples: 2\n",
      "Validation examples: 3\n"
     ]
    },
    {
     "data": {
      "text/plain": "      id           type                                  name   type_backup  \\\n0      0        module_                         ExampleModule        module   \n1      1         class_            ExampleModule.ExampleClass         class   \n2      2  class_method_   ExampleModule.ExampleClass.__init__  class_method   \n6      6      function_    ExampleModule.ExampleClass.method1      function   \n7      7         class_                          builtins.str         class   \n..   ...            ...                                   ...           ...   \n145  152       mention_  print@FunctionDef_0x16d41315c9c41f53       mention   \n146  153          Call_               Call_0x16d41315c9148a75          Call   \n147  154         BinOp_              BinOp_0x16d41315c919b5a9         BinOp   \n148  155       mention_        main@Module_0x16d41315c9361936       mention   \n149  156          Call_               Call_0x16d41315c99405f0          Call   \n\n     train_mask  val_mask  test_mask  \n0         False     False      False  \n1         False     False      False  \n2         False     False      False  \n6         False     False      False  \n7         False     False      False  \n..          ...       ...        ...  \n145       False     False      False  \n146       False     False      False  \n147       False     False      False  \n148       False     False      False  \n149       False     False      False  \n\n[145 rows x 7 columns]",
      "text/html": "<div>\n<style scoped>\n    .dataframe tbody tr th:only-of-type {\n        vertical-align: middle;\n    }\n\n    .dataframe tbody tr th {\n        vertical-align: top;\n    }\n\n    .dataframe thead th {\n        text-align: right;\n    }\n</style>\n<table border=\"1\" class=\"dataframe\">\n  <thead>\n    <tr style=\"text-align: right;\">\n      <th></th>\n      <th>id</th>\n      <th>type</th>\n      <th>name</th>\n      <th>type_backup</th>\n      <th>train_mask</th>\n      <th>val_mask</th>\n      <th>test_mask</th>\n    </tr>\n  </thead>\n  <tbody>\n    <tr>\n      <th>0</th>\n      <td>0</td>\n      <td>module_</td>\n      <td>ExampleModule</td>\n      <td>module</td>\n      <td>False</td>\n      <td>False</td>\n      <td>False</td>\n    </tr>\n    <tr>\n      <th>1</th>\n      <td>1</td>\n      <td>class_</td>\n      <td>ExampleModule.ExampleClass</td>\n      <td>class</td>\n      <td>False</td>\n      <td>False</td>\n      <td>False</td>\n    </tr>\n    <tr>\n      <th>2</th>\n      <td>2</td>\n      <td>class_method_</td>\n      <td>ExampleModule.ExampleClass.__init__</td>\n      <td>class_method</td>\n      <td>False</td>\n      <td>False</td>\n      <td>False</td>\n    </tr>\n    <tr>\n      <th>6</th>\n      <td>6</td>\n      <td>function_</td>\n      <td>ExampleModule.ExampleClass.method1</td>\n      <td>function</td>\n      <td>False</td>\n      <td>False</td>\n      <td>False</td>\n    </tr>\n    <tr>\n      <th>7</th>\n      <td>7</td>\n      <td>class_</td>\n      <td>builtins.str</td>\n      <td>class</td>\n      <td>False</td>\n      <td>False</td>\n      <td>False</td>\n    </tr>\n    <tr>\n      <th>...</th>\n      <td>...</td>\n      <td>...</td>\n      <td>...</td>\n      <td>...</td>\n      <td>...</td>\n      <td>...</td>\n      <td>...</td>\n    </tr>\n    <tr>\n      <th>145</th>\n      <td>152</td>\n      <td>mention_</td>\n      <td>print@FunctionDef_0x16d41315c9c41f53</td>\n      <td>mention</td>\n      <td>False</td>\n      <td>False</td>\n      <td>False</td>\n    </tr>\n    <tr>\n      <th>146</th>\n      <td>153</td>\n      <td>Call_</td>\n      <td>Call_0x16d41315c9148a75</td>\n      <td>Call</td>\n      <td>False</td>\n      <td>False</td>\n      <td>False</td>\n    </tr>\n    <tr>\n      <th>147</th>\n      <td>154</td>\n      <td>BinOp_</td>\n      <td>BinOp_0x16d41315c919b5a9</td>\n      <td>BinOp</td>\n      <td>False</td>\n      <td>False</td>\n      <td>False</td>\n    </tr>\n    <tr>\n      <th>148</th>\n      <td>155</td>\n      <td>mention_</td>\n      <td>main@Module_0x16d41315c9361936</td>\n      <td>mention</td>\n      <td>False</td>\n      <td>False</td>\n      <td>False</td>\n    </tr>\n    <tr>\n      <th>149</th>\n      <td>156</td>\n      <td>Call_</td>\n      <td>Call_0x16d41315c99405f0</td>\n      <td>Call</td>\n      <td>False</td>\n      <td>False</td>\n      <td>False</td>\n    </tr>\n  </tbody>\n</table>\n<p>145 rows × 7 columns</p>\n</div>"
     },
     "execution_count": 20,
     "metadata": {},
     "output_type": "execute_result"
    }
   ],
   "source": [
    "nodes = add_splits(format_node_types(nodes), 0.5, restricted_id_pool=type_annotations[\"src\"])\n",
    "print(\"Train examples:\", len(nodes.query(\"train_mask == True\")))\n",
    "print(\"Test examples:\", len(nodes.query(\"test_mask == True\")))\n",
    "print(\"Validation examples:\", len(nodes.query(\"val_mask == True\")))\n",
    "nodes"
   ]
  },
  {
   "cell_type": "code",
   "execution_count": 21,
   "id": "fe87c0bd-4294-4978-bbba-a3f24bf73024",
   "metadata": {},
   "outputs": [],
   "source": [
    "def add_type_dependent_dense_ids_to_nodes(nodes):\n",
    "    \"\"\"\n",
    "    DGL requires dense ids: https://docs.dgl.ai/en/latest/generated/dgl.heterograph.html#dgl.heterograph\n",
    "    Compute dense ids for each node type\n",
    "    \"\"\"\n",
    "    nodes = nodes.copy()\n",
    "\n",
    "    typed_id_map = {}\n",
    "\n",
    "    for type_ in nodes['type'].unique():\n",
    "        # create mask for the current node type\n",
    "        type_mask = nodes['type'] == type_\n",
    "\n",
    "        # `compact_property` will create a dense mapping\n",
    "        # it is equivalent to dict(zip(node_ids, range(len(node_ids))))\n",
    "        id_map = compact_property(nodes.loc[type_mask, 'id'])\n",
    "\n",
    "        # add a new column with dense type-dependent ids\n",
    "        nodes.loc[type_mask, 'typed_id'] = nodes.loc[type_mask, 'id'].apply(lambda old_id: id_map[old_id])\n",
    "\n",
    "        # store for further reference\n",
    "        typed_id_map[type_] = id_map\n",
    "\n",
    "    nodes = nodes.astype({\"typed_id\": \"int64\"})\n",
    "    return nodes, typed_id_map"
   ]
  },
  {
   "cell_type": "code",
   "execution_count": 22,
   "id": "40b80587-d44c-4093-b074-66a434354264",
   "metadata": {},
   "outputs": [
    {
     "data": {
      "text/plain": "      id           type                                  name   type_backup  \\\n0      0        module_                         ExampleModule        module   \n1      1         class_            ExampleModule.ExampleClass         class   \n2      2  class_method_   ExampleModule.ExampleClass.__init__  class_method   \n6      6      function_    ExampleModule.ExampleClass.method1      function   \n7      7         class_                          builtins.str         class   \n..   ...            ...                                   ...           ...   \n145  152       mention_  print@FunctionDef_0x16d41315c9c41f53       mention   \n146  153          Call_               Call_0x16d41315c9148a75          Call   \n147  154         BinOp_              BinOp_0x16d41315c919b5a9         BinOp   \n148  155       mention_        main@Module_0x16d41315c9361936       mention   \n149  156          Call_               Call_0x16d41315c99405f0          Call   \n\n     train_mask  val_mask  test_mask  typed_id  \n0         False     False      False         0  \n1         False     False      False         0  \n2         False     False      False         0  \n6         False     False      False         0  \n7         False     False      False         1  \n..          ...       ...        ...       ...  \n145       False     False      False        33  \n146       False     False      False         9  \n147       False     False      False         1  \n148       False     False      False        34  \n149       False     False      False        10  \n\n[145 rows x 8 columns]",
      "text/html": "<div>\n<style scoped>\n    .dataframe tbody tr th:only-of-type {\n        vertical-align: middle;\n    }\n\n    .dataframe tbody tr th {\n        vertical-align: top;\n    }\n\n    .dataframe thead th {\n        text-align: right;\n    }\n</style>\n<table border=\"1\" class=\"dataframe\">\n  <thead>\n    <tr style=\"text-align: right;\">\n      <th></th>\n      <th>id</th>\n      <th>type</th>\n      <th>name</th>\n      <th>type_backup</th>\n      <th>train_mask</th>\n      <th>val_mask</th>\n      <th>test_mask</th>\n      <th>typed_id</th>\n    </tr>\n  </thead>\n  <tbody>\n    <tr>\n      <th>0</th>\n      <td>0</td>\n      <td>module_</td>\n      <td>ExampleModule</td>\n      <td>module</td>\n      <td>False</td>\n      <td>False</td>\n      <td>False</td>\n      <td>0</td>\n    </tr>\n    <tr>\n      <th>1</th>\n      <td>1</td>\n      <td>class_</td>\n      <td>ExampleModule.ExampleClass</td>\n      <td>class</td>\n      <td>False</td>\n      <td>False</td>\n      <td>False</td>\n      <td>0</td>\n    </tr>\n    <tr>\n      <th>2</th>\n      <td>2</td>\n      <td>class_method_</td>\n      <td>ExampleModule.ExampleClass.__init__</td>\n      <td>class_method</td>\n      <td>False</td>\n      <td>False</td>\n      <td>False</td>\n      <td>0</td>\n    </tr>\n    <tr>\n      <th>6</th>\n      <td>6</td>\n      <td>function_</td>\n      <td>ExampleModule.ExampleClass.method1</td>\n      <td>function</td>\n      <td>False</td>\n      <td>False</td>\n      <td>False</td>\n      <td>0</td>\n    </tr>\n    <tr>\n      <th>7</th>\n      <td>7</td>\n      <td>class_</td>\n      <td>builtins.str</td>\n      <td>class</td>\n      <td>False</td>\n      <td>False</td>\n      <td>False</td>\n      <td>1</td>\n    </tr>\n    <tr>\n      <th>...</th>\n      <td>...</td>\n      <td>...</td>\n      <td>...</td>\n      <td>...</td>\n      <td>...</td>\n      <td>...</td>\n      <td>...</td>\n      <td>...</td>\n    </tr>\n    <tr>\n      <th>145</th>\n      <td>152</td>\n      <td>mention_</td>\n      <td>print@FunctionDef_0x16d41315c9c41f53</td>\n      <td>mention</td>\n      <td>False</td>\n      <td>False</td>\n      <td>False</td>\n      <td>33</td>\n    </tr>\n    <tr>\n      <th>146</th>\n      <td>153</td>\n      <td>Call_</td>\n      <td>Call_0x16d41315c9148a75</td>\n      <td>Call</td>\n      <td>False</td>\n      <td>False</td>\n      <td>False</td>\n      <td>9</td>\n    </tr>\n    <tr>\n      <th>147</th>\n      <td>154</td>\n      <td>BinOp_</td>\n      <td>BinOp_0x16d41315c919b5a9</td>\n      <td>BinOp</td>\n      <td>False</td>\n      <td>False</td>\n      <td>False</td>\n      <td>1</td>\n    </tr>\n    <tr>\n      <th>148</th>\n      <td>155</td>\n      <td>mention_</td>\n      <td>main@Module_0x16d41315c9361936</td>\n      <td>mention</td>\n      <td>False</td>\n      <td>False</td>\n      <td>False</td>\n      <td>34</td>\n    </tr>\n    <tr>\n      <th>149</th>\n      <td>156</td>\n      <td>Call_</td>\n      <td>Call_0x16d41315c99405f0</td>\n      <td>Call</td>\n      <td>False</td>\n      <td>False</td>\n      <td>False</td>\n      <td>10</td>\n    </tr>\n  </tbody>\n</table>\n<p>145 rows × 8 columns</p>\n</div>"
     },
     "execution_count": 22,
     "metadata": {},
     "output_type": "execute_result"
    }
   ],
   "source": [
    "nodes, typed_id_map = add_type_dependent_dense_ids_to_nodes(nodes)\n",
    "nodes"
   ]
  },
  {
   "cell_type": "markdown",
   "id": "1cd0fa5c-d17e-4273-a7a4-b7a1fbea93da",
   "metadata": {},
   "source": [
    "## Adding extra edge information"
   ]
  },
  {
   "cell_type": "code",
   "execution_count": 29,
   "id": "be0d6b46-2b58-471a-880c-baf1f4f2a38a",
   "metadata": {},
   "outputs": [],
   "source": [
    "def format_edge_types(edges):\n",
    "    \"\"\"\n",
    "    DGL confuses some edge types with internal objects, need to change current type names\n",
    "    \"\"\"\n",
    "    edges = edges.copy()\n",
    "    edges['type'] = edges['type'].apply(lambda x: f\"{x}_\")\n",
    "    return edges"
   ]
  },
  {
   "cell_type": "code",
   "execution_count": 30,
   "id": "70626daf-c6f4-46cb-a405-828e93eeea6e",
   "metadata": {},
   "outputs": [
    {
     "data": {
      "text/plain": "      id                    type  src  dst\n50    50                subword_   14   15\n51    51                    arg_   15   19\n52    52                arg_rev_   19   15\n53    53                   args_   19   20\n54    54               args_rev_   20   19\n..   ...                     ...  ...  ...\n410  464               func_rev_  156  155\n411  465                   next_  143  156\n412  466                   prev_  156  143\n413  467      defined_in_module_  156  138\n414  468  defined_in_module_rev_  138  156\n\n[327 rows x 4 columns]",
      "text/html": "<div>\n<style scoped>\n    .dataframe tbody tr th:only-of-type {\n        vertical-align: middle;\n    }\n\n    .dataframe tbody tr th {\n        vertical-align: top;\n    }\n\n    .dataframe thead th {\n        text-align: right;\n    }\n</style>\n<table border=\"1\" class=\"dataframe\">\n  <thead>\n    <tr style=\"text-align: right;\">\n      <th></th>\n      <th>id</th>\n      <th>type</th>\n      <th>src</th>\n      <th>dst</th>\n    </tr>\n  </thead>\n  <tbody>\n    <tr>\n      <th>50</th>\n      <td>50</td>\n      <td>subword_</td>\n      <td>14</td>\n      <td>15</td>\n    </tr>\n    <tr>\n      <th>51</th>\n      <td>51</td>\n      <td>arg_</td>\n      <td>15</td>\n      <td>19</td>\n    </tr>\n    <tr>\n      <th>52</th>\n      <td>52</td>\n      <td>arg_rev_</td>\n      <td>19</td>\n      <td>15</td>\n    </tr>\n    <tr>\n      <th>53</th>\n      <td>53</td>\n      <td>args_</td>\n      <td>19</td>\n      <td>20</td>\n    </tr>\n    <tr>\n      <th>54</th>\n      <td>54</td>\n      <td>args_rev_</td>\n      <td>20</td>\n      <td>19</td>\n    </tr>\n    <tr>\n      <th>...</th>\n      <td>...</td>\n      <td>...</td>\n      <td>...</td>\n      <td>...</td>\n    </tr>\n    <tr>\n      <th>410</th>\n      <td>464</td>\n      <td>func_rev_</td>\n      <td>156</td>\n      <td>155</td>\n    </tr>\n    <tr>\n      <th>411</th>\n      <td>465</td>\n      <td>next_</td>\n      <td>143</td>\n      <td>156</td>\n    </tr>\n    <tr>\n      <th>412</th>\n      <td>466</td>\n      <td>prev_</td>\n      <td>156</td>\n      <td>143</td>\n    </tr>\n    <tr>\n      <th>413</th>\n      <td>467</td>\n      <td>defined_in_module_</td>\n      <td>156</td>\n      <td>138</td>\n    </tr>\n    <tr>\n      <th>414</th>\n      <td>468</td>\n      <td>defined_in_module_rev_</td>\n      <td>138</td>\n      <td>156</td>\n    </tr>\n  </tbody>\n</table>\n<p>327 rows × 4 columns</p>\n</div>"
     },
     "execution_count": 30,
     "metadata": {},
     "output_type": "execute_result"
    }
   ],
   "source": [
    "edges = format_edge_types(edges)\n",
    "edges"
   ]
  },
  {
   "cell_type": "code",
   "execution_count": 31,
   "id": "ca377c26-bd4c-403b-a628-d33b2b3aad06",
   "metadata": {},
   "outputs": [],
   "source": [
    "def add_node_types_to_edges(nodes, edges):\n",
    "    \"\"\"\n",
    "    Add node types because they are needed for refining edge signatures\n",
    "    \"\"\"\n",
    "    edges = edges.copy()\n",
    "    node_type_map = dict(zip(nodes['id'], nodes['type']))\n",
    "\n",
    "    edges['src_type'] = edges['src'].apply(lambda src_id: node_type_map[src_id])\n",
    "    edges['dst_type'] = edges['dst'].apply(lambda dst_id: node_type_map[dst_id])\n",
    "    edges = edges.astype({'src_type': 'category', 'dst_type': 'category'})\n",
    "\n",
    "    return edges"
   ]
  },
  {
   "cell_type": "code",
   "execution_count": 32,
   "id": "5d330c29-65eb-4b18-9003-d89503e5747e",
   "metadata": {},
   "outputs": [
    {
     "data": {
      "text/plain": "      id                    type  src  dst      src_type      dst_type\n50    50                subword_   14   15      subword_      mention_\n51    51                    arg_   15   19      mention_          arg_\n52    52                arg_rev_   19   15          arg_      mention_\n53    53                   args_   19   20          arg_    arguments_\n54    54               args_rev_   20   19    arguments_          arg_\n..   ...                     ...  ...  ...           ...           ...\n410  464               func_rev_  156  155         Call_      mention_\n411  465                   next_  143  156  FunctionDef_         Call_\n412  466                   prev_  156  143         Call_  FunctionDef_\n413  467      defined_in_module_  156  138         Call_       Module_\n414  468  defined_in_module_rev_  138  156       Module_         Call_\n\n[327 rows x 6 columns]",
      "text/html": "<div>\n<style scoped>\n    .dataframe tbody tr th:only-of-type {\n        vertical-align: middle;\n    }\n\n    .dataframe tbody tr th {\n        vertical-align: top;\n    }\n\n    .dataframe thead th {\n        text-align: right;\n    }\n</style>\n<table border=\"1\" class=\"dataframe\">\n  <thead>\n    <tr style=\"text-align: right;\">\n      <th></th>\n      <th>id</th>\n      <th>type</th>\n      <th>src</th>\n      <th>dst</th>\n      <th>src_type</th>\n      <th>dst_type</th>\n    </tr>\n  </thead>\n  <tbody>\n    <tr>\n      <th>50</th>\n      <td>50</td>\n      <td>subword_</td>\n      <td>14</td>\n      <td>15</td>\n      <td>subword_</td>\n      <td>mention_</td>\n    </tr>\n    <tr>\n      <th>51</th>\n      <td>51</td>\n      <td>arg_</td>\n      <td>15</td>\n      <td>19</td>\n      <td>mention_</td>\n      <td>arg_</td>\n    </tr>\n    <tr>\n      <th>52</th>\n      <td>52</td>\n      <td>arg_rev_</td>\n      <td>19</td>\n      <td>15</td>\n      <td>arg_</td>\n      <td>mention_</td>\n    </tr>\n    <tr>\n      <th>53</th>\n      <td>53</td>\n      <td>args_</td>\n      <td>19</td>\n      <td>20</td>\n      <td>arg_</td>\n      <td>arguments_</td>\n    </tr>\n    <tr>\n      <th>54</th>\n      <td>54</td>\n      <td>args_rev_</td>\n      <td>20</td>\n      <td>19</td>\n      <td>arguments_</td>\n      <td>arg_</td>\n    </tr>\n    <tr>\n      <th>...</th>\n      <td>...</td>\n      <td>...</td>\n      <td>...</td>\n      <td>...</td>\n      <td>...</td>\n      <td>...</td>\n    </tr>\n    <tr>\n      <th>410</th>\n      <td>464</td>\n      <td>func_rev_</td>\n      <td>156</td>\n      <td>155</td>\n      <td>Call_</td>\n      <td>mention_</td>\n    </tr>\n    <tr>\n      <th>411</th>\n      <td>465</td>\n      <td>next_</td>\n      <td>143</td>\n      <td>156</td>\n      <td>FunctionDef_</td>\n      <td>Call_</td>\n    </tr>\n    <tr>\n      <th>412</th>\n      <td>466</td>\n      <td>prev_</td>\n      <td>156</td>\n      <td>143</td>\n      <td>Call_</td>\n      <td>FunctionDef_</td>\n    </tr>\n    <tr>\n      <th>413</th>\n      <td>467</td>\n      <td>defined_in_module_</td>\n      <td>156</td>\n      <td>138</td>\n      <td>Call_</td>\n      <td>Module_</td>\n    </tr>\n    <tr>\n      <th>414</th>\n      <td>468</td>\n      <td>defined_in_module_rev_</td>\n      <td>138</td>\n      <td>156</td>\n      <td>Module_</td>\n      <td>Call_</td>\n    </tr>\n  </tbody>\n</table>\n<p>327 rows × 6 columns</p>\n</div>"
     },
     "execution_count": 32,
     "metadata": {},
     "output_type": "execute_result"
    }
   ],
   "source": [
    "edges = add_node_types_to_edges(nodes, edges)\n",
    "edges"
   ]
  },
  {
   "cell_type": "markdown",
   "id": "05ddca13-ee7f-4525-9813-0938abc35536",
   "metadata": {},
   "source": [
    "# Building graph"
   ]
  },
  {
   "cell_type": "code",
   "execution_count": 33,
   "id": "6ccab980-1be4-44c7-a220-3f849c9ed2c3",
   "metadata": {},
   "outputs": [
    {
     "name": "stdout",
     "output_type": "stream",
     "text": [
      "Unique nodes: 145, node types: 24\n",
      "Unique edges: 327, edge types: 38\n"
     ]
    }
   ],
   "source": [
    "print(f\"Unique nodes: {len(nodes)}, node types: {len(nodes['type'].unique())}\")\n",
    "print(f\"Unique edges: {len(edges)}, edge types: {len(edges['type'].unique())}\")"
   ]
  },
  {
   "cell_type": "code",
   "execution_count": 34,
   "id": "94b006cb-9821-4e13-b03b-26dae995f9c3",
   "metadata": {},
   "outputs": [],
   "source": [
    "def add_global_dense_graph_id(nodes, graph, typed_id_map):\n",
    "    \"\"\"\n",
    "    Add dense global node ids to make it easier working with embeddings in the future\n",
    "    \"\"\"\n",
    "    orig_id = []\n",
    "    graph_id = []\n",
    "    prev_offset = 0\n",
    "    \n",
    "    nodes = nodes.copy()\n",
    "\n",
    "    # simply assign global id in the order node types appear in `graph.ntypes`\n",
    "    for type_ in graph.ntypes:\n",
    "        from_id, to_id = zip(*typed_id_map[type_].items())\n",
    "        orig_id.extend(from_id)\n",
    "        graph_id.extend([t + prev_offset for t in to_id])\n",
    "        prev_offset += graph.number_of_nodes(type_)\n",
    "\n",
    "    global_map = dict(zip(orig_id, graph_id))\n",
    "\n",
    "    nodes['global_graph_id'] = nodes['id'].apply(lambda old_id: global_map[old_id])\n",
    "    \n",
    "    return nodes\n",
    "\n",
    "def add_node_data(graph, nodes):\n",
    "    field_types = {\n",
    "        \"train_mask\": torch.bool,\n",
    "        \"test_mask\": torch.bool,\n",
    "        \"val_mask\": torch.bool,\n",
    "        \"typed_id\": torch.int64,\n",
    "        \"original_id\": torch.int64,\n",
    "        \"global_graph_id\": torch.int64,\n",
    "    }\n",
    "    \n",
    "    for ntype in graph.ntypes:\n",
    "        node_data = nodes.query(f\"type == '{ntype}'\").sort_values('typed_id').rename({\"id\": \"original_id\"}, axis=1)\n",
    "           \n",
    "        for field_name, field_type in field_types.items():\n",
    "            graph.nodes[ntype].data[field_name] = torch.tensor(node_data[field_name].values, dtype=field_type)\n",
    "        \n",
    "    return graph\n",
    "\n",
    "def create_hetero_graph(nodes, edges, typed_id_map):\n",
    "    nodes = nodes.copy()\n",
    "    edges = edges.copy()\n",
    "\n",
    "    edges = add_node_types_to_edges(nodes, edges)\n",
    "\n",
    "    typed_node_id = dict(zip(nodes['id'], nodes['typed_id']))\n",
    "\n",
    "    typed_subgraphs = {}\n",
    "\n",
    "    # group by in pandas is slow, use something else for large datasets\n",
    "    for signature, signature_edges in edges.groupby(['src_type', 'type', 'dst_type']):  \n",
    "        # `signature` is a tuple (src_type, edge_type, dst_type)\n",
    "        typed_subgraphs[signature] = list(\n",
    "            zip(\n",
    "                signature_edges['src'].map(lambda old_id: typed_node_id[old_id]),\n",
    "                signature_edges['dst'].map(lambda old_id: typed_node_id[old_id])\n",
    "            )\n",
    "        )\n",
    "\n",
    "    print(\n",
    "        f\"Unique triplet types in the graph: {len(typed_subgraphs.keys())}\"\n",
    "    )\n",
    "\n",
    "    g = dgl.heterograph(typed_subgraphs)\n",
    "    \n",
    "    nodes = add_global_dense_graph_id(nodes, g, typed_id_map)\n",
    "    \n",
    "    g = add_node_data(g, nodes)\n",
    "    return g, nodes, edges"
   ]
  },
  {
   "cell_type": "code",
   "execution_count": 35,
   "id": "7d81d65a-2f1b-4525-b4e9-2cbdeb234980",
   "metadata": {},
   "outputs": [
    {
     "name": "stdout",
     "output_type": "stream",
     "text": [
      "Unique triplet types in the graph: 102\n"
     ]
    }
   ],
   "source": [
    "g, nodes, edges = create_hetero_graph(nodes, edges, typed_id_map)"
   ]
  },
  {
   "cell_type": "markdown",
   "id": "f461773c-620c-45c9-9ce5-1d26f8f9c72d",
   "metadata": {},
   "source": [
    "## Graph Atributes"
   ]
  },
  {
   "cell_type": "code",
   "execution_count": 36,
   "id": "25fc1ce2-309c-40c2-9bff-e6455800dc7f",
   "metadata": {},
   "outputs": [
    {
     "data": {
      "text/plain": "['#attr#_',\n 'AnnAssign_',\n 'Assign_',\n 'Attribute_',\n 'BinOp_',\n 'Call_',\n 'ClassDef_',\n 'Constant_',\n 'FunctionDef_',\n 'ImportFrom_',\n 'JoinedStr_',\n 'Module_',\n 'Op_',\n 'Return_',\n 'alias_',\n 'arg_',\n 'arguments_',\n 'class_',\n 'class_method_',\n 'function_',\n 'global_variable_',\n 'mention_',\n 'module_',\n 'subword_']"
     },
     "execution_count": 36,
     "metadata": {},
     "output_type": "execute_result"
    }
   ],
   "source": [
    "g.ntypes"
   ]
  },
  {
   "cell_type": "code",
   "execution_count": 37,
   "id": "b5110724-8f41-4e93-b4a7-689aea7760a2",
   "metadata": {},
   "outputs": [
    {
     "data": {
      "text/plain": "NodeSpace(data={'train_mask': tensor([False, False]), 'test_mask': tensor([False, False]), 'val_mask': tensor([False, False]), 'typed_id': tensor([0, 1]), 'original_id': tensor([ 0, 91]), 'global_graph_id': tensor([119, 120])})"
     },
     "execution_count": 37,
     "metadata": {},
     "output_type": "execute_result"
    }
   ],
   "source": [
    "g.nodes[\"module_\"]"
   ]
  },
  {
   "cell_type": "code",
   "execution_count": 38,
   "id": "17680572-d69d-4f5c-9409-a662992c0307",
   "metadata": {
    "tags": []
   },
   "outputs": [
    {
     "data": {
      "text/plain": "{'#attr#_': tensor([False, False, False, False]),\n 'AnnAssign_': tensor([False, False]),\n 'Assign_': tensor([False, False, False, False, False]),\n 'Attribute_': tensor([False, False, False, False, False, False, False]),\n 'BinOp_': tensor([False, False]),\n 'Call_': tensor([False, False, False, False, False, False, False, False, False, False,\n         False]),\n 'ClassDef_': tensor([False, False]),\n 'Constant_': tensor([False]),\n 'FunctionDef_': tensor([False,  True,  True, False, False, False, False, False]),\n 'ImportFrom_': tensor([False, False]),\n 'JoinedStr_': tensor([False]),\n 'Module_': tensor([False, False, False, False]),\n 'Op_': tensor([False]),\n 'Return_': tensor([False, False, False, False]),\n 'alias_': tensor([False, False]),\n 'arg_': tensor([False, False, False, False, False, False, False, False, False]),\n 'arguments_': tensor([False, False, False, False, False, False]),\n 'class_': tensor([False, False, False]),\n 'class_method_': tensor([False, False, False]),\n 'function_': tensor([False, False, False, False, False, False]),\n 'global_variable_': tensor([False]),\n 'mention_': tensor([False, False, False, False, False, False,  True, False, False, False,\n         False, False, False, False, False, False, False, False, False, False,\n         False, False, False, False, False, False, False, False, False, False,\n         False, False, False, False, False]),\n 'module_': tensor([False, False]),\n 'subword_': tensor([False, False, False, False, False, False, False, False, False, False,\n         False, False, False, False, False, False, False, False, False, False,\n         False, False, False, False])}"
     },
     "execution_count": 38,
     "metadata": {},
     "output_type": "execute_result"
    }
   ],
   "source": [
    "g.ndata[\"train_mask\"]"
   ]
  },
  {
   "cell_type": "code",
   "execution_count": 39,
   "id": "bfbb97fa-2c68-4290-b74e-b63f0b5cd226",
   "metadata": {
    "tags": []
   },
   "outputs": [
    {
     "data": {
      "text/plain": "[('#attr#_', 'attr_', 'Attribute_'),\n ('AnnAssign_', 'defined_in_function_', 'FunctionDef_'),\n ('AnnAssign_', 'next_', 'AnnAssign_'),\n ('AnnAssign_', 'next_', 'Return_'),\n ('AnnAssign_', 'prev_', 'AnnAssign_'),\n ('AnnAssign_', 'target_rev_', 'mention_'),\n ('AnnAssign_', 'value_rev_', 'Attribute_'),\n ('AnnAssign_', 'value_rev_', 'Call_'),\n ('Assign_', 'defined_in_function_', 'FunctionDef_'),\n ('Assign_', 'defined_in_module_', 'Module_'),\n ('Assign_', 'next_', 'Assign_'),\n ('Assign_', 'next_', 'Call_'),\n ('Assign_', 'next_', 'FunctionDef_'),\n ('Assign_', 'prev_', 'Assign_'),\n ('Assign_', 'prev_', 'ImportFrom_'),\n ('Assign_', 'targets_rev_', 'Attribute_'),\n ('Assign_', 'targets_rev_', 'mention_'),\n ('Assign_', 'value_rev_', 'Call_'),\n ('Assign_', 'value_rev_', 'mention_'),\n ('Attribute_', 'func_', 'Call_'),\n ('Attribute_', 'left_', 'BinOp_'),\n ('Attribute_', 'right_', 'BinOp_'),\n ('Attribute_', 'targets_', 'Assign_'),\n ('Attribute_', 'value_', 'AnnAssign_'),\n ('Attribute_', 'value_rev_', 'mention_'),\n ('BinOp_', 'args_', 'Call_'),\n ('BinOp_', 'left_rev_', 'Attribute_'),\n ('BinOp_', 'left_rev_', 'mention_'),\n ('BinOp_', 'right_rev_', 'Attribute_'),\n ('BinOp_', 'right_rev_', 'mention_'),\n ('Call_', 'args_', 'Call_'),\n ('Call_', 'args_rev_', 'BinOp_'),\n ('Call_', 'args_rev_', 'Call_'),\n ('Call_', 'args_rev_', 'mention_'),\n ('Call_', 'defined_in_function_', 'FunctionDef_'),\n ('Call_', 'defined_in_module_', 'Module_'),\n ('Call_', 'func_rev_', 'Attribute_'),\n ('Call_', 'func_rev_', 'mention_'),\n ('Call_', 'prev_', 'Assign_'),\n ('Call_', 'prev_', 'FunctionDef_'),\n ('Call_', 'value_', 'AnnAssign_'),\n ('Call_', 'value_', 'Assign_'),\n ('Call_', 'value_', 'Return_'),\n ('ClassDef_', 'defined_in_class_rev_', 'FunctionDef_'),\n ('ClassDef_', 'defined_in_module_', 'Module_'),\n ('Constant_', 'args_', 'Call_'),\n ('FunctionDef_', 'args_rev_', 'arguments_'),\n ('FunctionDef_', 'defined_in_class_', 'ClassDef_'),\n ('FunctionDef_', 'defined_in_function_rev_', 'AnnAssign_'),\n ('FunctionDef_', 'defined_in_function_rev_', 'Assign_'),\n ('FunctionDef_', 'defined_in_function_rev_', 'Call_'),\n ('FunctionDef_', 'defined_in_function_rev_', 'Return_'),\n ('FunctionDef_', 'defined_in_module_', 'Module_'),\n ('FunctionDef_', 'next_', 'Call_'),\n ('FunctionDef_', 'next_', 'FunctionDef_'),\n ('FunctionDef_', 'prev_', 'Assign_'),\n ('FunctionDef_', 'prev_', 'FunctionDef_'),\n ('FunctionDef_', 'prev_', 'ImportFrom_'),\n ('ImportFrom_', 'defined_in_module_', 'Module_'),\n ('ImportFrom_', 'module_rev_', 'mention_'),\n ('ImportFrom_', 'names_rev_', 'alias_'),\n ('ImportFrom_', 'next_', 'Assign_'),\n ('ImportFrom_', 'next_', 'FunctionDef_'),\n ('JoinedStr_', 'value_', 'Return_'),\n ('Module_', 'defined_in_module_rev_', 'Assign_'),\n ('Module_', 'defined_in_module_rev_', 'Call_'),\n ('Module_', 'defined_in_module_rev_', 'ClassDef_'),\n ('Module_', 'defined_in_module_rev_', 'FunctionDef_'),\n ('Module_', 'defined_in_module_rev_', 'ImportFrom_'),\n ('Op_', 'op_', 'BinOp_'),\n ('Return_', 'defined_in_function_', 'FunctionDef_'),\n ('Return_', 'prev_', 'AnnAssign_'),\n ('Return_', 'value_rev_', 'Call_'),\n ('Return_', 'value_rev_', 'mention_'),\n ('alias_', 'asname_rev_', 'mention_'),\n ('alias_', 'name_rev_', 'mention_'),\n ('alias_', 'names_', 'ImportFrom_'),\n ('arg_', 'arg_rev_', 'mention_'),\n ('arg_', 'args_', 'arguments_'),\n ('arguments_', 'args_', 'FunctionDef_'),\n ('arguments_', 'args_rev_', 'arg_'),\n ('class_', 'global_mention_', 'mention_'),\n ('class_method_', 'global_mention_', 'mention_'),\n ('function_', 'global_mention_', 'mention_'),\n ('global_variable_', 'global_mention_', 'mention_'),\n ('mention_', 'arg_', 'arg_'),\n ('mention_', 'args_', 'Call_'),\n ('mention_', 'asname_', 'alias_'),\n ('mention_', 'class_name_rev_', 'ClassDef_'),\n ('mention_', 'func_', 'Call_'),\n ('mention_', 'function_name_rev_', 'FunctionDef_'),\n ('mention_', 'left_', 'BinOp_'),\n ('mention_', 'module_', 'ImportFrom_'),\n ('mention_', 'name_', 'alias_'),\n ('mention_', 'right_', 'BinOp_'),\n ('mention_', 'target_', 'AnnAssign_'),\n ('mention_', 'targets_', 'Assign_'),\n ('mention_', 'value_', 'Assign_'),\n ('mention_', 'value_', 'Attribute_'),\n ('mention_', 'value_', 'Return_'),\n ('module_', 'global_mention_', 'mention_'),\n ('subword_', 'subword_', 'mention_')]"
     },
     "execution_count": 39,
     "metadata": {},
     "output_type": "execute_result"
    }
   ],
   "source": [
    "g.canonical_etypes"
   ]
  },
  {
   "cell_type": "code",
   "execution_count": 49,
   "outputs": [
    {
     "data": {
      "text/plain": "EdgeSpace(data={})"
     },
     "execution_count": 49,
     "metadata": {},
     "output_type": "execute_result"
    }
   ],
   "source": [
    "g.edges[('subword_', 'subword_', 'mention_')]"
   ],
   "metadata": {
    "collapsed": false,
    "pycharm": {
     "name": "#%%\n"
    }
   }
  },
  {
   "cell_type": "code",
   "execution_count": 51,
   "id": "b4b3e786-a021-4048-9b0c-020733171683",
   "metadata": {},
   "outputs": [
    {
     "data": {
      "text/plain": "(tensor([ 0,  1,  2,  3,  4,  0,  6,  8,  0,  9,  8,  9,  7,  5,  6,  7, 10, 11,\n         10, 12, 10, 11, 13, 14, 15, 14, 16,  0, 17,  2,  3,  4,  0, 17, 18,  2,\n         19,  4,  0,  2, 20,  4, 18, 21, 18, 18, 22, 23, 15, 16]),\n tensor([ 0,  1,  2,  2,  2,  3,  4,  4,  5,  6,  6,  7,  7,  8,  9,  9, 10, 10,\n         11, 11, 12, 12, 13, 14, 15, 16, 17, 18, 19, 20, 20, 20, 21, 22, 23, 24,\n         24, 24, 25, 26, 26, 26, 27, 28, 29, 30, 31, 32, 33, 34]))"
     },
     "execution_count": 51,
     "metadata": {},
     "output_type": "execute_result"
    }
   ],
   "source": [
    "g.edges(etype=('subword_', 'subword_', 'mention_'))"
   ]
  },
  {
   "cell_type": "markdown",
   "id": "1df19fd9-7675-41ba-bcf7-99121f15048f",
   "metadata": {},
   "source": [
    "## Dataloaders"
   ]
  },
  {
   "cell_type": "code",
   "execution_count": 52,
   "id": "1a41f3b6-2f04-4ac3-8c2c-109c26c6d578",
   "metadata": {},
   "outputs": [
    {
     "data": {
      "text/plain": "{'FunctionDef_': tensor([1, 2]), 'mention_': tensor([6])}"
     },
     "execution_count": 52,
     "metadata": {},
     "output_type": "execute_result"
    }
   ],
   "source": [
    "def get_train_nodes(graph):\n",
    "    train_nodes = {}\n",
    "    for node_type, mask in graph.ndata[\"train_mask\"].items():\n",
    "        train_ids = graph.ndata[\"typed_id\"][node_type][mask]\n",
    "        if len(train_ids) > 0:\n",
    "            train_nodes[node_type] = train_ids\n",
    "    return train_nodes\n",
    "\n",
    "get_train_nodes(g)"
   ]
  },
  {
   "cell_type": "code",
   "execution_count": 53,
   "id": "ef3e7b73-925c-43e8-a2ab-c25ba710251d",
   "metadata": {},
   "outputs": [],
   "source": [
    "sampler = dgl.dataloading.MultiLayerFullNeighborSampler(1)\n",
    "loader = dgl.dataloading.NodeDataLoader(\n",
    "    g, get_train_nodes(g), sampler, batch_size=1, shuffle=False, num_workers=0)"
   ]
  },
  {
   "cell_type": "code",
   "execution_count": 54,
   "id": "ba78130d-64e9-460d-87fb-122f413902f2",
   "metadata": {},
   "outputs": [
    {
     "name": "stdout",
     "output_type": "stream",
     "text": [
      "Batch: 0\n",
      "Seeds:\n",
      "FunctionDef_ tensor([35])\n",
      "\n",
      "Input nodes:\n",
      "ClassDef_ tensor([17])\n",
      "FunctionDef_ tensor([35, 16, 49])\n",
      "Return_ tensor([45])\n",
      "arguments_ tensor([37])\n",
      "mention_ tensor([46])\n",
      "\n",
      "Layer 0\n",
      "tensor([17]) --> ('ClassDef_', 'defined_in_class_rev_', 'FunctionDef_') --> tensor([35])\n",
      "tensor([35, 16, 49]) --> ('FunctionDef_', 'next_', 'FunctionDef_') --> tensor([35])\n",
      "tensor([35, 16, 49]) --> ('FunctionDef_', 'prev_', 'FunctionDef_') --> tensor([35])\n",
      "tensor([45]) --> ('Return_', 'defined_in_function_', 'FunctionDef_') --> tensor([35])\n",
      "tensor([37]) --> ('arguments_', 'args_', 'FunctionDef_') --> tensor([35])\n",
      "tensor([46]) --> ('mention_', 'function_name_rev_', 'FunctionDef_') --> tensor([35])\n",
      "\n",
      "\n",
      "Batch: 1\n",
      "Seeds:\n",
      "FunctionDef_ tensor([49])\n",
      "\n",
      "Input nodes:\n",
      "AnnAssign_ tensor([54, 57])\n",
      "ClassDef_ tensor([17])\n",
      "FunctionDef_ tensor([49, 35])\n",
      "Return_ tensor([60])\n",
      "arguments_ tensor([51])\n",
      "mention_ tensor([61])\n",
      "\n",
      "Layer 0\n",
      "tensor([54, 57]) --> ('AnnAssign_', 'defined_in_function_', 'FunctionDef_') --> tensor([49])\n",
      "tensor([17]) --> ('ClassDef_', 'defined_in_class_rev_', 'FunctionDef_') --> tensor([49])\n",
      "tensor([49, 35]) --> ('FunctionDef_', 'next_', 'FunctionDef_') --> tensor([49])\n",
      "tensor([60]) --> ('Return_', 'defined_in_function_', 'FunctionDef_') --> tensor([49])\n",
      "tensor([51]) --> ('arguments_', 'args_', 'FunctionDef_') --> tensor([49])\n",
      "tensor([61]) --> ('mention_', 'function_name_rev_', 'FunctionDef_') --> tensor([49])\n",
      "\n",
      "\n",
      "Batch: 2\n",
      "Seeds:\n",
      "mention_ tensor([53])\n",
      "\n",
      "Input nodes:\n",
      "AnnAssign_ tensor([54])\n",
      "Call_ tensor([59])\n",
      "mention_ tensor([53])\n",
      "subword_ tensor([52, 47])\n",
      "\n",
      "Layer 0\n",
      "tensor([54]) --> ('AnnAssign_', 'target_rev_', 'mention_') --> tensor([53])\n",
      "tensor([59]) --> ('Call_', 'args_rev_', 'mention_') --> tensor([53])\n",
      "tensor([52, 47]) --> ('subword_', 'subword_', 'mention_') --> tensor([53])\n",
      "\n",
      "\n"
     ]
    }
   ],
   "source": [
    "for ind, (input_nodes, seeds, blocks) in enumerate(loader):\n",
    "    print(\"Batch:\", ind)\n",
    "    \n",
    "    print(\"Seeds:\")\n",
    "    for key, val in seeds.items():\n",
    "        if len(val) > 0:\n",
    "            print(key, blocks[-1].dstnodes[key].data[\"original_id\"])\n",
    "            \n",
    "    print()\n",
    "    \n",
    "    print(\"Input nodes:\")\n",
    "    for key, val in input_nodes.items():\n",
    "        if len(val) > 0:\n",
    "            print(key, blocks[0].srcnodes[key].data[\"original_id\"])\n",
    "            \n",
    "    print()\n",
    "    \n",
    "    for b_ind, block in enumerate(blocks):\n",
    "        print(\"Layer\", b_ind)\n",
    "        for etype in block.canonical_etypes:\n",
    "            if block[etype].num_edges() > 0:\n",
    "                # for srctype, dsttype in zip(\n",
    "                # print(blocks[0][etype].adj().to_dense())\n",
    "                print(block.srcnodes[etype[0]].data[\"original_id\"], \"-->\", etype, \"-->\", block.dstnodes[etype[2]].data[\"original_id\"])  #, block[etype].num_edges())    \n",
    "        print()\n",
    "    print()\n"
   ]
  },
  {
   "cell_type": "code",
   "execution_count": null,
   "id": "f18ad6d7-8e92-48a5-9888-f9c2c9471414",
   "metadata": {},
   "outputs": [],
   "source": []
  }
 ],
 "metadata": {
  "kernelspec": {
   "name": "sourcecodetools",
   "language": "python",
   "display_name": "SourceCodeTools"
  },
  "language_info": {
   "codemirror_mode": {
    "name": "ipython",
    "version": 3
   },
   "file_extension": ".py",
   "mimetype": "text/x-python",
   "name": "python",
   "nbconvert_exporter": "python",
   "pygments_lexer": "ipython3",
   "version": "3.8.12"
  }
 },
 "nbformat": 4,
 "nbformat_minor": 5
}
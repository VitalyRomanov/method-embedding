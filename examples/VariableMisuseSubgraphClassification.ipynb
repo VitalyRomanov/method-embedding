{
 "cells": [
  {
   "cell_type": "markdown",
   "id": "a7ac95e0",
   "metadata": {
    "pycharm": {
     "name": "#%% md\n"
    }
   },
   "source": [
    "## Title \n",
    "\n",
    "Description"
   ]
  },
  {
   "cell_type": "code",
   "execution_count": 1,
   "id": "945c3f46",
   "metadata": {
    "cellId": "0pafpqq089hs06imyofj0d8g",
    "execution_id": "9c93dc88-e371-40d6-96b9-6e397dd2d886",
    "pycharm": {
     "name": "#%%\n"
    }
   },
   "outputs": [],
   "source": [
    "%load_ext autoreload\n",
    "%autoreload 2\n",
    "%load_ext tensorboard"
   ]
  },
  {
   "cell_type": "code",
   "execution_count": 2,
   "id": "ac9ad134",
   "metadata": {
    "cellId": "arfowdprag31hzn6iupup",
    "execution_id": "00cd8bc1-2abf-4d29-9a1a-dbd54d95af4b",
    "pycharm": {
     "name": "#%%\n"
    }
   },
   "outputs": [
    {
     "name": "stderr",
     "output_type": "stream",
     "text": [
      "Using backend: pytorch\n"
     ]
    }
   ],
   "source": [
    "from random import random\n",
    "\n",
    "from SourceCodeTools.models.training_config import get_config, save_config, load_config\n",
    "from SourceCodeTools.code.data.dataset.Dataset import SourceGraphDataset, filter_dst_by_freq\n",
    "from SourceCodeTools.models.graph.train.sampling_multitask2 import training_procedure, SamplingMultitaskTrainer\n",
    "from SourceCodeTools.models.graph.train.objectives.NodeClassificationObjective import NodeClassifierObjective\n",
    "from SourceCodeTools.models.graph.train.objectives.SubgraphClassifierObjective import SubgraphAbstractObjective, \\\n",
    "    SubgraphClassifierObjective, SubgraphEmbeddingObjective\n",
    "from SourceCodeTools.models.graph.train.utils import get_name, get_model_base\n",
    "from SourceCodeTools.models.graph import RGGAN\n",
    "from SourceCodeTools.tabular.common import compact_property\n",
    "from SourceCodeTools.code.data.file_utils import unpersist\n",
    "\n",
    "import dgl\n",
    "import torch\n",
    "import numpy as np\n",
    "from argparse import Namespace\n",
    "from torch import nn\n",
    "from datetime import datetime\n",
    "from os.path import join\n",
    "from functools import partial"
   ]
  },
  {
   "cell_type": "markdown",
   "id": "16a685b9",
   "metadata": {
    "cellId": "p1vbd2almoe8o4xbjsha2i",
    "execution_id": "3d0d18ed-7a13-49ed-ad66-52e70e501e4b",
    "pycharm": {
     "name": "#%% md\n"
    },
    "tags": []
   },
   "source": [
    "# Prepare parameters and options\n",
    "\n",
    "Full list of options that can be added can be found in `SourceCodeTools/models/training_options.py`. They are ment to be used as arguments for cli trainer. Trainer script can be found in `SourceCodeTools/scripts/train.py`.\n",
    "\n",
    "For the task of subgraph classification the important options are:\n",
    "- `subgraph_partition` is path to subgraph-based train/val/test sets. Storead as Dataframe with subgraph id and partition mask\n",
    "- `subgraph_id_column` is a column is `common_edges` file that stores subgraph id.\n",
    "- For variable misuse task (same will apply to authorship attribution) subgraphs are created for individual functions (files for SCAA). The label is stored in `common_filecontent`."
   ]
  },
  {
   "cell_type": "code",
   "execution_count": 3,
   "id": "5ee84dbf",
   "metadata": {
    "cellId": "x68rr2b8zhv1h55hg0nz",
    "execution_id": "21cdf4d1-5d0c-4d49-872a-ae3dc421d7fb",
    "pycharm": {
     "name": "#%%\n"
    }
   },
   "outputs": [],
   "source": [
    "tokenizer_path = \"sentencepiece_bpe.model\"\n",
    "\n",
    "data_path = \"2_percent_v1\"\n",
    "subgraph_partition = join(data_path, \"partition.json.bz2\")\n",
    "filecontent_path = join(data_path, \"common_filecontent.json.bz2\")"
   ]
  },
  {
   "cell_type": "markdown",
   "id": "03602245",
   "metadata": {
    "cellId": "kdrwgb8pr4xkmb9fg2l7k",
    "execution_id": "606dbee0-12d0-4672-8fcb-987f08726c3c",
    "pycharm": {
     "name": "#%% md\n"
    }
   },
   "source": [
    "# Data distribution"
   ]
  },
  {
   "cell_type": "code",
   "execution_count": 4,
   "id": "2c0f6997",
   "metadata": {
    "cellId": "u8m5wmsmtsc4jlys43g8w",
    "execution_id": "321c3351-6190-4edb-bf12-3ad445249cb7",
    "pycharm": {
     "name": "#%%\n"
    }
   },
   "outputs": [
    {
     "name": "stdout",
     "output_type": "stream",
     "text": [
      "train\n",
      "Variable misuse    6985\n",
      "Correct            6985\n",
      "Name: label, dtype: int64\n",
      "\n",
      "dev\n",
      "Correct            731\n",
      "Variable misuse    731\n",
      "Name: label, dtype: int64\n",
      "\n",
      "eval\n",
      "Variable misuse    3741\n",
      "Correct            3741\n",
      "Name: label, dtype: int64\n",
      "\n"
     ]
    }
   ],
   "source": [
    "labels = unpersist(filecontent_path)\n",
    "for part in labels['partition'].unique():\n",
    "    print(part)\n",
    "    print(labels.query('partition == @part')['label'].value_counts())\n",
    "    print()"
   ]
  },
  {
   "cell_type": "markdown",
   "id": "6c48e8b9",
   "metadata": {
    "cellId": "26enx0epdvd0ao7dmpz261r",
    "execution_id": "a29f9a80-f129-40c6-9be6-f0d21d0357b6",
    "pycharm": {
     "name": "#%% md\n"
    }
   },
   "source": [
    "# Config"
   ]
  },
  {
   "cell_type": "code",
   "execution_count": 5,
   "id": "e01df189",
   "metadata": {
    "cellId": "ka4x47vr7cpgilgjcoyan",
    "execution_id": "2229885e-66a6-4bed-b63d-75c212e81c55",
    "pycharm": {
     "name": "#%%\n"
    }
   },
   "outputs": [],
   "source": [
    "config = get_config(\n",
    "    subgraph_id_column=\"file_id\",\n",
    "    data_path=data_path,\n",
    "    model_output_dir=data_path,\n",
    "    subgraph_partition=subgraph_partition,\n",
    "    tokenizer_path=tokenizer_path,\n",
    "    objectives=\"subgraph_clf\",\n",
    "    #use_edge_types=True,\n",
    "    gpu=-1,\n",
    "    epochs=2, \n",
    "    \n",
    "    train_frac=0.8,\n",
    "    random_seed=42, \n",
    "    \n",
    "    # model parameters\n",
    "    elem_emb_size=300,\n",
    "    node_emb_size=300,                  # *** dimensionality of node embeddings\n",
    "    h_dim=300,                           # *** should match to node dimensionality\n",
    "    n_layers=5,\n",
    "    dropout=0.1,\n",
    "    activation=\"tanh\"\n",
    ")"
   ]
  },
  {
   "cell_type": "code",
   "execution_count": 6,
   "id": "421b4853",
   "metadata": {
    "cellId": "f99ac2dk6fa0qpceq2iffyb",
    "execution_id": "a959159a-7369-4bb0-b829-2853f59e220a",
    "pycharm": {
     "name": "#%%\n"
    }
   },
   "outputs": [],
   "source": [
    "save_config(config, \"var_misuse_subgraph.yaml\")"
   ]
  },
  {
   "cell_type": "markdown",
   "id": "4632d17b",
   "metadata": {
    "cellId": "zwg2nsy77lke2zhlkf3wk8",
    "execution_id": "5d3def2b-3973-476a-a885-db67b807baf0",
    "pycharm": {
     "name": "#%% md\n"
    }
   },
   "source": [
    "# Create Dataset"
   ]
  },
  {
   "cell_type": "code",
   "execution_count": 7,
   "id": "7d6c34be",
   "metadata": {
    "cellId": "3842zfzh6jp2oh0p47hb3g",
    "execution_id": "4952a18f-6dca-4faf-befe-7d54f038c875",
    "pycharm": {
     "name": "#%%\n"
    }
   },
   "outputs": [
    {
     "name": "stderr",
     "output_type": "stream",
     "text": [
      "WARNING:root:Random state for splitting dataset is fixed\n"
     ]
    }
   ],
   "source": [
    "dataset = SourceGraphDataset(\n",
    "    **{**config[\"DATASET\"], **config[\"TOKENIZER\"]}\n",
    ")"
   ]
  },
  {
   "cell_type": "markdown",
   "id": "6691f60b",
   "metadata": {
    "cellId": "w8o2y1jvsmn3k5qlnmp8d",
    "execution_id": "459c0b0a-dac3-4c5b-8aa2-9010edf2f7da",
    "pycharm": {
     "name": "#%% md\n"
    }
   },
   "source": [
    "# Declare target loading function (labels)"
   ]
  },
  {
   "cell_type": "code",
   "execution_count": 8,
   "id": "61ed7820",
   "metadata": {
    "cellId": "onv33y2vt60ier6qlfspo8",
    "execution_id": "024592b5-731a-4463-ac76-b5a31771b8f9",
    "pycharm": {
     "name": "#%%\n"
    },
    "tags": []
   },
   "outputs": [],
   "source": [
    "def load_labels():\n",
    "    filecontent = unpersist(filecontent_path)\n",
    "    return filecontent[[\"id\", \"label\"]].rename({\"id\": \"src\", \"label\": \"dst\"}, axis=1)"
   ]
  },
  {
   "cell_type": "markdown",
   "id": "c0d1ef4c",
   "metadata": {
    "cellId": "3979yjouckix7kxdp4fz9",
    "execution_id": "22ff1831-62fd-4137-af18-099336d5acb7",
    "pycharm": {
     "name": "#%% md\n"
    }
   },
   "source": [
    "One or several objectives could be used"
   ]
  },
  {
   "cell_type": "markdown",
   "source": [],
   "metadata": {
    "collapsed": false,
    "pycharm": {
     "name": "#%% md\n"
    }
   }
  },
  {
   "cell_type": "code",
   "execution_count": 12,
   "id": "4b773ae7",
   "metadata": {
    "cellId": "vruvsg8femgvuop8tdmqkq",
    "execution_id": "aaa60b33-deb4-49de-90ce-629f07a42ad2",
    "pycharm": {
     "name": "#%%\n"
    }
   },
   "outputs": [],
   "source": [
    "from SourceCodeTools.models.graph.train.objectives.SubgraphClassifierObjective import SubgraphAbstractObjective, \\\n",
    "    SubgraphClassifierObjective, SubgraphEmbeddingObjective\n",
    "\n",
    "class Trainer(SamplingMultitaskTrainer):\n",
    "    def create_objectives(self, dataset, tokenizer_path):\n",
    "        self.objectives = nn.ModuleList()\n",
    "        \n",
    "        self.objectives.append(\n",
    "            self._create_subgraph_objective(\n",
    "                objective_name=\"VariableMisuseClf\",\n",
    "                objective_class=SubgraphClassifierObjective,\n",
    "                dataset=dataset,\n",
    "                tokenizer_path=tokenizer_path,\n",
    "                labels_fn=load_labels,\n",
    "            )\n",
    "        )"
   ]
  },
  {
   "cell_type": "markdown",
   "id": "e59362cf",
   "metadata": {
    "pycharm": {
     "name": "#%% md\n"
    }
   },
   "source": [
    "## Launch Tensorboard"
   ]
  },
  {
   "cell_type": "code",
   "execution_count": 13,
   "id": "b303b8c4",
   "metadata": {
    "cellId": "ehoa1wxbuaq9d1dczkar",
    "execution_id": "59b5e2e8-a49d-45c8-8359-3cdd0db6c991",
    "pycharm": {
     "name": "#%%\n"
    }
   },
   "outputs": [],
   "source": [
    "# %tensorboard --logdir './10_percent_v1'"
   ]
  },
  {
   "cell_type": "markdown",
   "id": "a8748eff",
   "metadata": {
    "pycharm": {
     "name": "#%% md\n"
    }
   },
   "source": [
    "## Start model training and Evaluation"
   ]
  },
  {
   "cell_type": "code",
   "execution_count": 14,
   "id": "5eeccc3c",
   "metadata": {
    "cellId": "ur66zw67xepzwpxd3en2z",
    "execution_id": "39cce914-8617-4c66-aa1f-d3b744f8f0d7",
    "pycharm": {
     "name": "#%%\n"
    }
   },
   "outputs": [
    {
     "name": "stdout",
     "output_type": "stream",
     "text": [
      "Number of nodes 999578\n"
     ]
    },
    {
     "name": "stderr",
     "output_type": "stream",
     "text": [
      "Epoch 0: 100%|██████████| 110/110 [08:55<00:00,  4.87s/it]\n",
      "Epoch 1:   0%|          | 0/110 [00:00<?, ?it/s]"
     ]
    },
    {
     "name": "stdout",
     "output_type": "stream",
     "text": [
      "Epoch: 0, Time: 731 s\n",
      "{'Accuracy/test/VariableMisuseClf_': 0.5,\n",
      " 'Accuracy/train/VariableMisuseClf_': 0.5,\n",
      " 'Accuracy/train_avg/VariableMisuseClf': 0.4999289772727273,\n",
      " 'Accuracy/val/VariableMisuseClf_': 0.5,\n",
      " 'Loss/test/VariableMisuseClf_': 0.6931485321562169,\n",
      " 'Loss/train/VariableMisuseClf_': 0.6931419372558594,\n",
      " 'Loss/train_avg/VariableMisuseClf': 0.73564643480561,\n",
      " 'Loss/val/VariableMisuseClf_': 0.6931487321853638,\n",
      " 'grad_norm/train/_': 0.0012261094310606223}\n"
     ]
    },
    {
     "name": "stderr",
     "output_type": "stream",
     "text": [
      "Epoch 1: 100%|██████████| 110/110 [10:36<00:00,  5.78s/it]\n"
     ]
    },
    {
     "name": "stdout",
     "output_type": "stream",
     "text": [
      "Epoch: 1, Time: 915 s\n",
      "{'Accuracy/test/VariableMisuseClf_': 0.5001324152542372,\n",
      " 'Accuracy/train/VariableMisuseClf_': 0.5,\n",
      " 'Accuracy/train_avg/VariableMisuseClf': 0.49957386363636364,\n",
      " 'Accuracy/val/VariableMisuseClf_': 0.5,\n",
      " 'Loss/test/VariableMisuseClf_': 0.6931503415107727,\n",
      " 'Loss/train/VariableMisuseClf_': 0.6931900978088379,\n",
      " 'Loss/train_avg/VariableMisuseClf': 0.6931503409689123,\n",
      " 'Loss/val/VariableMisuseClf_': 0.6931506445010504,\n",
      " 'grad_norm/train/_': 0.0014318958545823603}\n",
      "Final eval: Loss/val/VariableMisuseClf_final: 0.6931506445010504, Accuracy/val/VariableMisuseClf_final: 0.5, Loss/test/VariableMisuseClf_final: 0.6931503415107727, Accuracy/test/VariableMisuseClf_final: 0.5001324152542372\n"
     ]
    },
    {
     "data": {
      "text/plain": "(<__main__.Trainer at 0x2513871d8b0>,\n {'Loss/val/VariableMisuseClf_final': 0.6931506445010504,\n  'Accuracy/val/VariableMisuseClf_final': 0.5,\n  'Loss/test/VariableMisuseClf_final': 0.6931503415107727,\n  'Accuracy/test/VariableMisuseClf_final': 0.5001324152542372})"
     },
     "execution_count": 14,
     "metadata": {},
     "output_type": "execute_result"
    }
   ],
   "source": [
    "training_procedure(\n",
    "    dataset, \n",
    "    model_name=RGGAN, \n",
    "    model_params=config[\"MODEL\"],\n",
    "    trainer_params=config[\"TRAINING\"],\n",
    "    model_base_path=get_model_base(config[\"TRAINING\"], get_name(RGGAN, str(datetime.now()))),\n",
    "    trainer=Trainer\n",
    ")"
   ]
  },
  {
   "cell_type": "code",
   "execution_count": null,
   "outputs": [],
   "source": [],
   "metadata": {
    "collapsed": false,
    "pycharm": {
     "name": "#%%\n"
    }
   }
  },
  {
   "cell_type": "code",
   "execution_count": null,
   "outputs": [],
   "source": [],
   "metadata": {
    "collapsed": false,
    "pycharm": {
     "name": "#%%\n"
    }
   }
  }
 ],
 "metadata": {
  "kernelspec": {
   "display_name": "Python 3 (ipykernel)",
   "language": "python",
   "name": "python3"
  },
  "language_info": {
   "codemirror_mode": {
    "name": "ipython",
    "version": 3
   },
   "file_extension": ".py",
   "mimetype": "text/x-python",
   "name": "python",
   "nbconvert_exporter": "python",
   "pygments_lexer": "ipython3",
   "version": "3.8.13"
  },
  "notebookId": "0b349f50-6796-4a42-8a61-23bcf9f52520",
  "notebookPath": "method-embedding/examples/Subgraph Classification.ipynb"
 },
 "nbformat": 4,
 "nbformat_minor": 5
}
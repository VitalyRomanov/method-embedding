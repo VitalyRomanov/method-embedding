{
 "cells": [
  {
   "cell_type": "code",
   "execution_count": 1,
   "id": "945c3f46",
   "metadata": {
    "cellId": "0pafpqq089hs06imyofj0d8g",
    "execution_id": "9c93dc88-e371-40d6-96b9-6e397dd2d886"
   },
   "outputs": [],
   "source": [
    "%load_ext autoreload\n",
    "%autoreload 2\n",
    "%load_ext tensorboard"
   ]
  },
  {
   "cell_type": "code",
   "execution_count": 2,
   "id": "ac9ad134",
   "metadata": {
    "cellId": "arfowdprag31hzn6iupup",
    "execution_id": "00cd8bc1-2abf-4d29-9a1a-dbd54d95af4b"
   },
   "outputs": [
    {
     "name": "stderr",
     "output_type": "stream",
     "text": [
      "Using backend: pytorch\n"
     ]
    }
   ],
   "source": [
    "from random import random\n",
    "\n",
    "from SourceCodeTools.models.training_config import get_config, save_config, load_config\n",
    "from SourceCodeTools.code.data.dataset.Dataset import SourceGraphDataset, filter_dst_by_freq\n",
    "from SourceCodeTools.models.graph.train.sampling_multitask2 import training_procedure, SamplingMultitaskTrainer\n",
    "from SourceCodeTools.models.graph.train.objectives.NodeClassificationObjective import NodeClassifierObjective\n",
    "from SourceCodeTools.models.graph.train.objectives.SubgraphClassifierObjective import SubgraphAbstractObjective, \\\n",
    "    SubgraphClassifierObjective, SubgraphEmbeddingObjective\n",
    "from SourceCodeTools.models.graph.train.utils import get_name, get_model_base\n",
    "from SourceCodeTools.models.graph import RGGAN\n",
    "from SourceCodeTools.tabular.common import compact_property\n",
    "from SourceCodeTools.code.data.file_utils import unpersist\n",
    "\n",
    "import dgl\n",
    "import torch\n",
    "import numpy as np\n",
    "from argparse import Namespace\n",
    "from torch import nn\n",
    "from datetime import datetime\n",
    "from os.path import join\n",
    "from functools import partial"
   ]
  },
  {
   "cell_type": "markdown",
   "id": "16a685b9",
   "metadata": {
    "cellId": "p1vbd2almoe8o4xbjsha2i",
    "execution_id": "3d0d18ed-7a13-49ed-ad66-52e70e501e4b",
    "tags": []
   },
   "source": [
    "# Prepare parameters and options\n",
    "\n",
    "Full list of options that can be added can be found in `SourceCodeTools/models/training_options.py`. They are ment to be used as arguments for cli trainer. Trainer script can be found in `SourceCodeTools/scripts/train.py`.\n",
    "\n",
    "For the task of subgraph classification the important options are:\n",
    "- `subgraph_partition` is path to subgraph-based train/val/test sets. Storead as Dataframe with subgraph id and partition mask\n",
    "- `subgraph_id_column` is a column is `common_edges` file that stores subgraph id.\n",
    "- For variable misuse task (same will apply to authorship attribution) subgraphs are created for individual functions (files for SCAA). The label is stored in `common_filecontent`."
   ]
  },
  {
   "cell_type": "code",
   "execution_count": 3,
   "id": "5ee84dbf",
   "metadata": {
    "cellId": "x68rr2b8zhv1h55hg0nz",
    "execution_id": "21cdf4d1-5d0c-4d49-872a-ae3dc421d7fb"
   },
   "outputs": [],
   "source": [
    "tokenizer_path = \"sentencepiece_bpe.model\"\n",
    "\n",
    "data_path = \"10_percent_v1\"\n",
    "subgraph_partition = join(data_path, \"partition.json.bz2\")\n",
    "filecontent_path = join(data_path, \"common_filecontent.json.bz2\")"
   ]
  },
  {
   "cell_type": "markdown",
   "id": "03602245",
   "metadata": {
    "cellId": "kdrwgb8pr4xkmb9fg2l7k",
    "execution_id": "606dbee0-12d0-4672-8fcb-987f08726c3c"
   },
   "source": [
    "# Data distribution"
   ]
  },
  {
   "cell_type": "code",
   "execution_count": 4,
   "id": "2c0f6997",
   "metadata": {
    "cellId": "u8m5wmsmtsc4jlys43g8w",
    "execution_id": "321c3351-6190-4edb-bf12-3ad445249cb7"
   },
   "outputs": [
    {
     "name": "stdout",
     "output_type": "stream",
     "text": [
      "train\n",
      "Correct            35036\n",
      "Variable misuse    35036\n",
      "Name: label, dtype: int64\n",
      "\n",
      "dev\n",
      "Correct            3754\n",
      "Variable misuse    3754\n",
      "Name: label, dtype: int64\n",
      "\n",
      "eval\n",
      "Variable misuse    18787\n",
      "Correct            18787\n",
      "Name: label, dtype: int64\n",
      "\n"
     ]
    }
   ],
   "source": [
    "labels = unpersist(filecontent_path)\n",
    "for part in labels['partition'].unique():\n",
    "    print(part)\n",
    "    print(labels.query('partition == @part')['label'].value_counts())\n",
    "    print()"
   ]
  },
  {
   "cell_type": "markdown",
   "id": "6c48e8b9",
   "metadata": {
    "cellId": "26enx0epdvd0ao7dmpz261r",
    "execution_id": "a29f9a80-f129-40c6-9be6-f0d21d0357b6"
   },
   "source": [
    "# Config"
   ]
  },
  {
   "cell_type": "code",
   "execution_count": 5,
   "id": "e01df189",
   "metadata": {
    "cellId": "ka4x47vr7cpgilgjcoyan",
    "execution_id": "2229885e-66a6-4bed-b63d-75c212e81c55"
   },
   "outputs": [],
   "source": [
    "config = get_config(\n",
    "    subgraph_id_column=\"file_id\",\n",
    "    data_path=data_path,\n",
    "    model_output_dir=data_path,\n",
    "    subgraph_partition=subgraph_partition,\n",
    "    tokenizer_path=tokenizer_path,\n",
    "    objectives=\"subgraph_clf\",\n",
    "    #use_edge_types=True,\n",
    "    gpu=-1,\n",
    "    epochs=10, \n",
    "    \n",
    "    train_frac=0.8,\n",
    "    random_seed=42, \n",
    "    \n",
    "    # model parameters\n",
    "    elem_emb_size=300,\n",
    "    node_emb_size=300,                  # *** dimensionality of node embeddings\n",
    "    h_dim=300,                           # *** should match to node dimensionality\n",
    "    n_layers=5,\n",
    "    dropout=0.1,\n",
    "    activation=\"tanh\"\n",
    ")"
   ]
  },
  {
   "cell_type": "code",
   "execution_count": 6,
   "id": "421b4853",
   "metadata": {
    "cellId": "f99ac2dk6fa0qpceq2iffyb",
    "execution_id": "a959159a-7369-4bb0-b829-2853f59e220a"
   },
   "outputs": [],
   "source": [
    "save_config(config, \"var_misuse_subgraph.yaml\")"
   ]
  },
  {
   "cell_type": "code",
   "execution_count": 7,
   "id": "691fbf78",
   "metadata": {
    "cellId": "fn651wzuf987agk5tjmy4b",
    "execution_id": "f5806062-44f9-4b6a-bb47-dbc3d777a406"
   },
   "outputs": [
    {
     "data": {
      "text/plain": [
       "{'DATASET': {'data_path': '10_percent_v1',\n",
       "  'train_frac': 0.8,\n",
       "  'filter_edges': None,\n",
       "  'min_count_for_objectives': 5,\n",
       "  'self_loops': False,\n",
       "  'use_node_types': False,\n",
       "  'use_edge_types': False,\n",
       "  'no_global_edges': False,\n",
       "  'remove_reverse': False,\n",
       "  'custom_reverse': None,\n",
       "  'restricted_id_pool': None,\n",
       "  'random_seed': 42,\n",
       "  'subgraph_id_column': 'file_id',\n",
       "  'subgraph_partition': '10_percent_v1\\\\partition.json.bz2'},\n",
       " 'TRAINING': {'model_output_dir': '10_percent_v1',\n",
       "  'pretrained': None,\n",
       "  'pretraining_phase': 0,\n",
       "  'sampling_neighbourhood_size': 10,\n",
       "  'neg_sampling_factor': 3,\n",
       "  'use_layer_scheduling': False,\n",
       "  'schedule_layers_every': 10,\n",
       "  'elem_emb_size': 300,\n",
       "  'embedding_table_size': 200000,\n",
       "  'epochs': 10,\n",
       "  'batch_size': 128,\n",
       "  'learning_rate': 0.001,\n",
       "  'objectives': 'subgraph_clf',\n",
       "  'save_each_epoch': False,\n",
       "  'save_checkpoints': True,\n",
       "  'early_stopping': False,\n",
       "  'early_stopping_tolerance': 20,\n",
       "  'force_w2v_ns': False,\n",
       "  'use_ns_groups': False,\n",
       "  'nn_index': 'brute',\n",
       "  'metric': 'inner_prod',\n",
       "  'measure_scores': False,\n",
       "  'dilate_scores': 200,\n",
       "  'gpu': -1,\n",
       "  'external_dataset': None,\n",
       "  'restore_state': False},\n",
       " 'MODEL': {'node_emb_size': 300,\n",
       "  'h_dim': 300,\n",
       "  'n_layers': 5,\n",
       "  'use_self_loop': True,\n",
       "  'use_gcn_checkpoint': False,\n",
       "  'use_att_checkpoint': False,\n",
       "  'use_gru_checkpoint': False,\n",
       "  'num_bases': 10,\n",
       "  'dropout': 0.1,\n",
       "  'activation': 'tanh'},\n",
       " 'TOKENIZER': {'tokenizer_path': 'sentencepiece_bpe.model'}}"
      ]
     },
     "execution_count": 7,
     "metadata": {},
     "output_type": "execute_result"
    }
   ],
   "source": [
    "config"
   ]
  },
  {
   "cell_type": "markdown",
   "id": "4632d17b",
   "metadata": {
    "cellId": "zwg2nsy77lke2zhlkf3wk8",
    "execution_id": "5d3def2b-3973-476a-a885-db67b807baf0"
   },
   "source": [
    "# Create Dataset"
   ]
  },
  {
   "cell_type": "code",
   "execution_count": 8,
   "id": "7d6c34be",
   "metadata": {
    "cellId": "3842zfzh6jp2oh0p47hb3g",
    "execution_id": "4952a18f-6dca-4faf-befe-7d54f038c875"
   },
   "outputs": [
    {
     "name": "stderr",
     "output_type": "stream",
     "text": [
      "WARNING:root:Random state for splitting dataset is fixed\n"
     ]
    }
   ],
   "source": [
    "dataset = SourceGraphDataset(\n",
    "    **{**config[\"DATASET\"], **config[\"TOKENIZER\"]}\n",
    ")"
   ]
  },
  {
   "cell_type": "markdown",
   "id": "6691f60b",
   "metadata": {
    "cellId": "w8o2y1jvsmn3k5qlnmp8d",
    "execution_id": "459c0b0a-dac3-4c5b-8aa2-9010edf2f7da"
   },
   "source": [
    "# Declare target loading function (labels)"
   ]
  },
  {
   "cell_type": "code",
   "execution_count": 9,
   "id": "61ed7820",
   "metadata": {
    "cellId": "onv33y2vt60ier6qlfspo8",
    "execution_id": "024592b5-731a-4463-ac76-b5a31771b8f9",
    "tags": []
   },
   "outputs": [],
   "source": [
    "def load_labels():\n",
    "    filecontent = unpersist(filecontent_path)\n",
    "    return filecontent[[\"id\", \"label\"]].rename({\"id\": \"src\", \"label\": \"dst\"}, axis=1)"
   ]
  },
  {
   "cell_type": "markdown",
   "id": "c0d1ef4c",
   "metadata": {
    "cellId": "3979yjouckix7kxdp4fz9",
    "execution_id": "22ff1831-62fd-4137-af18-099336d5acb7"
   },
   "source": [
    "One or several objectives could be used"
   ]
  },
  {
   "cell_type": "code",
   "execution_count": 10,
   "id": "4b773ae7",
   "metadata": {
    "cellId": "vruvsg8femgvuop8tdmqkq",
    "execution_id": "aaa60b33-deb4-49de-90ce-629f07a42ad2"
   },
   "outputs": [],
   "source": [
    "class Trainer(SamplingMultitaskTrainer):\n",
    "    def create_objectives(self, dataset, tokenizer_path):\n",
    "        self.objectives = nn.ModuleList()\n",
    "        \n",
    "        self.objectives.append(\n",
    "            self._create_subgraph_objective(\n",
    "                objective_name=\"VariableMisuseClf\",\n",
    "                objective_class=SubgraphClassifierObjective,\n",
    "                dataset=dataset,\n",
    "                tokenizer_path=tokenizer_path,\n",
    "                labels_fn=load_labels,\n",
    "            )\n",
    "        )"
   ]
  },
  {
   "cell_type": "markdown",
   "id": "e59362cf",
   "metadata": {},
   "source": [
    "## Launch Tensorboard"
   ]
  },
  {
   "cell_type": "code",
   "execution_count": 11,
   "id": "b303b8c4",
   "metadata": {
    "cellId": "ehoa1wxbuaq9d1dczkar",
    "execution_id": "59b5e2e8-a49d-45c8-8359-3cdd0db6c991"
   },
   "outputs": [],
   "source": [
    "# %tensorboard --logdir './10_percent_v1'"
   ]
  },
  {
   "cell_type": "markdown",
   "id": "a8748eff",
   "metadata": {},
   "source": [
    "## Start model training and Evaluation"
   ]
  },
  {
   "cell_type": "code",
   "execution_count": 12,
   "id": "5eeccc3c",
   "metadata": {
    "cellId": "ur66zw67xepzwpxd3en2z",
    "execution_id": "39cce914-8617-4c66-aa1f-d3b744f8f0d7"
   },
   "outputs": [
    {
     "name": "stdout",
     "output_type": "stream",
     "text": [
      "Number of nodes 4900346\n"
     ]
    },
    {
     "name": "stderr",
     "output_type": "stream",
     "text": [
      "Epoch 0: 100%|█████████████████████████████████████████████████████████████████████| 548/548 [1:25:27<00:00,  9.36s/it]\n",
      "Epoch 1:   0%|                                                                                 | 0/548 [00:00<?, ?it/s]"
     ]
    },
    {
     "name": "stdout",
     "output_type": "stream",
     "text": [
      "Epoch: 0, Time: 5640 s\n",
      "{'Accuracy/test/VariableMisuseClf_': 0.51225476797862,\n",
      " 'Accuracy/train/VariableMisuseClf_': 0.5178571428571429,\n",
      " 'Accuracy/train_avg/VariableMisuseClf': 0.503140478362878,\n",
      " 'Accuracy/val/VariableMisuseClf_': 0.5132415254237288,\n",
      " 'Loss/test/VariableMisuseClf_': 0.6916504999001821,\n",
      " 'Loss/train/VariableMisuseClf_': 0.692428469657898,\n",
      " 'Loss/train_avg/VariableMisuseClf': 0.693509731523312,\n",
      " 'Loss/val/VariableMisuseClf_': 0.6915178753561892,\n",
      " 'grad_norm/train/_': 0.06380231225121137}\n"
     ]
    },
    {
     "name": "stderr",
     "output_type": "stream",
     "text": [
      "Epoch 1: 100%|███████████████████████████████████████████████████████████████████████| 548/548 [26:38<00:00,  2.92s/it]\n",
      "Epoch 2:   0%|                                                                                 | 0/548 [00:00<?, ?it/s]"
     ]
    },
    {
     "name": "stdout",
     "output_type": "stream",
     "text": [
      "Epoch: 1, Time: 2160 s\n",
      "{'Accuracy/test/VariableMisuseClf_': 0.6581663022351797,\n",
      " 'Accuracy/train/VariableMisuseClf_': 0.5357142857142857,\n",
      " 'Accuracy/train_avg/VariableMisuseClf': 0.603481002346194,\n",
      " 'Accuracy/val/VariableMisuseClf_': 0.6623726291364004,\n",
      " 'Loss/test/VariableMisuseClf_': 0.5973775285441859,\n",
      " 'Loss/train/VariableMisuseClf_': 0.696069598197937,\n",
      " 'Loss/train_avg/VariableMisuseClf': 0.647983547109757,\n",
      " 'Loss/val/VariableMisuseClf_': 0.5939150078821991,\n",
      " 'grad_norm/train/_': 0.8174939509908614}\n"
     ]
    },
    {
     "name": "stderr",
     "output_type": "stream",
     "text": [
      "Epoch 2: 100%|███████████████████████████████████████████████████████████████████████| 548/548 [26:37<00:00,  2.91s/it]\n",
      "Epoch 3:   0%|                                                                                 | 0/548 [00:00<?, ?it/s]"
     ]
    },
    {
     "name": "stdout",
     "output_type": "stream",
     "text": [
      "Epoch: 2, Time: 2142 s\n",
      "{'Accuracy/test/VariableMisuseClf_': 0.6951781158892129,\n",
      " 'Accuracy/train/VariableMisuseClf_': 0.6607142857142857,\n",
      " 'Accuracy/train_avg/VariableMisuseClf': 0.6775857012513035,\n",
      " 'Accuracy/val/VariableMisuseClf_': 0.695293583535109,\n",
      " 'Loss/test/VariableMisuseClf_': 0.5636481426808299,\n",
      " 'Loss/train/VariableMisuseClf_': 0.6594767570495605,\n",
      " 'Loss/train_avg/VariableMisuseClf': 0.5864473013003377,\n",
      " 'Loss/val/VariableMisuseClf_': 0.5613888259661399,\n",
      " 'grad_norm/train/_': 0.49737581169077366}\n"
     ]
    },
    {
     "name": "stderr",
     "output_type": "stream",
     "text": [
      "Epoch 3: 100%|███████████████████████████████████████████████████████████████████████| 548/548 [23:59<00:00,  2.63s/it]\n",
      "Epoch 4:   0%|                                                                                 | 0/548 [00:00<?, ?it/s]"
     ]
    },
    {
     "name": "stdout",
     "output_type": "stream",
     "text": [
      "Epoch: 3, Time: 1958 s\n",
      "{'Accuracy/test/VariableMisuseClf_': 0.7033801020408162,\n",
      " 'Accuracy/train/VariableMisuseClf_': 0.625,\n",
      " 'Accuracy/train_avg/VariableMisuseClf': 0.6997319799270073,\n",
      " 'Accuracy/val/VariableMisuseClf_': 0.7015738498789347,\n",
      " 'Loss/test/VariableMisuseClf_': 0.5601432676217994,\n",
      " 'Loss/train/VariableMisuseClf_': 0.6439893841743469,\n",
      " 'Loss/train_avg/VariableMisuseClf': 0.5632304795575838,\n",
      " 'Loss/val/VariableMisuseClf_': 0.5572931832176143,\n",
      " 'grad_norm/train/_': 0.49783456197226394}\n"
     ]
    },
    {
     "name": "stderr",
     "output_type": "stream",
     "text": [
      "Epoch 4: 100%|███████████████████████████████████████████████████████████████████████| 548/548 [24:23<00:00,  2.67s/it]\n",
      "Epoch 5:   0%|                                                                                 | 0/548 [00:00<?, ?it/s]"
     ]
    },
    {
     "name": "stdout",
     "output_type": "stream",
     "text": [
      "Epoch: 4, Time: 1975 s\n",
      "{'Accuracy/test/VariableMisuseClf_': 0.6727412840136054,\n",
      " 'Accuracy/train/VariableMisuseClf_': 0.5892857142857143,\n",
      " 'Accuracy/train_avg/VariableMisuseClf': 0.7095464839676747,\n",
      " 'Accuracy/val/VariableMisuseClf_': 0.670052713882163,\n",
      " 'Loss/test/VariableMisuseClf_': 0.5772319580016493,\n",
      " 'Loss/train/VariableMisuseClf_': 0.5957897305488586,\n",
      " 'Loss/train_avg/VariableMisuseClf': 0.5485062088518247,\n",
      " 'Loss/val/VariableMisuseClf_': 0.5746644513081696,\n",
      " 'grad_norm/train/_': 1.0582043087749131}\n"
     ]
    },
    {
     "name": "stderr",
     "output_type": "stream",
     "text": [
      "Epoch 5: 100%|███████████████████████████████████████████████████████████████████████| 548/548 [28:50<00:00,  3.16s/it]\n",
      "Epoch 6:   0%|                                                                                 | 0/548 [00:00<?, ?it/s]"
     ]
    },
    {
     "name": "stdout",
     "output_type": "stream",
     "text": [
      "Epoch: 5, Time: 2242 s\n",
      "{'Accuracy/test/VariableMisuseClf_': 0.7071314686588921,\n",
      " 'Accuracy/train/VariableMisuseClf_': 0.6785714285714286,\n",
      " 'Accuracy/train_avg/VariableMisuseClf': 0.7161105318039624,\n",
      " 'Accuracy/val/VariableMisuseClf_': 0.7085288034705408,\n",
      " 'Loss/test/VariableMisuseClf_': 0.5534543035184445,\n",
      " 'Loss/train/VariableMisuseClf_': 0.5966048836708069,\n",
      " 'Loss/train_avg/VariableMisuseClf': 0.5356899418317489,\n",
      " 'Loss/val/VariableMisuseClf_': 0.5488840286004342,\n",
      " 'grad_norm/train/_': 0.5711199575561061}\n"
     ]
    },
    {
     "name": "stderr",
     "output_type": "stream",
     "text": [
      "Epoch 6: 100%|███████████████████████████████████████████████████████████████████████| 548/548 [24:19<00:00,  2.66s/it]\n",
      "Epoch 7:   0%|                                                                                 | 0/548 [00:00<?, ?it/s]"
     ]
    },
    {
     "name": "stdout",
     "output_type": "stream",
     "text": [
      "Epoch: 6, Time: 1949 s\n",
      "{'Accuracy/test/VariableMisuseClf_': 0.6962099125364432,\n",
      " 'Accuracy/train/VariableMisuseClf_': 0.6607142857142857,\n",
      " 'Accuracy/train_avg/VariableMisuseClf': 0.7202550671272159,\n",
      " 'Accuracy/val/VariableMisuseClf_': 0.6988624899112187,\n",
      " 'Loss/test/VariableMisuseClf_': 0.5701553530636287,\n",
      " 'Loss/train/VariableMisuseClf_': 0.57303386926651,\n",
      " 'Loss/train_avg/VariableMisuseClf': 0.5278356503287371,\n",
      " 'Loss/val/VariableMisuseClf_': 0.5648910736633559,\n",
      " 'grad_norm/train/_': 0.4579242664339054}\n"
     ]
    },
    {
     "name": "stderr",
     "output_type": "stream",
     "text": [
      "Epoch 7: 100%|███████████████████████████████████████████████████████████████████████| 548/548 [25:54<00:00,  2.84s/it]\n",
      "Epoch 8:   0%|                                                                                 | 0/548 [00:00<?, ?it/s]"
     ]
    },
    {
     "name": "stdout",
     "output_type": "stream",
     "text": [
      "Epoch: 7, Time: 2088 s\n",
      "{'Accuracy/test/VariableMisuseClf_': 0.7057853498542274,\n",
      " 'Accuracy/train/VariableMisuseClf_': 0.6607142857142857,\n",
      " 'Accuracy/train_avg/VariableMisuseClf': 0.7312039722367049,\n",
      " 'Accuracy/val/VariableMisuseClf_': 0.7077973668280872,\n",
      " 'Loss/test/VariableMisuseClf_': 0.5625578528967033,\n",
      " 'Loss/train/VariableMisuseClf_': 0.5538771748542786,\n",
      " 'Loss/train_avg/VariableMisuseClf': 0.5153241769349488,\n",
      " 'Loss/val/VariableMisuseClf_': 0.5572915405540143,\n",
      " 'grad_norm/train/_': 1.466855965572716}\n"
     ]
    },
    {
     "name": "stderr",
     "output_type": "stream",
     "text": [
      "Epoch 8: 100%|███████████████████████████████████████████████████████████████████████| 548/548 [28:06<00:00,  3.08s/it]\n",
      "Epoch 9:   0%|                                                                                 | 0/548 [00:00<?, ?it/s]"
     ]
    },
    {
     "name": "stdout",
     "output_type": "stream",
     "text": [
      "Epoch: 8, Time: 2214 s\n",
      "{'Accuracy/test/VariableMisuseClf_': 0.6965599186103013,\n",
      " 'Accuracy/train/VariableMisuseClf_': 0.7142857142857143,\n",
      " 'Accuracy/train_avg/VariableMisuseClf': 0.7318149602450469,\n",
      " 'Accuracy/val/VariableMisuseClf_': 0.6966177360774819,\n",
      " 'Loss/test/VariableMisuseClf_': 0.575212149190254,\n",
      " 'Loss/train/VariableMisuseClf_': 0.5450106263160706,\n",
      " 'Loss/train_avg/VariableMisuseClf': 0.5116659965175782,\n",
      " 'Loss/val/VariableMisuseClf_': 0.5691045189307908,\n",
      " 'grad_norm/train/_': 1.4956158838192375}\n"
     ]
    },
    {
     "name": "stderr",
     "output_type": "stream",
     "text": [
      "Epoch 9: 100%|███████████████████████████████████████████████████████████████████████| 548/548 [22:52<00:00,  2.50s/it]\n"
     ]
    },
    {
     "name": "stdout",
     "output_type": "stream",
     "text": [
      "Epoch: 9, Time: 1926 s\n",
      "{'Accuracy/test/VariableMisuseClf_': 0.7045941144314869,\n",
      " 'Accuracy/train/VariableMisuseClf_': 0.7857142857142857,\n",
      " 'Accuracy/train_avg/VariableMisuseClf': 0.7314463308133472,\n",
      " 'Accuracy/val/VariableMisuseClf_': 0.705880498385795,\n",
      " 'Loss/test/VariableMisuseClf_': 0.562884732878127,\n",
      " 'Loss/train/VariableMisuseClf_': 0.5276581048965454,\n",
      " 'Loss/train_avg/VariableMisuseClf': 0.5111168583270407,\n",
      " 'Loss/val/VariableMisuseClf_': 0.5568723845279823,\n",
      " 'grad_norm/train/_': 1.7403243905664143}\n",
      "Final eval: Loss/val/VariableMisuseClf_final: 0.5568723845279823, Accuracy/val/VariableMisuseClf_final: 0.705880498385795, Loss/test/VariableMisuseClf_final: 0.562884732878127, Accuracy/test/VariableMisuseClf_final: 0.7045941144314869\n"
     ]
    },
    {
     "data": {
      "text/plain": [
       "(<__main__.Trainer at 0x1e2687baa30>,\n",
       " {'Loss/val/VariableMisuseClf_final': 0.5568723845279823,\n",
       "  'Accuracy/val/VariableMisuseClf_final': 0.705880498385795,\n",
       "  'Loss/test/VariableMisuseClf_final': 0.562884732878127,\n",
       "  'Accuracy/test/VariableMisuseClf_final': 0.7045941144314869})"
      ]
     },
     "execution_count": 12,
     "metadata": {},
     "output_type": "execute_result"
    }
   ],
   "source": [
    "training_procedure(\n",
    "    dataset, \n",
    "    model_name=RGGAN, \n",
    "    model_params=config[\"MODEL\"],\n",
    "    trainer_params=config[\"TRAINING\"],\n",
    "    model_base_path=get_model_base(config[\"TRAINING\"], get_name(RGGAN, str(datetime.now()))),\n",
    "    trainer=Trainer\n",
    ")"
   ]
  }
 ],
 "metadata": {
  "kernelspec": {
   "display_name": "SourceCodeTools",
   "language": "python",
   "name": "sourcecodetools"
  },
  "language_info": {
   "codemirror_mode": {
    "name": "ipython",
    "version": 3
   },
   "file_extension": ".py",
   "mimetype": "text/x-python",
   "name": "python",
   "nbconvert_exporter": "python",
   "pygments_lexer": "ipython3",
   "version": "3.8.12"
  },
  "notebookId": "0b349f50-6796-4a42-8a61-23bcf9f52520",
  "notebookPath": "method-embedding/examples/Subgraph Classification.ipynb"
 },
 "nbformat": 4,
 "nbformat_minor": 5
}

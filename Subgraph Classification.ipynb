{
 "cells": [
  {
   "cell_type": "code",
   "execution_count": 1,
   "id": "244ac956",
   "metadata": {},
   "outputs": [],
   "source": [
    "%load_ext autoreload\n",
    "%autoreload 2\n",
    "%load_ext tensorboard"
   ]
  },
  {
   "cell_type": "code",
   "execution_count": 2,
   "id": "bdefc65e",
   "metadata": {},
   "outputs": [],
   "source": [
    "from random import random\n",
    "\n",
    "from SourceCodeTools.models.training_config import get_config, save_config, load_config\n",
    "from SourceCodeTools.code.data.dataset.Dataset import SourceGraphDataset, filter_dst_by_freq\n",
    "from SourceCodeTools.models.graph.train.sampling_multitask2 import training_procedure, SamplingMultitaskTrainer\n",
    "from SourceCodeTools.models.graph.train.objectives.NodeClassificationObjective import NodeClassifierObjective\n",
    "from SourceCodeTools.models.graph.train.objectives.SubgraphClassifierObjective import SubgraphAbstractObjective, \\\n",
    "    SubgraphClassifierObjective, SubgraphEmbeddingObjective\n",
    "from SourceCodeTools.models.graph.train.utils import get_name, get_model_base\n",
    "from SourceCodeTools.models.graph import RGGAN\n",
    "from SourceCodeTools.tabular.common import compact_property\n",
    "from SourceCodeTools.code.data.file_utils import unpersist\n",
    "from SourceCodeTools.models.graph.train.objectives.SCAAClassifierObjetive import SCAAClassifierObjective\n",
    "import dgl\n",
    "import torch\n",
    "import numpy as np\n",
    "from argparse import Namespace\n",
    "from torch import nn\n",
    "from datetime import datetime\n",
    "from os.path import join\n",
    "from functools import partial"
   ]
  },
  {
   "cell_type": "markdown",
   "id": "4becf482",
   "metadata": {
    "tags": []
   },
   "source": [
    "# Prepare parameters and options\n",
    "\n",
    "Full list of options that can be added can be found in `SourceCodeTools/models/training_options.py`. They are ment to be used as arguments for cli trainer. Trainer script can be found in `SourceCodeTools/scripts/train.py`.\n",
    "\n",
    "For the task of subgraph classification the important options are:\n",
    "- `subgraph_partition` is path to subgraph-based train/val/test sets. Storead as Dataframe with subgraph id and partition mask\n",
    "- `subgraph_id_column` is a column is `common_edges` file that stores subgraph id.\n",
    "- For variable misuse task (same will apply to authorship attribution) subgraphs are created for individual functions (files for SCAA). The label is stored in `common_filecontent`."
   ]
  },
  {
   "cell_type": "code",
   "execution_count": null,
   "id": "4e5dc4fa",
   "metadata": {},
   "outputs": [],
   "source": []
  },
  {
   "cell_type": "code",
   "execution_count": 3,
   "id": "5637f70e-b8fd-4a9f-9956-d60a61bd2870",
   "metadata": {},
   "outputs": [],
   "source": [
    "tokenizer_path = \"examples/sentencepiece_bpe.model\"\n",
    "\n",
    "data_path = \"examples/one_to_one/with_ast\"\n",
    "subgraph_partition = join(data_path, \"subgraph_partition.json.bz2\")\n",
    "filecontent_path = join(data_path, \"common_filecontent.json.bz2\")"
   ]
  },
  {
   "cell_type": "code",
   "execution_count": 4,
   "id": "404565f5-09a3-4535-ba51-8533491f7c72",
   "metadata": {},
   "outputs": [
    {
     "data": {
      "text/html": [
       "<div>\n",
       "<style scoped>\n",
       "    .dataframe tbody tr th:only-of-type {\n",
       "        vertical-align: middle;\n",
       "    }\n",
       "\n",
       "    .dataframe tbody tr th {\n",
       "        vertical-align: top;\n",
       "    }\n",
       "\n",
       "    .dataframe thead th {\n",
       "        text-align: right;\n",
       "    }\n",
       "</style>\n",
       "<table border=\"1\" class=\"dataframe\">\n",
       "  <thead>\n",
       "    <tr style=\"text-align: right;\">\n",
       "      <th></th>\n",
       "      <th>Unnamed: 0.1</th>\n",
       "      <th>Unnamed: 0</th>\n",
       "      <th>task</th>\n",
       "      <th>user</th>\n",
       "      <th>year</th>\n",
       "      <th>package</th>\n",
       "      <th>filecontent</th>\n",
       "      <th>id</th>\n",
       "    </tr>\n",
       "  </thead>\n",
       "  <tbody>\n",
       "    <tr>\n",
       "      <th>0</th>\n",
       "      <td>2498</td>\n",
       "      <td>2498</td>\n",
       "      <td>3</td>\n",
       "      <td>alex1770</td>\n",
       "      <td>2020</td>\n",
       "      <td>False</td>\n",
       "      <td>\\ndef getstring(): return input().strip()\\ndef...</td>\n",
       "      <td>2498</td>\n",
       "    </tr>\n",
       "    <tr>\n",
       "      <th>1</th>\n",
       "      <td>4644</td>\n",
       "      <td>4644</td>\n",
       "      <td>4</td>\n",
       "      <td>sashadotcom</td>\n",
       "      <td>2020</td>\n",
       "      <td>False</td>\n",
       "      <td>import sys\\nfrom itertools import combinations...</td>\n",
       "      <td>4644</td>\n",
       "    </tr>\n",
       "    <tr>\n",
       "      <th>2</th>\n",
       "      <td>4864</td>\n",
       "      <td>4864</td>\n",
       "      <td>4</td>\n",
       "      <td>superkjelle</td>\n",
       "      <td>2020</td>\n",
       "      <td>False</td>\n",
       "      <td>[t,b] = input().split(' ')\\nt = int(t)\\nb = in...</td>\n",
       "      <td>4864</td>\n",
       "    </tr>\n",
       "    <tr>\n",
       "      <th>3</th>\n",
       "      <td>270</td>\n",
       "      <td>270</td>\n",
       "      <td>0</td>\n",
       "      <td>BananaNosh</td>\n",
       "      <td>2020</td>\n",
       "      <td>False</td>\n",
       "      <td>PARENTS = {0: \"C\", 1: \"J\"}\\n\\n\\ndef print_outp...</td>\n",
       "      <td>270</td>\n",
       "    </tr>\n",
       "    <tr>\n",
       "      <th>4</th>\n",
       "      <td>5400</td>\n",
       "      <td>205</td>\n",
       "      <td>7</td>\n",
       "      <td>TinyTitans</td>\n",
       "      <td>2020</td>\n",
       "      <td>False</td>\n",
       "      <td>def TestCase():\\n    N = int(input())\\n    ans...</td>\n",
       "      <td>5400</td>\n",
       "    </tr>\n",
       "    <tr>\n",
       "      <th>...</th>\n",
       "      <td>...</td>\n",
       "      <td>...</td>\n",
       "      <td>...</td>\n",
       "      <td>...</td>\n",
       "      <td>...</td>\n",
       "      <td>...</td>\n",
       "      <td>...</td>\n",
       "      <td>...</td>\n",
       "    </tr>\n",
       "    <tr>\n",
       "      <th>5533</th>\n",
       "      <td>289</td>\n",
       "      <td>289</td>\n",
       "      <td>4</td>\n",
       "      <td>Basti_SUI</td>\n",
       "      <td>2020</td>\n",
       "      <td>False</td>\n",
       "      <td>import sys\\n\\n\\ndef inverse(arr):\\n    return ...</td>\n",
       "      <td>289</td>\n",
       "    </tr>\n",
       "    <tr>\n",
       "      <th>5534</th>\n",
       "      <td>2556</td>\n",
       "      <td>2556</td>\n",
       "      <td>1</td>\n",
       "      <td>anari</td>\n",
       "      <td>2020</td>\n",
       "      <td>False</td>\n",
       "      <td>T = int(input())\\nfor t in range(T):\\n    N = ...</td>\n",
       "      <td>2556</td>\n",
       "    </tr>\n",
       "    <tr>\n",
       "      <th>5535</th>\n",
       "      <td>315</td>\n",
       "      <td>315</td>\n",
       "      <td>0</td>\n",
       "      <td>Bhavyalekha</td>\n",
       "      <td>2020</td>\n",
       "      <td>False</td>\n",
       "      <td>def f(raw_arr):\\n    arr = []\\n    for i in ra...</td>\n",
       "      <td>315</td>\n",
       "    </tr>\n",
       "    <tr>\n",
       "      <th>5536</th>\n",
       "      <td>1531</td>\n",
       "      <td>1531</td>\n",
       "      <td>1</td>\n",
       "      <td>Poornachander</td>\n",
       "      <td>2020</td>\n",
       "      <td>False</td>\n",
       "      <td>t1=int(input())\\nli=[]\\nfor j in range(len(li)...</td>\n",
       "      <td>1531</td>\n",
       "    </tr>\n",
       "    <tr>\n",
       "      <th>5537</th>\n",
       "      <td>823</td>\n",
       "      <td>823</td>\n",
       "      <td>3</td>\n",
       "      <td>Hashcoder</td>\n",
       "      <td>2020</td>\n",
       "      <td>False</td>\n",
       "      <td>for tc in range(int(input())):\\n    size, trac...</td>\n",
       "      <td>823</td>\n",
       "    </tr>\n",
       "  </tbody>\n",
       "</table>\n",
       "<p>5538 rows × 8 columns</p>\n",
       "</div>"
      ],
      "text/plain": [
       "      Unnamed: 0.1  Unnamed: 0  task           user  year  package  \\\n",
       "0             2498        2498     3       alex1770  2020    False   \n",
       "1             4644        4644     4    sashadotcom  2020    False   \n",
       "2             4864        4864     4    superkjelle  2020    False   \n",
       "3              270         270     0     BananaNosh  2020    False   \n",
       "4             5400         205     7     TinyTitans  2020    False   \n",
       "...            ...         ...   ...            ...   ...      ...   \n",
       "5533           289         289     4      Basti_SUI  2020    False   \n",
       "5534          2556        2556     1          anari  2020    False   \n",
       "5535           315         315     0    Bhavyalekha  2020    False   \n",
       "5536          1531        1531     1  Poornachander  2020    False   \n",
       "5537           823         823     3      Hashcoder  2020    False   \n",
       "\n",
       "                                            filecontent    id  \n",
       "0     \\ndef getstring(): return input().strip()\\ndef...  2498  \n",
       "1     import sys\\nfrom itertools import combinations...  4644  \n",
       "2     [t,b] = input().split(' ')\\nt = int(t)\\nb = in...  4864  \n",
       "3     PARENTS = {0: \"C\", 1: \"J\"}\\n\\n\\ndef print_outp...   270  \n",
       "4     def TestCase():\\n    N = int(input())\\n    ans...  5400  \n",
       "...                                                 ...   ...  \n",
       "5533  import sys\\n\\n\\ndef inverse(arr):\\n    return ...   289  \n",
       "5534  T = int(input())\\nfor t in range(T):\\n    N = ...  2556  \n",
       "5535  def f(raw_arr):\\n    arr = []\\n    for i in ra...   315  \n",
       "5536  t1=int(input())\\nli=[]\\nfor j in range(len(li)...  1531  \n",
       "5537  for tc in range(int(input())):\\n    size, trac...   823  \n",
       "\n",
       "[5538 rows x 8 columns]"
      ]
     },
     "execution_count": 4,
     "metadata": {},
     "output_type": "execute_result"
    }
   ],
   "source": [
    "unpersist(filecontent_path)"
   ]
  },
  {
   "cell_type": "code",
   "execution_count": 5,
   "id": "d09b740a-eaaf-4fac-a73f-0bd9bb671f70",
   "metadata": {},
   "outputs": [
    {
     "data": {
      "text/html": [
       "<div>\n",
       "<style scoped>\n",
       "    .dataframe tbody tr th:only-of-type {\n",
       "        vertical-align: middle;\n",
       "    }\n",
       "\n",
       "    .dataframe tbody tr th {\n",
       "        vertical-align: top;\n",
       "    }\n",
       "\n",
       "    .dataframe thead th {\n",
       "        text-align: right;\n",
       "    }\n",
       "</style>\n",
       "<table border=\"1\" class=\"dataframe\">\n",
       "  <thead>\n",
       "    <tr style=\"text-align: right;\">\n",
       "      <th></th>\n",
       "      <th>id</th>\n",
       "      <th>type</th>\n",
       "      <th>source_node_id</th>\n",
       "      <th>target_node_id</th>\n",
       "      <th>file_id</th>\n",
       "      <th>mentioned_in</th>\n",
       "    </tr>\n",
       "  </thead>\n",
       "  <tbody>\n",
       "    <tr>\n",
       "      <th>0</th>\n",
       "      <td>0</td>\n",
       "      <td>subword</td>\n",
       "      <td>213905</td>\n",
       "      <td>516482</td>\n",
       "      <td>2498</td>\n",
       "      <td>NaN</td>\n",
       "    </tr>\n",
       "    <tr>\n",
       "      <th>1</th>\n",
       "      <td>1</td>\n",
       "      <td>func</td>\n",
       "      <td>516482</td>\n",
       "      <td>257761</td>\n",
       "      <td>2498</td>\n",
       "      <td>46283.0</td>\n",
       "    </tr>\n",
       "    <tr>\n",
       "      <th>2</th>\n",
       "      <td>2</td>\n",
       "      <td>func_rev</td>\n",
       "      <td>257761</td>\n",
       "      <td>516482</td>\n",
       "      <td>2498</td>\n",
       "      <td>46283.0</td>\n",
       "    </tr>\n",
       "    <tr>\n",
       "      <th>3</th>\n",
       "      <td>3</td>\n",
       "      <td>value</td>\n",
       "      <td>257761</td>\n",
       "      <td>107985</td>\n",
       "      <td>2498</td>\n",
       "      <td>46283.0</td>\n",
       "    </tr>\n",
       "    <tr>\n",
       "      <th>4</th>\n",
       "      <td>4</td>\n",
       "      <td>value_rev</td>\n",
       "      <td>107985</td>\n",
       "      <td>257761</td>\n",
       "      <td>2498</td>\n",
       "      <td>46283.0</td>\n",
       "    </tr>\n",
       "    <tr>\n",
       "      <th>...</th>\n",
       "      <td>...</td>\n",
       "      <td>...</td>\n",
       "      <td>...</td>\n",
       "      <td>...</td>\n",
       "      <td>...</td>\n",
       "      <td>...</td>\n",
       "    </tr>\n",
       "    <tr>\n",
       "      <th>285</th>\n",
       "      <td>2961294</td>\n",
       "      <td>prev</td>\n",
       "      <td>208030</td>\n",
       "      <td>698551</td>\n",
       "      <td>5397</td>\n",
       "      <td>693983.0</td>\n",
       "    </tr>\n",
       "    <tr>\n",
       "      <th>286</th>\n",
       "      <td>2961295</td>\n",
       "      <td>defined_in_module</td>\n",
       "      <td>208030</td>\n",
       "      <td>693983</td>\n",
       "      <td>5397</td>\n",
       "      <td>693983.0</td>\n",
       "    </tr>\n",
       "    <tr>\n",
       "      <th>287</th>\n",
       "      <td>2961296</td>\n",
       "      <td>defined_in_module_rev</td>\n",
       "      <td>693983</td>\n",
       "      <td>208030</td>\n",
       "      <td>5397</td>\n",
       "      <td>693983.0</td>\n",
       "    </tr>\n",
       "    <tr>\n",
       "      <th>288</th>\n",
       "      <td>2961297</td>\n",
       "      <td>subword</td>\n",
       "      <td>708231</td>\n",
       "      <td>433611</td>\n",
       "      <td>5397</td>\n",
       "      <td>NaN</td>\n",
       "    </tr>\n",
       "    <tr>\n",
       "      <th>289</th>\n",
       "      <td>2961298</td>\n",
       "      <td>subword</td>\n",
       "      <td>362424</td>\n",
       "      <td>433611</td>\n",
       "      <td>5397</td>\n",
       "      <td>NaN</td>\n",
       "    </tr>\n",
       "  </tbody>\n",
       "</table>\n",
       "<p>290 rows × 6 columns</p>\n",
       "</div>"
      ],
      "text/plain": [
       "          id                   type  source_node_id  target_node_id  file_id  \\\n",
       "0          0                subword          213905          516482     2498   \n",
       "1          1                   func          516482          257761     2498   \n",
       "2          2               func_rev          257761          516482     2498   \n",
       "3          3                  value          257761          107985     2498   \n",
       "4          4              value_rev          107985          257761     2498   \n",
       "..       ...                    ...             ...             ...      ...   \n",
       "285  2961294                   prev          208030          698551     5397   \n",
       "286  2961295      defined_in_module          208030          693983     5397   \n",
       "287  2961296  defined_in_module_rev          693983          208030     5397   \n",
       "288  2961297                subword          708231          433611     5397   \n",
       "289  2961298                subword          362424          433611     5397   \n",
       "\n",
       "     mentioned_in  \n",
       "0             NaN  \n",
       "1         46283.0  \n",
       "2         46283.0  \n",
       "3         46283.0  \n",
       "4         46283.0  \n",
       "..            ...  \n",
       "285      693983.0  \n",
       "286      693983.0  \n",
       "287      693983.0  \n",
       "288           NaN  \n",
       "289           NaN  \n",
       "\n",
       "[290 rows x 6 columns]"
      ]
     },
     "execution_count": 5,
     "metadata": {},
     "output_type": "execute_result"
    }
   ],
   "source": [
    "unpersist(join(data_path, \"common_edges.json.bz2\"), nrows=10)"
   ]
  },
  {
   "cell_type": "code",
   "execution_count": 6,
   "id": "d38f83db",
   "metadata": {},
   "outputs": [],
   "source": [
    "config = get_config(\n",
    "    subgraph_id_column=\"file_id\",\n",
    "    data_path=data_path,\n",
    "    model_output_dir=data_path,\n",
    "    subgraph_partition=subgraph_partition,\n",
    "    tokenizer_path=tokenizer_path,\n",
    "    objectives=\"subgraph_clf\",\n",
    "    epochs=1000,\n",
    "    elem_emb_size=6, # the smallest size of the graph in dataset\n",
    ")"
   ]
  },
  {
   "cell_type": "code",
   "execution_count": 7,
   "id": "bf61e1a2-2a2b-4688-b6b6-4ad3c22b22a5",
   "metadata": {},
   "outputs": [],
   "source": [
    "save_config(config, \"var_misuse_tiny.yaml\")"
   ]
  },
  {
   "cell_type": "code",
   "execution_count": 8,
   "id": "07dc7b86",
   "metadata": {},
   "outputs": [
    {
     "data": {
      "text/plain": [
       "{'DATASET': {'data_path': 'examples/one_to_one/with_ast',\n",
       "  'train_frac': 0.9,\n",
       "  'filter_edges': None,\n",
       "  'min_count_for_objectives': 5,\n",
       "  'self_loops': False,\n",
       "  'use_node_types': False,\n",
       "  'use_edge_types': False,\n",
       "  'no_global_edges': False,\n",
       "  'remove_reverse': False,\n",
       "  'custom_reverse': None,\n",
       "  'restricted_id_pool': None,\n",
       "  'random_seed': None,\n",
       "  'subgraph_id_column': 'file_id',\n",
       "  'subgraph_partition': 'examples/one_to_one/with_ast/subgraph_partition.json.bz2'},\n",
       " 'TRAINING': {'model_output_dir': 'examples/one_to_one/with_ast',\n",
       "  'pretrained': None,\n",
       "  'pretraining_phase': 0,\n",
       "  'sampling_neighbourhood_size': 10,\n",
       "  'neg_sampling_factor': 3,\n",
       "  'use_layer_scheduling': False,\n",
       "  'schedule_layers_every': 10,\n",
       "  'elem_emb_size': 6,\n",
       "  'embedding_table_size': 200000,\n",
       "  'epochs': 1000,\n",
       "  'batch_size': 128,\n",
       "  'learning_rate': 0.001,\n",
       "  'objectives': 'subgraph_clf',\n",
       "  'save_each_epoch': False,\n",
       "  'save_checkpoints': True,\n",
       "  'early_stopping': False,\n",
       "  'early_stopping_tolerance': 20,\n",
       "  'force_w2v_ns': False,\n",
       "  'use_ns_groups': False,\n",
       "  'nn_index': 'brute',\n",
       "  'metric': 'inner_prod',\n",
       "  'measure_scores': False,\n",
       "  'dilate_scores': 200,\n",
       "  'gpu': -1,\n",
       "  'external_dataset': None,\n",
       "  'restore_state': False},\n",
       " 'MODEL': {'node_emb_size': 100,\n",
       "  'h_dim': 100,\n",
       "  'n_layers': 5,\n",
       "  'use_self_loop': True,\n",
       "  'use_gcn_checkpoint': False,\n",
       "  'use_att_checkpoint': False,\n",
       "  'use_gru_checkpoint': False,\n",
       "  'num_bases': 10,\n",
       "  'dropout': 0.0,\n",
       "  'activation': 'tanh'},\n",
       " 'TOKENIZER': {'tokenizer_path': 'examples/sentencepiece_bpe.model'}}"
      ]
     },
     "execution_count": 8,
     "metadata": {},
     "output_type": "execute_result"
    }
   ],
   "source": [
    "config"
   ]
  },
  {
   "cell_type": "markdown",
   "id": "069a2528",
   "metadata": {},
   "source": [
    "# Create Dataset"
   ]
  },
  {
   "cell_type": "code",
   "execution_count": 9,
   "id": "d0ce29fc",
   "metadata": {},
   "outputs": [
    {
     "name": "stderr",
     "output_type": "stream",
     "text": [
      "/home/alina/workspace/scaa/method-embedding/SourceCodeTools/code/data/dataset/Dataset.py:129: FutureWarning: The frame.append method is deprecated and will be removed from pandas in a future version. Use pandas.concat instead.\n",
      "  self.nodes = self.nodes.append(new_nodes, ignore_index=True)\n",
      "/home/alina/workspace/scaa/method-embedding/SourceCodeTools/code/data/dataset/Dataset.py:130: FutureWarning: The frame.append method is deprecated and will be removed from pandas in a future version. Use pandas.concat instead.\n",
      "  self.edges = self.edges.append(new_edges, ignore_index=True)\n"
     ]
    }
   ],
   "source": [
    "dataset = SourceGraphDataset(\n",
    "    **{**config[\"DATASET\"], **config[\"TOKENIZER\"]}\n",
    ")"
   ]
  },
  {
   "cell_type": "markdown",
   "id": "897d41bf",
   "metadata": {},
   "source": [
    "# Declare target loading function (labels)"
   ]
  },
  {
   "cell_type": "code",
   "execution_count": 10,
   "id": "c279f43e",
   "metadata": {
    "tags": []
   },
   "outputs": [],
   "source": [
    "def load_labels():\n",
    "    filecontent = unpersist(filecontent_path)\n",
    "    return filecontent[[\"id\", \"user\"]].rename({\"id\": \"src\", \"user\": \"dst\"}, axis=1)"
   ]
  },
  {
   "cell_type": "markdown",
   "id": "1ac27d90",
   "metadata": {},
   "source": [
    "One or several objectives could be used"
   ]
  },
  {
   "cell_type": "code",
   "execution_count": 11,
   "id": "67605a81",
   "metadata": {},
   "outputs": [],
   "source": [
    "class Trainer(SamplingMultitaskTrainer):\n",
    "    def create_objectives(self, dataset, tokenizer_path):\n",
    "        self.objectives = nn.ModuleList()\n",
    "        \n",
    "        self.objectives.append(\n",
    "            self._create_subgraph_objective(\n",
    "                objective_name=\"VariableMisuseClf\",\n",
    "                objective_class=SCAAClassifierObjective,\n",
    "                dataset=dataset,\n",
    "                tokenizer_path=tokenizer_path,\n",
    "                labels_fn=load_labels,\n",
    "            )\n",
    "        )"
   ]
  },
  {
   "cell_type": "code",
   "execution_count": 12,
   "id": "393251c2",
   "metadata": {},
   "outputs": [
    {
     "name": "stderr",
     "output_type": "stream",
     "text": [
      "\n",
      "NOTE: Using experimental fast data loading logic. To disable, pass\n",
      "    \"--load_fast=false\" and report issues on GitHub. More details:\n",
      "    https://github.com/tensorflow/tensorboard/issues/4784\n",
      "\n"
     ]
    },
    {
     "name": "stdout",
     "output_type": "stream",
     "text": [
      "Tensorflow listening on http://localhost:6006/\n"
     ]
    }
   ],
   "source": [
    "# %tensorboard --logdir data\n",
    "from tensorboard import program\n",
    "\n",
    "tracking_address = './eamples/one_to_one/' # the path of your log file.\n",
    "\n",
    "tb = program.TensorBoard()\n",
    "tb.configure(argv=[None, '--logdir', tracking_address])\n",
    "url = tb.launch()\n",
    "print(f\"Tensorflow listening on {url}\")"
   ]
  },
  {
   "cell_type": "code",
   "execution_count": null,
   "id": "369ed1bb",
   "metadata": {},
   "outputs": [
    {
     "name": "stderr",
     "output_type": "stream",
     "text": [
      "Precompute Target Embeddings:   0%|                                                                                     | 0/44 [00:00<?, ?it/s]"
     ]
    },
    {
     "name": "stdout",
     "output_type": "stream",
     "text": [
      "Number of nodes 758247\n"
     ]
    },
    {
     "name": "stderr",
     "output_type": "stream",
     "text": [
      "Precompute Target Embeddings: 100%|████████████████████████████████████████████████████████████████████████████| 44/44 [03:32<00:00,  4.84s/it]\n",
      "Epoch 0:   0%|                                                                                                          | 0/42 [00:00<?, ?it/s]"
     ]
    },
    {
     "name": "stdout",
     "output_type": "stream",
     "text": [
      "embs torch.Size([128, 100])\n"
     ]
    },
    {
     "name": "stderr",
     "output_type": "stream",
     "text": [
      "Epoch 0:   2%|██▎                                                                                               | 1/42 [00:15<10:29, 15.35s/it]"
     ]
    },
    {
     "name": "stdout",
     "output_type": "stream",
     "text": [
      "embs torch.Size([128, 100])\n"
     ]
    },
    {
     "name": "stderr",
     "output_type": "stream",
     "text": [
      "Epoch 0:   5%|████▋                                                                                             | 2/42 [00:30<10:10, 15.26s/it]"
     ]
    },
    {
     "name": "stdout",
     "output_type": "stream",
     "text": [
      "embs torch.Size([128, 100])\n"
     ]
    },
    {
     "name": "stderr",
     "output_type": "stream",
     "text": [
      "Epoch 0:   7%|███████                                                                                           | 3/42 [00:44<09:44, 14.99s/it]"
     ]
    },
    {
     "name": "stdout",
     "output_type": "stream",
     "text": [
      "embs torch.Size([128, 100])\n"
     ]
    }
   ],
   "source": [
    "training_procedure(\n",
    "    dataset, \n",
    "    model_name=RGGAN, \n",
    "    model_params=config[\"MODEL\"],\n",
    "    trainer_params=config[\"TRAINING\"],\n",
    "    model_base_path=get_model_base(config[\"TRAINING\"], get_name(RGGAN, str(datetime.now()))),\n",
    "    trainer=Trainer\n",
    ")"
   ]
  },
  {
   "cell_type": "code",
   "execution_count": null,
   "id": "879cf5e3",
   "metadata": {},
   "outputs": [],
   "source": []
  },
  {
   "cell_type": "code",
   "execution_count": null,
   "id": "9b91dd03",
   "metadata": {},
   "outputs": [],
   "source": []
  }
 ],
 "metadata": {
  "interpreter": {
   "hash": "916dbcbb3f70747c44a77c7bcd40155683ae19c65e1c03b4aa3499c5328201f1"
  },
  "kernelspec": {
   "display_name": "Python 3 (ipykernel)",
   "language": "python",
   "name": "python3"
  },
  "language_info": {
   "codemirror_mode": {
    "name": "ipython",
    "version": 3
   },
   "file_extension": ".py",
   "mimetype": "text/x-python",
   "name": "python",
   "nbconvert_exporter": "python",
   "pygments_lexer": "ipython3",
   "version": "3.9.5"
  }
 },
 "nbformat": 4,
 "nbformat_minor": 5
}

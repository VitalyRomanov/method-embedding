{
 "cells": [
  {
   "cell_type": "code",
   "execution_count": 1,
   "id": "befdf471-3e2e-45e3-b238-8b69dfe0148f",
   "metadata": {},
   "outputs": [],
   "source": [
    "from SourceCodeTools.code.data.dataset.Dataset import SourceGraphDataset, read_or_create_gnn_dataset\n",
    "from SourceCodeTools.models.graph.train.sampling_multitask2 import SamplingMultitaskTrainer\n",
    "from random import random\n",
    "\n",
    "from SourceCodeTools.models.training_config import get_config, save_config, load_config\n",
    "from SourceCodeTools.code.data.dataset.Dataset import SourceGraphDataset, filter_dst_by_freq\n",
    "from SourceCodeTools.models.graph.train.sampling_multitask2 import training_procedure, SamplingMultitaskTrainer\n",
    "from SourceCodeTools.models.graph.train.objectives.NodeClassificationObjective import NodeClassifierObjective\n",
    "from SourceCodeTools.models.graph.train.objectives.SubgraphClassifierObjective import SubgraphAbstractObjective, \\\n",
    "    SubgraphClassifierObjective, SubgraphEmbeddingObjective\n",
    "from SourceCodeTools.models.graph.train.objectives.SubgraphEmbedderObjective import SubgraphEmbeddingObjective, \\\n",
    "    SubgraphMatchingObjective\n",
    "from SourceCodeTools.models.graph.train.utils import get_name, get_model_base\n",
    "from SourceCodeTools.models.graph import RGGAN\n",
    "from SourceCodeTools.tabular.common import compact_property\n",
    "from SourceCodeTools.code.data.file_utils import unpersist\n",
    "from SourceCodeTools.models.graph.train.objectives.SCAAClassifierObjetive import SCAAClassifierObjective\n",
    "\n",
    "\n",
    "import dgl\n",
    "import torch\n",
    "import numpy as np\n",
    "from argparse import Namespace\n",
    "from torch import nn\n",
    "from datetime import datetime\n",
    "from os.path import join\n",
    "from functools import partial"
   ]
  },
  {
   "cell_type": "code",
   "execution_count": 2,
   "id": "64226cdb-98dc-4b5d-84eb-2453428d4fee",
   "metadata": {},
   "outputs": [],
   "source": [
    "data_path = \"./examples/one_vs_10/with_ast\"\n",
    "subgraph_partition = join(data_path, \"subgraph_partition.json.bz2\")\n",
    "tokenizer_path = \"sentencepiece_bpe.model\"\n",
    "\n",
    "config = get_config(\n",
    "    subgraph_id_column=\"file_id\",\n",
    "    data_path=data_path,\n",
    "    model_output_dir=data_path,\n",
    "    subgraph_partition=subgraph_partition,\n",
    "    tokenizer_path=tokenizer_path,\n",
    "    objectives=\"scaa_match\",\n",
    "    measure_scores=True,\n",
    "    dilate_scores=1,\n",
    "    epochs=1000,\n",
    ")"
   ]
  },
  {
   "cell_type": "code",
   "execution_count": 3,
   "id": "e902a433-0da4-4700-80f0-59c8e6bcc262",
   "metadata": {},
   "outputs": [],
   "source": [
    "base_path = data_path + '/u-pooling 1000 epochs 90 files/'"
   ]
  },
  {
   "cell_type": "code",
   "execution_count": 4,
   "id": "da2cc3a0-0b52-46ad-b4ad-57c1f4d54b8f",
   "metadata": {},
   "outputs": [],
   "source": [
    "# dataset = read_or_create_gnn_dataset(\n",
    "#     args={**config[\"DATASET\"], **config[\"TOKENIZER\"]},\n",
    "#     model_base=base_path, restore_state=True\n",
    "# )"
   ]
  },
  {
   "cell_type": "code",
   "execution_count": 5,
   "id": "6d92b725-bd1c-4a52-bc7d-f19d512d8703",
   "metadata": {},
   "outputs": [
    {
     "name": "stdout",
     "output_type": "stream",
     "text": [
      "total 437668\n",
      "drwxrwxr-x 12 alina alina      4096 июн  5 14:11  \u001b[0m\u001b[01;34m.\u001b[0m/\n",
      "drwxrwxr-x  3 alina alina      4096 мая 27 15:20  \u001b[01;34m..\u001b[0m/\n",
      "-rw-rw-r--  1 alina alina    886578 мая 29 20:15  \u001b[01;31m10authors.zip\u001b[0m\n",
      "drwxrwxr-x  2 alina alina      4096 июн  5 01:15 \u001b[01;34m'attention 1000 epochs 90 files'\u001b[0m/\n",
      "-rw-rw-r--  1 alina alina 149248748 июн  5 14:11 \u001b[01;31m'attention 1000 epochs 90 files.zip'\u001b[0m\n",
      "-rw-rw-r--  1 alina alina 148686875 мая 25 21:30  \u001b[01;31mattention.zip\u001b[0m\n",
      "-rw-rw-r--  1 alina alina    439163 мая 25 20:16  \u001b[01;31mcommon_edges.json.bz2\u001b[0m\n",
      "-rw-rw-r--  1 alina alina     30830 мая 25 20:16  \u001b[01;31mcommon_filecontent.json.bz2\u001b[0m\n",
      "-rw-rw-r--  1 alina alina    225459 мая 25 20:16  \u001b[01;31mcommon_nodes.json.bz2\u001b[0m\n",
      "-rw-rw-r--  1 alina alina    179492 мая 25 20:16  \u001b[01;31mcommon_offsets.json.bz2\u001b[0m\n",
      "-rw-rw-r--  1 alina alina     12880 мая 25 20:16  \u001b[01;31mnode_names.json.bz2\u001b[0m\n",
      "drwxrwxr-x  2 alina alina      4096 мая 26 23:55  \u001b[01;34mold_pooling_hinge_loss_10_classes\u001b[0m/\n",
      "-rw-rw-r--  1 alina alina 148389877 мая 25 21:29  \u001b[01;31mold_pooling.zip\u001b[0m\n",
      "drwxrwxr-x  2 alina alina      4096 мая 25 20:20  \u001b[01;34mRGGAN-2022-05-25-20-20-11-200054\u001b[0m/\n",
      "drwxrwxr-x  2 alina alina      4096 мая 25 20:21  \u001b[01;34mRGGAN-2022-05-25-20-21-45-967956\u001b[0m/\n",
      "drwxrwxr-x  2 alina alina      4096 мая 25 20:39  \u001b[01;34mRGGAN-2022-05-25-20-39-14-233229\u001b[0m/\n",
      "drwxrwxr-x  2 alina alina      4096 мая 25 20:54  \u001b[01;34mRGGAN-2022-05-25-20-54-39-977531\u001b[0m/\n",
      "drwxrwxr-x  2 alina alina      4096 мая 25 21:03  \u001b[01;34mRGGAN-2022-05-25-21-03-28-065717\u001b[0m/\n",
      "drwxrwxr-x  2 alina alina      4096 июн  4 17:05  \u001b[01;34mRGGAN-2022-05-25-21-12-30-940493\u001b[0m/\n",
      "drwxrwxr-x  2 alina alina      4096 июн  4 17:39  \u001b[01;34mRGGAN-2022-06-04-17-39-41-241926\u001b[0m/\n",
      "-rw-rw-r--  1 alina alina       334 мая 25 20:19  \u001b[01;31msubgraph_partition.json.bz2\u001b[0m\n",
      "drwxrwxr-x  2 alina alina      4096 июн  5 14:13 \u001b[01;34m'u-pooling 1000 epochs 90 files'\u001b[0m/\n"
     ]
    }
   ],
   "source": [
    "! ls -al examples/one_vs_10/with_ast/"
   ]
  },
  {
   "cell_type": "code",
   "execution_count": 6,
   "id": "2ade8b5d-7261-480c-b832-8a476e9c6740",
   "metadata": {},
   "outputs": [
    {
     "name": "stderr",
     "output_type": "stream",
     "text": [
      "/home/alina/workspace/scaa/method-embedding/SourceCodeTools/code/data/dataset/Dataset.py:131: FutureWarning: The frame.append method is deprecated and will be removed from pandas in a future version. Use pandas.concat instead.\n",
      "  self.nodes = self.nodes.append(new_nodes, ignore_index=True)\n",
      "/home/alina/workspace/scaa/method-embedding/SourceCodeTools/code/data/dataset/Dataset.py:132: FutureWarning: The frame.append method is deprecated and will be removed from pandas in a future version. Use pandas.concat instead.\n",
      "  self.edges = self.edges.append(new_edges, ignore_index=True)\n"
     ]
    }
   ],
   "source": [
    "dataset = SourceGraphDataset(\n",
    "    **{**config[\"DATASET\"], **config[\"TOKENIZER\"]}\n",
    ")"
   ]
  },
  {
   "cell_type": "code",
   "execution_count": 7,
   "id": "6cfd15ee-913c-4bb8-94ba-f5c76122b43a",
   "metadata": {},
   "outputs": [
    {
     "data": {
      "text/plain": [
       "{'DATASET': {'data_path': './examples/one_vs_10/with_ast',\n",
       "  'train_frac': 0.9,\n",
       "  'filter_edges': None,\n",
       "  'min_count_for_objectives': 5,\n",
       "  'self_loops': False,\n",
       "  'use_node_types': False,\n",
       "  'use_edge_types': False,\n",
       "  'no_global_edges': False,\n",
       "  'remove_reverse': False,\n",
       "  'custom_reverse': None,\n",
       "  'restricted_id_pool': None,\n",
       "  'random_seed': None,\n",
       "  'subgraph_id_column': 'file_id',\n",
       "  'subgraph_partition': './examples/one_vs_10/with_ast/subgraph_partition.json.bz2'},\n",
       " 'TRAINING': {'model_output_dir': './examples/one_vs_10/with_ast',\n",
       "  'pretrained': None,\n",
       "  'pretraining_phase': 0,\n",
       "  'sampling_neighbourhood_size': 10,\n",
       "  'neg_sampling_factor': 3,\n",
       "  'use_layer_scheduling': False,\n",
       "  'schedule_layers_every': 10,\n",
       "  'elem_emb_size': 100,\n",
       "  'embedding_table_size': 200000,\n",
       "  'epochs': 1000,\n",
       "  'batch_size': 128,\n",
       "  'learning_rate': 0.001,\n",
       "  'objectives': 'scaa_match',\n",
       "  'save_each_epoch': False,\n",
       "  'save_checkpoints': True,\n",
       "  'early_stopping': False,\n",
       "  'early_stopping_tolerance': 20,\n",
       "  'force_w2v_ns': False,\n",
       "  'use_ns_groups': False,\n",
       "  'nn_index': 'brute',\n",
       "  'metric': 'inner_prod',\n",
       "  'measure_scores': True,\n",
       "  'dilate_scores': 1,\n",
       "  'gpu': -1,\n",
       "  'external_dataset': None,\n",
       "  'restore_state': False},\n",
       " 'MODEL': {'node_emb_size': 100,\n",
       "  'h_dim': 100,\n",
       "  'n_layers': 5,\n",
       "  'use_self_loop': True,\n",
       "  'use_gcn_checkpoint': False,\n",
       "  'use_att_checkpoint': False,\n",
       "  'use_gru_checkpoint': False,\n",
       "  'num_bases': 10,\n",
       "  'dropout': 0.0,\n",
       "  'activation': 'tanh'},\n",
       " 'TOKENIZER': {'tokenizer_path': 'sentencepiece_bpe.model'}}"
      ]
     },
     "execution_count": 7,
     "metadata": {},
     "output_type": "execute_result"
    }
   ],
   "source": [
    "config"
   ]
  },
  {
   "cell_type": "code",
   "execution_count": 8,
   "id": "7410d7b5-79cb-4acc-aa23-9029874de594",
   "metadata": {},
   "outputs": [],
   "source": [
    "config['TRAINING']['model_base_path'] = base_path\n",
    "config['TRAINING']['batch_size'] = 64\n",
    "\n",
    "config['MODEL'][\"activation\"] = eval(f\"nn.functional.{config['MODEL']['activation']}\")\n",
    "# config['TRAINING']['objectives'] = ['subgraph_match']"
   ]
  },
  {
   "cell_type": "code",
   "execution_count": 9,
   "id": "2ba6475d-8428-4fa4-8792-92be62afe360",
   "metadata": {},
   "outputs": [
    {
     "name": "stdout",
     "output_type": "stream",
     "text": [
      "Number of nodes 17892\n"
     ]
    },
    {
     "name": "stderr",
     "output_type": "stream",
     "text": [
      "2022-06-05 17:04:18.193761: W tensorflow/stream_executor/platform/default/dso_loader.cc:64] Could not load dynamic library 'libcudart.so.11.0'; dlerror: libcudart.so.11.0: cannot open shared object file: No such file or directory\n",
      "2022-06-05 17:04:18.193798: I tensorflow/stream_executor/cuda/cudart_stub.cc:29] Ignore above cudart dlerror if you do not have a GPU set up on your machine.\n"
     ]
    }
   ],
   "source": [
    "model = SamplingMultitaskTrainer(dataset=dataset, \n",
    "                                 model_name=RGGAN,\n",
    "                                 model_params=config[\"MODEL\"],\n",
    "                                 trainer_params=config[\"TRAINING\"], \n",
    "                                 restore=True)"
   ]
  },
  {
   "cell_type": "code",
   "execution_count": 10,
   "id": "493431d2-72dc-4636-988b-10c2900989d2",
   "metadata": {},
   "outputs": [
    {
     "name": "stdout",
     "output_type": "stream",
     "text": [
      "True\n"
     ]
    },
    {
     "data": {
      "text/plain": [
       "0"
      ]
     },
     "execution_count": 10,
     "metadata": {},
     "output_type": "execute_result"
    }
   ],
   "source": [
    "import pandas as pd\n",
    "keys = list(model.objectives[0].subgraph_mapping.keys())\n",
    "print(keys[-1] is pd.NA)\n",
    "len(model.objectives[0].subgraph_mapping[keys[-1]])"
   ]
  },
  {
   "cell_type": "code",
   "execution_count": 11,
   "id": "bf394f00-3f3f-411f-a7b7-469065cc8975",
   "metadata": {},
   "outputs": [
    {
     "name": "stderr",
     "output_type": "stream",
     "text": [
      "Computer Subgraph Embeddings:   0%|                                                                                      | 0/2 [00:00<?, ?it/s]/home/alina/.local/lib/python3.9/site-packages/torch/nn/functional.py:1794: UserWarning: nn.functional.tanh is deprecated. Use torch.tanh instead.\n",
      "  warnings.warn(\"nn.functional.tanh is deprecated. Use torch.tanh instead.\")\n",
      "Computer Subgraph Embeddings: 100%|██████████████████████████████████████████████████████████████████████████████| 2/2 [00:02<00:00,  1.36s/it]\n"
     ]
    }
   ],
   "source": [
    "embds = model.compute_subgraph_embeddings(model.objectives[0])"
   ]
  },
  {
   "cell_type": "code",
   "execution_count": 12,
   "id": "43ea4181-2368-4506-b8bc-0118bc55b04f",
   "metadata": {},
   "outputs": [
    {
     "name": "stdout",
     "output_type": "stream",
     "text": [
      "torch.Size([90]) torch.Size([90, 100])\n"
     ]
    }
   ],
   "source": [
    "ids, emb = embds\n",
    "print(ids.shape, emb.shape)"
   ]
  },
  {
   "cell_type": "code",
   "execution_count": 13,
   "id": "19bd4820-f736-4404-9cb9-12c9cbe9a2b2",
   "metadata": {},
   "outputs": [
    {
     "data": {
      "text/plain": [
       "90"
      ]
     },
     "execution_count": 13,
     "metadata": {},
     "output_type": "execute_result"
    }
   ],
   "source": [
    "len(np.unique(ids))"
   ]
  },
  {
   "cell_type": "code",
   "execution_count": null,
   "id": "6828e1a6-daa2-452f-bb6c-2823324db770",
   "metadata": {},
   "outputs": [],
   "source": []
  },
  {
   "cell_type": "code",
   "execution_count": 14,
   "id": "dee03615-b7b5-43dc-86ec-a05682606ef1",
   "metadata": {},
   "outputs": [],
   "source": [
    "dataset = unpersist(join('examples/one_vs_10/with_ast', \"common_filecontent.json.bz2\"))\n",
    "dataset = dataset[['id', 'task', 'user']]"
   ]
  },
  {
   "cell_type": "code",
   "execution_count": 15,
   "id": "156a6675-8b10-4fcd-9bc2-bf934f4dd617",
   "metadata": {},
   "outputs": [
    {
     "data": {
      "text/html": [
       "<div>\n",
       "<style scoped>\n",
       "    .dataframe tbody tr th:only-of-type {\n",
       "        vertical-align: middle;\n",
       "    }\n",
       "\n",
       "    .dataframe tbody tr th {\n",
       "        vertical-align: top;\n",
       "    }\n",
       "\n",
       "    .dataframe thead th {\n",
       "        text-align: right;\n",
       "    }\n",
       "</style>\n",
       "<table border=\"1\" class=\"dataframe\">\n",
       "  <thead>\n",
       "    <tr style=\"text-align: right;\">\n",
       "      <th></th>\n",
       "      <th>id</th>\n",
       "      <th>task</th>\n",
       "      <th>user</th>\n",
       "    </tr>\n",
       "  </thead>\n",
       "  <tbody>\n",
       "    <tr>\n",
       "      <th>0</th>\n",
       "      <td>888</td>\n",
       "      <td>3</td>\n",
       "      <td>Itachi_uchiha</td>\n",
       "    </tr>\n",
       "    <tr>\n",
       "      <th>1</th>\n",
       "      <td>887</td>\n",
       "      <td>2</td>\n",
       "      <td>Itachi_uchiha</td>\n",
       "    </tr>\n",
       "    <tr>\n",
       "      <th>2</th>\n",
       "      <td>644</td>\n",
       "      <td>4</td>\n",
       "      <td>Fatality2412</td>\n",
       "    </tr>\n",
       "    <tr>\n",
       "      <th>3</th>\n",
       "      <td>5341</td>\n",
       "      <td>8</td>\n",
       "      <td>Fatality2412</td>\n",
       "    </tr>\n",
       "    <tr>\n",
       "      <th>4</th>\n",
       "      <td>5318</td>\n",
       "      <td>5</td>\n",
       "      <td>Chuckminster</td>\n",
       "    </tr>\n",
       "    <tr>\n",
       "      <th>...</th>\n",
       "      <td>...</td>\n",
       "      <td>...</td>\n",
       "      <td>...</td>\n",
       "    </tr>\n",
       "    <tr>\n",
       "      <th>85</th>\n",
       "      <td>5314</td>\n",
       "      <td>5</td>\n",
       "      <td>BarryFam</td>\n",
       "    </tr>\n",
       "    <tr>\n",
       "      <th>86</th>\n",
       "      <td>957</td>\n",
       "      <td>2</td>\n",
       "      <td>JoelSpringer</td>\n",
       "    </tr>\n",
       "    <tr>\n",
       "      <th>87</th>\n",
       "      <td>5311</td>\n",
       "      <td>6</td>\n",
       "      <td>Avi_Sri</td>\n",
       "    </tr>\n",
       "    <tr>\n",
       "      <th>88</th>\n",
       "      <td>454</td>\n",
       "      <td>4</td>\n",
       "      <td>Chuckminster</td>\n",
       "    </tr>\n",
       "    <tr>\n",
       "      <th>89</th>\n",
       "      <td>5334</td>\n",
       "      <td>5</td>\n",
       "      <td>DrMeers</td>\n",
       "    </tr>\n",
       "  </tbody>\n",
       "</table>\n",
       "<p>90 rows × 3 columns</p>\n",
       "</div>"
      ],
      "text/plain": [
       "      id  task           user\n",
       "0    888     3  Itachi_uchiha\n",
       "1    887     2  Itachi_uchiha\n",
       "2    644     4   Fatality2412\n",
       "3   5341     8   Fatality2412\n",
       "4   5318     5   Chuckminster\n",
       "..   ...   ...            ...\n",
       "85  5314     5       BarryFam\n",
       "86   957     2   JoelSpringer\n",
       "87  5311     6        Avi_Sri\n",
       "88   454     4   Chuckminster\n",
       "89  5334     5        DrMeers\n",
       "\n",
       "[90 rows x 3 columns]"
      ]
     },
     "execution_count": 15,
     "metadata": {},
     "output_type": "execute_result"
    }
   ],
   "source": [
    "dataset"
   ]
  },
  {
   "cell_type": "code",
   "execution_count": 25,
   "id": "faccadbf-31aa-4140-b85a-ddbd6be2abd5",
   "metadata": {},
   "outputs": [
    {
     "data": {
      "text/plain": [
       "True"
      ]
     },
     "execution_count": 25,
     "metadata": {},
     "output_type": "execute_result"
    }
   ],
   "source": []
  },
  {
   "cell_type": "code",
   "execution_count": 16,
   "id": "94b8389a-5408-4703-bd14-13baa33dc54b",
   "metadata": {},
   "outputs": [],
   "source": [
    "# task 1 - show on task-level\n",
    "from sklearn.manifold import TSNE"
   ]
  },
  {
   "cell_type": "code",
   "execution_count": 17,
   "id": "f62c1a61-0425-4782-95b6-26c0b30ebee8",
   "metadata": {},
   "outputs": [
    {
     "name": "stderr",
     "output_type": "stream",
     "text": [
      "/home/alina/.local/lib/python3.9/site-packages/sklearn/manifold/_t_sne.py:780: FutureWarning: The default initialization in TSNE will change from 'random' to 'pca' in 1.2.\n",
      "  warnings.warn(\n",
      "/home/alina/.local/lib/python3.9/site-packages/sklearn/manifold/_t_sne.py:790: FutureWarning: The default learning rate in TSNE will change from 200.0 to 'auto' in 1.2.\n",
      "  warnings.warn(\n"
     ]
    }
   ],
   "source": [
    "x = TSNE(n_components=2).fit_transform(emb)\n",
    "ids = ids.tolist()"
   ]
  },
  {
   "cell_type": "code",
   "execution_count": 18,
   "id": "062caf27-e129-4c5c-948c-cccaee231f3b",
   "metadata": {},
   "outputs": [
    {
     "data": {
      "image/png": "[encoded data removed]",
      "text/plain": [
       "<Figure size 576x576 with 1 Axes>"
      ]
     },
     "metadata": {
      "needs_background": "light"
     },
     "output_type": "display_data"
    }
   ],
   "source": [
    "import matplotlib.pyplot as plt\n",
    "plt.figure(figsize=(8, 8))\n",
    "for task in range(9):\n",
    "    good_ids = dataset[dataset.task == task].id.values\n",
    "    indexes = np.where([n in good_ids for n in ids])[0]\n",
    "    xs = x[indexes].T\n",
    "    plt.plot(xs[0], xs[1], 'o', label='task ' + str(task))\n",
    "    \n",
    "plt.legend()\n",
    "plt.savefig('90u_pooling1000task')"
   ]
  },
  {
   "cell_type": "code",
   "execution_count": 19,
   "id": "2cb6b9b6-a3d9-4dea-858f-26185a2aed96",
   "metadata": {},
   "outputs": [
    {
     "data": {
      "image/png": "[encoded data removed]",
      "text/plain": [
       "<Figure size 576x576 with 1 Axes>"
      ]
     },
     "metadata": {
      "needs_background": "light"
     },
     "output_type": "display_data"
    }
   ],
   "source": [
    "# task 2 - show on user-level\n",
    "plt.figure(figsize=(8, 8))\n",
    "users = np.unique(dataset.user.values)\n",
    "for user in users:\n",
    "    good_ids = dataset[dataset.user == user].id.values\n",
    "    indexes = np.where([n in good_ids for n in ids])[0]\n",
    "    xs = x[indexes].T\n",
    "    plt.plot(xs[0], xs[1], 'o', label='user ' + user)\n",
    "    \n",
    "plt.legend()\n",
    "plt.savefig('90u_pooling1000user')"
   ]
  },
  {
   "cell_type": "code",
   "execution_count": null,
   "id": "ffa83416-2037-49b8-aab7-21a0dcf4fc82",
   "metadata": {},
   "outputs": [],
   "source": []
  }
 ],
 "metadata": {
  "kernelspec": {
   "display_name": "Python 3 (ipykernel)",
   "language": "python",
   "name": "python3"
  },
  "language_info": {
   "codemirror_mode": {
    "name": "ipython",
    "version": 3
   },
   "file_extension": ".py",
   "mimetype": "text/x-python",
   "name": "python",
   "nbconvert_exporter": "python",
   "pygments_lexer": "ipython3",
   "version": "3.9.5"
  }
 },
 "nbformat": 4,
 "nbformat_minor": 5
}

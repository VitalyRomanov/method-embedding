{
 "cells": [
  {
   "cell_type": "code",
   "execution_count": 1,
   "metadata": {},
   "outputs": [],
   "source": [
    "import os\n",
    "import json\n",
    "from pprint import pprint"
   ]
  },
  {
   "cell_type": "code",
   "execution_count": 5,
   "metadata": {},
   "outputs": [],
   "source": [
    "pythondatapath = \"/home/ltv/data/datasets/source_code/codesearchnet/python/python/final/jsonl/train\" \n",
    "javadatapath = \"/home/ltv/data/datasets/source_code/codesearchnet/java/java/final/jsonl/train\"\n",
    "\n",
    "target_lang = 'python'\n",
    "if target_lang == 'python':\n",
    "    datapath = pythondatapath\n",
    "elif target_lang == 'java':\n",
    "    datapath = javadatapath"
   ]
  },
  {
   "cell_type": "code",
   "execution_count": 6,
   "metadata": {},
   "outputs": [],
   "source": [
    "repos = set()\n",
    "total_functions = 0\n",
    "\n",
    "for filename in os.listdir(datapath):\n",
    "    if filename.split(\".\")[-1] == \"jsonl\":\n",
    "        full_path = os.path.join(datapath, filename)\n",
    "        with open(full_path) as datafile:\n",
    "            for line in datafile:\n",
    "                data = json.loads(line)\n",
    "                repos.add(data['repo'])\n",
    "                total_functions += 1"
   ]
  },
  {
   "cell_type": "code",
   "execution_count": 7,
   "metadata": {},
   "outputs": [
    {
     "name": "stdout",
     "output_type": "stream",
     "text": [
      "Total codesearchnet functions: 412178\n",
      "Total repos: 12231\n"
     ]
    }
   ],
   "source": [
    "print(\"Total codesearchnet functions:\", total_functions)\n",
    "print(\"Total repos:\", len(repos))"
   ]
  },
  {
   "cell_type": "code",
   "execution_count": 18,
   "metadata": {},
   "outputs": [],
   "source": [
    "def export_repos(repos, lang):\n",
    "    with open(\"codesearchnet-%s-unique-repos.txt\" % lang, \"w\") as repos_file:\n",
    "        repos_list = list(repos)\n",
    "        repos_list = sorted(repos_list)\n",
    "        repos_file.write(\"owner\\trepo\\tlocation\\treadme\\tzip\\n\")\n",
    "        for repo_n in repos_list:\n",
    "            owner, name = tuple(repo_n.split(\"/\"))\n",
    "            repos_file.write(\"%s\\t%s\\t\" % (owner, name))\n",
    "            repos_file.write(\"https://github.com/%s\\t\" % repo_n),\n",
    "            repos_file.write(\"https://raw.githubusercontent.com/%s/%s/master/README.md\\t\" % (owner, name))\n",
    "            repos_file.write(\"https://codeload.github.com/%s/%s/zip/master\\n\" % (owner, name))\n",
    "#             repos_file.write(\"https://github.com/%s\\n\" % repo_n)"
   ]
  },
  {
   "cell_type": "code",
   "execution_count": 19,
   "metadata": {},
   "outputs": [],
   "source": [
    "export_repos(repos, target_lang)"
   ]
  },
  {
   "cell_type": "code",
   "execution_count": null,
   "metadata": {},
   "outputs": [],
   "source": [
    "# if target_lang != 'python':\n",
    "#     os.exit()"
   ]
  },
  {
   "cell_type": "code",
   "execution_count": 45,
   "metadata": {},
   "outputs": [],
   "source": [
    "def join_with_packages(repos, packages):\n",
    "    with open(\"codesearchnet-%s-joined-repos.txt\" % target_lang, \"w\") as repos_file:\n",
    "        repo_names = set(list(map(lambda x: x.split(\"/\")[-1].lower(), repos)))\n",
    "        \n",
    "        common = []\n",
    "        for package in packages:\n",
    "            if package.lower() in repo_names:\n",
    "                common.append(package)\n",
    "                \n",
    "        for repo_n in common:\n",
    "            repos_file.write(\"%s\\n\" % repo_n)\n",
    "\n",
    "with open(\"%s-data/%s-source-graph-packages.txt\" % (target_lang, target_lang)) as sgp:\n",
    "    packages = sgp.read().strip().split(\"\\n\")\n",
    "    join_with_packages(repos, packages)"
   ]
  },
  {
   "cell_type": "code",
   "execution_count": 50,
   "metadata": {},
   "outputs": [],
   "source": [
    "with open(\"codesearchnet-%s-joined-repos.txt\" % target_lang, \"r\") as joined_repos_file:\n",
    "    packages = set(joined_repos_file.read().strip().split(\"\\n\"))\n",
    "    \n",
    "functions = []\n",
    "\n",
    "for filename in os.listdir(datapath):\n",
    "    if filename.split(\".\")[-1] == \"jsonl\":\n",
    "        full_path = os.path.join(datapath, filename)\n",
    "        with open(full_path) as datafile:\n",
    "            for line in datafile:\n",
    "                data = json.loads(line)\n",
    "                \n",
    "                repo_name = data['repo'].split(\"/\")[-1].lower()\n",
    "                \n",
    "                if repo_name in packages:\n",
    "                    entry = {\n",
    "                        'repo': data['repo'],\n",
    "                        'path': data['path'],\n",
    "                        'func_name': data['func_name'],\n",
    "                    }\n",
    "#                     entry = data['path'].replace('.py', '.').replace(\"/\",'.') + data['func_name']\n",
    "                    functions.append(entry)\n",
    "                    \n",
    "with open(\"codesearchnet-%s-joined-functions.txt\" % target_lang, \"w\") as func_sink:\n",
    "    func_sink.write(\"%s\\n\" % json.dumps(functions))\n",
    "#     for f in functions:\n",
    "#         func_sink.write(\"%s\\n\" % f)\n"
   ]
  },
  {
   "cell_type": "code",
   "execution_count": 51,
   "metadata": {},
   "outputs": [
    {
     "name": "stdout",
     "output_type": "stream",
     "text": [
      "Common functions: 5879\n"
     ]
    }
   ],
   "source": [
    "print(\"Common functions:\", len(functions))"
   ]
  }
 ],
 "metadata": {
  "kernelspec": {
   "display_name": "Python 3",
   "language": "python",
   "name": "python3"
  },
  "language_info": {
   "codemirror_mode": {
    "name": "ipython",
    "version": 3
   },
   "file_extension": ".py",
   "mimetype": "text/x-python",
   "name": "python",
   "nbconvert_exporter": "python",
   "pygments_lexer": "ipython3",
   "version": "3.8.2"
  }
 },
 "nbformat": 4,
 "nbformat_minor": 2
}
